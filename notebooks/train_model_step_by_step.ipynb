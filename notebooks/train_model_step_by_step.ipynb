{
 "cells": [
  {
   "cell_type": "markdown",
   "id": "7f8c5a66",
   "metadata": {},
   "source": [
    "# IMPORTS"
   ]
  },
  {
   "cell_type": "code",
   "execution_count": null,
   "id": "9c1c050c",
   "metadata": {},
   "outputs": [],
   "source": [
    "import CL_inference as cl_inference\n",
    "N_threads = cl_inference.train_tools.set_N_threads_(N_threads=1)\n",
    "    \n",
    "import os, sys\n",
    "import torch\n",
    "import numpy as np\n",
    "import matplotlib as mpl\n",
    "import matplotlib.pyplot as plt\n",
    "\n",
    "torch.set_num_threads(N_threads)\n",
    "torch.set_num_interop_threads(N_threads)\n",
    "\n",
    "%load_ext autoreload\n",
    "\n",
    "%matplotlib notebook\n",
    "plt.style.use('default')\n",
    "plt.close('all')\n",
    "\n",
    "font, rcnew = cl_inference.plot_utils.matplotlib_default_config()\n",
    "mpl.rc('font', **font)\n",
    "plt.rcParams.update(rcnew)\n",
    "plt.style.use('tableau-colorblind10')\n",
    "%config InlineBackend.figure_format = 'retina'\n",
    "\n",
    "device = cl_inference.train_tools.set_torch_device_()"
   ]
  },
  {
   "cell_type": "markdown",
   "id": "78f2a9b8",
   "metadata": {},
   "source": [
    "# SETUP - config file"
   ]
  },
  {
   "cell_type": "code",
   "execution_count": null,
   "id": "ff3c26a1",
   "metadata": {},
   "outputs": [],
   "source": [
    "config_file_name = \"conf_only_inference_also_baryons_models_all_kmax_0.6.yaml\""
   ]
  },
  {
   "cell_type": "code",
   "execution_count": null,
   "id": "df310979",
   "metadata": {},
   "outputs": [],
   "source": [
    "config = cl_inference.train_tools.load_config_file(\n",
    "    path_to_config=\"../config_files\",\n",
    "    config_file_name=config_file_name\n",
    ")"
   ]
  },
  {
   "cell_type": "markdown",
   "id": "e8a3b784",
   "metadata": {},
   "source": [
    "# LOAD DATSETS"
   ]
  },
  {
   "cell_type": "code",
   "execution_count": null,
   "id": "d8c59bc7",
   "metadata": {},
   "outputs": [],
   "source": [
    "path_save = os.path.join(config['path_save'], \"manual-sweep-0\")"
   ]
  },
  {
   "cell_type": "code",
   "execution_count": null,
   "id": "3d23682c",
   "metadata": {
    "scrolled": true
   },
   "outputs": [],
   "source": [
    "path_load               = config['path_load']\n",
    "list_model_names        = config['list_model_names']\n",
    "normalize               = config['normalize']\n",
    "\n",
    "NN_augs_batch           = config['NN_augs_batch']\n",
    "add_noise_Pk            = config['add_noise_Pk']\n",
    "kmax                    = config['kmax']\n",
    "include_baryon_params   = config['include_baryon_params']"
   ]
  },
  {
   "cell_type": "code",
   "execution_count": null,
   "id": "d63c96d5",
   "metadata": {},
   "outputs": [],
   "source": [
    "dsets = {}\n",
    "\n",
    "dset_name = \"TRAIN\"\n",
    "dsets[dset_name] = cl_inference.data_tools.def_data_loader(\n",
    "    path_load               = os.path.join(path_load, dset_name),\n",
    "    list_model_names        = list_model_names,\n",
    "    normalize               = normalize,\n",
    "    path_save_norm          = path_save,\n",
    "    path_load_norm          = None,\n",
    "    NN_augs_batch           = NN_augs_batch,\n",
    "    add_noise_Pk            = add_noise_Pk,\n",
    "    kmax                    = kmax,\n",
    "    include_baryon_params   = include_baryon_params\n",
    ")\n",
    "\n",
    "dset_name = \"VAL\"\n",
    "dsets[dset_name] = cl_inference.data_tools.def_data_loader(\n",
    "    path_load               = os.path.join(path_load, dset_name),\n",
    "    list_model_names        = list_model_names,\n",
    "    normalize               = normalize,\n",
    "    path_save_norm          = None,\n",
    "    path_load_norm          = path_save,\n",
    "    NN_augs_batch           = NN_augs_batch,\n",
    "    add_noise_Pk            = add_noise_Pk,\n",
    "    kmax                    = kmax,\n",
    "    include_baryon_params   = include_baryon_params\n",
    ")"
   ]
  },
  {
   "cell_type": "code",
   "execution_count": null,
   "id": "230a13d7",
   "metadata": {
    "scrolled": true
   },
   "outputs": [],
   "source": [
    "NN_plot = 5\n",
    "plot_as_Pk = False\n",
    "dset_plot = dsets[\"TRAIN\"]\n",
    "_, xx_plot, _ = dset_plot(batch_size=NN_plot, seed=0)\n",
    "\n",
    "if plot_as_Pk:\n",
    "    xx_plot = 10**(xx_plot*dset_plot.norm_std + dset_plot.norm_mean)\n",
    "    kmin=-2.3\n",
    "    N_kk = int(((kmax-kmin)/(0.6+2.3))*100)\n",
    "    kk = np.logspace(kmin, kmax, num=N_kk)\n",
    "else:\n",
    "    kk = np.arange(xx_plot.shape[-1])\n",
    "\n",
    "fig, ax = mpl.pyplot.subplots(1,1,figsize=(8,6))\n",
    "ax.set_ylabel(r'$P(k) \\left[ \\left(h^{-1} \\mathrm{Mpc}\\right)^{3} \\right]$')\n",
    "ax.set_xlabel(r'$\\mathrm{Wavenumber}\\, k \\left[ h\\, \\mathrm{Mpc}^{-1} \\right]$')\n",
    "colors = cl_inference.plot_utils.get_N_colors(NN_plot, mpl.colormaps['prism'])\n",
    "for ii_cosmo in range(xx_plot.shape[0]):\n",
    "    for ii_aug in range(xx_plot.shape[1]):\n",
    "        ax.plot(np.array(kk), xx_plot[ii_cosmo, ii_aug], c=colors[ii_cosmo], linestyle='-', lw=2, marker=None, ms=2)\n",
    "if plot_as_Pk:\n",
    "    ax.set_xscale('log')\n",
    "    ax.set_yscale('log')\n",
    "    ax.set_xlim([0.004, 4.5])\n",
    "    ax.set_ylim([40., 70000])\n",
    "    ax.axvline(10**kmax, c='k', ls=':', lw=1)\n",
    "else:\n",
    "    ax.set_xlim([-1., 100.])\n",
    "    ax.set_ylim([-2.5, 2.5])\n",
    "    ax.axvline(len(kk)-1, c='k', ls=':', lw=1)\n",
    "\n",
    "plt.tight_layout()\n",
    "plt.show()"
   ]
  },
  {
   "cell_type": "markdown",
   "id": "1a80b4b0",
   "metadata": {},
   "source": [
    "# MODEL ARCHITECTURE"
   ]
  },
  {
   "cell_type": "code",
   "execution_count": null,
   "id": "ac9bb919",
   "metadata": {},
   "outputs": [],
   "source": [
    "train_mode              = config['train_mode']\n",
    "inference_loss          = config['inference_loss']\n",
    "\n",
    "load_encoder_model_path = config['load_encoder_model_path']\n",
    "input_encoder           = config['input_encoder']\n",
    "hidden_layers_encoder   = config['hidden_layers_encoder']\n",
    "output_encoder          = config['output_encoder']\n",
    "\n",
    "hidden_layers_projector = config['hidden_layers_projector']\n",
    "output_projector        = config['output_projector']\n",
    "\n",
    "hidden_layers_inference = config['hidden_layers_inference']\n",
    "NN_params_out           = config['NN_params_out']\n",
    "\n",
    "load_inference_model_path = config['load_inference_model_path']\n",
    "load_projector_model_path = config['load_projector_model_path']"
   ]
  },
  {
   "cell_type": "code",
   "execution_count": null,
   "id": "0044db6b",
   "metadata": {},
   "outputs": [],
   "source": [
    "# ----------------------- define model encoder ----------------------- #\n",
    "\n",
    "assert input_encoder == dsets[\"TRAIN\"].xx.shape[-1], \"input_encoder from config file must coincide with xx size\"\n",
    "\n",
    "if train_mode == \"train_inference_fully_supervised\":\n",
    "    model_encoder = cl_inference.nn_tools.define_MLP_model(\n",
    "        hidden_layers_encoder+[output_encoder], input_encoder, bn=True, last_bias=True\n",
    "    ).to(device)\n",
    "else:\n",
    "    model_encoder = cl_inference.nn_tools.define_MLP_model(\n",
    "        hidden_layers_encoder+[output_encoder], input_encoder, bn=True\n",
    "    ).to(device)\n",
    "if load_encoder_model_path != 'None':\n",
    "    model_encoder.load_state_dict(torch.load(load_encoder_model_path))\n",
    "    model_encoder.eval();\n",
    "    \n",
    "# ----------------------- define model projector ----------------------- #\n",
    "\n",
    "if len(hidden_layers_projector) != 0:\n",
    "    model_projector = cl_inference.nn_tools.define_MLP_model(\n",
    "        hidden_layers_projector+[output_projector], output_encoder, bn=True\n",
    "    ).to(device)\n",
    "    if load_projector_model_path != 'None':\n",
    "        model_projector.load_state_dict(torch.load(load_projector_model_path))\n",
    "        model_projector.eval();\n",
    "else:\n",
    "    model_projector=None\n",
    "\n",
    "# ----------------------- define model inference ----------------------- #\n",
    "\n",
    "if len(hidden_layers_inference) != 0:\n",
    "    if inference_loss == \"MSE\":\n",
    "        output_dim_inference = NN_params_out\n",
    "    else:\n",
    "        n_tril = int(NN_params_out * (NN_params_out + 1) / 2)  # Number of parameters in lower triangular matrix, for symmetric matrix\n",
    "        output_dim_inference = NN_params_out + n_tril  # Dummy output of neural network\n",
    "\n",
    "    model_inference = cl_inference.nn_tools.define_MLP_model(\n",
    "        hidden_layers_inference+[output_dim_inference], output_encoder, bn=True\n",
    "    ).to(device)        \n",
    "    if load_inference_model_path != 'None':\n",
    "        model_inference.load_state_dict(torch.load(load_inference_model_path))\n",
    "        model_inference.eval();\n",
    "else:\n",
    "    model_inference = None"
   ]
  },
  {
   "cell_type": "markdown",
   "id": "d9e442f5",
   "metadata": {},
   "source": [
    "# TRAIN"
   ]
  },
  {
   "cell_type": "code",
   "execution_count": null,
   "id": "1366c9b9",
   "metadata": {},
   "outputs": [],
   "source": [
    "NN_epochs            = config['NN_epochs']\n",
    "NN_batches_per_epoch = config['NN_batches_per_epoch']\n",
    "batch_size           = config['batch_size']\n",
    "lr                   = config['lr']\n",
    "weight_decay         = config['weight_decay']\n",
    "clip_grad_norm       = config['clip_grad_norm']\n",
    "seed_mode            = config['seed_mode']\n",
    "seed                 = config['seed']\n",
    "\n",
    "dict_loss = dict(\n",
    "    CL_loss              = config['CL_loss'],\n",
    "    loss_hyperparameters = config['loss_hyperparameters'],\n",
    "    inference_loss       = config['inference_loss']\n",
    ")\n",
    "kwargs = dict(train=dict_loss,  val=dict_loss)"
   ]
  },
  {
   "cell_type": "code",
   "execution_count": null,
   "id": "1638fc01",
   "metadata": {
    "scrolled": true
   },
   "outputs": [],
   "source": [
    "min_val_loss = cl_inference.train_tools.train_model(\n",
    "    dset_train=dsets[\"TRAIN\"],\n",
    "    train_mode=train_mode,\n",
    "    model_encoder=model_encoder, model_projector=model_projector, model_inference=model_inference,\n",
    "    NN_epochs=NN_epochs, NN_batches_per_epoch=NN_batches_per_epoch,\n",
    "    lr=lr, weight_decay=weight_decay,clip_grad_norm=clip_grad_norm,\n",
    "    batch_size=batch_size,\n",
    "    dset_val=dsets[\"VAL\"], batch_size_val=int(dsets[\"VAL\"].theta.shape[0]/6),\n",
    "    seed_mode=seed_mode, # 'random', 'deterministic' or 'overfit'\n",
    "    seed=seed, # only relevant if mode is 'overfit'\n",
    "    path_save=path_save,\n",
    "    **kwargs\n",
    ")"
   ]
  },
  {
   "cell_type": "markdown",
   "id": "eb309254",
   "metadata": {},
   "source": [
    "# PLOT LOSS"
   ]
  },
  {
   "cell_type": "code",
   "execution_count": null,
   "id": "55e0bd01",
   "metadata": {},
   "outputs": [],
   "source": [
    "losses = np.loadtxt(os.path.join(path_save, 'register.txt'))\n",
    "\n",
    "custom_lines = [\n",
    "    mpl.lines.Line2D([0], [0], color='k', ls='-', lw=3, marker=None, markersize=9),\n",
    "    mpl.lines.Line2D([0], [0], color='k', ls='--', lw=3, marker=None, markersize=9)\n",
    "]\n",
    "\n",
    "fig, ax = cl_inference.plot_utils.simple_plot(\n",
    "    custom_labels=[r'Train', r'Val'],\n",
    "    custom_lines=custom_lines,\n",
    "    x_label='Epoch',\n",
    "    y_label='Loss'\n",
    ")\n",
    "\n",
    "ax.plot(losses[:, 0], c='k', lw=3, ls='-')\n",
    "ax.plot(losses[:, 1], c='k', lw=3, ls='--')\n",
    "\n",
    "plt.tight_layout()\n",
    "plt.show()"
   ]
  },
  {
   "cell_type": "code",
   "execution_count": null,
   "id": "5eac20eb",
   "metadata": {},
   "outputs": [],
   "source": []
  }
 ],
 "metadata": {
  "kernelspec": {
   "display_name": "Python 3 (ipykernel)",
   "language": "python",
   "name": "python3"
  },
  "language_info": {
   "codemirror_mode": {
    "name": "ipython",
    "version": 3
   },
   "file_extension": ".py",
   "mimetype": "text/x-python",
   "name": "python",
   "nbconvert_exporter": "python",
   "pygments_lexer": "ipython3",
   "version": "3.9.18"
  }
 },
 "nbformat": 4,
 "nbformat_minor": 5
}
