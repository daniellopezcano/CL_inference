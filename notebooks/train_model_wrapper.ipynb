{
 "cells": [
  {
   "cell_type": "markdown",
   "id": "a39e56f8",
   "metadata": {},
   "source": [
    "# IMPORTS"
   ]
  },
  {
   "cell_type": "code",
   "execution_count": null,
   "id": "9c1c050c",
   "metadata": {},
   "outputs": [],
   "source": [
    "import CL_inference as cl_inference\n",
    "N_threads = cl_inference.train_tools.set_N_threads_(N_threads=1)\n",
    "\n",
    "import os, sys\n",
    "import torch\n",
    "import numpy as np\n",
    "import matplotlib as mpl\n",
    "import matplotlib.pyplot as plt\n",
    "\n",
    "torch.set_num_threads(N_threads)\n",
    "torch.set_num_interop_threads(N_threads)\n",
    "\n",
    "%load_ext autoreload\n",
    "\n",
    "%matplotlib notebook\n",
    "plt.style.use('default')\n",
    "plt.close('all')\n",
    "\n",
    "font, rcnew = cl_inference.plot_utils.matplotlib_default_config()\n",
    "mpl.rc('font', **font)\n",
    "plt.rcParams.update(rcnew)\n",
    "plt.style.use('tableau-colorblind10')\n",
    "%config InlineBackend.figure_format = 'retina'\n",
    "\n",
    "device = cl_inference.train_tools.set_torch_device_()"
   ]
  },
  {
   "cell_type": "markdown",
   "id": "51e68035",
   "metadata": {},
   "source": [
    "# SETUP - config file"
   ]
  },
  {
   "cell_type": "code",
   "execution_count": null,
   "id": "ff3c26a1",
   "metadata": {},
   "outputs": [],
   "source": [
    "config_file_name = \"conf_join_inference_CL_Wein_models_illustris_eagle_kmax_0.6.yaml\""
   ]
  },
  {
   "cell_type": "code",
   "execution_count": null,
   "id": "df310979",
   "metadata": {},
   "outputs": [],
   "source": [
    "config = cl_inference.train_tools.load_config_file(\n",
    "    path_to_config=\"../config_files\",\n",
    "    config_file_name=config_file_name\n",
    ")"
   ]
  },
  {
   "cell_type": "markdown",
   "id": "0315aacb",
   "metadata": {},
   "source": [
    "# TRAIN MODELS"
   ]
  },
  {
   "cell_type": "code",
   "execution_count": null,
   "id": "9ea2993c",
   "metadata": {
    "scrolled": true
   },
   "outputs": [],
   "source": [
    "run_name = \"manual-sweep-1\"\n",
    "loss = cl_inference.wrapper_wandb_tools.wrapper_train_from_config(run_name=run_name, **config)"
   ]
  },
  {
   "cell_type": "markdown",
   "id": "95214e2f",
   "metadata": {},
   "source": [
    "# PLOT LOSS"
   ]
  },
  {
   "cell_type": "code",
   "execution_count": null,
   "id": "754dfdd8",
   "metadata": {},
   "outputs": [],
   "source": [
    "losses = np.loadtxt(os.path.join(config[\"path_save\"], run_name, 'register.txt'))\n",
    "\n",
    "custom_lines = [\n",
    "    mpl.lines.Line2D([0], [0], color='k', ls='-', lw=3, marker=None, markersize=9),\n",
    "    mpl.lines.Line2D([0], [0], color='k', ls='--', lw=3, marker=None, markersize=9)\n",
    "]\n",
    "\n",
    "fig, ax = cl_inference.plot_utils.simple_plot(\n",
    "    custom_labels=[r'Train', r'Val'],\n",
    "    custom_lines=custom_lines,\n",
    "    x_label='Epoch',\n",
    "    y_label='Loss'\n",
    ")\n",
    "\n",
    "ax.plot(losses[:, 0], c='k', lw=1, ls='-')\n",
    "ax.plot(losses[:, 1], c='k', lw=1, ls='--')\n",
    "\n",
    "plt.tight_layout()\n",
    "plt.show()"
   ]
  },
  {
   "cell_type": "code",
   "execution_count": null,
   "id": "776a43ea",
   "metadata": {},
   "outputs": [],
   "source": []
  }
 ],
 "metadata": {
  "kernelspec": {
   "display_name": "Python 3 (ipykernel)",
   "language": "python",
   "name": "python3"
  },
  "language_info": {
   "codemirror_mode": {
    "name": "ipython",
    "version": 3
   },
   "file_extension": ".py",
   "mimetype": "text/x-python",
   "name": "python",
   "nbconvert_exporter": "python",
   "pygments_lexer": "ipython3",
   "version": "3.9.18"
  }
 },
 "nbformat": 4,
 "nbformat_minor": 5
}
