{
 "cells": [
  {
   "cell_type": "markdown",
   "id": "5473b80a",
   "metadata": {},
   "source": [
    "# IMPORTS"
   ]
  },
  {
   "cell_type": "code",
   "execution_count": null,
   "id": "c1cfbc04",
   "metadata": {},
   "outputs": [],
   "source": [
    "import logging\n",
    "logging.basicConfig(level=logging.INFO, format='%(asctime)s - %(levelname)s - %(message)s') # NOTSET, DEBUG, INFO, WARN, ERROR, CRITICAL\n",
    "\n",
    "%load_ext autoreload\n",
    "import os, sys\n",
    "import numpy as np\n",
    "import CL_inference as cl_inference\n",
    "\n",
    "from bacco.baryons import emu_pars\n",
    "\n",
    "%matplotlib notebook\n",
    "import matplotlib as mpl\n",
    "import matplotlib.pyplot as plt\n",
    "plt.style.use('default')\n",
    "plt.close('all')\n",
    "\n",
    "font, rcnew = cl_inference.plot_utils.matplotlib_default_config()\n",
    "mpl.rc('font', **font)\n",
    "plt.rcParams.update(rcnew)\n",
    "plt.style.use('tableau-colorblind10')\n",
    "%config InlineBackend.figure_format = 'retina'"
   ]
  },
  {
   "cell_type": "markdown",
   "id": "9c9de55f",
   "metadata": {},
   "source": [
    "# VALIDATE DATASET LOADERS"
   ]
  },
  {
   "cell_type": "markdown",
   "id": "a3c86027",
   "metadata": {},
   "source": [
    "##### Define what dataset to load"
   ]
  },
  {
   "cell_type": "code",
   "execution_count": null,
   "id": "7576e9ea",
   "metadata": {},
   "outputs": [],
   "source": [
    "box = 5000\n",
    "kmax = 0.6\n",
    "factor_kmin_cut = 5\n",
    "path_save_root = os.path.join(\"/cosmos_storage/home/dlopez/Projects/CL_inference/DATASETS_box_5000\", \"DATASET_kmax_\"+str(kmax))\n",
    "\n",
    "path_load = os.path.join(path_save_root, \"TEST\")\n",
    "list_model_names = ['Model_fixed_illustris', 'Model_fixed_eagle']"
   ]
  },
  {
   "cell_type": "markdown",
   "id": "c6fa59fd",
   "metadata": {},
   "source": [
    "##### Auxiliar characteristics for plotting"
   ]
  },
  {
   "cell_type": "code",
   "execution_count": null,
   "id": "6a6613b6",
   "metadata": {},
   "outputs": [],
   "source": [
    "list_corresponding_aug_index = []\n",
    "for ii, model_name in enumerate(list_model_names):\n",
    "    loaded_theta, loaded_xx, loaded_aug_params = cl_inference.data_tools.load_stored_data(\n",
    "        path_load,\n",
    "        [model_name], \n",
    "        include_baryon_params=True\n",
    "    )\n",
    "    list_corresponding_aug_index.extend(np.arange(loaded_xx.shape[1]))"
   ]
  },
  {
   "cell_type": "code",
   "execution_count": null,
   "id": "363fc7e5",
   "metadata": {},
   "outputs": [],
   "source": [
    "kf = 2.0 * np.pi / box\n",
    "kmin=np.log10(factor_kmin_cut*kf)\n",
    "N_kk = int((kmax - kmin) / (8*kf))\n",
    "kk = np.logspace(kmin, kmax, num=N_kk)"
   ]
  },
  {
   "cell_type": "markdown",
   "id": "6d78e31e",
   "metadata": {},
   "source": [
    "##### Load datasets"
   ]
  },
  {
   "cell_type": "code",
   "execution_count": null,
   "id": "ad341a15",
   "metadata": {},
   "outputs": [],
   "source": [
    "loaded_theta, loaded_xx, loaded_aug_params = cl_inference.data_tools.load_stored_data(\n",
    "    path_load,\n",
    "    list_model_names, \n",
    "    include_baryon_params=True\n",
    ")"
   ]
  },
  {
   "cell_type": "code",
   "execution_count": null,
   "id": "5ebd844e",
   "metadata": {},
   "outputs": [],
   "source": [
    "print(loaded_theta.shape)\n",
    "print(loaded_xx.shape)\n",
    "print(loaded_aug_params.shape)"
   ]
  },
  {
   "cell_type": "markdown",
   "id": "1fae17f7",
   "metadata": {},
   "source": [
    "##### Define dataset loader"
   ]
  },
  {
   "cell_type": "code",
   "execution_count": null,
   "id": "7ea5a52e",
   "metadata": {},
   "outputs": [],
   "source": [
    "normalize=False\n",
    "path_save_norm = None\n",
    "path_load_norm = None\n",
    "NN_augs_batch = 2\n",
    "add_noise_Pk=\"cosmic_var_gauss\"\n",
    "\n",
    "dset = cl_inference.data_tools.data_loader(\n",
    "    loaded_theta,\n",
    "    loaded_xx,\n",
    "    aug_params = loaded_aug_params,\n",
    "    normalize=normalize,\n",
    "    path_save_norm=path_save_norm,\n",
    "    path_load_norm=path_load_norm,\n",
    "    NN_augs_batch=NN_augs_batch,\n",
    "    add_noise_Pk=add_noise_Pk,\n",
    "    kmax=kmax,\n",
    ")"
   ]
  },
  {
   "cell_type": "code",
   "execution_count": null,
   "id": "ed55a3fd",
   "metadata": {},
   "outputs": [],
   "source": [
    "print(\"dset.norm_mean ----> \", dset.norm_mean)\n",
    "print(\"dset.norm_std ----> \", dset.norm_std)\n",
    "print(\"dset.xx.shape ----> \", dset.xx.shape)\n",
    "print(\"dset.theta.shape ----> \", dset.theta.shape)\n",
    "print(\"dset.NN_augs_batch ----> \", dset.NN_augs_batch)"
   ]
  },
  {
   "cell_type": "markdown",
   "id": "6d05e2b7",
   "metadata": {},
   "source": [
    "##### Extract some examples from the dataloader to plot"
   ]
  },
  {
   "cell_type": "code",
   "execution_count": null,
   "id": "dcf22349",
   "metadata": {},
   "outputs": [],
   "source": [
    "batch_size = 5\n",
    "seed = 3\n",
    "return_indexes_sampled=True\n",
    "indexes_cosmo=None\n",
    "indexes_augs=None\n",
    "use_all_dataset_augs_ordered=False\n",
    "to_torch=False\n",
    "device=\"cpu\"\n",
    "\n",
    "theta_batch, xx_batch, aug_params_batch, indexes_cosmo, indexes_augs = dset(\n",
    "    batch_size=batch_size,\n",
    "    seed=seed,\n",
    "    return_indexes_sampled=return_indexes_sampled,\n",
    "    indexes_cosmo=indexes_cosmo,\n",
    "    indexes_augs=indexes_augs,\n",
    "    use_all_dataset_augs_ordered=use_all_dataset_augs_ordered,\n",
    "    to_torch=to_torch,\n",
    "    device=device,\n",
    "    box=box, factor_kmin_cut=factor_kmin_cut\n",
    ")"
   ]
  },
  {
   "cell_type": "code",
   "execution_count": null,
   "id": "25d5b612",
   "metadata": {},
   "outputs": [],
   "source": [
    "print(\"theta_batch.shape ----> \", theta_batch.shape)\n",
    "print(\"xx_batch.shape ----> \", xx_batch.shape)\n",
    "print(\"aug_params_batch.shape ----> \", aug_params_batch.shape)\n",
    "print(\"indexes_cosmo ----> \", indexes_cosmo)\n",
    "print(\"indexes_augs ----> \", indexes_augs)"
   ]
  },
  {
   "cell_type": "code",
   "execution_count": null,
   "id": "9229b0b0",
   "metadata": {
    "scrolled": true
   },
   "outputs": [],
   "source": [
    "import baccoemu\n",
    "emulator = baccoemu.Matter_powerspectrum()\n",
    "baccoemu_params = {\n",
    "    'neutrino_mass' :  0.0,\n",
    "    'w0'            : -1.0,\n",
    "    'wa'            :  0.0,\n",
    "    'expfactor'     :  1\n",
    "}"
   ]
  },
  {
   "cell_type": "code",
   "execution_count": null,
   "id": "2fbd04f9",
   "metadata": {
    "scrolled": false
   },
   "outputs": [],
   "source": [
    "fig, ax = mpl.pyplot.subplots(1,1,figsize=(7,6))\n",
    "ax.set_ylabel(r'$P(k) \\left[ \\left(h^{-1} \\mathrm{Mpc}\\right)^{3} \\right]$')\n",
    "ax.set_xlabel(r'$\\mathrm{Wavenumber}\\, k \\left[ h\\, \\mathrm{Mpc}^{-1} \\right]$')\n",
    "\n",
    "colors = cl_inference.plot_utils.get_N_colors(batch_size*NN_augs_batch, mpl.colormaps['jet'])\n",
    "for ii_cosmo, index_cosmo in enumerate(indexes_cosmo):\n",
    "    for ii_aug, index_aug in enumerate(indexes_augs[ii_cosmo]):\n",
    "        \n",
    "        baccoemu_params.update({\n",
    "            'omega_cold'    : theta_batch[ii_cosmo, 0],\n",
    "            'omega_baryon'  : theta_batch[ii_cosmo, 1],\n",
    "            'hubble'        : theta_batch[ii_cosmo, 2],\n",
    "            'ns'            : theta_batch[ii_cosmo, 3],\n",
    "            'sigma8_cold'   : theta_batch[ii_cosmo, 4],\n",
    "            'M_c'           : aug_params_batch[ii_cosmo, ii_aug, 0],\n",
    "            'eta'           : aug_params_batch[ii_cosmo, ii_aug, 1],\n",
    "            'beta'          : aug_params_batch[ii_cosmo, ii_aug, 2],\n",
    "            'M1_z0_cen'     : aug_params_batch[ii_cosmo, ii_aug, 3],\n",
    "            'theta_out'     : aug_params_batch[ii_cosmo, ii_aug, 4],\n",
    "            'theta_inn'     : aug_params_batch[ii_cosmo, ii_aug, 5],\n",
    "            'M_inn'         : aug_params_batch[ii_cosmo, ii_aug, 6]\n",
    "        })\n",
    "        _, pk = emulator.get_nonlinear_pk(k=kk, cold=False, baryonic_boost=True, **baccoemu_params)\n",
    "        ax.plot(\n",
    "            np.array(kk), pk,\n",
    "            c=colors[ii_cosmo*NN_augs_batch+ii_aug], linestyle='-', lw=1., marker=None, ms=2, alpha=0.7\n",
    "        )\n",
    "        \n",
    "        ax.plot(\n",
    "            np.array(kk), 10**loaded_xx[index_cosmo][index_aug],\n",
    "            c=colors[ii_cosmo*NN_augs_batch+ii_aug], linestyle='--', lw=1., marker=None, ms=2\n",
    "        )\n",
    "        \n",
    "        ax.plot(\n",
    "            np.array(kk), 10**dset.xx[index_cosmo][index_aug],\n",
    "            c=colors[ii_cosmo*NN_augs_batch+ii_aug], linestyle=':', lw=1., marker=None, ms=2\n",
    "        )\n",
    "        \n",
    "        ax.plot(\n",
    "            np.array(kk), 10**xx_batch[ii_cosmo, ii_aug],\n",
    "            c=colors[ii_cosmo*NN_augs_batch+ii_aug], linestyle='-.', lw=1, marker=None, ms=2\n",
    "        )\n",
    "        \n",
    "ax.axvline(10**kmax, c='k', ls=':', lw=1)        \n",
    "ax.set_xscale('log')\n",
    "ax.set_yscale('log')\n",
    "ax.set_xlim([0.01, 4.5])\n",
    "# ax.set_ylim([40., 70000])\n",
    "plt.tight_layout()\n",
    "plt.show()"
   ]
  },
  {
   "cell_type": "markdown",
   "id": "9211679e",
   "metadata": {},
   "source": [
    "# Test normalization"
   ]
  },
  {
   "cell_type": "code",
   "execution_count": null,
   "id": "44179d60",
   "metadata": {},
   "outputs": [],
   "source": [
    "normalize=True\n",
    "path_save_norm = path_save_root\n",
    "path_load_norm = None\n",
    "\n",
    "NN_augs_batch = 2\n",
    "add_noise_Pk=\"cosmic_var_gauss\"\n",
    "\n",
    "dset = cl_inference.data_tools.data_loader(\n",
    "    loaded_theta,\n",
    "    loaded_xx,\n",
    "    aug_params = loaded_aug_params,\n",
    "    normalize=normalize,\n",
    "    path_save_norm=path_save_norm,\n",
    "    path_load_norm=path_load_norm,\n",
    "    NN_augs_batch=NN_augs_batch,\n",
    "    add_noise_Pk=add_noise_Pk,\n",
    "    kmax=kmax\n",
    ")"
   ]
  },
  {
   "cell_type": "code",
   "execution_count": null,
   "id": "d44797b9",
   "metadata": {},
   "outputs": [],
   "source": [
    "print(\"dset.norm_mean.shape ----> \", dset.norm_mean.shape)\n",
    "print(\"dset.norm_std.shape ----> \", dset.norm_std.shape)\n",
    "print(\"dset.xx.shape ----> \", dset.xx.shape)\n",
    "print(\"dset.theta.shape ----> \", dset.theta.shape)\n",
    "print(\"dset.NN_augs_batch ----> \", dset.NN_augs_batch)"
   ]
  },
  {
   "cell_type": "markdown",
   "id": "ecbb53ff",
   "metadata": {},
   "source": [
    "##### Extract some examples from the dataloader to plot"
   ]
  },
  {
   "cell_type": "code",
   "execution_count": null,
   "id": "a8ad6a0b",
   "metadata": {},
   "outputs": [],
   "source": [
    "batch_size = 5\n",
    "seed = 3\n",
    "return_indexes_sampled=True\n",
    "indexes_cosmo=None\n",
    "indexes_augs=None\n",
    "use_all_dataset_augs_ordered=False\n",
    "to_torch=False\n",
    "device=\"cpu\"\n",
    "\n",
    "theta_batch, xx_batch, aug_params_batch, indexes_cosmo, indexes_augs = dset(\n",
    "    batch_size=batch_size,\n",
    "    seed=seed,\n",
    "    return_indexes_sampled=return_indexes_sampled,\n",
    "    indexes_cosmo=indexes_cosmo,\n",
    "    indexes_augs=indexes_augs,\n",
    "    use_all_dataset_augs_ordered=use_all_dataset_augs_ordered,\n",
    "    to_torch=to_torch,\n",
    "    device=device,\n",
    "    box=box, factor_kmin_cut=factor_kmin_cut\n",
    ")"
   ]
  },
  {
   "cell_type": "code",
   "execution_count": null,
   "id": "732fd60e",
   "metadata": {},
   "outputs": [],
   "source": [
    "print(\"theta_batch.shape ----> \", theta_batch.shape)\n",
    "print(\"xx_batch.shape ----> \", xx_batch.shape)\n",
    "print(\"aug_params_batch.shape ----> \", aug_params_batch.shape)\n",
    "print(\"indexes_cosmo ----> \", indexes_cosmo)\n",
    "print(\"indexes_augs ----> \", indexes_augs)"
   ]
  },
  {
   "cell_type": "code",
   "execution_count": null,
   "id": "683cd0ef",
   "metadata": {},
   "outputs": [],
   "source": [
    "fig, ax = mpl.pyplot.subplots(1,1,figsize=(7,6))\n",
    "ax.set_ylabel(r'$Norm(P(k) \\left[ \\left(h^{-1} \\mathrm{Mpc}\\right)^{3} \\right])$')\n",
    "ax.set_xlabel(r'$k - index [adim]$')\n",
    "\n",
    "colors = cl_inference.plot_utils.get_N_colors(batch_size*NN_augs_batch, mpl.colormaps['jet'])\n",
    "for ii_cosmo, index_cosmo in enumerate(indexes_cosmo):\n",
    "    for ii_aug, index_aug in enumerate(indexes_augs[ii_cosmo]):\n",
    "\n",
    "        baccoemu_params.update({\n",
    "            'omega_cold'    : theta_batch[ii_cosmo, 0],\n",
    "            'omega_baryon'  : theta_batch[ii_cosmo, 1],\n",
    "            'hubble'        : theta_batch[ii_cosmo, 2],\n",
    "            'ns'            : theta_batch[ii_cosmo, 3],\n",
    "            'sigma8_cold'   : theta_batch[ii_cosmo, 4],\n",
    "            'M_c'           : aug_params_batch[ii_cosmo, ii_aug, 0],\n",
    "            'eta'           : aug_params_batch[ii_cosmo, ii_aug, 1],\n",
    "            'beta'          : aug_params_batch[ii_cosmo, ii_aug, 2],\n",
    "            'M1_z0_cen'     : aug_params_batch[ii_cosmo, ii_aug, 3],\n",
    "            'theta_out'     : aug_params_batch[ii_cosmo, ii_aug, 4],\n",
    "            'theta_inn'     : aug_params_batch[ii_cosmo, ii_aug, 5],\n",
    "            'M_inn'         : aug_params_batch[ii_cosmo, ii_aug, 6]\n",
    "        })\n",
    "        _, pk = emulator.get_nonlinear_pk(k=kk, cold=False, baryonic_boost=True, **baccoemu_params)\n",
    "        ax.plot(\n",
    "            np.arange(pk.shape[-1]), (np.log10(pk) - dset.norm_mean ) / dset.norm_std,\n",
    "            c=colors[ii_cosmo*NN_augs_batch+ii_aug], linestyle='-', lw=1., marker=None, ms=2, alpha=0.7\n",
    "        )\n",
    "        \n",
    "        ax.plot(\n",
    "            np.arange(xx_batch.shape[-1]), (loaded_xx[index_cosmo][index_aug] - dset.norm_mean ) / dset.norm_std,\n",
    "            c=colors[ii_cosmo*NN_augs_batch+ii_aug], linestyle='--', lw=1., marker=None, ms=2\n",
    "        )\n",
    "        \n",
    "        ax.plot(\n",
    "            np.arange(xx_batch.shape[-1]), dset.xx[index_cosmo][index_aug],\n",
    "            c=colors[ii_cosmo*NN_augs_batch+ii_aug], linestyle=':', lw=1., marker=None, ms=2\n",
    "        )\n",
    "        \n",
    "        ax.plot(\n",
    "            np.arange(xx_batch.shape[-1]), xx_batch[ii_cosmo, ii_aug],\n",
    "            c=colors[ii_cosmo*NN_augs_batch+ii_aug], linestyle='-.', lw=1, marker=None, ms=2\n",
    "        )\n",
    "        \n",
    "plt.tight_layout()\n",
    "plt.show()"
   ]
  },
  {
   "cell_type": "markdown",
   "id": "eabf3b9e",
   "metadata": {},
   "source": [
    "# Test use_all_dataset_augs_ordered mode=True and to_torch=True"
   ]
  },
  {
   "cell_type": "code",
   "execution_count": null,
   "id": "580ed070",
   "metadata": {
    "scrolled": false
   },
   "outputs": [],
   "source": [
    "batch_size = 0\n",
    "seed = 0\n",
    "return_indexes_sampled=True\n",
    "indexes_cosmo=None\n",
    "indexes_augs=None\n",
    "use_all_dataset_augs_ordered=True\n",
    "to_torch=True\n",
    "device=\"cpu\"\n",
    "\n",
    "theta_batch, xx_batch, aug_params_batch, indexes_cosmo, indexes_augs = dset(\n",
    "    batch_size=batch_size,\n",
    "    seed=seed,\n",
    "    return_indexes_sampled=return_indexes_sampled,\n",
    "    indexes_cosmo=indexes_cosmo,\n",
    "    indexes_augs=indexes_augs,\n",
    "    use_all_dataset_augs_ordered=use_all_dataset_augs_ordered,\n",
    "    to_torch=to_torch,\n",
    "    device=device,\n",
    "    box=box, factor_kmin_cut=factor_kmin_cut\n",
    ")"
   ]
  },
  {
   "cell_type": "code",
   "execution_count": null,
   "id": "384c1412",
   "metadata": {},
   "outputs": [],
   "source": [
    "print(\"theta_batch.shape ----> \", theta_batch.shape)\n",
    "print(\"xx_batch.shape ----> \", xx_batch.shape)\n",
    "print(\"aug_params_batch.shape ----> \", aug_params_batch.shape)\n",
    "print(\"indexes_cosmo ----> \", indexes_cosmo)\n",
    "print(\"indexes_augs ----> \", indexes_augs)"
   ]
  },
  {
   "cell_type": "code",
   "execution_count": null,
   "id": "2ba6500d",
   "metadata": {},
   "outputs": [],
   "source": []
  }
 ],
 "metadata": {
  "kernelspec": {
   "display_name": "Python 3 (ipykernel)",
   "language": "python",
   "name": "python3"
  },
  "language_info": {
   "codemirror_mode": {
    "name": "ipython",
    "version": 3
   },
   "file_extension": ".py",
   "mimetype": "text/x-python",
   "name": "python",
   "nbconvert_exporter": "python",
   "pygments_lexer": "ipython3",
   "version": "3.9.18"
  }
 },
 "nbformat": 4,
 "nbformat_minor": 5
}
