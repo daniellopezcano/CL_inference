{
 "cells": [
  {
   "cell_type": "markdown",
   "id": "d10a7443",
   "metadata": {},
   "source": [
    "# IMPORTS"
   ]
  },
  {
   "cell_type": "code",
   "execution_count": null,
   "id": "25447953",
   "metadata": {
    "scrolled": true
   },
   "outputs": [],
   "source": [
    "import logging\n",
    "logging.basicConfig(level=logging.INFO, format='%(asctime)s - %(levelname)s - %(message)s') # NOTSET, DEBUG, INFO, WARN, ERROR, CRITICAL\n",
    "\n",
    "import os, sys\n",
    "import torch\n",
    "import numpy as np\n",
    "\n",
    "import CL_inference as cl_inference\n",
    "N_threads = cl_inference.train_tools.set_N_threads_(N_threads=1)\n",
    "torch.set_num_threads(N_threads)\n",
    "torch.set_num_interop_threads(N_threads)\n",
    "device = cl_inference.train_tools.set_torch_device_()\n",
    "\n",
    "%load_ext autoreload\n",
    "\n",
    "import matplotlib as mpl\n",
    "import matplotlib.pyplot as plt\n",
    "%matplotlib notebook\n",
    "plt.style.use('default')\n",
    "plt.close('all')\n",
    "font, rcnew = cl_inference.plot_utils.matplotlib_default_config()\n",
    "mpl.rc('font', **font)\n",
    "plt.rcParams.update(rcnew)\n",
    "plt.style.use('tableau-colorblind10')\n",
    "%config InlineBackend.figure_format = 'retina'"
   ]
  },
  {
   "cell_type": "markdown",
   "id": "14259f32",
   "metadata": {},
   "source": [
    "# Select Runs"
   ]
  },
  {
   "cell_type": "code",
   "execution_count": null,
   "id": "a10335a9",
   "metadata": {},
   "outputs": [],
   "source": [
    "kmax = 0.6\n",
    "# 0.6, 0.2, -0.2, -0.6, -1.0, -1.4\n",
    " \n",
    "tmp_CL_str = \"Wein\"\n",
    "# Wein, VICReg\n",
    " \n",
    "tmp_dataset_str = \"illustris_eagle\"\n",
    "# all\n",
    "# v1_v2, v1_v3, v2_v3\n",
    "# f0_f1, f2_f3, f4_f5, f6_f7, f8_f9\n",
    "# illustris_eagle, bahamas_illustris, eagle_bahamas"
   ]
  },
  {
   "cell_type": "code",
   "execution_count": null,
   "id": "ce0c3ffe",
   "metadata": {},
   "outputs": [],
   "source": [
    "models_path = \"/cosmos_storage/home/dlopez/Projects/CL_inference/models_box_5000/\"\n",
    "tmp_str = \"_models_\" + tmp_dataset_str + \"_kmax_\" + str(kmax)\n",
    "\n",
    "# main_name = \"only\" + \"_inference_\" + \"also_baryons\"                  + tmp_str\n",
    "main_name = \"only\" + \"_inference\"                                    + tmp_str\n",
    "# main_name = \"only\" + \"_CL_\"                             + tmp_CL_str + tmp_str\n",
    "# main_name = \"only\" + \"_inference_CL_\"                   + tmp_CL_str + tmp_str\n",
    "# main_name = \"join\" + \"_inference_CL_\"                   + tmp_CL_str + tmp_str\n",
    "# main_name = \"join\" + \"_reload_inference_CL_\"            + tmp_CL_str + tmp_str\n",
    "\n",
    "models_path = os.path.join(models_path, main_name)"
   ]
  },
  {
   "cell_type": "markdown",
   "id": "a158f91e",
   "metadata": {},
   "source": [
    "# Check loss of runs & get config files of N_best_runs"
   ]
  },
  {
   "cell_type": "code",
   "execution_count": null,
   "id": "f5351742",
   "metadata": {},
   "outputs": [],
   "source": [
    "select_N_best_runs = 1"
   ]
  },
  {
   "cell_type": "code",
   "execution_count": null,
   "id": "be668f7e",
   "metadata": {
    "scrolled": false
   },
   "outputs": [],
   "source": [
    "configs = cl_inference.plot_utils.get_config_files(\n",
    "    models_path, select_N_best_runs=select_N_best_runs,\n",
    "    wandb_entity=\"daniellopezcano\"\n",
    ")"
   ]
  },
  {
   "cell_type": "markdown",
   "id": "4cec868d",
   "metadata": {},
   "source": [
    "# Reload Models"
   ]
  },
  {
   "cell_type": "code",
   "execution_count": null,
   "id": "3606ed37",
   "metadata": {},
   "outputs": [],
   "source": [
    "# evalute_mode = 'eval_CL' # \"eval_CL\", \"eval_CL_and_inference\", \"eval_inference_supervised\"\n",
    "if \"only_CL\" in main_name:\n",
    "    evalute_mode = 'eval_CL'\n",
    "else:\n",
    "    evalute_mode = 'eval_CL_and_inference'"
   ]
  },
  {
   "cell_type": "code",
   "execution_count": null,
   "id": "a3b90416",
   "metadata": {},
   "outputs": [],
   "source": [
    "models_encoder, models_inference = cl_inference.evaluation_tools.reload_models(\n",
    "    models_path, evalute_mode, configs, device\n",
    ")"
   ]
  },
  {
   "cell_type": "markdown",
   "id": "fd587710",
   "metadata": {},
   "source": [
    "# Load datasets"
   ]
  },
  {
   "cell_type": "code",
   "execution_count": null,
   "id": "ae637b8e",
   "metadata": {},
   "outputs": [],
   "source": [
    "key0_dset = list(configs.keys())[0]\n",
    "sweep_name_load_norm_dset = key0_dset\n",
    "save_root = configs[key0_dset][\"path_save\"]\n",
    "config = configs[sweep_name_load_norm_dset]"
   ]
  },
  {
   "cell_type": "markdown",
   "id": "92f3acd5",
   "metadata": {},
   "source": [
    "### Complete some config default values (be carefull with this)"
   ]
  },
  {
   "cell_type": "code",
   "execution_count": null,
   "id": "f0f7ad29",
   "metadata": {},
   "outputs": [],
   "source": [
    "try:\n",
    "    print(\"include_baryon_params:\", config['include_baryon_params'])\n",
    "except:\n",
    "    config['include_baryon_params'] = False\n",
    "include_baryon_params = config['include_baryon_params']\n",
    "\n",
    "try:\n",
    "    print(\"box:\", config['box'])\n",
    "except:\n",
    "    config['box'] = 2000\n",
    "box = config['box']\n",
    "\n",
    "try:\n",
    "    print(\"factor_kmin_cut:\", config['factor_kmin_cut'])\n",
    "except:\n",
    "    config['factor_kmin_cut'] = 4\n",
    "factor_kmin_cut = config['factor_kmin_cut']"
   ]
  },
  {
   "cell_type": "code",
   "execution_count": null,
   "id": "790a05ac",
   "metadata": {},
   "outputs": [],
   "source": [
    "kf = 2.0 * np.pi / box\n",
    "kmin=np.log10(factor_kmin_cut*kf)\n",
    "N_kk = int((kmax - kmin) / (8*kf))\n",
    "kk = np.logspace(kmin, kmax, num=N_kk)"
   ]
  },
  {
   "cell_type": "code",
   "execution_count": null,
   "id": "6e8ff8b6",
   "metadata": {},
   "outputs": [],
   "source": [
    "custom_titles, limits_plots_inference, list_range_priors = cl_inference.plot_utils.get_titles_limits_and_priors(include_baryon_params)"
   ]
  },
  {
   "cell_type": "code",
   "execution_count": null,
   "id": "e0ece85d",
   "metadata": {},
   "outputs": [],
   "source": [
    "list_model_names = [\"Model_vary_all\"] + config[\"list_model_names\"]\n",
    "# Model_vary_all\n",
    "# Model_vary_1, Model_vary_2, Model_vary_3\n",
    "# Model_fixed_0, Model_fixed_1, Model_fixed_2, Model_fixed_3, Model_fixed_4, Model_fixed_5, Model_fixed_6, Model_fixed_7, Model_fixed_8, Model_fixed_9\n",
    "# Model_fixed_eagle, Model_fixed_illustris, Model_fixed_bahamas,\n",
    "\n",
    "colors = cl_inference.plot_utils.colors_dsets(list_model_names)"
   ]
  },
  {
   "cell_type": "code",
   "execution_count": null,
   "id": "3568dcd8",
   "metadata": {},
   "outputs": [],
   "source": [
    "dsets = {}\n",
    "dset_name = \"TEST\"\n",
    "dsets[dset_name] = cl_inference.data_tools.def_data_loader(\n",
    "    path_load               = os.path.join(config['path_load'], dset_name),\n",
    "    list_model_names        = list_model_names,\n",
    "    normalize               = config['normalize'],\n",
    "    path_load_norm          = os.path.join(config['path_save'], sweep_name_load_norm_dset),\n",
    "    NN_augs_batch           = config['NN_augs_batch'],\n",
    "    add_noise_Pk            = config['add_noise_Pk'],\n",
    "    kmax                    = config['kmax'],\n",
    "    include_baryon_params   = include_baryon_params\n",
    ")"
   ]
  },
  {
   "cell_type": "code",
   "execution_count": null,
   "id": "9b65529c",
   "metadata": {
    "scrolled": false
   },
   "outputs": [],
   "source": [
    "# fig, axs = cl_inference.plot_utils.theta_distrib_plot(dsets=dsets, custom_titles=custom_titles)\n",
    "# fig.savefig(save_root + \"/theta_distrib.png\")"
   ]
  },
  {
   "cell_type": "code",
   "execution_count": null,
   "id": "0d98e4d9",
   "metadata": {},
   "outputs": [],
   "source": [
    "NN_plot = 5\n",
    "np.random.seed(config[\"seed\"])\n",
    "indexes = np.random.choice(dsets[dset_name].NN_cosmos, NN_plot, replace=False)\n",
    "\n",
    "xx, hh, theta_true, theta_pred, Cov, len_models = cl_inference.evaluation_tools.compute_dataset_results(\n",
    "    config,\n",
    "    sweep_name_load_norm_dset,\n",
    "    list_model_names,\n",
    "    models_encoder,\n",
    "    models_inference,\n",
    "    dset_key=dset_name,\n",
    "    indexes_cosmo=indexes,\n",
    "    use_all_dataset_augs_ordered=False\n",
    ")"
   ]
  },
  {
   "cell_type": "code",
   "execution_count": null,
   "id": "c1308568",
   "metadata": {
    "scrolled": false
   },
   "outputs": [],
   "source": [
    "# --------------------- plot_dataset_Pk --------------------- #\n",
    "\n",
    "fig, axs = cl_inference.plot_utils.plot_dataset_Pk(\n",
    "    dsets[dset_name].norm_mean, dsets[dset_name].norm_std, xx, list_model_names, len_models, colors, kk, plot_as_Pk=True)\n",
    "fig.set_tight_layout(True)\n",
    "plt.show()\n",
    "fig.savefig(save_root  + \"/example_Pk.png\")\n",
    "\n",
    "# --------------------- plot_dataset_latents --------------------- #\n",
    "\n",
    "fig, ax = cl_inference.plot_utils.plot_dataset_latents(hh, list_model_names, len_models, colors)\n",
    "fig.set_tight_layout(True)\n",
    "plt.show()\n",
    "fig.savefig(save_root + \"/example_latent.png\")\n",
    "\n",
    "# --------------------- plot_dataset_predictions --------------------- #\n",
    "\n",
    "fig, axs = cl_inference.plot_utils.plot_dataset_predictions(\n",
    "    theta_true, theta_pred, Cov, list_model_names, len_models, colors, custom_titles, limits_plots_inference)\n",
    "fig.set_tight_layout(True)\n",
    "plt.show()\n",
    "fig.savefig(save_root + \"/example_inference.png\")"
   ]
  },
  {
   "cell_type": "code",
   "execution_count": null,
   "id": "107704f7",
   "metadata": {},
   "outputs": [],
   "source": [
    "xx, hh, theta_true, theta_pred, Cov, len_models = cl_inference.evaluation_tools.compute_dataset_results(\n",
    "    config,\n",
    "    sweep_name_load_norm_dset,\n",
    "    list_model_names=list_model_names,\n",
    "    models_encoder=models_encoder,\n",
    "    models_inference=models_inference,\n",
    "    dset_key=\"TEST\",\n",
    "    use_all_dataset_augs_ordered=True\n",
    ")\n",
    "\n",
    "fig, axs = cl_inference.plot_utils.plot_inference_split_models(\n",
    "    list_model_names,\n",
    "    len_models,\n",
    "    theta_true,\n",
    "    theta_pred,\n",
    "    Cov,\n",
    "    custom_titles=custom_titles,\n",
    "    limits_plots=limits_plots_inference,\n",
    "    colors=colors\n",
    ")\n",
    "fig.suptitle(main_name, size=18)\n",
    "fig.set_tight_layout(True)\n",
    "fig.savefig(save_root + \"/eval_inference_train.png\")"
   ]
  },
  {
   "cell_type": "markdown",
   "id": "9bdcc9c7",
   "metadata": {},
   "source": [
    "# Most biased ploints"
   ]
  },
  {
   "cell_type": "code",
   "execution_count": null,
   "id": "7826eb6e",
   "metadata": {},
   "outputs": [],
   "source": [
    "NN_plot_biased = 5 # obtain the NN_plot_biased most ans less biased points\n",
    "ii_cosmo_param = -1 # in the cosmo param of index ii_cosmo_param\n",
    "biased_mode = \"most\"\n",
    "\n",
    "abs_bias = np.abs((theta_pred - theta_true) / np.sqrt(np.diagonal(Cov, axis1=2, axis2=3)))\n",
    "tmp_abs_bias = np.reshape(abs_bias, ((np.prod(abs_bias.shape[0:2]),) + (abs_bias.shape[-1],)))\n",
    "if biased_mode == \"most\":\n",
    "    idxs = np.argpartition(tmp_abs_bias[:, ii_cosmo_param], -NN_plot_biased)[-NN_plot_biased:]\n",
    "    idxs_cosmo, idxs_augs = np.where(abs_bias[..., ii_cosmo_param] >= np.min(tmp_abs_bias[idxs, ii_cosmo_param]))\n",
    "if biased_mode == \"less\":\n",
    "    idxs = np.argpartition(tmp_abs_bias[:, ii_cosmo_param], NN_plot_biased)[:NN_plot_biased]\n",
    "    idxs_cosmo, idxs_augs = np.where(abs_bias[..., ii_cosmo_param] <= np.max(tmp_abs_bias[idxs, ii_cosmo_param]))\n",
    "\n",
    "xx_biased, hh_biased, theta_true_biased, theta_pred_biased, Cov_biased, _ = cl_inference.evaluation_tools.compute_dataset_results(\n",
    "    config,\n",
    "    sweep_name_load_norm_dset,\n",
    "    list_model_names=list_model_names,\n",
    "    models_encoder=models_encoder,\n",
    "    models_inference=models_inference,\n",
    "    dset_key=\"TEST\",\n",
    "    use_all_dataset_augs_ordered=False,\n",
    "    indexes_cosmo=idxs_cosmo,\n",
    "    indexes_augs=idxs_augs[np.newaxis].T\n",
    ")\n",
    "\n",
    "xx_biased_from_train, hh_biased_from_train, theta_true_biased_from_train, theta_pred_biased_from_train, Cov_biased_from_train, _ = cl_inference.evaluation_tools.compute_dataset_results(\n",
    "    config,\n",
    "    sweep_name_load_norm_dset,\n",
    "    list_model_names=config[\"list_model_names\"],\n",
    "    models_encoder=models_encoder,\n",
    "    models_inference=models_inference,\n",
    "    dset_key=\"TEST\",\n",
    "    use_all_dataset_augs_ordered=False,\n",
    "    indexes_cosmo=idxs_cosmo,\n",
    "    indexes_augs=None\n",
    ")"
   ]
  },
  {
   "cell_type": "code",
   "execution_count": null,
   "id": "62f1531d",
   "metadata": {
    "scrolled": false
   },
   "outputs": [],
   "source": [
    "# --------------------- plot_dataset_Pk --------------------- #\n",
    "\n",
    "fig, axs = cl_inference.plot_utils.plot_dataset_biased_Pk(\n",
    "    dsets[dset_name].norm_mean, dsets[dset_name].norm_std, xx_biased, xx_biased_from_train, kk, plot_as_Pk=False\n",
    ")\n",
    "fig.set_tight_layout(True)\n",
    "plt.show()\n",
    "fig.savefig(save_root  + \"/example_Pk_most_bias.png\")\n",
    "\n",
    "# --------------------- plot_dataset_latents --------------------- #\n",
    "\n",
    "fig, ax = cl_inference.plot_utils.plot_dataset_biased_latents(hh_biased, hh_biased_from_train)\n",
    "fig.set_tight_layout(True)\n",
    "plt.show()\n",
    "fig.savefig(save_root + \"/example_latent_most_bias.png\")\n",
    "\n",
    "# --------------------- plot_dataset_biased_predictions --------------------- #\n",
    "\n",
    "fig, axs = cl_inference.plot_utils.plot_dataset_biased_predictions(\n",
    "    theta_true_biased, theta_pred_biased, Cov_biased,\n",
    "    theta_true_biased_from_train, theta_pred_biased_from_train, Cov_biased_from_train,\n",
    "    custom_titles, limits_plots_inference\n",
    ")\n",
    "fig.set_tight_layout(True)\n",
    "plt.show()\n",
    "fig.savefig(save_root + \"/example_inference_most_bias.png\")"
   ]
  },
  {
   "cell_type": "markdown",
   "id": "86daa115",
   "metadata": {},
   "source": [
    "# Generate bias and errorbar figures"
   ]
  },
  {
   "cell_type": "code",
   "execution_count": null,
   "id": "9c60a6d4",
   "metadata": {},
   "outputs": [],
   "source": [
    "thresholds_bias=np.linspace(0.5, 6, 20)\n",
    "\n",
    "fraction_biased_batches, NN_points_batches, bin_centers_batches, y_hists_batches, bin_centers_err_batches, y_hists_err_batches, median_err_batches, std_err_batches = cl_inference.evaluation_tools.compute_bias_and_errorbar_stats(\n",
    "    config,\n",
    "    sweep_name_load_norm_dset,\n",
    "    [\"Model_vary_all\"]+config[\"list_model_names\"],\n",
    "    models_encoder,\n",
    "    models_inference,\n",
    "    len(custom_titles),\n",
    "    save_root=save_root,\n",
    "    thresholds_bias=thresholds_bias,\n",
    "    NN_bins_hist = 60,\n",
    "    NN_bins_hist_err = 60,\n",
    "    NN_avail_cosmo_test = 2048,\n",
    "    NN_split = 20,\n",
    "    max_err_hist=[0.05, 0.012, 0.12, 0.042, 0.06, 3.2, 1.5, 1.5, 3., .4, 1., 3.]\n",
    ")"
   ]
  },
  {
   "cell_type": "code",
   "execution_count": null,
   "id": "e215b545",
   "metadata": {},
   "outputs": [],
   "source": [
    "fontsize=26\n",
    "fontsize1=18\n",
    "fig, axs = plt.subplots(1, len(custom_titles), figsize=(5.2*len(custom_titles), 5.2))\n",
    "axs[0].set_ylabel(r'Normalized Counts ', size=fontsize)\n",
    "for ii_cosmo_param in range(len(custom_titles)):\n",
    "    ax = axs[ii_cosmo_param]\n",
    "    ax.set_title(custom_titles[ii_cosmo_param], size=fontsize+8, pad=16)\n",
    "    ax.set_xlabel(r'Bias ', size=fontsize)\n",
    "    ax.axvline(0, c='k', ls=':', lw=1)\n",
    "    for ii_model_name, list_model_name in enumerate(list_model_names):\n",
    "        for ii_batch in range(y_hists_batches.shape[0]):\n",
    "            ax.plot(\n",
    "                bin_centers_batches[ii_batch, ii_model_name, ii_cosmo_param],\n",
    "                y_hists_batches[ii_batch, ii_model_name, ii_cosmo_param]/NN_points_batches[ii_batch, ii_model_name, ii_cosmo_param],\n",
    "                color=colors[ii_model_name], lw=0.2, alpha=0.9\n",
    "            )\n",
    "fig.set_tight_layout(True)\n",
    "fig.savefig(save_root + \"/hist_bias.png\")"
   ]
  },
  {
   "cell_type": "code",
   "execution_count": null,
   "id": "c3c64821",
   "metadata": {
    "scrolled": false
   },
   "outputs": [],
   "source": [
    "fontsize=26\n",
    "fontsize1=18\n",
    "fig, axs = plt.subplots(1, len(custom_titles), figsize=(5.2*len(custom_titles), 5.2))\n",
    "axs[0].set_ylabel(r'Fraction biased points ', size=fontsize)\n",
    "for ii_cosmo_param in range(len(custom_titles)):\n",
    "    ax = axs[ii_cosmo_param]\n",
    "    ax.set_xlim([1.5, 5.])\n",
    "    ax.set_ylim([0, 1])\n",
    "    ax.set_title(custom_titles[ii_cosmo_param], size=fontsize+8, pad=16)\n",
    "    ax.set_xlabel(r'$\\sigma_\\mathrm{thr.}$', size=fontsize)\n",
    "    if ii_cosmo_param != 0:\n",
    "        ax.set_yticks([])\n",
    "    for ii_model_name, list_model_name in enumerate(list_model_names):\n",
    "        color = colors[ii_model_name]\n",
    "        tmp_mean = np.nanmean(fraction_biased_batches[:, ii_model_name, ii_cosmo_param], axis=0)\n",
    "        tmp_std = np.nanstd(fraction_biased_batches[:, ii_model_name, ii_cosmo_param], axis=0)\n",
    "        ax.scatter(thresholds_bias, tmp_mean, c=color, s=20)\n",
    "        ax.errorbar(thresholds_bias, tmp_mean, yerr=tmp_std, c=color, ls='', capsize=2, alpha=1., elinewidth=1.5)\n",
    "        ax.fill_between(thresholds_bias, tmp_mean-tmp_std, tmp_mean+tmp_std, color=color, alpha=0.3)\n",
    "\n",
    "fig.set_tight_layout(True)\n",
    "fig.savefig(save_root + \"/bias_vs_threshold.png\")"
   ]
  },
  {
   "cell_type": "code",
   "execution_count": null,
   "id": "c9030b01",
   "metadata": {
    "scrolled": false
   },
   "outputs": [],
   "source": [
    "fontsize=26\n",
    "fontsize1=18\n",
    "fig, axs = plt.subplots(1, len(custom_titles), figsize=(5.2*len(custom_titles), 5.2))\n",
    "axs[0].set_ylabel(r'Normalized Counts ', size=fontsize)\n",
    "for ii_cosmo_param in range(len(custom_titles)):\n",
    "    ax = axs[ii_cosmo_param]\n",
    "    ax.set_title(custom_titles[ii_cosmo_param], size=fontsize+8, pad=16)\n",
    "    ax.set_xlabel(r'$\\frac{2\\sigma}{\\Delta \\mathrm{Prior}}$', size=fontsize)\n",
    "    for ii_model_name, list_model_name in enumerate(list_model_names):\n",
    "        color = colors[ii_model_name]\n",
    "        for ii_batch in range(y_hists_batches.shape[0]):\n",
    "            tmp_prior_range = (list_range_priors[ii_cosmo_param][1]-list_range_priors[ii_cosmo_param][0])\n",
    "            ax.plot(\n",
    "                bin_centers_err_batches[ii_batch, ii_model_name, ii_cosmo_param]/tmp_prior_range,\n",
    "                y_hists_err_batches[ii_batch, ii_model_name, ii_cosmo_param]/NN_points_batches[ii_batch, ii_model_name, ii_cosmo_param],\n",
    "                color=color, lw=0.2, alpha=0.9\n",
    "            )\n",
    "            ax.axvline(median_err_batches[ii_batch, ii_model_name, ii_cosmo_param]/tmp_prior_range, color=color, lw=0.1, alpha=0.9)\n",
    "        tmp_mean = np.nanmean(median_err_batches[:, ii_model_name, ii_cosmo_param]/tmp_prior_range, axis=0)\n",
    "        tmp_std = np.nanstd(median_err_batches[:, ii_model_name, ii_cosmo_param]/tmp_prior_range, axis=0)\n",
    "        ax.axvline(tmp_mean, color=color, ls='-', lw=2)\n",
    "        ax.axvspan(tmp_mean-tmp_std, tmp_mean+tmp_std, alpha=0.3, color=color)\n",
    "\n",
    "fig.set_tight_layout(True)\n",
    "fig.savefig(save_root + \"/hist_error.png\")"
   ]
  },
  {
   "cell_type": "code",
   "execution_count": null,
   "id": "eef7feed",
   "metadata": {},
   "outputs": [],
   "source": []
  }
 ],
 "metadata": {
  "kernelspec": {
   "display_name": "Python 3 (ipykernel)",
   "language": "python",
   "name": "python3"
  },
  "language_info": {
   "codemirror_mode": {
    "name": "ipython",
    "version": 3
   },
   "file_extension": ".py",
   "mimetype": "text/x-python",
   "name": "python",
   "nbconvert_exporter": "python",
   "pygments_lexer": "ipython3",
   "version": "3.9.18"
  }
 },
 "nbformat": 4,
 "nbformat_minor": 5
}
