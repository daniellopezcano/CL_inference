{
 "cells": [
  {
   "cell_type": "markdown",
   "id": "74e0ced7",
   "metadata": {},
   "source": [
    "# IMPORTS"
   ]
  },
  {
   "cell_type": "code",
   "execution_count": null,
   "id": "778e9250",
   "metadata": {},
   "outputs": [],
   "source": [
    "import os, sys\n",
    "import torch\n",
    "import numpy as np\n",
    "\n",
    "import CL_inference as cl_inference\n",
    "torch.set_num_threads(1)\n",
    "torch.set_num_interop_threads(1)\n",
    "\n",
    "%load_ext autoreload"
   ]
  },
  {
   "cell_type": "markdown",
   "id": "b26dc3c6",
   "metadata": {},
   "source": [
    "# SETUP - WandB file"
   ]
  },
  {
   "cell_type": "code",
   "execution_count": null,
   "id": "b0435ff5",
   "metadata": {},
   "outputs": [],
   "source": [
    "wandb_config_name = \"only_inference_models_illustris_eagle_kmax_0.6.yaml\"\n",
    "wandb_project_name = wandb_config_name.split('.')[0]\n",
    "N_samples_hyperparmeters = 200"
   ]
  },
  {
   "cell_type": "markdown",
   "id": "0a6adf47",
   "metadata": {},
   "source": [
    "# WandB"
   ]
  },
  {
   "cell_type": "code",
   "execution_count": null,
   "id": "38a697f6",
   "metadata": {
    "scrolled": true
   },
   "outputs": [],
   "source": [
    "cl_inference.wrapper_wandb_tools.wandb_sweep(\n",
    "    wandb_config_name,\n",
    "    wandb_project_name,\n",
    "    N_samples_hyperparmeters=N_samples_hyperparmeters,\n",
    "    path_to_config=\"../config_files/\"\n",
    ")"
   ]
  },
  {
   "cell_type": "code",
   "execution_count": null,
   "id": "d57d9672",
   "metadata": {},
   "outputs": [],
   "source": []
  }
 ],
 "metadata": {
  "kernelspec": {
   "display_name": "Python 3 (ipykernel)",
   "language": "python",
   "name": "python3"
  },
  "language_info": {
   "codemirror_mode": {
    "name": "ipython",
    "version": 3
   },
   "file_extension": ".py",
   "mimetype": "text/x-python",
   "name": "python",
   "nbconvert_exporter": "python",
   "pygments_lexer": "ipython3",
   "version": "3.9.18"
  }
 },
 "nbformat": 4,
 "nbformat_minor": 5
}
