{
 "cells": [
  {
   "cell_type": "markdown",
   "id": "5473b80a",
   "metadata": {},
   "source": [
    "# IMPORTS"
   ]
  },
  {
   "cell_type": "code",
   "execution_count": null,
   "id": "c1cfbc04",
   "metadata": {},
   "outputs": [],
   "source": [
    "%load_ext autoreload\n",
    "import os, sys\n",
    "import numpy as np\n",
    "import CL_inference as cl_inference\n",
    "\n",
    "from bacco.baryons import emu_pars\n",
    "\n",
    "%matplotlib notebook\n",
    "import matplotlib as mpl\n",
    "import matplotlib.pyplot as plt\n",
    "plt.style.use('default')\n",
    "plt.close('all')\n",
    "\n",
    "font, rcnew = cl_inference.plot_utils.matplotlib_default_config()\n",
    "mpl.rc('font', **font)\n",
    "plt.rcParams.update(rcnew)\n",
    "plt.style.use('tableau-colorblind10')\n",
    "%config InlineBackend.figure_format = 'retina'"
   ]
  },
  {
   "cell_type": "markdown",
   "id": "1d8bc0bf",
   "metadata": {},
   "source": [
    "# SETUP TO GENERATE DATASETS"
   ]
  },
  {
   "cell_type": "markdown",
   "id": "61ce038c",
   "metadata": {},
   "source": [
    "##### Define in \"path_save_root\" the path where the datasets will be stored. Also define boxsize and kmax"
   ]
  },
  {
   "cell_type": "code",
   "execution_count": null,
   "id": "91622d45",
   "metadata": {},
   "outputs": [],
   "source": [
    "box = 2000\n",
    "kmax = 0.6\n",
    "path_save_root = os.path.join(\"/cosmos_storage/home/dlopez/Projects/CL_inference/DATASETS\", \"DATASET_kmax_\"+str(kmax))"
   ]
  },
  {
   "cell_type": "markdown",
   "id": "0ccaa566",
   "metadata": {},
   "source": [
    "##### Define dictionaries with cosmological prior ranges for training, validation and test sets. Also number of cosmologies to sample."
   ]
  },
  {
   "cell_type": "markdown",
   "id": "4e28a0d2",
   "metadata": {},
   "source": [
    "Cosmological prior range for training"
   ]
  },
  {
   "cell_type": "code",
   "execution_count": null,
   "id": "30886a00",
   "metadata": {},
   "outputs": [],
   "source": [
    "dict_bounds_cosmo_train = dict(\n",
    "    omega_cold    = [0.24, 0.39],\n",
    "    omega_baryon  = [0.041, 0.059],\n",
    "    hubble        = [0.61, 0.79],\n",
    "    ns            = [0.93, 1.0],\n",
    "    sigma8_cold   = [0.74, 0.89],\n",
    "    expfactor     = 1.,\n",
    "    neutrino_mass = 0.,\n",
    "    w0            = -1.,\n",
    "    wa            = 0.\n",
    ")\n",
    "NN_samples_cosmo_train = 8192\n",
    "seed_train = 0"
   ]
  },
  {
   "cell_type": "markdown",
   "id": "d62d8265",
   "metadata": {},
   "source": [
    "Cosmological prior range for validation"
   ]
  },
  {
   "cell_type": "code",
   "execution_count": null,
   "id": "c71488fd",
   "metadata": {},
   "outputs": [],
   "source": [
    "dict_bounds_cosmo_val = dict(\n",
    "    omega_cold    = [0.24, 0.39],\n",
    "    omega_baryon  = [0.041, 0.059],\n",
    "    hubble        = [0.61, 0.79],\n",
    "    ns            = [0.93, 1.0],\n",
    "    sigma8_cold   = [0.74, 0.89],\n",
    "    expfactor     = 1.,\n",
    "    neutrino_mass = 0.,\n",
    "    w0            = -1.,\n",
    "    wa            = 0.\n",
    ")\n",
    "NN_samples_cosmo_val = 2048\n",
    "seed_val = 1"
   ]
  },
  {
   "cell_type": "markdown",
   "id": "ad866c3b",
   "metadata": {},
   "source": [
    "Cosmological prior range for test"
   ]
  },
  {
   "cell_type": "code",
   "execution_count": null,
   "id": "8377a977",
   "metadata": {},
   "outputs": [],
   "source": [
    "dict_bounds_cosmo_test = dict(\n",
    "    omega_cold    = [0.24, 0.39],\n",
    "    omega_baryon  = [0.041, 0.059],\n",
    "    hubble        = [0.61, 0.79],\n",
    "    ns            = [0.93, 1.0],\n",
    "    sigma8_cold   = [0.74, 0.89],\n",
    "    expfactor     = 1.,\n",
    "    neutrino_mass = 0.,\n",
    "    w0            = -1.,\n",
    "    wa            = 0.\n",
    ")\n",
    "NN_samples_cosmo_test = 2048\n",
    "seed_test = 2"
   ]
  },
  {
   "cell_type": "markdown",
   "id": "e4b4d4fa",
   "metadata": {},
   "source": [
    "##### Define dictionaries with baryonic parameters"
   ]
  },
  {
   "cell_type": "markdown",
   "id": "c741c1a7",
   "metadata": {},
   "source": [
    "model_bahamas"
   ]
  },
  {
   "cell_type": "code",
   "execution_count": null,
   "id": "b69d5ca8",
   "metadata": {},
   "outputs": [],
   "source": [
    "hydro_key = \"bahamas\"\n",
    "dict_bounds_augs_bahamas = dict(\n",
    "    M_c       = emu_pars(model=hydro_key)['z_0.0']['M_c'],\n",
    "    eta       = emu_pars(model=hydro_key)['z_0.0']['eta'],\n",
    "    beta      = emu_pars(model=hydro_key)['z_0.0']['beta'],\n",
    "    M1_z0_cen = emu_pars(model=hydro_key)['z_0.0']['M1_z0_cen'],\n",
    "    theta_out = emu_pars(model=hydro_key)['z_0.0']['theta_out'],\n",
    "    theta_inn = emu_pars(model=hydro_key)['z_0.0']['theta_inn'],\n",
    "    M_inn     = emu_pars(model=hydro_key)['z_0.0']['M_inn']\n",
    ")"
   ]
  },
  {
   "cell_type": "markdown",
   "id": "149650a6",
   "metadata": {},
   "source": [
    "model_eagle"
   ]
  },
  {
   "cell_type": "code",
   "execution_count": null,
   "id": "edc38054",
   "metadata": {},
   "outputs": [],
   "source": [
    "hydro_key = \"eagle\"\n",
    "dict_bounds_augs_eagle = dict(\n",
    "    M_c       = emu_pars(model=hydro_key)['z_0.0']['M_c'],\n",
    "    eta       = emu_pars(model=hydro_key)['z_0.0']['eta'],\n",
    "    beta      = emu_pars(model=hydro_key)['z_0.0']['beta'],\n",
    "    M1_z0_cen = emu_pars(model=hydro_key)['z_0.0']['M1_z0_cen'],\n",
    "    theta_out = emu_pars(model=hydro_key)['z_0.0']['theta_out'],\n",
    "    theta_inn = emu_pars(model=hydro_key)['z_0.0']['theta_inn'],\n",
    "    M_inn     = emu_pars(model=hydro_key)['z_0.0']['M_inn']\n",
    ")"
   ]
  },
  {
   "cell_type": "markdown",
   "id": "a7ad5f95",
   "metadata": {},
   "source": [
    "model_illustris"
   ]
  },
  {
   "cell_type": "code",
   "execution_count": null,
   "id": "b6914479",
   "metadata": {},
   "outputs": [],
   "source": [
    "hydro_key = \"illustris\"\n",
    "dict_bounds_augs_illustris = dict(\n",
    "    M_c       = emu_pars(model=hydro_key)['z_0.0']['M_c'],\n",
    "    eta       = emu_pars(model=hydro_key)['z_0.0']['eta'],\n",
    "    beta      = emu_pars(model=hydro_key)['z_0.0']['beta'],\n",
    "    M1_z0_cen = emu_pars(model=hydro_key)['z_0.0']['M1_z0_cen'],\n",
    "    theta_out = emu_pars(model=hydro_key)['z_0.0']['theta_out'],\n",
    "    theta_inn = emu_pars(model=hydro_key)['z_0.0']['theta_inn'],\n",
    "    M_inn     = emu_pars(model=hydro_key)['z_0.0']['M_inn']\n",
    ")"
   ]
  },
  {
   "cell_type": "markdown",
   "id": "d06e231d",
   "metadata": {},
   "source": [
    "model_vary1"
   ]
  },
  {
   "cell_type": "code",
   "execution_count": null,
   "id": "3346eebe",
   "metadata": {},
   "outputs": [],
   "source": [
    "dict_bounds_augs_vary1 = dict(\n",
    "    M_c       = [9.0, 15.0],\n",
    "    eta       = [-0.69, 0.69],\n",
    "    beta      = 0.,\n",
    "    M1_z0_cen = 12.,\n",
    "    theta_out = 0.,\n",
    "    theta_inn = -1.,\n",
    "    M_inn     = 13.\n",
    ")"
   ]
  },
  {
   "cell_type": "markdown",
   "id": "5367713a",
   "metadata": {},
   "source": [
    "model_vary2"
   ]
  },
  {
   "cell_type": "code",
   "execution_count": null,
   "id": "92baa1bb",
   "metadata": {},
   "outputs": [],
   "source": [
    "dict_bounds_augs_vary2 = dict(\n",
    "    M_c       = 13.5,\n",
    "    eta       = 0.,\n",
    "    beta      = [-1.00, 0.69],\n",
    "    M1_z0_cen = [9.0, 13.0],\n",
    "    theta_out = 0.,\n",
    "    theta_inn = -1.,\n",
    "    M_inn     = 13.\n",
    ")"
   ]
  },
  {
   "cell_type": "markdown",
   "id": "8a80225c",
   "metadata": {},
   "source": [
    "model_vary3"
   ]
  },
  {
   "cell_type": "code",
   "execution_count": null,
   "id": "8f89abbd",
   "metadata": {},
   "outputs": [],
   "source": [
    "dict_bounds_augs_vary3 = dict(\n",
    "    M_c       = 13.5,\n",
    "    eta       = 0.,\n",
    "    beta      = 0.,\n",
    "    M1_z0_cen = 12.,\n",
    "    theta_out = [0., 0.47],\n",
    "    theta_inn = [-2.0, -0.523],\n",
    "    M_inn     = [9.0, 13.5]\n",
    ")"
   ]
  },
  {
   "cell_type": "markdown",
   "id": "fa9bb5ff",
   "metadata": {},
   "source": [
    "model_fixed"
   ]
  },
  {
   "cell_type": "code",
   "execution_count": null,
   "id": "0b709f45",
   "metadata": {},
   "outputs": [],
   "source": [
    "NN_fixed_latin = 10\n",
    "dict_bounds_augs_fixed = dict(\n",
    "    M_c       = [9.0, 15.0],\n",
    "    eta       = [-0.69, 0.69],\n",
    "    beta      = [-1.00, 0.69],\n",
    "    M1_z0_cen = [9.0, 13.0],\n",
    "    theta_out = [0., 0.47],\n",
    "    theta_inn = [-2.0, -0.523],\n",
    "    M_inn     = [9.0, 13.5]\n",
    ")\n",
    "sample_fixed_baryon_models = cl_inference.preprocessing_tools.sample_latin_hypercube(\n",
    "    dict_bounds_augs_fixed, N_points=NN_fixed_latin, seed=0\n",
    ")"
   ]
  },
  {
   "cell_type": "markdown",
   "id": "f2bfe9d0",
   "metadata": {},
   "source": [
    "##### Save the generated quantities to validate the datasets"
   ]
  },
  {
   "cell_type": "code",
   "execution_count": null,
   "id": "eb156b63",
   "metadata": {},
   "outputs": [],
   "source": [
    "COSMOS = {}\n",
    "XX = {}\n",
    "AUG_PARAMS = {}\n",
    "EXTENDED_AUG_PARAMS = {}"
   ]
  },
  {
   "cell_type": "markdown",
   "id": "da6c608c",
   "metadata": {},
   "source": [
    "# Generate training set"
   ]
  },
  {
   "cell_type": "code",
   "execution_count": null,
   "id": "7dde4680",
   "metadata": {
    "scrolled": true
   },
   "outputs": [],
   "source": [
    "ds_mode = 'TRAIN'\n",
    "COSMOS[ds_mode] = {}\n",
    "XX[ds_mode] = {}\n",
    "AUG_PARAMS[ds_mode] = {}\n",
    "EXTENDED_AUG_PARAMS[ds_mode] = {}\n",
    "\n",
    "path_save = os.path.join(path_save_root, ds_mode)"
   ]
  },
  {
   "cell_type": "code",
   "execution_count": null,
   "id": "4d1f40e4",
   "metadata": {
    "scrolled": true
   },
   "outputs": [],
   "source": [
    "model_name = \"Model_fixed_nl\"\n",
    "mode_baccoemu = \"nonlinear\"\n",
    "NN_samples_augs = 1\n",
    "COSMOS[ds_mode][model_name], XX[ds_mode][model_name], AUG_PARAMS[ds_mode][model_name], EXTENDED_AUG_PARAMS[ds_mode][model_name] = cl_inference.preprocessing_tools.generate_baccoemu_dataset(\n",
    "    NN_samples_cosmo  = NN_samples_cosmo_train,\n",
    "    NN_samples_augs   = NN_samples_augs,\n",
    "    dict_bounds_cosmo = dict_bounds_cosmo_train,\n",
    "    seed              = seed_train,\n",
    "    path_save         = path_save,\n",
    "    model_name        = model_name,\n",
    "    mode_baccoemu     = mode_baccoemu,\n",
    "    kmax              = kmax, box=box\n",
    ")"
   ]
  },
  {
   "cell_type": "code",
   "execution_count": null,
   "id": "aa7c9644",
   "metadata": {},
   "outputs": [],
   "source": [
    "model_name = \"Model_vary_all\"\n",
    "NN_samples_augs = 20\n",
    "COSMOS[ds_mode][model_name], XX[ds_mode][model_name], AUG_PARAMS[ds_mode][model_name], EXTENDED_AUG_PARAMS[ds_mode][model_name] = cl_inference.preprocessing_tools.generate_baccoemu_dataset(\n",
    "    NN_samples_cosmo  = NN_samples_cosmo_train,\n",
    "    NN_samples_augs   = NN_samples_augs,\n",
    "    dict_bounds_cosmo = dict_bounds_cosmo_train,\n",
    "    seed              = seed_train,\n",
    "    path_save         = path_save,\n",
    "    model_name        = model_name,\n",
    "    kmax              = kmax, box=box\n",
    ")"
   ]
  },
  {
   "cell_type": "code",
   "execution_count": null,
   "id": "70bf4bf4",
   "metadata": {},
   "outputs": [],
   "source": [
    "hydro_key = 'bahamas'\n",
    "model_name = \"Model_fixed_\"+hydro_key\n",
    "NN_samples_augs = 1\n",
    "COSMOS[ds_mode][model_name], XX[ds_mode][model_name], AUG_PARAMS[ds_mode][model_name], EXTENDED_AUG_PARAMS[ds_mode][model_name] = cl_inference.preprocessing_tools.generate_baccoemu_dataset(\n",
    "    NN_samples_cosmo  = NN_samples_cosmo_train,\n",
    "    NN_samples_augs   = NN_samples_augs,\n",
    "    dict_bounds_cosmo = dict_bounds_cosmo_train,\n",
    "    dict_bounds_augs  = dict_bounds_augs_bahamas,\n",
    "    seed              = seed_train,\n",
    "    path_save         = path_save,\n",
    "    model_name        = model_name,\n",
    "    kmax              = kmax, box=box\n",
    ")"
   ]
  },
  {
   "cell_type": "code",
   "execution_count": null,
   "id": "54717144",
   "metadata": {},
   "outputs": [],
   "source": [
    "hydro_key = 'eagle'\n",
    "model_name = \"Model_fixed_\"+hydro_key\n",
    "NN_samples_augs = 1\n",
    "COSMOS[ds_mode][model_name], XX[ds_mode][model_name], AUG_PARAMS[ds_mode][model_name], EXTENDED_AUG_PARAMS[ds_mode][model_name] = cl_inference.preprocessing_tools.generate_baccoemu_dataset(\n",
    "    NN_samples_cosmo  = NN_samples_cosmo_train,\n",
    "    NN_samples_augs   = NN_samples_augs,\n",
    "    dict_bounds_cosmo = dict_bounds_cosmo_train,\n",
    "    dict_bounds_augs  = dict_bounds_augs_eagle,\n",
    "    seed              = seed_train,\n",
    "    path_save         = path_save,\n",
    "    model_name        = model_name,\n",
    "    kmax              = kmax, box=box\n",
    ")"
   ]
  },
  {
   "cell_type": "code",
   "execution_count": null,
   "id": "221b9798",
   "metadata": {},
   "outputs": [],
   "source": [
    "hydro_key = 'illustris'\n",
    "model_name = \"Model_fixed_\"+hydro_key\n",
    "NN_samples_augs = 1\n",
    "COSMOS[ds_mode][model_name], XX[ds_mode][model_name], AUG_PARAMS[ds_mode][model_name], EXTENDED_AUG_PARAMS[ds_mode][model_name] = cl_inference.preprocessing_tools.generate_baccoemu_dataset(\n",
    "    NN_samples_cosmo  = NN_samples_cosmo_train,\n",
    "    NN_samples_augs   = NN_samples_augs,\n",
    "    dict_bounds_cosmo = dict_bounds_cosmo_train,\n",
    "    dict_bounds_augs  = dict_bounds_augs_illustris,\n",
    "    seed              = seed_train,\n",
    "    path_save         = path_save,\n",
    "    model_name        = model_name,\n",
    "    kmax              = kmax, box=box\n",
    ")"
   ]
  },
  {
   "cell_type": "code",
   "execution_count": null,
   "id": "8c14325b",
   "metadata": {},
   "outputs": [],
   "source": [
    "model_name = \"Model_vary_1\"\n",
    "NN_samples_augs = 10\n",
    "COSMOS[ds_mode][model_name], XX[ds_mode][model_name], AUG_PARAMS[ds_mode][model_name], EXTENDED_AUG_PARAMS[ds_mode][model_name] = cl_inference.preprocessing_tools.generate_baccoemu_dataset(\n",
    "    NN_samples_cosmo  = NN_samples_cosmo_train,\n",
    "    NN_samples_augs   = NN_samples_augs,\n",
    "    dict_bounds_cosmo = dict_bounds_cosmo_train,\n",
    "    dict_bounds_augs  = dict_bounds_augs_vary1,\n",
    "    seed              = seed_train,\n",
    "    path_save         = path_save,\n",
    "    model_name        = model_name,\n",
    "    kmax              = kmax, box=box\n",
    ")"
   ]
  },
  {
   "cell_type": "code",
   "execution_count": null,
   "id": "c3b9dfe0",
   "metadata": {},
   "outputs": [],
   "source": [
    "model_name = \"Model_vary_2\"\n",
    "NN_samples_augs = 10\n",
    "COSMOS[ds_mode][model_name], XX[ds_mode][model_name], AUG_PARAMS[ds_mode][model_name], EXTENDED_AUG_PARAMS[ds_mode][model_name] = cl_inference.preprocessing_tools.generate_baccoemu_dataset(\n",
    "    NN_samples_cosmo  = NN_samples_cosmo_train,\n",
    "    NN_samples_augs   = NN_samples_augs,\n",
    "    dict_bounds_cosmo = dict_bounds_cosmo_train,\n",
    "    dict_bounds_augs  = dict_bounds_augs_vary2,\n",
    "    seed              = seed_train,\n",
    "    path_save         = path_save,\n",
    "    model_name        = model_name,\n",
    "    kmax              = kmax, box=box\n",
    ")"
   ]
  },
  {
   "cell_type": "code",
   "execution_count": null,
   "id": "3105de53",
   "metadata": {},
   "outputs": [],
   "source": [
    "model_name = \"Model_vary_3\"\n",
    "NN_samples_augs = 10\n",
    "COSMOS[ds_mode][model_name], XX[ds_mode][model_name], AUG_PARAMS[ds_mode][model_name], EXTENDED_AUG_PARAMS[ds_mode][model_name] = cl_inference.preprocessing_tools.generate_baccoemu_dataset(\n",
    "    NN_samples_cosmo  = NN_samples_cosmo_train,\n",
    "    NN_samples_augs   = NN_samples_augs,\n",
    "    dict_bounds_cosmo = dict_bounds_cosmo_train,\n",
    "    dict_bounds_augs  = dict_bounds_augs_vary3,\n",
    "    seed              = seed_train,\n",
    "    path_save         = path_save,\n",
    "    model_name        = model_name,\n",
    "    kmax              = kmax, box=box\n",
    ")"
   ]
  },
  {
   "cell_type": "code",
   "execution_count": null,
   "id": "de6c0b50",
   "metadata": {},
   "outputs": [],
   "source": [
    "for ii in range(sample_fixed_baryon_models.shape[0]):\n",
    "    model_name = \"Model_fixed_\" + str(ii)\n",
    "    NN_samples_augs = 1\n",
    "    dict_bounds_augs_fixed = dict(\n",
    "        M_c       = sample_fixed_baryon_models[ii,0],\n",
    "        eta       = sample_fixed_baryon_models[ii,1],\n",
    "        beta      = sample_fixed_baryon_models[ii,2],\n",
    "        M1_z0_cen = sample_fixed_baryon_models[ii,3],\n",
    "        theta_out = sample_fixed_baryon_models[ii,4],\n",
    "        theta_inn = sample_fixed_baryon_models[ii,5],\n",
    "        M_inn     = sample_fixed_baryon_models[ii,6],\n",
    "    )\n",
    "    COSMOS[ds_mode][model_name], XX[ds_mode][model_name], AUG_PARAMS[ds_mode][model_name], EXTENDED_AUG_PARAMS[ds_mode][model_name] = cl_inference.preprocessing_tools.generate_baccoemu_dataset(\n",
    "        NN_samples_cosmo  = NN_samples_cosmo_train,\n",
    "        NN_samples_augs   = NN_samples_augs,\n",
    "        dict_bounds_cosmo = dict_bounds_cosmo_train,\n",
    "        dict_bounds_augs  = dict_bounds_augs_fixed,\n",
    "        seed              = seed_train,\n",
    "        path_save         = path_save,\n",
    "        model_name        = model_name,\n",
    "        kmax              = kmax, box=box\n",
    "    )"
   ]
  },
  {
   "cell_type": "markdown",
   "id": "df8ab5aa",
   "metadata": {},
   "source": [
    "# Generate validation set"
   ]
  },
  {
   "cell_type": "code",
   "execution_count": null,
   "id": "1846ad7a",
   "metadata": {
    "scrolled": true
   },
   "outputs": [],
   "source": [
    "ds_mode = 'VAL'\n",
    "COSMOS[ds_mode] = {}\n",
    "XX[ds_mode] = {}\n",
    "AUG_PARAMS[ds_mode] = {}\n",
    "EXTENDED_AUG_PARAMS[ds_mode] = {}\n",
    "\n",
    "path_save = os.path.join(path_save_root, ds_mode)"
   ]
  },
  {
   "cell_type": "code",
   "execution_count": null,
   "id": "50dbc263",
   "metadata": {},
   "outputs": [],
   "source": [
    "model_name = \"Model_fixed_nl\"\n",
    "mode_baccoemu = \"nonlinear\"\n",
    "NN_samples_augs = 1\n",
    "COSMOS[ds_mode][model_name], XX[ds_mode][model_name], AUG_PARAMS[ds_mode][model_name], EXTENDED_AUG_PARAMS[ds_mode][model_name] = cl_inference.preprocessing_tools.generate_baccoemu_dataset(\n",
    "    NN_samples_cosmo  = NN_samples_cosmo_val,\n",
    "    NN_samples_augs   = NN_samples_augs,\n",
    "    dict_bounds_cosmo = dict_bounds_cosmo_val,\n",
    "    seed              = seed_val,\n",
    "    path_save         = path_save,\n",
    "    model_name        = model_name,\n",
    "    mode_baccoemu     = mode_baccoemu,\n",
    "    kmax              = kmax, box=box\n",
    ")"
   ]
  },
  {
   "cell_type": "code",
   "execution_count": null,
   "id": "7767620c",
   "metadata": {},
   "outputs": [],
   "source": [
    "model_name = \"Model_vary_all\"\n",
    "NN_samples_augs = 20\n",
    "COSMOS[ds_mode][model_name], XX[ds_mode][model_name], AUG_PARAMS[ds_mode][model_name], EXTENDED_AUG_PARAMS[ds_mode][model_name] = cl_inference.preprocessing_tools.generate_baccoemu_dataset(\n",
    "    NN_samples_cosmo  = NN_samples_cosmo_val,\n",
    "    NN_samples_augs   = NN_samples_augs,\n",
    "    dict_bounds_cosmo = dict_bounds_cosmo_val,\n",
    "    seed              = seed_val,\n",
    "    path_save         = path_save,\n",
    "    model_name        = model_name,\n",
    "    kmax              = kmax, box=box\n",
    ")"
   ]
  },
  {
   "cell_type": "code",
   "execution_count": null,
   "id": "bfeca45f",
   "metadata": {},
   "outputs": [],
   "source": [
    "hydro_key = 'bahamas'\n",
    "model_name = \"Model_fixed_\"+hydro_key\n",
    "NN_samples_augs = 1\n",
    "COSMOS[ds_mode][model_name], XX[ds_mode][model_name], AUG_PARAMS[ds_mode][model_name], EXTENDED_AUG_PARAMS[ds_mode][model_name] = cl_inference.preprocessing_tools.generate_baccoemu_dataset(\n",
    "    NN_samples_cosmo  = NN_samples_cosmo_val,\n",
    "    NN_samples_augs   = NN_samples_augs,\n",
    "    dict_bounds_cosmo = dict_bounds_cosmo_val,\n",
    "    dict_bounds_augs  = dict_bounds_augs_bahamas,\n",
    "    seed              = seed_val,\n",
    "    path_save         = path_save,\n",
    "    model_name        = model_name,\n",
    "    kmax              = kmax, box=box\n",
    ")"
   ]
  },
  {
   "cell_type": "code",
   "execution_count": null,
   "id": "836cd60c",
   "metadata": {},
   "outputs": [],
   "source": [
    "hydro_key = 'eagle'\n",
    "model_name = \"Model_fixed_\"+hydro_key\n",
    "NN_samples_augs = 1\n",
    "COSMOS[ds_mode][model_name], XX[ds_mode][model_name], AUG_PARAMS[ds_mode][model_name], EXTENDED_AUG_PARAMS[ds_mode][model_name] = cl_inference.preprocessing_tools.generate_baccoemu_dataset(\n",
    "    NN_samples_cosmo  = NN_samples_cosmo_val,\n",
    "    NN_samples_augs   = NN_samples_augs,\n",
    "    dict_bounds_cosmo = dict_bounds_cosmo_val,\n",
    "    dict_bounds_augs  = dict_bounds_augs_eagle,\n",
    "    seed              = seed_val,\n",
    "    path_save         = path_save,\n",
    "    model_name        = model_name,\n",
    "    kmax              = kmax, box=box\n",
    ")"
   ]
  },
  {
   "cell_type": "code",
   "execution_count": null,
   "id": "86dd96e1",
   "metadata": {},
   "outputs": [],
   "source": [
    "hydro_key = 'illustris'\n",
    "model_name = \"Model_fixed_\"+hydro_key\n",
    "NN_samples_augs = 1\n",
    "COSMOS[ds_mode][model_name], XX[ds_mode][model_name], AUG_PARAMS[ds_mode][model_name], EXTENDED_AUG_PARAMS[ds_mode][model_name] = cl_inference.preprocessing_tools.generate_baccoemu_dataset(\n",
    "    NN_samples_cosmo  = NN_samples_cosmo_val,\n",
    "    NN_samples_augs   = NN_samples_augs,\n",
    "    dict_bounds_cosmo = dict_bounds_cosmo_val,\n",
    "    dict_bounds_augs  = dict_bounds_augs_illustris,\n",
    "    seed              = seed_val,\n",
    "    path_save         = path_save,\n",
    "    model_name        = model_name,\n",
    "    kmax              = kmax, box=box\n",
    ")"
   ]
  },
  {
   "cell_type": "code",
   "execution_count": null,
   "id": "df979389",
   "metadata": {
    "scrolled": true
   },
   "outputs": [],
   "source": [
    "model_name = \"Model_vary_1\"\n",
    "NN_samples_augs = 10\n",
    "COSMOS[ds_mode][model_name], XX[ds_mode][model_name], AUG_PARAMS[ds_mode][model_name], EXTENDED_AUG_PARAMS[ds_mode][model_name] = cl_inference.preprocessing_tools.generate_baccoemu_dataset(\n",
    "    NN_samples_cosmo  = NN_samples_cosmo_val,\n",
    "    NN_samples_augs   = NN_samples_augs,\n",
    "    dict_bounds_cosmo = dict_bounds_cosmo_val,\n",
    "    dict_bounds_augs  = dict_bounds_augs_vary1,\n",
    "    seed              = seed_val,\n",
    "    path_save         = path_save,\n",
    "    model_name        = model_name,\n",
    "    kmax              = kmax, box=box\n",
    ")"
   ]
  },
  {
   "cell_type": "code",
   "execution_count": null,
   "id": "2679156d",
   "metadata": {
    "scrolled": true
   },
   "outputs": [],
   "source": [
    "model_name = \"Model_vary_2\"\n",
    "NN_samples_augs = 10\n",
    "COSMOS[ds_mode][model_name], XX[ds_mode][model_name], AUG_PARAMS[ds_mode][model_name], EXTENDED_AUG_PARAMS[ds_mode][model_name] = cl_inference.preprocessing_tools.generate_baccoemu_dataset(\n",
    "    NN_samples_cosmo  = NN_samples_cosmo_val,\n",
    "    NN_samples_augs   = NN_samples_augs,\n",
    "    dict_bounds_cosmo = dict_bounds_cosmo_val,\n",
    "    dict_bounds_augs  = dict_bounds_augs_vary2,\n",
    "    seed              = seed_val,\n",
    "    path_save         = path_save,\n",
    "    model_name        = model_name,\n",
    "    kmax              = kmax, box=box\n",
    ")"
   ]
  },
  {
   "cell_type": "code",
   "execution_count": null,
   "id": "83e96a49",
   "metadata": {
    "scrolled": true
   },
   "outputs": [],
   "source": [
    "model_name = \"Model_vary_3\"\n",
    "NN_samples_augs = 10\n",
    "COSMOS[ds_mode][model_name], XX[ds_mode][model_name], AUG_PARAMS[ds_mode][model_name], EXTENDED_AUG_PARAMS[ds_mode][model_name] = cl_inference.preprocessing_tools.generate_baccoemu_dataset(\n",
    "    NN_samples_cosmo  = NN_samples_cosmo_val,\n",
    "    NN_samples_augs   = NN_samples_augs,\n",
    "    dict_bounds_cosmo = dict_bounds_cosmo_val,\n",
    "    dict_bounds_augs  = dict_bounds_augs_vary3,\n",
    "    seed              = seed_val,\n",
    "    path_save         = path_save,\n",
    "    model_name        = model_name,\n",
    "    kmax              = kmax, box=box\n",
    ")"
   ]
  },
  {
   "cell_type": "code",
   "execution_count": null,
   "id": "aa6a7327",
   "metadata": {},
   "outputs": [],
   "source": [
    "for ii in range(sample_fixed_baryon_models.shape[0]):\n",
    "    model_name = \"Model_fixed_\" + str(ii)\n",
    "    NN_samples_augs = 1\n",
    "    dict_bounds_augs_fixed = dict(\n",
    "        M_c       = sample_fixed_baryon_models[ii,0],\n",
    "        eta       = sample_fixed_baryon_models[ii,1],\n",
    "        beta      = sample_fixed_baryon_models[ii,2],\n",
    "        M1_z0_cen = sample_fixed_baryon_models[ii,3],\n",
    "        theta_out = sample_fixed_baryon_models[ii,4],\n",
    "        theta_inn = sample_fixed_baryon_models[ii,5],\n",
    "        M_inn     = sample_fixed_baryon_models[ii,6],\n",
    "    )\n",
    "    COSMOS[ds_mode][model_name], XX[ds_mode][model_name], AUG_PARAMS[ds_mode][model_name], EXTENDED_AUG_PARAMS[ds_mode][model_name] = cl_inference.preprocessing_tools.generate_baccoemu_dataset(\n",
    "        NN_samples_cosmo  = NN_samples_cosmo_val,\n",
    "        NN_samples_augs   = NN_samples_augs,\n",
    "        dict_bounds_cosmo = dict_bounds_cosmo_val,\n",
    "        dict_bounds_augs  = dict_bounds_augs_fixed,\n",
    "        seed              = seed_val,\n",
    "        path_save         = path_save,\n",
    "        model_name        = model_name,\n",
    "        kmax              = kmax, box=box\n",
    "    )"
   ]
  },
  {
   "cell_type": "markdown",
   "id": "26f6ea2e",
   "metadata": {},
   "source": [
    "# Generate test set"
   ]
  },
  {
   "cell_type": "code",
   "execution_count": null,
   "id": "a9fce12b",
   "metadata": {},
   "outputs": [],
   "source": [
    "ds_mode = 'TEST'\n",
    "COSMOS[ds_mode] = {}\n",
    "XX[ds_mode] = {}\n",
    "AUG_PARAMS[ds_mode] = {}\n",
    "EXTENDED_AUG_PARAMS[ds_mode] = {}\n",
    "\n",
    "path_save = os.path.join(path_save_root, ds_mode)"
   ]
  },
  {
   "cell_type": "code",
   "execution_count": null,
   "id": "c49ae5af",
   "metadata": {
    "scrolled": true
   },
   "outputs": [],
   "source": [
    "model_name = \"Model_fixed_nl\"\n",
    "mode_baccoemu = \"nonlinear\"\n",
    "NN_samples_augs = 1\n",
    "COSMOS[ds_mode][model_name], XX[ds_mode][model_name], AUG_PARAMS[ds_mode][model_name], EXTENDED_AUG_PARAMS[ds_mode][model_name] = cl_inference.preprocessing_tools.generate_baccoemu_dataset(\n",
    "    NN_samples_cosmo  = NN_samples_cosmo_test,\n",
    "    NN_samples_augs   = NN_samples_augs,\n",
    "    dict_bounds_cosmo = dict_bounds_cosmo_test,\n",
    "    seed              = seed_test,\n",
    "    path_save         = path_save,\n",
    "    model_name        = model_name,\n",
    "    mode_baccoemu     = mode_baccoemu,\n",
    "    kmax              = kmax, box=box\n",
    ")"
   ]
  },
  {
   "cell_type": "code",
   "execution_count": null,
   "id": "1ed5df6a",
   "metadata": {
    "scrolled": true
   },
   "outputs": [],
   "source": [
    "model_name = \"Model_vary_all\"\n",
    "NN_samples_augs = 20\n",
    "COSMOS[ds_mode][model_name], XX[ds_mode][model_name], AUG_PARAMS[ds_mode][model_name], EXTENDED_AUG_PARAMS[ds_mode][model_name] = cl_inference.preprocessing_tools.generate_baccoemu_dataset(\n",
    "    NN_samples_cosmo  = NN_samples_cosmo_test,\n",
    "    NN_samples_augs   = NN_samples_augs,\n",
    "    dict_bounds_cosmo = dict_bounds_cosmo_test,\n",
    "    seed              = seed_test,\n",
    "    path_save         = path_save,\n",
    "    model_name        = model_name,\n",
    "    kmax              = kmax, box=box\n",
    ")"
   ]
  },
  {
   "cell_type": "code",
   "execution_count": null,
   "id": "2963a306",
   "metadata": {
    "scrolled": true
   },
   "outputs": [],
   "source": [
    "hydro_key = 'bahamas'\n",
    "model_name = \"Model_fixed_\"+hydro_key\n",
    "NN_samples_augs = 1\n",
    "COSMOS[ds_mode][model_name], XX[ds_mode][model_name], AUG_PARAMS[ds_mode][model_name], EXTENDED_AUG_PARAMS[ds_mode][model_name] = cl_inference.preprocessing_tools.generate_baccoemu_dataset(\n",
    "    NN_samples_cosmo  = NN_samples_cosmo_test,\n",
    "    NN_samples_augs   = NN_samples_augs,\n",
    "    dict_bounds_cosmo = dict_bounds_cosmo_test,\n",
    "    dict_bounds_augs  = dict_bounds_augs_bahamas,\n",
    "    seed              = seed_test,\n",
    "    path_save         = path_save,\n",
    "    model_name        = model_name,\n",
    "    kmax              = kmax, box=box\n",
    ")"
   ]
  },
  {
   "cell_type": "code",
   "execution_count": null,
   "id": "52b26471",
   "metadata": {
    "scrolled": true
   },
   "outputs": [],
   "source": [
    "hydro_key = 'eagle'\n",
    "model_name = \"Model_fixed_\"+hydro_key\n",
    "NN_samples_augs = 1\n",
    "COSMOS[ds_mode][model_name], XX[ds_mode][model_name], AUG_PARAMS[ds_mode][model_name], EXTENDED_AUG_PARAMS[ds_mode][model_name] = cl_inference.preprocessing_tools.generate_baccoemu_dataset(\n",
    "    NN_samples_cosmo  = NN_samples_cosmo_test,\n",
    "    NN_samples_augs   = NN_samples_augs,\n",
    "    dict_bounds_cosmo = dict_bounds_cosmo_test,\n",
    "    dict_bounds_augs  = dict_bounds_augs_eagle,\n",
    "    seed              = seed_test,\n",
    "    path_save         = path_save,\n",
    "    model_name        = model_name,\n",
    "    kmax              = kmax, box=box\n",
    ")"
   ]
  },
  {
   "cell_type": "code",
   "execution_count": null,
   "id": "1a628c90",
   "metadata": {
    "scrolled": true
   },
   "outputs": [],
   "source": [
    "hydro_key = 'illustris'\n",
    "model_name = \"Model_fixed_\"+hydro_key\n",
    "NN_samples_augs = 1\n",
    "COSMOS[ds_mode][model_name], XX[ds_mode][model_name], AUG_PARAMS[ds_mode][model_name], EXTENDED_AUG_PARAMS[ds_mode][model_name] = cl_inference.preprocessing_tools.generate_baccoemu_dataset(\n",
    "    NN_samples_cosmo  = NN_samples_cosmo_test,\n",
    "    NN_samples_augs   = NN_samples_augs,\n",
    "    dict_bounds_cosmo = dict_bounds_cosmo_test,\n",
    "    dict_bounds_augs  = dict_bounds_augs_illustris,\n",
    "    seed              = seed_test,\n",
    "    path_save         = path_save,\n",
    "    model_name        = model_name,\n",
    "    kmax              = kmax, box=box\n",
    ")"
   ]
  },
  {
   "cell_type": "code",
   "execution_count": null,
   "id": "3a80a90b",
   "metadata": {
    "scrolled": true
   },
   "outputs": [],
   "source": [
    "model_name = \"Model_vary_1\"\n",
    "NN_samples_augs = 10\n",
    "COSMOS[ds_mode][model_name], XX[ds_mode][model_name], AUG_PARAMS[ds_mode][model_name], EXTENDED_AUG_PARAMS[ds_mode][model_name] = cl_inference.preprocessing_tools.generate_baccoemu_dataset(\n",
    "    NN_samples_cosmo  = NN_samples_cosmo_test,\n",
    "    NN_samples_augs   = NN_samples_augs,\n",
    "    dict_bounds_cosmo = dict_bounds_cosmo_test,\n",
    "    dict_bounds_augs  = dict_bounds_augs_vary1,\n",
    "    seed              = seed_test,\n",
    "    path_save         = path_save,\n",
    "    model_name        = model_name,\n",
    "    kmax              = kmax, box=box\n",
    ")"
   ]
  },
  {
   "cell_type": "code",
   "execution_count": null,
   "id": "05070f26",
   "metadata": {
    "scrolled": true
   },
   "outputs": [],
   "source": [
    "model_name = \"Model_vary_2\"\n",
    "NN_samples_augs = 10\n",
    "COSMOS[ds_mode][model_name], XX[ds_mode][model_name], AUG_PARAMS[ds_mode][model_name], EXTENDED_AUG_PARAMS[ds_mode][model_name] = cl_inference.preprocessing_tools.generate_baccoemu_dataset(\n",
    "    NN_samples_cosmo  = NN_samples_cosmo_test,\n",
    "    NN_samples_augs   = NN_samples_augs,\n",
    "    dict_bounds_cosmo = dict_bounds_cosmo_test,\n",
    "    dict_bounds_augs  = dict_bounds_augs_vary2,\n",
    "    seed              = seed_test,\n",
    "    path_save         = path_save,\n",
    "    model_name        = model_name,\n",
    "    kmax              = kmax, box=box\n",
    ")"
   ]
  },
  {
   "cell_type": "code",
   "execution_count": null,
   "id": "bf3abe6f",
   "metadata": {
    "scrolled": true
   },
   "outputs": [],
   "source": [
    "model_name = \"Model_vary_3\"\n",
    "NN_samples_augs = 10\n",
    "COSMOS[ds_mode][model_name], XX[ds_mode][model_name], AUG_PARAMS[ds_mode][model_name], EXTENDED_AUG_PARAMS[ds_mode][model_name] = cl_inference.preprocessing_tools.generate_baccoemu_dataset(\n",
    "    NN_samples_cosmo  = NN_samples_cosmo_test,\n",
    "    NN_samples_augs   = NN_samples_augs,\n",
    "    dict_bounds_cosmo = dict_bounds_cosmo_test,\n",
    "    dict_bounds_augs  = dict_bounds_augs_vary3,\n",
    "    seed              = seed_test,\n",
    "    path_save         = path_save,\n",
    "    model_name        = model_name,\n",
    "    kmax              = kmax, box=box\n",
    ")"
   ]
  },
  {
   "cell_type": "code",
   "execution_count": null,
   "id": "78e9a6d2",
   "metadata": {},
   "outputs": [],
   "source": [
    "for ii in range(sample_fixed_baryon_models.shape[0]):\n",
    "    model_name = \"Model_fixed_\" + str(ii)\n",
    "    NN_samples_augs = 1\n",
    "    dict_bounds_augs_fixed = dict(\n",
    "        M_c       = sample_fixed_baryon_models[ii,0],\n",
    "        eta       = sample_fixed_baryon_models[ii,1],\n",
    "        beta      = sample_fixed_baryon_models[ii,2],\n",
    "        M1_z0_cen = sample_fixed_baryon_models[ii,3],\n",
    "        theta_out = sample_fixed_baryon_models[ii,4],\n",
    "        theta_inn = sample_fixed_baryon_models[ii,5],\n",
    "        M_inn     = sample_fixed_baryon_models[ii,6],\n",
    "    )\n",
    "    COSMOS[ds_mode][model_name], XX[ds_mode][model_name], AUG_PARAMS[ds_mode][model_name], EXTENDED_AUG_PARAMS[ds_mode][model_name] = cl_inference.preprocessing_tools.generate_baccoemu_dataset(\n",
    "        NN_samples_cosmo  = NN_samples_cosmo_test,\n",
    "        NN_samples_augs   = NN_samples_augs,\n",
    "        dict_bounds_cosmo = dict_bounds_cosmo_test,\n",
    "        dict_bounds_augs  = dict_bounds_augs_fixed,\n",
    "        seed              = seed_test,\n",
    "        path_save         = path_save,\n",
    "        model_name        = model_name,\n",
    "        kmax              = kmax, box=box\n",
    "    )"
   ]
  },
  {
   "cell_type": "markdown",
   "id": "9c9de55f",
   "metadata": {},
   "source": [
    "# VALIDATE DATASETS"
   ]
  },
  {
   "cell_type": "code",
   "execution_count": null,
   "id": "76248fea",
   "metadata": {},
   "outputs": [],
   "source": [
    "kf = 2.0 * np.pi / box\n",
    "kmin=np.log10(4*kf)\n",
    "N_kk = int((kmax - kmin) / (8*kf))\n",
    "kk = np.logspace(kmin, kmax, num=N_kk)"
   ]
  },
  {
   "cell_type": "code",
   "execution_count": null,
   "id": "90b3dc7a",
   "metadata": {},
   "outputs": [],
   "source": [
    "ds_mode = 'TEST'\n",
    "model_name = 'Model_fixed_illustris'\n",
    "\n",
    "cosmos = COSMOS[ds_mode][model_name]\n",
    "xx = XX[ds_mode][model_name]\n",
    "aug_params = AUG_PARAMS[ds_mode][model_name]\n",
    "extended_aug_params = EXTENDED_AUG_PARAMS[ds_mode][model_name]\n",
    "\n",
    "print(cosmos.shape)\n",
    "print(np.min(cosmos, axis=0))\n",
    "print(np.max(cosmos, axis=0))\n",
    "\n",
    "print(xx.shape)\n",
    "print(xx.min())\n",
    "print(xx.max())\n",
    "\n",
    "print(aug_params.shape)\n",
    "tmp_aug_params = np.reshape(aug_params, (aug_params.shape[0]*aug_params.shape[1], aug_params.shape[-1]))\n",
    "print(tmp_aug_params.shape)\n",
    "print(np.min(tmp_aug_params, axis=0))\n",
    "print(np.max(tmp_aug_params, axis=0))\n",
    "\n",
    "print(extended_aug_params.shape)"
   ]
  },
  {
   "cell_type": "code",
   "execution_count": null,
   "id": "2d35ae49",
   "metadata": {
    "scrolled": false
   },
   "outputs": [],
   "source": [
    "ds_mode = 'TEST'\n",
    "# list_plot_models = [ \"Model_fixed_nl\"]\n",
    "# list_plot_models = [ \"Model_fixed_1\", \"Model_fixed_2\"]\n",
    "# list_plot_models = [ \"Model_vary_1\", \"Model_vary_2\"]\n",
    "list_plot_models = [ \"Model_fixed_illustris\", \"Model_fixed_eagle\"]\n",
    "# list_plot_models = [ \"Model_vary_all\"]\n",
    "\n",
    "fig, axs = mpl.pyplot.subplots(2,1,figsize=(9,9), gridspec_kw={'height_ratios': [1.5, 1]})\n",
    "axs[0].set_ylabel(r'$P(k) \\left[ \\left(h^{-1} \\mathrm{Mpc}\\right)^{3} \\right]$')\n",
    "axs[1].set_ylabel(r'$P_{Model}(k) / P_{nl}(k)$')\n",
    "axs[1].set_xlabel(r'$\\mathrm{Wavenumber}\\, k \\left[ h\\, \\mathrm{Mpc}^{-1} \\right]$')\n",
    "axs[0].set_title(ds_mode, fontsize=22)\n",
    "\n",
    "N_plot_cosmo = 5\n",
    "indexes_cosmo = np.random.choice(XX[ds_mode][model_name].shape[0], N_plot_cosmo, replace=False)\n",
    "# print(\"indexes_cosmo\", indexes_cosmo)\n",
    "\n",
    "colors = cl_inference.plot_utils.get_N_colors(N_plot_cosmo, mpl.colormaps['prism'])\n",
    "linestyles = cl_inference.plot_utils.get_N_linestyles(len(list_plot_models))\n",
    "custom_lines_cosmo = []\n",
    "custom_names_cosmo = []\n",
    "custom_lines_augs = []\n",
    "custom_names_augs = []\n",
    "for ii_cosmo, index_cosmo in enumerate(indexes_cosmo):\n",
    "    custom_lines_cosmo.append(mpl.lines.Line2D([0], [0], color=colors[ii_cosmo], ls='-', lw=10, marker=None, markersize=8))\n",
    "    custom_names_cosmo.append('Cosmo # '+str(ii_cosmo))\n",
    "    for ii_model, model_name in enumerate(list_plot_models):\n",
    "        axs[0].plot(\n",
    "            np.array(kk), 10**XX[ds_mode][model_name][ii_cosmo,:].T,\n",
    "            c=colors[ii_cosmo], linestyle=linestyles[ii_model], lw=1, marker=None, ms=2\n",
    "        )\n",
    "        axs[1].plot(\n",
    "            np.array(kk),\n",
    "            10**(XX[ds_mode][model_name][ii_cosmo,:].T)/10**(XX[ds_mode]['Model_fixed_nl'][ii_cosmo,:].T),\n",
    "            c=colors[ii_cosmo], linestyle=linestyles[ii_model], lw=1, marker=None, ms=2\n",
    "         )\n",
    "        if ii_cosmo == 0:\n",
    "            custom_lines_augs.append(mpl.lines.Line2D([0], [0], color='grey', ls=linestyles[ii_model], lw=1, marker=None, markersize=8))\n",
    "            custom_names_augs.append('Aug - '+model_name)\n",
    "\n",
    "axs[0].axvline(10**kmax, c='k', ls=':', lw=1)\n",
    "axs[1].axvline(10**kmax, c='k', ls=':', lw=1)\n",
    "            \n",
    "axs[0].set_xscale('log')\n",
    "axs[1].set_xscale('log')\n",
    "axs[0].set_yscale('log')\n",
    "legend = axs[0].legend(custom_lines_cosmo, custom_names_cosmo, loc='lower left', fancybox=True, shadow=True, ncol=1,fontsize=16)\n",
    "axs[0].add_artist(legend)\n",
    "legend = axs[1].legend(custom_lines_augs, custom_names_augs, loc='upper left', fancybox=True, shadow=True, ncol=1,fontsize=12)\n",
    "axs[1].add_artist(legend)\n",
    "axs[0].set_xlim([0.01, 4.5])\n",
    "axs[1].set_xlim([0.01, 4.5])\n",
    "axs[0].set_ylim([40., 50000])\n",
    "axs[1].set_ylim([0.78, 1.2])\n",
    "axs[0].set_xticklabels([])\n",
    "plt.tight_layout()\n",
    "plt.show()"
   ]
  },
  {
   "cell_type": "code",
   "execution_count": null,
   "id": "08b570a5",
   "metadata": {},
   "outputs": [],
   "source": []
  }
 ],
 "metadata": {
  "kernelspec": {
   "display_name": "Python 3 (ipykernel)",
   "language": "python",
   "name": "python3"
  },
  "language_info": {
   "codemirror_mode": {
    "name": "ipython",
    "version": 3
   },
   "file_extension": ".py",
   "mimetype": "text/x-python",
   "name": "python",
   "nbconvert_exporter": "python",
   "pygments_lexer": "ipython3",
   "version": "3.9.18"
  }
 },
 "nbformat": 4,
 "nbformat_minor": 5
}
