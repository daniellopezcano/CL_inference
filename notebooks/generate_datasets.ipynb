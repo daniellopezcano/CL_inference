{
 "cells": [
  {
   "cell_type": "markdown",
   "id": "5473b80a",
   "metadata": {},
   "source": [
    "# IMPORTS"
   ]
  },
  {
   "cell_type": "code",
   "execution_count": 1,
   "id": "c1cfbc04",
   "metadata": {},
   "outputs": [
    {
     "name": "stderr",
     "output_type": "stream",
     "text": [
      "2024-06-25 15:57:04,136 - INFO - Note: NumExpr detected 48 cores but \"NUMEXPR_MAX_THREADS\" not set, so enforcing safe limit of 8.\n"
     ]
    }
   ],
   "source": [
    "import logging\n",
    "logging.basicConfig(level=logging.INFO, format='%(asctime)s - %(levelname)s - %(message)s') # NOTSET, DEBUG, INFO, WARN, ERROR, CRITICAL\n",
    "\n",
    "%load_ext autoreload\n",
    "import os, sys\n",
    "import numpy as np\n",
    "import CL_inference as cl_inference\n",
    "\n",
    "from bacco.baryons import emu_pars\n",
    "\n",
    "%matplotlib notebook\n",
    "import matplotlib as mpl\n",
    "import matplotlib.pyplot as plt\n",
    "plt.style.use('default')\n",
    "plt.close('all')\n",
    "\n",
    "font, rcnew = cl_inference.plot_utils.matplotlib_default_config()\n",
    "mpl.rc('font', **font)\n",
    "plt.rcParams.update(rcnew)\n",
    "plt.style.use('tableau-colorblind10')\n",
    "%config InlineBackend.figure_format = 'retina'"
   ]
  },
  {
   "cell_type": "markdown",
   "id": "1d8bc0bf",
   "metadata": {},
   "source": [
    "# SETUP TO GENERATE DATASETS"
   ]
  },
  {
   "cell_type": "markdown",
   "id": "61ce038c",
   "metadata": {},
   "source": [
    "##### Define in \"path_save_root\" the path where the datasets will be stored. Also define boxsize and kmax"
   ]
  },
  {
   "cell_type": "code",
   "execution_count": 2,
   "id": "91622d45",
   "metadata": {},
   "outputs": [],
   "source": [
    "box = 2000\n",
    "factor_kmin_cut = 4\n",
    "kmax = 0.6\n",
    "path_save_root = os.path.join(\"/cosmos_storage/home/dlopez/Projects/CL_inference/DATASETS\", \"DATASET_kmax_\"+str(kmax))"
   ]
  },
  {
   "cell_type": "code",
   "execution_count": 3,
   "id": "6b10ab57",
   "metadata": {},
   "outputs": [],
   "source": [
    "box = 5000\n",
    "factor_kmin_cut = 5\n",
    "kmax = 0.6\n",
    "path_save_root = os.path.join(\"/cosmos_storage/home/dlopez/Projects/CL_inference/DATASETS_box_5000\", \"DATASET_kmax_\"+str(kmax))"
   ]
  },
  {
   "cell_type": "markdown",
   "id": "0ccaa566",
   "metadata": {},
   "source": [
    "##### Define dictionaries with cosmological prior ranges for training, validation and test sets. Also number of cosmologies to sample."
   ]
  },
  {
   "cell_type": "markdown",
   "id": "4e28a0d2",
   "metadata": {},
   "source": [
    "Cosmological prior range for training"
   ]
  },
  {
   "cell_type": "code",
   "execution_count": 4,
   "id": "30886a00",
   "metadata": {},
   "outputs": [],
   "source": [
    "dict_bounds_cosmo_train = dict(\n",
    "    omega_cold    = [0.24, 0.39],\n",
    "    omega_baryon  = [0.041, 0.059],\n",
    "    hubble        = [0.61, 0.79],\n",
    "    ns            = [0.93, 1.0],\n",
    "    sigma8_cold   = [0.74, 0.89],\n",
    "    expfactor     = 1.,\n",
    "    neutrino_mass = 0.,\n",
    "    w0            = -1.,\n",
    "    wa            = 0.\n",
    ")\n",
    "NN_samples_cosmo_train = 8192\n",
    "seed_train = 0"
   ]
  },
  {
   "cell_type": "markdown",
   "id": "d62d8265",
   "metadata": {},
   "source": [
    "Cosmological prior range for validation"
   ]
  },
  {
   "cell_type": "code",
   "execution_count": 5,
   "id": "c71488fd",
   "metadata": {},
   "outputs": [],
   "source": [
    "dict_bounds_cosmo_val = dict(\n",
    "    omega_cold    = [0.24, 0.39],\n",
    "    omega_baryon  = [0.041, 0.059],\n",
    "    hubble        = [0.61, 0.79],\n",
    "    ns            = [0.93, 1.0],\n",
    "    sigma8_cold   = [0.74, 0.89],\n",
    "    expfactor     = 1.,\n",
    "    neutrino_mass = 0.,\n",
    "    w0            = -1.,\n",
    "    wa            = 0.\n",
    ")\n",
    "NN_samples_cosmo_val = 2048\n",
    "seed_val = 1"
   ]
  },
  {
   "cell_type": "markdown",
   "id": "ad866c3b",
   "metadata": {},
   "source": [
    "Cosmological prior range for test"
   ]
  },
  {
   "cell_type": "code",
   "execution_count": 6,
   "id": "8377a977",
   "metadata": {},
   "outputs": [],
   "source": [
    "dict_bounds_cosmo_test = dict(\n",
    "    omega_cold    = [0.24, 0.39],\n",
    "    omega_baryon  = [0.041, 0.059],\n",
    "    hubble        = [0.61, 0.79],\n",
    "    ns            = [0.93, 1.0],\n",
    "    sigma8_cold   = [0.74, 0.89],\n",
    "    expfactor     = 1.,\n",
    "    neutrino_mass = 0.,\n",
    "    w0            = -1.,\n",
    "    wa            = 0.\n",
    ")\n",
    "NN_samples_cosmo_test = 2048\n",
    "seed_test = 2"
   ]
  },
  {
   "cell_type": "markdown",
   "id": "e4b4d4fa",
   "metadata": {},
   "source": [
    "##### Define dictionaries with baryonic parameters"
   ]
  },
  {
   "cell_type": "markdown",
   "id": "c741c1a7",
   "metadata": {},
   "source": [
    "model_bahamas"
   ]
  },
  {
   "cell_type": "code",
   "execution_count": 7,
   "id": "b69d5ca8",
   "metadata": {},
   "outputs": [],
   "source": [
    "hydro_key = \"bahamas\"\n",
    "dict_bounds_augs_bahamas = dict(\n",
    "    M_c       = emu_pars(model=hydro_key)['z_0.0']['M_c'],\n",
    "    eta       = emu_pars(model=hydro_key)['z_0.0']['eta'],\n",
    "    beta      = emu_pars(model=hydro_key)['z_0.0']['beta'],\n",
    "    M1_z0_cen = emu_pars(model=hydro_key)['z_0.0']['M1_z0_cen'],\n",
    "    theta_out = emu_pars(model=hydro_key)['z_0.0']['theta_out'],\n",
    "    theta_inn = emu_pars(model=hydro_key)['z_0.0']['theta_inn'],\n",
    "    M_inn     = emu_pars(model=hydro_key)['z_0.0']['M_inn']\n",
    ")"
   ]
  },
  {
   "cell_type": "markdown",
   "id": "149650a6",
   "metadata": {},
   "source": [
    "model_eagle"
   ]
  },
  {
   "cell_type": "code",
   "execution_count": 8,
   "id": "edc38054",
   "metadata": {},
   "outputs": [],
   "source": [
    "hydro_key = \"eagle\"\n",
    "dict_bounds_augs_eagle = dict(\n",
    "    M_c       = emu_pars(model=hydro_key)['z_0.0']['M_c'],\n",
    "    eta       = emu_pars(model=hydro_key)['z_0.0']['eta'],\n",
    "    beta      = emu_pars(model=hydro_key)['z_0.0']['beta'],\n",
    "    M1_z0_cen = emu_pars(model=hydro_key)['z_0.0']['M1_z0_cen'],\n",
    "    theta_out = emu_pars(model=hydro_key)['z_0.0']['theta_out'],\n",
    "    theta_inn = emu_pars(model=hydro_key)['z_0.0']['theta_inn'],\n",
    "    M_inn     = emu_pars(model=hydro_key)['z_0.0']['M_inn']\n",
    ")"
   ]
  },
  {
   "cell_type": "markdown",
   "id": "a7ad5f95",
   "metadata": {},
   "source": [
    "model_illustris"
   ]
  },
  {
   "cell_type": "code",
   "execution_count": 9,
   "id": "b6914479",
   "metadata": {},
   "outputs": [],
   "source": [
    "hydro_key = \"illustris\"\n",
    "dict_bounds_augs_illustris = dict(\n",
    "    M_c       = emu_pars(model=hydro_key)['z_0.0']['M_c'],\n",
    "    eta       = emu_pars(model=hydro_key)['z_0.0']['eta'],\n",
    "    beta      = emu_pars(model=hydro_key)['z_0.0']['beta'],\n",
    "    M1_z0_cen = emu_pars(model=hydro_key)['z_0.0']['M1_z0_cen'],\n",
    "    theta_out = emu_pars(model=hydro_key)['z_0.0']['theta_out'],\n",
    "    theta_inn = emu_pars(model=hydro_key)['z_0.0']['theta_inn'],\n",
    "    M_inn     = emu_pars(model=hydro_key)['z_0.0']['M_inn']\n",
    ")"
   ]
  },
  {
   "cell_type": "markdown",
   "id": "d06e231d",
   "metadata": {},
   "source": [
    "model_vary1"
   ]
  },
  {
   "cell_type": "code",
   "execution_count": 10,
   "id": "3346eebe",
   "metadata": {},
   "outputs": [],
   "source": [
    "dict_bounds_augs_vary1 = dict(\n",
    "    M_c       = [9.0, 15.0],\n",
    "    eta       = [-0.69, 0.69],\n",
    "    beta      = 0.,\n",
    "    M1_z0_cen = 12.,\n",
    "    theta_out = 0.,\n",
    "    theta_inn = -1.,\n",
    "    M_inn     = 13.\n",
    ")"
   ]
  },
  {
   "cell_type": "markdown",
   "id": "5367713a",
   "metadata": {},
   "source": [
    "model_vary2"
   ]
  },
  {
   "cell_type": "code",
   "execution_count": 11,
   "id": "92baa1bb",
   "metadata": {},
   "outputs": [],
   "source": [
    "dict_bounds_augs_vary2 = dict(\n",
    "    M_c       = 13.5,\n",
    "    eta       = 0.,\n",
    "    beta      = [-1.00, 0.69],\n",
    "    M1_z0_cen = [9.0, 13.0],\n",
    "    theta_out = 0.,\n",
    "    theta_inn = -1.,\n",
    "    M_inn     = 13.\n",
    ")"
   ]
  },
  {
   "cell_type": "markdown",
   "id": "8a80225c",
   "metadata": {},
   "source": [
    "model_vary3"
   ]
  },
  {
   "cell_type": "code",
   "execution_count": 12,
   "id": "8f89abbd",
   "metadata": {},
   "outputs": [],
   "source": [
    "dict_bounds_augs_vary3 = dict(\n",
    "    M_c       = 13.5,\n",
    "    eta       = 0.,\n",
    "    beta      = 0.,\n",
    "    M1_z0_cen = 12.,\n",
    "    theta_out = [0., 0.47],\n",
    "    theta_inn = [-2.0, -0.523],\n",
    "    M_inn     = [9.0, 13.5]\n",
    ")"
   ]
  },
  {
   "cell_type": "markdown",
   "id": "fa9bb5ff",
   "metadata": {},
   "source": [
    "model_fixed"
   ]
  },
  {
   "cell_type": "code",
   "execution_count": 13,
   "id": "0b709f45",
   "metadata": {},
   "outputs": [
    {
     "name": "stderr",
     "output_type": "stream",
     "text": [
      "2024-06-25 15:57:11,371 - INFO - Generating Latin Hypercube samples...\n"
     ]
    }
   ],
   "source": [
    "NN_fixed_latin = 10\n",
    "dict_bounds_augs_fixed = dict(\n",
    "    M_c       = [9.0, 15.0],\n",
    "    eta       = [-0.69, 0.69],\n",
    "    beta      = [-1.00, 0.69],\n",
    "    M1_z0_cen = [9.0, 13.0],\n",
    "    theta_out = [0., 0.47],\n",
    "    theta_inn = [-2.0, -0.523],\n",
    "    M_inn     = [9.0, 13.5]\n",
    ")\n",
    "sample_fixed_baryon_models = cl_inference.preprocessing_tools.sample_latin_hypercube(\n",
    "    dict_bounds_augs_fixed, N_points=NN_fixed_latin, seed=0\n",
    ")"
   ]
  },
  {
   "cell_type": "markdown",
   "id": "f2bfe9d0",
   "metadata": {},
   "source": [
    "##### Save the generated quantities to validate the datasets"
   ]
  },
  {
   "cell_type": "code",
   "execution_count": 14,
   "id": "eb156b63",
   "metadata": {},
   "outputs": [],
   "source": [
    "COSMOS = {}\n",
    "XX = {}\n",
    "AUG_PARAMS = {}\n",
    "EXTENDED_AUG_PARAMS = {}"
   ]
  },
  {
   "cell_type": "markdown",
   "id": "da6c608c",
   "metadata": {},
   "source": [
    "# Generate training set"
   ]
  },
  {
   "cell_type": "code",
   "execution_count": 15,
   "id": "7dde4680",
   "metadata": {
    "scrolled": true
   },
   "outputs": [],
   "source": [
    "ds_mode = 'TRAIN'\n",
    "COSMOS[ds_mode] = {}\n",
    "XX[ds_mode] = {}\n",
    "AUG_PARAMS[ds_mode] = {}\n",
    "EXTENDED_AUG_PARAMS[ds_mode] = {}\n",
    "\n",
    "path_save = os.path.join(path_save_root, ds_mode)"
   ]
  },
  {
   "cell_type": "code",
   "execution_count": 16,
   "id": "4d1f40e4",
   "metadata": {
    "scrolled": true
   },
   "outputs": [
    {
     "name": "stderr",
     "output_type": "stream",
     "text": [
      "2024-06-25 15:57:11,403 - INFO - Generating baccoemu dataset...\n",
      "2024-06-25 15:57:11,404 - INFO - Generating Latin Hypercube samples...\n",
      "2024-06-25 15:57:11,412 - INFO - Generating Latin Hypercube samples...\n",
      "2024-06-25 15:57:11,436 - INFO - Generating power spectrum using baccoemu emulator...\n",
      "2024-06-25 15:57:12.495090: I external/local_tsl/tsl/cuda/cudart_stub.cc:31] Could not find cuda drivers on your machine, GPU will not be used.\n",
      "2024-06-25 15:57:12.786385: E external/local_xla/xla/stream_executor/cuda/cuda_dnn.cc:9261] Unable to register cuDNN factory: Attempting to register factory for plugin cuDNN when one has already been registered\n",
      "2024-06-25 15:57:12.786519: E external/local_xla/xla/stream_executor/cuda/cuda_fft.cc:607] Unable to register cuFFT factory: Attempting to register factory for plugin cuFFT when one has already been registered\n",
      "2024-06-25 15:57:12.825251: E external/local_xla/xla/stream_executor/cuda/cuda_blas.cc:1515] Unable to register cuBLAS factory: Attempting to register factory for plugin cuBLAS when one has already been registered\n",
      "2024-06-25 15:57:12.916466: I tensorflow/core/platform/cpu_feature_guard.cc:182] This TensorFlow binary is optimized to use available CPU instructions in performance-critical operations.\n",
      "To enable the following instructions: AVX2 AVX512F FMA, in other operations, rebuild TensorFlow with the appropriate compiler flags.\n",
      "2024-06-25 15:57:16.648280: W tensorflow/compiler/tf2tensorrt/utils/py_utils.cc:38] TF-TRT Warning: Could not find TensorRT\n",
      "2024-06-25 15:57:21.255417: W tensorflow/core/common_runtime/gpu/gpu_device.cc:2256] Cannot dlopen some GPU libraries. Please make sure the missing libraries mentioned above are installed properly if you would like to use GPU. Follow the guide at https://www.tensorflow.org/install/gpu for how to download and setup the required libraries for your platform.\n",
      "Skipping registering GPU devices...\n"
     ]
    },
    {
     "name": "stdout",
     "output_type": "stream",
     "text": [
      "Loading sigma8 emulator...\n"
     ]
    },
    {
     "name": "stderr",
     "output_type": "stream",
     "text": [
      "2024-06-25 15:57:21,842 - INFO - Fingerprint not found. Saved model loading will continue.\n",
      "2024-06-25 15:57:21,843 - INFO - path_and_singleprint metric could not be logged. Saved model loading will continue.\n",
      "2024-06-25 15:57:22,042 - INFO - Fingerprint not found. Saved model loading will continue.\n",
      "2024-06-25 15:57:22,043 - INFO - path_and_singleprint metric could not be logged. Saved model loading will continue.\n"
     ]
    },
    {
     "name": "stdout",
     "output_type": "stream",
     "text": [
      "Sigma8 emulator loaded in memory.\n",
      "Loading linear emulator...\n"
     ]
    },
    {
     "name": "stderr",
     "output_type": "stream",
     "text": [
      "/dipc/dlopez/.conda/envs/VE_torch/lib/python3.9/site-packages/sklearn/base.py:348: InconsistentVersionWarning: Trying to unpickle estimator PCA from version 1.0 when using version 1.3.2. This might lead to breaking code or invalid results. Use at your own risk. For more info please refer to:\n",
      "https://scikit-learn.org/stable/model_persistence.html#security-maintainability-limitations\n",
      "  warnings.warn(\n",
      "/dipc/dlopez/.conda/envs/VE_torch/lib/python3.9/site-packages/sklearn/base.py:348: InconsistentVersionWarning: Trying to unpickle estimator StandardScaler from version 1.0 when using version 1.3.2. This might lead to breaking code or invalid results. Use at your own risk. For more info please refer to:\n",
      "https://scikit-learn.org/stable/model_persistence.html#security-maintainability-limitations\n",
      "  warnings.warn(\n",
      "2024-06-25 15:57:22,644 - INFO - Fingerprint not found. Saved model loading will continue.\n",
      "2024-06-25 15:57:22,646 - INFO - path_and_singleprint metric could not be logged. Saved model loading will continue.\n",
      "/dipc/dlopez/.conda/envs/VE_torch/lib/python3.9/site-packages/sklearn/base.py:348: InconsistentVersionWarning: Trying to unpickle estimator PCA from version 1.0 when using version 1.3.2. This might lead to breaking code or invalid results. Use at your own risk. For more info please refer to:\n",
      "https://scikit-learn.org/stable/model_persistence.html#security-maintainability-limitations\n",
      "  warnings.warn(\n",
      "/dipc/dlopez/.conda/envs/VE_torch/lib/python3.9/site-packages/sklearn/base.py:348: InconsistentVersionWarning: Trying to unpickle estimator StandardScaler from version 1.0 when using version 1.3.2. This might lead to breaking code or invalid results. Use at your own risk. For more info please refer to:\n",
      "https://scikit-learn.org/stable/model_persistence.html#security-maintainability-limitations\n",
      "  warnings.warn(\n",
      "2024-06-25 15:57:22,845 - INFO - Fingerprint not found. Saved model loading will continue.\n",
      "2024-06-25 15:57:22,847 - INFO - path_and_singleprint metric could not be logged. Saved model loading will continue.\n",
      "/dipc/dlopez/.conda/envs/VE_torch/lib/python3.9/site-packages/sklearn/base.py:348: InconsistentVersionWarning: Trying to unpickle estimator StandardScaler from version 1.0.2 when using version 1.3.2. This might lead to breaking code or invalid results. Use at your own risk. For more info please refer to:\n",
      "https://scikit-learn.org/stable/model_persistence.html#security-maintainability-limitations\n",
      "  warnings.warn(\n"
     ]
    },
    {
     "name": "stdout",
     "output_type": "stream",
     "text": [
      "Linear emulator loaded in memory.\n",
      "Loading no-wiggles emulator...\n",
      "No-wiggles emulator loaded in memory.\n",
      "Loading non-linear emulator...\n"
     ]
    },
    {
     "name": "stderr",
     "output_type": "stream",
     "text": [
      "2024-06-25 15:57:23,043 - INFO - Fingerprint not found. Saved model loading will continue.\n",
      "2024-06-25 15:57:23,044 - INFO - path_and_singleprint metric could not be logged. Saved model loading will continue.\n",
      "/dipc/dlopez/.conda/envs/VE_torch/lib/python3.9/site-packages/sklearn/base.py:348: InconsistentVersionWarning: Trying to unpickle estimator StandardScaler from version 0.22.1 when using version 1.3.2. This might lead to breaking code or invalid results. Use at your own risk. For more info please refer to:\n",
      "https://scikit-learn.org/stable/model_persistence.html#security-maintainability-limitations\n",
      "  warnings.warn(\n",
      "/dipc/dlopez/.conda/envs/VE_torch/lib/python3.9/site-packages/sklearn/base.py:348: InconsistentVersionWarning: Trying to unpickle estimator PCA from version 0.22.1 when using version 1.3.2. This might lead to breaking code or invalid results. Use at your own risk. For more info please refer to:\n",
      "https://scikit-learn.org/stable/model_persistence.html#security-maintainability-limitations\n",
      "  warnings.warn(\n",
      "2024-06-25 15:57:23,221 - INFO - Fingerprint not found. Saved model loading will continue.\n",
      "2024-06-25 15:57:23,222 - INFO - path_and_singleprint metric could not be logged. Saved model loading will continue.\n",
      "/dipc/dlopez/.conda/envs/VE_torch/lib/python3.9/site-packages/sklearn/base.py:348: InconsistentVersionWarning: Trying to unpickle estimator StandardScaler from version 0.23.2 when using version 1.3.2. This might lead to breaking code or invalid results. Use at your own risk. For more info please refer to:\n",
      "https://scikit-learn.org/stable/model_persistence.html#security-maintainability-limitations\n",
      "  warnings.warn(\n",
      "/dipc/dlopez/.conda/envs/VE_torch/lib/python3.9/site-packages/sklearn/base.py:348: InconsistentVersionWarning: Trying to unpickle estimator PCA from version 0.23.2 when using version 1.3.2. This might lead to breaking code or invalid results. Use at your own risk. For more info please refer to:\n",
      "https://scikit-learn.org/stable/model_persistence.html#security-maintainability-limitations\n",
      "  warnings.warn(\n"
     ]
    },
    {
     "name": "stdout",
     "output_type": "stream",
     "text": [
      "Nonlinear emulator loaded in memory.\n",
      "Loading Baryonic Emulator...\n",
      "Baryonic Emulator loaded in memory.\n"
     ]
    }
   ],
   "source": [
    "model_name = \"Model_fixed_nl\"\n",
    "mode_baccoemu = \"nonlinear\"\n",
    "NN_samples_augs = 1\n",
    "COSMOS[ds_mode][model_name], XX[ds_mode][model_name], AUG_PARAMS[ds_mode][model_name], EXTENDED_AUG_PARAMS[ds_mode][model_name] = cl_inference.preprocessing_tools.generate_baccoemu_dataset(\n",
    "    NN_samples_cosmo  = NN_samples_cosmo_train,\n",
    "    NN_samples_augs   = NN_samples_augs,\n",
    "    dict_bounds_cosmo = dict_bounds_cosmo_train,\n",
    "    seed              = seed_train,\n",
    "    path_save         = path_save,\n",
    "    model_name        = model_name,\n",
    "    mode_baccoemu     = mode_baccoemu,\n",
    "    kmax              = kmax, box=box, factor_kmin_cut=factor_kmin_cut\n",
    ")"
   ]
  },
  {
   "cell_type": "code",
   "execution_count": 17,
   "id": "aa7c9644",
   "metadata": {
    "scrolled": true
   },
   "outputs": [
    {
     "name": "stderr",
     "output_type": "stream",
     "text": [
      "2024-06-25 15:57:25,350 - INFO - Generating baccoemu dataset...\n",
      "2024-06-25 15:57:25,354 - INFO - Generating Latin Hypercube samples...\n",
      "2024-06-25 15:57:25,360 - INFO - Generating Latin Hypercube samples...\n",
      "2024-06-25 15:57:25,602 - INFO - Generating power spectrum using baccoemu emulator...\n",
      "2024-06-25 15:57:25,769 - INFO - Fingerprint not found. Saved model loading will continue.\n",
      "2024-06-25 15:57:25,770 - INFO - path_and_singleprint metric could not be logged. Saved model loading will continue.\n"
     ]
    },
    {
     "name": "stdout",
     "output_type": "stream",
     "text": [
      "Loading sigma8 emulator...\n",
      "Sigma8 emulator loaded in memory.\n",
      "Loading linear emulator...\n"
     ]
    },
    {
     "name": "stderr",
     "output_type": "stream",
     "text": [
      "2024-06-25 15:57:25,944 - INFO - Fingerprint not found. Saved model loading will continue.\n",
      "2024-06-25 15:57:25,945 - INFO - path_and_singleprint metric could not be logged. Saved model loading will continue.\n",
      "/dipc/dlopez/.conda/envs/VE_torch/lib/python3.9/site-packages/sklearn/base.py:348: InconsistentVersionWarning: Trying to unpickle estimator PCA from version 1.0 when using version 1.3.2. This might lead to breaking code or invalid results. Use at your own risk. For more info please refer to:\n",
      "https://scikit-learn.org/stable/model_persistence.html#security-maintainability-limitations\n",
      "  warnings.warn(\n",
      "/dipc/dlopez/.conda/envs/VE_torch/lib/python3.9/site-packages/sklearn/base.py:348: InconsistentVersionWarning: Trying to unpickle estimator StandardScaler from version 1.0 when using version 1.3.2. This might lead to breaking code or invalid results. Use at your own risk. For more info please refer to:\n",
      "https://scikit-learn.org/stable/model_persistence.html#security-maintainability-limitations\n",
      "  warnings.warn(\n",
      "2024-06-25 15:57:26,111 - INFO - Fingerprint not found. Saved model loading will continue.\n",
      "2024-06-25 15:57:26,112 - INFO - path_and_singleprint metric could not be logged. Saved model loading will continue.\n",
      "/dipc/dlopez/.conda/envs/VE_torch/lib/python3.9/site-packages/sklearn/base.py:348: InconsistentVersionWarning: Trying to unpickle estimator PCA from version 1.0 when using version 1.3.2. This might lead to breaking code or invalid results. Use at your own risk. For more info please refer to:\n",
      "https://scikit-learn.org/stable/model_persistence.html#security-maintainability-limitations\n",
      "  warnings.warn(\n",
      "/dipc/dlopez/.conda/envs/VE_torch/lib/python3.9/site-packages/sklearn/base.py:348: InconsistentVersionWarning: Trying to unpickle estimator StandardScaler from version 1.0 when using version 1.3.2. This might lead to breaking code or invalid results. Use at your own risk. For more info please refer to:\n",
      "https://scikit-learn.org/stable/model_persistence.html#security-maintainability-limitations\n",
      "  warnings.warn(\n",
      "2024-06-25 15:57:26,334 - INFO - Fingerprint not found. Saved model loading will continue.\n",
      "2024-06-25 15:57:26,336 - INFO - path_and_singleprint metric could not be logged. Saved model loading will continue.\n"
     ]
    },
    {
     "name": "stdout",
     "output_type": "stream",
     "text": [
      "Linear emulator loaded in memory.\n",
      "Loading no-wiggles emulator...\n"
     ]
    },
    {
     "name": "stderr",
     "output_type": "stream",
     "text": [
      "/dipc/dlopez/.conda/envs/VE_torch/lib/python3.9/site-packages/sklearn/base.py:348: InconsistentVersionWarning: Trying to unpickle estimator StandardScaler from version 1.0.2 when using version 1.3.2. This might lead to breaking code or invalid results. Use at your own risk. For more info please refer to:\n",
      "https://scikit-learn.org/stable/model_persistence.html#security-maintainability-limitations\n",
      "  warnings.warn(\n",
      "2024-06-25 15:57:26,531 - INFO - Fingerprint not found. Saved model loading will continue.\n",
      "2024-06-25 15:57:26,532 - INFO - path_and_singleprint metric could not be logged. Saved model loading will continue.\n",
      "/dipc/dlopez/.conda/envs/VE_torch/lib/python3.9/site-packages/sklearn/base.py:348: InconsistentVersionWarning: Trying to unpickle estimator StandardScaler from version 0.22.1 when using version 1.3.2. This might lead to breaking code or invalid results. Use at your own risk. For more info please refer to:\n",
      "https://scikit-learn.org/stable/model_persistence.html#security-maintainability-limitations\n",
      "  warnings.warn(\n",
      "/dipc/dlopez/.conda/envs/VE_torch/lib/python3.9/site-packages/sklearn/base.py:348: InconsistentVersionWarning: Trying to unpickle estimator PCA from version 0.22.1 when using version 1.3.2. This might lead to breaking code or invalid results. Use at your own risk. For more info please refer to:\n",
      "https://scikit-learn.org/stable/model_persistence.html#security-maintainability-limitations\n",
      "  warnings.warn(\n"
     ]
    },
    {
     "name": "stdout",
     "output_type": "stream",
     "text": [
      "No-wiggles emulator loaded in memory.\n",
      "Loading non-linear emulator...\n",
      "Nonlinear emulator loaded in memory.\n",
      "Loading Baryonic Emulator...\n"
     ]
    },
    {
     "name": "stderr",
     "output_type": "stream",
     "text": [
      "2024-06-25 15:57:27,075 - INFO - Fingerprint not found. Saved model loading will continue.\n",
      "2024-06-25 15:57:27,076 - INFO - path_and_singleprint metric could not be logged. Saved model loading will continue.\n",
      "/dipc/dlopez/.conda/envs/VE_torch/lib/python3.9/site-packages/sklearn/base.py:348: InconsistentVersionWarning: Trying to unpickle estimator StandardScaler from version 0.23.2 when using version 1.3.2. This might lead to breaking code or invalid results. Use at your own risk. For more info please refer to:\n",
      "https://scikit-learn.org/stable/model_persistence.html#security-maintainability-limitations\n",
      "  warnings.warn(\n",
      "/dipc/dlopez/.conda/envs/VE_torch/lib/python3.9/site-packages/sklearn/base.py:348: InconsistentVersionWarning: Trying to unpickle estimator PCA from version 0.23.2 when using version 1.3.2. This might lead to breaking code or invalid results. Use at your own risk. For more info please refer to:\n",
      "https://scikit-learn.org/stable/model_persistence.html#security-maintainability-limitations\n",
      "  warnings.warn(\n"
     ]
    },
    {
     "name": "stdout",
     "output_type": "stream",
     "text": [
      "Baryonic Emulator loaded in memory.\n"
     ]
    }
   ],
   "source": [
    "model_name = \"Model_vary_all\"\n",
    "NN_samples_augs = 20\n",
    "COSMOS[ds_mode][model_name], XX[ds_mode][model_name], AUG_PARAMS[ds_mode][model_name], EXTENDED_AUG_PARAMS[ds_mode][model_name] = cl_inference.preprocessing_tools.generate_baccoemu_dataset(\n",
    "    NN_samples_cosmo  = NN_samples_cosmo_train,\n",
    "    NN_samples_augs   = NN_samples_augs,\n",
    "    dict_bounds_cosmo = dict_bounds_cosmo_train,\n",
    "    seed              = seed_train,\n",
    "    path_save         = path_save,\n",
    "    model_name        = model_name,\n",
    "    kmax              = kmax, box=box, factor_kmin_cut=factor_kmin_cut\n",
    ")"
   ]
  },
  {
   "cell_type": "code",
   "execution_count": 18,
   "id": "70bf4bf4",
   "metadata": {
    "scrolled": true
   },
   "outputs": [
    {
     "name": "stderr",
     "output_type": "stream",
     "text": [
      "2024-06-25 15:58:08,877 - INFO - Generating baccoemu dataset...\n",
      "2024-06-25 15:58:08,879 - INFO - Generating Latin Hypercube samples...\n",
      "2024-06-25 15:58:08,882 - INFO - Generating power spectrum using baccoemu emulator...\n",
      "2024-06-25 15:58:09,074 - INFO - Fingerprint not found. Saved model loading will continue.\n",
      "2024-06-25 15:58:09,075 - INFO - path_and_singleprint metric could not be logged. Saved model loading will continue.\n"
     ]
    },
    {
     "name": "stdout",
     "output_type": "stream",
     "text": [
      "Loading sigma8 emulator...\n"
     ]
    },
    {
     "name": "stderr",
     "output_type": "stream",
     "text": [
      "2024-06-25 15:58:09,247 - INFO - Fingerprint not found. Saved model loading will continue.\n",
      "2024-06-25 15:58:09,248 - INFO - path_and_singleprint metric could not be logged. Saved model loading will continue.\n",
      "/dipc/dlopez/.conda/envs/VE_torch/lib/python3.9/site-packages/sklearn/base.py:348: InconsistentVersionWarning: Trying to unpickle estimator PCA from version 1.0 when using version 1.3.2. This might lead to breaking code or invalid results. Use at your own risk. For more info please refer to:\n",
      "https://scikit-learn.org/stable/model_persistence.html#security-maintainability-limitations\n",
      "  warnings.warn(\n",
      "/dipc/dlopez/.conda/envs/VE_torch/lib/python3.9/site-packages/sklearn/base.py:348: InconsistentVersionWarning: Trying to unpickle estimator StandardScaler from version 1.0 when using version 1.3.2. This might lead to breaking code or invalid results. Use at your own risk. For more info please refer to:\n",
      "https://scikit-learn.org/stable/model_persistence.html#security-maintainability-limitations\n",
      "  warnings.warn(\n"
     ]
    },
    {
     "name": "stdout",
     "output_type": "stream",
     "text": [
      "Sigma8 emulator loaded in memory.\n",
      "Loading linear emulator...\n"
     ]
    },
    {
     "name": "stderr",
     "output_type": "stream",
     "text": [
      "2024-06-25 15:58:09,405 - INFO - Fingerprint not found. Saved model loading will continue.\n",
      "2024-06-25 15:58:09,407 - INFO - path_and_singleprint metric could not be logged. Saved model loading will continue.\n",
      "/dipc/dlopez/.conda/envs/VE_torch/lib/python3.9/site-packages/sklearn/base.py:348: InconsistentVersionWarning: Trying to unpickle estimator PCA from version 1.0 when using version 1.3.2. This might lead to breaking code or invalid results. Use at your own risk. For more info please refer to:\n",
      "https://scikit-learn.org/stable/model_persistence.html#security-maintainability-limitations\n",
      "  warnings.warn(\n",
      "/dipc/dlopez/.conda/envs/VE_torch/lib/python3.9/site-packages/sklearn/base.py:348: InconsistentVersionWarning: Trying to unpickle estimator StandardScaler from version 1.0 when using version 1.3.2. This might lead to breaking code or invalid results. Use at your own risk. For more info please refer to:\n",
      "https://scikit-learn.org/stable/model_persistence.html#security-maintainability-limitations\n",
      "  warnings.warn(\n",
      "2024-06-25 15:58:09,598 - INFO - Fingerprint not found. Saved model loading will continue.\n",
      "2024-06-25 15:58:09,599 - INFO - path_and_singleprint metric could not be logged. Saved model loading will continue.\n",
      "/dipc/dlopez/.conda/envs/VE_torch/lib/python3.9/site-packages/sklearn/base.py:348: InconsistentVersionWarning: Trying to unpickle estimator StandardScaler from version 1.0.2 when using version 1.3.2. This might lead to breaking code or invalid results. Use at your own risk. For more info please refer to:\n",
      "https://scikit-learn.org/stable/model_persistence.html#security-maintainability-limitations\n",
      "  warnings.warn(\n"
     ]
    },
    {
     "name": "stdout",
     "output_type": "stream",
     "text": [
      "Linear emulator loaded in memory.\n",
      "Loading no-wiggles emulator...\n",
      "No-wiggles emulator loaded in memory.\n",
      "Loading non-linear emulator...\n"
     ]
    },
    {
     "name": "stderr",
     "output_type": "stream",
     "text": [
      "2024-06-25 15:58:09,774 - INFO - Fingerprint not found. Saved model loading will continue.\n",
      "2024-06-25 15:58:09,776 - INFO - path_and_singleprint metric could not be logged. Saved model loading will continue.\n",
      "/dipc/dlopez/.conda/envs/VE_torch/lib/python3.9/site-packages/sklearn/base.py:348: InconsistentVersionWarning: Trying to unpickle estimator StandardScaler from version 0.22.1 when using version 1.3.2. This might lead to breaking code or invalid results. Use at your own risk. For more info please refer to:\n",
      "https://scikit-learn.org/stable/model_persistence.html#security-maintainability-limitations\n",
      "  warnings.warn(\n",
      "/dipc/dlopez/.conda/envs/VE_torch/lib/python3.9/site-packages/sklearn/base.py:348: InconsistentVersionWarning: Trying to unpickle estimator PCA from version 0.22.1 when using version 1.3.2. This might lead to breaking code or invalid results. Use at your own risk. For more info please refer to:\n",
      "https://scikit-learn.org/stable/model_persistence.html#security-maintainability-limitations\n",
      "  warnings.warn(\n",
      "2024-06-25 15:58:09,942 - INFO - Fingerprint not found. Saved model loading will continue.\n",
      "2024-06-25 15:58:09,944 - INFO - path_and_singleprint metric could not be logged. Saved model loading will continue.\n",
      "/dipc/dlopez/.conda/envs/VE_torch/lib/python3.9/site-packages/sklearn/base.py:348: InconsistentVersionWarning: Trying to unpickle estimator StandardScaler from version 0.23.2 when using version 1.3.2. This might lead to breaking code or invalid results. Use at your own risk. For more info please refer to:\n",
      "https://scikit-learn.org/stable/model_persistence.html#security-maintainability-limitations\n",
      "  warnings.warn(\n",
      "/dipc/dlopez/.conda/envs/VE_torch/lib/python3.9/site-packages/sklearn/base.py:348: InconsistentVersionWarning: Trying to unpickle estimator PCA from version 0.23.2 when using version 1.3.2. This might lead to breaking code or invalid results. Use at your own risk. For more info please refer to:\n",
      "https://scikit-learn.org/stable/model_persistence.html#security-maintainability-limitations\n",
      "  warnings.warn(\n"
     ]
    },
    {
     "name": "stdout",
     "output_type": "stream",
     "text": [
      "Nonlinear emulator loaded in memory.\n",
      "Loading Baryonic Emulator...\n",
      "Baryonic Emulator loaded in memory.\n"
     ]
    }
   ],
   "source": [
    "hydro_key = 'bahamas'\n",
    "model_name = \"Model_fixed_\"+hydro_key\n",
    "NN_samples_augs = 1\n",
    "COSMOS[ds_mode][model_name], XX[ds_mode][model_name], AUG_PARAMS[ds_mode][model_name], EXTENDED_AUG_PARAMS[ds_mode][model_name] = cl_inference.preprocessing_tools.generate_baccoemu_dataset(\n",
    "    NN_samples_cosmo  = NN_samples_cosmo_train,\n",
    "    NN_samples_augs   = NN_samples_augs,\n",
    "    dict_bounds_cosmo = dict_bounds_cosmo_train,\n",
    "    dict_bounds_augs  = dict_bounds_augs_bahamas,\n",
    "    seed              = seed_train,\n",
    "    path_save         = path_save,\n",
    "    model_name        = model_name,\n",
    "    kmax              = kmax, box=box, factor_kmin_cut=factor_kmin_cut\n",
    ")"
   ]
  },
  {
   "cell_type": "code",
   "execution_count": 19,
   "id": "54717144",
   "metadata": {},
   "outputs": [
    {
     "name": "stderr",
     "output_type": "stream",
     "text": [
      "2024-06-25 15:58:11,293 - INFO - Generating baccoemu dataset...\n",
      "2024-06-25 15:58:11,295 - INFO - Generating Latin Hypercube samples...\n",
      "2024-06-25 15:58:11,298 - INFO - Generating power spectrum using baccoemu emulator...\n",
      "2024-06-25 15:58:11,460 - INFO - Fingerprint not found. Saved model loading will continue.\n",
      "2024-06-25 15:58:11,461 - INFO - path_and_singleprint metric could not be logged. Saved model loading will continue.\n"
     ]
    },
    {
     "name": "stdout",
     "output_type": "stream",
     "text": [
      "Loading sigma8 emulator...\n",
      "Sigma8 emulator loaded in memory.\n",
      "Loading linear emulator...\n"
     ]
    },
    {
     "name": "stderr",
     "output_type": "stream",
     "text": [
      "2024-06-25 15:58:11,614 - INFO - Fingerprint not found. Saved model loading will continue.\n",
      "2024-06-25 15:58:11,615 - INFO - path_and_singleprint metric could not be logged. Saved model loading will continue.\n",
      "/dipc/dlopez/.conda/envs/VE_torch/lib/python3.9/site-packages/sklearn/base.py:348: InconsistentVersionWarning: Trying to unpickle estimator PCA from version 1.0 when using version 1.3.2. This might lead to breaking code or invalid results. Use at your own risk. For more info please refer to:\n",
      "https://scikit-learn.org/stable/model_persistence.html#security-maintainability-limitations\n",
      "  warnings.warn(\n",
      "/dipc/dlopez/.conda/envs/VE_torch/lib/python3.9/site-packages/sklearn/base.py:348: InconsistentVersionWarning: Trying to unpickle estimator StandardScaler from version 1.0 when using version 1.3.2. This might lead to breaking code or invalid results. Use at your own risk. For more info please refer to:\n",
      "https://scikit-learn.org/stable/model_persistence.html#security-maintainability-limitations\n",
      "  warnings.warn(\n",
      "2024-06-25 15:58:11,778 - INFO - Fingerprint not found. Saved model loading will continue.\n",
      "2024-06-25 15:58:11,780 - INFO - path_and_singleprint metric could not be logged. Saved model loading will continue.\n",
      "/dipc/dlopez/.conda/envs/VE_torch/lib/python3.9/site-packages/sklearn/base.py:348: InconsistentVersionWarning: Trying to unpickle estimator PCA from version 1.0 when using version 1.3.2. This might lead to breaking code or invalid results. Use at your own risk. For more info please refer to:\n",
      "https://scikit-learn.org/stable/model_persistence.html#security-maintainability-limitations\n",
      "  warnings.warn(\n",
      "/dipc/dlopez/.conda/envs/VE_torch/lib/python3.9/site-packages/sklearn/base.py:348: InconsistentVersionWarning: Trying to unpickle estimator StandardScaler from version 1.0 when using version 1.3.2. This might lead to breaking code or invalid results. Use at your own risk. For more info please refer to:\n",
      "https://scikit-learn.org/stable/model_persistence.html#security-maintainability-limitations\n",
      "  warnings.warn(\n",
      "2024-06-25 15:58:11,974 - INFO - Fingerprint not found. Saved model loading will continue.\n",
      "2024-06-25 15:58:11,975 - INFO - path_and_singleprint metric could not be logged. Saved model loading will continue.\n",
      "/dipc/dlopez/.conda/envs/VE_torch/lib/python3.9/site-packages/sklearn/base.py:348: InconsistentVersionWarning: Trying to unpickle estimator StandardScaler from version 1.0.2 when using version 1.3.2. This might lead to breaking code or invalid results. Use at your own risk. For more info please refer to:\n",
      "https://scikit-learn.org/stable/model_persistence.html#security-maintainability-limitations\n",
      "  warnings.warn(\n"
     ]
    },
    {
     "name": "stdout",
     "output_type": "stream",
     "text": [
      "Linear emulator loaded in memory.\n",
      "Loading no-wiggles emulator...\n",
      "No-wiggles emulator loaded in memory.\n",
      "Loading non-linear emulator...\n"
     ]
    },
    {
     "name": "stderr",
     "output_type": "stream",
     "text": [
      "2024-06-25 15:58:12,148 - INFO - Fingerprint not found. Saved model loading will continue.\n",
      "2024-06-25 15:58:12,149 - INFO - path_and_singleprint metric could not be logged. Saved model loading will continue.\n",
      "/dipc/dlopez/.conda/envs/VE_torch/lib/python3.9/site-packages/sklearn/base.py:348: InconsistentVersionWarning: Trying to unpickle estimator StandardScaler from version 0.22.1 when using version 1.3.2. This might lead to breaking code or invalid results. Use at your own risk. For more info please refer to:\n",
      "https://scikit-learn.org/stable/model_persistence.html#security-maintainability-limitations\n",
      "  warnings.warn(\n",
      "/dipc/dlopez/.conda/envs/VE_torch/lib/python3.9/site-packages/sklearn/base.py:348: InconsistentVersionWarning: Trying to unpickle estimator PCA from version 0.22.1 when using version 1.3.2. This might lead to breaking code or invalid results. Use at your own risk. For more info please refer to:\n",
      "https://scikit-learn.org/stable/model_persistence.html#security-maintainability-limitations\n",
      "  warnings.warn(\n",
      "2024-06-25 15:58:12,333 - INFO - Fingerprint not found. Saved model loading will continue.\n",
      "2024-06-25 15:58:12,334 - INFO - path_and_singleprint metric could not be logged. Saved model loading will continue.\n",
      "/dipc/dlopez/.conda/envs/VE_torch/lib/python3.9/site-packages/sklearn/base.py:348: InconsistentVersionWarning: Trying to unpickle estimator StandardScaler from version 0.23.2 when using version 1.3.2. This might lead to breaking code or invalid results. Use at your own risk. For more info please refer to:\n",
      "https://scikit-learn.org/stable/model_persistence.html#security-maintainability-limitations\n",
      "  warnings.warn(\n",
      "/dipc/dlopez/.conda/envs/VE_torch/lib/python3.9/site-packages/sklearn/base.py:348: InconsistentVersionWarning: Trying to unpickle estimator PCA from version 0.23.2 when using version 1.3.2. This might lead to breaking code or invalid results. Use at your own risk. For more info please refer to:\n",
      "https://scikit-learn.org/stable/model_persistence.html#security-maintainability-limitations\n",
      "  warnings.warn(\n"
     ]
    },
    {
     "name": "stdout",
     "output_type": "stream",
     "text": [
      "Nonlinear emulator loaded in memory.\n",
      "Loading Baryonic Emulator...\n",
      "Baryonic Emulator loaded in memory.\n"
     ]
    }
   ],
   "source": [
    "hydro_key = 'eagle'\n",
    "model_name = \"Model_fixed_\"+hydro_key\n",
    "NN_samples_augs = 1\n",
    "COSMOS[ds_mode][model_name], XX[ds_mode][model_name], AUG_PARAMS[ds_mode][model_name], EXTENDED_AUG_PARAMS[ds_mode][model_name] = cl_inference.preprocessing_tools.generate_baccoemu_dataset(\n",
    "    NN_samples_cosmo  = NN_samples_cosmo_train,\n",
    "    NN_samples_augs   = NN_samples_augs,\n",
    "    dict_bounds_cosmo = dict_bounds_cosmo_train,\n",
    "    dict_bounds_augs  = dict_bounds_augs_eagle,\n",
    "    seed              = seed_train,\n",
    "    path_save         = path_save,\n",
    "    model_name        = model_name,\n",
    "    kmax              = kmax, box=box, factor_kmin_cut=factor_kmin_cut\n",
    ")"
   ]
  },
  {
   "cell_type": "code",
   "execution_count": 20,
   "id": "221b9798",
   "metadata": {},
   "outputs": [
    {
     "name": "stderr",
     "output_type": "stream",
     "text": [
      "2024-06-25 15:58:13,607 - INFO - Generating baccoemu dataset...\n",
      "2024-06-25 15:58:13,609 - INFO - Generating Latin Hypercube samples...\n",
      "2024-06-25 15:58:13,612 - INFO - Generating power spectrum using baccoemu emulator...\n",
      "2024-06-25 15:58:13,772 - INFO - Fingerprint not found. Saved model loading will continue.\n",
      "2024-06-25 15:58:13,773 - INFO - path_and_singleprint metric could not be logged. Saved model loading will continue.\n"
     ]
    },
    {
     "name": "stdout",
     "output_type": "stream",
     "text": [
      "Loading sigma8 emulator...\n",
      "Sigma8 emulator loaded in memory.\n",
      "Loading linear emulator...\n"
     ]
    },
    {
     "name": "stderr",
     "output_type": "stream",
     "text": [
      "2024-06-25 15:58:13,942 - INFO - Fingerprint not found. Saved model loading will continue.\n",
      "2024-06-25 15:58:13,943 - INFO - path_and_singleprint metric could not be logged. Saved model loading will continue.\n",
      "/dipc/dlopez/.conda/envs/VE_torch/lib/python3.9/site-packages/sklearn/base.py:348: InconsistentVersionWarning: Trying to unpickle estimator PCA from version 1.0 when using version 1.3.2. This might lead to breaking code or invalid results. Use at your own risk. For more info please refer to:\n",
      "https://scikit-learn.org/stable/model_persistence.html#security-maintainability-limitations\n",
      "  warnings.warn(\n",
      "/dipc/dlopez/.conda/envs/VE_torch/lib/python3.9/site-packages/sklearn/base.py:348: InconsistentVersionWarning: Trying to unpickle estimator StandardScaler from version 1.0 when using version 1.3.2. This might lead to breaking code or invalid results. Use at your own risk. For more info please refer to:\n",
      "https://scikit-learn.org/stable/model_persistence.html#security-maintainability-limitations\n",
      "  warnings.warn(\n",
      "2024-06-25 15:58:14,106 - INFO - Fingerprint not found. Saved model loading will continue.\n",
      "2024-06-25 15:58:14,107 - INFO - path_and_singleprint metric could not be logged. Saved model loading will continue.\n",
      "/dipc/dlopez/.conda/envs/VE_torch/lib/python3.9/site-packages/sklearn/base.py:348: InconsistentVersionWarning: Trying to unpickle estimator PCA from version 1.0 when using version 1.3.2. This might lead to breaking code or invalid results. Use at your own risk. For more info please refer to:\n",
      "https://scikit-learn.org/stable/model_persistence.html#security-maintainability-limitations\n",
      "  warnings.warn(\n",
      "/dipc/dlopez/.conda/envs/VE_torch/lib/python3.9/site-packages/sklearn/base.py:348: InconsistentVersionWarning: Trying to unpickle estimator StandardScaler from version 1.0 when using version 1.3.2. This might lead to breaking code or invalid results. Use at your own risk. For more info please refer to:\n",
      "https://scikit-learn.org/stable/model_persistence.html#security-maintainability-limitations\n",
      "  warnings.warn(\n"
     ]
    },
    {
     "name": "stdout",
     "output_type": "stream",
     "text": [
      "Linear emulator loaded in memory.\n",
      "Loading no-wiggles emulator...\n"
     ]
    },
    {
     "name": "stderr",
     "output_type": "stream",
     "text": [
      "2024-06-25 15:58:14,790 - INFO - Fingerprint not found. Saved model loading will continue.\n",
      "2024-06-25 15:58:14,791 - INFO - path_and_singleprint metric could not be logged. Saved model loading will continue.\n",
      "/dipc/dlopez/.conda/envs/VE_torch/lib/python3.9/site-packages/sklearn/base.py:348: InconsistentVersionWarning: Trying to unpickle estimator StandardScaler from version 1.0.2 when using version 1.3.2. This might lead to breaking code or invalid results. Use at your own risk. For more info please refer to:\n",
      "https://scikit-learn.org/stable/model_persistence.html#security-maintainability-limitations\n",
      "  warnings.warn(\n",
      "2024-06-25 15:58:14,966 - INFO - Fingerprint not found. Saved model loading will continue.\n",
      "2024-06-25 15:58:14,968 - INFO - path_and_singleprint metric could not be logged. Saved model loading will continue.\n",
      "/dipc/dlopez/.conda/envs/VE_torch/lib/python3.9/site-packages/sklearn/base.py:348: InconsistentVersionWarning: Trying to unpickle estimator StandardScaler from version 0.22.1 when using version 1.3.2. This might lead to breaking code or invalid results. Use at your own risk. For more info please refer to:\n",
      "https://scikit-learn.org/stable/model_persistence.html#security-maintainability-limitations\n",
      "  warnings.warn(\n",
      "/dipc/dlopez/.conda/envs/VE_torch/lib/python3.9/site-packages/sklearn/base.py:348: InconsistentVersionWarning: Trying to unpickle estimator PCA from version 0.22.1 when using version 1.3.2. This might lead to breaking code or invalid results. Use at your own risk. For more info please refer to:\n",
      "https://scikit-learn.org/stable/model_persistence.html#security-maintainability-limitations\n",
      "  warnings.warn(\n"
     ]
    },
    {
     "name": "stdout",
     "output_type": "stream",
     "text": [
      "No-wiggles emulator loaded in memory.\n",
      "Loading non-linear emulator...\n",
      "Nonlinear emulator loaded in memory.\n",
      "Loading Baryonic Emulator...\n"
     ]
    },
    {
     "name": "stderr",
     "output_type": "stream",
     "text": [
      "2024-06-25 15:58:15,162 - INFO - Fingerprint not found. Saved model loading will continue.\n",
      "2024-06-25 15:58:15,163 - INFO - path_and_singleprint metric could not be logged. Saved model loading will continue.\n",
      "/dipc/dlopez/.conda/envs/VE_torch/lib/python3.9/site-packages/sklearn/base.py:348: InconsistentVersionWarning: Trying to unpickle estimator StandardScaler from version 0.23.2 when using version 1.3.2. This might lead to breaking code or invalid results. Use at your own risk. For more info please refer to:\n",
      "https://scikit-learn.org/stable/model_persistence.html#security-maintainability-limitations\n",
      "  warnings.warn(\n",
      "/dipc/dlopez/.conda/envs/VE_torch/lib/python3.9/site-packages/sklearn/base.py:348: InconsistentVersionWarning: Trying to unpickle estimator PCA from version 0.23.2 when using version 1.3.2. This might lead to breaking code or invalid results. Use at your own risk. For more info please refer to:\n",
      "https://scikit-learn.org/stable/model_persistence.html#security-maintainability-limitations\n",
      "  warnings.warn(\n"
     ]
    },
    {
     "name": "stdout",
     "output_type": "stream",
     "text": [
      "Baryonic Emulator loaded in memory.\n"
     ]
    }
   ],
   "source": [
    "hydro_key = 'illustris'\n",
    "model_name = \"Model_fixed_\"+hydro_key\n",
    "NN_samples_augs = 1\n",
    "COSMOS[ds_mode][model_name], XX[ds_mode][model_name], AUG_PARAMS[ds_mode][model_name], EXTENDED_AUG_PARAMS[ds_mode][model_name] = cl_inference.preprocessing_tools.generate_baccoemu_dataset(\n",
    "    NN_samples_cosmo  = NN_samples_cosmo_train,\n",
    "    NN_samples_augs   = NN_samples_augs,\n",
    "    dict_bounds_cosmo = dict_bounds_cosmo_train,\n",
    "    dict_bounds_augs  = dict_bounds_augs_illustris,\n",
    "    seed              = seed_train,\n",
    "    path_save         = path_save,\n",
    "    model_name        = model_name,\n",
    "    kmax              = kmax, box=box, factor_kmin_cut=factor_kmin_cut\n",
    ")"
   ]
  },
  {
   "cell_type": "code",
   "execution_count": 21,
   "id": "8c14325b",
   "metadata": {
    "scrolled": true
   },
   "outputs": [
    {
     "name": "stderr",
     "output_type": "stream",
     "text": [
      "2024-06-25 15:58:16,474 - INFO - Generating baccoemu dataset...\n",
      "2024-06-25 15:58:16,476 - INFO - Generating Latin Hypercube samples...\n",
      "2024-06-25 15:58:16,480 - INFO - Generating Latin Hypercube samples...\n",
      "2024-06-25 15:58:16,575 - INFO - Generating power spectrum using baccoemu emulator...\n",
      "2024-06-25 15:58:16,738 - INFO - Fingerprint not found. Saved model loading will continue.\n",
      "2024-06-25 15:58:16,739 - INFO - path_and_singleprint metric could not be logged. Saved model loading will continue.\n"
     ]
    },
    {
     "name": "stdout",
     "output_type": "stream",
     "text": [
      "Loading sigma8 emulator...\n",
      "Sigma8 emulator loaded in memory.\n",
      "Loading linear emulator...\n"
     ]
    },
    {
     "name": "stderr",
     "output_type": "stream",
     "text": [
      "2024-06-25 15:58:16,914 - INFO - Fingerprint not found. Saved model loading will continue.\n",
      "2024-06-25 15:58:16,915 - INFO - path_and_singleprint metric could not be logged. Saved model loading will continue.\n",
      "/dipc/dlopez/.conda/envs/VE_torch/lib/python3.9/site-packages/sklearn/base.py:348: InconsistentVersionWarning: Trying to unpickle estimator PCA from version 1.0 when using version 1.3.2. This might lead to breaking code or invalid results. Use at your own risk. For more info please refer to:\n",
      "https://scikit-learn.org/stable/model_persistence.html#security-maintainability-limitations\n",
      "  warnings.warn(\n",
      "/dipc/dlopez/.conda/envs/VE_torch/lib/python3.9/site-packages/sklearn/base.py:348: InconsistentVersionWarning: Trying to unpickle estimator StandardScaler from version 1.0 when using version 1.3.2. This might lead to breaking code or invalid results. Use at your own risk. For more info please refer to:\n",
      "https://scikit-learn.org/stable/model_persistence.html#security-maintainability-limitations\n",
      "  warnings.warn(\n",
      "2024-06-25 15:58:17,069 - INFO - Fingerprint not found. Saved model loading will continue.\n",
      "2024-06-25 15:58:17,070 - INFO - path_and_singleprint metric could not be logged. Saved model loading will continue.\n",
      "/dipc/dlopez/.conda/envs/VE_torch/lib/python3.9/site-packages/sklearn/base.py:348: InconsistentVersionWarning: Trying to unpickle estimator PCA from version 1.0 when using version 1.3.2. This might lead to breaking code or invalid results. Use at your own risk. For more info please refer to:\n",
      "https://scikit-learn.org/stable/model_persistence.html#security-maintainability-limitations\n",
      "  warnings.warn(\n",
      "/dipc/dlopez/.conda/envs/VE_torch/lib/python3.9/site-packages/sklearn/base.py:348: InconsistentVersionWarning: Trying to unpickle estimator StandardScaler from version 1.0 when using version 1.3.2. This might lead to breaking code or invalid results. Use at your own risk. For more info please refer to:\n",
      "https://scikit-learn.org/stable/model_persistence.html#security-maintainability-limitations\n",
      "  warnings.warn(\n",
      "2024-06-25 15:58:17,251 - INFO - Fingerprint not found. Saved model loading will continue.\n",
      "2024-06-25 15:58:17,253 - INFO - path_and_singleprint metric could not be logged. Saved model loading will continue.\n",
      "/dipc/dlopez/.conda/envs/VE_torch/lib/python3.9/site-packages/sklearn/base.py:348: InconsistentVersionWarning: Trying to unpickle estimator StandardScaler from version 1.0.2 when using version 1.3.2. This might lead to breaking code or invalid results. Use at your own risk. For more info please refer to:\n",
      "https://scikit-learn.org/stable/model_persistence.html#security-maintainability-limitations\n",
      "  warnings.warn(\n"
     ]
    },
    {
     "name": "stdout",
     "output_type": "stream",
     "text": [
      "Linear emulator loaded in memory.\n",
      "Loading no-wiggles emulator...\n",
      "No-wiggles emulator loaded in memory.\n",
      "Loading non-linear emulator...\n"
     ]
    },
    {
     "name": "stderr",
     "output_type": "stream",
     "text": [
      "2024-06-25 15:58:17,438 - INFO - Fingerprint not found. Saved model loading will continue.\n",
      "2024-06-25 15:58:17,440 - INFO - path_and_singleprint metric could not be logged. Saved model loading will continue.\n",
      "/dipc/dlopez/.conda/envs/VE_torch/lib/python3.9/site-packages/sklearn/base.py:348: InconsistentVersionWarning: Trying to unpickle estimator StandardScaler from version 0.22.1 when using version 1.3.2. This might lead to breaking code or invalid results. Use at your own risk. For more info please refer to:\n",
      "https://scikit-learn.org/stable/model_persistence.html#security-maintainability-limitations\n",
      "  warnings.warn(\n",
      "/dipc/dlopez/.conda/envs/VE_torch/lib/python3.9/site-packages/sklearn/base.py:348: InconsistentVersionWarning: Trying to unpickle estimator PCA from version 0.22.1 when using version 1.3.2. This might lead to breaking code or invalid results. Use at your own risk. For more info please refer to:\n",
      "https://scikit-learn.org/stable/model_persistence.html#security-maintainability-limitations\n",
      "  warnings.warn(\n",
      "2024-06-25 15:58:17,608 - INFO - Fingerprint not found. Saved model loading will continue.\n",
      "2024-06-25 15:58:17,610 - INFO - path_and_singleprint metric could not be logged. Saved model loading will continue.\n",
      "/dipc/dlopez/.conda/envs/VE_torch/lib/python3.9/site-packages/sklearn/base.py:348: InconsistentVersionWarning: Trying to unpickle estimator StandardScaler from version 0.23.2 when using version 1.3.2. This might lead to breaking code or invalid results. Use at your own risk. For more info please refer to:\n",
      "https://scikit-learn.org/stable/model_persistence.html#security-maintainability-limitations\n",
      "  warnings.warn(\n",
      "/dipc/dlopez/.conda/envs/VE_torch/lib/python3.9/site-packages/sklearn/base.py:348: InconsistentVersionWarning: Trying to unpickle estimator PCA from version 0.23.2 when using version 1.3.2. This might lead to breaking code or invalid results. Use at your own risk. For more info please refer to:\n",
      "https://scikit-learn.org/stable/model_persistence.html#security-maintainability-limitations\n",
      "  warnings.warn(\n"
     ]
    },
    {
     "name": "stdout",
     "output_type": "stream",
     "text": [
      "Nonlinear emulator loaded in memory.\n",
      "Loading Baryonic Emulator...\n",
      "Baryonic Emulator loaded in memory.\n"
     ]
    }
   ],
   "source": [
    "model_name = \"Model_vary_1\"\n",
    "NN_samples_augs = 10\n",
    "COSMOS[ds_mode][model_name], XX[ds_mode][model_name], AUG_PARAMS[ds_mode][model_name], EXTENDED_AUG_PARAMS[ds_mode][model_name] = cl_inference.preprocessing_tools.generate_baccoemu_dataset(\n",
    "    NN_samples_cosmo  = NN_samples_cosmo_train,\n",
    "    NN_samples_augs   = NN_samples_augs,\n",
    "    dict_bounds_cosmo = dict_bounds_cosmo_train,\n",
    "    dict_bounds_augs  = dict_bounds_augs_vary1,\n",
    "    seed              = seed_train,\n",
    "    path_save         = path_save,\n",
    "    model_name        = model_name,\n",
    "    kmax              = kmax, box=box, factor_kmin_cut=factor_kmin_cut\n",
    ")"
   ]
  },
  {
   "cell_type": "code",
   "execution_count": 22,
   "id": "c3b9dfe0",
   "metadata": {},
   "outputs": [
    {
     "name": "stderr",
     "output_type": "stream",
     "text": [
      "2024-06-25 15:58:39,131 - INFO - Generating baccoemu dataset...\n",
      "2024-06-25 15:58:39,134 - INFO - Generating Latin Hypercube samples...\n",
      "2024-06-25 15:58:39,140 - INFO - Generating Latin Hypercube samples...\n",
      "2024-06-25 15:58:39,244 - INFO - Generating power spectrum using baccoemu emulator...\n",
      "2024-06-25 15:58:39,435 - INFO - Fingerprint not found. Saved model loading will continue.\n",
      "2024-06-25 15:58:39,436 - INFO - path_and_singleprint metric could not be logged. Saved model loading will continue.\n"
     ]
    },
    {
     "name": "stdout",
     "output_type": "stream",
     "text": [
      "Loading sigma8 emulator...\n"
     ]
    },
    {
     "name": "stderr",
     "output_type": "stream",
     "text": [
      "2024-06-25 15:58:39,607 - INFO - Fingerprint not found. Saved model loading will continue.\n",
      "2024-06-25 15:58:39,608 - INFO - path_and_singleprint metric could not be logged. Saved model loading will continue.\n",
      "/dipc/dlopez/.conda/envs/VE_torch/lib/python3.9/site-packages/sklearn/base.py:348: InconsistentVersionWarning: Trying to unpickle estimator PCA from version 1.0 when using version 1.3.2. This might lead to breaking code or invalid results. Use at your own risk. For more info please refer to:\n",
      "https://scikit-learn.org/stable/model_persistence.html#security-maintainability-limitations\n",
      "  warnings.warn(\n",
      "/dipc/dlopez/.conda/envs/VE_torch/lib/python3.9/site-packages/sklearn/base.py:348: InconsistentVersionWarning: Trying to unpickle estimator StandardScaler from version 1.0 when using version 1.3.2. This might lead to breaking code or invalid results. Use at your own risk. For more info please refer to:\n",
      "https://scikit-learn.org/stable/model_persistence.html#security-maintainability-limitations\n",
      "  warnings.warn(\n"
     ]
    },
    {
     "name": "stdout",
     "output_type": "stream",
     "text": [
      "Sigma8 emulator loaded in memory.\n",
      "Loading linear emulator...\n"
     ]
    },
    {
     "name": "stderr",
     "output_type": "stream",
     "text": [
      "2024-06-25 15:58:39,780 - INFO - Fingerprint not found. Saved model loading will continue.\n",
      "2024-06-25 15:58:39,782 - INFO - path_and_singleprint metric could not be logged. Saved model loading will continue.\n",
      "/dipc/dlopez/.conda/envs/VE_torch/lib/python3.9/site-packages/sklearn/base.py:348: InconsistentVersionWarning: Trying to unpickle estimator PCA from version 1.0 when using version 1.3.2. This might lead to breaking code or invalid results. Use at your own risk. For more info please refer to:\n",
      "https://scikit-learn.org/stable/model_persistence.html#security-maintainability-limitations\n",
      "  warnings.warn(\n",
      "/dipc/dlopez/.conda/envs/VE_torch/lib/python3.9/site-packages/sklearn/base.py:348: InconsistentVersionWarning: Trying to unpickle estimator StandardScaler from version 1.0 when using version 1.3.2. This might lead to breaking code or invalid results. Use at your own risk. For more info please refer to:\n",
      "https://scikit-learn.org/stable/model_persistence.html#security-maintainability-limitations\n",
      "  warnings.warn(\n",
      "2024-06-25 15:58:39,995 - INFO - Fingerprint not found. Saved model loading will continue.\n",
      "2024-06-25 15:58:39,996 - INFO - path_and_singleprint metric could not be logged. Saved model loading will continue.\n"
     ]
    },
    {
     "name": "stdout",
     "output_type": "stream",
     "text": [
      "Linear emulator loaded in memory.\n",
      "Loading no-wiggles emulator...\n"
     ]
    },
    {
     "name": "stderr",
     "output_type": "stream",
     "text": [
      "/dipc/dlopez/.conda/envs/VE_torch/lib/python3.9/site-packages/sklearn/base.py:348: InconsistentVersionWarning: Trying to unpickle estimator StandardScaler from version 1.0.2 when using version 1.3.2. This might lead to breaking code or invalid results. Use at your own risk. For more info please refer to:\n",
      "https://scikit-learn.org/stable/model_persistence.html#security-maintainability-limitations\n",
      "  warnings.warn(\n",
      "2024-06-25 15:58:40,190 - INFO - Fingerprint not found. Saved model loading will continue.\n",
      "2024-06-25 15:58:40,191 - INFO - path_and_singleprint metric could not be logged. Saved model loading will continue.\n",
      "/dipc/dlopez/.conda/envs/VE_torch/lib/python3.9/site-packages/sklearn/base.py:348: InconsistentVersionWarning: Trying to unpickle estimator StandardScaler from version 0.22.1 when using version 1.3.2. This might lead to breaking code or invalid results. Use at your own risk. For more info please refer to:\n",
      "https://scikit-learn.org/stable/model_persistence.html#security-maintainability-limitations\n",
      "  warnings.warn(\n",
      "/dipc/dlopez/.conda/envs/VE_torch/lib/python3.9/site-packages/sklearn/base.py:348: InconsistentVersionWarning: Trying to unpickle estimator PCA from version 0.22.1 when using version 1.3.2. This might lead to breaking code or invalid results. Use at your own risk. For more info please refer to:\n",
      "https://scikit-learn.org/stable/model_persistence.html#security-maintainability-limitations\n",
      "  warnings.warn(\n"
     ]
    },
    {
     "name": "stdout",
     "output_type": "stream",
     "text": [
      "No-wiggles emulator loaded in memory.\n",
      "Loading non-linear emulator...\n",
      "Nonlinear emulator loaded in memory.\n",
      "Loading Baryonic Emulator...\n"
     ]
    },
    {
     "name": "stderr",
     "output_type": "stream",
     "text": [
      "2024-06-25 15:58:40,355 - INFO - Fingerprint not found. Saved model loading will continue.\n",
      "2024-06-25 15:58:40,356 - INFO - path_and_singleprint metric could not be logged. Saved model loading will continue.\n",
      "/dipc/dlopez/.conda/envs/VE_torch/lib/python3.9/site-packages/sklearn/base.py:348: InconsistentVersionWarning: Trying to unpickle estimator StandardScaler from version 0.23.2 when using version 1.3.2. This might lead to breaking code or invalid results. Use at your own risk. For more info please refer to:\n",
      "https://scikit-learn.org/stable/model_persistence.html#security-maintainability-limitations\n",
      "  warnings.warn(\n",
      "/dipc/dlopez/.conda/envs/VE_torch/lib/python3.9/site-packages/sklearn/base.py:348: InconsistentVersionWarning: Trying to unpickle estimator PCA from version 0.23.2 when using version 1.3.2. This might lead to breaking code or invalid results. Use at your own risk. For more info please refer to:\n",
      "https://scikit-learn.org/stable/model_persistence.html#security-maintainability-limitations\n",
      "  warnings.warn(\n"
     ]
    },
    {
     "name": "stdout",
     "output_type": "stream",
     "text": [
      "Baryonic Emulator loaded in memory.\n"
     ]
    }
   ],
   "source": [
    "model_name = \"Model_vary_2\"\n",
    "NN_samples_augs = 10\n",
    "COSMOS[ds_mode][model_name], XX[ds_mode][model_name], AUG_PARAMS[ds_mode][model_name], EXTENDED_AUG_PARAMS[ds_mode][model_name] = cl_inference.preprocessing_tools.generate_baccoemu_dataset(\n",
    "    NN_samples_cosmo  = NN_samples_cosmo_train,\n",
    "    NN_samples_augs   = NN_samples_augs,\n",
    "    dict_bounds_cosmo = dict_bounds_cosmo_train,\n",
    "    dict_bounds_augs  = dict_bounds_augs_vary2,\n",
    "    seed              = seed_train,\n",
    "    path_save         = path_save,\n",
    "    model_name        = model_name,\n",
    "    kmax              = kmax, box=box, factor_kmin_cut=factor_kmin_cut\n",
    ")"
   ]
  },
  {
   "cell_type": "code",
   "execution_count": 23,
   "id": "3105de53",
   "metadata": {},
   "outputs": [
    {
     "name": "stderr",
     "output_type": "stream",
     "text": [
      "2024-06-25 15:59:01,171 - INFO - Generating baccoemu dataset...\n",
      "2024-06-25 15:59:01,174 - INFO - Generating Latin Hypercube samples...\n",
      "2024-06-25 15:59:01,180 - INFO - Generating Latin Hypercube samples...\n",
      "2024-06-25 15:59:01,283 - INFO - Generating power spectrum using baccoemu emulator...\n"
     ]
    },
    {
     "name": "stdout",
     "output_type": "stream",
     "text": [
      "Loading sigma8 emulator...\n"
     ]
    },
    {
     "name": "stderr",
     "output_type": "stream",
     "text": [
      "2024-06-25 15:59:02,145 - INFO - Fingerprint not found. Saved model loading will continue.\n",
      "2024-06-25 15:59:02,146 - INFO - path_and_singleprint metric could not be logged. Saved model loading will continue.\n",
      "2024-06-25 15:59:02,313 - INFO - Fingerprint not found. Saved model loading will continue.\n",
      "2024-06-25 15:59:02,314 - INFO - path_and_singleprint metric could not be logged. Saved model loading will continue.\n",
      "/dipc/dlopez/.conda/envs/VE_torch/lib/python3.9/site-packages/sklearn/base.py:348: InconsistentVersionWarning: Trying to unpickle estimator PCA from version 1.0 when using version 1.3.2. This might lead to breaking code or invalid results. Use at your own risk. For more info please refer to:\n",
      "https://scikit-learn.org/stable/model_persistence.html#security-maintainability-limitations\n",
      "  warnings.warn(\n",
      "/dipc/dlopez/.conda/envs/VE_torch/lib/python3.9/site-packages/sklearn/base.py:348: InconsistentVersionWarning: Trying to unpickle estimator StandardScaler from version 1.0 when using version 1.3.2. This might lead to breaking code or invalid results. Use at your own risk. For more info please refer to:\n",
      "https://scikit-learn.org/stable/model_persistence.html#security-maintainability-limitations\n",
      "  warnings.warn(\n"
     ]
    },
    {
     "name": "stdout",
     "output_type": "stream",
     "text": [
      "Sigma8 emulator loaded in memory.\n",
      "Loading linear emulator...\n"
     ]
    },
    {
     "name": "stderr",
     "output_type": "stream",
     "text": [
      "2024-06-25 15:59:02,490 - INFO - Fingerprint not found. Saved model loading will continue.\n",
      "2024-06-25 15:59:02,491 - INFO - path_and_singleprint metric could not be logged. Saved model loading will continue.\n",
      "/dipc/dlopez/.conda/envs/VE_torch/lib/python3.9/site-packages/sklearn/base.py:348: InconsistentVersionWarning: Trying to unpickle estimator PCA from version 1.0 when using version 1.3.2. This might lead to breaking code or invalid results. Use at your own risk. For more info please refer to:\n",
      "https://scikit-learn.org/stable/model_persistence.html#security-maintainability-limitations\n",
      "  warnings.warn(\n",
      "/dipc/dlopez/.conda/envs/VE_torch/lib/python3.9/site-packages/sklearn/base.py:348: InconsistentVersionWarning: Trying to unpickle estimator StandardScaler from version 1.0 when using version 1.3.2. This might lead to breaking code or invalid results. Use at your own risk. For more info please refer to:\n",
      "https://scikit-learn.org/stable/model_persistence.html#security-maintainability-limitations\n",
      "  warnings.warn(\n",
      "2024-06-25 15:59:02,676 - INFO - Fingerprint not found. Saved model loading will continue.\n",
      "2024-06-25 15:59:02,678 - INFO - path_and_singleprint metric could not be logged. Saved model loading will continue.\n",
      "/dipc/dlopez/.conda/envs/VE_torch/lib/python3.9/site-packages/sklearn/base.py:348: InconsistentVersionWarning: Trying to unpickle estimator StandardScaler from version 1.0.2 when using version 1.3.2. This might lead to breaking code or invalid results. Use at your own risk. For more info please refer to:\n",
      "https://scikit-learn.org/stable/model_persistence.html#security-maintainability-limitations\n",
      "  warnings.warn(\n"
     ]
    },
    {
     "name": "stdout",
     "output_type": "stream",
     "text": [
      "Linear emulator loaded in memory.\n",
      "Loading no-wiggles emulator...\n",
      "No-wiggles emulator loaded in memory.\n",
      "Loading non-linear emulator...\n"
     ]
    },
    {
     "name": "stderr",
     "output_type": "stream",
     "text": [
      "2024-06-25 15:59:02,854 - INFO - Fingerprint not found. Saved model loading will continue.\n",
      "2024-06-25 15:59:02,855 - INFO - path_and_singleprint metric could not be logged. Saved model loading will continue.\n",
      "/dipc/dlopez/.conda/envs/VE_torch/lib/python3.9/site-packages/sklearn/base.py:348: InconsistentVersionWarning: Trying to unpickle estimator StandardScaler from version 0.22.1 when using version 1.3.2. This might lead to breaking code or invalid results. Use at your own risk. For more info please refer to:\n",
      "https://scikit-learn.org/stable/model_persistence.html#security-maintainability-limitations\n",
      "  warnings.warn(\n",
      "/dipc/dlopez/.conda/envs/VE_torch/lib/python3.9/site-packages/sklearn/base.py:348: InconsistentVersionWarning: Trying to unpickle estimator PCA from version 0.22.1 when using version 1.3.2. This might lead to breaking code or invalid results. Use at your own risk. For more info please refer to:\n",
      "https://scikit-learn.org/stable/model_persistence.html#security-maintainability-limitations\n",
      "  warnings.warn(\n",
      "2024-06-25 15:59:03,031 - INFO - Fingerprint not found. Saved model loading will continue.\n",
      "2024-06-25 15:59:03,032 - INFO - path_and_singleprint metric could not be logged. Saved model loading will continue.\n",
      "/dipc/dlopez/.conda/envs/VE_torch/lib/python3.9/site-packages/sklearn/base.py:348: InconsistentVersionWarning: Trying to unpickle estimator StandardScaler from version 0.23.2 when using version 1.3.2. This might lead to breaking code or invalid results. Use at your own risk. For more info please refer to:\n",
      "https://scikit-learn.org/stable/model_persistence.html#security-maintainability-limitations\n",
      "  warnings.warn(\n",
      "/dipc/dlopez/.conda/envs/VE_torch/lib/python3.9/site-packages/sklearn/base.py:348: InconsistentVersionWarning: Trying to unpickle estimator PCA from version 0.23.2 when using version 1.3.2. This might lead to breaking code or invalid results. Use at your own risk. For more info please refer to:\n",
      "https://scikit-learn.org/stable/model_persistence.html#security-maintainability-limitations\n",
      "  warnings.warn(\n"
     ]
    },
    {
     "name": "stdout",
     "output_type": "stream",
     "text": [
      "Nonlinear emulator loaded in memory.\n",
      "Loading Baryonic Emulator...\n",
      "Baryonic Emulator loaded in memory.\n"
     ]
    }
   ],
   "source": [
    "model_name = \"Model_vary_3\"\n",
    "NN_samples_augs = 10\n",
    "COSMOS[ds_mode][model_name], XX[ds_mode][model_name], AUG_PARAMS[ds_mode][model_name], EXTENDED_AUG_PARAMS[ds_mode][model_name] = cl_inference.preprocessing_tools.generate_baccoemu_dataset(\n",
    "    NN_samples_cosmo  = NN_samples_cosmo_train,\n",
    "    NN_samples_augs   = NN_samples_augs,\n",
    "    dict_bounds_cosmo = dict_bounds_cosmo_train,\n",
    "    dict_bounds_augs  = dict_bounds_augs_vary3,\n",
    "    seed              = seed_train,\n",
    "    path_save         = path_save,\n",
    "    model_name        = model_name,\n",
    "    kmax              = kmax, box=box, factor_kmin_cut=factor_kmin_cut\n",
    ")"
   ]
  },
  {
   "cell_type": "code",
   "execution_count": 24,
   "id": "de6c0b50",
   "metadata": {},
   "outputs": [
    {
     "name": "stderr",
     "output_type": "stream",
     "text": [
      "2024-06-25 15:59:22,229 - INFO - Generating baccoemu dataset...\n",
      "2024-06-25 15:59:22,232 - INFO - Generating Latin Hypercube samples...\n",
      "2024-06-25 15:59:22,236 - INFO - Generating power spectrum using baccoemu emulator...\n",
      "2024-06-25 15:59:22,421 - INFO - Fingerprint not found. Saved model loading will continue.\n",
      "2024-06-25 15:59:22,422 - INFO - path_and_singleprint metric could not be logged. Saved model loading will continue.\n"
     ]
    },
    {
     "name": "stdout",
     "output_type": "stream",
     "text": [
      "Loading sigma8 emulator...\n"
     ]
    },
    {
     "name": "stderr",
     "output_type": "stream",
     "text": [
      "2024-06-25 15:59:22,597 - INFO - Fingerprint not found. Saved model loading will continue.\n",
      "2024-06-25 15:59:22,598 - INFO - path_and_singleprint metric could not be logged. Saved model loading will continue.\n",
      "/dipc/dlopez/.conda/envs/VE_torch/lib/python3.9/site-packages/sklearn/base.py:348: InconsistentVersionWarning: Trying to unpickle estimator PCA from version 1.0 when using version 1.3.2. This might lead to breaking code or invalid results. Use at your own risk. For more info please refer to:\n",
      "https://scikit-learn.org/stable/model_persistence.html#security-maintainability-limitations\n",
      "  warnings.warn(\n",
      "/dipc/dlopez/.conda/envs/VE_torch/lib/python3.9/site-packages/sklearn/base.py:348: InconsistentVersionWarning: Trying to unpickle estimator StandardScaler from version 1.0 when using version 1.3.2. This might lead to breaking code or invalid results. Use at your own risk. For more info please refer to:\n",
      "https://scikit-learn.org/stable/model_persistence.html#security-maintainability-limitations\n",
      "  warnings.warn(\n"
     ]
    },
    {
     "name": "stdout",
     "output_type": "stream",
     "text": [
      "Sigma8 emulator loaded in memory.\n",
      "Loading linear emulator...\n"
     ]
    },
    {
     "name": "stderr",
     "output_type": "stream",
     "text": [
      "2024-06-25 15:59:22,754 - INFO - Fingerprint not found. Saved model loading will continue.\n",
      "2024-06-25 15:59:22,755 - INFO - path_and_singleprint metric could not be logged. Saved model loading will continue.\n",
      "/dipc/dlopez/.conda/envs/VE_torch/lib/python3.9/site-packages/sklearn/base.py:348: InconsistentVersionWarning: Trying to unpickle estimator PCA from version 1.0 when using version 1.3.2. This might lead to breaking code or invalid results. Use at your own risk. For more info please refer to:\n",
      "https://scikit-learn.org/stable/model_persistence.html#security-maintainability-limitations\n",
      "  warnings.warn(\n",
      "/dipc/dlopez/.conda/envs/VE_torch/lib/python3.9/site-packages/sklearn/base.py:348: InconsistentVersionWarning: Trying to unpickle estimator StandardScaler from version 1.0 when using version 1.3.2. This might lead to breaking code or invalid results. Use at your own risk. For more info please refer to:\n",
      "https://scikit-learn.org/stable/model_persistence.html#security-maintainability-limitations\n",
      "  warnings.warn(\n",
      "2024-06-25 15:59:22,938 - INFO - Fingerprint not found. Saved model loading will continue.\n",
      "2024-06-25 15:59:22,940 - INFO - path_and_singleprint metric could not be logged. Saved model loading will continue.\n",
      "/dipc/dlopez/.conda/envs/VE_torch/lib/python3.9/site-packages/sklearn/base.py:348: InconsistentVersionWarning: Trying to unpickle estimator StandardScaler from version 1.0.2 when using version 1.3.2. This might lead to breaking code or invalid results. Use at your own risk. For more info please refer to:\n",
      "https://scikit-learn.org/stable/model_persistence.html#security-maintainability-limitations\n",
      "  warnings.warn(\n"
     ]
    },
    {
     "name": "stdout",
     "output_type": "stream",
     "text": [
      "Linear emulator loaded in memory.\n",
      "Loading no-wiggles emulator...\n",
      "No-wiggles emulator loaded in memory.\n",
      "Loading non-linear emulator...\n"
     ]
    },
    {
     "name": "stderr",
     "output_type": "stream",
     "text": [
      "2024-06-25 15:59:23,137 - INFO - Fingerprint not found. Saved model loading will continue.\n",
      "2024-06-25 15:59:23,138 - INFO - path_and_singleprint metric could not be logged. Saved model loading will continue.\n",
      "/dipc/dlopez/.conda/envs/VE_torch/lib/python3.9/site-packages/sklearn/base.py:348: InconsistentVersionWarning: Trying to unpickle estimator StandardScaler from version 0.22.1 when using version 1.3.2. This might lead to breaking code or invalid results. Use at your own risk. For more info please refer to:\n",
      "https://scikit-learn.org/stable/model_persistence.html#security-maintainability-limitations\n",
      "  warnings.warn(\n",
      "/dipc/dlopez/.conda/envs/VE_torch/lib/python3.9/site-packages/sklearn/base.py:348: InconsistentVersionWarning: Trying to unpickle estimator PCA from version 0.22.1 when using version 1.3.2. This might lead to breaking code or invalid results. Use at your own risk. For more info please refer to:\n",
      "https://scikit-learn.org/stable/model_persistence.html#security-maintainability-limitations\n",
      "  warnings.warn(\n",
      "2024-06-25 15:59:23,323 - INFO - Fingerprint not found. Saved model loading will continue.\n",
      "2024-06-25 15:59:23,324 - INFO - path_and_singleprint metric could not be logged. Saved model loading will continue.\n",
      "/dipc/dlopez/.conda/envs/VE_torch/lib/python3.9/site-packages/sklearn/base.py:348: InconsistentVersionWarning: Trying to unpickle estimator StandardScaler from version 0.23.2 when using version 1.3.2. This might lead to breaking code or invalid results. Use at your own risk. For more info please refer to:\n",
      "https://scikit-learn.org/stable/model_persistence.html#security-maintainability-limitations\n",
      "  warnings.warn(\n",
      "/dipc/dlopez/.conda/envs/VE_torch/lib/python3.9/site-packages/sklearn/base.py:348: InconsistentVersionWarning: Trying to unpickle estimator PCA from version 0.23.2 when using version 1.3.2. This might lead to breaking code or invalid results. Use at your own risk. For more info please refer to:\n",
      "https://scikit-learn.org/stable/model_persistence.html#security-maintainability-limitations\n",
      "  warnings.warn(\n"
     ]
    },
    {
     "name": "stdout",
     "output_type": "stream",
     "text": [
      "Nonlinear emulator loaded in memory.\n",
      "Loading Baryonic Emulator...\n",
      "Baryonic Emulator loaded in memory.\n"
     ]
    },
    {
     "name": "stderr",
     "output_type": "stream",
     "text": [
      "2024-06-25 15:59:24,719 - INFO - Generating baccoemu dataset...\n",
      "2024-06-25 15:59:24,722 - INFO - Generating Latin Hypercube samples...\n",
      "2024-06-25 15:59:24,725 - INFO - Generating power spectrum using baccoemu emulator...\n",
      "2024-06-25 15:59:24,904 - INFO - Fingerprint not found. Saved model loading will continue.\n",
      "2024-06-25 15:59:24,905 - INFO - path_and_singleprint metric could not be logged. Saved model loading will continue.\n"
     ]
    },
    {
     "name": "stdout",
     "output_type": "stream",
     "text": [
      "Loading sigma8 emulator...\n"
     ]
    },
    {
     "name": "stderr",
     "output_type": "stream",
     "text": [
      "2024-06-25 15:59:25,073 - INFO - Fingerprint not found. Saved model loading will continue.\n",
      "2024-06-25 15:59:25,075 - INFO - path_and_singleprint metric could not be logged. Saved model loading will continue.\n",
      "/dipc/dlopez/.conda/envs/VE_torch/lib/python3.9/site-packages/sklearn/base.py:348: InconsistentVersionWarning: Trying to unpickle estimator PCA from version 1.0 when using version 1.3.2. This might lead to breaking code or invalid results. Use at your own risk. For more info please refer to:\n",
      "https://scikit-learn.org/stable/model_persistence.html#security-maintainability-limitations\n",
      "  warnings.warn(\n",
      "/dipc/dlopez/.conda/envs/VE_torch/lib/python3.9/site-packages/sklearn/base.py:348: InconsistentVersionWarning: Trying to unpickle estimator StandardScaler from version 1.0 when using version 1.3.2. This might lead to breaking code or invalid results. Use at your own risk. For more info please refer to:\n",
      "https://scikit-learn.org/stable/model_persistence.html#security-maintainability-limitations\n",
      "  warnings.warn(\n"
     ]
    },
    {
     "name": "stdout",
     "output_type": "stream",
     "text": [
      "Sigma8 emulator loaded in memory.\n",
      "Loading linear emulator...\n"
     ]
    },
    {
     "name": "stderr",
     "output_type": "stream",
     "text": [
      "2024-06-25 15:59:25,251 - INFO - Fingerprint not found. Saved model loading will continue.\n",
      "2024-06-25 15:59:25,252 - INFO - path_and_singleprint metric could not be logged. Saved model loading will continue.\n",
      "/dipc/dlopez/.conda/envs/VE_torch/lib/python3.9/site-packages/sklearn/base.py:348: InconsistentVersionWarning: Trying to unpickle estimator PCA from version 1.0 when using version 1.3.2. This might lead to breaking code or invalid results. Use at your own risk. For more info please refer to:\n",
      "https://scikit-learn.org/stable/model_persistence.html#security-maintainability-limitations\n",
      "  warnings.warn(\n",
      "/dipc/dlopez/.conda/envs/VE_torch/lib/python3.9/site-packages/sklearn/base.py:348: InconsistentVersionWarning: Trying to unpickle estimator StandardScaler from version 1.0 when using version 1.3.2. This might lead to breaking code or invalid results. Use at your own risk. For more info please refer to:\n",
      "https://scikit-learn.org/stable/model_persistence.html#security-maintainability-limitations\n",
      "  warnings.warn(\n"
     ]
    },
    {
     "name": "stdout",
     "output_type": "stream",
     "text": [
      "Linear emulator loaded in memory.\n",
      "Loading no-wiggles emulator...\n"
     ]
    },
    {
     "name": "stderr",
     "output_type": "stream",
     "text": [
      "2024-06-25 15:59:26,058 - INFO - Fingerprint not found. Saved model loading will continue.\n",
      "2024-06-25 15:59:26,059 - INFO - path_and_singleprint metric could not be logged. Saved model loading will continue.\n",
      "/dipc/dlopez/.conda/envs/VE_torch/lib/python3.9/site-packages/sklearn/base.py:348: InconsistentVersionWarning: Trying to unpickle estimator StandardScaler from version 1.0.2 when using version 1.3.2. This might lead to breaking code or invalid results. Use at your own risk. For more info please refer to:\n",
      "https://scikit-learn.org/stable/model_persistence.html#security-maintainability-limitations\n",
      "  warnings.warn(\n",
      "2024-06-25 15:59:26,256 - INFO - Fingerprint not found. Saved model loading will continue.\n",
      "2024-06-25 15:59:26,257 - INFO - path_and_singleprint metric could not be logged. Saved model loading will continue.\n",
      "/dipc/dlopez/.conda/envs/VE_torch/lib/python3.9/site-packages/sklearn/base.py:348: InconsistentVersionWarning: Trying to unpickle estimator StandardScaler from version 0.22.1 when using version 1.3.2. This might lead to breaking code or invalid results. Use at your own risk. For more info please refer to:\n",
      "https://scikit-learn.org/stable/model_persistence.html#security-maintainability-limitations\n",
      "  warnings.warn(\n",
      "/dipc/dlopez/.conda/envs/VE_torch/lib/python3.9/site-packages/sklearn/base.py:348: InconsistentVersionWarning: Trying to unpickle estimator PCA from version 0.22.1 when using version 1.3.2. This might lead to breaking code or invalid results. Use at your own risk. For more info please refer to:\n",
      "https://scikit-learn.org/stable/model_persistence.html#security-maintainability-limitations\n",
      "  warnings.warn(\n"
     ]
    },
    {
     "name": "stdout",
     "output_type": "stream",
     "text": [
      "No-wiggles emulator loaded in memory.\n",
      "Loading non-linear emulator...\n",
      "Nonlinear emulator loaded in memory.\n",
      "Loading Baryonic Emulator...\n"
     ]
    },
    {
     "name": "stderr",
     "output_type": "stream",
     "text": [
      "2024-06-25 15:59:26,428 - INFO - Fingerprint not found. Saved model loading will continue.\n",
      "2024-06-25 15:59:26,429 - INFO - path_and_singleprint metric could not be logged. Saved model loading will continue.\n",
      "/dipc/dlopez/.conda/envs/VE_torch/lib/python3.9/site-packages/sklearn/base.py:348: InconsistentVersionWarning: Trying to unpickle estimator StandardScaler from version 0.23.2 when using version 1.3.2. This might lead to breaking code or invalid results. Use at your own risk. For more info please refer to:\n",
      "https://scikit-learn.org/stable/model_persistence.html#security-maintainability-limitations\n",
      "  warnings.warn(\n",
      "/dipc/dlopez/.conda/envs/VE_torch/lib/python3.9/site-packages/sklearn/base.py:348: InconsistentVersionWarning: Trying to unpickle estimator PCA from version 0.23.2 when using version 1.3.2. This might lead to breaking code or invalid results. Use at your own risk. For more info please refer to:\n",
      "https://scikit-learn.org/stable/model_persistence.html#security-maintainability-limitations\n",
      "  warnings.warn(\n"
     ]
    },
    {
     "name": "stdout",
     "output_type": "stream",
     "text": [
      "Baryonic Emulator loaded in memory.\n"
     ]
    },
    {
     "name": "stderr",
     "output_type": "stream",
     "text": [
      "2024-06-25 15:59:27,761 - INFO - Generating baccoemu dataset...\n",
      "2024-06-25 15:59:27,762 - INFO - Generating Latin Hypercube samples...\n",
      "2024-06-25 15:59:27,765 - INFO - Generating power spectrum using baccoemu emulator...\n",
      "2024-06-25 15:59:27,930 - INFO - Fingerprint not found. Saved model loading will continue.\n",
      "2024-06-25 15:59:27,931 - INFO - path_and_singleprint metric could not be logged. Saved model loading will continue.\n"
     ]
    },
    {
     "name": "stdout",
     "output_type": "stream",
     "text": [
      "Loading sigma8 emulator...\n",
      "Sigma8 emulator loaded in memory.\n",
      "Loading linear emulator...\n"
     ]
    },
    {
     "name": "stderr",
     "output_type": "stream",
     "text": [
      "2024-06-25 15:59:28,103 - INFO - Fingerprint not found. Saved model loading will continue.\n",
      "2024-06-25 15:59:28,104 - INFO - path_and_singleprint metric could not be logged. Saved model loading will continue.\n",
      "/dipc/dlopez/.conda/envs/VE_torch/lib/python3.9/site-packages/sklearn/base.py:348: InconsistentVersionWarning: Trying to unpickle estimator PCA from version 1.0 when using version 1.3.2. This might lead to breaking code or invalid results. Use at your own risk. For more info please refer to:\n",
      "https://scikit-learn.org/stable/model_persistence.html#security-maintainability-limitations\n",
      "  warnings.warn(\n",
      "/dipc/dlopez/.conda/envs/VE_torch/lib/python3.9/site-packages/sklearn/base.py:348: InconsistentVersionWarning: Trying to unpickle estimator StandardScaler from version 1.0 when using version 1.3.2. This might lead to breaking code or invalid results. Use at your own risk. For more info please refer to:\n",
      "https://scikit-learn.org/stable/model_persistence.html#security-maintainability-limitations\n",
      "  warnings.warn(\n",
      "2024-06-25 15:59:28,290 - INFO - Fingerprint not found. Saved model loading will continue.\n",
      "2024-06-25 15:59:28,291 - INFO - path_and_singleprint metric could not be logged. Saved model loading will continue.\n",
      "/dipc/dlopez/.conda/envs/VE_torch/lib/python3.9/site-packages/sklearn/base.py:348: InconsistentVersionWarning: Trying to unpickle estimator PCA from version 1.0 when using version 1.3.2. This might lead to breaking code or invalid results. Use at your own risk. For more info please refer to:\n",
      "https://scikit-learn.org/stable/model_persistence.html#security-maintainability-limitations\n",
      "  warnings.warn(\n",
      "/dipc/dlopez/.conda/envs/VE_torch/lib/python3.9/site-packages/sklearn/base.py:348: InconsistentVersionWarning: Trying to unpickle estimator StandardScaler from version 1.0 when using version 1.3.2. This might lead to breaking code or invalid results. Use at your own risk. For more info please refer to:\n",
      "https://scikit-learn.org/stable/model_persistence.html#security-maintainability-limitations\n",
      "  warnings.warn(\n",
      "2024-06-25 15:59:28,511 - INFO - Fingerprint not found. Saved model loading will continue.\n",
      "2024-06-25 15:59:28,512 - INFO - path_and_singleprint metric could not be logged. Saved model loading will continue.\n"
     ]
    },
    {
     "name": "stdout",
     "output_type": "stream",
     "text": [
      "Linear emulator loaded in memory.\n",
      "Loading no-wiggles emulator...\n"
     ]
    },
    {
     "name": "stderr",
     "output_type": "stream",
     "text": [
      "/dipc/dlopez/.conda/envs/VE_torch/lib/python3.9/site-packages/sklearn/base.py:348: InconsistentVersionWarning: Trying to unpickle estimator StandardScaler from version 1.0.2 when using version 1.3.2. This might lead to breaking code or invalid results. Use at your own risk. For more info please refer to:\n",
      "https://scikit-learn.org/stable/model_persistence.html#security-maintainability-limitations\n",
      "  warnings.warn(\n",
      "2024-06-25 15:59:28,730 - INFO - Fingerprint not found. Saved model loading will continue.\n",
      "2024-06-25 15:59:28,731 - INFO - path_and_singleprint metric could not be logged. Saved model loading will continue.\n"
     ]
    },
    {
     "name": "stdout",
     "output_type": "stream",
     "text": [
      "No-wiggles emulator loaded in memory.\n",
      "Loading non-linear emulator...\n"
     ]
    },
    {
     "name": "stderr",
     "output_type": "stream",
     "text": [
      "/dipc/dlopez/.conda/envs/VE_torch/lib/python3.9/site-packages/sklearn/base.py:348: InconsistentVersionWarning: Trying to unpickle estimator StandardScaler from version 0.22.1 when using version 1.3.2. This might lead to breaking code or invalid results. Use at your own risk. For more info please refer to:\n",
      "https://scikit-learn.org/stable/model_persistence.html#security-maintainability-limitations\n",
      "  warnings.warn(\n",
      "/dipc/dlopez/.conda/envs/VE_torch/lib/python3.9/site-packages/sklearn/base.py:348: InconsistentVersionWarning: Trying to unpickle estimator PCA from version 0.22.1 when using version 1.3.2. This might lead to breaking code or invalid results. Use at your own risk. For more info please refer to:\n",
      "https://scikit-learn.org/stable/model_persistence.html#security-maintainability-limitations\n",
      "  warnings.warn(\n",
      "2024-06-25 15:59:28,919 - INFO - Fingerprint not found. Saved model loading will continue.\n",
      "2024-06-25 15:59:28,921 - INFO - path_and_singleprint metric could not be logged. Saved model loading will continue.\n",
      "/dipc/dlopez/.conda/envs/VE_torch/lib/python3.9/site-packages/sklearn/base.py:348: InconsistentVersionWarning: Trying to unpickle estimator StandardScaler from version 0.23.2 when using version 1.3.2. This might lead to breaking code or invalid results. Use at your own risk. For more info please refer to:\n",
      "https://scikit-learn.org/stable/model_persistence.html#security-maintainability-limitations\n",
      "  warnings.warn(\n",
      "/dipc/dlopez/.conda/envs/VE_torch/lib/python3.9/site-packages/sklearn/base.py:348: InconsistentVersionWarning: Trying to unpickle estimator PCA from version 0.23.2 when using version 1.3.2. This might lead to breaking code or invalid results. Use at your own risk. For more info please refer to:\n",
      "https://scikit-learn.org/stable/model_persistence.html#security-maintainability-limitations\n",
      "  warnings.warn(\n"
     ]
    },
    {
     "name": "stdout",
     "output_type": "stream",
     "text": [
      "Nonlinear emulator loaded in memory.\n",
      "Loading Baryonic Emulator...\n",
      "Baryonic Emulator loaded in memory.\n"
     ]
    },
    {
     "name": "stderr",
     "output_type": "stream",
     "text": [
      "2024-06-25 15:59:30,356 - INFO - Generating baccoemu dataset...\n",
      "2024-06-25 15:59:30,359 - INFO - Generating Latin Hypercube samples...\n",
      "2024-06-25 15:59:30,363 - INFO - Generating power spectrum using baccoemu emulator...\n",
      "2024-06-25 15:59:30,544 - INFO - Fingerprint not found. Saved model loading will continue.\n",
      "2024-06-25 15:59:30,545 - INFO - path_and_singleprint metric could not be logged. Saved model loading will continue.\n"
     ]
    },
    {
     "name": "stdout",
     "output_type": "stream",
     "text": [
      "Loading sigma8 emulator...\n"
     ]
    },
    {
     "name": "stderr",
     "output_type": "stream",
     "text": [
      "2024-06-25 15:59:30,712 - INFO - Fingerprint not found. Saved model loading will continue.\n",
      "2024-06-25 15:59:30,713 - INFO - path_and_singleprint metric could not be logged. Saved model loading will continue.\n",
      "/dipc/dlopez/.conda/envs/VE_torch/lib/python3.9/site-packages/sklearn/base.py:348: InconsistentVersionWarning: Trying to unpickle estimator PCA from version 1.0 when using version 1.3.2. This might lead to breaking code or invalid results. Use at your own risk. For more info please refer to:\n",
      "https://scikit-learn.org/stable/model_persistence.html#security-maintainability-limitations\n",
      "  warnings.warn(\n",
      "/dipc/dlopez/.conda/envs/VE_torch/lib/python3.9/site-packages/sklearn/base.py:348: InconsistentVersionWarning: Trying to unpickle estimator StandardScaler from version 1.0 when using version 1.3.2. This might lead to breaking code or invalid results. Use at your own risk. For more info please refer to:\n",
      "https://scikit-learn.org/stable/model_persistence.html#security-maintainability-limitations\n",
      "  warnings.warn(\n"
     ]
    },
    {
     "name": "stdout",
     "output_type": "stream",
     "text": [
      "Sigma8 emulator loaded in memory.\n",
      "Loading linear emulator...\n"
     ]
    },
    {
     "name": "stderr",
     "output_type": "stream",
     "text": [
      "2024-06-25 15:59:30,896 - INFO - Fingerprint not found. Saved model loading will continue.\n",
      "2024-06-25 15:59:30,898 - INFO - path_and_singleprint metric could not be logged. Saved model loading will continue.\n",
      "/dipc/dlopez/.conda/envs/VE_torch/lib/python3.9/site-packages/sklearn/base.py:348: InconsistentVersionWarning: Trying to unpickle estimator PCA from version 1.0 when using version 1.3.2. This might lead to breaking code or invalid results. Use at your own risk. For more info please refer to:\n",
      "https://scikit-learn.org/stable/model_persistence.html#security-maintainability-limitations\n",
      "  warnings.warn(\n",
      "/dipc/dlopez/.conda/envs/VE_torch/lib/python3.9/site-packages/sklearn/base.py:348: InconsistentVersionWarning: Trying to unpickle estimator StandardScaler from version 1.0 when using version 1.3.2. This might lead to breaking code or invalid results. Use at your own risk. For more info please refer to:\n",
      "https://scikit-learn.org/stable/model_persistence.html#security-maintainability-limitations\n",
      "  warnings.warn(\n",
      "2024-06-25 15:59:31,096 - INFO - Fingerprint not found. Saved model loading will continue.\n",
      "2024-06-25 15:59:31,097 - INFO - path_and_singleprint metric could not be logged. Saved model loading will continue.\n"
     ]
    },
    {
     "name": "stdout",
     "output_type": "stream",
     "text": [
      "Linear emulator loaded in memory.\n",
      "Loading no-wiggles emulator...\n"
     ]
    },
    {
     "name": "stderr",
     "output_type": "stream",
     "text": [
      "/dipc/dlopez/.conda/envs/VE_torch/lib/python3.9/site-packages/sklearn/base.py:348: InconsistentVersionWarning: Trying to unpickle estimator StandardScaler from version 1.0.2 when using version 1.3.2. This might lead to breaking code or invalid results. Use at your own risk. For more info please refer to:\n",
      "https://scikit-learn.org/stable/model_persistence.html#security-maintainability-limitations\n",
      "  warnings.warn(\n",
      "2024-06-25 15:59:31,295 - INFO - Fingerprint not found. Saved model loading will continue.\n",
      "2024-06-25 15:59:31,297 - INFO - path_and_singleprint metric could not be logged. Saved model loading will continue.\n",
      "/dipc/dlopez/.conda/envs/VE_torch/lib/python3.9/site-packages/sklearn/base.py:348: InconsistentVersionWarning: Trying to unpickle estimator StandardScaler from version 0.22.1 when using version 1.3.2. This might lead to breaking code or invalid results. Use at your own risk. For more info please refer to:\n",
      "https://scikit-learn.org/stable/model_persistence.html#security-maintainability-limitations\n",
      "  warnings.warn(\n",
      "/dipc/dlopez/.conda/envs/VE_torch/lib/python3.9/site-packages/sklearn/base.py:348: InconsistentVersionWarning: Trying to unpickle estimator PCA from version 0.22.1 when using version 1.3.2. This might lead to breaking code or invalid results. Use at your own risk. For more info please refer to:\n",
      "https://scikit-learn.org/stable/model_persistence.html#security-maintainability-limitations\n",
      "  warnings.warn(\n"
     ]
    },
    {
     "name": "stdout",
     "output_type": "stream",
     "text": [
      "No-wiggles emulator loaded in memory.\n",
      "Loading non-linear emulator...\n",
      "Nonlinear emulator loaded in memory.\n",
      "Loading Baryonic Emulator...\n"
     ]
    },
    {
     "name": "stderr",
     "output_type": "stream",
     "text": [
      "2024-06-25 15:59:31,487 - INFO - Fingerprint not found. Saved model loading will continue.\n",
      "2024-06-25 15:59:31,488 - INFO - path_and_singleprint metric could not be logged. Saved model loading will continue.\n",
      "/dipc/dlopez/.conda/envs/VE_torch/lib/python3.9/site-packages/sklearn/base.py:348: InconsistentVersionWarning: Trying to unpickle estimator StandardScaler from version 0.23.2 when using version 1.3.2. This might lead to breaking code or invalid results. Use at your own risk. For more info please refer to:\n",
      "https://scikit-learn.org/stable/model_persistence.html#security-maintainability-limitations\n",
      "  warnings.warn(\n",
      "/dipc/dlopez/.conda/envs/VE_torch/lib/python3.9/site-packages/sklearn/base.py:348: InconsistentVersionWarning: Trying to unpickle estimator PCA from version 0.23.2 when using version 1.3.2. This might lead to breaking code or invalid results. Use at your own risk. For more info please refer to:\n",
      "https://scikit-learn.org/stable/model_persistence.html#security-maintainability-limitations\n",
      "  warnings.warn(\n"
     ]
    },
    {
     "name": "stdout",
     "output_type": "stream",
     "text": [
      "Baryonic Emulator loaded in memory.\n"
     ]
    },
    {
     "name": "stderr",
     "output_type": "stream",
     "text": [
      "2024-06-25 15:59:32,871 - INFO - Generating baccoemu dataset...\n",
      "2024-06-25 15:59:32,874 - INFO - Generating Latin Hypercube samples...\n",
      "2024-06-25 15:59:32,877 - INFO - Generating power spectrum using baccoemu emulator...\n"
     ]
    },
    {
     "name": "stdout",
     "output_type": "stream",
     "text": [
      "Loading sigma8 emulator...\n"
     ]
    },
    {
     "name": "stderr",
     "output_type": "stream",
     "text": [
      "2024-06-25 15:59:33,638 - INFO - Fingerprint not found. Saved model loading will continue.\n",
      "2024-06-25 15:59:33,639 - INFO - path_and_singleprint metric could not be logged. Saved model loading will continue.\n",
      "2024-06-25 15:59:33,801 - INFO - Fingerprint not found. Saved model loading will continue.\n",
      "2024-06-25 15:59:33,802 - INFO - path_and_singleprint metric could not be logged. Saved model loading will continue.\n",
      "/dipc/dlopez/.conda/envs/VE_torch/lib/python3.9/site-packages/sklearn/base.py:348: InconsistentVersionWarning: Trying to unpickle estimator PCA from version 1.0 when using version 1.3.2. This might lead to breaking code or invalid results. Use at your own risk. For more info please refer to:\n",
      "https://scikit-learn.org/stable/model_persistence.html#security-maintainability-limitations\n",
      "  warnings.warn(\n",
      "/dipc/dlopez/.conda/envs/VE_torch/lib/python3.9/site-packages/sklearn/base.py:348: InconsistentVersionWarning: Trying to unpickle estimator StandardScaler from version 1.0 when using version 1.3.2. This might lead to breaking code or invalid results. Use at your own risk. For more info please refer to:\n",
      "https://scikit-learn.org/stable/model_persistence.html#security-maintainability-limitations\n",
      "  warnings.warn(\n"
     ]
    },
    {
     "name": "stdout",
     "output_type": "stream",
     "text": [
      "Sigma8 emulator loaded in memory.\n",
      "Loading linear emulator...\n"
     ]
    },
    {
     "name": "stderr",
     "output_type": "stream",
     "text": [
      "2024-06-25 15:59:33,989 - INFO - Fingerprint not found. Saved model loading will continue.\n",
      "2024-06-25 15:59:33,990 - INFO - path_and_singleprint metric could not be logged. Saved model loading will continue.\n",
      "/dipc/dlopez/.conda/envs/VE_torch/lib/python3.9/site-packages/sklearn/base.py:348: InconsistentVersionWarning: Trying to unpickle estimator PCA from version 1.0 when using version 1.3.2. This might lead to breaking code or invalid results. Use at your own risk. For more info please refer to:\n",
      "https://scikit-learn.org/stable/model_persistence.html#security-maintainability-limitations\n",
      "  warnings.warn(\n",
      "/dipc/dlopez/.conda/envs/VE_torch/lib/python3.9/site-packages/sklearn/base.py:348: InconsistentVersionWarning: Trying to unpickle estimator StandardScaler from version 1.0 when using version 1.3.2. This might lead to breaking code or invalid results. Use at your own risk. For more info please refer to:\n",
      "https://scikit-learn.org/stable/model_persistence.html#security-maintainability-limitations\n",
      "  warnings.warn(\n",
      "2024-06-25 15:59:34,209 - INFO - Fingerprint not found. Saved model loading will continue.\n",
      "2024-06-25 15:59:34,211 - INFO - path_and_singleprint metric could not be logged. Saved model loading will continue.\n"
     ]
    },
    {
     "name": "stdout",
     "output_type": "stream",
     "text": [
      "Linear emulator loaded in memory.\n",
      "Loading no-wiggles emulator...\n"
     ]
    },
    {
     "name": "stderr",
     "output_type": "stream",
     "text": [
      "/dipc/dlopez/.conda/envs/VE_torch/lib/python3.9/site-packages/sklearn/base.py:348: InconsistentVersionWarning: Trying to unpickle estimator StandardScaler from version 1.0.2 when using version 1.3.2. This might lead to breaking code or invalid results. Use at your own risk. For more info please refer to:\n",
      "https://scikit-learn.org/stable/model_persistence.html#security-maintainability-limitations\n",
      "  warnings.warn(\n",
      "2024-06-25 15:59:34,396 - INFO - Fingerprint not found. Saved model loading will continue.\n",
      "2024-06-25 15:59:34,397 - INFO - path_and_singleprint metric could not be logged. Saved model loading will continue.\n",
      "/dipc/dlopez/.conda/envs/VE_torch/lib/python3.9/site-packages/sklearn/base.py:348: InconsistentVersionWarning: Trying to unpickle estimator StandardScaler from version 0.22.1 when using version 1.3.2. This might lead to breaking code or invalid results. Use at your own risk. For more info please refer to:\n",
      "https://scikit-learn.org/stable/model_persistence.html#security-maintainability-limitations\n",
      "  warnings.warn(\n",
      "/dipc/dlopez/.conda/envs/VE_torch/lib/python3.9/site-packages/sklearn/base.py:348: InconsistentVersionWarning: Trying to unpickle estimator PCA from version 0.22.1 when using version 1.3.2. This might lead to breaking code or invalid results. Use at your own risk. For more info please refer to:\n",
      "https://scikit-learn.org/stable/model_persistence.html#security-maintainability-limitations\n",
      "  warnings.warn(\n"
     ]
    },
    {
     "name": "stdout",
     "output_type": "stream",
     "text": [
      "No-wiggles emulator loaded in memory.\n",
      "Loading non-linear emulator...\n",
      "Nonlinear emulator loaded in memory.\n",
      "Loading Baryonic Emulator...\n"
     ]
    },
    {
     "name": "stderr",
     "output_type": "stream",
     "text": [
      "2024-06-25 15:59:34,580 - INFO - Fingerprint not found. Saved model loading will continue.\n",
      "2024-06-25 15:59:34,582 - INFO - path_and_singleprint metric could not be logged. Saved model loading will continue.\n",
      "/dipc/dlopez/.conda/envs/VE_torch/lib/python3.9/site-packages/sklearn/base.py:348: InconsistentVersionWarning: Trying to unpickle estimator StandardScaler from version 0.23.2 when using version 1.3.2. This might lead to breaking code or invalid results. Use at your own risk. For more info please refer to:\n",
      "https://scikit-learn.org/stable/model_persistence.html#security-maintainability-limitations\n",
      "  warnings.warn(\n",
      "/dipc/dlopez/.conda/envs/VE_torch/lib/python3.9/site-packages/sklearn/base.py:348: InconsistentVersionWarning: Trying to unpickle estimator PCA from version 0.23.2 when using version 1.3.2. This might lead to breaking code or invalid results. Use at your own risk. For more info please refer to:\n",
      "https://scikit-learn.org/stable/model_persistence.html#security-maintainability-limitations\n",
      "  warnings.warn(\n"
     ]
    },
    {
     "name": "stdout",
     "output_type": "stream",
     "text": [
      "Baryonic Emulator loaded in memory.\n"
     ]
    },
    {
     "name": "stderr",
     "output_type": "stream",
     "text": [
      "2024-06-25 15:59:35,982 - INFO - Generating baccoemu dataset...\n",
      "2024-06-25 15:59:35,984 - INFO - Generating Latin Hypercube samples...\n",
      "2024-06-25 15:59:35,988 - INFO - Generating power spectrum using baccoemu emulator...\n",
      "2024-06-25 15:59:36,159 - INFO - Fingerprint not found. Saved model loading will continue.\n",
      "2024-06-25 15:59:36,161 - INFO - path_and_singleprint metric could not be logged. Saved model loading will continue.\n"
     ]
    },
    {
     "name": "stdout",
     "output_type": "stream",
     "text": [
      "Loading sigma8 emulator...\n"
     ]
    },
    {
     "name": "stderr",
     "output_type": "stream",
     "text": [
      "2024-06-25 15:59:36,347 - INFO - Fingerprint not found. Saved model loading will continue.\n",
      "2024-06-25 15:59:36,348 - INFO - path_and_singleprint metric could not be logged. Saved model loading will continue.\n"
     ]
    },
    {
     "name": "stdout",
     "output_type": "stream",
     "text": [
      "Sigma8 emulator loaded in memory.\n",
      "Loading linear emulator...\n"
     ]
    },
    {
     "name": "stderr",
     "output_type": "stream",
     "text": [
      "/dipc/dlopez/.conda/envs/VE_torch/lib/python3.9/site-packages/sklearn/base.py:348: InconsistentVersionWarning: Trying to unpickle estimator PCA from version 1.0 when using version 1.3.2. This might lead to breaking code or invalid results. Use at your own risk. For more info please refer to:\n",
      "https://scikit-learn.org/stable/model_persistence.html#security-maintainability-limitations\n",
      "  warnings.warn(\n",
      "/dipc/dlopez/.conda/envs/VE_torch/lib/python3.9/site-packages/sklearn/base.py:348: InconsistentVersionWarning: Trying to unpickle estimator StandardScaler from version 1.0 when using version 1.3.2. This might lead to breaking code or invalid results. Use at your own risk. For more info please refer to:\n",
      "https://scikit-learn.org/stable/model_persistence.html#security-maintainability-limitations\n",
      "  warnings.warn(\n",
      "2024-06-25 15:59:36,509 - INFO - Fingerprint not found. Saved model loading will continue.\n",
      "2024-06-25 15:59:36,510 - INFO - path_and_singleprint metric could not be logged. Saved model loading will continue.\n",
      "/dipc/dlopez/.conda/envs/VE_torch/lib/python3.9/site-packages/sklearn/base.py:348: InconsistentVersionWarning: Trying to unpickle estimator PCA from version 1.0 when using version 1.3.2. This might lead to breaking code or invalid results. Use at your own risk. For more info please refer to:\n",
      "https://scikit-learn.org/stable/model_persistence.html#security-maintainability-limitations\n",
      "  warnings.warn(\n",
      "/dipc/dlopez/.conda/envs/VE_torch/lib/python3.9/site-packages/sklearn/base.py:348: InconsistentVersionWarning: Trying to unpickle estimator StandardScaler from version 1.0 when using version 1.3.2. This might lead to breaking code or invalid results. Use at your own risk. For more info please refer to:\n",
      "https://scikit-learn.org/stable/model_persistence.html#security-maintainability-limitations\n",
      "  warnings.warn(\n",
      "2024-06-25 15:59:36,706 - INFO - Fingerprint not found. Saved model loading will continue.\n",
      "2024-06-25 15:59:36,708 - INFO - path_and_singleprint metric could not be logged. Saved model loading will continue.\n",
      "/dipc/dlopez/.conda/envs/VE_torch/lib/python3.9/site-packages/sklearn/base.py:348: InconsistentVersionWarning: Trying to unpickle estimator StandardScaler from version 1.0.2 when using version 1.3.2. This might lead to breaking code or invalid results. Use at your own risk. For more info please refer to:\n",
      "https://scikit-learn.org/stable/model_persistence.html#security-maintainability-limitations\n",
      "  warnings.warn(\n"
     ]
    },
    {
     "name": "stdout",
     "output_type": "stream",
     "text": [
      "Linear emulator loaded in memory.\n",
      "Loading no-wiggles emulator...\n",
      "No-wiggles emulator loaded in memory.\n",
      "Loading non-linear emulator...\n"
     ]
    },
    {
     "name": "stderr",
     "output_type": "stream",
     "text": [
      "2024-06-25 15:59:36,883 - INFO - Fingerprint not found. Saved model loading will continue.\n",
      "2024-06-25 15:59:36,884 - INFO - path_and_singleprint metric could not be logged. Saved model loading will continue.\n",
      "/dipc/dlopez/.conda/envs/VE_torch/lib/python3.9/site-packages/sklearn/base.py:348: InconsistentVersionWarning: Trying to unpickle estimator StandardScaler from version 0.22.1 when using version 1.3.2. This might lead to breaking code or invalid results. Use at your own risk. For more info please refer to:\n",
      "https://scikit-learn.org/stable/model_persistence.html#security-maintainability-limitations\n",
      "  warnings.warn(\n",
      "/dipc/dlopez/.conda/envs/VE_torch/lib/python3.9/site-packages/sklearn/base.py:348: InconsistentVersionWarning: Trying to unpickle estimator PCA from version 0.22.1 when using version 1.3.2. This might lead to breaking code or invalid results. Use at your own risk. For more info please refer to:\n",
      "https://scikit-learn.org/stable/model_persistence.html#security-maintainability-limitations\n",
      "  warnings.warn(\n",
      "2024-06-25 15:59:37,052 - INFO - Fingerprint not found. Saved model loading will continue.\n",
      "2024-06-25 15:59:37,054 - INFO - path_and_singleprint metric could not be logged. Saved model loading will continue.\n",
      "/dipc/dlopez/.conda/envs/VE_torch/lib/python3.9/site-packages/sklearn/base.py:348: InconsistentVersionWarning: Trying to unpickle estimator StandardScaler from version 0.23.2 when using version 1.3.2. This might lead to breaking code or invalid results. Use at your own risk. For more info please refer to:\n",
      "https://scikit-learn.org/stable/model_persistence.html#security-maintainability-limitations\n",
      "  warnings.warn(\n",
      "/dipc/dlopez/.conda/envs/VE_torch/lib/python3.9/site-packages/sklearn/base.py:348: InconsistentVersionWarning: Trying to unpickle estimator PCA from version 0.23.2 when using version 1.3.2. This might lead to breaking code or invalid results. Use at your own risk. For more info please refer to:\n",
      "https://scikit-learn.org/stable/model_persistence.html#security-maintainability-limitations\n",
      "  warnings.warn(\n"
     ]
    },
    {
     "name": "stdout",
     "output_type": "stream",
     "text": [
      "Nonlinear emulator loaded in memory.\n",
      "Loading Baryonic Emulator...\n",
      "Baryonic Emulator loaded in memory.\n"
     ]
    },
    {
     "name": "stderr",
     "output_type": "stream",
     "text": [
      "2024-06-25 15:59:38,462 - INFO - Generating baccoemu dataset...\n",
      "2024-06-25 15:59:38,464 - INFO - Generating Latin Hypercube samples...\n",
      "2024-06-25 15:59:38,467 - INFO - Generating power spectrum using baccoemu emulator...\n",
      "2024-06-25 15:59:38,637 - INFO - Fingerprint not found. Saved model loading will continue.\n",
      "2024-06-25 15:59:38,638 - INFO - path_and_singleprint metric could not be logged. Saved model loading will continue.\n"
     ]
    },
    {
     "name": "stdout",
     "output_type": "stream",
     "text": [
      "Loading sigma8 emulator...\n",
      "Sigma8 emulator loaded in memory.\n",
      "Loading linear emulator...\n"
     ]
    },
    {
     "name": "stderr",
     "output_type": "stream",
     "text": [
      "2024-06-25 15:59:38,802 - INFO - Fingerprint not found. Saved model loading will continue.\n",
      "2024-06-25 15:59:38,803 - INFO - path_and_singleprint metric could not be logged. Saved model loading will continue.\n",
      "/dipc/dlopez/.conda/envs/VE_torch/lib/python3.9/site-packages/sklearn/base.py:348: InconsistentVersionWarning: Trying to unpickle estimator PCA from version 1.0 when using version 1.3.2. This might lead to breaking code or invalid results. Use at your own risk. For more info please refer to:\n",
      "https://scikit-learn.org/stable/model_persistence.html#security-maintainability-limitations\n",
      "  warnings.warn(\n",
      "/dipc/dlopez/.conda/envs/VE_torch/lib/python3.9/site-packages/sklearn/base.py:348: InconsistentVersionWarning: Trying to unpickle estimator StandardScaler from version 1.0 when using version 1.3.2. This might lead to breaking code or invalid results. Use at your own risk. For more info please refer to:\n",
      "https://scikit-learn.org/stable/model_persistence.html#security-maintainability-limitations\n",
      "  warnings.warn(\n",
      "2024-06-25 15:59:38,964 - INFO - Fingerprint not found. Saved model loading will continue.\n",
      "2024-06-25 15:59:38,965 - INFO - path_and_singleprint metric could not be logged. Saved model loading will continue.\n",
      "/dipc/dlopez/.conda/envs/VE_torch/lib/python3.9/site-packages/sklearn/base.py:348: InconsistentVersionWarning: Trying to unpickle estimator PCA from version 1.0 when using version 1.3.2. This might lead to breaking code or invalid results. Use at your own risk. For more info please refer to:\n",
      "https://scikit-learn.org/stable/model_persistence.html#security-maintainability-limitations\n",
      "  warnings.warn(\n",
      "/dipc/dlopez/.conda/envs/VE_torch/lib/python3.9/site-packages/sklearn/base.py:348: InconsistentVersionWarning: Trying to unpickle estimator StandardScaler from version 1.0 when using version 1.3.2. This might lead to breaking code or invalid results. Use at your own risk. For more info please refer to:\n",
      "https://scikit-learn.org/stable/model_persistence.html#security-maintainability-limitations\n",
      "  warnings.warn(\n"
     ]
    },
    {
     "name": "stdout",
     "output_type": "stream",
     "text": [
      "Linear emulator loaded in memory.\n",
      "Loading no-wiggles emulator...\n"
     ]
    },
    {
     "name": "stderr",
     "output_type": "stream",
     "text": [
      "2024-06-25 15:59:39,626 - INFO - Fingerprint not found. Saved model loading will continue.\n",
      "2024-06-25 15:59:39,628 - INFO - path_and_singleprint metric could not be logged. Saved model loading will continue.\n",
      "/dipc/dlopez/.conda/envs/VE_torch/lib/python3.9/site-packages/sklearn/base.py:348: InconsistentVersionWarning: Trying to unpickle estimator StandardScaler from version 1.0.2 when using version 1.3.2. This might lead to breaking code or invalid results. Use at your own risk. For more info please refer to:\n",
      "https://scikit-learn.org/stable/model_persistence.html#security-maintainability-limitations\n",
      "  warnings.warn(\n",
      "2024-06-25 15:59:39,807 - INFO - Fingerprint not found. Saved model loading will continue.\n",
      "2024-06-25 15:59:39,808 - INFO - path_and_singleprint metric could not be logged. Saved model loading will continue.\n",
      "/dipc/dlopez/.conda/envs/VE_torch/lib/python3.9/site-packages/sklearn/base.py:348: InconsistentVersionWarning: Trying to unpickle estimator StandardScaler from version 0.22.1 when using version 1.3.2. This might lead to breaking code or invalid results. Use at your own risk. For more info please refer to:\n",
      "https://scikit-learn.org/stable/model_persistence.html#security-maintainability-limitations\n",
      "  warnings.warn(\n",
      "/dipc/dlopez/.conda/envs/VE_torch/lib/python3.9/site-packages/sklearn/base.py:348: InconsistentVersionWarning: Trying to unpickle estimator PCA from version 0.22.1 when using version 1.3.2. This might lead to breaking code or invalid results. Use at your own risk. For more info please refer to:\n",
      "https://scikit-learn.org/stable/model_persistence.html#security-maintainability-limitations\n",
      "  warnings.warn(\n"
     ]
    },
    {
     "name": "stdout",
     "output_type": "stream",
     "text": [
      "No-wiggles emulator loaded in memory.\n",
      "Loading non-linear emulator...\n",
      "Nonlinear emulator loaded in memory.\n",
      "Loading Baryonic Emulator...\n"
     ]
    },
    {
     "name": "stderr",
     "output_type": "stream",
     "text": [
      "2024-06-25 15:59:39,988 - INFO - Fingerprint not found. Saved model loading will continue.\n",
      "2024-06-25 15:59:39,990 - INFO - path_and_singleprint metric could not be logged. Saved model loading will continue.\n",
      "/dipc/dlopez/.conda/envs/VE_torch/lib/python3.9/site-packages/sklearn/base.py:348: InconsistentVersionWarning: Trying to unpickle estimator StandardScaler from version 0.23.2 when using version 1.3.2. This might lead to breaking code or invalid results. Use at your own risk. For more info please refer to:\n",
      "https://scikit-learn.org/stable/model_persistence.html#security-maintainability-limitations\n",
      "  warnings.warn(\n",
      "/dipc/dlopez/.conda/envs/VE_torch/lib/python3.9/site-packages/sklearn/base.py:348: InconsistentVersionWarning: Trying to unpickle estimator PCA from version 0.23.2 when using version 1.3.2. This might lead to breaking code or invalid results. Use at your own risk. For more info please refer to:\n",
      "https://scikit-learn.org/stable/model_persistence.html#security-maintainability-limitations\n",
      "  warnings.warn(\n"
     ]
    },
    {
     "name": "stdout",
     "output_type": "stream",
     "text": [
      "Baryonic Emulator loaded in memory.\n"
     ]
    },
    {
     "name": "stderr",
     "output_type": "stream",
     "text": [
      "2024-06-25 15:59:41,344 - INFO - Generating baccoemu dataset...\n",
      "2024-06-25 15:59:41,346 - INFO - Generating Latin Hypercube samples...\n",
      "2024-06-25 15:59:41,349 - INFO - Generating power spectrum using baccoemu emulator...\n",
      "2024-06-25 15:59:41,517 - INFO - Fingerprint not found. Saved model loading will continue.\n",
      "2024-06-25 15:59:41,518 - INFO - path_and_singleprint metric could not be logged. Saved model loading will continue.\n"
     ]
    },
    {
     "name": "stdout",
     "output_type": "stream",
     "text": [
      "Loading sigma8 emulator...\n",
      "Sigma8 emulator loaded in memory.\n",
      "Loading linear emulator...\n"
     ]
    },
    {
     "name": "stderr",
     "output_type": "stream",
     "text": [
      "2024-06-25 15:59:41,674 - INFO - Fingerprint not found. Saved model loading will continue.\n",
      "2024-06-25 15:59:41,676 - INFO - path_and_singleprint metric could not be logged. Saved model loading will continue.\n",
      "/dipc/dlopez/.conda/envs/VE_torch/lib/python3.9/site-packages/sklearn/base.py:348: InconsistentVersionWarning: Trying to unpickle estimator PCA from version 1.0 when using version 1.3.2. This might lead to breaking code or invalid results. Use at your own risk. For more info please refer to:\n",
      "https://scikit-learn.org/stable/model_persistence.html#security-maintainability-limitations\n",
      "  warnings.warn(\n",
      "/dipc/dlopez/.conda/envs/VE_torch/lib/python3.9/site-packages/sklearn/base.py:348: InconsistentVersionWarning: Trying to unpickle estimator StandardScaler from version 1.0 when using version 1.3.2. This might lead to breaking code or invalid results. Use at your own risk. For more info please refer to:\n",
      "https://scikit-learn.org/stable/model_persistence.html#security-maintainability-limitations\n",
      "  warnings.warn(\n",
      "2024-06-25 15:59:41,854 - INFO - Fingerprint not found. Saved model loading will continue.\n",
      "2024-06-25 15:59:41,855 - INFO - path_and_singleprint metric could not be logged. Saved model loading will continue.\n",
      "/dipc/dlopez/.conda/envs/VE_torch/lib/python3.9/site-packages/sklearn/base.py:348: InconsistentVersionWarning: Trying to unpickle estimator PCA from version 1.0 when using version 1.3.2. This might lead to breaking code or invalid results. Use at your own risk. For more info please refer to:\n",
      "https://scikit-learn.org/stable/model_persistence.html#security-maintainability-limitations\n",
      "  warnings.warn(\n",
      "/dipc/dlopez/.conda/envs/VE_torch/lib/python3.9/site-packages/sklearn/base.py:348: InconsistentVersionWarning: Trying to unpickle estimator StandardScaler from version 1.0 when using version 1.3.2. This might lead to breaking code or invalid results. Use at your own risk. For more info please refer to:\n",
      "https://scikit-learn.org/stable/model_persistence.html#security-maintainability-limitations\n",
      "  warnings.warn(\n",
      "2024-06-25 15:59:42,036 - INFO - Fingerprint not found. Saved model loading will continue.\n",
      "2024-06-25 15:59:42,038 - INFO - path_and_singleprint metric could not be logged. Saved model loading will continue.\n",
      "/dipc/dlopez/.conda/envs/VE_torch/lib/python3.9/site-packages/sklearn/base.py:348: InconsistentVersionWarning: Trying to unpickle estimator StandardScaler from version 1.0.2 when using version 1.3.2. This might lead to breaking code or invalid results. Use at your own risk. For more info please refer to:\n",
      "https://scikit-learn.org/stable/model_persistence.html#security-maintainability-limitations\n",
      "  warnings.warn(\n"
     ]
    },
    {
     "name": "stdout",
     "output_type": "stream",
     "text": [
      "Linear emulator loaded in memory.\n",
      "Loading no-wiggles emulator...\n",
      "No-wiggles emulator loaded in memory.\n",
      "Loading non-linear emulator...\n"
     ]
    },
    {
     "name": "stderr",
     "output_type": "stream",
     "text": [
      "2024-06-25 15:59:42,209 - INFO - Fingerprint not found. Saved model loading will continue.\n",
      "2024-06-25 15:59:42,210 - INFO - path_and_singleprint metric could not be logged. Saved model loading will continue.\n",
      "/dipc/dlopez/.conda/envs/VE_torch/lib/python3.9/site-packages/sklearn/base.py:348: InconsistentVersionWarning: Trying to unpickle estimator StandardScaler from version 0.22.1 when using version 1.3.2. This might lead to breaking code or invalid results. Use at your own risk. For more info please refer to:\n",
      "https://scikit-learn.org/stable/model_persistence.html#security-maintainability-limitations\n",
      "  warnings.warn(\n",
      "/dipc/dlopez/.conda/envs/VE_torch/lib/python3.9/site-packages/sklearn/base.py:348: InconsistentVersionWarning: Trying to unpickle estimator PCA from version 0.22.1 when using version 1.3.2. This might lead to breaking code or invalid results. Use at your own risk. For more info please refer to:\n",
      "https://scikit-learn.org/stable/model_persistence.html#security-maintainability-limitations\n",
      "  warnings.warn(\n",
      "2024-06-25 15:59:42,373 - INFO - Fingerprint not found. Saved model loading will continue.\n",
      "2024-06-25 15:59:42,374 - INFO - path_and_singleprint metric could not be logged. Saved model loading will continue.\n",
      "/dipc/dlopez/.conda/envs/VE_torch/lib/python3.9/site-packages/sklearn/base.py:348: InconsistentVersionWarning: Trying to unpickle estimator StandardScaler from version 0.23.2 when using version 1.3.2. This might lead to breaking code or invalid results. Use at your own risk. For more info please refer to:\n",
      "https://scikit-learn.org/stable/model_persistence.html#security-maintainability-limitations\n",
      "  warnings.warn(\n",
      "/dipc/dlopez/.conda/envs/VE_torch/lib/python3.9/site-packages/sklearn/base.py:348: InconsistentVersionWarning: Trying to unpickle estimator PCA from version 0.23.2 when using version 1.3.2. This might lead to breaking code or invalid results. Use at your own risk. For more info please refer to:\n",
      "https://scikit-learn.org/stable/model_persistence.html#security-maintainability-limitations\n",
      "  warnings.warn(\n"
     ]
    },
    {
     "name": "stdout",
     "output_type": "stream",
     "text": [
      "Nonlinear emulator loaded in memory.\n",
      "Loading Baryonic Emulator...\n",
      "Baryonic Emulator loaded in memory.\n"
     ]
    },
    {
     "name": "stderr",
     "output_type": "stream",
     "text": [
      "2024-06-25 15:59:43,685 - INFO - Generating baccoemu dataset...\n",
      "2024-06-25 15:59:43,687 - INFO - Generating Latin Hypercube samples...\n",
      "2024-06-25 15:59:43,690 - INFO - Generating power spectrum using baccoemu emulator...\n",
      "2024-06-25 15:59:43,857 - INFO - Fingerprint not found. Saved model loading will continue.\n",
      "2024-06-25 15:59:43,859 - INFO - path_and_singleprint metric could not be logged. Saved model loading will continue.\n"
     ]
    },
    {
     "name": "stdout",
     "output_type": "stream",
     "text": [
      "Loading sigma8 emulator...\n",
      "Sigma8 emulator loaded in memory.\n",
      "Loading linear emulator...\n"
     ]
    },
    {
     "name": "stderr",
     "output_type": "stream",
     "text": [
      "2024-06-25 15:59:44,011 - INFO - Fingerprint not found. Saved model loading will continue.\n",
      "2024-06-25 15:59:44,013 - INFO - path_and_singleprint metric could not be logged. Saved model loading will continue.\n",
      "/dipc/dlopez/.conda/envs/VE_torch/lib/python3.9/site-packages/sklearn/base.py:348: InconsistentVersionWarning: Trying to unpickle estimator PCA from version 1.0 when using version 1.3.2. This might lead to breaking code or invalid results. Use at your own risk. For more info please refer to:\n",
      "https://scikit-learn.org/stable/model_persistence.html#security-maintainability-limitations\n",
      "  warnings.warn(\n",
      "/dipc/dlopez/.conda/envs/VE_torch/lib/python3.9/site-packages/sklearn/base.py:348: InconsistentVersionWarning: Trying to unpickle estimator StandardScaler from version 1.0 when using version 1.3.2. This might lead to breaking code or invalid results. Use at your own risk. For more info please refer to:\n",
      "https://scikit-learn.org/stable/model_persistence.html#security-maintainability-limitations\n",
      "  warnings.warn(\n",
      "2024-06-25 15:59:44,189 - INFO - Fingerprint not found. Saved model loading will continue.\n",
      "2024-06-25 15:59:44,190 - INFO - path_and_singleprint metric could not be logged. Saved model loading will continue.\n",
      "/dipc/dlopez/.conda/envs/VE_torch/lib/python3.9/site-packages/sklearn/base.py:348: InconsistentVersionWarning: Trying to unpickle estimator PCA from version 1.0 when using version 1.3.2. This might lead to breaking code or invalid results. Use at your own risk. For more info please refer to:\n",
      "https://scikit-learn.org/stable/model_persistence.html#security-maintainability-limitations\n",
      "  warnings.warn(\n",
      "/dipc/dlopez/.conda/envs/VE_torch/lib/python3.9/site-packages/sklearn/base.py:348: InconsistentVersionWarning: Trying to unpickle estimator StandardScaler from version 1.0 when using version 1.3.2. This might lead to breaking code or invalid results. Use at your own risk. For more info please refer to:\n",
      "https://scikit-learn.org/stable/model_persistence.html#security-maintainability-limitations\n",
      "  warnings.warn(\n",
      "2024-06-25 15:59:44,373 - INFO - Fingerprint not found. Saved model loading will continue.\n",
      "2024-06-25 15:59:44,374 - INFO - path_and_singleprint metric could not be logged. Saved model loading will continue.\n",
      "/dipc/dlopez/.conda/envs/VE_torch/lib/python3.9/site-packages/sklearn/base.py:348: InconsistentVersionWarning: Trying to unpickle estimator StandardScaler from version 1.0.2 when using version 1.3.2. This might lead to breaking code or invalid results. Use at your own risk. For more info please refer to:\n",
      "https://scikit-learn.org/stable/model_persistence.html#security-maintainability-limitations\n",
      "  warnings.warn(\n"
     ]
    },
    {
     "name": "stdout",
     "output_type": "stream",
     "text": [
      "Linear emulator loaded in memory.\n",
      "Loading no-wiggles emulator...\n",
      "No-wiggles emulator loaded in memory.\n",
      "Loading non-linear emulator...\n"
     ]
    },
    {
     "name": "stderr",
     "output_type": "stream",
     "text": [
      "2024-06-25 15:59:44,545 - INFO - Fingerprint not found. Saved model loading will continue.\n",
      "2024-06-25 15:59:44,547 - INFO - path_and_singleprint metric could not be logged. Saved model loading will continue.\n",
      "/dipc/dlopez/.conda/envs/VE_torch/lib/python3.9/site-packages/sklearn/base.py:348: InconsistentVersionWarning: Trying to unpickle estimator StandardScaler from version 0.22.1 when using version 1.3.2. This might lead to breaking code or invalid results. Use at your own risk. For more info please refer to:\n",
      "https://scikit-learn.org/stable/model_persistence.html#security-maintainability-limitations\n",
      "  warnings.warn(\n",
      "/dipc/dlopez/.conda/envs/VE_torch/lib/python3.9/site-packages/sklearn/base.py:348: InconsistentVersionWarning: Trying to unpickle estimator PCA from version 0.22.1 when using version 1.3.2. This might lead to breaking code or invalid results. Use at your own risk. For more info please refer to:\n",
      "https://scikit-learn.org/stable/model_persistence.html#security-maintainability-limitations\n",
      "  warnings.warn(\n",
      "2024-06-25 15:59:44,723 - INFO - Fingerprint not found. Saved model loading will continue.\n",
      "2024-06-25 15:59:44,724 - INFO - path_and_singleprint metric could not be logged. Saved model loading will continue.\n",
      "/dipc/dlopez/.conda/envs/VE_torch/lib/python3.9/site-packages/sklearn/base.py:348: InconsistentVersionWarning: Trying to unpickle estimator StandardScaler from version 0.23.2 when using version 1.3.2. This might lead to breaking code or invalid results. Use at your own risk. For more info please refer to:\n",
      "https://scikit-learn.org/stable/model_persistence.html#security-maintainability-limitations\n",
      "  warnings.warn(\n",
      "/dipc/dlopez/.conda/envs/VE_torch/lib/python3.9/site-packages/sklearn/base.py:348: InconsistentVersionWarning: Trying to unpickle estimator PCA from version 0.23.2 when using version 1.3.2. This might lead to breaking code or invalid results. Use at your own risk. For more info please refer to:\n",
      "https://scikit-learn.org/stable/model_persistence.html#security-maintainability-limitations\n",
      "  warnings.warn(\n"
     ]
    },
    {
     "name": "stdout",
     "output_type": "stream",
     "text": [
      "Nonlinear emulator loaded in memory.\n",
      "Loading Baryonic Emulator...\n",
      "Baryonic Emulator loaded in memory.\n"
     ]
    },
    {
     "name": "stderr",
     "output_type": "stream",
     "text": [
      "2024-06-25 15:59:46,043 - INFO - Generating baccoemu dataset...\n",
      "2024-06-25 15:59:46,045 - INFO - Generating Latin Hypercube samples...\n",
      "2024-06-25 15:59:46,048 - INFO - Generating power spectrum using baccoemu emulator...\n",
      "2024-06-25 15:59:46,217 - INFO - Fingerprint not found. Saved model loading will continue.\n",
      "2024-06-25 15:59:46,218 - INFO - path_and_singleprint metric could not be logged. Saved model loading will continue.\n"
     ]
    },
    {
     "name": "stdout",
     "output_type": "stream",
     "text": [
      "Loading sigma8 emulator...\n",
      "Sigma8 emulator loaded in memory.\n",
      "Loading linear emulator...\n"
     ]
    },
    {
     "name": "stderr",
     "output_type": "stream",
     "text": [
      "2024-06-25 15:59:47,103 - INFO - Fingerprint not found. Saved model loading will continue.\n",
      "2024-06-25 15:59:47,104 - INFO - path_and_singleprint metric could not be logged. Saved model loading will continue.\n",
      "/dipc/dlopez/.conda/envs/VE_torch/lib/python3.9/site-packages/sklearn/base.py:348: InconsistentVersionWarning: Trying to unpickle estimator PCA from version 1.0 when using version 1.3.2. This might lead to breaking code or invalid results. Use at your own risk. For more info please refer to:\n",
      "https://scikit-learn.org/stable/model_persistence.html#security-maintainability-limitations\n",
      "  warnings.warn(\n",
      "/dipc/dlopez/.conda/envs/VE_torch/lib/python3.9/site-packages/sklearn/base.py:348: InconsistentVersionWarning: Trying to unpickle estimator StandardScaler from version 1.0 when using version 1.3.2. This might lead to breaking code or invalid results. Use at your own risk. For more info please refer to:\n",
      "https://scikit-learn.org/stable/model_persistence.html#security-maintainability-limitations\n",
      "  warnings.warn(\n",
      "2024-06-25 15:59:47,279 - INFO - Fingerprint not found. Saved model loading will continue.\n",
      "2024-06-25 15:59:47,281 - INFO - path_and_singleprint metric could not be logged. Saved model loading will continue.\n",
      "/dipc/dlopez/.conda/envs/VE_torch/lib/python3.9/site-packages/sklearn/base.py:348: InconsistentVersionWarning: Trying to unpickle estimator PCA from version 1.0 when using version 1.3.2. This might lead to breaking code or invalid results. Use at your own risk. For more info please refer to:\n",
      "https://scikit-learn.org/stable/model_persistence.html#security-maintainability-limitations\n",
      "  warnings.warn(\n",
      "/dipc/dlopez/.conda/envs/VE_torch/lib/python3.9/site-packages/sklearn/base.py:348: InconsistentVersionWarning: Trying to unpickle estimator StandardScaler from version 1.0 when using version 1.3.2. This might lead to breaking code or invalid results. Use at your own risk. For more info please refer to:\n",
      "https://scikit-learn.org/stable/model_persistence.html#security-maintainability-limitations\n",
      "  warnings.warn(\n",
      "2024-06-25 15:59:47,484 - INFO - Fingerprint not found. Saved model loading will continue.\n",
      "2024-06-25 15:59:47,486 - INFO - path_and_singleprint metric could not be logged. Saved model loading will continue.\n",
      "/dipc/dlopez/.conda/envs/VE_torch/lib/python3.9/site-packages/sklearn/base.py:348: InconsistentVersionWarning: Trying to unpickle estimator StandardScaler from version 1.0.2 when using version 1.3.2. This might lead to breaking code or invalid results. Use at your own risk. For more info please refer to:\n",
      "https://scikit-learn.org/stable/model_persistence.html#security-maintainability-limitations\n",
      "  warnings.warn(\n"
     ]
    },
    {
     "name": "stdout",
     "output_type": "stream",
     "text": [
      "Linear emulator loaded in memory.\n",
      "Loading no-wiggles emulator...\n",
      "No-wiggles emulator loaded in memory.\n",
      "Loading non-linear emulator...\n"
     ]
    },
    {
     "name": "stderr",
     "output_type": "stream",
     "text": [
      "2024-06-25 15:59:47,666 - INFO - Fingerprint not found. Saved model loading will continue.\n",
      "2024-06-25 15:59:47,667 - INFO - path_and_singleprint metric could not be logged. Saved model loading will continue.\n",
      "/dipc/dlopez/.conda/envs/VE_torch/lib/python3.9/site-packages/sklearn/base.py:348: InconsistentVersionWarning: Trying to unpickle estimator StandardScaler from version 0.22.1 when using version 1.3.2. This might lead to breaking code or invalid results. Use at your own risk. For more info please refer to:\n",
      "https://scikit-learn.org/stable/model_persistence.html#security-maintainability-limitations\n",
      "  warnings.warn(\n",
      "/dipc/dlopez/.conda/envs/VE_torch/lib/python3.9/site-packages/sklearn/base.py:348: InconsistentVersionWarning: Trying to unpickle estimator PCA from version 0.22.1 when using version 1.3.2. This might lead to breaking code or invalid results. Use at your own risk. For more info please refer to:\n",
      "https://scikit-learn.org/stable/model_persistence.html#security-maintainability-limitations\n",
      "  warnings.warn(\n",
      "2024-06-25 15:59:47,842 - INFO - Fingerprint not found. Saved model loading will continue.\n",
      "2024-06-25 15:59:47,843 - INFO - path_and_singleprint metric could not be logged. Saved model loading will continue.\n",
      "/dipc/dlopez/.conda/envs/VE_torch/lib/python3.9/site-packages/sklearn/base.py:348: InconsistentVersionWarning: Trying to unpickle estimator StandardScaler from version 0.23.2 when using version 1.3.2. This might lead to breaking code or invalid results. Use at your own risk. For more info please refer to:\n",
      "https://scikit-learn.org/stable/model_persistence.html#security-maintainability-limitations\n",
      "  warnings.warn(\n",
      "/dipc/dlopez/.conda/envs/VE_torch/lib/python3.9/site-packages/sklearn/base.py:348: InconsistentVersionWarning: Trying to unpickle estimator PCA from version 0.23.2 when using version 1.3.2. This might lead to breaking code or invalid results. Use at your own risk. For more info please refer to:\n",
      "https://scikit-learn.org/stable/model_persistence.html#security-maintainability-limitations\n",
      "  warnings.warn(\n"
     ]
    },
    {
     "name": "stdout",
     "output_type": "stream",
     "text": [
      "Nonlinear emulator loaded in memory.\n",
      "Loading Baryonic Emulator...\n",
      "Baryonic Emulator loaded in memory.\n"
     ]
    }
   ],
   "source": [
    "for ii in range(sample_fixed_baryon_models.shape[0]):\n",
    "    model_name = \"Model_fixed_\" + str(ii)\n",
    "    NN_samples_augs = 1\n",
    "    dict_bounds_augs_fixed = dict(\n",
    "        M_c       = sample_fixed_baryon_models[ii,0],\n",
    "        eta       = sample_fixed_baryon_models[ii,1],\n",
    "        beta      = sample_fixed_baryon_models[ii,2],\n",
    "        M1_z0_cen = sample_fixed_baryon_models[ii,3],\n",
    "        theta_out = sample_fixed_baryon_models[ii,4],\n",
    "        theta_inn = sample_fixed_baryon_models[ii,5],\n",
    "        M_inn     = sample_fixed_baryon_models[ii,6],\n",
    "    )\n",
    "    COSMOS[ds_mode][model_name], XX[ds_mode][model_name], AUG_PARAMS[ds_mode][model_name], EXTENDED_AUG_PARAMS[ds_mode][model_name] = cl_inference.preprocessing_tools.generate_baccoemu_dataset(\n",
    "        NN_samples_cosmo  = NN_samples_cosmo_train,\n",
    "        NN_samples_augs   = NN_samples_augs,\n",
    "        dict_bounds_cosmo = dict_bounds_cosmo_train,\n",
    "        dict_bounds_augs  = dict_bounds_augs_fixed,\n",
    "        seed              = seed_train,\n",
    "        path_save         = path_save,\n",
    "        model_name        = model_name,\n",
    "        kmax              = kmax, box=box, factor_kmin_cut=factor_kmin_cut\n",
    "    )"
   ]
  },
  {
   "cell_type": "markdown",
   "id": "df8ab5aa",
   "metadata": {},
   "source": [
    "# Generate validation set"
   ]
  },
  {
   "cell_type": "code",
   "execution_count": 25,
   "id": "1846ad7a",
   "metadata": {
    "scrolled": true
   },
   "outputs": [],
   "source": [
    "ds_mode = 'VAL'\n",
    "COSMOS[ds_mode] = {}\n",
    "XX[ds_mode] = {}\n",
    "AUG_PARAMS[ds_mode] = {}\n",
    "EXTENDED_AUG_PARAMS[ds_mode] = {}\n",
    "\n",
    "path_save = os.path.join(path_save_root, ds_mode)"
   ]
  },
  {
   "cell_type": "code",
   "execution_count": 26,
   "id": "50dbc263",
   "metadata": {},
   "outputs": [
    {
     "name": "stderr",
     "output_type": "stream",
     "text": [
      "2024-06-25 15:59:49,160 - INFO - Generating baccoemu dataset...\n",
      "2024-06-25 15:59:49,161 - INFO - Generating Latin Hypercube samples...\n",
      "2024-06-25 15:59:49,163 - INFO - Generating Latin Hypercube samples...\n",
      "2024-06-25 15:59:49,168 - INFO - Generating power spectrum using baccoemu emulator...\n",
      "2024-06-25 15:59:49,342 - INFO - Fingerprint not found. Saved model loading will continue.\n",
      "2024-06-25 15:59:49,343 - INFO - path_and_singleprint metric could not be logged. Saved model loading will continue.\n"
     ]
    },
    {
     "name": "stdout",
     "output_type": "stream",
     "text": [
      "Loading sigma8 emulator...\n",
      "Sigma8 emulator loaded in memory.\n",
      "Loading linear emulator...\n"
     ]
    },
    {
     "name": "stderr",
     "output_type": "stream",
     "text": [
      "2024-06-25 15:59:49,543 - INFO - Fingerprint not found. Saved model loading will continue.\n",
      "2024-06-25 15:59:49,545 - INFO - path_and_singleprint metric could not be logged. Saved model loading will continue.\n",
      "/dipc/dlopez/.conda/envs/VE_torch/lib/python3.9/site-packages/sklearn/base.py:348: InconsistentVersionWarning: Trying to unpickle estimator PCA from version 1.0 when using version 1.3.2. This might lead to breaking code or invalid results. Use at your own risk. For more info please refer to:\n",
      "https://scikit-learn.org/stable/model_persistence.html#security-maintainability-limitations\n",
      "  warnings.warn(\n",
      "/dipc/dlopez/.conda/envs/VE_torch/lib/python3.9/site-packages/sklearn/base.py:348: InconsistentVersionWarning: Trying to unpickle estimator StandardScaler from version 1.0 when using version 1.3.2. This might lead to breaking code or invalid results. Use at your own risk. For more info please refer to:\n",
      "https://scikit-learn.org/stable/model_persistence.html#security-maintainability-limitations\n",
      "  warnings.warn(\n",
      "2024-06-25 15:59:49,698 - INFO - Fingerprint not found. Saved model loading will continue.\n",
      "2024-06-25 15:59:49,700 - INFO - path_and_singleprint metric could not be logged. Saved model loading will continue.\n",
      "/dipc/dlopez/.conda/envs/VE_torch/lib/python3.9/site-packages/sklearn/base.py:348: InconsistentVersionWarning: Trying to unpickle estimator PCA from version 1.0 when using version 1.3.2. This might lead to breaking code or invalid results. Use at your own risk. For more info please refer to:\n",
      "https://scikit-learn.org/stable/model_persistence.html#security-maintainability-limitations\n",
      "  warnings.warn(\n",
      "/dipc/dlopez/.conda/envs/VE_torch/lib/python3.9/site-packages/sklearn/base.py:348: InconsistentVersionWarning: Trying to unpickle estimator StandardScaler from version 1.0 when using version 1.3.2. This might lead to breaking code or invalid results. Use at your own risk. For more info please refer to:\n",
      "https://scikit-learn.org/stable/model_persistence.html#security-maintainability-limitations\n",
      "  warnings.warn(\n",
      "2024-06-25 15:59:49,878 - INFO - Fingerprint not found. Saved model loading will continue.\n",
      "2024-06-25 15:59:49,880 - INFO - path_and_singleprint metric could not be logged. Saved model loading will continue.\n",
      "/dipc/dlopez/.conda/envs/VE_torch/lib/python3.9/site-packages/sklearn/base.py:348: InconsistentVersionWarning: Trying to unpickle estimator StandardScaler from version 1.0.2 when using version 1.3.2. This might lead to breaking code or invalid results. Use at your own risk. For more info please refer to:\n",
      "https://scikit-learn.org/stable/model_persistence.html#security-maintainability-limitations\n",
      "  warnings.warn(\n"
     ]
    },
    {
     "name": "stdout",
     "output_type": "stream",
     "text": [
      "Linear emulator loaded in memory.\n",
      "Loading no-wiggles emulator...\n",
      "No-wiggles emulator loaded in memory.\n",
      "Loading non-linear emulator...\n"
     ]
    },
    {
     "name": "stderr",
     "output_type": "stream",
     "text": [
      "2024-06-25 15:59:50,048 - INFO - Fingerprint not found. Saved model loading will continue.\n",
      "2024-06-25 15:59:50,050 - INFO - path_and_singleprint metric could not be logged. Saved model loading will continue.\n",
      "/dipc/dlopez/.conda/envs/VE_torch/lib/python3.9/site-packages/sklearn/base.py:348: InconsistentVersionWarning: Trying to unpickle estimator StandardScaler from version 0.22.1 when using version 1.3.2. This might lead to breaking code or invalid results. Use at your own risk. For more info please refer to:\n",
      "https://scikit-learn.org/stable/model_persistence.html#security-maintainability-limitations\n",
      "  warnings.warn(\n",
      "/dipc/dlopez/.conda/envs/VE_torch/lib/python3.9/site-packages/sklearn/base.py:348: InconsistentVersionWarning: Trying to unpickle estimator PCA from version 0.22.1 when using version 1.3.2. This might lead to breaking code or invalid results. Use at your own risk. For more info please refer to:\n",
      "https://scikit-learn.org/stable/model_persistence.html#security-maintainability-limitations\n",
      "  warnings.warn(\n",
      "2024-06-25 15:59:50,229 - INFO - Fingerprint not found. Saved model loading will continue.\n",
      "2024-06-25 15:59:50,231 - INFO - path_and_singleprint metric could not be logged. Saved model loading will continue.\n",
      "/dipc/dlopez/.conda/envs/VE_torch/lib/python3.9/site-packages/sklearn/base.py:348: InconsistentVersionWarning: Trying to unpickle estimator StandardScaler from version 0.23.2 when using version 1.3.2. This might lead to breaking code or invalid results. Use at your own risk. For more info please refer to:\n",
      "https://scikit-learn.org/stable/model_persistence.html#security-maintainability-limitations\n",
      "  warnings.warn(\n",
      "/dipc/dlopez/.conda/envs/VE_torch/lib/python3.9/site-packages/sklearn/base.py:348: InconsistentVersionWarning: Trying to unpickle estimator PCA from version 0.23.2 when using version 1.3.2. This might lead to breaking code or invalid results. Use at your own risk. For more info please refer to:\n",
      "https://scikit-learn.org/stable/model_persistence.html#security-maintainability-limitations\n",
      "  warnings.warn(\n"
     ]
    },
    {
     "name": "stdout",
     "output_type": "stream",
     "text": [
      "Nonlinear emulator loaded in memory.\n",
      "Loading Baryonic Emulator...\n",
      "Baryonic Emulator loaded in memory.\n"
     ]
    }
   ],
   "source": [
    "model_name = \"Model_fixed_nl\"\n",
    "mode_baccoemu = \"nonlinear\"\n",
    "NN_samples_augs = 1\n",
    "COSMOS[ds_mode][model_name], XX[ds_mode][model_name], AUG_PARAMS[ds_mode][model_name], EXTENDED_AUG_PARAMS[ds_mode][model_name] = cl_inference.preprocessing_tools.generate_baccoemu_dataset(\n",
    "    NN_samples_cosmo  = NN_samples_cosmo_val,\n",
    "    NN_samples_augs   = NN_samples_augs,\n",
    "    dict_bounds_cosmo = dict_bounds_cosmo_val,\n",
    "    seed              = seed_val,\n",
    "    path_save         = path_save,\n",
    "    model_name        = model_name,\n",
    "    mode_baccoemu     = mode_baccoemu,\n",
    "    kmax              = kmax, box=box, factor_kmin_cut=factor_kmin_cut\n",
    ")"
   ]
  },
  {
   "cell_type": "code",
   "execution_count": 27,
   "id": "7767620c",
   "metadata": {},
   "outputs": [
    {
     "name": "stderr",
     "output_type": "stream",
     "text": [
      "2024-06-25 15:59:50,544 - INFO - Generating baccoemu dataset...\n",
      "2024-06-25 15:59:50,547 - INFO - Generating Latin Hypercube samples...\n",
      "2024-06-25 15:59:50,551 - INFO - Generating Latin Hypercube samples...\n",
      "2024-06-25 15:59:50,617 - INFO - Generating power spectrum using baccoemu emulator...\n",
      "2024-06-25 15:59:50,791 - INFO - Fingerprint not found. Saved model loading will continue.\n",
      "2024-06-25 15:59:50,792 - INFO - path_and_singleprint metric could not be logged. Saved model loading will continue.\n"
     ]
    },
    {
     "name": "stdout",
     "output_type": "stream",
     "text": [
      "Loading sigma8 emulator...\n",
      "Sigma8 emulator loaded in memory.\n",
      "Loading linear emulator...\n"
     ]
    },
    {
     "name": "stderr",
     "output_type": "stream",
     "text": [
      "2024-06-25 15:59:50,944 - INFO - Fingerprint not found. Saved model loading will continue.\n",
      "2024-06-25 15:59:50,945 - INFO - path_and_singleprint metric could not be logged. Saved model loading will continue.\n",
      "/dipc/dlopez/.conda/envs/VE_torch/lib/python3.9/site-packages/sklearn/base.py:348: InconsistentVersionWarning: Trying to unpickle estimator PCA from version 1.0 when using version 1.3.2. This might lead to breaking code or invalid results. Use at your own risk. For more info please refer to:\n",
      "https://scikit-learn.org/stable/model_persistence.html#security-maintainability-limitations\n",
      "  warnings.warn(\n",
      "/dipc/dlopez/.conda/envs/VE_torch/lib/python3.9/site-packages/sklearn/base.py:348: InconsistentVersionWarning: Trying to unpickle estimator StandardScaler from version 1.0 when using version 1.3.2. This might lead to breaking code or invalid results. Use at your own risk. For more info please refer to:\n",
      "https://scikit-learn.org/stable/model_persistence.html#security-maintainability-limitations\n",
      "  warnings.warn(\n",
      "2024-06-25 15:59:51,094 - INFO - Fingerprint not found. Saved model loading will continue.\n",
      "2024-06-25 15:59:51,095 - INFO - path_and_singleprint metric could not be logged. Saved model loading will continue.\n",
      "/dipc/dlopez/.conda/envs/VE_torch/lib/python3.9/site-packages/sklearn/base.py:348: InconsistentVersionWarning: Trying to unpickle estimator PCA from version 1.0 when using version 1.3.2. This might lead to breaking code or invalid results. Use at your own risk. For more info please refer to:\n",
      "https://scikit-learn.org/stable/model_persistence.html#security-maintainability-limitations\n",
      "  warnings.warn(\n",
      "/dipc/dlopez/.conda/envs/VE_torch/lib/python3.9/site-packages/sklearn/base.py:348: InconsistentVersionWarning: Trying to unpickle estimator StandardScaler from version 1.0 when using version 1.3.2. This might lead to breaking code or invalid results. Use at your own risk. For more info please refer to:\n",
      "https://scikit-learn.org/stable/model_persistence.html#security-maintainability-limitations\n",
      "  warnings.warn(\n",
      "2024-06-25 15:59:51,287 - INFO - Fingerprint not found. Saved model loading will continue.\n",
      "2024-06-25 15:59:51,288 - INFO - path_and_singleprint metric could not be logged. Saved model loading will continue.\n"
     ]
    },
    {
     "name": "stdout",
     "output_type": "stream",
     "text": [
      "Linear emulator loaded in memory.\n",
      "Loading no-wiggles emulator...\n"
     ]
    },
    {
     "name": "stderr",
     "output_type": "stream",
     "text": [
      "/dipc/dlopez/.conda/envs/VE_torch/lib/python3.9/site-packages/sklearn/base.py:348: InconsistentVersionWarning: Trying to unpickle estimator StandardScaler from version 1.0.2 when using version 1.3.2. This might lead to breaking code or invalid results. Use at your own risk. For more info please refer to:\n",
      "https://scikit-learn.org/stable/model_persistence.html#security-maintainability-limitations\n",
      "  warnings.warn(\n"
     ]
    },
    {
     "name": "stdout",
     "output_type": "stream",
     "text": [
      "No-wiggles emulator loaded in memory.\n",
      "Loading non-linear emulator...\n"
     ]
    },
    {
     "name": "stderr",
     "output_type": "stream",
     "text": [
      "2024-06-25 15:59:52,124 - INFO - Fingerprint not found. Saved model loading will continue.\n",
      "2024-06-25 15:59:52,125 - INFO - path_and_singleprint metric could not be logged. Saved model loading will continue.\n",
      "/dipc/dlopez/.conda/envs/VE_torch/lib/python3.9/site-packages/sklearn/base.py:348: InconsistentVersionWarning: Trying to unpickle estimator StandardScaler from version 0.22.1 when using version 1.3.2. This might lead to breaking code or invalid results. Use at your own risk. For more info please refer to:\n",
      "https://scikit-learn.org/stable/model_persistence.html#security-maintainability-limitations\n",
      "  warnings.warn(\n",
      "/dipc/dlopez/.conda/envs/VE_torch/lib/python3.9/site-packages/sklearn/base.py:348: InconsistentVersionWarning: Trying to unpickle estimator PCA from version 0.22.1 when using version 1.3.2. This might lead to breaking code or invalid results. Use at your own risk. For more info please refer to:\n",
      "https://scikit-learn.org/stable/model_persistence.html#security-maintainability-limitations\n",
      "  warnings.warn(\n",
      "2024-06-25 15:59:52,311 - INFO - Fingerprint not found. Saved model loading will continue.\n",
      "2024-06-25 15:59:52,312 - INFO - path_and_singleprint metric could not be logged. Saved model loading will continue.\n",
      "/dipc/dlopez/.conda/envs/VE_torch/lib/python3.9/site-packages/sklearn/base.py:348: InconsistentVersionWarning: Trying to unpickle estimator StandardScaler from version 0.23.2 when using version 1.3.2. This might lead to breaking code or invalid results. Use at your own risk. For more info please refer to:\n",
      "https://scikit-learn.org/stable/model_persistence.html#security-maintainability-limitations\n",
      "  warnings.warn(\n",
      "/dipc/dlopez/.conda/envs/VE_torch/lib/python3.9/site-packages/sklearn/base.py:348: InconsistentVersionWarning: Trying to unpickle estimator PCA from version 0.23.2 when using version 1.3.2. This might lead to breaking code or invalid results. Use at your own risk. For more info please refer to:\n",
      "https://scikit-learn.org/stable/model_persistence.html#security-maintainability-limitations\n",
      "  warnings.warn(\n"
     ]
    },
    {
     "name": "stdout",
     "output_type": "stream",
     "text": [
      "Nonlinear emulator loaded in memory.\n",
      "Loading Baryonic Emulator...\n",
      "Baryonic Emulator loaded in memory.\n"
     ]
    }
   ],
   "source": [
    "model_name = \"Model_vary_all\"\n",
    "NN_samples_augs = 20\n",
    "COSMOS[ds_mode][model_name], XX[ds_mode][model_name], AUG_PARAMS[ds_mode][model_name], EXTENDED_AUG_PARAMS[ds_mode][model_name] = cl_inference.preprocessing_tools.generate_baccoemu_dataset(\n",
    "    NN_samples_cosmo  = NN_samples_cosmo_val,\n",
    "    NN_samples_augs   = NN_samples_augs,\n",
    "    dict_bounds_cosmo = dict_bounds_cosmo_val,\n",
    "    seed              = seed_val,\n",
    "    path_save         = path_save,\n",
    "    model_name        = model_name,\n",
    "    kmax              = kmax, box=box, factor_kmin_cut=factor_kmin_cut\n",
    ")"
   ]
  },
  {
   "cell_type": "code",
   "execution_count": 28,
   "id": "bfeca45f",
   "metadata": {},
   "outputs": [
    {
     "name": "stderr",
     "output_type": "stream",
     "text": [
      "2024-06-25 16:00:02,257 - INFO - Generating baccoemu dataset...\n",
      "2024-06-25 16:00:02,259 - INFO - Generating Latin Hypercube samples...\n",
      "2024-06-25 16:00:02,262 - INFO - Generating power spectrum using baccoemu emulator...\n",
      "2024-06-25 16:00:02,431 - INFO - Fingerprint not found. Saved model loading will continue.\n",
      "2024-06-25 16:00:02,432 - INFO - path_and_singleprint metric could not be logged. Saved model loading will continue.\n"
     ]
    },
    {
     "name": "stdout",
     "output_type": "stream",
     "text": [
      "Loading sigma8 emulator...\n",
      "Sigma8 emulator loaded in memory.\n",
      "Loading linear emulator...\n"
     ]
    },
    {
     "name": "stderr",
     "output_type": "stream",
     "text": [
      "2024-06-25 16:00:02,587 - INFO - Fingerprint not found. Saved model loading will continue.\n",
      "2024-06-25 16:00:02,588 - INFO - path_and_singleprint metric could not be logged. Saved model loading will continue.\n",
      "/dipc/dlopez/.conda/envs/VE_torch/lib/python3.9/site-packages/sklearn/base.py:348: InconsistentVersionWarning: Trying to unpickle estimator PCA from version 1.0 when using version 1.3.2. This might lead to breaking code or invalid results. Use at your own risk. For more info please refer to:\n",
      "https://scikit-learn.org/stable/model_persistence.html#security-maintainability-limitations\n",
      "  warnings.warn(\n",
      "/dipc/dlopez/.conda/envs/VE_torch/lib/python3.9/site-packages/sklearn/base.py:348: InconsistentVersionWarning: Trying to unpickle estimator StandardScaler from version 1.0 when using version 1.3.2. This might lead to breaking code or invalid results. Use at your own risk. For more info please refer to:\n",
      "https://scikit-learn.org/stable/model_persistence.html#security-maintainability-limitations\n",
      "  warnings.warn(\n",
      "2024-06-25 16:00:02,759 - INFO - Fingerprint not found. Saved model loading will continue.\n",
      "2024-06-25 16:00:02,760 - INFO - path_and_singleprint metric could not be logged. Saved model loading will continue.\n",
      "/dipc/dlopez/.conda/envs/VE_torch/lib/python3.9/site-packages/sklearn/base.py:348: InconsistentVersionWarning: Trying to unpickle estimator PCA from version 1.0 when using version 1.3.2. This might lead to breaking code or invalid results. Use at your own risk. For more info please refer to:\n",
      "https://scikit-learn.org/stable/model_persistence.html#security-maintainability-limitations\n",
      "  warnings.warn(\n",
      "/dipc/dlopez/.conda/envs/VE_torch/lib/python3.9/site-packages/sklearn/base.py:348: InconsistentVersionWarning: Trying to unpickle estimator StandardScaler from version 1.0 when using version 1.3.2. This might lead to breaking code or invalid results. Use at your own risk. For more info please refer to:\n",
      "https://scikit-learn.org/stable/model_persistence.html#security-maintainability-limitations\n",
      "  warnings.warn(\n",
      "2024-06-25 16:00:02,942 - INFO - Fingerprint not found. Saved model loading will continue.\n",
      "2024-06-25 16:00:02,943 - INFO - path_and_singleprint metric could not be logged. Saved model loading will continue.\n",
      "/dipc/dlopez/.conda/envs/VE_torch/lib/python3.9/site-packages/sklearn/base.py:348: InconsistentVersionWarning: Trying to unpickle estimator StandardScaler from version 1.0.2 when using version 1.3.2. This might lead to breaking code or invalid results. Use at your own risk. For more info please refer to:\n",
      "https://scikit-learn.org/stable/model_persistence.html#security-maintainability-limitations\n",
      "  warnings.warn(\n"
     ]
    },
    {
     "name": "stdout",
     "output_type": "stream",
     "text": [
      "Linear emulator loaded in memory.\n",
      "Loading no-wiggles emulator...\n",
      "No-wiggles emulator loaded in memory.\n",
      "Loading non-linear emulator...\n"
     ]
    },
    {
     "name": "stderr",
     "output_type": "stream",
     "text": [
      "2024-06-25 16:00:03,123 - INFO - Fingerprint not found. Saved model loading will continue.\n",
      "2024-06-25 16:00:03,125 - INFO - path_and_singleprint metric could not be logged. Saved model loading will continue.\n",
      "/dipc/dlopez/.conda/envs/VE_torch/lib/python3.9/site-packages/sklearn/base.py:348: InconsistentVersionWarning: Trying to unpickle estimator StandardScaler from version 0.22.1 when using version 1.3.2. This might lead to breaking code or invalid results. Use at your own risk. For more info please refer to:\n",
      "https://scikit-learn.org/stable/model_persistence.html#security-maintainability-limitations\n",
      "  warnings.warn(\n",
      "/dipc/dlopez/.conda/envs/VE_torch/lib/python3.9/site-packages/sklearn/base.py:348: InconsistentVersionWarning: Trying to unpickle estimator PCA from version 0.22.1 when using version 1.3.2. This might lead to breaking code or invalid results. Use at your own risk. For more info please refer to:\n",
      "https://scikit-learn.org/stable/model_persistence.html#security-maintainability-limitations\n",
      "  warnings.warn(\n",
      "2024-06-25 16:00:03,290 - INFO - Fingerprint not found. Saved model loading will continue.\n",
      "2024-06-25 16:00:03,291 - INFO - path_and_singleprint metric could not be logged. Saved model loading will continue.\n",
      "/dipc/dlopez/.conda/envs/VE_torch/lib/python3.9/site-packages/sklearn/base.py:348: InconsistentVersionWarning: Trying to unpickle estimator StandardScaler from version 0.23.2 when using version 1.3.2. This might lead to breaking code or invalid results. Use at your own risk. For more info please refer to:\n",
      "https://scikit-learn.org/stable/model_persistence.html#security-maintainability-limitations\n",
      "  warnings.warn(\n",
      "/dipc/dlopez/.conda/envs/VE_torch/lib/python3.9/site-packages/sklearn/base.py:348: InconsistentVersionWarning: Trying to unpickle estimator PCA from version 0.23.2 when using version 1.3.2. This might lead to breaking code or invalid results. Use at your own risk. For more info please refer to:\n",
      "https://scikit-learn.org/stable/model_persistence.html#security-maintainability-limitations\n",
      "  warnings.warn(\n"
     ]
    },
    {
     "name": "stdout",
     "output_type": "stream",
     "text": [
      "Nonlinear emulator loaded in memory.\n",
      "Loading Baryonic Emulator...\n",
      "Baryonic Emulator loaded in memory.\n"
     ]
    }
   ],
   "source": [
    "hydro_key = 'bahamas'\n",
    "model_name = \"Model_fixed_\"+hydro_key\n",
    "NN_samples_augs = 1\n",
    "COSMOS[ds_mode][model_name], XX[ds_mode][model_name], AUG_PARAMS[ds_mode][model_name], EXTENDED_AUG_PARAMS[ds_mode][model_name] = cl_inference.preprocessing_tools.generate_baccoemu_dataset(\n",
    "    NN_samples_cosmo  = NN_samples_cosmo_val,\n",
    "    NN_samples_augs   = NN_samples_augs,\n",
    "    dict_bounds_cosmo = dict_bounds_cosmo_val,\n",
    "    dict_bounds_augs  = dict_bounds_augs_bahamas,\n",
    "    seed              = seed_val,\n",
    "    path_save         = path_save,\n",
    "    model_name        = model_name,\n",
    "    kmax              = kmax, box=box, factor_kmin_cut=factor_kmin_cut\n",
    ")"
   ]
  },
  {
   "cell_type": "code",
   "execution_count": 29,
   "id": "836cd60c",
   "metadata": {},
   "outputs": [
    {
     "name": "stderr",
     "output_type": "stream",
     "text": [
      "2024-06-25 16:00:03,616 - INFO - Generating baccoemu dataset...\n",
      "2024-06-25 16:00:03,618 - INFO - Generating Latin Hypercube samples...\n",
      "2024-06-25 16:00:03,621 - INFO - Generating power spectrum using baccoemu emulator...\n",
      "2024-06-25 16:00:03,796 - INFO - Fingerprint not found. Saved model loading will continue.\n",
      "2024-06-25 16:00:03,797 - INFO - path_and_singleprint metric could not be logged. Saved model loading will continue.\n"
     ]
    },
    {
     "name": "stdout",
     "output_type": "stream",
     "text": [
      "Loading sigma8 emulator...\n"
     ]
    },
    {
     "name": "stderr",
     "output_type": "stream",
     "text": [
      "2024-06-25 16:00:03,970 - INFO - Fingerprint not found. Saved model loading will continue.\n",
      "2024-06-25 16:00:03,971 - INFO - path_and_singleprint metric could not be logged. Saved model loading will continue.\n",
      "/dipc/dlopez/.conda/envs/VE_torch/lib/python3.9/site-packages/sklearn/base.py:348: InconsistentVersionWarning: Trying to unpickle estimator PCA from version 1.0 when using version 1.3.2. This might lead to breaking code or invalid results. Use at your own risk. For more info please refer to:\n",
      "https://scikit-learn.org/stable/model_persistence.html#security-maintainability-limitations\n",
      "  warnings.warn(\n",
      "/dipc/dlopez/.conda/envs/VE_torch/lib/python3.9/site-packages/sklearn/base.py:348: InconsistentVersionWarning: Trying to unpickle estimator StandardScaler from version 1.0 when using version 1.3.2. This might lead to breaking code or invalid results. Use at your own risk. For more info please refer to:\n",
      "https://scikit-learn.org/stable/model_persistence.html#security-maintainability-limitations\n",
      "  warnings.warn(\n"
     ]
    },
    {
     "name": "stdout",
     "output_type": "stream",
     "text": [
      "Sigma8 emulator loaded in memory.\n",
      "Loading linear emulator...\n"
     ]
    },
    {
     "name": "stderr",
     "output_type": "stream",
     "text": [
      "2024-06-25 16:00:04,137 - INFO - Fingerprint not found. Saved model loading will continue.\n",
      "2024-06-25 16:00:04,138 - INFO - path_and_singleprint metric could not be logged. Saved model loading will continue.\n",
      "/dipc/dlopez/.conda/envs/VE_torch/lib/python3.9/site-packages/sklearn/base.py:348: InconsistentVersionWarning: Trying to unpickle estimator PCA from version 1.0 when using version 1.3.2. This might lead to breaking code or invalid results. Use at your own risk. For more info please refer to:\n",
      "https://scikit-learn.org/stable/model_persistence.html#security-maintainability-limitations\n",
      "  warnings.warn(\n",
      "/dipc/dlopez/.conda/envs/VE_torch/lib/python3.9/site-packages/sklearn/base.py:348: InconsistentVersionWarning: Trying to unpickle estimator StandardScaler from version 1.0 when using version 1.3.2. This might lead to breaking code or invalid results. Use at your own risk. For more info please refer to:\n",
      "https://scikit-learn.org/stable/model_persistence.html#security-maintainability-limitations\n",
      "  warnings.warn(\n",
      "2024-06-25 16:00:04,338 - INFO - Fingerprint not found. Saved model loading will continue.\n",
      "2024-06-25 16:00:04,340 - INFO - path_and_singleprint metric could not be logged. Saved model loading will continue.\n",
      "/dipc/dlopez/.conda/envs/VE_torch/lib/python3.9/site-packages/sklearn/base.py:348: InconsistentVersionWarning: Trying to unpickle estimator StandardScaler from version 1.0.2 when using version 1.3.2. This might lead to breaking code or invalid results. Use at your own risk. For more info please refer to:\n",
      "https://scikit-learn.org/stable/model_persistence.html#security-maintainability-limitations\n",
      "  warnings.warn(\n"
     ]
    },
    {
     "name": "stdout",
     "output_type": "stream",
     "text": [
      "Linear emulator loaded in memory.\n",
      "Loading no-wiggles emulator...\n",
      "No-wiggles emulator loaded in memory.\n",
      "Loading non-linear emulator...\n"
     ]
    },
    {
     "name": "stderr",
     "output_type": "stream",
     "text": [
      "2024-06-25 16:00:04,532 - INFO - Fingerprint not found. Saved model loading will continue.\n",
      "2024-06-25 16:00:04,533 - INFO - path_and_singleprint metric could not be logged. Saved model loading will continue.\n",
      "/dipc/dlopez/.conda/envs/VE_torch/lib/python3.9/site-packages/sklearn/base.py:348: InconsistentVersionWarning: Trying to unpickle estimator StandardScaler from version 0.22.1 when using version 1.3.2. This might lead to breaking code or invalid results. Use at your own risk. For more info please refer to:\n",
      "https://scikit-learn.org/stable/model_persistence.html#security-maintainability-limitations\n",
      "  warnings.warn(\n",
      "/dipc/dlopez/.conda/envs/VE_torch/lib/python3.9/site-packages/sklearn/base.py:348: InconsistentVersionWarning: Trying to unpickle estimator PCA from version 0.22.1 when using version 1.3.2. This might lead to breaking code or invalid results. Use at your own risk. For more info please refer to:\n",
      "https://scikit-learn.org/stable/model_persistence.html#security-maintainability-limitations\n",
      "  warnings.warn(\n",
      "2024-06-25 16:00:04,718 - INFO - Fingerprint not found. Saved model loading will continue.\n",
      "2024-06-25 16:00:04,719 - INFO - path_and_singleprint metric could not be logged. Saved model loading will continue.\n",
      "/dipc/dlopez/.conda/envs/VE_torch/lib/python3.9/site-packages/sklearn/base.py:348: InconsistentVersionWarning: Trying to unpickle estimator StandardScaler from version 0.23.2 when using version 1.3.2. This might lead to breaking code or invalid results. Use at your own risk. For more info please refer to:\n",
      "https://scikit-learn.org/stable/model_persistence.html#security-maintainability-limitations\n",
      "  warnings.warn(\n",
      "/dipc/dlopez/.conda/envs/VE_torch/lib/python3.9/site-packages/sklearn/base.py:348: InconsistentVersionWarning: Trying to unpickle estimator PCA from version 0.23.2 when using version 1.3.2. This might lead to breaking code or invalid results. Use at your own risk. For more info please refer to:\n",
      "https://scikit-learn.org/stable/model_persistence.html#security-maintainability-limitations\n",
      "  warnings.warn(\n"
     ]
    },
    {
     "name": "stdout",
     "output_type": "stream",
     "text": [
      "Nonlinear emulator loaded in memory.\n",
      "Loading Baryonic Emulator...\n",
      "Baryonic Emulator loaded in memory.\n"
     ]
    }
   ],
   "source": [
    "hydro_key = 'eagle'\n",
    "model_name = \"Model_fixed_\"+hydro_key\n",
    "NN_samples_augs = 1\n",
    "COSMOS[ds_mode][model_name], XX[ds_mode][model_name], AUG_PARAMS[ds_mode][model_name], EXTENDED_AUG_PARAMS[ds_mode][model_name] = cl_inference.preprocessing_tools.generate_baccoemu_dataset(\n",
    "    NN_samples_cosmo  = NN_samples_cosmo_val,\n",
    "    NN_samples_augs   = NN_samples_augs,\n",
    "    dict_bounds_cosmo = dict_bounds_cosmo_val,\n",
    "    dict_bounds_augs  = dict_bounds_augs_eagle,\n",
    "    seed              = seed_val,\n",
    "    path_save         = path_save,\n",
    "    model_name        = model_name,\n",
    "    kmax              = kmax, box=box, factor_kmin_cut=factor_kmin_cut\n",
    ")"
   ]
  },
  {
   "cell_type": "code",
   "execution_count": 30,
   "id": "86dd96e1",
   "metadata": {},
   "outputs": [
    {
     "name": "stderr",
     "output_type": "stream",
     "text": [
      "2024-06-25 16:00:05,030 - INFO - Generating baccoemu dataset...\n",
      "2024-06-25 16:00:05,031 - INFO - Generating Latin Hypercube samples...\n",
      "2024-06-25 16:00:05,034 - INFO - Generating power spectrum using baccoemu emulator...\n",
      "2024-06-25 16:00:05,214 - INFO - Fingerprint not found. Saved model loading will continue.\n",
      "2024-06-25 16:00:05,215 - INFO - path_and_singleprint metric could not be logged. Saved model loading will continue.\n"
     ]
    },
    {
     "name": "stdout",
     "output_type": "stream",
     "text": [
      "Loading sigma8 emulator...\n",
      "Sigma8 emulator loaded in memory.\n",
      "Loading linear emulator...\n"
     ]
    },
    {
     "name": "stderr",
     "output_type": "stream",
     "text": [
      "2024-06-25 16:00:05,894 - INFO - Fingerprint not found. Saved model loading will continue.\n",
      "2024-06-25 16:00:05,896 - INFO - path_and_singleprint metric could not be logged. Saved model loading will continue.\n",
      "/dipc/dlopez/.conda/envs/VE_torch/lib/python3.9/site-packages/sklearn/base.py:348: InconsistentVersionWarning: Trying to unpickle estimator PCA from version 1.0 when using version 1.3.2. This might lead to breaking code or invalid results. Use at your own risk. For more info please refer to:\n",
      "https://scikit-learn.org/stable/model_persistence.html#security-maintainability-limitations\n",
      "  warnings.warn(\n",
      "/dipc/dlopez/.conda/envs/VE_torch/lib/python3.9/site-packages/sklearn/base.py:348: InconsistentVersionWarning: Trying to unpickle estimator StandardScaler from version 1.0 when using version 1.3.2. This might lead to breaking code or invalid results. Use at your own risk. For more info please refer to:\n",
      "https://scikit-learn.org/stable/model_persistence.html#security-maintainability-limitations\n",
      "  warnings.warn(\n",
      "2024-06-25 16:00:06,048 - INFO - Fingerprint not found. Saved model loading will continue.\n",
      "2024-06-25 16:00:06,049 - INFO - path_and_singleprint metric could not be logged. Saved model loading will continue.\n",
      "/dipc/dlopez/.conda/envs/VE_torch/lib/python3.9/site-packages/sklearn/base.py:348: InconsistentVersionWarning: Trying to unpickle estimator PCA from version 1.0 when using version 1.3.2. This might lead to breaking code or invalid results. Use at your own risk. For more info please refer to:\n",
      "https://scikit-learn.org/stable/model_persistence.html#security-maintainability-limitations\n",
      "  warnings.warn(\n",
      "/dipc/dlopez/.conda/envs/VE_torch/lib/python3.9/site-packages/sklearn/base.py:348: InconsistentVersionWarning: Trying to unpickle estimator StandardScaler from version 1.0 when using version 1.3.2. This might lead to breaking code or invalid results. Use at your own risk. For more info please refer to:\n",
      "https://scikit-learn.org/stable/model_persistence.html#security-maintainability-limitations\n",
      "  warnings.warn(\n",
      "2024-06-25 16:00:06,256 - INFO - Fingerprint not found. Saved model loading will continue.\n",
      "2024-06-25 16:00:06,257 - INFO - path_and_singleprint metric could not be logged. Saved model loading will continue.\n"
     ]
    },
    {
     "name": "stdout",
     "output_type": "stream",
     "text": [
      "Linear emulator loaded in memory.\n",
      "Loading no-wiggles emulator...\n"
     ]
    },
    {
     "name": "stderr",
     "output_type": "stream",
     "text": [
      "/dipc/dlopez/.conda/envs/VE_torch/lib/python3.9/site-packages/sklearn/base.py:348: InconsistentVersionWarning: Trying to unpickle estimator StandardScaler from version 1.0.2 when using version 1.3.2. This might lead to breaking code or invalid results. Use at your own risk. For more info please refer to:\n",
      "https://scikit-learn.org/stable/model_persistence.html#security-maintainability-limitations\n",
      "  warnings.warn(\n",
      "2024-06-25 16:00:06,424 - INFO - Fingerprint not found. Saved model loading will continue.\n",
      "2024-06-25 16:00:06,425 - INFO - path_and_singleprint metric could not be logged. Saved model loading will continue.\n",
      "/dipc/dlopez/.conda/envs/VE_torch/lib/python3.9/site-packages/sklearn/base.py:348: InconsistentVersionWarning: Trying to unpickle estimator StandardScaler from version 0.22.1 when using version 1.3.2. This might lead to breaking code or invalid results. Use at your own risk. For more info please refer to:\n",
      "https://scikit-learn.org/stable/model_persistence.html#security-maintainability-limitations\n",
      "  warnings.warn(\n",
      "/dipc/dlopez/.conda/envs/VE_torch/lib/python3.9/site-packages/sklearn/base.py:348: InconsistentVersionWarning: Trying to unpickle estimator PCA from version 0.22.1 when using version 1.3.2. This might lead to breaking code or invalid results. Use at your own risk. For more info please refer to:\n",
      "https://scikit-learn.org/stable/model_persistence.html#security-maintainability-limitations\n",
      "  warnings.warn(\n"
     ]
    },
    {
     "name": "stdout",
     "output_type": "stream",
     "text": [
      "No-wiggles emulator loaded in memory.\n",
      "Loading non-linear emulator...\n",
      "Nonlinear emulator loaded in memory.\n",
      "Loading Baryonic Emulator...\n"
     ]
    },
    {
     "name": "stderr",
     "output_type": "stream",
     "text": [
      "2024-06-25 16:00:06,587 - INFO - Fingerprint not found. Saved model loading will continue.\n",
      "2024-06-25 16:00:06,588 - INFO - path_and_singleprint metric could not be logged. Saved model loading will continue.\n",
      "/dipc/dlopez/.conda/envs/VE_torch/lib/python3.9/site-packages/sklearn/base.py:348: InconsistentVersionWarning: Trying to unpickle estimator StandardScaler from version 0.23.2 when using version 1.3.2. This might lead to breaking code or invalid results. Use at your own risk. For more info please refer to:\n",
      "https://scikit-learn.org/stable/model_persistence.html#security-maintainability-limitations\n",
      "  warnings.warn(\n",
      "/dipc/dlopez/.conda/envs/VE_torch/lib/python3.9/site-packages/sklearn/base.py:348: InconsistentVersionWarning: Trying to unpickle estimator PCA from version 0.23.2 when using version 1.3.2. This might lead to breaking code or invalid results. Use at your own risk. For more info please refer to:\n",
      "https://scikit-learn.org/stable/model_persistence.html#security-maintainability-limitations\n",
      "  warnings.warn(\n"
     ]
    },
    {
     "name": "stdout",
     "output_type": "stream",
     "text": [
      "Baryonic Emulator loaded in memory.\n"
     ]
    }
   ],
   "source": [
    "hydro_key = 'illustris'\n",
    "model_name = \"Model_fixed_\"+hydro_key\n",
    "NN_samples_augs = 1\n",
    "COSMOS[ds_mode][model_name], XX[ds_mode][model_name], AUG_PARAMS[ds_mode][model_name], EXTENDED_AUG_PARAMS[ds_mode][model_name] = cl_inference.preprocessing_tools.generate_baccoemu_dataset(\n",
    "    NN_samples_cosmo  = NN_samples_cosmo_val,\n",
    "    NN_samples_augs   = NN_samples_augs,\n",
    "    dict_bounds_cosmo = dict_bounds_cosmo_val,\n",
    "    dict_bounds_augs  = dict_bounds_augs_illustris,\n",
    "    seed              = seed_val,\n",
    "    path_save         = path_save,\n",
    "    model_name        = model_name,\n",
    "    kmax              = kmax, box=box, factor_kmin_cut=factor_kmin_cut\n",
    ")"
   ]
  },
  {
   "cell_type": "code",
   "execution_count": 31,
   "id": "df979389",
   "metadata": {
    "scrolled": true
   },
   "outputs": [
    {
     "name": "stderr",
     "output_type": "stream",
     "text": [
      "2024-06-25 16:00:06,924 - INFO - Generating baccoemu dataset...\n",
      "2024-06-25 16:00:06,926 - INFO - Generating Latin Hypercube samples...\n",
      "2024-06-25 16:00:06,929 - INFO - Generating Latin Hypercube samples...\n",
      "2024-06-25 16:00:06,953 - INFO - Generating power spectrum using baccoemu emulator...\n",
      "2024-06-25 16:00:07,123 - INFO - Fingerprint not found. Saved model loading will continue.\n",
      "2024-06-25 16:00:07,124 - INFO - path_and_singleprint metric could not be logged. Saved model loading will continue.\n"
     ]
    },
    {
     "name": "stdout",
     "output_type": "stream",
     "text": [
      "Loading sigma8 emulator...\n",
      "Sigma8 emulator loaded in memory.\n",
      "Loading linear emulator...\n"
     ]
    },
    {
     "name": "stderr",
     "output_type": "stream",
     "text": [
      "2024-06-25 16:00:07,276 - INFO - Fingerprint not found. Saved model loading will continue.\n",
      "2024-06-25 16:00:07,277 - INFO - path_and_singleprint metric could not be logged. Saved model loading will continue.\n",
      "/dipc/dlopez/.conda/envs/VE_torch/lib/python3.9/site-packages/sklearn/base.py:348: InconsistentVersionWarning: Trying to unpickle estimator PCA from version 1.0 when using version 1.3.2. This might lead to breaking code or invalid results. Use at your own risk. For more info please refer to:\n",
      "https://scikit-learn.org/stable/model_persistence.html#security-maintainability-limitations\n",
      "  warnings.warn(\n",
      "/dipc/dlopez/.conda/envs/VE_torch/lib/python3.9/site-packages/sklearn/base.py:348: InconsistentVersionWarning: Trying to unpickle estimator StandardScaler from version 1.0 when using version 1.3.2. This might lead to breaking code or invalid results. Use at your own risk. For more info please refer to:\n",
      "https://scikit-learn.org/stable/model_persistence.html#security-maintainability-limitations\n",
      "  warnings.warn(\n",
      "2024-06-25 16:00:07,424 - INFO - Fingerprint not found. Saved model loading will continue.\n",
      "2024-06-25 16:00:07,425 - INFO - path_and_singleprint metric could not be logged. Saved model loading will continue.\n",
      "/dipc/dlopez/.conda/envs/VE_torch/lib/python3.9/site-packages/sklearn/base.py:348: InconsistentVersionWarning: Trying to unpickle estimator PCA from version 1.0 when using version 1.3.2. This might lead to breaking code or invalid results. Use at your own risk. For more info please refer to:\n",
      "https://scikit-learn.org/stable/model_persistence.html#security-maintainability-limitations\n",
      "  warnings.warn(\n",
      "/dipc/dlopez/.conda/envs/VE_torch/lib/python3.9/site-packages/sklearn/base.py:348: InconsistentVersionWarning: Trying to unpickle estimator StandardScaler from version 1.0 when using version 1.3.2. This might lead to breaking code or invalid results. Use at your own risk. For more info please refer to:\n",
      "https://scikit-learn.org/stable/model_persistence.html#security-maintainability-limitations\n",
      "  warnings.warn(\n",
      "2024-06-25 16:00:07,607 - INFO - Fingerprint not found. Saved model loading will continue.\n",
      "2024-06-25 16:00:07,609 - INFO - path_and_singleprint metric could not be logged. Saved model loading will continue.\n",
      "/dipc/dlopez/.conda/envs/VE_torch/lib/python3.9/site-packages/sklearn/base.py:348: InconsistentVersionWarning: Trying to unpickle estimator StandardScaler from version 1.0.2 when using version 1.3.2. This might lead to breaking code or invalid results. Use at your own risk. For more info please refer to:\n",
      "https://scikit-learn.org/stable/model_persistence.html#security-maintainability-limitations\n",
      "  warnings.warn(\n"
     ]
    },
    {
     "name": "stdout",
     "output_type": "stream",
     "text": [
      "Linear emulator loaded in memory.\n",
      "Loading no-wiggles emulator...\n",
      "No-wiggles emulator loaded in memory.\n",
      "Loading non-linear emulator...\n"
     ]
    },
    {
     "name": "stderr",
     "output_type": "stream",
     "text": [
      "2024-06-25 16:00:07,795 - INFO - Fingerprint not found. Saved model loading will continue.\n",
      "2024-06-25 16:00:07,796 - INFO - path_and_singleprint metric could not be logged. Saved model loading will continue.\n",
      "/dipc/dlopez/.conda/envs/VE_torch/lib/python3.9/site-packages/sklearn/base.py:348: InconsistentVersionWarning: Trying to unpickle estimator StandardScaler from version 0.22.1 when using version 1.3.2. This might lead to breaking code or invalid results. Use at your own risk. For more info please refer to:\n",
      "https://scikit-learn.org/stable/model_persistence.html#security-maintainability-limitations\n",
      "  warnings.warn(\n",
      "/dipc/dlopez/.conda/envs/VE_torch/lib/python3.9/site-packages/sklearn/base.py:348: InconsistentVersionWarning: Trying to unpickle estimator PCA from version 0.22.1 when using version 1.3.2. This might lead to breaking code or invalid results. Use at your own risk. For more info please refer to:\n",
      "https://scikit-learn.org/stable/model_persistence.html#security-maintainability-limitations\n",
      "  warnings.warn(\n",
      "2024-06-25 16:00:07,955 - INFO - Fingerprint not found. Saved model loading will continue.\n",
      "2024-06-25 16:00:07,956 - INFO - path_and_singleprint metric could not be logged. Saved model loading will continue.\n",
      "/dipc/dlopez/.conda/envs/VE_torch/lib/python3.9/site-packages/sklearn/base.py:348: InconsistentVersionWarning: Trying to unpickle estimator StandardScaler from version 0.23.2 when using version 1.3.2. This might lead to breaking code or invalid results. Use at your own risk. For more info please refer to:\n",
      "https://scikit-learn.org/stable/model_persistence.html#security-maintainability-limitations\n",
      "  warnings.warn(\n",
      "/dipc/dlopez/.conda/envs/VE_torch/lib/python3.9/site-packages/sklearn/base.py:348: InconsistentVersionWarning: Trying to unpickle estimator PCA from version 0.23.2 when using version 1.3.2. This might lead to breaking code or invalid results. Use at your own risk. For more info please refer to:\n",
      "https://scikit-learn.org/stable/model_persistence.html#security-maintainability-limitations\n",
      "  warnings.warn(\n"
     ]
    },
    {
     "name": "stdout",
     "output_type": "stream",
     "text": [
      "Nonlinear emulator loaded in memory.\n",
      "Loading Baryonic Emulator...\n",
      "Baryonic Emulator loaded in memory.\n"
     ]
    }
   ],
   "source": [
    "model_name = \"Model_vary_1\"\n",
    "NN_samples_augs = 10\n",
    "COSMOS[ds_mode][model_name], XX[ds_mode][model_name], AUG_PARAMS[ds_mode][model_name], EXTENDED_AUG_PARAMS[ds_mode][model_name] = cl_inference.preprocessing_tools.generate_baccoemu_dataset(\n",
    "    NN_samples_cosmo  = NN_samples_cosmo_val,\n",
    "    NN_samples_augs   = NN_samples_augs,\n",
    "    dict_bounds_cosmo = dict_bounds_cosmo_val,\n",
    "    dict_bounds_augs  = dict_bounds_augs_vary1,\n",
    "    seed              = seed_val,\n",
    "    path_save         = path_save,\n",
    "    model_name        = model_name,\n",
    "    kmax              = kmax, box=box, factor_kmin_cut=factor_kmin_cut\n",
    ")"
   ]
  },
  {
   "cell_type": "code",
   "execution_count": 32,
   "id": "2679156d",
   "metadata": {
    "scrolled": true
   },
   "outputs": [
    {
     "name": "stderr",
     "output_type": "stream",
     "text": [
      "2024-06-25 16:00:12,462 - INFO - Generating baccoemu dataset...\n",
      "2024-06-25 16:00:12,465 - INFO - Generating Latin Hypercube samples...\n",
      "2024-06-25 16:00:12,468 - INFO - Generating Latin Hypercube samples...\n",
      "2024-06-25 16:00:12,493 - INFO - Generating power spectrum using baccoemu emulator...\n",
      "2024-06-25 16:00:12,675 - INFO - Fingerprint not found. Saved model loading will continue.\n",
      "2024-06-25 16:00:12,676 - INFO - path_and_singleprint metric could not be logged. Saved model loading will continue.\n"
     ]
    },
    {
     "name": "stdout",
     "output_type": "stream",
     "text": [
      "Loading sigma8 emulator...\n"
     ]
    },
    {
     "name": "stderr",
     "output_type": "stream",
     "text": [
      "2024-06-25 16:00:12,850 - INFO - Fingerprint not found. Saved model loading will continue.\n",
      "2024-06-25 16:00:12,851 - INFO - path_and_singleprint metric could not be logged. Saved model loading will continue.\n",
      "/dipc/dlopez/.conda/envs/VE_torch/lib/python3.9/site-packages/sklearn/base.py:348: InconsistentVersionWarning: Trying to unpickle estimator PCA from version 1.0 when using version 1.3.2. This might lead to breaking code or invalid results. Use at your own risk. For more info please refer to:\n",
      "https://scikit-learn.org/stable/model_persistence.html#security-maintainability-limitations\n",
      "  warnings.warn(\n",
      "/dipc/dlopez/.conda/envs/VE_torch/lib/python3.9/site-packages/sklearn/base.py:348: InconsistentVersionWarning: Trying to unpickle estimator StandardScaler from version 1.0 when using version 1.3.2. This might lead to breaking code or invalid results. Use at your own risk. For more info please refer to:\n",
      "https://scikit-learn.org/stable/model_persistence.html#security-maintainability-limitations\n",
      "  warnings.warn(\n"
     ]
    },
    {
     "name": "stdout",
     "output_type": "stream",
     "text": [
      "Sigma8 emulator loaded in memory.\n",
      "Loading linear emulator...\n"
     ]
    },
    {
     "name": "stderr",
     "output_type": "stream",
     "text": [
      "2024-06-25 16:00:13,003 - INFO - Fingerprint not found. Saved model loading will continue.\n",
      "2024-06-25 16:00:13,004 - INFO - path_and_singleprint metric could not be logged. Saved model loading will continue.\n",
      "/dipc/dlopez/.conda/envs/VE_torch/lib/python3.9/site-packages/sklearn/base.py:348: InconsistentVersionWarning: Trying to unpickle estimator PCA from version 1.0 when using version 1.3.2. This might lead to breaking code or invalid results. Use at your own risk. For more info please refer to:\n",
      "https://scikit-learn.org/stable/model_persistence.html#security-maintainability-limitations\n",
      "  warnings.warn(\n",
      "/dipc/dlopez/.conda/envs/VE_torch/lib/python3.9/site-packages/sklearn/base.py:348: InconsistentVersionWarning: Trying to unpickle estimator StandardScaler from version 1.0 when using version 1.3.2. This might lead to breaking code or invalid results. Use at your own risk. For more info please refer to:\n",
      "https://scikit-learn.org/stable/model_persistence.html#security-maintainability-limitations\n",
      "  warnings.warn(\n",
      "2024-06-25 16:00:13,187 - INFO - Fingerprint not found. Saved model loading will continue.\n",
      "2024-06-25 16:00:13,188 - INFO - path_and_singleprint metric could not be logged. Saved model loading will continue.\n",
      "/dipc/dlopez/.conda/envs/VE_torch/lib/python3.9/site-packages/sklearn/base.py:348: InconsistentVersionWarning: Trying to unpickle estimator StandardScaler from version 1.0.2 when using version 1.3.2. This might lead to breaking code or invalid results. Use at your own risk. For more info please refer to:\n",
      "https://scikit-learn.org/stable/model_persistence.html#security-maintainability-limitations\n",
      "  warnings.warn(\n"
     ]
    },
    {
     "name": "stdout",
     "output_type": "stream",
     "text": [
      "Linear emulator loaded in memory.\n",
      "Loading no-wiggles emulator...\n",
      "No-wiggles emulator loaded in memory.\n",
      "Loading non-linear emulator...\n"
     ]
    },
    {
     "name": "stderr",
     "output_type": "stream",
     "text": [
      "2024-06-25 16:00:14,010 - INFO - Fingerprint not found. Saved model loading will continue.\n",
      "2024-06-25 16:00:14,011 - INFO - path_and_singleprint metric could not be logged. Saved model loading will continue.\n",
      "/dipc/dlopez/.conda/envs/VE_torch/lib/python3.9/site-packages/sklearn/base.py:348: InconsistentVersionWarning: Trying to unpickle estimator StandardScaler from version 0.22.1 when using version 1.3.2. This might lead to breaking code or invalid results. Use at your own risk. For more info please refer to:\n",
      "https://scikit-learn.org/stable/model_persistence.html#security-maintainability-limitations\n",
      "  warnings.warn(\n",
      "/dipc/dlopez/.conda/envs/VE_torch/lib/python3.9/site-packages/sklearn/base.py:348: InconsistentVersionWarning: Trying to unpickle estimator PCA from version 0.22.1 when using version 1.3.2. This might lead to breaking code or invalid results. Use at your own risk. For more info please refer to:\n",
      "https://scikit-learn.org/stable/model_persistence.html#security-maintainability-limitations\n",
      "  warnings.warn(\n",
      "2024-06-25 16:00:14,173 - INFO - Fingerprint not found. Saved model loading will continue.\n",
      "2024-06-25 16:00:14,174 - INFO - path_and_singleprint metric could not be logged. Saved model loading will continue.\n",
      "/dipc/dlopez/.conda/envs/VE_torch/lib/python3.9/site-packages/sklearn/base.py:348: InconsistentVersionWarning: Trying to unpickle estimator StandardScaler from version 0.23.2 when using version 1.3.2. This might lead to breaking code or invalid results. Use at your own risk. For more info please refer to:\n",
      "https://scikit-learn.org/stable/model_persistence.html#security-maintainability-limitations\n",
      "  warnings.warn(\n",
      "/dipc/dlopez/.conda/envs/VE_torch/lib/python3.9/site-packages/sklearn/base.py:348: InconsistentVersionWarning: Trying to unpickle estimator PCA from version 0.23.2 when using version 1.3.2. This might lead to breaking code or invalid results. Use at your own risk. For more info please refer to:\n",
      "https://scikit-learn.org/stable/model_persistence.html#security-maintainability-limitations\n",
      "  warnings.warn(\n"
     ]
    },
    {
     "name": "stdout",
     "output_type": "stream",
     "text": [
      "Nonlinear emulator loaded in memory.\n",
      "Loading Baryonic Emulator...\n",
      "Baryonic Emulator loaded in memory.\n"
     ]
    }
   ],
   "source": [
    "model_name = \"Model_vary_2\"\n",
    "NN_samples_augs = 10\n",
    "COSMOS[ds_mode][model_name], XX[ds_mode][model_name], AUG_PARAMS[ds_mode][model_name], EXTENDED_AUG_PARAMS[ds_mode][model_name] = cl_inference.preprocessing_tools.generate_baccoemu_dataset(\n",
    "    NN_samples_cosmo  = NN_samples_cosmo_val,\n",
    "    NN_samples_augs   = NN_samples_augs,\n",
    "    dict_bounds_cosmo = dict_bounds_cosmo_val,\n",
    "    dict_bounds_augs  = dict_bounds_augs_vary2,\n",
    "    seed              = seed_val,\n",
    "    path_save         = path_save,\n",
    "    model_name        = model_name,\n",
    "    kmax              = kmax, box=box, factor_kmin_cut=factor_kmin_cut\n",
    ")"
   ]
  },
  {
   "cell_type": "code",
   "execution_count": 33,
   "id": "83e96a49",
   "metadata": {
    "scrolled": true
   },
   "outputs": [
    {
     "name": "stderr",
     "output_type": "stream",
     "text": [
      "2024-06-25 16:00:18,472 - INFO - Generating baccoemu dataset...\n",
      "2024-06-25 16:00:18,474 - INFO - Generating Latin Hypercube samples...\n",
      "2024-06-25 16:00:18,476 - INFO - Generating Latin Hypercube samples...\n",
      "2024-06-25 16:00:18,502 - INFO - Generating power spectrum using baccoemu emulator...\n",
      "2024-06-25 16:00:18,686 - INFO - Fingerprint not found. Saved model loading will continue.\n",
      "2024-06-25 16:00:18,687 - INFO - path_and_singleprint metric could not be logged. Saved model loading will continue.\n"
     ]
    },
    {
     "name": "stdout",
     "output_type": "stream",
     "text": [
      "Loading sigma8 emulator...\n"
     ]
    },
    {
     "name": "stderr",
     "output_type": "stream",
     "text": [
      "2024-06-25 16:00:18,843 - INFO - Fingerprint not found. Saved model loading will continue.\n",
      "2024-06-25 16:00:18,844 - INFO - path_and_singleprint metric could not be logged. Saved model loading will continue.\n",
      "/dipc/dlopez/.conda/envs/VE_torch/lib/python3.9/site-packages/sklearn/base.py:348: InconsistentVersionWarning: Trying to unpickle estimator PCA from version 1.0 when using version 1.3.2. This might lead to breaking code or invalid results. Use at your own risk. For more info please refer to:\n",
      "https://scikit-learn.org/stable/model_persistence.html#security-maintainability-limitations\n",
      "  warnings.warn(\n",
      "/dipc/dlopez/.conda/envs/VE_torch/lib/python3.9/site-packages/sklearn/base.py:348: InconsistentVersionWarning: Trying to unpickle estimator StandardScaler from version 1.0 when using version 1.3.2. This might lead to breaking code or invalid results. Use at your own risk. For more info please refer to:\n",
      "https://scikit-learn.org/stable/model_persistence.html#security-maintainability-limitations\n",
      "  warnings.warn(\n"
     ]
    },
    {
     "name": "stdout",
     "output_type": "stream",
     "text": [
      "Sigma8 emulator loaded in memory.\n",
      "Loading linear emulator...\n"
     ]
    },
    {
     "name": "stderr",
     "output_type": "stream",
     "text": [
      "2024-06-25 16:00:18,996 - INFO - Fingerprint not found. Saved model loading will continue.\n",
      "2024-06-25 16:00:18,997 - INFO - path_and_singleprint metric could not be logged. Saved model loading will continue.\n",
      "/dipc/dlopez/.conda/envs/VE_torch/lib/python3.9/site-packages/sklearn/base.py:348: InconsistentVersionWarning: Trying to unpickle estimator PCA from version 1.0 when using version 1.3.2. This might lead to breaking code or invalid results. Use at your own risk. For more info please refer to:\n",
      "https://scikit-learn.org/stable/model_persistence.html#security-maintainability-limitations\n",
      "  warnings.warn(\n",
      "/dipc/dlopez/.conda/envs/VE_torch/lib/python3.9/site-packages/sklearn/base.py:348: InconsistentVersionWarning: Trying to unpickle estimator StandardScaler from version 1.0 when using version 1.3.2. This might lead to breaking code or invalid results. Use at your own risk. For more info please refer to:\n",
      "https://scikit-learn.org/stable/model_persistence.html#security-maintainability-limitations\n",
      "  warnings.warn(\n",
      "2024-06-25 16:00:19,194 - INFO - Fingerprint not found. Saved model loading will continue.\n",
      "2024-06-25 16:00:19,195 - INFO - path_and_singleprint metric could not be logged. Saved model loading will continue.\n",
      "/dipc/dlopez/.conda/envs/VE_torch/lib/python3.9/site-packages/sklearn/base.py:348: InconsistentVersionWarning: Trying to unpickle estimator StandardScaler from version 1.0.2 when using version 1.3.2. This might lead to breaking code or invalid results. Use at your own risk. For more info please refer to:\n",
      "https://scikit-learn.org/stable/model_persistence.html#security-maintainability-limitations\n",
      "  warnings.warn(\n"
     ]
    },
    {
     "name": "stdout",
     "output_type": "stream",
     "text": [
      "Linear emulator loaded in memory.\n",
      "Loading no-wiggles emulator...\n",
      "No-wiggles emulator loaded in memory.\n",
      "Loading non-linear emulator...\n"
     ]
    },
    {
     "name": "stderr",
     "output_type": "stream",
     "text": [
      "2024-06-25 16:00:19,365 - INFO - Fingerprint not found. Saved model loading will continue.\n",
      "2024-06-25 16:00:19,366 - INFO - path_and_singleprint metric could not be logged. Saved model loading will continue.\n",
      "/dipc/dlopez/.conda/envs/VE_torch/lib/python3.9/site-packages/sklearn/base.py:348: InconsistentVersionWarning: Trying to unpickle estimator StandardScaler from version 0.22.1 when using version 1.3.2. This might lead to breaking code or invalid results. Use at your own risk. For more info please refer to:\n",
      "https://scikit-learn.org/stable/model_persistence.html#security-maintainability-limitations\n",
      "  warnings.warn(\n",
      "/dipc/dlopez/.conda/envs/VE_torch/lib/python3.9/site-packages/sklearn/base.py:348: InconsistentVersionWarning: Trying to unpickle estimator PCA from version 0.22.1 when using version 1.3.2. This might lead to breaking code or invalid results. Use at your own risk. For more info please refer to:\n",
      "https://scikit-learn.org/stable/model_persistence.html#security-maintainability-limitations\n",
      "  warnings.warn(\n",
      "2024-06-25 16:00:19,524 - INFO - Fingerprint not found. Saved model loading will continue.\n",
      "2024-06-25 16:00:19,525 - INFO - path_and_singleprint metric could not be logged. Saved model loading will continue.\n",
      "/dipc/dlopez/.conda/envs/VE_torch/lib/python3.9/site-packages/sklearn/base.py:348: InconsistentVersionWarning: Trying to unpickle estimator StandardScaler from version 0.23.2 when using version 1.3.2. This might lead to breaking code or invalid results. Use at your own risk. For more info please refer to:\n",
      "https://scikit-learn.org/stable/model_persistence.html#security-maintainability-limitations\n",
      "  warnings.warn(\n",
      "/dipc/dlopez/.conda/envs/VE_torch/lib/python3.9/site-packages/sklearn/base.py:348: InconsistentVersionWarning: Trying to unpickle estimator PCA from version 0.23.2 when using version 1.3.2. This might lead to breaking code or invalid results. Use at your own risk. For more info please refer to:\n",
      "https://scikit-learn.org/stable/model_persistence.html#security-maintainability-limitations\n",
      "  warnings.warn(\n"
     ]
    },
    {
     "name": "stdout",
     "output_type": "stream",
     "text": [
      "Nonlinear emulator loaded in memory.\n",
      "Loading Baryonic Emulator...\n",
      "Baryonic Emulator loaded in memory.\n"
     ]
    }
   ],
   "source": [
    "model_name = \"Model_vary_3\"\n",
    "NN_samples_augs = 10\n",
    "COSMOS[ds_mode][model_name], XX[ds_mode][model_name], AUG_PARAMS[ds_mode][model_name], EXTENDED_AUG_PARAMS[ds_mode][model_name] = cl_inference.preprocessing_tools.generate_baccoemu_dataset(\n",
    "    NN_samples_cosmo  = NN_samples_cosmo_val,\n",
    "    NN_samples_augs   = NN_samples_augs,\n",
    "    dict_bounds_cosmo = dict_bounds_cosmo_val,\n",
    "    dict_bounds_augs  = dict_bounds_augs_vary3,\n",
    "    seed              = seed_val,\n",
    "    path_save         = path_save,\n",
    "    model_name        = model_name,\n",
    "    kmax              = kmax, box=box, factor_kmin_cut=factor_kmin_cut\n",
    ")"
   ]
  },
  {
   "cell_type": "code",
   "execution_count": 34,
   "id": "aa6a7327",
   "metadata": {},
   "outputs": [
    {
     "name": "stderr",
     "output_type": "stream",
     "text": [
      "2024-06-25 16:00:24,078 - INFO - Generating baccoemu dataset...\n",
      "2024-06-25 16:00:24,080 - INFO - Generating Latin Hypercube samples...\n",
      "2024-06-25 16:00:24,082 - INFO - Generating power spectrum using baccoemu emulator...\n",
      "2024-06-25 16:00:24,245 - INFO - Fingerprint not found. Saved model loading will continue.\n",
      "2024-06-25 16:00:24,246 - INFO - path_and_singleprint metric could not be logged. Saved model loading will continue.\n"
     ]
    },
    {
     "name": "stdout",
     "output_type": "stream",
     "text": [
      "Loading sigma8 emulator...\n",
      "Sigma8 emulator loaded in memory.\n",
      "Loading linear emulator...\n"
     ]
    },
    {
     "name": "stderr",
     "output_type": "stream",
     "text": [
      "2024-06-25 16:00:24,397 - INFO - Fingerprint not found. Saved model loading will continue.\n",
      "2024-06-25 16:00:24,399 - INFO - path_and_singleprint metric could not be logged. Saved model loading will continue.\n",
      "/dipc/dlopez/.conda/envs/VE_torch/lib/python3.9/site-packages/sklearn/base.py:348: InconsistentVersionWarning: Trying to unpickle estimator PCA from version 1.0 when using version 1.3.2. This might lead to breaking code or invalid results. Use at your own risk. For more info please refer to:\n",
      "https://scikit-learn.org/stable/model_persistence.html#security-maintainability-limitations\n",
      "  warnings.warn(\n",
      "/dipc/dlopez/.conda/envs/VE_torch/lib/python3.9/site-packages/sklearn/base.py:348: InconsistentVersionWarning: Trying to unpickle estimator StandardScaler from version 1.0 when using version 1.3.2. This might lead to breaking code or invalid results. Use at your own risk. For more info please refer to:\n",
      "https://scikit-learn.org/stable/model_persistence.html#security-maintainability-limitations\n",
      "  warnings.warn(\n",
      "2024-06-25 16:00:24,571 - INFO - Fingerprint not found. Saved model loading will continue.\n",
      "2024-06-25 16:00:24,573 - INFO - path_and_singleprint metric could not be logged. Saved model loading will continue.\n",
      "/dipc/dlopez/.conda/envs/VE_torch/lib/python3.9/site-packages/sklearn/base.py:348: InconsistentVersionWarning: Trying to unpickle estimator PCA from version 1.0 when using version 1.3.2. This might lead to breaking code or invalid results. Use at your own risk. For more info please refer to:\n",
      "https://scikit-learn.org/stable/model_persistence.html#security-maintainability-limitations\n",
      "  warnings.warn(\n",
      "/dipc/dlopez/.conda/envs/VE_torch/lib/python3.9/site-packages/sklearn/base.py:348: InconsistentVersionWarning: Trying to unpickle estimator StandardScaler from version 1.0 when using version 1.3.2. This might lead to breaking code or invalid results. Use at your own risk. For more info please refer to:\n",
      "https://scikit-learn.org/stable/model_persistence.html#security-maintainability-limitations\n",
      "  warnings.warn(\n",
      "2024-06-25 16:00:24,789 - INFO - Fingerprint not found. Saved model loading will continue.\n",
      "2024-06-25 16:00:24,790 - INFO - path_and_singleprint metric could not be logged. Saved model loading will continue.\n"
     ]
    },
    {
     "name": "stdout",
     "output_type": "stream",
     "text": [
      "Linear emulator loaded in memory.\n",
      "Loading no-wiggles emulator...\n"
     ]
    },
    {
     "name": "stderr",
     "output_type": "stream",
     "text": [
      "/dipc/dlopez/.conda/envs/VE_torch/lib/python3.9/site-packages/sklearn/base.py:348: InconsistentVersionWarning: Trying to unpickle estimator StandardScaler from version 1.0.2 when using version 1.3.2. This might lead to breaking code or invalid results. Use at your own risk. For more info please refer to:\n",
      "https://scikit-learn.org/stable/model_persistence.html#security-maintainability-limitations\n",
      "  warnings.warn(\n",
      "2024-06-25 16:00:24,960 - INFO - Fingerprint not found. Saved model loading will continue.\n",
      "2024-06-25 16:00:24,961 - INFO - path_and_singleprint metric could not be logged. Saved model loading will continue.\n",
      "/dipc/dlopez/.conda/envs/VE_torch/lib/python3.9/site-packages/sklearn/base.py:348: InconsistentVersionWarning: Trying to unpickle estimator StandardScaler from version 0.22.1 when using version 1.3.2. This might lead to breaking code or invalid results. Use at your own risk. For more info please refer to:\n",
      "https://scikit-learn.org/stable/model_persistence.html#security-maintainability-limitations\n",
      "  warnings.warn(\n",
      "/dipc/dlopez/.conda/envs/VE_torch/lib/python3.9/site-packages/sklearn/base.py:348: InconsistentVersionWarning: Trying to unpickle estimator PCA from version 0.22.1 when using version 1.3.2. This might lead to breaking code or invalid results. Use at your own risk. For more info please refer to:\n",
      "https://scikit-learn.org/stable/model_persistence.html#security-maintainability-limitations\n",
      "  warnings.warn(\n"
     ]
    },
    {
     "name": "stdout",
     "output_type": "stream",
     "text": [
      "No-wiggles emulator loaded in memory.\n",
      "Loading non-linear emulator...\n",
      "Nonlinear emulator loaded in memory.\n",
      "Loading Baryonic Emulator...\n"
     ]
    },
    {
     "name": "stderr",
     "output_type": "stream",
     "text": [
      "2024-06-25 16:00:25,133 - INFO - Fingerprint not found. Saved model loading will continue.\n",
      "2024-06-25 16:00:25,134 - INFO - path_and_singleprint metric could not be logged. Saved model loading will continue.\n",
      "/dipc/dlopez/.conda/envs/VE_torch/lib/python3.9/site-packages/sklearn/base.py:348: InconsistentVersionWarning: Trying to unpickle estimator StandardScaler from version 0.23.2 when using version 1.3.2. This might lead to breaking code or invalid results. Use at your own risk. For more info please refer to:\n",
      "https://scikit-learn.org/stable/model_persistence.html#security-maintainability-limitations\n",
      "  warnings.warn(\n",
      "/dipc/dlopez/.conda/envs/VE_torch/lib/python3.9/site-packages/sklearn/base.py:348: InconsistentVersionWarning: Trying to unpickle estimator PCA from version 0.23.2 when using version 1.3.2. This might lead to breaking code or invalid results. Use at your own risk. For more info please refer to:\n",
      "https://scikit-learn.org/stable/model_persistence.html#security-maintainability-limitations\n",
      "  warnings.warn(\n"
     ]
    },
    {
     "name": "stdout",
     "output_type": "stream",
     "text": [
      "Baryonic Emulator loaded in memory.\n"
     ]
    },
    {
     "name": "stderr",
     "output_type": "stream",
     "text": [
      "2024-06-25 16:00:25,438 - INFO - Generating baccoemu dataset...\n",
      "2024-06-25 16:00:25,439 - INFO - Generating Latin Hypercube samples...\n",
      "2024-06-25 16:00:25,442 - INFO - Generating power spectrum using baccoemu emulator...\n",
      "2024-06-25 16:00:25,601 - INFO - Fingerprint not found. Saved model loading will continue.\n",
      "2024-06-25 16:00:25,603 - INFO - path_and_singleprint metric could not be logged. Saved model loading will continue.\n"
     ]
    },
    {
     "name": "stdout",
     "output_type": "stream",
     "text": [
      "Loading sigma8 emulator...\n",
      "Sigma8 emulator loaded in memory.\n",
      "Loading linear emulator...\n"
     ]
    },
    {
     "name": "stderr",
     "output_type": "stream",
     "text": [
      "2024-06-25 16:00:26,287 - INFO - Fingerprint not found. Saved model loading will continue.\n",
      "2024-06-25 16:00:26,289 - INFO - path_and_singleprint metric could not be logged. Saved model loading will continue.\n",
      "/dipc/dlopez/.conda/envs/VE_torch/lib/python3.9/site-packages/sklearn/base.py:348: InconsistentVersionWarning: Trying to unpickle estimator PCA from version 1.0 when using version 1.3.2. This might lead to breaking code or invalid results. Use at your own risk. For more info please refer to:\n",
      "https://scikit-learn.org/stable/model_persistence.html#security-maintainability-limitations\n",
      "  warnings.warn(\n",
      "/dipc/dlopez/.conda/envs/VE_torch/lib/python3.9/site-packages/sklearn/base.py:348: InconsistentVersionWarning: Trying to unpickle estimator StandardScaler from version 1.0 when using version 1.3.2. This might lead to breaking code or invalid results. Use at your own risk. For more info please refer to:\n",
      "https://scikit-learn.org/stable/model_persistence.html#security-maintainability-limitations\n",
      "  warnings.warn(\n",
      "2024-06-25 16:00:26,443 - INFO - Fingerprint not found. Saved model loading will continue.\n",
      "2024-06-25 16:00:26,444 - INFO - path_and_singleprint metric could not be logged. Saved model loading will continue.\n",
      "/dipc/dlopez/.conda/envs/VE_torch/lib/python3.9/site-packages/sklearn/base.py:348: InconsistentVersionWarning: Trying to unpickle estimator PCA from version 1.0 when using version 1.3.2. This might lead to breaking code or invalid results. Use at your own risk. For more info please refer to:\n",
      "https://scikit-learn.org/stable/model_persistence.html#security-maintainability-limitations\n",
      "  warnings.warn(\n",
      "/dipc/dlopez/.conda/envs/VE_torch/lib/python3.9/site-packages/sklearn/base.py:348: InconsistentVersionWarning: Trying to unpickle estimator StandardScaler from version 1.0 when using version 1.3.2. This might lead to breaking code or invalid results. Use at your own risk. For more info please refer to:\n",
      "https://scikit-learn.org/stable/model_persistence.html#security-maintainability-limitations\n",
      "  warnings.warn(\n",
      "2024-06-25 16:00:26,652 - INFO - Fingerprint not found. Saved model loading will continue.\n",
      "2024-06-25 16:00:26,654 - INFO - path_and_singleprint metric could not be logged. Saved model loading will continue.\n"
     ]
    },
    {
     "name": "stdout",
     "output_type": "stream",
     "text": [
      "Linear emulator loaded in memory.\n",
      "Loading no-wiggles emulator...\n"
     ]
    },
    {
     "name": "stderr",
     "output_type": "stream",
     "text": [
      "/dipc/dlopez/.conda/envs/VE_torch/lib/python3.9/site-packages/sklearn/base.py:348: InconsistentVersionWarning: Trying to unpickle estimator StandardScaler from version 1.0.2 when using version 1.3.2. This might lead to breaking code or invalid results. Use at your own risk. For more info please refer to:\n",
      "https://scikit-learn.org/stable/model_persistence.html#security-maintainability-limitations\n",
      "  warnings.warn(\n",
      "2024-06-25 16:00:26,842 - INFO - Fingerprint not found. Saved model loading will continue.\n",
      "2024-06-25 16:00:26,843 - INFO - path_and_singleprint metric could not be logged. Saved model loading will continue.\n",
      "/dipc/dlopez/.conda/envs/VE_torch/lib/python3.9/site-packages/sklearn/base.py:348: InconsistentVersionWarning: Trying to unpickle estimator StandardScaler from version 0.22.1 when using version 1.3.2. This might lead to breaking code or invalid results. Use at your own risk. For more info please refer to:\n",
      "https://scikit-learn.org/stable/model_persistence.html#security-maintainability-limitations\n",
      "  warnings.warn(\n",
      "/dipc/dlopez/.conda/envs/VE_torch/lib/python3.9/site-packages/sklearn/base.py:348: InconsistentVersionWarning: Trying to unpickle estimator PCA from version 0.22.1 when using version 1.3.2. This might lead to breaking code or invalid results. Use at your own risk. For more info please refer to:\n",
      "https://scikit-learn.org/stable/model_persistence.html#security-maintainability-limitations\n",
      "  warnings.warn(\n"
     ]
    },
    {
     "name": "stdout",
     "output_type": "stream",
     "text": [
      "No-wiggles emulator loaded in memory.\n",
      "Loading non-linear emulator...\n",
      "Nonlinear emulator loaded in memory.\n",
      "Loading Baryonic Emulator...\n"
     ]
    },
    {
     "name": "stderr",
     "output_type": "stream",
     "text": [
      "2024-06-25 16:00:27,006 - INFO - Fingerprint not found. Saved model loading will continue.\n",
      "2024-06-25 16:00:27,007 - INFO - path_and_singleprint metric could not be logged. Saved model loading will continue.\n",
      "/dipc/dlopez/.conda/envs/VE_torch/lib/python3.9/site-packages/sklearn/base.py:348: InconsistentVersionWarning: Trying to unpickle estimator StandardScaler from version 0.23.2 when using version 1.3.2. This might lead to breaking code or invalid results. Use at your own risk. For more info please refer to:\n",
      "https://scikit-learn.org/stable/model_persistence.html#security-maintainability-limitations\n",
      "  warnings.warn(\n",
      "/dipc/dlopez/.conda/envs/VE_torch/lib/python3.9/site-packages/sklearn/base.py:348: InconsistentVersionWarning: Trying to unpickle estimator PCA from version 0.23.2 when using version 1.3.2. This might lead to breaking code or invalid results. Use at your own risk. For more info please refer to:\n",
      "https://scikit-learn.org/stable/model_persistence.html#security-maintainability-limitations\n",
      "  warnings.warn(\n"
     ]
    },
    {
     "name": "stdout",
     "output_type": "stream",
     "text": [
      "Baryonic Emulator loaded in memory.\n"
     ]
    },
    {
     "name": "stderr",
     "output_type": "stream",
     "text": [
      "2024-06-25 16:00:27,313 - INFO - Generating baccoemu dataset...\n",
      "2024-06-25 16:00:27,315 - INFO - Generating Latin Hypercube samples...\n",
      "2024-06-25 16:00:27,317 - INFO - Generating power spectrum using baccoemu emulator...\n",
      "2024-06-25 16:00:27,467 - INFO - Fingerprint not found. Saved model loading will continue.\n",
      "2024-06-25 16:00:27,469 - INFO - path_and_singleprint metric could not be logged. Saved model loading will continue.\n"
     ]
    },
    {
     "name": "stdout",
     "output_type": "stream",
     "text": [
      "Loading sigma8 emulator...\n",
      "Sigma8 emulator loaded in memory.\n",
      "Loading linear emulator...\n"
     ]
    },
    {
     "name": "stderr",
     "output_type": "stream",
     "text": [
      "2024-06-25 16:00:27,623 - INFO - Fingerprint not found. Saved model loading will continue.\n",
      "2024-06-25 16:00:27,624 - INFO - path_and_singleprint metric could not be logged. Saved model loading will continue.\n",
      "/dipc/dlopez/.conda/envs/VE_torch/lib/python3.9/site-packages/sklearn/base.py:348: InconsistentVersionWarning: Trying to unpickle estimator PCA from version 1.0 when using version 1.3.2. This might lead to breaking code or invalid results. Use at your own risk. For more info please refer to:\n",
      "https://scikit-learn.org/stable/model_persistence.html#security-maintainability-limitations\n",
      "  warnings.warn(\n",
      "/dipc/dlopez/.conda/envs/VE_torch/lib/python3.9/site-packages/sklearn/base.py:348: InconsistentVersionWarning: Trying to unpickle estimator StandardScaler from version 1.0 when using version 1.3.2. This might lead to breaking code or invalid results. Use at your own risk. For more info please refer to:\n",
      "https://scikit-learn.org/stable/model_persistence.html#security-maintainability-limitations\n",
      "  warnings.warn(\n",
      "2024-06-25 16:00:27,780 - INFO - Fingerprint not found. Saved model loading will continue.\n",
      "2024-06-25 16:00:27,781 - INFO - path_and_singleprint metric could not be logged. Saved model loading will continue.\n",
      "/dipc/dlopez/.conda/envs/VE_torch/lib/python3.9/site-packages/sklearn/base.py:348: InconsistentVersionWarning: Trying to unpickle estimator PCA from version 1.0 when using version 1.3.2. This might lead to breaking code or invalid results. Use at your own risk. For more info please refer to:\n",
      "https://scikit-learn.org/stable/model_persistence.html#security-maintainability-limitations\n",
      "  warnings.warn(\n",
      "/dipc/dlopez/.conda/envs/VE_torch/lib/python3.9/site-packages/sklearn/base.py:348: InconsistentVersionWarning: Trying to unpickle estimator StandardScaler from version 1.0 when using version 1.3.2. This might lead to breaking code or invalid results. Use at your own risk. For more info please refer to:\n",
      "https://scikit-learn.org/stable/model_persistence.html#security-maintainability-limitations\n",
      "  warnings.warn(\n",
      "2024-06-25 16:00:27,969 - INFO - Fingerprint not found. Saved model loading will continue.\n",
      "2024-06-25 16:00:27,971 - INFO - path_and_singleprint metric could not be logged. Saved model loading will continue.\n",
      "/dipc/dlopez/.conda/envs/VE_torch/lib/python3.9/site-packages/sklearn/base.py:348: InconsistentVersionWarning: Trying to unpickle estimator StandardScaler from version 1.0.2 when using version 1.3.2. This might lead to breaking code or invalid results. Use at your own risk. For more info please refer to:\n",
      "https://scikit-learn.org/stable/model_persistence.html#security-maintainability-limitations\n",
      "  warnings.warn(\n"
     ]
    },
    {
     "name": "stdout",
     "output_type": "stream",
     "text": [
      "Linear emulator loaded in memory.\n",
      "Loading no-wiggles emulator...\n",
      "No-wiggles emulator loaded in memory.\n",
      "Loading non-linear emulator...\n"
     ]
    },
    {
     "name": "stderr",
     "output_type": "stream",
     "text": [
      "2024-06-25 16:00:28,144 - INFO - Fingerprint not found. Saved model loading will continue.\n",
      "2024-06-25 16:00:28,145 - INFO - path_and_singleprint metric could not be logged. Saved model loading will continue.\n",
      "/dipc/dlopez/.conda/envs/VE_torch/lib/python3.9/site-packages/sklearn/base.py:348: InconsistentVersionWarning: Trying to unpickle estimator StandardScaler from version 0.22.1 when using version 1.3.2. This might lead to breaking code or invalid results. Use at your own risk. For more info please refer to:\n",
      "https://scikit-learn.org/stable/model_persistence.html#security-maintainability-limitations\n",
      "  warnings.warn(\n",
      "/dipc/dlopez/.conda/envs/VE_torch/lib/python3.9/site-packages/sklearn/base.py:348: InconsistentVersionWarning: Trying to unpickle estimator PCA from version 0.22.1 when using version 1.3.2. This might lead to breaking code or invalid results. Use at your own risk. For more info please refer to:\n",
      "https://scikit-learn.org/stable/model_persistence.html#security-maintainability-limitations\n",
      "  warnings.warn(\n",
      "2024-06-25 16:00:28,308 - INFO - Fingerprint not found. Saved model loading will continue.\n",
      "2024-06-25 16:00:28,309 - INFO - path_and_singleprint metric could not be logged. Saved model loading will continue.\n",
      "/dipc/dlopez/.conda/envs/VE_torch/lib/python3.9/site-packages/sklearn/base.py:348: InconsistentVersionWarning: Trying to unpickle estimator StandardScaler from version 0.23.2 when using version 1.3.2. This might lead to breaking code or invalid results. Use at your own risk. For more info please refer to:\n",
      "https://scikit-learn.org/stable/model_persistence.html#security-maintainability-limitations\n",
      "  warnings.warn(\n",
      "/dipc/dlopez/.conda/envs/VE_torch/lib/python3.9/site-packages/sklearn/base.py:348: InconsistentVersionWarning: Trying to unpickle estimator PCA from version 0.23.2 when using version 1.3.2. This might lead to breaking code or invalid results. Use at your own risk. For more info please refer to:\n",
      "https://scikit-learn.org/stable/model_persistence.html#security-maintainability-limitations\n",
      "  warnings.warn(\n"
     ]
    },
    {
     "name": "stdout",
     "output_type": "stream",
     "text": [
      "Nonlinear emulator loaded in memory.\n",
      "Loading Baryonic Emulator...\n",
      "Baryonic Emulator loaded in memory.\n"
     ]
    },
    {
     "name": "stderr",
     "output_type": "stream",
     "text": [
      "2024-06-25 16:00:28,618 - INFO - Generating baccoemu dataset...\n",
      "2024-06-25 16:00:28,619 - INFO - Generating Latin Hypercube samples...\n",
      "2024-06-25 16:00:28,622 - INFO - Generating power spectrum using baccoemu emulator...\n",
      "2024-06-25 16:00:28,776 - INFO - Fingerprint not found. Saved model loading will continue.\n",
      "2024-06-25 16:00:28,777 - INFO - path_and_singleprint metric could not be logged. Saved model loading will continue.\n"
     ]
    },
    {
     "name": "stdout",
     "output_type": "stream",
     "text": [
      "Loading sigma8 emulator...\n",
      "Sigma8 emulator loaded in memory.\n",
      "Loading linear emulator...\n"
     ]
    },
    {
     "name": "stderr",
     "output_type": "stream",
     "text": [
      "2024-06-25 16:00:28,957 - INFO - Fingerprint not found. Saved model loading will continue.\n",
      "2024-06-25 16:00:28,958 - INFO - path_and_singleprint metric could not be logged. Saved model loading will continue.\n",
      "/dipc/dlopez/.conda/envs/VE_torch/lib/python3.9/site-packages/sklearn/base.py:348: InconsistentVersionWarning: Trying to unpickle estimator PCA from version 1.0 when using version 1.3.2. This might lead to breaking code or invalid results. Use at your own risk. For more info please refer to:\n",
      "https://scikit-learn.org/stable/model_persistence.html#security-maintainability-limitations\n",
      "  warnings.warn(\n",
      "/dipc/dlopez/.conda/envs/VE_torch/lib/python3.9/site-packages/sklearn/base.py:348: InconsistentVersionWarning: Trying to unpickle estimator StandardScaler from version 1.0 when using version 1.3.2. This might lead to breaking code or invalid results. Use at your own risk. For more info please refer to:\n",
      "https://scikit-learn.org/stable/model_persistence.html#security-maintainability-limitations\n",
      "  warnings.warn(\n",
      "2024-06-25 16:00:29,119 - INFO - Fingerprint not found. Saved model loading will continue.\n",
      "2024-06-25 16:00:29,120 - INFO - path_and_singleprint metric could not be logged. Saved model loading will continue.\n",
      "/dipc/dlopez/.conda/envs/VE_torch/lib/python3.9/site-packages/sklearn/base.py:348: InconsistentVersionWarning: Trying to unpickle estimator PCA from version 1.0 when using version 1.3.2. This might lead to breaking code or invalid results. Use at your own risk. For more info please refer to:\n",
      "https://scikit-learn.org/stable/model_persistence.html#security-maintainability-limitations\n",
      "  warnings.warn(\n",
      "/dipc/dlopez/.conda/envs/VE_torch/lib/python3.9/site-packages/sklearn/base.py:348: InconsistentVersionWarning: Trying to unpickle estimator StandardScaler from version 1.0 when using version 1.3.2. This might lead to breaking code or invalid results. Use at your own risk. For more info please refer to:\n",
      "https://scikit-learn.org/stable/model_persistence.html#security-maintainability-limitations\n",
      "  warnings.warn(\n",
      "2024-06-25 16:00:29,314 - INFO - Fingerprint not found. Saved model loading will continue.\n",
      "2024-06-25 16:00:29,315 - INFO - path_and_singleprint metric could not be logged. Saved model loading will continue.\n",
      "/dipc/dlopez/.conda/envs/VE_torch/lib/python3.9/site-packages/sklearn/base.py:348: InconsistentVersionWarning: Trying to unpickle estimator StandardScaler from version 1.0.2 when using version 1.3.2. This might lead to breaking code or invalid results. Use at your own risk. For more info please refer to:\n",
      "https://scikit-learn.org/stable/model_persistence.html#security-maintainability-limitations\n",
      "  warnings.warn(\n"
     ]
    },
    {
     "name": "stdout",
     "output_type": "stream",
     "text": [
      "Linear emulator loaded in memory.\n",
      "Loading no-wiggles emulator...\n",
      "No-wiggles emulator loaded in memory.\n",
      "Loading non-linear emulator...\n"
     ]
    },
    {
     "name": "stderr",
     "output_type": "stream",
     "text": [
      "2024-06-25 16:00:30,102 - INFO - Fingerprint not found. Saved model loading will continue.\n",
      "2024-06-25 16:00:30,103 - INFO - path_and_singleprint metric could not be logged. Saved model loading will continue.\n",
      "/dipc/dlopez/.conda/envs/VE_torch/lib/python3.9/site-packages/sklearn/base.py:348: InconsistentVersionWarning: Trying to unpickle estimator StandardScaler from version 0.22.1 when using version 1.3.2. This might lead to breaking code or invalid results. Use at your own risk. For more info please refer to:\n",
      "https://scikit-learn.org/stable/model_persistence.html#security-maintainability-limitations\n",
      "  warnings.warn(\n",
      "/dipc/dlopez/.conda/envs/VE_torch/lib/python3.9/site-packages/sklearn/base.py:348: InconsistentVersionWarning: Trying to unpickle estimator PCA from version 0.22.1 when using version 1.3.2. This might lead to breaking code or invalid results. Use at your own risk. For more info please refer to:\n",
      "https://scikit-learn.org/stable/model_persistence.html#security-maintainability-limitations\n",
      "  warnings.warn(\n",
      "2024-06-25 16:00:30,281 - INFO - Fingerprint not found. Saved model loading will continue.\n",
      "2024-06-25 16:00:30,283 - INFO - path_and_singleprint metric could not be logged. Saved model loading will continue.\n",
      "/dipc/dlopez/.conda/envs/VE_torch/lib/python3.9/site-packages/sklearn/base.py:348: InconsistentVersionWarning: Trying to unpickle estimator StandardScaler from version 0.23.2 when using version 1.3.2. This might lead to breaking code or invalid results. Use at your own risk. For more info please refer to:\n",
      "https://scikit-learn.org/stable/model_persistence.html#security-maintainability-limitations\n",
      "  warnings.warn(\n",
      "/dipc/dlopez/.conda/envs/VE_torch/lib/python3.9/site-packages/sklearn/base.py:348: InconsistentVersionWarning: Trying to unpickle estimator PCA from version 0.23.2 when using version 1.3.2. This might lead to breaking code or invalid results. Use at your own risk. For more info please refer to:\n",
      "https://scikit-learn.org/stable/model_persistence.html#security-maintainability-limitations\n",
      "  warnings.warn(\n"
     ]
    },
    {
     "name": "stdout",
     "output_type": "stream",
     "text": [
      "Nonlinear emulator loaded in memory.\n",
      "Loading Baryonic Emulator...\n",
      "Baryonic Emulator loaded in memory.\n"
     ]
    },
    {
     "name": "stderr",
     "output_type": "stream",
     "text": [
      "2024-06-25 16:00:30,596 - INFO - Generating baccoemu dataset...\n",
      "2024-06-25 16:00:30,597 - INFO - Generating Latin Hypercube samples...\n",
      "2024-06-25 16:00:30,600 - INFO - Generating power spectrum using baccoemu emulator...\n",
      "2024-06-25 16:00:30,762 - INFO - Fingerprint not found. Saved model loading will continue.\n",
      "2024-06-25 16:00:30,764 - INFO - path_and_singleprint metric could not be logged. Saved model loading will continue.\n"
     ]
    },
    {
     "name": "stdout",
     "output_type": "stream",
     "text": [
      "Loading sigma8 emulator...\n",
      "Sigma8 emulator loaded in memory.\n",
      "Loading linear emulator...\n"
     ]
    },
    {
     "name": "stderr",
     "output_type": "stream",
     "text": [
      "2024-06-25 16:00:30,925 - INFO - Fingerprint not found. Saved model loading will continue.\n",
      "2024-06-25 16:00:30,926 - INFO - path_and_singleprint metric could not be logged. Saved model loading will continue.\n",
      "/dipc/dlopez/.conda/envs/VE_torch/lib/python3.9/site-packages/sklearn/base.py:348: InconsistentVersionWarning: Trying to unpickle estimator PCA from version 1.0 when using version 1.3.2. This might lead to breaking code or invalid results. Use at your own risk. For more info please refer to:\n",
      "https://scikit-learn.org/stable/model_persistence.html#security-maintainability-limitations\n",
      "  warnings.warn(\n",
      "/dipc/dlopez/.conda/envs/VE_torch/lib/python3.9/site-packages/sklearn/base.py:348: InconsistentVersionWarning: Trying to unpickle estimator StandardScaler from version 1.0 when using version 1.3.2. This might lead to breaking code or invalid results. Use at your own risk. For more info please refer to:\n",
      "https://scikit-learn.org/stable/model_persistence.html#security-maintainability-limitations\n",
      "  warnings.warn(\n",
      "2024-06-25 16:00:31,088 - INFO - Fingerprint not found. Saved model loading will continue.\n",
      "2024-06-25 16:00:31,090 - INFO - path_and_singleprint metric could not be logged. Saved model loading will continue.\n",
      "/dipc/dlopez/.conda/envs/VE_torch/lib/python3.9/site-packages/sklearn/base.py:348: InconsistentVersionWarning: Trying to unpickle estimator PCA from version 1.0 when using version 1.3.2. This might lead to breaking code or invalid results. Use at your own risk. For more info please refer to:\n",
      "https://scikit-learn.org/stable/model_persistence.html#security-maintainability-limitations\n",
      "  warnings.warn(\n",
      "/dipc/dlopez/.conda/envs/VE_torch/lib/python3.9/site-packages/sklearn/base.py:348: InconsistentVersionWarning: Trying to unpickle estimator StandardScaler from version 1.0 when using version 1.3.2. This might lead to breaking code or invalid results. Use at your own risk. For more info please refer to:\n",
      "https://scikit-learn.org/stable/model_persistence.html#security-maintainability-limitations\n",
      "  warnings.warn(\n",
      "2024-06-25 16:00:31,290 - INFO - Fingerprint not found. Saved model loading will continue.\n",
      "2024-06-25 16:00:31,291 - INFO - path_and_singleprint metric could not be logged. Saved model loading will continue.\n"
     ]
    },
    {
     "name": "stdout",
     "output_type": "stream",
     "text": [
      "Linear emulator loaded in memory.\n",
      "Loading no-wiggles emulator...\n"
     ]
    },
    {
     "name": "stderr",
     "output_type": "stream",
     "text": [
      "/dipc/dlopez/.conda/envs/VE_torch/lib/python3.9/site-packages/sklearn/base.py:348: InconsistentVersionWarning: Trying to unpickle estimator StandardScaler from version 1.0.2 when using version 1.3.2. This might lead to breaking code or invalid results. Use at your own risk. For more info please refer to:\n",
      "https://scikit-learn.org/stable/model_persistence.html#security-maintainability-limitations\n",
      "  warnings.warn(\n",
      "2024-06-25 16:00:31,475 - INFO - Fingerprint not found. Saved model loading will continue.\n",
      "2024-06-25 16:00:31,476 - INFO - path_and_singleprint metric could not be logged. Saved model loading will continue.\n",
      "/dipc/dlopez/.conda/envs/VE_torch/lib/python3.9/site-packages/sklearn/base.py:348: InconsistentVersionWarning: Trying to unpickle estimator StandardScaler from version 0.22.1 when using version 1.3.2. This might lead to breaking code or invalid results. Use at your own risk. For more info please refer to:\n",
      "https://scikit-learn.org/stable/model_persistence.html#security-maintainability-limitations\n",
      "  warnings.warn(\n",
      "/dipc/dlopez/.conda/envs/VE_torch/lib/python3.9/site-packages/sklearn/base.py:348: InconsistentVersionWarning: Trying to unpickle estimator PCA from version 0.22.1 when using version 1.3.2. This might lead to breaking code or invalid results. Use at your own risk. For more info please refer to:\n",
      "https://scikit-learn.org/stable/model_persistence.html#security-maintainability-limitations\n",
      "  warnings.warn(\n"
     ]
    },
    {
     "name": "stdout",
     "output_type": "stream",
     "text": [
      "No-wiggles emulator loaded in memory.\n",
      "Loading non-linear emulator...\n",
      "Nonlinear emulator loaded in memory.\n",
      "Loading Baryonic Emulator...\n"
     ]
    },
    {
     "name": "stderr",
     "output_type": "stream",
     "text": [
      "2024-06-25 16:00:31,644 - INFO - Fingerprint not found. Saved model loading will continue.\n",
      "2024-06-25 16:00:31,646 - INFO - path_and_singleprint metric could not be logged. Saved model loading will continue.\n",
      "/dipc/dlopez/.conda/envs/VE_torch/lib/python3.9/site-packages/sklearn/base.py:348: InconsistentVersionWarning: Trying to unpickle estimator StandardScaler from version 0.23.2 when using version 1.3.2. This might lead to breaking code or invalid results. Use at your own risk. For more info please refer to:\n",
      "https://scikit-learn.org/stable/model_persistence.html#security-maintainability-limitations\n",
      "  warnings.warn(\n",
      "/dipc/dlopez/.conda/envs/VE_torch/lib/python3.9/site-packages/sklearn/base.py:348: InconsistentVersionWarning: Trying to unpickle estimator PCA from version 0.23.2 when using version 1.3.2. This might lead to breaking code or invalid results. Use at your own risk. For more info please refer to:\n",
      "https://scikit-learn.org/stable/model_persistence.html#security-maintainability-limitations\n",
      "  warnings.warn(\n"
     ]
    },
    {
     "name": "stdout",
     "output_type": "stream",
     "text": [
      "Baryonic Emulator loaded in memory.\n"
     ]
    },
    {
     "name": "stderr",
     "output_type": "stream",
     "text": [
      "2024-06-25 16:00:31,952 - INFO - Generating baccoemu dataset...\n",
      "2024-06-25 16:00:31,954 - INFO - Generating Latin Hypercube samples...\n",
      "2024-06-25 16:00:31,956 - INFO - Generating power spectrum using baccoemu emulator...\n",
      "2024-06-25 16:00:32,106 - INFO - Fingerprint not found. Saved model loading will continue.\n",
      "2024-06-25 16:00:32,107 - INFO - path_and_singleprint metric could not be logged. Saved model loading will continue.\n"
     ]
    },
    {
     "name": "stdout",
     "output_type": "stream",
     "text": [
      "Loading sigma8 emulator...\n",
      "Sigma8 emulator loaded in memory.\n",
      "Loading linear emulator...\n"
     ]
    },
    {
     "name": "stderr",
     "output_type": "stream",
     "text": [
      "2024-06-25 16:00:32,258 - INFO - Fingerprint not found. Saved model loading will continue.\n",
      "2024-06-25 16:00:32,260 - INFO - path_and_singleprint metric could not be logged. Saved model loading will continue.\n",
      "/dipc/dlopez/.conda/envs/VE_torch/lib/python3.9/site-packages/sklearn/base.py:348: InconsistentVersionWarning: Trying to unpickle estimator PCA from version 1.0 when using version 1.3.2. This might lead to breaking code or invalid results. Use at your own risk. For more info please refer to:\n",
      "https://scikit-learn.org/stable/model_persistence.html#security-maintainability-limitations\n",
      "  warnings.warn(\n",
      "/dipc/dlopez/.conda/envs/VE_torch/lib/python3.9/site-packages/sklearn/base.py:348: InconsistentVersionWarning: Trying to unpickle estimator StandardScaler from version 1.0 when using version 1.3.2. This might lead to breaking code or invalid results. Use at your own risk. For more info please refer to:\n",
      "https://scikit-learn.org/stable/model_persistence.html#security-maintainability-limitations\n",
      "  warnings.warn(\n",
      "2024-06-25 16:00:32,413 - INFO - Fingerprint not found. Saved model loading will continue.\n",
      "2024-06-25 16:00:32,414 - INFO - path_and_singleprint metric could not be logged. Saved model loading will continue.\n",
      "/dipc/dlopez/.conda/envs/VE_torch/lib/python3.9/site-packages/sklearn/base.py:348: InconsistentVersionWarning: Trying to unpickle estimator PCA from version 1.0 when using version 1.3.2. This might lead to breaking code or invalid results. Use at your own risk. For more info please refer to:\n",
      "https://scikit-learn.org/stable/model_persistence.html#security-maintainability-limitations\n",
      "  warnings.warn(\n",
      "/dipc/dlopez/.conda/envs/VE_torch/lib/python3.9/site-packages/sklearn/base.py:348: InconsistentVersionWarning: Trying to unpickle estimator StandardScaler from version 1.0 when using version 1.3.2. This might lead to breaking code or invalid results. Use at your own risk. For more info please refer to:\n",
      "https://scikit-learn.org/stable/model_persistence.html#security-maintainability-limitations\n",
      "  warnings.warn(\n",
      "2024-06-25 16:00:32,601 - INFO - Fingerprint not found. Saved model loading will continue.\n",
      "2024-06-25 16:00:32,602 - INFO - path_and_singleprint metric could not be logged. Saved model loading will continue.\n",
      "/dipc/dlopez/.conda/envs/VE_torch/lib/python3.9/site-packages/sklearn/base.py:348: InconsistentVersionWarning: Trying to unpickle estimator StandardScaler from version 1.0.2 when using version 1.3.2. This might lead to breaking code or invalid results. Use at your own risk. For more info please refer to:\n",
      "https://scikit-learn.org/stable/model_persistence.html#security-maintainability-limitations\n",
      "  warnings.warn(\n"
     ]
    },
    {
     "name": "stdout",
     "output_type": "stream",
     "text": [
      "Linear emulator loaded in memory.\n",
      "Loading no-wiggles emulator...\n",
      "No-wiggles emulator loaded in memory.\n",
      "Loading non-linear emulator...\n"
     ]
    },
    {
     "name": "stderr",
     "output_type": "stream",
     "text": [
      "2024-06-25 16:00:32,775 - INFO - Fingerprint not found. Saved model loading will continue.\n",
      "2024-06-25 16:00:32,776 - INFO - path_and_singleprint metric could not be logged. Saved model loading will continue.\n",
      "/dipc/dlopez/.conda/envs/VE_torch/lib/python3.9/site-packages/sklearn/base.py:348: InconsistentVersionWarning: Trying to unpickle estimator StandardScaler from version 0.22.1 when using version 1.3.2. This might lead to breaking code or invalid results. Use at your own risk. For more info please refer to:\n",
      "https://scikit-learn.org/stable/model_persistence.html#security-maintainability-limitations\n",
      "  warnings.warn(\n",
      "/dipc/dlopez/.conda/envs/VE_torch/lib/python3.9/site-packages/sklearn/base.py:348: InconsistentVersionWarning: Trying to unpickle estimator PCA from version 0.22.1 when using version 1.3.2. This might lead to breaking code or invalid results. Use at your own risk. For more info please refer to:\n",
      "https://scikit-learn.org/stable/model_persistence.html#security-maintainability-limitations\n",
      "  warnings.warn(\n",
      "2024-06-25 16:00:32,956 - INFO - Fingerprint not found. Saved model loading will continue.\n",
      "2024-06-25 16:00:32,957 - INFO - path_and_singleprint metric could not be logged. Saved model loading will continue.\n",
      "/dipc/dlopez/.conda/envs/VE_torch/lib/python3.9/site-packages/sklearn/base.py:348: InconsistentVersionWarning: Trying to unpickle estimator StandardScaler from version 0.23.2 when using version 1.3.2. This might lead to breaking code or invalid results. Use at your own risk. For more info please refer to:\n",
      "https://scikit-learn.org/stable/model_persistence.html#security-maintainability-limitations\n",
      "  warnings.warn(\n",
      "/dipc/dlopez/.conda/envs/VE_torch/lib/python3.9/site-packages/sklearn/base.py:348: InconsistentVersionWarning: Trying to unpickle estimator PCA from version 0.23.2 when using version 1.3.2. This might lead to breaking code or invalid results. Use at your own risk. For more info please refer to:\n",
      "https://scikit-learn.org/stable/model_persistence.html#security-maintainability-limitations\n",
      "  warnings.warn(\n"
     ]
    },
    {
     "name": "stdout",
     "output_type": "stream",
     "text": [
      "Nonlinear emulator loaded in memory.\n",
      "Loading Baryonic Emulator...\n",
      "Baryonic Emulator loaded in memory.\n"
     ]
    },
    {
     "name": "stderr",
     "output_type": "stream",
     "text": [
      "2024-06-25 16:00:33,268 - INFO - Generating baccoemu dataset...\n",
      "2024-06-25 16:00:33,270 - INFO - Generating Latin Hypercube samples...\n",
      "2024-06-25 16:00:33,272 - INFO - Generating power spectrum using baccoemu emulator...\n",
      "2024-06-25 16:00:33,422 - INFO - Fingerprint not found. Saved model loading will continue.\n",
      "2024-06-25 16:00:33,424 - INFO - path_and_singleprint metric could not be logged. Saved model loading will continue.\n"
     ]
    },
    {
     "name": "stdout",
     "output_type": "stream",
     "text": [
      "Loading sigma8 emulator...\n",
      "Sigma8 emulator loaded in memory.\n",
      "Loading linear emulator...\n"
     ]
    },
    {
     "name": "stderr",
     "output_type": "stream",
     "text": [
      "2024-06-25 16:00:33,579 - INFO - Fingerprint not found. Saved model loading will continue.\n",
      "2024-06-25 16:00:33,581 - INFO - path_and_singleprint metric could not be logged. Saved model loading will continue.\n",
      "/dipc/dlopez/.conda/envs/VE_torch/lib/python3.9/site-packages/sklearn/base.py:348: InconsistentVersionWarning: Trying to unpickle estimator PCA from version 1.0 when using version 1.3.2. This might lead to breaking code or invalid results. Use at your own risk. For more info please refer to:\n",
      "https://scikit-learn.org/stable/model_persistence.html#security-maintainability-limitations\n",
      "  warnings.warn(\n",
      "/dipc/dlopez/.conda/envs/VE_torch/lib/python3.9/site-packages/sklearn/base.py:348: InconsistentVersionWarning: Trying to unpickle estimator StandardScaler from version 1.0 when using version 1.3.2. This might lead to breaking code or invalid results. Use at your own risk. For more info please refer to:\n",
      "https://scikit-learn.org/stable/model_persistence.html#security-maintainability-limitations\n",
      "  warnings.warn(\n",
      "2024-06-25 16:00:34,269 - INFO - Fingerprint not found. Saved model loading will continue.\n",
      "2024-06-25 16:00:34,271 - INFO - path_and_singleprint metric could not be logged. Saved model loading will continue.\n",
      "/dipc/dlopez/.conda/envs/VE_torch/lib/python3.9/site-packages/sklearn/base.py:348: InconsistentVersionWarning: Trying to unpickle estimator PCA from version 1.0 when using version 1.3.2. This might lead to breaking code or invalid results. Use at your own risk. For more info please refer to:\n",
      "https://scikit-learn.org/stable/model_persistence.html#security-maintainability-limitations\n",
      "  warnings.warn(\n",
      "/dipc/dlopez/.conda/envs/VE_torch/lib/python3.9/site-packages/sklearn/base.py:348: InconsistentVersionWarning: Trying to unpickle estimator StandardScaler from version 1.0 when using version 1.3.2. This might lead to breaking code or invalid results. Use at your own risk. For more info please refer to:\n",
      "https://scikit-learn.org/stable/model_persistence.html#security-maintainability-limitations\n",
      "  warnings.warn(\n",
      "2024-06-25 16:00:34,450 - INFO - Fingerprint not found. Saved model loading will continue.\n",
      "2024-06-25 16:00:34,451 - INFO - path_and_singleprint metric could not be logged. Saved model loading will continue.\n",
      "/dipc/dlopez/.conda/envs/VE_torch/lib/python3.9/site-packages/sklearn/base.py:348: InconsistentVersionWarning: Trying to unpickle estimator StandardScaler from version 1.0.2 when using version 1.3.2. This might lead to breaking code or invalid results. Use at your own risk. For more info please refer to:\n",
      "https://scikit-learn.org/stable/model_persistence.html#security-maintainability-limitations\n",
      "  warnings.warn(\n"
     ]
    },
    {
     "name": "stdout",
     "output_type": "stream",
     "text": [
      "Linear emulator loaded in memory.\n",
      "Loading no-wiggles emulator...\n",
      "No-wiggles emulator loaded in memory.\n",
      "Loading non-linear emulator...\n"
     ]
    },
    {
     "name": "stderr",
     "output_type": "stream",
     "text": [
      "2024-06-25 16:00:34,625 - INFO - Fingerprint not found. Saved model loading will continue.\n",
      "2024-06-25 16:00:34,626 - INFO - path_and_singleprint metric could not be logged. Saved model loading will continue.\n",
      "/dipc/dlopez/.conda/envs/VE_torch/lib/python3.9/site-packages/sklearn/base.py:348: InconsistentVersionWarning: Trying to unpickle estimator StandardScaler from version 0.22.1 when using version 1.3.2. This might lead to breaking code or invalid results. Use at your own risk. For more info please refer to:\n",
      "https://scikit-learn.org/stable/model_persistence.html#security-maintainability-limitations\n",
      "  warnings.warn(\n",
      "/dipc/dlopez/.conda/envs/VE_torch/lib/python3.9/site-packages/sklearn/base.py:348: InconsistentVersionWarning: Trying to unpickle estimator PCA from version 0.22.1 when using version 1.3.2. This might lead to breaking code or invalid results. Use at your own risk. For more info please refer to:\n",
      "https://scikit-learn.org/stable/model_persistence.html#security-maintainability-limitations\n",
      "  warnings.warn(\n",
      "2024-06-25 16:00:34,805 - INFO - Fingerprint not found. Saved model loading will continue.\n",
      "2024-06-25 16:00:34,806 - INFO - path_and_singleprint metric could not be logged. Saved model loading will continue.\n",
      "/dipc/dlopez/.conda/envs/VE_torch/lib/python3.9/site-packages/sklearn/base.py:348: InconsistentVersionWarning: Trying to unpickle estimator StandardScaler from version 0.23.2 when using version 1.3.2. This might lead to breaking code or invalid results. Use at your own risk. For more info please refer to:\n",
      "https://scikit-learn.org/stable/model_persistence.html#security-maintainability-limitations\n",
      "  warnings.warn(\n",
      "/dipc/dlopez/.conda/envs/VE_torch/lib/python3.9/site-packages/sklearn/base.py:348: InconsistentVersionWarning: Trying to unpickle estimator PCA from version 0.23.2 when using version 1.3.2. This might lead to breaking code or invalid results. Use at your own risk. For more info please refer to:\n",
      "https://scikit-learn.org/stable/model_persistence.html#security-maintainability-limitations\n",
      "  warnings.warn(\n"
     ]
    },
    {
     "name": "stdout",
     "output_type": "stream",
     "text": [
      "Nonlinear emulator loaded in memory.\n",
      "Loading Baryonic Emulator...\n",
      "Baryonic Emulator loaded in memory.\n"
     ]
    },
    {
     "name": "stderr",
     "output_type": "stream",
     "text": [
      "2024-06-25 16:00:35,121 - INFO - Generating baccoemu dataset...\n",
      "2024-06-25 16:00:35,122 - INFO - Generating Latin Hypercube samples...\n",
      "2024-06-25 16:00:35,125 - INFO - Generating power spectrum using baccoemu emulator...\n",
      "2024-06-25 16:00:35,285 - INFO - Fingerprint not found. Saved model loading will continue.\n",
      "2024-06-25 16:00:35,286 - INFO - path_and_singleprint metric could not be logged. Saved model loading will continue.\n"
     ]
    },
    {
     "name": "stdout",
     "output_type": "stream",
     "text": [
      "Loading sigma8 emulator...\n",
      "Sigma8 emulator loaded in memory.\n",
      "Loading linear emulator...\n"
     ]
    },
    {
     "name": "stderr",
     "output_type": "stream",
     "text": [
      "2024-06-25 16:00:35,446 - INFO - Fingerprint not found. Saved model loading will continue.\n",
      "2024-06-25 16:00:35,447 - INFO - path_and_singleprint metric could not be logged. Saved model loading will continue.\n",
      "/dipc/dlopez/.conda/envs/VE_torch/lib/python3.9/site-packages/sklearn/base.py:348: InconsistentVersionWarning: Trying to unpickle estimator PCA from version 1.0 when using version 1.3.2. This might lead to breaking code or invalid results. Use at your own risk. For more info please refer to:\n",
      "https://scikit-learn.org/stable/model_persistence.html#security-maintainability-limitations\n",
      "  warnings.warn(\n",
      "/dipc/dlopez/.conda/envs/VE_torch/lib/python3.9/site-packages/sklearn/base.py:348: InconsistentVersionWarning: Trying to unpickle estimator StandardScaler from version 1.0 when using version 1.3.2. This might lead to breaking code or invalid results. Use at your own risk. For more info please refer to:\n",
      "https://scikit-learn.org/stable/model_persistence.html#security-maintainability-limitations\n",
      "  warnings.warn(\n",
      "2024-06-25 16:00:35,620 - INFO - Fingerprint not found. Saved model loading will continue.\n",
      "2024-06-25 16:00:35,621 - INFO - path_and_singleprint metric could not be logged. Saved model loading will continue.\n",
      "/dipc/dlopez/.conda/envs/VE_torch/lib/python3.9/site-packages/sklearn/base.py:348: InconsistentVersionWarning: Trying to unpickle estimator PCA from version 1.0 when using version 1.3.2. This might lead to breaking code or invalid results. Use at your own risk. For more info please refer to:\n",
      "https://scikit-learn.org/stable/model_persistence.html#security-maintainability-limitations\n",
      "  warnings.warn(\n",
      "/dipc/dlopez/.conda/envs/VE_torch/lib/python3.9/site-packages/sklearn/base.py:348: InconsistentVersionWarning: Trying to unpickle estimator StandardScaler from version 1.0 when using version 1.3.2. This might lead to breaking code or invalid results. Use at your own risk. For more info please refer to:\n",
      "https://scikit-learn.org/stable/model_persistence.html#security-maintainability-limitations\n",
      "  warnings.warn(\n",
      "2024-06-25 16:00:35,814 - INFO - Fingerprint not found. Saved model loading will continue.\n",
      "2024-06-25 16:00:35,815 - INFO - path_and_singleprint metric could not be logged. Saved model loading will continue.\n",
      "/dipc/dlopez/.conda/envs/VE_torch/lib/python3.9/site-packages/sklearn/base.py:348: InconsistentVersionWarning: Trying to unpickle estimator StandardScaler from version 1.0.2 when using version 1.3.2. This might lead to breaking code or invalid results. Use at your own risk. For more info please refer to:\n",
      "https://scikit-learn.org/stable/model_persistence.html#security-maintainability-limitations\n",
      "  warnings.warn(\n"
     ]
    },
    {
     "name": "stdout",
     "output_type": "stream",
     "text": [
      "Linear emulator loaded in memory.\n",
      "Loading no-wiggles emulator...\n",
      "No-wiggles emulator loaded in memory.\n",
      "Loading non-linear emulator...\n"
     ]
    },
    {
     "name": "stderr",
     "output_type": "stream",
     "text": [
      "2024-06-25 16:00:35,993 - INFO - Fingerprint not found. Saved model loading will continue.\n",
      "2024-06-25 16:00:35,994 - INFO - path_and_singleprint metric could not be logged. Saved model loading will continue.\n",
      "/dipc/dlopez/.conda/envs/VE_torch/lib/python3.9/site-packages/sklearn/base.py:348: InconsistentVersionWarning: Trying to unpickle estimator StandardScaler from version 0.22.1 when using version 1.3.2. This might lead to breaking code or invalid results. Use at your own risk. For more info please refer to:\n",
      "https://scikit-learn.org/stable/model_persistence.html#security-maintainability-limitations\n",
      "  warnings.warn(\n",
      "/dipc/dlopez/.conda/envs/VE_torch/lib/python3.9/site-packages/sklearn/base.py:348: InconsistentVersionWarning: Trying to unpickle estimator PCA from version 0.22.1 when using version 1.3.2. This might lead to breaking code or invalid results. Use at your own risk. For more info please refer to:\n",
      "https://scikit-learn.org/stable/model_persistence.html#security-maintainability-limitations\n",
      "  warnings.warn(\n",
      "2024-06-25 16:00:36,176 - INFO - Fingerprint not found. Saved model loading will continue.\n",
      "2024-06-25 16:00:36,177 - INFO - path_and_singleprint metric could not be logged. Saved model loading will continue.\n",
      "/dipc/dlopez/.conda/envs/VE_torch/lib/python3.9/site-packages/sklearn/base.py:348: InconsistentVersionWarning: Trying to unpickle estimator StandardScaler from version 0.23.2 when using version 1.3.2. This might lead to breaking code or invalid results. Use at your own risk. For more info please refer to:\n",
      "https://scikit-learn.org/stable/model_persistence.html#security-maintainability-limitations\n",
      "  warnings.warn(\n",
      "/dipc/dlopez/.conda/envs/VE_torch/lib/python3.9/site-packages/sklearn/base.py:348: InconsistentVersionWarning: Trying to unpickle estimator PCA from version 0.23.2 when using version 1.3.2. This might lead to breaking code or invalid results. Use at your own risk. For more info please refer to:\n",
      "https://scikit-learn.org/stable/model_persistence.html#security-maintainability-limitations\n",
      "  warnings.warn(\n"
     ]
    },
    {
     "name": "stdout",
     "output_type": "stream",
     "text": [
      "Nonlinear emulator loaded in memory.\n",
      "Loading Baryonic Emulator...\n",
      "Baryonic Emulator loaded in memory.\n"
     ]
    },
    {
     "name": "stderr",
     "output_type": "stream",
     "text": [
      "2024-06-25 16:00:36,492 - INFO - Generating baccoemu dataset...\n",
      "2024-06-25 16:00:36,494 - INFO - Generating Latin Hypercube samples...\n",
      "2024-06-25 16:00:36,497 - INFO - Generating power spectrum using baccoemu emulator...\n",
      "2024-06-25 16:00:36,667 - INFO - Fingerprint not found. Saved model loading will continue.\n",
      "2024-06-25 16:00:36,668 - INFO - path_and_singleprint metric could not be logged. Saved model loading will continue.\n"
     ]
    },
    {
     "name": "stdout",
     "output_type": "stream",
     "text": [
      "Loading sigma8 emulator...\n",
      "Sigma8 emulator loaded in memory.\n",
      "Loading linear emulator...\n"
     ]
    },
    {
     "name": "stderr",
     "output_type": "stream",
     "text": [
      "2024-06-25 16:00:36,833 - INFO - Fingerprint not found. Saved model loading will continue.\n",
      "2024-06-25 16:00:36,834 - INFO - path_and_singleprint metric could not be logged. Saved model loading will continue.\n",
      "/dipc/dlopez/.conda/envs/VE_torch/lib/python3.9/site-packages/sklearn/base.py:348: InconsistentVersionWarning: Trying to unpickle estimator PCA from version 1.0 when using version 1.3.2. This might lead to breaking code or invalid results. Use at your own risk. For more info please refer to:\n",
      "https://scikit-learn.org/stable/model_persistence.html#security-maintainability-limitations\n",
      "  warnings.warn(\n",
      "/dipc/dlopez/.conda/envs/VE_torch/lib/python3.9/site-packages/sklearn/base.py:348: InconsistentVersionWarning: Trying to unpickle estimator StandardScaler from version 1.0 when using version 1.3.2. This might lead to breaking code or invalid results. Use at your own risk. For more info please refer to:\n",
      "https://scikit-learn.org/stable/model_persistence.html#security-maintainability-limitations\n",
      "  warnings.warn(\n",
      "2024-06-25 16:00:37,000 - INFO - Fingerprint not found. Saved model loading will continue.\n",
      "2024-06-25 16:00:37,001 - INFO - path_and_singleprint metric could not be logged. Saved model loading will continue.\n",
      "/dipc/dlopez/.conda/envs/VE_torch/lib/python3.9/site-packages/sklearn/base.py:348: InconsistentVersionWarning: Trying to unpickle estimator PCA from version 1.0 when using version 1.3.2. This might lead to breaking code or invalid results. Use at your own risk. For more info please refer to:\n",
      "https://scikit-learn.org/stable/model_persistence.html#security-maintainability-limitations\n",
      "  warnings.warn(\n",
      "/dipc/dlopez/.conda/envs/VE_torch/lib/python3.9/site-packages/sklearn/base.py:348: InconsistentVersionWarning: Trying to unpickle estimator StandardScaler from version 1.0 when using version 1.3.2. This might lead to breaking code or invalid results. Use at your own risk. For more info please refer to:\n",
      "https://scikit-learn.org/stable/model_persistence.html#security-maintainability-limitations\n",
      "  warnings.warn(\n",
      "2024-06-25 16:00:37,194 - INFO - Fingerprint not found. Saved model loading will continue.\n",
      "2024-06-25 16:00:37,195 - INFO - path_and_singleprint metric could not be logged. Saved model loading will continue.\n",
      "/dipc/dlopez/.conda/envs/VE_torch/lib/python3.9/site-packages/sklearn/base.py:348: InconsistentVersionWarning: Trying to unpickle estimator StandardScaler from version 1.0.2 when using version 1.3.2. This might lead to breaking code or invalid results. Use at your own risk. For more info please refer to:\n",
      "https://scikit-learn.org/stable/model_persistence.html#security-maintainability-limitations\n",
      "  warnings.warn(\n"
     ]
    },
    {
     "name": "stdout",
     "output_type": "stream",
     "text": [
      "Linear emulator loaded in memory.\n",
      "Loading no-wiggles emulator...\n",
      "No-wiggles emulator loaded in memory.\n",
      "Loading non-linear emulator...\n"
     ]
    },
    {
     "name": "stderr",
     "output_type": "stream",
     "text": [
      "2024-06-25 16:00:38,061 - INFO - Fingerprint not found. Saved model loading will continue.\n",
      "2024-06-25 16:00:38,062 - INFO - path_and_singleprint metric could not be logged. Saved model loading will continue.\n",
      "/dipc/dlopez/.conda/envs/VE_torch/lib/python3.9/site-packages/sklearn/base.py:348: InconsistentVersionWarning: Trying to unpickle estimator StandardScaler from version 0.22.1 when using version 1.3.2. This might lead to breaking code or invalid results. Use at your own risk. For more info please refer to:\n",
      "https://scikit-learn.org/stable/model_persistence.html#security-maintainability-limitations\n",
      "  warnings.warn(\n",
      "/dipc/dlopez/.conda/envs/VE_torch/lib/python3.9/site-packages/sklearn/base.py:348: InconsistentVersionWarning: Trying to unpickle estimator PCA from version 0.22.1 when using version 1.3.2. This might lead to breaking code or invalid results. Use at your own risk. For more info please refer to:\n",
      "https://scikit-learn.org/stable/model_persistence.html#security-maintainability-limitations\n",
      "  warnings.warn(\n",
      "2024-06-25 16:00:38,255 - INFO - Fingerprint not found. Saved model loading will continue.\n",
      "2024-06-25 16:00:38,256 - INFO - path_and_singleprint metric could not be logged. Saved model loading will continue.\n",
      "/dipc/dlopez/.conda/envs/VE_torch/lib/python3.9/site-packages/sklearn/base.py:348: InconsistentVersionWarning: Trying to unpickle estimator StandardScaler from version 0.23.2 when using version 1.3.2. This might lead to breaking code or invalid results. Use at your own risk. For more info please refer to:\n",
      "https://scikit-learn.org/stable/model_persistence.html#security-maintainability-limitations\n",
      "  warnings.warn(\n",
      "/dipc/dlopez/.conda/envs/VE_torch/lib/python3.9/site-packages/sklearn/base.py:348: InconsistentVersionWarning: Trying to unpickle estimator PCA from version 0.23.2 when using version 1.3.2. This might lead to breaking code or invalid results. Use at your own risk. For more info please refer to:\n",
      "https://scikit-learn.org/stable/model_persistence.html#security-maintainability-limitations\n",
      "  warnings.warn(\n"
     ]
    },
    {
     "name": "stdout",
     "output_type": "stream",
     "text": [
      "Nonlinear emulator loaded in memory.\n",
      "Loading Baryonic Emulator...\n",
      "Baryonic Emulator loaded in memory.\n"
     ]
    },
    {
     "name": "stderr",
     "output_type": "stream",
     "text": [
      "2024-06-25 16:00:38,565 - INFO - Generating baccoemu dataset...\n",
      "2024-06-25 16:00:38,567 - INFO - Generating Latin Hypercube samples...\n",
      "2024-06-25 16:00:38,569 - INFO - Generating power spectrum using baccoemu emulator...\n",
      "2024-06-25 16:00:38,737 - INFO - Fingerprint not found. Saved model loading will continue.\n",
      "2024-06-25 16:00:38,739 - INFO - path_and_singleprint metric could not be logged. Saved model loading will continue.\n"
     ]
    },
    {
     "name": "stdout",
     "output_type": "stream",
     "text": [
      "Loading sigma8 emulator...\n"
     ]
    },
    {
     "name": "stderr",
     "output_type": "stream",
     "text": [
      "2024-06-25 16:00:38,912 - INFO - Fingerprint not found. Saved model loading will continue.\n",
      "2024-06-25 16:00:38,914 - INFO - path_and_singleprint metric could not be logged. Saved model loading will continue.\n"
     ]
    },
    {
     "name": "stdout",
     "output_type": "stream",
     "text": [
      "Sigma8 emulator loaded in memory.\n",
      "Loading linear emulator...\n"
     ]
    },
    {
     "name": "stderr",
     "output_type": "stream",
     "text": [
      "/dipc/dlopez/.conda/envs/VE_torch/lib/python3.9/site-packages/sklearn/base.py:348: InconsistentVersionWarning: Trying to unpickle estimator PCA from version 1.0 when using version 1.3.2. This might lead to breaking code or invalid results. Use at your own risk. For more info please refer to:\n",
      "https://scikit-learn.org/stable/model_persistence.html#security-maintainability-limitations\n",
      "  warnings.warn(\n",
      "/dipc/dlopez/.conda/envs/VE_torch/lib/python3.9/site-packages/sklearn/base.py:348: InconsistentVersionWarning: Trying to unpickle estimator StandardScaler from version 1.0 when using version 1.3.2. This might lead to breaking code or invalid results. Use at your own risk. For more info please refer to:\n",
      "https://scikit-learn.org/stable/model_persistence.html#security-maintainability-limitations\n",
      "  warnings.warn(\n",
      "2024-06-25 16:00:39,075 - INFO - Fingerprint not found. Saved model loading will continue.\n",
      "2024-06-25 16:00:39,076 - INFO - path_and_singleprint metric could not be logged. Saved model loading will continue.\n",
      "/dipc/dlopez/.conda/envs/VE_torch/lib/python3.9/site-packages/sklearn/base.py:348: InconsistentVersionWarning: Trying to unpickle estimator PCA from version 1.0 when using version 1.3.2. This might lead to breaking code or invalid results. Use at your own risk. For more info please refer to:\n",
      "https://scikit-learn.org/stable/model_persistence.html#security-maintainability-limitations\n",
      "  warnings.warn(\n",
      "/dipc/dlopez/.conda/envs/VE_torch/lib/python3.9/site-packages/sklearn/base.py:348: InconsistentVersionWarning: Trying to unpickle estimator StandardScaler from version 1.0 when using version 1.3.2. This might lead to breaking code or invalid results. Use at your own risk. For more info please refer to:\n",
      "https://scikit-learn.org/stable/model_persistence.html#security-maintainability-limitations\n",
      "  warnings.warn(\n",
      "2024-06-25 16:00:39,263 - INFO - Fingerprint not found. Saved model loading will continue.\n",
      "2024-06-25 16:00:39,264 - INFO - path_and_singleprint metric could not be logged. Saved model loading will continue.\n",
      "/dipc/dlopez/.conda/envs/VE_torch/lib/python3.9/site-packages/sklearn/base.py:348: InconsistentVersionWarning: Trying to unpickle estimator StandardScaler from version 1.0.2 when using version 1.3.2. This might lead to breaking code or invalid results. Use at your own risk. For more info please refer to:\n",
      "https://scikit-learn.org/stable/model_persistence.html#security-maintainability-limitations\n",
      "  warnings.warn(\n"
     ]
    },
    {
     "name": "stdout",
     "output_type": "stream",
     "text": [
      "Linear emulator loaded in memory.\n",
      "Loading no-wiggles emulator...\n",
      "No-wiggles emulator loaded in memory.\n",
      "Loading non-linear emulator...\n"
     ]
    },
    {
     "name": "stderr",
     "output_type": "stream",
     "text": [
      "2024-06-25 16:00:39,435 - INFO - Fingerprint not found. Saved model loading will continue.\n",
      "2024-06-25 16:00:39,437 - INFO - path_and_singleprint metric could not be logged. Saved model loading will continue.\n",
      "/dipc/dlopez/.conda/envs/VE_torch/lib/python3.9/site-packages/sklearn/base.py:348: InconsistentVersionWarning: Trying to unpickle estimator StandardScaler from version 0.22.1 when using version 1.3.2. This might lead to breaking code or invalid results. Use at your own risk. For more info please refer to:\n",
      "https://scikit-learn.org/stable/model_persistence.html#security-maintainability-limitations\n",
      "  warnings.warn(\n",
      "/dipc/dlopez/.conda/envs/VE_torch/lib/python3.9/site-packages/sklearn/base.py:348: InconsistentVersionWarning: Trying to unpickle estimator PCA from version 0.22.1 when using version 1.3.2. This might lead to breaking code or invalid results. Use at your own risk. For more info please refer to:\n",
      "https://scikit-learn.org/stable/model_persistence.html#security-maintainability-limitations\n",
      "  warnings.warn(\n",
      "2024-06-25 16:00:39,601 - INFO - Fingerprint not found. Saved model loading will continue.\n",
      "2024-06-25 16:00:39,603 - INFO - path_and_singleprint metric could not be logged. Saved model loading will continue.\n",
      "/dipc/dlopez/.conda/envs/VE_torch/lib/python3.9/site-packages/sklearn/base.py:348: InconsistentVersionWarning: Trying to unpickle estimator StandardScaler from version 0.23.2 when using version 1.3.2. This might lead to breaking code or invalid results. Use at your own risk. For more info please refer to:\n",
      "https://scikit-learn.org/stable/model_persistence.html#security-maintainability-limitations\n",
      "  warnings.warn(\n",
      "/dipc/dlopez/.conda/envs/VE_torch/lib/python3.9/site-packages/sklearn/base.py:348: InconsistentVersionWarning: Trying to unpickle estimator PCA from version 0.23.2 when using version 1.3.2. This might lead to breaking code or invalid results. Use at your own risk. For more info please refer to:\n",
      "https://scikit-learn.org/stable/model_persistence.html#security-maintainability-limitations\n",
      "  warnings.warn(\n"
     ]
    },
    {
     "name": "stdout",
     "output_type": "stream",
     "text": [
      "Nonlinear emulator loaded in memory.\n",
      "Loading Baryonic Emulator...\n",
      "Baryonic Emulator loaded in memory.\n"
     ]
    }
   ],
   "source": [
    "for ii in range(sample_fixed_baryon_models.shape[0]):\n",
    "    model_name = \"Model_fixed_\" + str(ii)\n",
    "    NN_samples_augs = 1\n",
    "    dict_bounds_augs_fixed = dict(\n",
    "        M_c       = sample_fixed_baryon_models[ii,0],\n",
    "        eta       = sample_fixed_baryon_models[ii,1],\n",
    "        beta      = sample_fixed_baryon_models[ii,2],\n",
    "        M1_z0_cen = sample_fixed_baryon_models[ii,3],\n",
    "        theta_out = sample_fixed_baryon_models[ii,4],\n",
    "        theta_inn = sample_fixed_baryon_models[ii,5],\n",
    "        M_inn     = sample_fixed_baryon_models[ii,6],\n",
    "    )\n",
    "    COSMOS[ds_mode][model_name], XX[ds_mode][model_name], AUG_PARAMS[ds_mode][model_name], EXTENDED_AUG_PARAMS[ds_mode][model_name] = cl_inference.preprocessing_tools.generate_baccoemu_dataset(\n",
    "        NN_samples_cosmo  = NN_samples_cosmo_val,\n",
    "        NN_samples_augs   = NN_samples_augs,\n",
    "        dict_bounds_cosmo = dict_bounds_cosmo_val,\n",
    "        dict_bounds_augs  = dict_bounds_augs_fixed,\n",
    "        seed              = seed_val,\n",
    "        path_save         = path_save,\n",
    "        model_name        = model_name,\n",
    "        kmax              = kmax, box=box, factor_kmin_cut=factor_kmin_cut\n",
    "    )"
   ]
  },
  {
   "cell_type": "markdown",
   "id": "26f6ea2e",
   "metadata": {},
   "source": [
    "# Generate test set"
   ]
  },
  {
   "cell_type": "code",
   "execution_count": 35,
   "id": "a9fce12b",
   "metadata": {},
   "outputs": [],
   "source": [
    "ds_mode = 'TEST'\n",
    "COSMOS[ds_mode] = {}\n",
    "XX[ds_mode] = {}\n",
    "AUG_PARAMS[ds_mode] = {}\n",
    "EXTENDED_AUG_PARAMS[ds_mode] = {}\n",
    "\n",
    "path_save = os.path.join(path_save_root, ds_mode)"
   ]
  },
  {
   "cell_type": "code",
   "execution_count": 36,
   "id": "c49ae5af",
   "metadata": {
    "scrolled": true
   },
   "outputs": [
    {
     "name": "stderr",
     "output_type": "stream",
     "text": [
      "2024-06-25 16:00:39,982 - INFO - Generating baccoemu dataset...\n",
      "2024-06-25 16:00:39,983 - INFO - Generating Latin Hypercube samples...\n",
      "2024-06-25 16:00:39,986 - INFO - Generating Latin Hypercube samples...\n",
      "2024-06-25 16:00:39,994 - INFO - Generating power spectrum using baccoemu emulator...\n",
      "2024-06-25 16:00:40,164 - INFO - Fingerprint not found. Saved model loading will continue.\n",
      "2024-06-25 16:00:40,165 - INFO - path_and_singleprint metric could not be logged. Saved model loading will continue.\n"
     ]
    },
    {
     "name": "stdout",
     "output_type": "stream",
     "text": [
      "Loading sigma8 emulator...\n",
      "Sigma8 emulator loaded in memory.\n",
      "Loading linear emulator...\n"
     ]
    },
    {
     "name": "stderr",
     "output_type": "stream",
     "text": [
      "2024-06-25 16:00:40,320 - INFO - Fingerprint not found. Saved model loading will continue.\n",
      "2024-06-25 16:00:40,321 - INFO - path_and_singleprint metric could not be logged. Saved model loading will continue.\n",
      "/dipc/dlopez/.conda/envs/VE_torch/lib/python3.9/site-packages/sklearn/base.py:348: InconsistentVersionWarning: Trying to unpickle estimator PCA from version 1.0 when using version 1.3.2. This might lead to breaking code or invalid results. Use at your own risk. For more info please refer to:\n",
      "https://scikit-learn.org/stable/model_persistence.html#security-maintainability-limitations\n",
      "  warnings.warn(\n",
      "/dipc/dlopez/.conda/envs/VE_torch/lib/python3.9/site-packages/sklearn/base.py:348: InconsistentVersionWarning: Trying to unpickle estimator StandardScaler from version 1.0 when using version 1.3.2. This might lead to breaking code or invalid results. Use at your own risk. For more info please refer to:\n",
      "https://scikit-learn.org/stable/model_persistence.html#security-maintainability-limitations\n",
      "  warnings.warn(\n",
      "2024-06-25 16:00:40,472 - INFO - Fingerprint not found. Saved model loading will continue.\n",
      "2024-06-25 16:00:40,473 - INFO - path_and_singleprint metric could not be logged. Saved model loading will continue.\n",
      "/dipc/dlopez/.conda/envs/VE_torch/lib/python3.9/site-packages/sklearn/base.py:348: InconsistentVersionWarning: Trying to unpickle estimator PCA from version 1.0 when using version 1.3.2. This might lead to breaking code or invalid results. Use at your own risk. For more info please refer to:\n",
      "https://scikit-learn.org/stable/model_persistence.html#security-maintainability-limitations\n",
      "  warnings.warn(\n",
      "/dipc/dlopez/.conda/envs/VE_torch/lib/python3.9/site-packages/sklearn/base.py:348: InconsistentVersionWarning: Trying to unpickle estimator StandardScaler from version 1.0 when using version 1.3.2. This might lead to breaking code or invalid results. Use at your own risk. For more info please refer to:\n",
      "https://scikit-learn.org/stable/model_persistence.html#security-maintainability-limitations\n",
      "  warnings.warn(\n",
      "2024-06-25 16:00:40,654 - INFO - Fingerprint not found. Saved model loading will continue.\n",
      "2024-06-25 16:00:40,655 - INFO - path_and_singleprint metric could not be logged. Saved model loading will continue.\n",
      "/dipc/dlopez/.conda/envs/VE_torch/lib/python3.9/site-packages/sklearn/base.py:348: InconsistentVersionWarning: Trying to unpickle estimator StandardScaler from version 1.0.2 when using version 1.3.2. This might lead to breaking code or invalid results. Use at your own risk. For more info please refer to:\n",
      "https://scikit-learn.org/stable/model_persistence.html#security-maintainability-limitations\n",
      "  warnings.warn(\n"
     ]
    },
    {
     "name": "stdout",
     "output_type": "stream",
     "text": [
      "Linear emulator loaded in memory.\n",
      "Loading no-wiggles emulator...\n",
      "No-wiggles emulator loaded in memory.\n",
      "Loading non-linear emulator...\n"
     ]
    },
    {
     "name": "stderr",
     "output_type": "stream",
     "text": [
      "2024-06-25 16:00:40,826 - INFO - Fingerprint not found. Saved model loading will continue.\n",
      "2024-06-25 16:00:40,827 - INFO - path_and_singleprint metric could not be logged. Saved model loading will continue.\n",
      "/dipc/dlopez/.conda/envs/VE_torch/lib/python3.9/site-packages/sklearn/base.py:348: InconsistentVersionWarning: Trying to unpickle estimator StandardScaler from version 0.22.1 when using version 1.3.2. This might lead to breaking code or invalid results. Use at your own risk. For more info please refer to:\n",
      "https://scikit-learn.org/stable/model_persistence.html#security-maintainability-limitations\n",
      "  warnings.warn(\n",
      "/dipc/dlopez/.conda/envs/VE_torch/lib/python3.9/site-packages/sklearn/base.py:348: InconsistentVersionWarning: Trying to unpickle estimator PCA from version 0.22.1 when using version 1.3.2. This might lead to breaking code or invalid results. Use at your own risk. For more info please refer to:\n",
      "https://scikit-learn.org/stable/model_persistence.html#security-maintainability-limitations\n",
      "  warnings.warn(\n",
      "2024-06-25 16:00:40,981 - INFO - Fingerprint not found. Saved model loading will continue.\n",
      "2024-06-25 16:00:40,983 - INFO - path_and_singleprint metric could not be logged. Saved model loading will continue.\n",
      "/dipc/dlopez/.conda/envs/VE_torch/lib/python3.9/site-packages/sklearn/base.py:348: InconsistentVersionWarning: Trying to unpickle estimator StandardScaler from version 0.23.2 when using version 1.3.2. This might lead to breaking code or invalid results. Use at your own risk. For more info please refer to:\n",
      "https://scikit-learn.org/stable/model_persistence.html#security-maintainability-limitations\n",
      "  warnings.warn(\n",
      "/dipc/dlopez/.conda/envs/VE_torch/lib/python3.9/site-packages/sklearn/base.py:348: InconsistentVersionWarning: Trying to unpickle estimator PCA from version 0.23.2 when using version 1.3.2. This might lead to breaking code or invalid results. Use at your own risk. For more info please refer to:\n",
      "https://scikit-learn.org/stable/model_persistence.html#security-maintainability-limitations\n",
      "  warnings.warn(\n"
     ]
    },
    {
     "name": "stdout",
     "output_type": "stream",
     "text": [
      "Nonlinear emulator loaded in memory.\n",
      "Loading Baryonic Emulator...\n",
      "Baryonic Emulator loaded in memory.\n"
     ]
    }
   ],
   "source": [
    "model_name = \"Model_fixed_nl\"\n",
    "mode_baccoemu = \"nonlinear\"\n",
    "NN_samples_augs = 1\n",
    "COSMOS[ds_mode][model_name], XX[ds_mode][model_name], AUG_PARAMS[ds_mode][model_name], EXTENDED_AUG_PARAMS[ds_mode][model_name] = cl_inference.preprocessing_tools.generate_baccoemu_dataset(\n",
    "    NN_samples_cosmo  = NN_samples_cosmo_test,\n",
    "    NN_samples_augs   = NN_samples_augs,\n",
    "    dict_bounds_cosmo = dict_bounds_cosmo_test,\n",
    "    seed              = seed_test,\n",
    "    path_save         = path_save,\n",
    "    model_name        = model_name,\n",
    "    mode_baccoemu     = mode_baccoemu,\n",
    "    kmax              = kmax, box=box, factor_kmin_cut=factor_kmin_cut\n",
    ")"
   ]
  },
  {
   "cell_type": "code",
   "execution_count": 37,
   "id": "1ed5df6a",
   "metadata": {
    "scrolled": true
   },
   "outputs": [
    {
     "name": "stderr",
     "output_type": "stream",
     "text": [
      "2024-06-25 16:00:41,255 - INFO - Generating baccoemu dataset...\n",
      "2024-06-25 16:00:41,257 - INFO - Generating Latin Hypercube samples...\n",
      "2024-06-25 16:00:41,260 - INFO - Generating Latin Hypercube samples...\n",
      "2024-06-25 16:00:41,312 - INFO - Generating power spectrum using baccoemu emulator...\n",
      "2024-06-25 16:00:41,470 - INFO - Fingerprint not found. Saved model loading will continue.\n",
      "2024-06-25 16:00:41,472 - INFO - path_and_singleprint metric could not be logged. Saved model loading will continue.\n"
     ]
    },
    {
     "name": "stdout",
     "output_type": "stream",
     "text": [
      "Loading sigma8 emulator...\n",
      "Sigma8 emulator loaded in memory.\n",
      "Loading linear emulator...\n"
     ]
    },
    {
     "name": "stderr",
     "output_type": "stream",
     "text": [
      "2024-06-25 16:00:41,618 - INFO - Fingerprint not found. Saved model loading will continue.\n",
      "2024-06-25 16:00:41,619 - INFO - path_and_singleprint metric could not be logged. Saved model loading will continue.\n",
      "/dipc/dlopez/.conda/envs/VE_torch/lib/python3.9/site-packages/sklearn/base.py:348: InconsistentVersionWarning: Trying to unpickle estimator PCA from version 1.0 when using version 1.3.2. This might lead to breaking code or invalid results. Use at your own risk. For more info please refer to:\n",
      "https://scikit-learn.org/stable/model_persistence.html#security-maintainability-limitations\n",
      "  warnings.warn(\n",
      "/dipc/dlopez/.conda/envs/VE_torch/lib/python3.9/site-packages/sklearn/base.py:348: InconsistentVersionWarning: Trying to unpickle estimator StandardScaler from version 1.0 when using version 1.3.2. This might lead to breaking code or invalid results. Use at your own risk. For more info please refer to:\n",
      "https://scikit-learn.org/stable/model_persistence.html#security-maintainability-limitations\n",
      "  warnings.warn(\n",
      "2024-06-25 16:00:41,767 - INFO - Fingerprint not found. Saved model loading will continue.\n",
      "2024-06-25 16:00:41,768 - INFO - path_and_singleprint metric could not be logged. Saved model loading will continue.\n",
      "/dipc/dlopez/.conda/envs/VE_torch/lib/python3.9/site-packages/sklearn/base.py:348: InconsistentVersionWarning: Trying to unpickle estimator PCA from version 1.0 when using version 1.3.2. This might lead to breaking code or invalid results. Use at your own risk. For more info please refer to:\n",
      "https://scikit-learn.org/stable/model_persistence.html#security-maintainability-limitations\n",
      "  warnings.warn(\n",
      "/dipc/dlopez/.conda/envs/VE_torch/lib/python3.9/site-packages/sklearn/base.py:348: InconsistentVersionWarning: Trying to unpickle estimator StandardScaler from version 1.0 when using version 1.3.2. This might lead to breaking code or invalid results. Use at your own risk. For more info please refer to:\n",
      "https://scikit-learn.org/stable/model_persistence.html#security-maintainability-limitations\n",
      "  warnings.warn(\n"
     ]
    },
    {
     "name": "stdout",
     "output_type": "stream",
     "text": [
      "Linear emulator loaded in memory.\n",
      "Loading no-wiggles emulator...\n"
     ]
    },
    {
     "name": "stderr",
     "output_type": "stream",
     "text": [
      "2024-06-25 16:00:42,504 - INFO - Fingerprint not found. Saved model loading will continue.\n",
      "2024-06-25 16:00:42,506 - INFO - path_and_singleprint metric could not be logged. Saved model loading will continue.\n",
      "/dipc/dlopez/.conda/envs/VE_torch/lib/python3.9/site-packages/sklearn/base.py:348: InconsistentVersionWarning: Trying to unpickle estimator StandardScaler from version 1.0.2 when using version 1.3.2. This might lead to breaking code or invalid results. Use at your own risk. For more info please refer to:\n",
      "https://scikit-learn.org/stable/model_persistence.html#security-maintainability-limitations\n",
      "  warnings.warn(\n",
      "2024-06-25 16:00:42,676 - INFO - Fingerprint not found. Saved model loading will continue.\n",
      "2024-06-25 16:00:42,677 - INFO - path_and_singleprint metric could not be logged. Saved model loading will continue.\n",
      "/dipc/dlopez/.conda/envs/VE_torch/lib/python3.9/site-packages/sklearn/base.py:348: InconsistentVersionWarning: Trying to unpickle estimator StandardScaler from version 0.22.1 when using version 1.3.2. This might lead to breaking code or invalid results. Use at your own risk. For more info please refer to:\n",
      "https://scikit-learn.org/stable/model_persistence.html#security-maintainability-limitations\n",
      "  warnings.warn(\n",
      "/dipc/dlopez/.conda/envs/VE_torch/lib/python3.9/site-packages/sklearn/base.py:348: InconsistentVersionWarning: Trying to unpickle estimator PCA from version 0.22.1 when using version 1.3.2. This might lead to breaking code or invalid results. Use at your own risk. For more info please refer to:\n",
      "https://scikit-learn.org/stable/model_persistence.html#security-maintainability-limitations\n",
      "  warnings.warn(\n"
     ]
    },
    {
     "name": "stdout",
     "output_type": "stream",
     "text": [
      "No-wiggles emulator loaded in memory.\n",
      "Loading non-linear emulator...\n",
      "Nonlinear emulator loaded in memory.\n",
      "Loading Baryonic Emulator...\n"
     ]
    },
    {
     "name": "stderr",
     "output_type": "stream",
     "text": [
      "2024-06-25 16:00:42,857 - INFO - Fingerprint not found. Saved model loading will continue.\n",
      "2024-06-25 16:00:42,859 - INFO - path_and_singleprint metric could not be logged. Saved model loading will continue.\n",
      "/dipc/dlopez/.conda/envs/VE_torch/lib/python3.9/site-packages/sklearn/base.py:348: InconsistentVersionWarning: Trying to unpickle estimator StandardScaler from version 0.23.2 when using version 1.3.2. This might lead to breaking code or invalid results. Use at your own risk. For more info please refer to:\n",
      "https://scikit-learn.org/stable/model_persistence.html#security-maintainability-limitations\n",
      "  warnings.warn(\n",
      "/dipc/dlopez/.conda/envs/VE_torch/lib/python3.9/site-packages/sklearn/base.py:348: InconsistentVersionWarning: Trying to unpickle estimator PCA from version 0.23.2 when using version 1.3.2. This might lead to breaking code or invalid results. Use at your own risk. For more info please refer to:\n",
      "https://scikit-learn.org/stable/model_persistence.html#security-maintainability-limitations\n",
      "  warnings.warn(\n"
     ]
    },
    {
     "name": "stdout",
     "output_type": "stream",
     "text": [
      "Baryonic Emulator loaded in memory.\n"
     ]
    }
   ],
   "source": [
    "model_name = \"Model_vary_all\"\n",
    "NN_samples_augs = 20\n",
    "COSMOS[ds_mode][model_name], XX[ds_mode][model_name], AUG_PARAMS[ds_mode][model_name], EXTENDED_AUG_PARAMS[ds_mode][model_name] = cl_inference.preprocessing_tools.generate_baccoemu_dataset(\n",
    "    NN_samples_cosmo  = NN_samples_cosmo_test,\n",
    "    NN_samples_augs   = NN_samples_augs,\n",
    "    dict_bounds_cosmo = dict_bounds_cosmo_test,\n",
    "    seed              = seed_test,\n",
    "    path_save         = path_save,\n",
    "    model_name        = model_name,\n",
    "    kmax              = kmax, box=box, factor_kmin_cut=factor_kmin_cut\n",
    ")"
   ]
  },
  {
   "cell_type": "code",
   "execution_count": 38,
   "id": "2963a306",
   "metadata": {
    "scrolled": true
   },
   "outputs": [
    {
     "name": "stderr",
     "output_type": "stream",
     "text": [
      "2024-06-25 16:00:52,838 - INFO - Generating baccoemu dataset...\n",
      "2024-06-25 16:00:52,840 - INFO - Generating Latin Hypercube samples...\n",
      "2024-06-25 16:00:52,842 - INFO - Generating power spectrum using baccoemu emulator...\n",
      "2024-06-25 16:00:53,023 - INFO - Fingerprint not found. Saved model loading will continue.\n",
      "2024-06-25 16:00:53,024 - INFO - path_and_singleprint metric could not be logged. Saved model loading will continue.\n"
     ]
    },
    {
     "name": "stdout",
     "output_type": "stream",
     "text": [
      "Loading sigma8 emulator...\n"
     ]
    },
    {
     "name": "stderr",
     "output_type": "stream",
     "text": [
      "2024-06-25 16:00:53,183 - INFO - Fingerprint not found. Saved model loading will continue.\n",
      "2024-06-25 16:00:53,184 - INFO - path_and_singleprint metric could not be logged. Saved model loading will continue.\n",
      "/dipc/dlopez/.conda/envs/VE_torch/lib/python3.9/site-packages/sklearn/base.py:348: InconsistentVersionWarning: Trying to unpickle estimator PCA from version 1.0 when using version 1.3.2. This might lead to breaking code or invalid results. Use at your own risk. For more info please refer to:\n",
      "https://scikit-learn.org/stable/model_persistence.html#security-maintainability-limitations\n",
      "  warnings.warn(\n",
      "/dipc/dlopez/.conda/envs/VE_torch/lib/python3.9/site-packages/sklearn/base.py:348: InconsistentVersionWarning: Trying to unpickle estimator StandardScaler from version 1.0 when using version 1.3.2. This might lead to breaking code or invalid results. Use at your own risk. For more info please refer to:\n",
      "https://scikit-learn.org/stable/model_persistence.html#security-maintainability-limitations\n",
      "  warnings.warn(\n"
     ]
    },
    {
     "name": "stdout",
     "output_type": "stream",
     "text": [
      "Sigma8 emulator loaded in memory.\n",
      "Loading linear emulator...\n"
     ]
    },
    {
     "name": "stderr",
     "output_type": "stream",
     "text": [
      "2024-06-25 16:00:53,358 - INFO - Fingerprint not found. Saved model loading will continue.\n",
      "2024-06-25 16:00:53,360 - INFO - path_and_singleprint metric could not be logged. Saved model loading will continue.\n",
      "/dipc/dlopez/.conda/envs/VE_torch/lib/python3.9/site-packages/sklearn/base.py:348: InconsistentVersionWarning: Trying to unpickle estimator PCA from version 1.0 when using version 1.3.2. This might lead to breaking code or invalid results. Use at your own risk. For more info please refer to:\n",
      "https://scikit-learn.org/stable/model_persistence.html#security-maintainability-limitations\n",
      "  warnings.warn(\n",
      "/dipc/dlopez/.conda/envs/VE_torch/lib/python3.9/site-packages/sklearn/base.py:348: InconsistentVersionWarning: Trying to unpickle estimator StandardScaler from version 1.0 when using version 1.3.2. This might lead to breaking code or invalid results. Use at your own risk. For more info please refer to:\n",
      "https://scikit-learn.org/stable/model_persistence.html#security-maintainability-limitations\n",
      "  warnings.warn(\n",
      "2024-06-25 16:00:53,538 - INFO - Fingerprint not found. Saved model loading will continue.\n",
      "2024-06-25 16:00:53,539 - INFO - path_and_singleprint metric could not be logged. Saved model loading will continue.\n",
      "/dipc/dlopez/.conda/envs/VE_torch/lib/python3.9/site-packages/sklearn/base.py:348: InconsistentVersionWarning: Trying to unpickle estimator StandardScaler from version 1.0.2 when using version 1.3.2. This might lead to breaking code or invalid results. Use at your own risk. For more info please refer to:\n",
      "https://scikit-learn.org/stable/model_persistence.html#security-maintainability-limitations\n",
      "  warnings.warn(\n"
     ]
    },
    {
     "name": "stdout",
     "output_type": "stream",
     "text": [
      "Linear emulator loaded in memory.\n",
      "Loading no-wiggles emulator...\n",
      "No-wiggles emulator loaded in memory.\n",
      "Loading non-linear emulator...\n"
     ]
    },
    {
     "name": "stderr",
     "output_type": "stream",
     "text": [
      "2024-06-25 16:00:53,713 - INFO - Fingerprint not found. Saved model loading will continue.\n",
      "2024-06-25 16:00:53,715 - INFO - path_and_singleprint metric could not be logged. Saved model loading will continue.\n",
      "/dipc/dlopez/.conda/envs/VE_torch/lib/python3.9/site-packages/sklearn/base.py:348: InconsistentVersionWarning: Trying to unpickle estimator StandardScaler from version 0.22.1 when using version 1.3.2. This might lead to breaking code or invalid results. Use at your own risk. For more info please refer to:\n",
      "https://scikit-learn.org/stable/model_persistence.html#security-maintainability-limitations\n",
      "  warnings.warn(\n",
      "/dipc/dlopez/.conda/envs/VE_torch/lib/python3.9/site-packages/sklearn/base.py:348: InconsistentVersionWarning: Trying to unpickle estimator PCA from version 0.22.1 when using version 1.3.2. This might lead to breaking code or invalid results. Use at your own risk. For more info please refer to:\n",
      "https://scikit-learn.org/stable/model_persistence.html#security-maintainability-limitations\n",
      "  warnings.warn(\n",
      "2024-06-25 16:00:53,876 - INFO - Fingerprint not found. Saved model loading will continue.\n",
      "2024-06-25 16:00:53,878 - INFO - path_and_singleprint metric could not be logged. Saved model loading will continue.\n",
      "/dipc/dlopez/.conda/envs/VE_torch/lib/python3.9/site-packages/sklearn/base.py:348: InconsistentVersionWarning: Trying to unpickle estimator StandardScaler from version 0.23.2 when using version 1.3.2. This might lead to breaking code or invalid results. Use at your own risk. For more info please refer to:\n",
      "https://scikit-learn.org/stable/model_persistence.html#security-maintainability-limitations\n",
      "  warnings.warn(\n",
      "/dipc/dlopez/.conda/envs/VE_torch/lib/python3.9/site-packages/sklearn/base.py:348: InconsistentVersionWarning: Trying to unpickle estimator PCA from version 0.23.2 when using version 1.3.2. This might lead to breaking code or invalid results. Use at your own risk. For more info please refer to:\n",
      "https://scikit-learn.org/stable/model_persistence.html#security-maintainability-limitations\n",
      "  warnings.warn(\n"
     ]
    },
    {
     "name": "stdout",
     "output_type": "stream",
     "text": [
      "Nonlinear emulator loaded in memory.\n",
      "Loading Baryonic Emulator...\n",
      "Baryonic Emulator loaded in memory.\n"
     ]
    }
   ],
   "source": [
    "hydro_key = 'bahamas'\n",
    "model_name = \"Model_fixed_\"+hydro_key\n",
    "NN_samples_augs = 1\n",
    "COSMOS[ds_mode][model_name], XX[ds_mode][model_name], AUG_PARAMS[ds_mode][model_name], EXTENDED_AUG_PARAMS[ds_mode][model_name] = cl_inference.preprocessing_tools.generate_baccoemu_dataset(\n",
    "    NN_samples_cosmo  = NN_samples_cosmo_test,\n",
    "    NN_samples_augs   = NN_samples_augs,\n",
    "    dict_bounds_cosmo = dict_bounds_cosmo_test,\n",
    "    dict_bounds_augs  = dict_bounds_augs_bahamas,\n",
    "    seed              = seed_test,\n",
    "    path_save         = path_save,\n",
    "    model_name        = model_name,\n",
    "    kmax              = kmax, box=box, factor_kmin_cut=factor_kmin_cut\n",
    ")"
   ]
  },
  {
   "cell_type": "code",
   "execution_count": 39,
   "id": "52b26471",
   "metadata": {
    "scrolled": true
   },
   "outputs": [
    {
     "name": "stderr",
     "output_type": "stream",
     "text": [
      "2024-06-25 16:00:54,178 - INFO - Generating baccoemu dataset...\n",
      "2024-06-25 16:00:54,181 - INFO - Generating Latin Hypercube samples...\n",
      "2024-06-25 16:00:54,183 - INFO - Generating power spectrum using baccoemu emulator...\n",
      "2024-06-25 16:00:54,342 - INFO - Fingerprint not found. Saved model loading will continue.\n",
      "2024-06-25 16:00:54,343 - INFO - path_and_singleprint metric could not be logged. Saved model loading will continue.\n"
     ]
    },
    {
     "name": "stdout",
     "output_type": "stream",
     "text": [
      "Loading sigma8 emulator...\n",
      "Sigma8 emulator loaded in memory.\n",
      "Loading linear emulator...\n"
     ]
    },
    {
     "name": "stderr",
     "output_type": "stream",
     "text": [
      "2024-06-25 16:00:54,493 - INFO - Fingerprint not found. Saved model loading will continue.\n",
      "2024-06-25 16:00:54,495 - INFO - path_and_singleprint metric could not be logged. Saved model loading will continue.\n",
      "/dipc/dlopez/.conda/envs/VE_torch/lib/python3.9/site-packages/sklearn/base.py:348: InconsistentVersionWarning: Trying to unpickle estimator PCA from version 1.0 when using version 1.3.2. This might lead to breaking code or invalid results. Use at your own risk. For more info please refer to:\n",
      "https://scikit-learn.org/stable/model_persistence.html#security-maintainability-limitations\n",
      "  warnings.warn(\n",
      "/dipc/dlopez/.conda/envs/VE_torch/lib/python3.9/site-packages/sklearn/base.py:348: InconsistentVersionWarning: Trying to unpickle estimator StandardScaler from version 1.0 when using version 1.3.2. This might lead to breaking code or invalid results. Use at your own risk. For more info please refer to:\n",
      "https://scikit-learn.org/stable/model_persistence.html#security-maintainability-limitations\n",
      "  warnings.warn(\n",
      "2024-06-25 16:00:54,651 - INFO - Fingerprint not found. Saved model loading will continue.\n",
      "2024-06-25 16:00:54,652 - INFO - path_and_singleprint metric could not be logged. Saved model loading will continue.\n",
      "/dipc/dlopez/.conda/envs/VE_torch/lib/python3.9/site-packages/sklearn/base.py:348: InconsistentVersionWarning: Trying to unpickle estimator PCA from version 1.0 when using version 1.3.2. This might lead to breaking code or invalid results. Use at your own risk. For more info please refer to:\n",
      "https://scikit-learn.org/stable/model_persistence.html#security-maintainability-limitations\n",
      "  warnings.warn(\n",
      "/dipc/dlopez/.conda/envs/VE_torch/lib/python3.9/site-packages/sklearn/base.py:348: InconsistentVersionWarning: Trying to unpickle estimator StandardScaler from version 1.0 when using version 1.3.2. This might lead to breaking code or invalid results. Use at your own risk. For more info please refer to:\n",
      "https://scikit-learn.org/stable/model_persistence.html#security-maintainability-limitations\n",
      "  warnings.warn(\n",
      "2024-06-25 16:00:54,835 - INFO - Fingerprint not found. Saved model loading will continue.\n",
      "2024-06-25 16:00:54,837 - INFO - path_and_singleprint metric could not be logged. Saved model loading will continue.\n",
      "/dipc/dlopez/.conda/envs/VE_torch/lib/python3.9/site-packages/sklearn/base.py:348: InconsistentVersionWarning: Trying to unpickle estimator StandardScaler from version 1.0.2 when using version 1.3.2. This might lead to breaking code or invalid results. Use at your own risk. For more info please refer to:\n",
      "https://scikit-learn.org/stable/model_persistence.html#security-maintainability-limitations\n",
      "  warnings.warn(\n"
     ]
    },
    {
     "name": "stdout",
     "output_type": "stream",
     "text": [
      "Linear emulator loaded in memory.\n",
      "Loading no-wiggles emulator...\n",
      "No-wiggles emulator loaded in memory.\n",
      "Loading non-linear emulator...\n"
     ]
    },
    {
     "name": "stderr",
     "output_type": "stream",
     "text": [
      "2024-06-25 16:00:55,012 - INFO - Fingerprint not found. Saved model loading will continue.\n",
      "2024-06-25 16:00:55,013 - INFO - path_and_singleprint metric could not be logged. Saved model loading will continue.\n",
      "/dipc/dlopez/.conda/envs/VE_torch/lib/python3.9/site-packages/sklearn/base.py:348: InconsistentVersionWarning: Trying to unpickle estimator StandardScaler from version 0.22.1 when using version 1.3.2. This might lead to breaking code or invalid results. Use at your own risk. For more info please refer to:\n",
      "https://scikit-learn.org/stable/model_persistence.html#security-maintainability-limitations\n",
      "  warnings.warn(\n",
      "/dipc/dlopez/.conda/envs/VE_torch/lib/python3.9/site-packages/sklearn/base.py:348: InconsistentVersionWarning: Trying to unpickle estimator PCA from version 0.22.1 when using version 1.3.2. This might lead to breaking code or invalid results. Use at your own risk. For more info please refer to:\n",
      "https://scikit-learn.org/stable/model_persistence.html#security-maintainability-limitations\n",
      "  warnings.warn(\n",
      "2024-06-25 16:00:55,179 - INFO - Fingerprint not found. Saved model loading will continue.\n",
      "2024-06-25 16:00:55,180 - INFO - path_and_singleprint metric could not be logged. Saved model loading will continue.\n",
      "/dipc/dlopez/.conda/envs/VE_torch/lib/python3.9/site-packages/sklearn/base.py:348: InconsistentVersionWarning: Trying to unpickle estimator StandardScaler from version 0.23.2 when using version 1.3.2. This might lead to breaking code or invalid results. Use at your own risk. For more info please refer to:\n",
      "https://scikit-learn.org/stable/model_persistence.html#security-maintainability-limitations\n",
      "  warnings.warn(\n",
      "/dipc/dlopez/.conda/envs/VE_torch/lib/python3.9/site-packages/sklearn/base.py:348: InconsistentVersionWarning: Trying to unpickle estimator PCA from version 0.23.2 when using version 1.3.2. This might lead to breaking code or invalid results. Use at your own risk. For more info please refer to:\n",
      "https://scikit-learn.org/stable/model_persistence.html#security-maintainability-limitations\n",
      "  warnings.warn(\n"
     ]
    },
    {
     "name": "stdout",
     "output_type": "stream",
     "text": [
      "Nonlinear emulator loaded in memory.\n",
      "Loading Baryonic Emulator...\n",
      "Baryonic Emulator loaded in memory.\n"
     ]
    }
   ],
   "source": [
    "hydro_key = 'eagle'\n",
    "model_name = \"Model_fixed_\"+hydro_key\n",
    "NN_samples_augs = 1\n",
    "COSMOS[ds_mode][model_name], XX[ds_mode][model_name], AUG_PARAMS[ds_mode][model_name], EXTENDED_AUG_PARAMS[ds_mode][model_name] = cl_inference.preprocessing_tools.generate_baccoemu_dataset(\n",
    "    NN_samples_cosmo  = NN_samples_cosmo_test,\n",
    "    NN_samples_augs   = NN_samples_augs,\n",
    "    dict_bounds_cosmo = dict_bounds_cosmo_test,\n",
    "    dict_bounds_augs  = dict_bounds_augs_eagle,\n",
    "    seed              = seed_test,\n",
    "    path_save         = path_save,\n",
    "    model_name        = model_name,\n",
    "    kmax              = kmax, box=box, factor_kmin_cut=factor_kmin_cut\n",
    ")"
   ]
  },
  {
   "cell_type": "code",
   "execution_count": 40,
   "id": "1a628c90",
   "metadata": {
    "scrolled": true
   },
   "outputs": [
    {
     "name": "stderr",
     "output_type": "stream",
     "text": [
      "2024-06-25 16:00:55,487 - INFO - Generating baccoemu dataset...\n",
      "2024-06-25 16:00:55,489 - INFO - Generating Latin Hypercube samples...\n",
      "2024-06-25 16:00:55,491 - INFO - Generating power spectrum using baccoemu emulator...\n"
     ]
    },
    {
     "name": "stdout",
     "output_type": "stream",
     "text": [
      "Loading sigma8 emulator...\n"
     ]
    },
    {
     "name": "stderr",
     "output_type": "stream",
     "text": [
      "2024-06-25 16:00:56,297 - INFO - Fingerprint not found. Saved model loading will continue.\n",
      "2024-06-25 16:00:56,299 - INFO - path_and_singleprint metric could not be logged. Saved model loading will continue.\n",
      "2024-06-25 16:00:56,453 - INFO - Fingerprint not found. Saved model loading will continue.\n",
      "2024-06-25 16:00:56,454 - INFO - path_and_singleprint metric could not be logged. Saved model loading will continue.\n",
      "/dipc/dlopez/.conda/envs/VE_torch/lib/python3.9/site-packages/sklearn/base.py:348: InconsistentVersionWarning: Trying to unpickle estimator PCA from version 1.0 when using version 1.3.2. This might lead to breaking code or invalid results. Use at your own risk. For more info please refer to:\n",
      "https://scikit-learn.org/stable/model_persistence.html#security-maintainability-limitations\n",
      "  warnings.warn(\n",
      "/dipc/dlopez/.conda/envs/VE_torch/lib/python3.9/site-packages/sklearn/base.py:348: InconsistentVersionWarning: Trying to unpickle estimator StandardScaler from version 1.0 when using version 1.3.2. This might lead to breaking code or invalid results. Use at your own risk. For more info please refer to:\n",
      "https://scikit-learn.org/stable/model_persistence.html#security-maintainability-limitations\n",
      "  warnings.warn(\n"
     ]
    },
    {
     "name": "stdout",
     "output_type": "stream",
     "text": [
      "Sigma8 emulator loaded in memory.\n",
      "Loading linear emulator...\n"
     ]
    },
    {
     "name": "stderr",
     "output_type": "stream",
     "text": [
      "2024-06-25 16:00:56,610 - INFO - Fingerprint not found. Saved model loading will continue.\n",
      "2024-06-25 16:00:56,611 - INFO - path_and_singleprint metric could not be logged. Saved model loading will continue.\n",
      "/dipc/dlopez/.conda/envs/VE_torch/lib/python3.9/site-packages/sklearn/base.py:348: InconsistentVersionWarning: Trying to unpickle estimator PCA from version 1.0 when using version 1.3.2. This might lead to breaking code or invalid results. Use at your own risk. For more info please refer to:\n",
      "https://scikit-learn.org/stable/model_persistence.html#security-maintainability-limitations\n",
      "  warnings.warn(\n",
      "/dipc/dlopez/.conda/envs/VE_torch/lib/python3.9/site-packages/sklearn/base.py:348: InconsistentVersionWarning: Trying to unpickle estimator StandardScaler from version 1.0 when using version 1.3.2. This might lead to breaking code or invalid results. Use at your own risk. For more info please refer to:\n",
      "https://scikit-learn.org/stable/model_persistence.html#security-maintainability-limitations\n",
      "  warnings.warn(\n",
      "2024-06-25 16:00:56,809 - INFO - Fingerprint not found. Saved model loading will continue.\n",
      "2024-06-25 16:00:56,810 - INFO - path_and_singleprint metric could not be logged. Saved model loading will continue.\n",
      "/dipc/dlopez/.conda/envs/VE_torch/lib/python3.9/site-packages/sklearn/base.py:348: InconsistentVersionWarning: Trying to unpickle estimator StandardScaler from version 1.0.2 when using version 1.3.2. This might lead to breaking code or invalid results. Use at your own risk. For more info please refer to:\n",
      "https://scikit-learn.org/stable/model_persistence.html#security-maintainability-limitations\n",
      "  warnings.warn(\n"
     ]
    },
    {
     "name": "stdout",
     "output_type": "stream",
     "text": [
      "Linear emulator loaded in memory.\n",
      "Loading no-wiggles emulator...\n",
      "No-wiggles emulator loaded in memory.\n",
      "Loading non-linear emulator...\n"
     ]
    },
    {
     "name": "stderr",
     "output_type": "stream",
     "text": [
      "2024-06-25 16:00:56,983 - INFO - Fingerprint not found. Saved model loading will continue.\n",
      "2024-06-25 16:00:56,984 - INFO - path_and_singleprint metric could not be logged. Saved model loading will continue.\n",
      "/dipc/dlopez/.conda/envs/VE_torch/lib/python3.9/site-packages/sklearn/base.py:348: InconsistentVersionWarning: Trying to unpickle estimator StandardScaler from version 0.22.1 when using version 1.3.2. This might lead to breaking code or invalid results. Use at your own risk. For more info please refer to:\n",
      "https://scikit-learn.org/stable/model_persistence.html#security-maintainability-limitations\n",
      "  warnings.warn(\n",
      "/dipc/dlopez/.conda/envs/VE_torch/lib/python3.9/site-packages/sklearn/base.py:348: InconsistentVersionWarning: Trying to unpickle estimator PCA from version 0.22.1 when using version 1.3.2. This might lead to breaking code or invalid results. Use at your own risk. For more info please refer to:\n",
      "https://scikit-learn.org/stable/model_persistence.html#security-maintainability-limitations\n",
      "  warnings.warn(\n",
      "2024-06-25 16:00:57,145 - INFO - Fingerprint not found. Saved model loading will continue.\n",
      "2024-06-25 16:00:57,146 - INFO - path_and_singleprint metric could not be logged. Saved model loading will continue.\n",
      "/dipc/dlopez/.conda/envs/VE_torch/lib/python3.9/site-packages/sklearn/base.py:348: InconsistentVersionWarning: Trying to unpickle estimator StandardScaler from version 0.23.2 when using version 1.3.2. This might lead to breaking code or invalid results. Use at your own risk. For more info please refer to:\n",
      "https://scikit-learn.org/stable/model_persistence.html#security-maintainability-limitations\n",
      "  warnings.warn(\n",
      "/dipc/dlopez/.conda/envs/VE_torch/lib/python3.9/site-packages/sklearn/base.py:348: InconsistentVersionWarning: Trying to unpickle estimator PCA from version 0.23.2 when using version 1.3.2. This might lead to breaking code or invalid results. Use at your own risk. For more info please refer to:\n",
      "https://scikit-learn.org/stable/model_persistence.html#security-maintainability-limitations\n",
      "  warnings.warn(\n"
     ]
    },
    {
     "name": "stdout",
     "output_type": "stream",
     "text": [
      "Nonlinear emulator loaded in memory.\n",
      "Loading Baryonic Emulator...\n",
      "Baryonic Emulator loaded in memory.\n"
     ]
    }
   ],
   "source": [
    "hydro_key = 'illustris'\n",
    "model_name = \"Model_fixed_\"+hydro_key\n",
    "NN_samples_augs = 1\n",
    "COSMOS[ds_mode][model_name], XX[ds_mode][model_name], AUG_PARAMS[ds_mode][model_name], EXTENDED_AUG_PARAMS[ds_mode][model_name] = cl_inference.preprocessing_tools.generate_baccoemu_dataset(\n",
    "    NN_samples_cosmo  = NN_samples_cosmo_test,\n",
    "    NN_samples_augs   = NN_samples_augs,\n",
    "    dict_bounds_cosmo = dict_bounds_cosmo_test,\n",
    "    dict_bounds_augs  = dict_bounds_augs_illustris,\n",
    "    seed              = seed_test,\n",
    "    path_save         = path_save,\n",
    "    model_name        = model_name,\n",
    "    kmax              = kmax, box=box, factor_kmin_cut=factor_kmin_cut\n",
    ")"
   ]
  },
  {
   "cell_type": "code",
   "execution_count": 41,
   "id": "3a80a90b",
   "metadata": {
    "scrolled": true
   },
   "outputs": [
    {
     "name": "stderr",
     "output_type": "stream",
     "text": [
      "2024-06-25 16:00:57,438 - INFO - Generating baccoemu dataset...\n",
      "2024-06-25 16:00:57,440 - INFO - Generating Latin Hypercube samples...\n",
      "2024-06-25 16:00:57,442 - INFO - Generating Latin Hypercube samples...\n",
      "2024-06-25 16:00:57,467 - INFO - Generating power spectrum using baccoemu emulator...\n",
      "2024-06-25 16:00:57,621 - INFO - Fingerprint not found. Saved model loading will continue.\n",
      "2024-06-25 16:00:57,623 - INFO - path_and_singleprint metric could not be logged. Saved model loading will continue.\n"
     ]
    },
    {
     "name": "stdout",
     "output_type": "stream",
     "text": [
      "Loading sigma8 emulator...\n",
      "Sigma8 emulator loaded in memory.\n",
      "Loading linear emulator...\n"
     ]
    },
    {
     "name": "stderr",
     "output_type": "stream",
     "text": [
      "2024-06-25 16:00:57,772 - INFO - Fingerprint not found. Saved model loading will continue.\n",
      "2024-06-25 16:00:57,773 - INFO - path_and_singleprint metric could not be logged. Saved model loading will continue.\n",
      "/dipc/dlopez/.conda/envs/VE_torch/lib/python3.9/site-packages/sklearn/base.py:348: InconsistentVersionWarning: Trying to unpickle estimator PCA from version 1.0 when using version 1.3.2. This might lead to breaking code or invalid results. Use at your own risk. For more info please refer to:\n",
      "https://scikit-learn.org/stable/model_persistence.html#security-maintainability-limitations\n",
      "  warnings.warn(\n",
      "/dipc/dlopez/.conda/envs/VE_torch/lib/python3.9/site-packages/sklearn/base.py:348: InconsistentVersionWarning: Trying to unpickle estimator StandardScaler from version 1.0 when using version 1.3.2. This might lead to breaking code or invalid results. Use at your own risk. For more info please refer to:\n",
      "https://scikit-learn.org/stable/model_persistence.html#security-maintainability-limitations\n",
      "  warnings.warn(\n",
      "2024-06-25 16:00:57,924 - INFO - Fingerprint not found. Saved model loading will continue.\n",
      "2024-06-25 16:00:57,925 - INFO - path_and_singleprint metric could not be logged. Saved model loading will continue.\n",
      "/dipc/dlopez/.conda/envs/VE_torch/lib/python3.9/site-packages/sklearn/base.py:348: InconsistentVersionWarning: Trying to unpickle estimator PCA from version 1.0 when using version 1.3.2. This might lead to breaking code or invalid results. Use at your own risk. For more info please refer to:\n",
      "https://scikit-learn.org/stable/model_persistence.html#security-maintainability-limitations\n",
      "  warnings.warn(\n",
      "/dipc/dlopez/.conda/envs/VE_torch/lib/python3.9/site-packages/sklearn/base.py:348: InconsistentVersionWarning: Trying to unpickle estimator StandardScaler from version 1.0 when using version 1.3.2. This might lead to breaking code or invalid results. Use at your own risk. For more info please refer to:\n",
      "https://scikit-learn.org/stable/model_persistence.html#security-maintainability-limitations\n",
      "  warnings.warn(\n",
      "2024-06-25 16:00:58,109 - INFO - Fingerprint not found. Saved model loading will continue.\n",
      "2024-06-25 16:00:58,111 - INFO - path_and_singleprint metric could not be logged. Saved model loading will continue.\n",
      "/dipc/dlopez/.conda/envs/VE_torch/lib/python3.9/site-packages/sklearn/base.py:348: InconsistentVersionWarning: Trying to unpickle estimator StandardScaler from version 1.0.2 when using version 1.3.2. This might lead to breaking code or invalid results. Use at your own risk. For more info please refer to:\n",
      "https://scikit-learn.org/stable/model_persistence.html#security-maintainability-limitations\n",
      "  warnings.warn(\n"
     ]
    },
    {
     "name": "stdout",
     "output_type": "stream",
     "text": [
      "Linear emulator loaded in memory.\n",
      "Loading no-wiggles emulator...\n",
      "No-wiggles emulator loaded in memory.\n",
      "Loading non-linear emulator...\n"
     ]
    },
    {
     "name": "stderr",
     "output_type": "stream",
     "text": [
      "2024-06-25 16:00:58,282 - INFO - Fingerprint not found. Saved model loading will continue.\n",
      "2024-06-25 16:00:58,284 - INFO - path_and_singleprint metric could not be logged. Saved model loading will continue.\n",
      "/dipc/dlopez/.conda/envs/VE_torch/lib/python3.9/site-packages/sklearn/base.py:348: InconsistentVersionWarning: Trying to unpickle estimator StandardScaler from version 0.22.1 when using version 1.3.2. This might lead to breaking code or invalid results. Use at your own risk. For more info please refer to:\n",
      "https://scikit-learn.org/stable/model_persistence.html#security-maintainability-limitations\n",
      "  warnings.warn(\n",
      "/dipc/dlopez/.conda/envs/VE_torch/lib/python3.9/site-packages/sklearn/base.py:348: InconsistentVersionWarning: Trying to unpickle estimator PCA from version 0.22.1 when using version 1.3.2. This might lead to breaking code or invalid results. Use at your own risk. For more info please refer to:\n",
      "https://scikit-learn.org/stable/model_persistence.html#security-maintainability-limitations\n",
      "  warnings.warn(\n",
      "2024-06-25 16:00:58,446 - INFO - Fingerprint not found. Saved model loading will continue.\n",
      "2024-06-25 16:00:58,447 - INFO - path_and_singleprint metric could not be logged. Saved model loading will continue.\n",
      "/dipc/dlopez/.conda/envs/VE_torch/lib/python3.9/site-packages/sklearn/base.py:348: InconsistentVersionWarning: Trying to unpickle estimator StandardScaler from version 0.23.2 when using version 1.3.2. This might lead to breaking code or invalid results. Use at your own risk. For more info please refer to:\n",
      "https://scikit-learn.org/stable/model_persistence.html#security-maintainability-limitations\n",
      "  warnings.warn(\n",
      "/dipc/dlopez/.conda/envs/VE_torch/lib/python3.9/site-packages/sklearn/base.py:348: InconsistentVersionWarning: Trying to unpickle estimator PCA from version 0.23.2 when using version 1.3.2. This might lead to breaking code or invalid results. Use at your own risk. For more info please refer to:\n",
      "https://scikit-learn.org/stable/model_persistence.html#security-maintainability-limitations\n",
      "  warnings.warn(\n"
     ]
    },
    {
     "name": "stdout",
     "output_type": "stream",
     "text": [
      "Nonlinear emulator loaded in memory.\n",
      "Loading Baryonic Emulator...\n",
      "Baryonic Emulator loaded in memory.\n"
     ]
    }
   ],
   "source": [
    "model_name = \"Model_vary_1\"\n",
    "NN_samples_augs = 10\n",
    "COSMOS[ds_mode][model_name], XX[ds_mode][model_name], AUG_PARAMS[ds_mode][model_name], EXTENDED_AUG_PARAMS[ds_mode][model_name] = cl_inference.preprocessing_tools.generate_baccoemu_dataset(\n",
    "    NN_samples_cosmo  = NN_samples_cosmo_test,\n",
    "    NN_samples_augs   = NN_samples_augs,\n",
    "    dict_bounds_cosmo = dict_bounds_cosmo_test,\n",
    "    dict_bounds_augs  = dict_bounds_augs_vary1,\n",
    "    seed              = seed_test,\n",
    "    path_save         = path_save,\n",
    "    model_name        = model_name,\n",
    "    kmax              = kmax, box=box, factor_kmin_cut=factor_kmin_cut\n",
    ")"
   ]
  },
  {
   "cell_type": "code",
   "execution_count": 42,
   "id": "05070f26",
   "metadata": {
    "scrolled": true
   },
   "outputs": [
    {
     "name": "stderr",
     "output_type": "stream",
     "text": [
      "2024-06-25 16:01:03,059 - INFO - Generating baccoemu dataset...\n",
      "2024-06-25 16:01:03,061 - INFO - Generating Latin Hypercube samples...\n",
      "2024-06-25 16:01:03,064 - INFO - Generating Latin Hypercube samples...\n",
      "2024-06-25 16:01:03,089 - INFO - Generating power spectrum using baccoemu emulator...\n",
      "2024-06-25 16:01:03,274 - INFO - Fingerprint not found. Saved model loading will continue.\n",
      "2024-06-25 16:01:03,275 - INFO - path_and_singleprint metric could not be logged. Saved model loading will continue.\n"
     ]
    },
    {
     "name": "stdout",
     "output_type": "stream",
     "text": [
      "Loading sigma8 emulator...\n"
     ]
    },
    {
     "name": "stderr",
     "output_type": "stream",
     "text": [
      "2024-06-25 16:01:03,435 - INFO - Fingerprint not found. Saved model loading will continue.\n",
      "2024-06-25 16:01:03,436 - INFO - path_and_singleprint metric could not be logged. Saved model loading will continue.\n",
      "/dipc/dlopez/.conda/envs/VE_torch/lib/python3.9/site-packages/sklearn/base.py:348: InconsistentVersionWarning: Trying to unpickle estimator PCA from version 1.0 when using version 1.3.2. This might lead to breaking code or invalid results. Use at your own risk. For more info please refer to:\n",
      "https://scikit-learn.org/stable/model_persistence.html#security-maintainability-limitations\n",
      "  warnings.warn(\n",
      "/dipc/dlopez/.conda/envs/VE_torch/lib/python3.9/site-packages/sklearn/base.py:348: InconsistentVersionWarning: Trying to unpickle estimator StandardScaler from version 1.0 when using version 1.3.2. This might lead to breaking code or invalid results. Use at your own risk. For more info please refer to:\n",
      "https://scikit-learn.org/stable/model_persistence.html#security-maintainability-limitations\n",
      "  warnings.warn(\n"
     ]
    },
    {
     "name": "stdout",
     "output_type": "stream",
     "text": [
      "Sigma8 emulator loaded in memory.\n",
      "Loading linear emulator...\n"
     ]
    },
    {
     "name": "stderr",
     "output_type": "stream",
     "text": [
      "2024-06-25 16:01:03,597 - INFO - Fingerprint not found. Saved model loading will continue.\n",
      "2024-06-25 16:01:03,598 - INFO - path_and_singleprint metric could not be logged. Saved model loading will continue.\n",
      "/dipc/dlopez/.conda/envs/VE_torch/lib/python3.9/site-packages/sklearn/base.py:348: InconsistentVersionWarning: Trying to unpickle estimator PCA from version 1.0 when using version 1.3.2. This might lead to breaking code or invalid results. Use at your own risk. For more info please refer to:\n",
      "https://scikit-learn.org/stable/model_persistence.html#security-maintainability-limitations\n",
      "  warnings.warn(\n",
      "/dipc/dlopez/.conda/envs/VE_torch/lib/python3.9/site-packages/sklearn/base.py:348: InconsistentVersionWarning: Trying to unpickle estimator StandardScaler from version 1.0 when using version 1.3.2. This might lead to breaking code or invalid results. Use at your own risk. For more info please refer to:\n",
      "https://scikit-learn.org/stable/model_persistence.html#security-maintainability-limitations\n",
      "  warnings.warn(\n"
     ]
    },
    {
     "name": "stdout",
     "output_type": "stream",
     "text": [
      "Linear emulator loaded in memory.\n",
      "Loading no-wiggles emulator...\n"
     ]
    },
    {
     "name": "stderr",
     "output_type": "stream",
     "text": [
      "2024-06-25 16:01:04,302 - INFO - Fingerprint not found. Saved model loading will continue.\n",
      "2024-06-25 16:01:04,304 - INFO - path_and_singleprint metric could not be logged. Saved model loading will continue.\n",
      "/dipc/dlopez/.conda/envs/VE_torch/lib/python3.9/site-packages/sklearn/base.py:348: InconsistentVersionWarning: Trying to unpickle estimator StandardScaler from version 1.0.2 when using version 1.3.2. This might lead to breaking code or invalid results. Use at your own risk. For more info please refer to:\n",
      "https://scikit-learn.org/stable/model_persistence.html#security-maintainability-limitations\n",
      "  warnings.warn(\n",
      "2024-06-25 16:01:04,487 - INFO - Fingerprint not found. Saved model loading will continue.\n",
      "2024-06-25 16:01:04,488 - INFO - path_and_singleprint metric could not be logged. Saved model loading will continue.\n",
      "/dipc/dlopez/.conda/envs/VE_torch/lib/python3.9/site-packages/sklearn/base.py:348: InconsistentVersionWarning: Trying to unpickle estimator StandardScaler from version 0.22.1 when using version 1.3.2. This might lead to breaking code or invalid results. Use at your own risk. For more info please refer to:\n",
      "https://scikit-learn.org/stable/model_persistence.html#security-maintainability-limitations\n",
      "  warnings.warn(\n",
      "/dipc/dlopez/.conda/envs/VE_torch/lib/python3.9/site-packages/sklearn/base.py:348: InconsistentVersionWarning: Trying to unpickle estimator PCA from version 0.22.1 when using version 1.3.2. This might lead to breaking code or invalid results. Use at your own risk. For more info please refer to:\n",
      "https://scikit-learn.org/stable/model_persistence.html#security-maintainability-limitations\n",
      "  warnings.warn(\n"
     ]
    },
    {
     "name": "stdout",
     "output_type": "stream",
     "text": [
      "No-wiggles emulator loaded in memory.\n",
      "Loading non-linear emulator...\n",
      "Nonlinear emulator loaded in memory.\n",
      "Loading Baryonic Emulator...\n"
     ]
    },
    {
     "name": "stderr",
     "output_type": "stream",
     "text": [
      "2024-06-25 16:01:04,654 - INFO - Fingerprint not found. Saved model loading will continue.\n",
      "2024-06-25 16:01:04,656 - INFO - path_and_singleprint metric could not be logged. Saved model loading will continue.\n",
      "/dipc/dlopez/.conda/envs/VE_torch/lib/python3.9/site-packages/sklearn/base.py:348: InconsistentVersionWarning: Trying to unpickle estimator StandardScaler from version 0.23.2 when using version 1.3.2. This might lead to breaking code or invalid results. Use at your own risk. For more info please refer to:\n",
      "https://scikit-learn.org/stable/model_persistence.html#security-maintainability-limitations\n",
      "  warnings.warn(\n",
      "/dipc/dlopez/.conda/envs/VE_torch/lib/python3.9/site-packages/sklearn/base.py:348: InconsistentVersionWarning: Trying to unpickle estimator PCA from version 0.23.2 when using version 1.3.2. This might lead to breaking code or invalid results. Use at your own risk. For more info please refer to:\n",
      "https://scikit-learn.org/stable/model_persistence.html#security-maintainability-limitations\n",
      "  warnings.warn(\n"
     ]
    },
    {
     "name": "stdout",
     "output_type": "stream",
     "text": [
      "Baryonic Emulator loaded in memory.\n"
     ]
    }
   ],
   "source": [
    "model_name = \"Model_vary_2\"\n",
    "NN_samples_augs = 10\n",
    "COSMOS[ds_mode][model_name], XX[ds_mode][model_name], AUG_PARAMS[ds_mode][model_name], EXTENDED_AUG_PARAMS[ds_mode][model_name] = cl_inference.preprocessing_tools.generate_baccoemu_dataset(\n",
    "    NN_samples_cosmo  = NN_samples_cosmo_test,\n",
    "    NN_samples_augs   = NN_samples_augs,\n",
    "    dict_bounds_cosmo = dict_bounds_cosmo_test,\n",
    "    dict_bounds_augs  = dict_bounds_augs_vary2,\n",
    "    seed              = seed_test,\n",
    "    path_save         = path_save,\n",
    "    model_name        = model_name,\n",
    "    kmax              = kmax, box=box, factor_kmin_cut=factor_kmin_cut\n",
    ")"
   ]
  },
  {
   "cell_type": "code",
   "execution_count": 43,
   "id": "bf3abe6f",
   "metadata": {
    "scrolled": true
   },
   "outputs": [
    {
     "name": "stderr",
     "output_type": "stream",
     "text": [
      "2024-06-25 16:01:09,035 - INFO - Generating baccoemu dataset...\n",
      "2024-06-25 16:01:09,037 - INFO - Generating Latin Hypercube samples...\n",
      "2024-06-25 16:01:09,040 - INFO - Generating Latin Hypercube samples...\n",
      "2024-06-25 16:01:09,066 - INFO - Generating power spectrum using baccoemu emulator...\n",
      "2024-06-25 16:01:09,248 - INFO - Fingerprint not found. Saved model loading will continue.\n",
      "2024-06-25 16:01:09,249 - INFO - path_and_singleprint metric could not be logged. Saved model loading will continue.\n"
     ]
    },
    {
     "name": "stdout",
     "output_type": "stream",
     "text": [
      "Loading sigma8 emulator...\n"
     ]
    },
    {
     "name": "stderr",
     "output_type": "stream",
     "text": [
      "2024-06-25 16:01:09,422 - INFO - Fingerprint not found. Saved model loading will continue.\n",
      "2024-06-25 16:01:09,424 - INFO - path_and_singleprint metric could not be logged. Saved model loading will continue.\n",
      "/dipc/dlopez/.conda/envs/VE_torch/lib/python3.9/site-packages/sklearn/base.py:348: InconsistentVersionWarning: Trying to unpickle estimator PCA from version 1.0 when using version 1.3.2. This might lead to breaking code or invalid results. Use at your own risk. For more info please refer to:\n",
      "https://scikit-learn.org/stable/model_persistence.html#security-maintainability-limitations\n",
      "  warnings.warn(\n",
      "/dipc/dlopez/.conda/envs/VE_torch/lib/python3.9/site-packages/sklearn/base.py:348: InconsistentVersionWarning: Trying to unpickle estimator StandardScaler from version 1.0 when using version 1.3.2. This might lead to breaking code or invalid results. Use at your own risk. For more info please refer to:\n",
      "https://scikit-learn.org/stable/model_persistence.html#security-maintainability-limitations\n",
      "  warnings.warn(\n"
     ]
    },
    {
     "name": "stdout",
     "output_type": "stream",
     "text": [
      "Sigma8 emulator loaded in memory.\n",
      "Loading linear emulator...\n"
     ]
    },
    {
     "name": "stderr",
     "output_type": "stream",
     "text": [
      "2024-06-25 16:01:09,593 - INFO - Fingerprint not found. Saved model loading will continue.\n",
      "2024-06-25 16:01:09,594 - INFO - path_and_singleprint metric could not be logged. Saved model loading will continue.\n",
      "/dipc/dlopez/.conda/envs/VE_torch/lib/python3.9/site-packages/sklearn/base.py:348: InconsistentVersionWarning: Trying to unpickle estimator PCA from version 1.0 when using version 1.3.2. This might lead to breaking code or invalid results. Use at your own risk. For more info please refer to:\n",
      "https://scikit-learn.org/stable/model_persistence.html#security-maintainability-limitations\n",
      "  warnings.warn(\n",
      "/dipc/dlopez/.conda/envs/VE_torch/lib/python3.9/site-packages/sklearn/base.py:348: InconsistentVersionWarning: Trying to unpickle estimator StandardScaler from version 1.0 when using version 1.3.2. This might lead to breaking code or invalid results. Use at your own risk. For more info please refer to:\n",
      "https://scikit-learn.org/stable/model_persistence.html#security-maintainability-limitations\n",
      "  warnings.warn(\n",
      "2024-06-25 16:01:09,789 - INFO - Fingerprint not found. Saved model loading will continue.\n",
      "2024-06-25 16:01:09,790 - INFO - path_and_singleprint metric could not be logged. Saved model loading will continue.\n",
      "/dipc/dlopez/.conda/envs/VE_torch/lib/python3.9/site-packages/sklearn/base.py:348: InconsistentVersionWarning: Trying to unpickle estimator StandardScaler from version 1.0.2 when using version 1.3.2. This might lead to breaking code or invalid results. Use at your own risk. For more info please refer to:\n",
      "https://scikit-learn.org/stable/model_persistence.html#security-maintainability-limitations\n",
      "  warnings.warn(\n"
     ]
    },
    {
     "name": "stdout",
     "output_type": "stream",
     "text": [
      "Linear emulator loaded in memory.\n",
      "Loading no-wiggles emulator...\n",
      "No-wiggles emulator loaded in memory.\n",
      "Loading non-linear emulator...\n"
     ]
    },
    {
     "name": "stderr",
     "output_type": "stream",
     "text": [
      "2024-06-25 16:01:09,980 - INFO - Fingerprint not found. Saved model loading will continue.\n",
      "2024-06-25 16:01:09,981 - INFO - path_and_singleprint metric could not be logged. Saved model loading will continue.\n",
      "/dipc/dlopez/.conda/envs/VE_torch/lib/python3.9/site-packages/sklearn/base.py:348: InconsistentVersionWarning: Trying to unpickle estimator StandardScaler from version 0.22.1 when using version 1.3.2. This might lead to breaking code or invalid results. Use at your own risk. For more info please refer to:\n",
      "https://scikit-learn.org/stable/model_persistence.html#security-maintainability-limitations\n",
      "  warnings.warn(\n",
      "/dipc/dlopez/.conda/envs/VE_torch/lib/python3.9/site-packages/sklearn/base.py:348: InconsistentVersionWarning: Trying to unpickle estimator PCA from version 0.22.1 when using version 1.3.2. This might lead to breaking code or invalid results. Use at your own risk. For more info please refer to:\n",
      "https://scikit-learn.org/stable/model_persistence.html#security-maintainability-limitations\n",
      "  warnings.warn(\n",
      "2024-06-25 16:01:10,161 - INFO - Fingerprint not found. Saved model loading will continue.\n",
      "2024-06-25 16:01:10,163 - INFO - path_and_singleprint metric could not be logged. Saved model loading will continue.\n",
      "/dipc/dlopez/.conda/envs/VE_torch/lib/python3.9/site-packages/sklearn/base.py:348: InconsistentVersionWarning: Trying to unpickle estimator StandardScaler from version 0.23.2 when using version 1.3.2. This might lead to breaking code or invalid results. Use at your own risk. For more info please refer to:\n",
      "https://scikit-learn.org/stable/model_persistence.html#security-maintainability-limitations\n",
      "  warnings.warn(\n",
      "/dipc/dlopez/.conda/envs/VE_torch/lib/python3.9/site-packages/sklearn/base.py:348: InconsistentVersionWarning: Trying to unpickle estimator PCA from version 0.23.2 when using version 1.3.2. This might lead to breaking code or invalid results. Use at your own risk. For more info please refer to:\n",
      "https://scikit-learn.org/stable/model_persistence.html#security-maintainability-limitations\n",
      "  warnings.warn(\n"
     ]
    },
    {
     "name": "stdout",
     "output_type": "stream",
     "text": [
      "Nonlinear emulator loaded in memory.\n",
      "Loading Baryonic Emulator...\n",
      "Baryonic Emulator loaded in memory.\n"
     ]
    }
   ],
   "source": [
    "model_name = \"Model_vary_3\"\n",
    "NN_samples_augs = 10\n",
    "COSMOS[ds_mode][model_name], XX[ds_mode][model_name], AUG_PARAMS[ds_mode][model_name], EXTENDED_AUG_PARAMS[ds_mode][model_name] = cl_inference.preprocessing_tools.generate_baccoemu_dataset(\n",
    "    NN_samples_cosmo  = NN_samples_cosmo_test,\n",
    "    NN_samples_augs   = NN_samples_augs,\n",
    "    dict_bounds_cosmo = dict_bounds_cosmo_test,\n",
    "    dict_bounds_augs  = dict_bounds_augs_vary3,\n",
    "    seed              = seed_test,\n",
    "    path_save         = path_save,\n",
    "    model_name        = model_name,\n",
    "    kmax              = kmax, box=box, factor_kmin_cut=factor_kmin_cut\n",
    ")"
   ]
  },
  {
   "cell_type": "code",
   "execution_count": 44,
   "id": "78e9a6d2",
   "metadata": {},
   "outputs": [
    {
     "name": "stderr",
     "output_type": "stream",
     "text": [
      "2024-06-25 16:01:14,570 - INFO - Generating baccoemu dataset...\n",
      "2024-06-25 16:01:14,572 - INFO - Generating Latin Hypercube samples...\n",
      "2024-06-25 16:01:14,574 - INFO - Generating power spectrum using baccoemu emulator...\n",
      "2024-06-25 16:01:14,732 - INFO - Fingerprint not found. Saved model loading will continue.\n",
      "2024-06-25 16:01:14,733 - INFO - path_and_singleprint metric could not be logged. Saved model loading will continue.\n"
     ]
    },
    {
     "name": "stdout",
     "output_type": "stream",
     "text": [
      "Loading sigma8 emulator...\n",
      "Sigma8 emulator loaded in memory.\n",
      "Loading linear emulator...\n"
     ]
    },
    {
     "name": "stderr",
     "output_type": "stream",
     "text": [
      "2024-06-25 16:01:14,902 - INFO - Fingerprint not found. Saved model loading will continue.\n",
      "2024-06-25 16:01:14,903 - INFO - path_and_singleprint metric could not be logged. Saved model loading will continue.\n",
      "/dipc/dlopez/.conda/envs/VE_torch/lib/python3.9/site-packages/sklearn/base.py:348: InconsistentVersionWarning: Trying to unpickle estimator PCA from version 1.0 when using version 1.3.2. This might lead to breaking code or invalid results. Use at your own risk. For more info please refer to:\n",
      "https://scikit-learn.org/stable/model_persistence.html#security-maintainability-limitations\n",
      "  warnings.warn(\n",
      "/dipc/dlopez/.conda/envs/VE_torch/lib/python3.9/site-packages/sklearn/base.py:348: InconsistentVersionWarning: Trying to unpickle estimator StandardScaler from version 1.0 when using version 1.3.2. This might lead to breaking code or invalid results. Use at your own risk. For more info please refer to:\n",
      "https://scikit-learn.org/stable/model_persistence.html#security-maintainability-limitations\n",
      "  warnings.warn(\n",
      "2024-06-25 16:01:15,057 - INFO - Fingerprint not found. Saved model loading will continue.\n",
      "2024-06-25 16:01:15,058 - INFO - path_and_singleprint metric could not be logged. Saved model loading will continue.\n",
      "/dipc/dlopez/.conda/envs/VE_torch/lib/python3.9/site-packages/sklearn/base.py:348: InconsistentVersionWarning: Trying to unpickle estimator PCA from version 1.0 when using version 1.3.2. This might lead to breaking code or invalid results. Use at your own risk. For more info please refer to:\n",
      "https://scikit-learn.org/stable/model_persistence.html#security-maintainability-limitations\n",
      "  warnings.warn(\n",
      "/dipc/dlopez/.conda/envs/VE_torch/lib/python3.9/site-packages/sklearn/base.py:348: InconsistentVersionWarning: Trying to unpickle estimator StandardScaler from version 1.0 when using version 1.3.2. This might lead to breaking code or invalid results. Use at your own risk. For more info please refer to:\n",
      "https://scikit-learn.org/stable/model_persistence.html#security-maintainability-limitations\n",
      "  warnings.warn(\n",
      "2024-06-25 16:01:15,239 - INFO - Fingerprint not found. Saved model loading will continue.\n",
      "2024-06-25 16:01:15,240 - INFO - path_and_singleprint metric could not be logged. Saved model loading will continue.\n",
      "/dipc/dlopez/.conda/envs/VE_torch/lib/python3.9/site-packages/sklearn/base.py:348: InconsistentVersionWarning: Trying to unpickle estimator StandardScaler from version 1.0.2 when using version 1.3.2. This might lead to breaking code or invalid results. Use at your own risk. For more info please refer to:\n",
      "https://scikit-learn.org/stable/model_persistence.html#security-maintainability-limitations\n",
      "  warnings.warn(\n"
     ]
    },
    {
     "name": "stdout",
     "output_type": "stream",
     "text": [
      "Linear emulator loaded in memory.\n",
      "Loading no-wiggles emulator...\n",
      "No-wiggles emulator loaded in memory.\n",
      "Loading non-linear emulator...\n"
     ]
    },
    {
     "name": "stderr",
     "output_type": "stream",
     "text": [
      "2024-06-25 16:01:15,413 - INFO - Fingerprint not found. Saved model loading will continue.\n",
      "2024-06-25 16:01:15,415 - INFO - path_and_singleprint metric could not be logged. Saved model loading will continue.\n",
      "/dipc/dlopez/.conda/envs/VE_torch/lib/python3.9/site-packages/sklearn/base.py:348: InconsistentVersionWarning: Trying to unpickle estimator StandardScaler from version 0.22.1 when using version 1.3.2. This might lead to breaking code or invalid results. Use at your own risk. For more info please refer to:\n",
      "https://scikit-learn.org/stable/model_persistence.html#security-maintainability-limitations\n",
      "  warnings.warn(\n",
      "/dipc/dlopez/.conda/envs/VE_torch/lib/python3.9/site-packages/sklearn/base.py:348: InconsistentVersionWarning: Trying to unpickle estimator PCA from version 0.22.1 when using version 1.3.2. This might lead to breaking code or invalid results. Use at your own risk. For more info please refer to:\n",
      "https://scikit-learn.org/stable/model_persistence.html#security-maintainability-limitations\n",
      "  warnings.warn(\n",
      "2024-06-25 16:01:15,577 - INFO - Fingerprint not found. Saved model loading will continue.\n",
      "2024-06-25 16:01:15,578 - INFO - path_and_singleprint metric could not be logged. Saved model loading will continue.\n",
      "/dipc/dlopez/.conda/envs/VE_torch/lib/python3.9/site-packages/sklearn/base.py:348: InconsistentVersionWarning: Trying to unpickle estimator StandardScaler from version 0.23.2 when using version 1.3.2. This might lead to breaking code or invalid results. Use at your own risk. For more info please refer to:\n",
      "https://scikit-learn.org/stable/model_persistence.html#security-maintainability-limitations\n",
      "  warnings.warn(\n",
      "/dipc/dlopez/.conda/envs/VE_torch/lib/python3.9/site-packages/sklearn/base.py:348: InconsistentVersionWarning: Trying to unpickle estimator PCA from version 0.23.2 when using version 1.3.2. This might lead to breaking code or invalid results. Use at your own risk. For more info please refer to:\n",
      "https://scikit-learn.org/stable/model_persistence.html#security-maintainability-limitations\n",
      "  warnings.warn(\n"
     ]
    },
    {
     "name": "stdout",
     "output_type": "stream",
     "text": [
      "Nonlinear emulator loaded in memory.\n",
      "Loading Baryonic Emulator...\n",
      "Baryonic Emulator loaded in memory.\n"
     ]
    },
    {
     "name": "stderr",
     "output_type": "stream",
     "text": [
      "2024-06-25 16:01:15,904 - INFO - Generating baccoemu dataset...\n",
      "2024-06-25 16:01:15,906 - INFO - Generating Latin Hypercube samples...\n",
      "2024-06-25 16:01:15,908 - INFO - Generating power spectrum using baccoemu emulator...\n"
     ]
    },
    {
     "name": "stdout",
     "output_type": "stream",
     "text": [
      "Loading sigma8 emulator...\n"
     ]
    },
    {
     "name": "stderr",
     "output_type": "stream",
     "text": [
      "2024-06-25 16:01:16,695 - INFO - Fingerprint not found. Saved model loading will continue.\n",
      "2024-06-25 16:01:16,696 - INFO - path_and_singleprint metric could not be logged. Saved model loading will continue.\n",
      "2024-06-25 16:01:16,857 - INFO - Fingerprint not found. Saved model loading will continue.\n",
      "2024-06-25 16:01:16,858 - INFO - path_and_singleprint metric could not be logged. Saved model loading will continue.\n",
      "/dipc/dlopez/.conda/envs/VE_torch/lib/python3.9/site-packages/sklearn/base.py:348: InconsistentVersionWarning: Trying to unpickle estimator PCA from version 1.0 when using version 1.3.2. This might lead to breaking code or invalid results. Use at your own risk. For more info please refer to:\n",
      "https://scikit-learn.org/stable/model_persistence.html#security-maintainability-limitations\n",
      "  warnings.warn(\n",
      "/dipc/dlopez/.conda/envs/VE_torch/lib/python3.9/site-packages/sklearn/base.py:348: InconsistentVersionWarning: Trying to unpickle estimator StandardScaler from version 1.0 when using version 1.3.2. This might lead to breaking code or invalid results. Use at your own risk. For more info please refer to:\n",
      "https://scikit-learn.org/stable/model_persistence.html#security-maintainability-limitations\n",
      "  warnings.warn(\n"
     ]
    },
    {
     "name": "stdout",
     "output_type": "stream",
     "text": [
      "Sigma8 emulator loaded in memory.\n",
      "Loading linear emulator...\n"
     ]
    },
    {
     "name": "stderr",
     "output_type": "stream",
     "text": [
      "2024-06-25 16:01:17,023 - INFO - Fingerprint not found. Saved model loading will continue.\n",
      "2024-06-25 16:01:17,025 - INFO - path_and_singleprint metric could not be logged. Saved model loading will continue.\n",
      "/dipc/dlopez/.conda/envs/VE_torch/lib/python3.9/site-packages/sklearn/base.py:348: InconsistentVersionWarning: Trying to unpickle estimator PCA from version 1.0 when using version 1.3.2. This might lead to breaking code or invalid results. Use at your own risk. For more info please refer to:\n",
      "https://scikit-learn.org/stable/model_persistence.html#security-maintainability-limitations\n",
      "  warnings.warn(\n",
      "/dipc/dlopez/.conda/envs/VE_torch/lib/python3.9/site-packages/sklearn/base.py:348: InconsistentVersionWarning: Trying to unpickle estimator StandardScaler from version 1.0 when using version 1.3.2. This might lead to breaking code or invalid results. Use at your own risk. For more info please refer to:\n",
      "https://scikit-learn.org/stable/model_persistence.html#security-maintainability-limitations\n",
      "  warnings.warn(\n",
      "2024-06-25 16:01:17,246 - INFO - Fingerprint not found. Saved model loading will continue.\n",
      "2024-06-25 16:01:17,248 - INFO - path_and_singleprint metric could not be logged. Saved model loading will continue.\n"
     ]
    },
    {
     "name": "stdout",
     "output_type": "stream",
     "text": [
      "Linear emulator loaded in memory.\n",
      "Loading no-wiggles emulator...\n"
     ]
    },
    {
     "name": "stderr",
     "output_type": "stream",
     "text": [
      "/dipc/dlopez/.conda/envs/VE_torch/lib/python3.9/site-packages/sklearn/base.py:348: InconsistentVersionWarning: Trying to unpickle estimator StandardScaler from version 1.0.2 when using version 1.3.2. This might lead to breaking code or invalid results. Use at your own risk. For more info please refer to:\n",
      "https://scikit-learn.org/stable/model_persistence.html#security-maintainability-limitations\n",
      "  warnings.warn(\n",
      "2024-06-25 16:01:17,425 - INFO - Fingerprint not found. Saved model loading will continue.\n",
      "2024-06-25 16:01:17,426 - INFO - path_and_singleprint metric could not be logged. Saved model loading will continue.\n",
      "/dipc/dlopez/.conda/envs/VE_torch/lib/python3.9/site-packages/sklearn/base.py:348: InconsistentVersionWarning: Trying to unpickle estimator StandardScaler from version 0.22.1 when using version 1.3.2. This might lead to breaking code or invalid results. Use at your own risk. For more info please refer to:\n",
      "https://scikit-learn.org/stable/model_persistence.html#security-maintainability-limitations\n",
      "  warnings.warn(\n",
      "/dipc/dlopez/.conda/envs/VE_torch/lib/python3.9/site-packages/sklearn/base.py:348: InconsistentVersionWarning: Trying to unpickle estimator PCA from version 0.22.1 when using version 1.3.2. This might lead to breaking code or invalid results. Use at your own risk. For more info please refer to:\n",
      "https://scikit-learn.org/stable/model_persistence.html#security-maintainability-limitations\n",
      "  warnings.warn(\n"
     ]
    },
    {
     "name": "stdout",
     "output_type": "stream",
     "text": [
      "No-wiggles emulator loaded in memory.\n",
      "Loading non-linear emulator...\n",
      "Nonlinear emulator loaded in memory.\n",
      "Loading Baryonic Emulator...\n"
     ]
    },
    {
     "name": "stderr",
     "output_type": "stream",
     "text": [
      "2024-06-25 16:01:17,589 - INFO - Fingerprint not found. Saved model loading will continue.\n",
      "2024-06-25 16:01:17,591 - INFO - path_and_singleprint metric could not be logged. Saved model loading will continue.\n",
      "/dipc/dlopez/.conda/envs/VE_torch/lib/python3.9/site-packages/sklearn/base.py:348: InconsistentVersionWarning: Trying to unpickle estimator StandardScaler from version 0.23.2 when using version 1.3.2. This might lead to breaking code or invalid results. Use at your own risk. For more info please refer to:\n",
      "https://scikit-learn.org/stable/model_persistence.html#security-maintainability-limitations\n",
      "  warnings.warn(\n",
      "/dipc/dlopez/.conda/envs/VE_torch/lib/python3.9/site-packages/sklearn/base.py:348: InconsistentVersionWarning: Trying to unpickle estimator PCA from version 0.23.2 when using version 1.3.2. This might lead to breaking code or invalid results. Use at your own risk. For more info please refer to:\n",
      "https://scikit-learn.org/stable/model_persistence.html#security-maintainability-limitations\n",
      "  warnings.warn(\n"
     ]
    },
    {
     "name": "stdout",
     "output_type": "stream",
     "text": [
      "Baryonic Emulator loaded in memory.\n"
     ]
    },
    {
     "name": "stderr",
     "output_type": "stream",
     "text": [
      "2024-06-25 16:01:17,906 - INFO - Generating baccoemu dataset...\n",
      "2024-06-25 16:01:17,908 - INFO - Generating Latin Hypercube samples...\n",
      "2024-06-25 16:01:17,911 - INFO - Generating power spectrum using baccoemu emulator...\n",
      "2024-06-25 16:01:18,068 - INFO - Fingerprint not found. Saved model loading will continue.\n",
      "2024-06-25 16:01:18,070 - INFO - path_and_singleprint metric could not be logged. Saved model loading will continue.\n"
     ]
    },
    {
     "name": "stdout",
     "output_type": "stream",
     "text": [
      "Loading sigma8 emulator...\n",
      "Sigma8 emulator loaded in memory.\n",
      "Loading linear emulator...\n"
     ]
    },
    {
     "name": "stderr",
     "output_type": "stream",
     "text": [
      "2024-06-25 16:01:18,238 - INFO - Fingerprint not found. Saved model loading will continue.\n",
      "2024-06-25 16:01:18,239 - INFO - path_and_singleprint metric could not be logged. Saved model loading will continue.\n",
      "/dipc/dlopez/.conda/envs/VE_torch/lib/python3.9/site-packages/sklearn/base.py:348: InconsistentVersionWarning: Trying to unpickle estimator PCA from version 1.0 when using version 1.3.2. This might lead to breaking code or invalid results. Use at your own risk. For more info please refer to:\n",
      "https://scikit-learn.org/stable/model_persistence.html#security-maintainability-limitations\n",
      "  warnings.warn(\n",
      "/dipc/dlopez/.conda/envs/VE_torch/lib/python3.9/site-packages/sklearn/base.py:348: InconsistentVersionWarning: Trying to unpickle estimator StandardScaler from version 1.0 when using version 1.3.2. This might lead to breaking code or invalid results. Use at your own risk. For more info please refer to:\n",
      "https://scikit-learn.org/stable/model_persistence.html#security-maintainability-limitations\n",
      "  warnings.warn(\n",
      "2024-06-25 16:01:18,396 - INFO - Fingerprint not found. Saved model loading will continue.\n",
      "2024-06-25 16:01:18,397 - INFO - path_and_singleprint metric could not be logged. Saved model loading will continue.\n",
      "/dipc/dlopez/.conda/envs/VE_torch/lib/python3.9/site-packages/sklearn/base.py:348: InconsistentVersionWarning: Trying to unpickle estimator PCA from version 1.0 when using version 1.3.2. This might lead to breaking code or invalid results. Use at your own risk. For more info please refer to:\n",
      "https://scikit-learn.org/stable/model_persistence.html#security-maintainability-limitations\n",
      "  warnings.warn(\n",
      "/dipc/dlopez/.conda/envs/VE_torch/lib/python3.9/site-packages/sklearn/base.py:348: InconsistentVersionWarning: Trying to unpickle estimator StandardScaler from version 1.0 when using version 1.3.2. This might lead to breaking code or invalid results. Use at your own risk. For more info please refer to:\n",
      "https://scikit-learn.org/stable/model_persistence.html#security-maintainability-limitations\n",
      "  warnings.warn(\n",
      "2024-06-25 16:01:18,597 - INFO - Fingerprint not found. Saved model loading will continue.\n",
      "2024-06-25 16:01:18,599 - INFO - path_and_singleprint metric could not be logged. Saved model loading will continue.\n"
     ]
    },
    {
     "name": "stdout",
     "output_type": "stream",
     "text": [
      "Linear emulator loaded in memory.\n",
      "Loading no-wiggles emulator...\n"
     ]
    },
    {
     "name": "stderr",
     "output_type": "stream",
     "text": [
      "/dipc/dlopez/.conda/envs/VE_torch/lib/python3.9/site-packages/sklearn/base.py:348: InconsistentVersionWarning: Trying to unpickle estimator StandardScaler from version 1.0.2 when using version 1.3.2. This might lead to breaking code or invalid results. Use at your own risk. For more info please refer to:\n",
      "https://scikit-learn.org/stable/model_persistence.html#security-maintainability-limitations\n",
      "  warnings.warn(\n",
      "2024-06-25 16:01:18,769 - INFO - Fingerprint not found. Saved model loading will continue.\n",
      "2024-06-25 16:01:18,770 - INFO - path_and_singleprint metric could not be logged. Saved model loading will continue.\n",
      "/dipc/dlopez/.conda/envs/VE_torch/lib/python3.9/site-packages/sklearn/base.py:348: InconsistentVersionWarning: Trying to unpickle estimator StandardScaler from version 0.22.1 when using version 1.3.2. This might lead to breaking code or invalid results. Use at your own risk. For more info please refer to:\n",
      "https://scikit-learn.org/stable/model_persistence.html#security-maintainability-limitations\n",
      "  warnings.warn(\n",
      "/dipc/dlopez/.conda/envs/VE_torch/lib/python3.9/site-packages/sklearn/base.py:348: InconsistentVersionWarning: Trying to unpickle estimator PCA from version 0.22.1 when using version 1.3.2. This might lead to breaking code or invalid results. Use at your own risk. For more info please refer to:\n",
      "https://scikit-learn.org/stable/model_persistence.html#security-maintainability-limitations\n",
      "  warnings.warn(\n"
     ]
    },
    {
     "name": "stdout",
     "output_type": "stream",
     "text": [
      "No-wiggles emulator loaded in memory.\n",
      "Loading non-linear emulator...\n",
      "Nonlinear emulator loaded in memory.\n",
      "Loading Baryonic Emulator...\n"
     ]
    },
    {
     "name": "stderr",
     "output_type": "stream",
     "text": [
      "2024-06-25 16:01:18,931 - INFO - Fingerprint not found. Saved model loading will continue.\n",
      "2024-06-25 16:01:18,932 - INFO - path_and_singleprint metric could not be logged. Saved model loading will continue.\n",
      "/dipc/dlopez/.conda/envs/VE_torch/lib/python3.9/site-packages/sklearn/base.py:348: InconsistentVersionWarning: Trying to unpickle estimator StandardScaler from version 0.23.2 when using version 1.3.2. This might lead to breaking code or invalid results. Use at your own risk. For more info please refer to:\n",
      "https://scikit-learn.org/stable/model_persistence.html#security-maintainability-limitations\n",
      "  warnings.warn(\n",
      "/dipc/dlopez/.conda/envs/VE_torch/lib/python3.9/site-packages/sklearn/base.py:348: InconsistentVersionWarning: Trying to unpickle estimator PCA from version 0.23.2 when using version 1.3.2. This might lead to breaking code or invalid results. Use at your own risk. For more info please refer to:\n",
      "https://scikit-learn.org/stable/model_persistence.html#security-maintainability-limitations\n",
      "  warnings.warn(\n"
     ]
    },
    {
     "name": "stdout",
     "output_type": "stream",
     "text": [
      "Baryonic Emulator loaded in memory.\n"
     ]
    },
    {
     "name": "stderr",
     "output_type": "stream",
     "text": [
      "2024-06-25 16:01:19,239 - INFO - Generating baccoemu dataset...\n",
      "2024-06-25 16:01:19,240 - INFO - Generating Latin Hypercube samples...\n",
      "2024-06-25 16:01:19,242 - INFO - Generating power spectrum using baccoemu emulator...\n",
      "2024-06-25 16:01:19,400 - INFO - Fingerprint not found. Saved model loading will continue.\n",
      "2024-06-25 16:01:19,401 - INFO - path_and_singleprint metric could not be logged. Saved model loading will continue.\n"
     ]
    },
    {
     "name": "stdout",
     "output_type": "stream",
     "text": [
      "Loading sigma8 emulator...\n",
      "Sigma8 emulator loaded in memory.\n",
      "Loading linear emulator...\n"
     ]
    },
    {
     "name": "stderr",
     "output_type": "stream",
     "text": [
      "2024-06-25 16:01:19,556 - INFO - Fingerprint not found. Saved model loading will continue.\n",
      "2024-06-25 16:01:19,557 - INFO - path_and_singleprint metric could not be logged. Saved model loading will continue.\n",
      "/dipc/dlopez/.conda/envs/VE_torch/lib/python3.9/site-packages/sklearn/base.py:348: InconsistentVersionWarning: Trying to unpickle estimator PCA from version 1.0 when using version 1.3.2. This might lead to breaking code or invalid results. Use at your own risk. For more info please refer to:\n",
      "https://scikit-learn.org/stable/model_persistence.html#security-maintainability-limitations\n",
      "  warnings.warn(\n",
      "/dipc/dlopez/.conda/envs/VE_torch/lib/python3.9/site-packages/sklearn/base.py:348: InconsistentVersionWarning: Trying to unpickle estimator StandardScaler from version 1.0 when using version 1.3.2. This might lead to breaking code or invalid results. Use at your own risk. For more info please refer to:\n",
      "https://scikit-learn.org/stable/model_persistence.html#security-maintainability-limitations\n",
      "  warnings.warn(\n",
      "2024-06-25 16:01:19,716 - INFO - Fingerprint not found. Saved model loading will continue.\n",
      "2024-06-25 16:01:19,718 - INFO - path_and_singleprint metric could not be logged. Saved model loading will continue.\n",
      "/dipc/dlopez/.conda/envs/VE_torch/lib/python3.9/site-packages/sklearn/base.py:348: InconsistentVersionWarning: Trying to unpickle estimator PCA from version 1.0 when using version 1.3.2. This might lead to breaking code or invalid results. Use at your own risk. For more info please refer to:\n",
      "https://scikit-learn.org/stable/model_persistence.html#security-maintainability-limitations\n",
      "  warnings.warn(\n",
      "/dipc/dlopez/.conda/envs/VE_torch/lib/python3.9/site-packages/sklearn/base.py:348: InconsistentVersionWarning: Trying to unpickle estimator StandardScaler from version 1.0 when using version 1.3.2. This might lead to breaking code or invalid results. Use at your own risk. For more info please refer to:\n",
      "https://scikit-learn.org/stable/model_persistence.html#security-maintainability-limitations\n",
      "  warnings.warn(\n"
     ]
    },
    {
     "name": "stdout",
     "output_type": "stream",
     "text": [
      "Linear emulator loaded in memory.\n",
      "Loading no-wiggles emulator...\n"
     ]
    },
    {
     "name": "stderr",
     "output_type": "stream",
     "text": [
      "2024-06-25 16:01:20,418 - INFO - Fingerprint not found. Saved model loading will continue.\n",
      "2024-06-25 16:01:20,420 - INFO - path_and_singleprint metric could not be logged. Saved model loading will continue.\n",
      "/dipc/dlopez/.conda/envs/VE_torch/lib/python3.9/site-packages/sklearn/base.py:348: InconsistentVersionWarning: Trying to unpickle estimator StandardScaler from version 1.0.2 when using version 1.3.2. This might lead to breaking code or invalid results. Use at your own risk. For more info please refer to:\n",
      "https://scikit-learn.org/stable/model_persistence.html#security-maintainability-limitations\n",
      "  warnings.warn(\n",
      "2024-06-25 16:01:20,601 - INFO - Fingerprint not found. Saved model loading will continue.\n",
      "2024-06-25 16:01:20,602 - INFO - path_and_singleprint metric could not be logged. Saved model loading will continue.\n",
      "/dipc/dlopez/.conda/envs/VE_torch/lib/python3.9/site-packages/sklearn/base.py:348: InconsistentVersionWarning: Trying to unpickle estimator StandardScaler from version 0.22.1 when using version 1.3.2. This might lead to breaking code or invalid results. Use at your own risk. For more info please refer to:\n",
      "https://scikit-learn.org/stable/model_persistence.html#security-maintainability-limitations\n",
      "  warnings.warn(\n",
      "/dipc/dlopez/.conda/envs/VE_torch/lib/python3.9/site-packages/sklearn/base.py:348: InconsistentVersionWarning: Trying to unpickle estimator PCA from version 0.22.1 when using version 1.3.2. This might lead to breaking code or invalid results. Use at your own risk. For more info please refer to:\n",
      "https://scikit-learn.org/stable/model_persistence.html#security-maintainability-limitations\n",
      "  warnings.warn(\n"
     ]
    },
    {
     "name": "stdout",
     "output_type": "stream",
     "text": [
      "No-wiggles emulator loaded in memory.\n",
      "Loading non-linear emulator...\n",
      "Nonlinear emulator loaded in memory.\n",
      "Loading Baryonic Emulator...\n"
     ]
    },
    {
     "name": "stderr",
     "output_type": "stream",
     "text": [
      "2024-06-25 16:01:20,769 - INFO - Fingerprint not found. Saved model loading will continue.\n",
      "2024-06-25 16:01:20,770 - INFO - path_and_singleprint metric could not be logged. Saved model loading will continue.\n",
      "/dipc/dlopez/.conda/envs/VE_torch/lib/python3.9/site-packages/sklearn/base.py:348: InconsistentVersionWarning: Trying to unpickle estimator StandardScaler from version 0.23.2 when using version 1.3.2. This might lead to breaking code or invalid results. Use at your own risk. For more info please refer to:\n",
      "https://scikit-learn.org/stable/model_persistence.html#security-maintainability-limitations\n",
      "  warnings.warn(\n",
      "/dipc/dlopez/.conda/envs/VE_torch/lib/python3.9/site-packages/sklearn/base.py:348: InconsistentVersionWarning: Trying to unpickle estimator PCA from version 0.23.2 when using version 1.3.2. This might lead to breaking code or invalid results. Use at your own risk. For more info please refer to:\n",
      "https://scikit-learn.org/stable/model_persistence.html#security-maintainability-limitations\n",
      "  warnings.warn(\n"
     ]
    },
    {
     "name": "stdout",
     "output_type": "stream",
     "text": [
      "Baryonic Emulator loaded in memory.\n"
     ]
    },
    {
     "name": "stderr",
     "output_type": "stream",
     "text": [
      "2024-06-25 16:01:21,079 - INFO - Generating baccoemu dataset...\n",
      "2024-06-25 16:01:21,080 - INFO - Generating Latin Hypercube samples...\n",
      "2024-06-25 16:01:21,082 - INFO - Generating power spectrum using baccoemu emulator...\n",
      "2024-06-25 16:01:21,237 - INFO - Fingerprint not found. Saved model loading will continue.\n",
      "2024-06-25 16:01:21,238 - INFO - path_and_singleprint metric could not be logged. Saved model loading will continue.\n"
     ]
    },
    {
     "name": "stdout",
     "output_type": "stream",
     "text": [
      "Loading sigma8 emulator...\n",
      "Sigma8 emulator loaded in memory.\n",
      "Loading linear emulator...\n"
     ]
    },
    {
     "name": "stderr",
     "output_type": "stream",
     "text": [
      "2024-06-25 16:01:21,394 - INFO - Fingerprint not found. Saved model loading will continue.\n",
      "2024-06-25 16:01:21,396 - INFO - path_and_singleprint metric could not be logged. Saved model loading will continue.\n",
      "/dipc/dlopez/.conda/envs/VE_torch/lib/python3.9/site-packages/sklearn/base.py:348: InconsistentVersionWarning: Trying to unpickle estimator PCA from version 1.0 when using version 1.3.2. This might lead to breaking code or invalid results. Use at your own risk. For more info please refer to:\n",
      "https://scikit-learn.org/stable/model_persistence.html#security-maintainability-limitations\n",
      "  warnings.warn(\n",
      "/dipc/dlopez/.conda/envs/VE_torch/lib/python3.9/site-packages/sklearn/base.py:348: InconsistentVersionWarning: Trying to unpickle estimator StandardScaler from version 1.0 when using version 1.3.2. This might lead to breaking code or invalid results. Use at your own risk. For more info please refer to:\n",
      "https://scikit-learn.org/stable/model_persistence.html#security-maintainability-limitations\n",
      "  warnings.warn(\n",
      "2024-06-25 16:01:21,554 - INFO - Fingerprint not found. Saved model loading will continue.\n",
      "2024-06-25 16:01:21,555 - INFO - path_and_singleprint metric could not be logged. Saved model loading will continue.\n",
      "/dipc/dlopez/.conda/envs/VE_torch/lib/python3.9/site-packages/sklearn/base.py:348: InconsistentVersionWarning: Trying to unpickle estimator PCA from version 1.0 when using version 1.3.2. This might lead to breaking code or invalid results. Use at your own risk. For more info please refer to:\n",
      "https://scikit-learn.org/stable/model_persistence.html#security-maintainability-limitations\n",
      "  warnings.warn(\n",
      "/dipc/dlopez/.conda/envs/VE_torch/lib/python3.9/site-packages/sklearn/base.py:348: InconsistentVersionWarning: Trying to unpickle estimator StandardScaler from version 1.0 when using version 1.3.2. This might lead to breaking code or invalid results. Use at your own risk. For more info please refer to:\n",
      "https://scikit-learn.org/stable/model_persistence.html#security-maintainability-limitations\n",
      "  warnings.warn(\n",
      "2024-06-25 16:01:21,740 - INFO - Fingerprint not found. Saved model loading will continue.\n",
      "2024-06-25 16:01:21,742 - INFO - path_and_singleprint metric could not be logged. Saved model loading will continue.\n",
      "/dipc/dlopez/.conda/envs/VE_torch/lib/python3.9/site-packages/sklearn/base.py:348: InconsistentVersionWarning: Trying to unpickle estimator StandardScaler from version 1.0.2 when using version 1.3.2. This might lead to breaking code or invalid results. Use at your own risk. For more info please refer to:\n",
      "https://scikit-learn.org/stable/model_persistence.html#security-maintainability-limitations\n",
      "  warnings.warn(\n"
     ]
    },
    {
     "name": "stdout",
     "output_type": "stream",
     "text": [
      "Linear emulator loaded in memory.\n",
      "Loading no-wiggles emulator...\n",
      "No-wiggles emulator loaded in memory.\n",
      "Loading non-linear emulator...\n"
     ]
    },
    {
     "name": "stderr",
     "output_type": "stream",
     "text": [
      "2024-06-25 16:01:21,915 - INFO - Fingerprint not found. Saved model loading will continue.\n",
      "2024-06-25 16:01:21,917 - INFO - path_and_singleprint metric could not be logged. Saved model loading will continue.\n",
      "/dipc/dlopez/.conda/envs/VE_torch/lib/python3.9/site-packages/sklearn/base.py:348: InconsistentVersionWarning: Trying to unpickle estimator StandardScaler from version 0.22.1 when using version 1.3.2. This might lead to breaking code or invalid results. Use at your own risk. For more info please refer to:\n",
      "https://scikit-learn.org/stable/model_persistence.html#security-maintainability-limitations\n",
      "  warnings.warn(\n",
      "/dipc/dlopez/.conda/envs/VE_torch/lib/python3.9/site-packages/sklearn/base.py:348: InconsistentVersionWarning: Trying to unpickle estimator PCA from version 0.22.1 when using version 1.3.2. This might lead to breaking code or invalid results. Use at your own risk. For more info please refer to:\n",
      "https://scikit-learn.org/stable/model_persistence.html#security-maintainability-limitations\n",
      "  warnings.warn(\n",
      "2024-06-25 16:01:22,082 - INFO - Fingerprint not found. Saved model loading will continue.\n",
      "2024-06-25 16:01:22,084 - INFO - path_and_singleprint metric could not be logged. Saved model loading will continue.\n",
      "/dipc/dlopez/.conda/envs/VE_torch/lib/python3.9/site-packages/sklearn/base.py:348: InconsistentVersionWarning: Trying to unpickle estimator StandardScaler from version 0.23.2 when using version 1.3.2. This might lead to breaking code or invalid results. Use at your own risk. For more info please refer to:\n",
      "https://scikit-learn.org/stable/model_persistence.html#security-maintainability-limitations\n",
      "  warnings.warn(\n",
      "/dipc/dlopez/.conda/envs/VE_torch/lib/python3.9/site-packages/sklearn/base.py:348: InconsistentVersionWarning: Trying to unpickle estimator PCA from version 0.23.2 when using version 1.3.2. This might lead to breaking code or invalid results. Use at your own risk. For more info please refer to:\n",
      "https://scikit-learn.org/stable/model_persistence.html#security-maintainability-limitations\n",
      "  warnings.warn(\n"
     ]
    },
    {
     "name": "stdout",
     "output_type": "stream",
     "text": [
      "Nonlinear emulator loaded in memory.\n",
      "Loading Baryonic Emulator...\n",
      "Baryonic Emulator loaded in memory.\n"
     ]
    },
    {
     "name": "stderr",
     "output_type": "stream",
     "text": [
      "2024-06-25 16:01:22,422 - INFO - Generating baccoemu dataset...\n",
      "2024-06-25 16:01:22,423 - INFO - Generating Latin Hypercube samples...\n",
      "2024-06-25 16:01:22,425 - INFO - Generating power spectrum using baccoemu emulator...\n",
      "2024-06-25 16:01:22,577 - INFO - Fingerprint not found. Saved model loading will continue.\n",
      "2024-06-25 16:01:22,578 - INFO - path_and_singleprint metric could not be logged. Saved model loading will continue.\n"
     ]
    },
    {
     "name": "stdout",
     "output_type": "stream",
     "text": [
      "Loading sigma8 emulator...\n",
      "Sigma8 emulator loaded in memory.\n",
      "Loading linear emulator...\n"
     ]
    },
    {
     "name": "stderr",
     "output_type": "stream",
     "text": [
      "2024-06-25 16:01:22,733 - INFO - Fingerprint not found. Saved model loading will continue.\n",
      "2024-06-25 16:01:22,734 - INFO - path_and_singleprint metric could not be logged. Saved model loading will continue.\n",
      "/dipc/dlopez/.conda/envs/VE_torch/lib/python3.9/site-packages/sklearn/base.py:348: InconsistentVersionWarning: Trying to unpickle estimator PCA from version 1.0 when using version 1.3.2. This might lead to breaking code or invalid results. Use at your own risk. For more info please refer to:\n",
      "https://scikit-learn.org/stable/model_persistence.html#security-maintainability-limitations\n",
      "  warnings.warn(\n",
      "/dipc/dlopez/.conda/envs/VE_torch/lib/python3.9/site-packages/sklearn/base.py:348: InconsistentVersionWarning: Trying to unpickle estimator StandardScaler from version 1.0 when using version 1.3.2. This might lead to breaking code or invalid results. Use at your own risk. For more info please refer to:\n",
      "https://scikit-learn.org/stable/model_persistence.html#security-maintainability-limitations\n",
      "  warnings.warn(\n",
      "2024-06-25 16:01:22,893 - INFO - Fingerprint not found. Saved model loading will continue.\n",
      "2024-06-25 16:01:22,894 - INFO - path_and_singleprint metric could not be logged. Saved model loading will continue.\n",
      "/dipc/dlopez/.conda/envs/VE_torch/lib/python3.9/site-packages/sklearn/base.py:348: InconsistentVersionWarning: Trying to unpickle estimator PCA from version 1.0 when using version 1.3.2. This might lead to breaking code or invalid results. Use at your own risk. For more info please refer to:\n",
      "https://scikit-learn.org/stable/model_persistence.html#security-maintainability-limitations\n",
      "  warnings.warn(\n",
      "/dipc/dlopez/.conda/envs/VE_torch/lib/python3.9/site-packages/sklearn/base.py:348: InconsistentVersionWarning: Trying to unpickle estimator StandardScaler from version 1.0 when using version 1.3.2. This might lead to breaking code or invalid results. Use at your own risk. For more info please refer to:\n",
      "https://scikit-learn.org/stable/model_persistence.html#security-maintainability-limitations\n",
      "  warnings.warn(\n",
      "2024-06-25 16:01:23,080 - INFO - Fingerprint not found. Saved model loading will continue.\n",
      "2024-06-25 16:01:23,081 - INFO - path_and_singleprint metric could not be logged. Saved model loading will continue.\n",
      "/dipc/dlopez/.conda/envs/VE_torch/lib/python3.9/site-packages/sklearn/base.py:348: InconsistentVersionWarning: Trying to unpickle estimator StandardScaler from version 1.0.2 when using version 1.3.2. This might lead to breaking code or invalid results. Use at your own risk. For more info please refer to:\n",
      "https://scikit-learn.org/stable/model_persistence.html#security-maintainability-limitations\n",
      "  warnings.warn(\n"
     ]
    },
    {
     "name": "stdout",
     "output_type": "stream",
     "text": [
      "Linear emulator loaded in memory.\n",
      "Loading no-wiggles emulator...\n",
      "No-wiggles emulator loaded in memory.\n",
      "Loading non-linear emulator...\n"
     ]
    },
    {
     "name": "stderr",
     "output_type": "stream",
     "text": [
      "2024-06-25 16:01:23,255 - INFO - Fingerprint not found. Saved model loading will continue.\n",
      "2024-06-25 16:01:23,256 - INFO - path_and_singleprint metric could not be logged. Saved model loading will continue.\n",
      "/dipc/dlopez/.conda/envs/VE_torch/lib/python3.9/site-packages/sklearn/base.py:348: InconsistentVersionWarning: Trying to unpickle estimator StandardScaler from version 0.22.1 when using version 1.3.2. This might lead to breaking code or invalid results. Use at your own risk. For more info please refer to:\n",
      "https://scikit-learn.org/stable/model_persistence.html#security-maintainability-limitations\n",
      "  warnings.warn(\n",
      "/dipc/dlopez/.conda/envs/VE_torch/lib/python3.9/site-packages/sklearn/base.py:348: InconsistentVersionWarning: Trying to unpickle estimator PCA from version 0.22.1 when using version 1.3.2. This might lead to breaking code or invalid results. Use at your own risk. For more info please refer to:\n",
      "https://scikit-learn.org/stable/model_persistence.html#security-maintainability-limitations\n",
      "  warnings.warn(\n",
      "2024-06-25 16:01:23,419 - INFO - Fingerprint not found. Saved model loading will continue.\n",
      "2024-06-25 16:01:23,420 - INFO - path_and_singleprint metric could not be logged. Saved model loading will continue.\n",
      "/dipc/dlopez/.conda/envs/VE_torch/lib/python3.9/site-packages/sklearn/base.py:348: InconsistentVersionWarning: Trying to unpickle estimator StandardScaler from version 0.23.2 when using version 1.3.2. This might lead to breaking code or invalid results. Use at your own risk. For more info please refer to:\n",
      "https://scikit-learn.org/stable/model_persistence.html#security-maintainability-limitations\n",
      "  warnings.warn(\n",
      "/dipc/dlopez/.conda/envs/VE_torch/lib/python3.9/site-packages/sklearn/base.py:348: InconsistentVersionWarning: Trying to unpickle estimator PCA from version 0.23.2 when using version 1.3.2. This might lead to breaking code or invalid results. Use at your own risk. For more info please refer to:\n",
      "https://scikit-learn.org/stable/model_persistence.html#security-maintainability-limitations\n",
      "  warnings.warn(\n"
     ]
    },
    {
     "name": "stdout",
     "output_type": "stream",
     "text": [
      "Nonlinear emulator loaded in memory.\n",
      "Loading Baryonic Emulator...\n",
      "Baryonic Emulator loaded in memory.\n"
     ]
    },
    {
     "name": "stderr",
     "output_type": "stream",
     "text": [
      "2024-06-25 16:01:23,712 - INFO - Generating baccoemu dataset...\n",
      "2024-06-25 16:01:23,713 - INFO - Generating Latin Hypercube samples...\n",
      "2024-06-25 16:01:23,718 - INFO - Generating power spectrum using baccoemu emulator...\n"
     ]
    },
    {
     "name": "stdout",
     "output_type": "stream",
     "text": [
      "Loading sigma8 emulator...\n"
     ]
    },
    {
     "name": "stderr",
     "output_type": "stream",
     "text": [
      "2024-06-25 16:01:24,547 - INFO - Fingerprint not found. Saved model loading will continue.\n",
      "2024-06-25 16:01:24,548 - INFO - path_and_singleprint metric could not be logged. Saved model loading will continue.\n",
      "2024-06-25 16:01:24,735 - INFO - Fingerprint not found. Saved model loading will continue.\n",
      "2024-06-25 16:01:24,736 - INFO - path_and_singleprint metric could not be logged. Saved model loading will continue.\n"
     ]
    },
    {
     "name": "stdout",
     "output_type": "stream",
     "text": [
      "Sigma8 emulator loaded in memory.\n",
      "Loading linear emulator...\n"
     ]
    },
    {
     "name": "stderr",
     "output_type": "stream",
     "text": [
      "/dipc/dlopez/.conda/envs/VE_torch/lib/python3.9/site-packages/sklearn/base.py:348: InconsistentVersionWarning: Trying to unpickle estimator PCA from version 1.0 when using version 1.3.2. This might lead to breaking code or invalid results. Use at your own risk. For more info please refer to:\n",
      "https://scikit-learn.org/stable/model_persistence.html#security-maintainability-limitations\n",
      "  warnings.warn(\n",
      "/dipc/dlopez/.conda/envs/VE_torch/lib/python3.9/site-packages/sklearn/base.py:348: InconsistentVersionWarning: Trying to unpickle estimator StandardScaler from version 1.0 when using version 1.3.2. This might lead to breaking code or invalid results. Use at your own risk. For more info please refer to:\n",
      "https://scikit-learn.org/stable/model_persistence.html#security-maintainability-limitations\n",
      "  warnings.warn(\n",
      "2024-06-25 16:01:24,916 - INFO - Fingerprint not found. Saved model loading will continue.\n",
      "2024-06-25 16:01:24,917 - INFO - path_and_singleprint metric could not be logged. Saved model loading will continue.\n",
      "/dipc/dlopez/.conda/envs/VE_torch/lib/python3.9/site-packages/sklearn/base.py:348: InconsistentVersionWarning: Trying to unpickle estimator PCA from version 1.0 when using version 1.3.2. This might lead to breaking code or invalid results. Use at your own risk. For more info please refer to:\n",
      "https://scikit-learn.org/stable/model_persistence.html#security-maintainability-limitations\n",
      "  warnings.warn(\n",
      "/dipc/dlopez/.conda/envs/VE_torch/lib/python3.9/site-packages/sklearn/base.py:348: InconsistentVersionWarning: Trying to unpickle estimator StandardScaler from version 1.0 when using version 1.3.2. This might lead to breaking code or invalid results. Use at your own risk. For more info please refer to:\n",
      "https://scikit-learn.org/stable/model_persistence.html#security-maintainability-limitations\n",
      "  warnings.warn(\n",
      "2024-06-25 16:01:25,128 - INFO - Fingerprint not found. Saved model loading will continue.\n",
      "2024-06-25 16:01:25,130 - INFO - path_and_singleprint metric could not be logged. Saved model loading will continue.\n"
     ]
    },
    {
     "name": "stdout",
     "output_type": "stream",
     "text": [
      "Linear emulator loaded in memory.\n",
      "Loading no-wiggles emulator...\n"
     ]
    },
    {
     "name": "stderr",
     "output_type": "stream",
     "text": [
      "/dipc/dlopez/.conda/envs/VE_torch/lib/python3.9/site-packages/sklearn/base.py:348: InconsistentVersionWarning: Trying to unpickle estimator StandardScaler from version 1.0.2 when using version 1.3.2. This might lead to breaking code or invalid results. Use at your own risk. For more info please refer to:\n",
      "https://scikit-learn.org/stable/model_persistence.html#security-maintainability-limitations\n",
      "  warnings.warn(\n",
      "2024-06-25 16:01:25,323 - INFO - Fingerprint not found. Saved model loading will continue.\n",
      "2024-06-25 16:01:25,325 - INFO - path_and_singleprint metric could not be logged. Saved model loading will continue.\n",
      "/dipc/dlopez/.conda/envs/VE_torch/lib/python3.9/site-packages/sklearn/base.py:348: InconsistentVersionWarning: Trying to unpickle estimator StandardScaler from version 0.22.1 when using version 1.3.2. This might lead to breaking code or invalid results. Use at your own risk. For more info please refer to:\n",
      "https://scikit-learn.org/stable/model_persistence.html#security-maintainability-limitations\n",
      "  warnings.warn(\n",
      "/dipc/dlopez/.conda/envs/VE_torch/lib/python3.9/site-packages/sklearn/base.py:348: InconsistentVersionWarning: Trying to unpickle estimator PCA from version 0.22.1 when using version 1.3.2. This might lead to breaking code or invalid results. Use at your own risk. For more info please refer to:\n",
      "https://scikit-learn.org/stable/model_persistence.html#security-maintainability-limitations\n",
      "  warnings.warn(\n"
     ]
    },
    {
     "name": "stdout",
     "output_type": "stream",
     "text": [
      "No-wiggles emulator loaded in memory.\n",
      "Loading non-linear emulator...\n",
      "Nonlinear emulator loaded in memory.\n",
      "Loading Baryonic Emulator...\n"
     ]
    },
    {
     "name": "stderr",
     "output_type": "stream",
     "text": [
      "2024-06-25 16:01:25,517 - INFO - Fingerprint not found. Saved model loading will continue.\n",
      "2024-06-25 16:01:25,519 - INFO - path_and_singleprint metric could not be logged. Saved model loading will continue.\n",
      "/dipc/dlopez/.conda/envs/VE_torch/lib/python3.9/site-packages/sklearn/base.py:348: InconsistentVersionWarning: Trying to unpickle estimator StandardScaler from version 0.23.2 when using version 1.3.2. This might lead to breaking code or invalid results. Use at your own risk. For more info please refer to:\n",
      "https://scikit-learn.org/stable/model_persistence.html#security-maintainability-limitations\n",
      "  warnings.warn(\n",
      "/dipc/dlopez/.conda/envs/VE_torch/lib/python3.9/site-packages/sklearn/base.py:348: InconsistentVersionWarning: Trying to unpickle estimator PCA from version 0.23.2 when using version 1.3.2. This might lead to breaking code or invalid results. Use at your own risk. For more info please refer to:\n",
      "https://scikit-learn.org/stable/model_persistence.html#security-maintainability-limitations\n",
      "  warnings.warn(\n"
     ]
    },
    {
     "name": "stdout",
     "output_type": "stream",
     "text": [
      "Baryonic Emulator loaded in memory.\n"
     ]
    },
    {
     "name": "stderr",
     "output_type": "stream",
     "text": [
      "2024-06-25 16:01:25,877 - INFO - Generating baccoemu dataset...\n",
      "2024-06-25 16:01:25,878 - INFO - Generating Latin Hypercube samples...\n",
      "2024-06-25 16:01:25,879 - INFO - Generating power spectrum using baccoemu emulator...\n",
      "2024-06-25 16:01:26,043 - INFO - Fingerprint not found. Saved model loading will continue.\n",
      "2024-06-25 16:01:26,044 - INFO - path_and_singleprint metric could not be logged. Saved model loading will continue.\n"
     ]
    },
    {
     "name": "stdout",
     "output_type": "stream",
     "text": [
      "Loading sigma8 emulator...\n",
      "Sigma8 emulator loaded in memory.\n",
      "Loading linear emulator...\n"
     ]
    },
    {
     "name": "stderr",
     "output_type": "stream",
     "text": [
      "2024-06-25 16:01:26,207 - INFO - Fingerprint not found. Saved model loading will continue.\n",
      "2024-06-25 16:01:26,208 - INFO - path_and_singleprint metric could not be logged. Saved model loading will continue.\n",
      "/dipc/dlopez/.conda/envs/VE_torch/lib/python3.9/site-packages/sklearn/base.py:348: InconsistentVersionWarning: Trying to unpickle estimator PCA from version 1.0 when using version 1.3.2. This might lead to breaking code or invalid results. Use at your own risk. For more info please refer to:\n",
      "https://scikit-learn.org/stable/model_persistence.html#security-maintainability-limitations\n",
      "  warnings.warn(\n",
      "/dipc/dlopez/.conda/envs/VE_torch/lib/python3.9/site-packages/sklearn/base.py:348: InconsistentVersionWarning: Trying to unpickle estimator StandardScaler from version 1.0 when using version 1.3.2. This might lead to breaking code or invalid results. Use at your own risk. For more info please refer to:\n",
      "https://scikit-learn.org/stable/model_persistence.html#security-maintainability-limitations\n",
      "  warnings.warn(\n",
      "2024-06-25 16:01:26,372 - INFO - Fingerprint not found. Saved model loading will continue.\n",
      "2024-06-25 16:01:26,373 - INFO - path_and_singleprint metric could not be logged. Saved model loading will continue.\n",
      "/dipc/dlopez/.conda/envs/VE_torch/lib/python3.9/site-packages/sklearn/base.py:348: InconsistentVersionWarning: Trying to unpickle estimator PCA from version 1.0 when using version 1.3.2. This might lead to breaking code or invalid results. Use at your own risk. For more info please refer to:\n",
      "https://scikit-learn.org/stable/model_persistence.html#security-maintainability-limitations\n",
      "  warnings.warn(\n",
      "/dipc/dlopez/.conda/envs/VE_torch/lib/python3.9/site-packages/sklearn/base.py:348: InconsistentVersionWarning: Trying to unpickle estimator StandardScaler from version 1.0 when using version 1.3.2. This might lead to breaking code or invalid results. Use at your own risk. For more info please refer to:\n",
      "https://scikit-learn.org/stable/model_persistence.html#security-maintainability-limitations\n",
      "  warnings.warn(\n",
      "2024-06-25 16:01:26,573 - INFO - Fingerprint not found. Saved model loading will continue.\n",
      "2024-06-25 16:01:26,575 - INFO - path_and_singleprint metric could not be logged. Saved model loading will continue.\n"
     ]
    },
    {
     "name": "stdout",
     "output_type": "stream",
     "text": [
      "Linear emulator loaded in memory.\n",
      "Loading no-wiggles emulator...\n"
     ]
    },
    {
     "name": "stderr",
     "output_type": "stream",
     "text": [
      "/dipc/dlopez/.conda/envs/VE_torch/lib/python3.9/site-packages/sklearn/base.py:348: InconsistentVersionWarning: Trying to unpickle estimator StandardScaler from version 1.0.2 when using version 1.3.2. This might lead to breaking code or invalid results. Use at your own risk. For more info please refer to:\n",
      "https://scikit-learn.org/stable/model_persistence.html#security-maintainability-limitations\n",
      "  warnings.warn(\n",
      "2024-06-25 16:01:26,775 - INFO - Fingerprint not found. Saved model loading will continue.\n",
      "2024-06-25 16:01:26,776 - INFO - path_and_singleprint metric could not be logged. Saved model loading will continue.\n",
      "/dipc/dlopez/.conda/envs/VE_torch/lib/python3.9/site-packages/sklearn/base.py:348: InconsistentVersionWarning: Trying to unpickle estimator StandardScaler from version 0.22.1 when using version 1.3.2. This might lead to breaking code or invalid results. Use at your own risk. For more info please refer to:\n",
      "https://scikit-learn.org/stable/model_persistence.html#security-maintainability-limitations\n",
      "  warnings.warn(\n",
      "/dipc/dlopez/.conda/envs/VE_torch/lib/python3.9/site-packages/sklearn/base.py:348: InconsistentVersionWarning: Trying to unpickle estimator PCA from version 0.22.1 when using version 1.3.2. This might lead to breaking code or invalid results. Use at your own risk. For more info please refer to:\n",
      "https://scikit-learn.org/stable/model_persistence.html#security-maintainability-limitations\n",
      "  warnings.warn(\n"
     ]
    },
    {
     "name": "stdout",
     "output_type": "stream",
     "text": [
      "No-wiggles emulator loaded in memory.\n",
      "Loading non-linear emulator...\n",
      "Nonlinear emulator loaded in memory.\n",
      "Loading Baryonic Emulator...\n"
     ]
    },
    {
     "name": "stderr",
     "output_type": "stream",
     "text": [
      "2024-06-25 16:01:26,953 - INFO - Fingerprint not found. Saved model loading will continue.\n",
      "2024-06-25 16:01:26,955 - INFO - path_and_singleprint metric could not be logged. Saved model loading will continue.\n",
      "/dipc/dlopez/.conda/envs/VE_torch/lib/python3.9/site-packages/sklearn/base.py:348: InconsistentVersionWarning: Trying to unpickle estimator StandardScaler from version 0.23.2 when using version 1.3.2. This might lead to breaking code or invalid results. Use at your own risk. For more info please refer to:\n",
      "https://scikit-learn.org/stable/model_persistence.html#security-maintainability-limitations\n",
      "  warnings.warn(\n",
      "/dipc/dlopez/.conda/envs/VE_torch/lib/python3.9/site-packages/sklearn/base.py:348: InconsistentVersionWarning: Trying to unpickle estimator PCA from version 0.23.2 when using version 1.3.2. This might lead to breaking code or invalid results. Use at your own risk. For more info please refer to:\n",
      "https://scikit-learn.org/stable/model_persistence.html#security-maintainability-limitations\n",
      "  warnings.warn(\n"
     ]
    },
    {
     "name": "stdout",
     "output_type": "stream",
     "text": [
      "Baryonic Emulator loaded in memory.\n"
     ]
    },
    {
     "name": "stderr",
     "output_type": "stream",
     "text": [
      "2024-06-25 16:01:27,273 - INFO - Generating baccoemu dataset...\n",
      "2024-06-25 16:01:27,274 - INFO - Generating Latin Hypercube samples...\n",
      "2024-06-25 16:01:27,277 - INFO - Generating power spectrum using baccoemu emulator...\n",
      "2024-06-25 16:01:27,443 - INFO - Fingerprint not found. Saved model loading will continue.\n",
      "2024-06-25 16:01:27,444 - INFO - path_and_singleprint metric could not be logged. Saved model loading will continue.\n"
     ]
    },
    {
     "name": "stdout",
     "output_type": "stream",
     "text": [
      "Loading sigma8 emulator...\n",
      "Sigma8 emulator loaded in memory.\n",
      "Loading linear emulator...\n"
     ]
    },
    {
     "name": "stderr",
     "output_type": "stream",
     "text": [
      "2024-06-25 16:01:27,610 - INFO - Fingerprint not found. Saved model loading will continue.\n",
      "2024-06-25 16:01:27,611 - INFO - path_and_singleprint metric could not be logged. Saved model loading will continue.\n",
      "/dipc/dlopez/.conda/envs/VE_torch/lib/python3.9/site-packages/sklearn/base.py:348: InconsistentVersionWarning: Trying to unpickle estimator PCA from version 1.0 when using version 1.3.2. This might lead to breaking code or invalid results. Use at your own risk. For more info please refer to:\n",
      "https://scikit-learn.org/stable/model_persistence.html#security-maintainability-limitations\n",
      "  warnings.warn(\n",
      "/dipc/dlopez/.conda/envs/VE_torch/lib/python3.9/site-packages/sklearn/base.py:348: InconsistentVersionWarning: Trying to unpickle estimator StandardScaler from version 1.0 when using version 1.3.2. This might lead to breaking code or invalid results. Use at your own risk. For more info please refer to:\n",
      "https://scikit-learn.org/stable/model_persistence.html#security-maintainability-limitations\n",
      "  warnings.warn(\n",
      "2024-06-25 16:01:27,779 - INFO - Fingerprint not found. Saved model loading will continue.\n",
      "2024-06-25 16:01:27,781 - INFO - path_and_singleprint metric could not be logged. Saved model loading will continue.\n",
      "/dipc/dlopez/.conda/envs/VE_torch/lib/python3.9/site-packages/sklearn/base.py:348: InconsistentVersionWarning: Trying to unpickle estimator PCA from version 1.0 when using version 1.3.2. This might lead to breaking code or invalid results. Use at your own risk. For more info please refer to:\n",
      "https://scikit-learn.org/stable/model_persistence.html#security-maintainability-limitations\n",
      "  warnings.warn(\n",
      "/dipc/dlopez/.conda/envs/VE_torch/lib/python3.9/site-packages/sklearn/base.py:348: InconsistentVersionWarning: Trying to unpickle estimator StandardScaler from version 1.0 when using version 1.3.2. This might lead to breaking code or invalid results. Use at your own risk. For more info please refer to:\n",
      "https://scikit-learn.org/stable/model_persistence.html#security-maintainability-limitations\n",
      "  warnings.warn(\n"
     ]
    },
    {
     "name": "stdout",
     "output_type": "stream",
     "text": [
      "Linear emulator loaded in memory.\n",
      "Loading no-wiggles emulator...\n"
     ]
    },
    {
     "name": "stderr",
     "output_type": "stream",
     "text": [
      "2024-06-25 16:01:28,673 - INFO - Fingerprint not found. Saved model loading will continue.\n",
      "2024-06-25 16:01:28,674 - INFO - path_and_singleprint metric could not be logged. Saved model loading will continue.\n",
      "/dipc/dlopez/.conda/envs/VE_torch/lib/python3.9/site-packages/sklearn/base.py:348: InconsistentVersionWarning: Trying to unpickle estimator StandardScaler from version 1.0.2 when using version 1.3.2. This might lead to breaking code or invalid results. Use at your own risk. For more info please refer to:\n",
      "https://scikit-learn.org/stable/model_persistence.html#security-maintainability-limitations\n",
      "  warnings.warn(\n",
      "2024-06-25 16:01:28,867 - INFO - Fingerprint not found. Saved model loading will continue.\n",
      "2024-06-25 16:01:28,868 - INFO - path_and_singleprint metric could not be logged. Saved model loading will continue.\n",
      "/dipc/dlopez/.conda/envs/VE_torch/lib/python3.9/site-packages/sklearn/base.py:348: InconsistentVersionWarning: Trying to unpickle estimator StandardScaler from version 0.22.1 when using version 1.3.2. This might lead to breaking code or invalid results. Use at your own risk. For more info please refer to:\n",
      "https://scikit-learn.org/stable/model_persistence.html#security-maintainability-limitations\n",
      "  warnings.warn(\n",
      "/dipc/dlopez/.conda/envs/VE_torch/lib/python3.9/site-packages/sklearn/base.py:348: InconsistentVersionWarning: Trying to unpickle estimator PCA from version 0.22.1 when using version 1.3.2. This might lead to breaking code or invalid results. Use at your own risk. For more info please refer to:\n",
      "https://scikit-learn.org/stable/model_persistence.html#security-maintainability-limitations\n",
      "  warnings.warn(\n"
     ]
    },
    {
     "name": "stdout",
     "output_type": "stream",
     "text": [
      "No-wiggles emulator loaded in memory.\n",
      "Loading non-linear emulator...\n",
      "Nonlinear emulator loaded in memory.\n",
      "Loading Baryonic Emulator...\n"
     ]
    },
    {
     "name": "stderr",
     "output_type": "stream",
     "text": [
      "2024-06-25 16:01:29,048 - INFO - Fingerprint not found. Saved model loading will continue.\n",
      "2024-06-25 16:01:29,049 - INFO - path_and_singleprint metric could not be logged. Saved model loading will continue.\n",
      "/dipc/dlopez/.conda/envs/VE_torch/lib/python3.9/site-packages/sklearn/base.py:348: InconsistentVersionWarning: Trying to unpickle estimator StandardScaler from version 0.23.2 when using version 1.3.2. This might lead to breaking code or invalid results. Use at your own risk. For more info please refer to:\n",
      "https://scikit-learn.org/stable/model_persistence.html#security-maintainability-limitations\n",
      "  warnings.warn(\n",
      "/dipc/dlopez/.conda/envs/VE_torch/lib/python3.9/site-packages/sklearn/base.py:348: InconsistentVersionWarning: Trying to unpickle estimator PCA from version 0.23.2 when using version 1.3.2. This might lead to breaking code or invalid results. Use at your own risk. For more info please refer to:\n",
      "https://scikit-learn.org/stable/model_persistence.html#security-maintainability-limitations\n",
      "  warnings.warn(\n"
     ]
    },
    {
     "name": "stdout",
     "output_type": "stream",
     "text": [
      "Baryonic Emulator loaded in memory.\n"
     ]
    },
    {
     "name": "stderr",
     "output_type": "stream",
     "text": [
      "2024-06-25 16:01:29,376 - INFO - Generating baccoemu dataset...\n",
      "2024-06-25 16:01:29,377 - INFO - Generating Latin Hypercube samples...\n",
      "2024-06-25 16:01:29,381 - INFO - Generating power spectrum using baccoemu emulator...\n",
      "2024-06-25 16:01:29,538 - INFO - Fingerprint not found. Saved model loading will continue.\n",
      "2024-06-25 16:01:29,539 - INFO - path_and_singleprint metric could not be logged. Saved model loading will continue.\n"
     ]
    },
    {
     "name": "stdout",
     "output_type": "stream",
     "text": [
      "Loading sigma8 emulator...\n",
      "Sigma8 emulator loaded in memory.\n",
      "Loading linear emulator...\n"
     ]
    },
    {
     "name": "stderr",
     "output_type": "stream",
     "text": [
      "2024-06-25 16:01:29,696 - INFO - Fingerprint not found. Saved model loading will continue.\n",
      "2024-06-25 16:01:29,697 - INFO - path_and_singleprint metric could not be logged. Saved model loading will continue.\n",
      "/dipc/dlopez/.conda/envs/VE_torch/lib/python3.9/site-packages/sklearn/base.py:348: InconsistentVersionWarning: Trying to unpickle estimator PCA from version 1.0 when using version 1.3.2. This might lead to breaking code or invalid results. Use at your own risk. For more info please refer to:\n",
      "https://scikit-learn.org/stable/model_persistence.html#security-maintainability-limitations\n",
      "  warnings.warn(\n",
      "/dipc/dlopez/.conda/envs/VE_torch/lib/python3.9/site-packages/sklearn/base.py:348: InconsistentVersionWarning: Trying to unpickle estimator StandardScaler from version 1.0 when using version 1.3.2. This might lead to breaking code or invalid results. Use at your own risk. For more info please refer to:\n",
      "https://scikit-learn.org/stable/model_persistence.html#security-maintainability-limitations\n",
      "  warnings.warn(\n",
      "2024-06-25 16:01:29,850 - INFO - Fingerprint not found. Saved model loading will continue.\n",
      "2024-06-25 16:01:29,851 - INFO - path_and_singleprint metric could not be logged. Saved model loading will continue.\n",
      "/dipc/dlopez/.conda/envs/VE_torch/lib/python3.9/site-packages/sklearn/base.py:348: InconsistentVersionWarning: Trying to unpickle estimator PCA from version 1.0 when using version 1.3.2. This might lead to breaking code or invalid results. Use at your own risk. For more info please refer to:\n",
      "https://scikit-learn.org/stable/model_persistence.html#security-maintainability-limitations\n",
      "  warnings.warn(\n",
      "/dipc/dlopez/.conda/envs/VE_torch/lib/python3.9/site-packages/sklearn/base.py:348: InconsistentVersionWarning: Trying to unpickle estimator StandardScaler from version 1.0 when using version 1.3.2. This might lead to breaking code or invalid results. Use at your own risk. For more info please refer to:\n",
      "https://scikit-learn.org/stable/model_persistence.html#security-maintainability-limitations\n",
      "  warnings.warn(\n",
      "2024-06-25 16:01:30,031 - INFO - Fingerprint not found. Saved model loading will continue.\n",
      "2024-06-25 16:01:30,033 - INFO - path_and_singleprint metric could not be logged. Saved model loading will continue.\n",
      "/dipc/dlopez/.conda/envs/VE_torch/lib/python3.9/site-packages/sklearn/base.py:348: InconsistentVersionWarning: Trying to unpickle estimator StandardScaler from version 1.0.2 when using version 1.3.2. This might lead to breaking code or invalid results. Use at your own risk. For more info please refer to:\n",
      "https://scikit-learn.org/stable/model_persistence.html#security-maintainability-limitations\n",
      "  warnings.warn(\n"
     ]
    },
    {
     "name": "stdout",
     "output_type": "stream",
     "text": [
      "Linear emulator loaded in memory.\n",
      "Loading no-wiggles emulator...\n",
      "No-wiggles emulator loaded in memory.\n",
      "Loading non-linear emulator...\n"
     ]
    },
    {
     "name": "stderr",
     "output_type": "stream",
     "text": [
      "2024-06-25 16:01:30,205 - INFO - Fingerprint not found. Saved model loading will continue.\n",
      "2024-06-25 16:01:30,207 - INFO - path_and_singleprint metric could not be logged. Saved model loading will continue.\n",
      "/dipc/dlopez/.conda/envs/VE_torch/lib/python3.9/site-packages/sklearn/base.py:348: InconsistentVersionWarning: Trying to unpickle estimator StandardScaler from version 0.22.1 when using version 1.3.2. This might lead to breaking code or invalid results. Use at your own risk. For more info please refer to:\n",
      "https://scikit-learn.org/stable/model_persistence.html#security-maintainability-limitations\n",
      "  warnings.warn(\n",
      "/dipc/dlopez/.conda/envs/VE_torch/lib/python3.9/site-packages/sklearn/base.py:348: InconsistentVersionWarning: Trying to unpickle estimator PCA from version 0.22.1 when using version 1.3.2. This might lead to breaking code or invalid results. Use at your own risk. For more info please refer to:\n",
      "https://scikit-learn.org/stable/model_persistence.html#security-maintainability-limitations\n",
      "  warnings.warn(\n",
      "2024-06-25 16:01:30,405 - INFO - Fingerprint not found. Saved model loading will continue.\n",
      "2024-06-25 16:01:30,407 - INFO - path_and_singleprint metric could not be logged. Saved model loading will continue.\n"
     ]
    },
    {
     "name": "stdout",
     "output_type": "stream",
     "text": [
      "Nonlinear emulator loaded in memory.\n",
      "Loading Baryonic Emulator...\n"
     ]
    },
    {
     "name": "stderr",
     "output_type": "stream",
     "text": [
      "/dipc/dlopez/.conda/envs/VE_torch/lib/python3.9/site-packages/sklearn/base.py:348: InconsistentVersionWarning: Trying to unpickle estimator StandardScaler from version 0.23.2 when using version 1.3.2. This might lead to breaking code or invalid results. Use at your own risk. For more info please refer to:\n",
      "https://scikit-learn.org/stable/model_persistence.html#security-maintainability-limitations\n",
      "  warnings.warn(\n",
      "/dipc/dlopez/.conda/envs/VE_torch/lib/python3.9/site-packages/sklearn/base.py:348: InconsistentVersionWarning: Trying to unpickle estimator PCA from version 0.23.2 when using version 1.3.2. This might lead to breaking code or invalid results. Use at your own risk. For more info please refer to:\n",
      "https://scikit-learn.org/stable/model_persistence.html#security-maintainability-limitations\n",
      "  warnings.warn(\n"
     ]
    },
    {
     "name": "stdout",
     "output_type": "stream",
     "text": [
      "Baryonic Emulator loaded in memory.\n"
     ]
    }
   ],
   "source": [
    "for ii in range(sample_fixed_baryon_models.shape[0]):\n",
    "    model_name = \"Model_fixed_\" + str(ii)\n",
    "    NN_samples_augs = 1\n",
    "    dict_bounds_augs_fixed = dict(\n",
    "        M_c       = sample_fixed_baryon_models[ii,0],\n",
    "        eta       = sample_fixed_baryon_models[ii,1],\n",
    "        beta      = sample_fixed_baryon_models[ii,2],\n",
    "        M1_z0_cen = sample_fixed_baryon_models[ii,3],\n",
    "        theta_out = sample_fixed_baryon_models[ii,4],\n",
    "        theta_inn = sample_fixed_baryon_models[ii,5],\n",
    "        M_inn     = sample_fixed_baryon_models[ii,6],\n",
    "    )\n",
    "    COSMOS[ds_mode][model_name], XX[ds_mode][model_name], AUG_PARAMS[ds_mode][model_name], EXTENDED_AUG_PARAMS[ds_mode][model_name] = cl_inference.preprocessing_tools.generate_baccoemu_dataset(\n",
    "        NN_samples_cosmo  = NN_samples_cosmo_test,\n",
    "        NN_samples_augs   = NN_samples_augs,\n",
    "        dict_bounds_cosmo = dict_bounds_cosmo_test,\n",
    "        dict_bounds_augs  = dict_bounds_augs_fixed,\n",
    "        seed              = seed_test,\n",
    "        path_save         = path_save,\n",
    "        model_name        = model_name,\n",
    "        kmax              = kmax, box=box, factor_kmin_cut=factor_kmin_cut\n",
    "    )"
   ]
  },
  {
   "cell_type": "markdown",
   "id": "9c9de55f",
   "metadata": {},
   "source": [
    "# VALIDATE DATASETS"
   ]
  },
  {
   "cell_type": "code",
   "execution_count": 45,
   "id": "76248fea",
   "metadata": {},
   "outputs": [],
   "source": [
    "kf = 2.0 * np.pi / box\n",
    "kmin=np.log10(factor_kmin_cut*kf)\n",
    "N_kk = int((kmax - kmin) / (8*kf))\n",
    "kk = np.logspace(kmin, kmax, num=N_kk)"
   ]
  },
  {
   "cell_type": "code",
   "execution_count": 46,
   "id": "90b3dc7a",
   "metadata": {},
   "outputs": [
    {
     "name": "stdout",
     "output_type": "stream",
     "text": [
      "(2048, 5)\n",
      "[0.24000642 0.04100643 0.61004414 0.93000435 0.74001409]\n",
      "[0.38995125 0.05899252 0.78999431 0.99998963 0.88994846]\n",
      "(2048, 1, 278)\n",
      "1.4082677598509339\n",
      "4.774213425572659\n",
      "(2048, 1, 0)\n",
      "(2048, 0)\n",
      "[]\n",
      "[]\n",
      "(2048, 1, 7)\n"
     ]
    }
   ],
   "source": [
    "ds_mode = 'TEST'\n",
    "model_name = 'Model_fixed_illustris'\n",
    "\n",
    "cosmos = COSMOS[ds_mode][model_name]\n",
    "xx = XX[ds_mode][model_name]\n",
    "aug_params = AUG_PARAMS[ds_mode][model_name]\n",
    "extended_aug_params = EXTENDED_AUG_PARAMS[ds_mode][model_name]\n",
    "\n",
    "print(cosmos.shape)\n",
    "print(np.min(cosmos, axis=0))\n",
    "print(np.max(cosmos, axis=0))\n",
    "\n",
    "print(xx.shape)\n",
    "print(xx.min())\n",
    "print(xx.max())\n",
    "\n",
    "print(aug_params.shape)\n",
    "tmp_aug_params = np.reshape(aug_params, (aug_params.shape[0]*aug_params.shape[1], aug_params.shape[-1]))\n",
    "print(tmp_aug_params.shape)\n",
    "print(np.min(tmp_aug_params, axis=0))\n",
    "print(np.max(tmp_aug_params, axis=0))\n",
    "\n",
    "print(extended_aug_params.shape)"
   ]
  },
  {
   "cell_type": "code",
   "execution_count": 47,
   "id": "2d35ae49",
   "metadata": {
    "scrolled": false
   },
   "outputs": [
    {
     "data": {
      "application/javascript": [
       "/* Put everything inside the global mpl namespace */\n",
       "/* global mpl */\n",
       "window.mpl = {};\n",
       "\n",
       "mpl.get_websocket_type = function () {\n",
       "    if (typeof WebSocket !== 'undefined') {\n",
       "        return WebSocket;\n",
       "    } else if (typeof MozWebSocket !== 'undefined') {\n",
       "        return MozWebSocket;\n",
       "    } else {\n",
       "        alert(\n",
       "            'Your browser does not have WebSocket support. ' +\n",
       "                'Please try Chrome, Safari or Firefox ≥ 6. ' +\n",
       "                'Firefox 4 and 5 are also supported but you ' +\n",
       "                'have to enable WebSockets in about:config.'\n",
       "        );\n",
       "    }\n",
       "};\n",
       "\n",
       "mpl.figure = function (figure_id, websocket, ondownload, parent_element) {\n",
       "    this.id = figure_id;\n",
       "\n",
       "    this.ws = websocket;\n",
       "\n",
       "    this.supports_binary = this.ws.binaryType !== undefined;\n",
       "\n",
       "    if (!this.supports_binary) {\n",
       "        var warnings = document.getElementById('mpl-warnings');\n",
       "        if (warnings) {\n",
       "            warnings.style.display = 'block';\n",
       "            warnings.textContent =\n",
       "                'This browser does not support binary websocket messages. ' +\n",
       "                'Performance may be slow.';\n",
       "        }\n",
       "    }\n",
       "\n",
       "    this.imageObj = new Image();\n",
       "\n",
       "    this.context = undefined;\n",
       "    this.message = undefined;\n",
       "    this.canvas = undefined;\n",
       "    this.rubberband_canvas = undefined;\n",
       "    this.rubberband_context = undefined;\n",
       "    this.format_dropdown = undefined;\n",
       "\n",
       "    this.image_mode = 'full';\n",
       "\n",
       "    this.root = document.createElement('div');\n",
       "    this.root.setAttribute('style', 'display: inline-block');\n",
       "    this._root_extra_style(this.root);\n",
       "\n",
       "    parent_element.appendChild(this.root);\n",
       "\n",
       "    this._init_header(this);\n",
       "    this._init_canvas(this);\n",
       "    this._init_toolbar(this);\n",
       "\n",
       "    var fig = this;\n",
       "\n",
       "    this.waiting = false;\n",
       "\n",
       "    this.ws.onopen = function () {\n",
       "        fig.send_message('supports_binary', { value: fig.supports_binary });\n",
       "        fig.send_message('send_image_mode', {});\n",
       "        if (fig.ratio !== 1) {\n",
       "            fig.send_message('set_device_pixel_ratio', {\n",
       "                device_pixel_ratio: fig.ratio,\n",
       "            });\n",
       "        }\n",
       "        fig.send_message('refresh', {});\n",
       "    };\n",
       "\n",
       "    this.imageObj.onload = function () {\n",
       "        if (fig.image_mode === 'full') {\n",
       "            // Full images could contain transparency (where diff images\n",
       "            // almost always do), so we need to clear the canvas so that\n",
       "            // there is no ghosting.\n",
       "            fig.context.clearRect(0, 0, fig.canvas.width, fig.canvas.height);\n",
       "        }\n",
       "        fig.context.drawImage(fig.imageObj, 0, 0);\n",
       "    };\n",
       "\n",
       "    this.imageObj.onunload = function () {\n",
       "        fig.ws.close();\n",
       "    };\n",
       "\n",
       "    this.ws.onmessage = this._make_on_message_function(this);\n",
       "\n",
       "    this.ondownload = ondownload;\n",
       "};\n",
       "\n",
       "mpl.figure.prototype._init_header = function () {\n",
       "    var titlebar = document.createElement('div');\n",
       "    titlebar.classList =\n",
       "        'ui-dialog-titlebar ui-widget-header ui-corner-all ui-helper-clearfix';\n",
       "    var titletext = document.createElement('div');\n",
       "    titletext.classList = 'ui-dialog-title';\n",
       "    titletext.setAttribute(\n",
       "        'style',\n",
       "        'width: 100%; text-align: center; padding: 3px;'\n",
       "    );\n",
       "    titlebar.appendChild(titletext);\n",
       "    this.root.appendChild(titlebar);\n",
       "    this.header = titletext;\n",
       "};\n",
       "\n",
       "mpl.figure.prototype._canvas_extra_style = function (_canvas_div) {};\n",
       "\n",
       "mpl.figure.prototype._root_extra_style = function (_canvas_div) {};\n",
       "\n",
       "mpl.figure.prototype._init_canvas = function () {\n",
       "    var fig = this;\n",
       "\n",
       "    var canvas_div = (this.canvas_div = document.createElement('div'));\n",
       "    canvas_div.setAttribute('tabindex', '0');\n",
       "    canvas_div.setAttribute(\n",
       "        'style',\n",
       "        'border: 1px solid #ddd;' +\n",
       "            'box-sizing: content-box;' +\n",
       "            'clear: both;' +\n",
       "            'min-height: 1px;' +\n",
       "            'min-width: 1px;' +\n",
       "            'outline: 0;' +\n",
       "            'overflow: hidden;' +\n",
       "            'position: relative;' +\n",
       "            'resize: both;' +\n",
       "            'z-index: 2;'\n",
       "    );\n",
       "\n",
       "    function on_keyboard_event_closure(name) {\n",
       "        return function (event) {\n",
       "            return fig.key_event(event, name);\n",
       "        };\n",
       "    }\n",
       "\n",
       "    canvas_div.addEventListener(\n",
       "        'keydown',\n",
       "        on_keyboard_event_closure('key_press')\n",
       "    );\n",
       "    canvas_div.addEventListener(\n",
       "        'keyup',\n",
       "        on_keyboard_event_closure('key_release')\n",
       "    );\n",
       "\n",
       "    this._canvas_extra_style(canvas_div);\n",
       "    this.root.appendChild(canvas_div);\n",
       "\n",
       "    var canvas = (this.canvas = document.createElement('canvas'));\n",
       "    canvas.classList.add('mpl-canvas');\n",
       "    canvas.setAttribute(\n",
       "        'style',\n",
       "        'box-sizing: content-box;' +\n",
       "            'pointer-events: none;' +\n",
       "            'position: relative;' +\n",
       "            'z-index: 0;'\n",
       "    );\n",
       "\n",
       "    this.context = canvas.getContext('2d');\n",
       "\n",
       "    var backingStore =\n",
       "        this.context.backingStorePixelRatio ||\n",
       "        this.context.webkitBackingStorePixelRatio ||\n",
       "        this.context.mozBackingStorePixelRatio ||\n",
       "        this.context.msBackingStorePixelRatio ||\n",
       "        this.context.oBackingStorePixelRatio ||\n",
       "        this.context.backingStorePixelRatio ||\n",
       "        1;\n",
       "\n",
       "    this.ratio = (window.devicePixelRatio || 1) / backingStore;\n",
       "\n",
       "    var rubberband_canvas = (this.rubberband_canvas = document.createElement(\n",
       "        'canvas'\n",
       "    ));\n",
       "    rubberband_canvas.setAttribute(\n",
       "        'style',\n",
       "        'box-sizing: content-box;' +\n",
       "            'left: 0;' +\n",
       "            'pointer-events: none;' +\n",
       "            'position: absolute;' +\n",
       "            'top: 0;' +\n",
       "            'z-index: 1;'\n",
       "    );\n",
       "\n",
       "    // Apply a ponyfill if ResizeObserver is not implemented by browser.\n",
       "    if (this.ResizeObserver === undefined) {\n",
       "        if (window.ResizeObserver !== undefined) {\n",
       "            this.ResizeObserver = window.ResizeObserver;\n",
       "        } else {\n",
       "            var obs = _JSXTOOLS_RESIZE_OBSERVER({});\n",
       "            this.ResizeObserver = obs.ResizeObserver;\n",
       "        }\n",
       "    }\n",
       "\n",
       "    this.resizeObserverInstance = new this.ResizeObserver(function (entries) {\n",
       "        var nentries = entries.length;\n",
       "        for (var i = 0; i < nentries; i++) {\n",
       "            var entry = entries[i];\n",
       "            var width, height;\n",
       "            if (entry.contentBoxSize) {\n",
       "                if (entry.contentBoxSize instanceof Array) {\n",
       "                    // Chrome 84 implements new version of spec.\n",
       "                    width = entry.contentBoxSize[0].inlineSize;\n",
       "                    height = entry.contentBoxSize[0].blockSize;\n",
       "                } else {\n",
       "                    // Firefox implements old version of spec.\n",
       "                    width = entry.contentBoxSize.inlineSize;\n",
       "                    height = entry.contentBoxSize.blockSize;\n",
       "                }\n",
       "            } else {\n",
       "                // Chrome <84 implements even older version of spec.\n",
       "                width = entry.contentRect.width;\n",
       "                height = entry.contentRect.height;\n",
       "            }\n",
       "\n",
       "            // Keep the size of the canvas and rubber band canvas in sync with\n",
       "            // the canvas container.\n",
       "            if (entry.devicePixelContentBoxSize) {\n",
       "                // Chrome 84 implements new version of spec.\n",
       "                canvas.setAttribute(\n",
       "                    'width',\n",
       "                    entry.devicePixelContentBoxSize[0].inlineSize\n",
       "                );\n",
       "                canvas.setAttribute(\n",
       "                    'height',\n",
       "                    entry.devicePixelContentBoxSize[0].blockSize\n",
       "                );\n",
       "            } else {\n",
       "                canvas.setAttribute('width', width * fig.ratio);\n",
       "                canvas.setAttribute('height', height * fig.ratio);\n",
       "            }\n",
       "            /* This rescales the canvas back to display pixels, so that it\n",
       "             * appears correct on HiDPI screens. */\n",
       "            canvas.style.width = width + 'px';\n",
       "            canvas.style.height = height + 'px';\n",
       "\n",
       "            rubberband_canvas.setAttribute('width', width);\n",
       "            rubberband_canvas.setAttribute('height', height);\n",
       "\n",
       "            // And update the size in Python. We ignore the initial 0/0 size\n",
       "            // that occurs as the element is placed into the DOM, which should\n",
       "            // otherwise not happen due to the minimum size styling.\n",
       "            if (fig.ws.readyState == 1 && width != 0 && height != 0) {\n",
       "                fig.request_resize(width, height);\n",
       "            }\n",
       "        }\n",
       "    });\n",
       "    this.resizeObserverInstance.observe(canvas_div);\n",
       "\n",
       "    function on_mouse_event_closure(name) {\n",
       "        /* User Agent sniffing is bad, but WebKit is busted:\n",
       "         * https://bugs.webkit.org/show_bug.cgi?id=144526\n",
       "         * https://bugs.webkit.org/show_bug.cgi?id=181818\n",
       "         * The worst that happens here is that they get an extra browser\n",
       "         * selection when dragging, if this check fails to catch them.\n",
       "         */\n",
       "        var UA = navigator.userAgent;\n",
       "        var isWebKit = /AppleWebKit/.test(UA) && !/Chrome/.test(UA);\n",
       "        if(isWebKit) {\n",
       "            return function (event) {\n",
       "                /* This prevents the web browser from automatically changing to\n",
       "                 * the text insertion cursor when the button is pressed. We\n",
       "                 * want to control all of the cursor setting manually through\n",
       "                 * the 'cursor' event from matplotlib */\n",
       "                event.preventDefault()\n",
       "                return fig.mouse_event(event, name);\n",
       "            };\n",
       "        } else {\n",
       "            return function (event) {\n",
       "                return fig.mouse_event(event, name);\n",
       "            };\n",
       "        }\n",
       "    }\n",
       "\n",
       "    canvas_div.addEventListener(\n",
       "        'mousedown',\n",
       "        on_mouse_event_closure('button_press')\n",
       "    );\n",
       "    canvas_div.addEventListener(\n",
       "        'mouseup',\n",
       "        on_mouse_event_closure('button_release')\n",
       "    );\n",
       "    canvas_div.addEventListener(\n",
       "        'dblclick',\n",
       "        on_mouse_event_closure('dblclick')\n",
       "    );\n",
       "    // Throttle sequential mouse events to 1 every 20ms.\n",
       "    canvas_div.addEventListener(\n",
       "        'mousemove',\n",
       "        on_mouse_event_closure('motion_notify')\n",
       "    );\n",
       "\n",
       "    canvas_div.addEventListener(\n",
       "        'mouseenter',\n",
       "        on_mouse_event_closure('figure_enter')\n",
       "    );\n",
       "    canvas_div.addEventListener(\n",
       "        'mouseleave',\n",
       "        on_mouse_event_closure('figure_leave')\n",
       "    );\n",
       "\n",
       "    canvas_div.addEventListener('wheel', function (event) {\n",
       "        if (event.deltaY < 0) {\n",
       "            event.step = 1;\n",
       "        } else {\n",
       "            event.step = -1;\n",
       "        }\n",
       "        on_mouse_event_closure('scroll')(event);\n",
       "    });\n",
       "\n",
       "    canvas_div.appendChild(canvas);\n",
       "    canvas_div.appendChild(rubberband_canvas);\n",
       "\n",
       "    this.rubberband_context = rubberband_canvas.getContext('2d');\n",
       "    this.rubberband_context.strokeStyle = '#000000';\n",
       "\n",
       "    this._resize_canvas = function (width, height, forward) {\n",
       "        if (forward) {\n",
       "            canvas_div.style.width = width + 'px';\n",
       "            canvas_div.style.height = height + 'px';\n",
       "        }\n",
       "    };\n",
       "\n",
       "    // Disable right mouse context menu.\n",
       "    canvas_div.addEventListener('contextmenu', function (_e) {\n",
       "        event.preventDefault();\n",
       "        return false;\n",
       "    });\n",
       "\n",
       "    function set_focus() {\n",
       "        canvas.focus();\n",
       "        canvas_div.focus();\n",
       "    }\n",
       "\n",
       "    window.setTimeout(set_focus, 100);\n",
       "};\n",
       "\n",
       "mpl.figure.prototype._init_toolbar = function () {\n",
       "    var fig = this;\n",
       "\n",
       "    var toolbar = document.createElement('div');\n",
       "    toolbar.classList = 'mpl-toolbar';\n",
       "    this.root.appendChild(toolbar);\n",
       "\n",
       "    function on_click_closure(name) {\n",
       "        return function (_event) {\n",
       "            return fig.toolbar_button_onclick(name);\n",
       "        };\n",
       "    }\n",
       "\n",
       "    function on_mouseover_closure(tooltip) {\n",
       "        return function (event) {\n",
       "            if (!event.currentTarget.disabled) {\n",
       "                return fig.toolbar_button_onmouseover(tooltip);\n",
       "            }\n",
       "        };\n",
       "    }\n",
       "\n",
       "    fig.buttons = {};\n",
       "    var buttonGroup = document.createElement('div');\n",
       "    buttonGroup.classList = 'mpl-button-group';\n",
       "    for (var toolbar_ind in mpl.toolbar_items) {\n",
       "        var name = mpl.toolbar_items[toolbar_ind][0];\n",
       "        var tooltip = mpl.toolbar_items[toolbar_ind][1];\n",
       "        var image = mpl.toolbar_items[toolbar_ind][2];\n",
       "        var method_name = mpl.toolbar_items[toolbar_ind][3];\n",
       "\n",
       "        if (!name) {\n",
       "            /* Instead of a spacer, we start a new button group. */\n",
       "            if (buttonGroup.hasChildNodes()) {\n",
       "                toolbar.appendChild(buttonGroup);\n",
       "            }\n",
       "            buttonGroup = document.createElement('div');\n",
       "            buttonGroup.classList = 'mpl-button-group';\n",
       "            continue;\n",
       "        }\n",
       "\n",
       "        var button = (fig.buttons[name] = document.createElement('button'));\n",
       "        button.classList = 'mpl-widget';\n",
       "        button.setAttribute('role', 'button');\n",
       "        button.setAttribute('aria-disabled', 'false');\n",
       "        button.addEventListener('click', on_click_closure(method_name));\n",
       "        button.addEventListener('mouseover', on_mouseover_closure(tooltip));\n",
       "\n",
       "        var icon_img = document.createElement('img');\n",
       "        icon_img.src = '_images/' + image + '.png';\n",
       "        icon_img.srcset = '_images/' + image + '_large.png 2x';\n",
       "        icon_img.alt = tooltip;\n",
       "        button.appendChild(icon_img);\n",
       "\n",
       "        buttonGroup.appendChild(button);\n",
       "    }\n",
       "\n",
       "    if (buttonGroup.hasChildNodes()) {\n",
       "        toolbar.appendChild(buttonGroup);\n",
       "    }\n",
       "\n",
       "    var fmt_picker = document.createElement('select');\n",
       "    fmt_picker.classList = 'mpl-widget';\n",
       "    toolbar.appendChild(fmt_picker);\n",
       "    this.format_dropdown = fmt_picker;\n",
       "\n",
       "    for (var ind in mpl.extensions) {\n",
       "        var fmt = mpl.extensions[ind];\n",
       "        var option = document.createElement('option');\n",
       "        option.selected = fmt === mpl.default_extension;\n",
       "        option.innerHTML = fmt;\n",
       "        fmt_picker.appendChild(option);\n",
       "    }\n",
       "\n",
       "    var status_bar = document.createElement('span');\n",
       "    status_bar.classList = 'mpl-message';\n",
       "    toolbar.appendChild(status_bar);\n",
       "    this.message = status_bar;\n",
       "};\n",
       "\n",
       "mpl.figure.prototype.request_resize = function (x_pixels, y_pixels) {\n",
       "    // Request matplotlib to resize the figure. Matplotlib will then trigger a resize in the client,\n",
       "    // which will in turn request a refresh of the image.\n",
       "    this.send_message('resize', { width: x_pixels, height: y_pixels });\n",
       "};\n",
       "\n",
       "mpl.figure.prototype.send_message = function (type, properties) {\n",
       "    properties['type'] = type;\n",
       "    properties['figure_id'] = this.id;\n",
       "    this.ws.send(JSON.stringify(properties));\n",
       "};\n",
       "\n",
       "mpl.figure.prototype.send_draw_message = function () {\n",
       "    if (!this.waiting) {\n",
       "        this.waiting = true;\n",
       "        this.ws.send(JSON.stringify({ type: 'draw', figure_id: this.id }));\n",
       "    }\n",
       "};\n",
       "\n",
       "mpl.figure.prototype.handle_save = function (fig, _msg) {\n",
       "    var format_dropdown = fig.format_dropdown;\n",
       "    var format = format_dropdown.options[format_dropdown.selectedIndex].value;\n",
       "    fig.ondownload(fig, format);\n",
       "};\n",
       "\n",
       "mpl.figure.prototype.handle_resize = function (fig, msg) {\n",
       "    var size = msg['size'];\n",
       "    if (size[0] !== fig.canvas.width || size[1] !== fig.canvas.height) {\n",
       "        fig._resize_canvas(size[0], size[1], msg['forward']);\n",
       "        fig.send_message('refresh', {});\n",
       "    }\n",
       "};\n",
       "\n",
       "mpl.figure.prototype.handle_rubberband = function (fig, msg) {\n",
       "    var x0 = msg['x0'] / fig.ratio;\n",
       "    var y0 = (fig.canvas.height - msg['y0']) / fig.ratio;\n",
       "    var x1 = msg['x1'] / fig.ratio;\n",
       "    var y1 = (fig.canvas.height - msg['y1']) / fig.ratio;\n",
       "    x0 = Math.floor(x0) + 0.5;\n",
       "    y0 = Math.floor(y0) + 0.5;\n",
       "    x1 = Math.floor(x1) + 0.5;\n",
       "    y1 = Math.floor(y1) + 0.5;\n",
       "    var min_x = Math.min(x0, x1);\n",
       "    var min_y = Math.min(y0, y1);\n",
       "    var width = Math.abs(x1 - x0);\n",
       "    var height = Math.abs(y1 - y0);\n",
       "\n",
       "    fig.rubberband_context.clearRect(\n",
       "        0,\n",
       "        0,\n",
       "        fig.canvas.width / fig.ratio,\n",
       "        fig.canvas.height / fig.ratio\n",
       "    );\n",
       "\n",
       "    fig.rubberband_context.strokeRect(min_x, min_y, width, height);\n",
       "};\n",
       "\n",
       "mpl.figure.prototype.handle_figure_label = function (fig, msg) {\n",
       "    // Updates the figure title.\n",
       "    fig.header.textContent = msg['label'];\n",
       "};\n",
       "\n",
       "mpl.figure.prototype.handle_cursor = function (fig, msg) {\n",
       "    fig.canvas_div.style.cursor = msg['cursor'];\n",
       "};\n",
       "\n",
       "mpl.figure.prototype.handle_message = function (fig, msg) {\n",
       "    fig.message.textContent = msg['message'];\n",
       "};\n",
       "\n",
       "mpl.figure.prototype.handle_draw = function (fig, _msg) {\n",
       "    // Request the server to send over a new figure.\n",
       "    fig.send_draw_message();\n",
       "};\n",
       "\n",
       "mpl.figure.prototype.handle_image_mode = function (fig, msg) {\n",
       "    fig.image_mode = msg['mode'];\n",
       "};\n",
       "\n",
       "mpl.figure.prototype.handle_history_buttons = function (fig, msg) {\n",
       "    for (var key in msg) {\n",
       "        if (!(key in fig.buttons)) {\n",
       "            continue;\n",
       "        }\n",
       "        fig.buttons[key].disabled = !msg[key];\n",
       "        fig.buttons[key].setAttribute('aria-disabled', !msg[key]);\n",
       "    }\n",
       "};\n",
       "\n",
       "mpl.figure.prototype.handle_navigate_mode = function (fig, msg) {\n",
       "    if (msg['mode'] === 'PAN') {\n",
       "        fig.buttons['Pan'].classList.add('active');\n",
       "        fig.buttons['Zoom'].classList.remove('active');\n",
       "    } else if (msg['mode'] === 'ZOOM') {\n",
       "        fig.buttons['Pan'].classList.remove('active');\n",
       "        fig.buttons['Zoom'].classList.add('active');\n",
       "    } else {\n",
       "        fig.buttons['Pan'].classList.remove('active');\n",
       "        fig.buttons['Zoom'].classList.remove('active');\n",
       "    }\n",
       "};\n",
       "\n",
       "mpl.figure.prototype.updated_canvas_event = function () {\n",
       "    // Called whenever the canvas gets updated.\n",
       "    this.send_message('ack', {});\n",
       "};\n",
       "\n",
       "// A function to construct a web socket function for onmessage handling.\n",
       "// Called in the figure constructor.\n",
       "mpl.figure.prototype._make_on_message_function = function (fig) {\n",
       "    return function socket_on_message(evt) {\n",
       "        if (evt.data instanceof Blob) {\n",
       "            var img = evt.data;\n",
       "            if (img.type !== 'image/png') {\n",
       "                /* FIXME: We get \"Resource interpreted as Image but\n",
       "                 * transferred with MIME type text/plain:\" errors on\n",
       "                 * Chrome.  But how to set the MIME type?  It doesn't seem\n",
       "                 * to be part of the websocket stream */\n",
       "                img.type = 'image/png';\n",
       "            }\n",
       "\n",
       "            /* Free the memory for the previous frames */\n",
       "            if (fig.imageObj.src) {\n",
       "                (window.URL || window.webkitURL).revokeObjectURL(\n",
       "                    fig.imageObj.src\n",
       "                );\n",
       "            }\n",
       "\n",
       "            fig.imageObj.src = (window.URL || window.webkitURL).createObjectURL(\n",
       "                img\n",
       "            );\n",
       "            fig.updated_canvas_event();\n",
       "            fig.waiting = false;\n",
       "            return;\n",
       "        } else if (\n",
       "            typeof evt.data === 'string' &&\n",
       "            evt.data.slice(0, 21) === 'data:image/png;base64'\n",
       "        ) {\n",
       "            fig.imageObj.src = evt.data;\n",
       "            fig.updated_canvas_event();\n",
       "            fig.waiting = false;\n",
       "            return;\n",
       "        }\n",
       "\n",
       "        var msg = JSON.parse(evt.data);\n",
       "        var msg_type = msg['type'];\n",
       "\n",
       "        // Call the  \"handle_{type}\" callback, which takes\n",
       "        // the figure and JSON message as its only arguments.\n",
       "        try {\n",
       "            var callback = fig['handle_' + msg_type];\n",
       "        } catch (e) {\n",
       "            console.log(\n",
       "                \"No handler for the '\" + msg_type + \"' message type: \",\n",
       "                msg\n",
       "            );\n",
       "            return;\n",
       "        }\n",
       "\n",
       "        if (callback) {\n",
       "            try {\n",
       "                // console.log(\"Handling '\" + msg_type + \"' message: \", msg);\n",
       "                callback(fig, msg);\n",
       "            } catch (e) {\n",
       "                console.log(\n",
       "                    \"Exception inside the 'handler_\" + msg_type + \"' callback:\",\n",
       "                    e,\n",
       "                    e.stack,\n",
       "                    msg\n",
       "                );\n",
       "            }\n",
       "        }\n",
       "    };\n",
       "};\n",
       "\n",
       "function getModifiers(event) {\n",
       "    var mods = [];\n",
       "    if (event.ctrlKey) {\n",
       "        mods.push('ctrl');\n",
       "    }\n",
       "    if (event.altKey) {\n",
       "        mods.push('alt');\n",
       "    }\n",
       "    if (event.shiftKey) {\n",
       "        mods.push('shift');\n",
       "    }\n",
       "    if (event.metaKey) {\n",
       "        mods.push('meta');\n",
       "    }\n",
       "    return mods;\n",
       "}\n",
       "\n",
       "/*\n",
       " * return a copy of an object with only non-object keys\n",
       " * we need this to avoid circular references\n",
       " * https://stackoverflow.com/a/24161582/3208463\n",
       " */\n",
       "function simpleKeys(original) {\n",
       "    return Object.keys(original).reduce(function (obj, key) {\n",
       "        if (typeof original[key] !== 'object') {\n",
       "            obj[key] = original[key];\n",
       "        }\n",
       "        return obj;\n",
       "    }, {});\n",
       "}\n",
       "\n",
       "mpl.figure.prototype.mouse_event = function (event, name) {\n",
       "    if (name === 'button_press') {\n",
       "        this.canvas.focus();\n",
       "        this.canvas_div.focus();\n",
       "    }\n",
       "\n",
       "    // from https://stackoverflow.com/q/1114465\n",
       "    var boundingRect = this.canvas.getBoundingClientRect();\n",
       "    var x = (event.clientX - boundingRect.left) * this.ratio;\n",
       "    var y = (event.clientY - boundingRect.top) * this.ratio;\n",
       "\n",
       "    this.send_message(name, {\n",
       "        x: x,\n",
       "        y: y,\n",
       "        button: event.button,\n",
       "        step: event.step,\n",
       "        modifiers: getModifiers(event),\n",
       "        guiEvent: simpleKeys(event),\n",
       "    });\n",
       "\n",
       "    return false;\n",
       "};\n",
       "\n",
       "mpl.figure.prototype._key_event_extra = function (_event, _name) {\n",
       "    // Handle any extra behaviour associated with a key event\n",
       "};\n",
       "\n",
       "mpl.figure.prototype.key_event = function (event, name) {\n",
       "    // Prevent repeat events\n",
       "    if (name === 'key_press') {\n",
       "        if (event.key === this._key) {\n",
       "            return;\n",
       "        } else {\n",
       "            this._key = event.key;\n",
       "        }\n",
       "    }\n",
       "    if (name === 'key_release') {\n",
       "        this._key = null;\n",
       "    }\n",
       "\n",
       "    var value = '';\n",
       "    if (event.ctrlKey && event.key !== 'Control') {\n",
       "        value += 'ctrl+';\n",
       "    }\n",
       "    else if (event.altKey && event.key !== 'Alt') {\n",
       "        value += 'alt+';\n",
       "    }\n",
       "    else if (event.shiftKey && event.key !== 'Shift') {\n",
       "        value += 'shift+';\n",
       "    }\n",
       "\n",
       "    value += 'k' + event.key;\n",
       "\n",
       "    this._key_event_extra(event, name);\n",
       "\n",
       "    this.send_message(name, { key: value, guiEvent: simpleKeys(event) });\n",
       "    return false;\n",
       "};\n",
       "\n",
       "mpl.figure.prototype.toolbar_button_onclick = function (name) {\n",
       "    if (name === 'download') {\n",
       "        this.handle_save(this, null);\n",
       "    } else {\n",
       "        this.send_message('toolbar_button', { name: name });\n",
       "    }\n",
       "};\n",
       "\n",
       "mpl.figure.prototype.toolbar_button_onmouseover = function (tooltip) {\n",
       "    this.message.textContent = tooltip;\n",
       "};\n",
       "\n",
       "///////////////// REMAINING CONTENT GENERATED BY embed_js.py /////////////////\n",
       "// prettier-ignore\n",
       "var _JSXTOOLS_RESIZE_OBSERVER=function(A){var t,i=new WeakMap,n=new WeakMap,a=new WeakMap,r=new WeakMap,o=new Set;function s(e){if(!(this instanceof s))throw new TypeError(\"Constructor requires 'new' operator\");i.set(this,e)}function h(){throw new TypeError(\"Function is not a constructor\")}function c(e,t,i,n){e=0 in arguments?Number(arguments[0]):0,t=1 in arguments?Number(arguments[1]):0,i=2 in arguments?Number(arguments[2]):0,n=3 in arguments?Number(arguments[3]):0,this.right=(this.x=this.left=e)+(this.width=i),this.bottom=(this.y=this.top=t)+(this.height=n),Object.freeze(this)}function d(){t=requestAnimationFrame(d);var s=new WeakMap,p=new Set;o.forEach((function(t){r.get(t).forEach((function(i){var r=t instanceof window.SVGElement,o=a.get(t),d=r?0:parseFloat(o.paddingTop),f=r?0:parseFloat(o.paddingRight),l=r?0:parseFloat(o.paddingBottom),u=r?0:parseFloat(o.paddingLeft),g=r?0:parseFloat(o.borderTopWidth),m=r?0:parseFloat(o.borderRightWidth),w=r?0:parseFloat(o.borderBottomWidth),b=u+f,F=d+l,v=(r?0:parseFloat(o.borderLeftWidth))+m,W=g+w,y=r?0:t.offsetHeight-W-t.clientHeight,E=r?0:t.offsetWidth-v-t.clientWidth,R=b+v,z=F+W,M=r?t.width:parseFloat(o.width)-R-E,O=r?t.height:parseFloat(o.height)-z-y;if(n.has(t)){var k=n.get(t);if(k[0]===M&&k[1]===O)return}n.set(t,[M,O]);var S=Object.create(h.prototype);S.target=t,S.contentRect=new c(u,d,M,O),s.has(i)||(s.set(i,[]),p.add(i)),s.get(i).push(S)}))})),p.forEach((function(e){i.get(e).call(e,s.get(e),e)}))}return s.prototype.observe=function(i){if(i instanceof window.Element){r.has(i)||(r.set(i,new Set),o.add(i),a.set(i,window.getComputedStyle(i)));var n=r.get(i);n.has(this)||n.add(this),cancelAnimationFrame(t),t=requestAnimationFrame(d)}},s.prototype.unobserve=function(i){if(i instanceof window.Element&&r.has(i)){var n=r.get(i);n.has(this)&&(n.delete(this),n.size||(r.delete(i),o.delete(i))),n.size||r.delete(i),o.size||cancelAnimationFrame(t)}},A.DOMRectReadOnly=c,A.ResizeObserver=s,A.ResizeObserverEntry=h,A}; // eslint-disable-line\n",
       "mpl.toolbar_items = [[\"Home\", \"Reset original view\", \"fa fa-home\", \"home\"], [\"Back\", \"Back to previous view\", \"fa fa-arrow-left\", \"back\"], [\"Forward\", \"Forward to next view\", \"fa fa-arrow-right\", \"forward\"], [\"\", \"\", \"\", \"\"], [\"Pan\", \"Left button pans, Right button zooms\\nx/y fixes axis, CTRL fixes aspect\", \"fa fa-arrows\", \"pan\"], [\"Zoom\", \"Zoom to rectangle\\nx/y fixes axis\", \"fa fa-square-o\", \"zoom\"], [\"\", \"\", \"\", \"\"], [\"Download\", \"Download plot\", \"fa fa-floppy-o\", \"download\"]];\n",
       "\n",
       "mpl.extensions = [\"eps\", \"jpeg\", \"pgf\", \"pdf\", \"png\", \"ps\", \"raw\", \"svg\", \"tif\", \"webp\"];\n",
       "\n",
       "mpl.default_extension = \"png\";/* global mpl */\n",
       "\n",
       "var comm_websocket_adapter = function (comm) {\n",
       "    // Create a \"websocket\"-like object which calls the given IPython comm\n",
       "    // object with the appropriate methods. Currently this is a non binary\n",
       "    // socket, so there is still some room for performance tuning.\n",
       "    var ws = {};\n",
       "\n",
       "    ws.binaryType = comm.kernel.ws.binaryType;\n",
       "    ws.readyState = comm.kernel.ws.readyState;\n",
       "    function updateReadyState(_event) {\n",
       "        if (comm.kernel.ws) {\n",
       "            ws.readyState = comm.kernel.ws.readyState;\n",
       "        } else {\n",
       "            ws.readyState = 3; // Closed state.\n",
       "        }\n",
       "    }\n",
       "    comm.kernel.ws.addEventListener('open', updateReadyState);\n",
       "    comm.kernel.ws.addEventListener('close', updateReadyState);\n",
       "    comm.kernel.ws.addEventListener('error', updateReadyState);\n",
       "\n",
       "    ws.close = function () {\n",
       "        comm.close();\n",
       "    };\n",
       "    ws.send = function (m) {\n",
       "        //console.log('sending', m);\n",
       "        comm.send(m);\n",
       "    };\n",
       "    // Register the callback with on_msg.\n",
       "    comm.on_msg(function (msg) {\n",
       "        //console.log('receiving', msg['content']['data'], msg);\n",
       "        var data = msg['content']['data'];\n",
       "        if (data['blob'] !== undefined) {\n",
       "            data = {\n",
       "                data: new Blob(msg['buffers'], { type: data['blob'] }),\n",
       "            };\n",
       "        }\n",
       "        // Pass the mpl event to the overridden (by mpl) onmessage function.\n",
       "        ws.onmessage(data);\n",
       "    });\n",
       "    return ws;\n",
       "};\n",
       "\n",
       "mpl.mpl_figure_comm = function (comm, msg) {\n",
       "    // This is the function which gets called when the mpl process\n",
       "    // starts-up an IPython Comm through the \"matplotlib\" channel.\n",
       "\n",
       "    var id = msg.content.data.id;\n",
       "    // Get hold of the div created by the display call when the Comm\n",
       "    // socket was opened in Python.\n",
       "    var element = document.getElementById(id);\n",
       "    var ws_proxy = comm_websocket_adapter(comm);\n",
       "\n",
       "    function ondownload(figure, _format) {\n",
       "        window.open(figure.canvas.toDataURL());\n",
       "    }\n",
       "\n",
       "    var fig = new mpl.figure(id, ws_proxy, ondownload, element);\n",
       "\n",
       "    // Call onopen now - mpl needs it, as it is assuming we've passed it a real\n",
       "    // web socket which is closed, not our websocket->open comm proxy.\n",
       "    ws_proxy.onopen();\n",
       "\n",
       "    fig.parent_element = element;\n",
       "    fig.cell_info = mpl.find_output_cell(\"<div id='\" + id + \"'></div>\");\n",
       "    if (!fig.cell_info) {\n",
       "        console.error('Failed to find cell for figure', id, fig);\n",
       "        return;\n",
       "    }\n",
       "    fig.cell_info[0].output_area.element.on(\n",
       "        'cleared',\n",
       "        { fig: fig },\n",
       "        fig._remove_fig_handler\n",
       "    );\n",
       "};\n",
       "\n",
       "mpl.figure.prototype.handle_close = function (fig, msg) {\n",
       "    var width = fig.canvas.width / fig.ratio;\n",
       "    fig.cell_info[0].output_area.element.off(\n",
       "        'cleared',\n",
       "        fig._remove_fig_handler\n",
       "    );\n",
       "    fig.resizeObserverInstance.unobserve(fig.canvas_div);\n",
       "\n",
       "    // Update the output cell to use the data from the current canvas.\n",
       "    fig.push_to_output();\n",
       "    var dataURL = fig.canvas.toDataURL();\n",
       "    // Re-enable the keyboard manager in IPython - without this line, in FF,\n",
       "    // the notebook keyboard shortcuts fail.\n",
       "    IPython.keyboard_manager.enable();\n",
       "    fig.parent_element.innerHTML =\n",
       "        '<img src=\"' + dataURL + '\" width=\"' + width + '\">';\n",
       "    fig.close_ws(fig, msg);\n",
       "};\n",
       "\n",
       "mpl.figure.prototype.close_ws = function (fig, msg) {\n",
       "    fig.send_message('closing', msg);\n",
       "    // fig.ws.close()\n",
       "};\n",
       "\n",
       "mpl.figure.prototype.push_to_output = function (_remove_interactive) {\n",
       "    // Turn the data on the canvas into data in the output cell.\n",
       "    var width = this.canvas.width / this.ratio;\n",
       "    var dataURL = this.canvas.toDataURL();\n",
       "    this.cell_info[1]['text/html'] =\n",
       "        '<img src=\"' + dataURL + '\" width=\"' + width + '\">';\n",
       "};\n",
       "\n",
       "mpl.figure.prototype.updated_canvas_event = function () {\n",
       "    // Tell IPython that the notebook contents must change.\n",
       "    IPython.notebook.set_dirty(true);\n",
       "    this.send_message('ack', {});\n",
       "    var fig = this;\n",
       "    // Wait a second, then push the new image to the DOM so\n",
       "    // that it is saved nicely (might be nice to debounce this).\n",
       "    setTimeout(function () {\n",
       "        fig.push_to_output();\n",
       "    }, 1000);\n",
       "};\n",
       "\n",
       "mpl.figure.prototype._init_toolbar = function () {\n",
       "    var fig = this;\n",
       "\n",
       "    var toolbar = document.createElement('div');\n",
       "    toolbar.classList = 'btn-toolbar';\n",
       "    this.root.appendChild(toolbar);\n",
       "\n",
       "    function on_click_closure(name) {\n",
       "        return function (_event) {\n",
       "            return fig.toolbar_button_onclick(name);\n",
       "        };\n",
       "    }\n",
       "\n",
       "    function on_mouseover_closure(tooltip) {\n",
       "        return function (event) {\n",
       "            if (!event.currentTarget.disabled) {\n",
       "                return fig.toolbar_button_onmouseover(tooltip);\n",
       "            }\n",
       "        };\n",
       "    }\n",
       "\n",
       "    fig.buttons = {};\n",
       "    var buttonGroup = document.createElement('div');\n",
       "    buttonGroup.classList = 'btn-group';\n",
       "    var button;\n",
       "    for (var toolbar_ind in mpl.toolbar_items) {\n",
       "        var name = mpl.toolbar_items[toolbar_ind][0];\n",
       "        var tooltip = mpl.toolbar_items[toolbar_ind][1];\n",
       "        var image = mpl.toolbar_items[toolbar_ind][2];\n",
       "        var method_name = mpl.toolbar_items[toolbar_ind][3];\n",
       "\n",
       "        if (!name) {\n",
       "            /* Instead of a spacer, we start a new button group. */\n",
       "            if (buttonGroup.hasChildNodes()) {\n",
       "                toolbar.appendChild(buttonGroup);\n",
       "            }\n",
       "            buttonGroup = document.createElement('div');\n",
       "            buttonGroup.classList = 'btn-group';\n",
       "            continue;\n",
       "        }\n",
       "\n",
       "        button = fig.buttons[name] = document.createElement('button');\n",
       "        button.classList = 'btn btn-default';\n",
       "        button.href = '#';\n",
       "        button.title = name;\n",
       "        button.innerHTML = '<i class=\"fa ' + image + ' fa-lg\"></i>';\n",
       "        button.addEventListener('click', on_click_closure(method_name));\n",
       "        button.addEventListener('mouseover', on_mouseover_closure(tooltip));\n",
       "        buttonGroup.appendChild(button);\n",
       "    }\n",
       "\n",
       "    if (buttonGroup.hasChildNodes()) {\n",
       "        toolbar.appendChild(buttonGroup);\n",
       "    }\n",
       "\n",
       "    // Add the status bar.\n",
       "    var status_bar = document.createElement('span');\n",
       "    status_bar.classList = 'mpl-message pull-right';\n",
       "    toolbar.appendChild(status_bar);\n",
       "    this.message = status_bar;\n",
       "\n",
       "    // Add the close button to the window.\n",
       "    var buttongrp = document.createElement('div');\n",
       "    buttongrp.classList = 'btn-group inline pull-right';\n",
       "    button = document.createElement('button');\n",
       "    button.classList = 'btn btn-mini btn-primary';\n",
       "    button.href = '#';\n",
       "    button.title = 'Stop Interaction';\n",
       "    button.innerHTML = '<i class=\"fa fa-power-off icon-remove icon-large\"></i>';\n",
       "    button.addEventListener('click', function (_evt) {\n",
       "        fig.handle_close(fig, {});\n",
       "    });\n",
       "    button.addEventListener(\n",
       "        'mouseover',\n",
       "        on_mouseover_closure('Stop Interaction')\n",
       "    );\n",
       "    buttongrp.appendChild(button);\n",
       "    var titlebar = this.root.querySelector('.ui-dialog-titlebar');\n",
       "    titlebar.insertBefore(buttongrp, titlebar.firstChild);\n",
       "};\n",
       "\n",
       "mpl.figure.prototype._remove_fig_handler = function (event) {\n",
       "    var fig = event.data.fig;\n",
       "    if (event.target !== this) {\n",
       "        // Ignore bubbled events from children.\n",
       "        return;\n",
       "    }\n",
       "    fig.close_ws(fig, {});\n",
       "};\n",
       "\n",
       "mpl.figure.prototype._root_extra_style = function (el) {\n",
       "    el.style.boxSizing = 'content-box'; // override notebook setting of border-box.\n",
       "};\n",
       "\n",
       "mpl.figure.prototype._canvas_extra_style = function (el) {\n",
       "    // this is important to make the div 'focusable\n",
       "    el.setAttribute('tabindex', 0);\n",
       "    // reach out to IPython and tell the keyboard manager to turn it's self\n",
       "    // off when our div gets focus\n",
       "\n",
       "    // location in version 3\n",
       "    if (IPython.notebook.keyboard_manager) {\n",
       "        IPython.notebook.keyboard_manager.register_events(el);\n",
       "    } else {\n",
       "        // location in version 2\n",
       "        IPython.keyboard_manager.register_events(el);\n",
       "    }\n",
       "};\n",
       "\n",
       "mpl.figure.prototype._key_event_extra = function (event, _name) {\n",
       "    // Check for shift+enter\n",
       "    if (event.shiftKey && event.which === 13) {\n",
       "        this.canvas_div.blur();\n",
       "        // select the cell after this one\n",
       "        var index = IPython.notebook.find_cell_index(this.cell_info[0]);\n",
       "        IPython.notebook.select(index + 1);\n",
       "    }\n",
       "};\n",
       "\n",
       "mpl.figure.prototype.handle_save = function (fig, _msg) {\n",
       "    fig.ondownload(fig, null);\n",
       "};\n",
       "\n",
       "mpl.find_output_cell = function (html_output) {\n",
       "    // Return the cell and output element which can be found *uniquely* in the notebook.\n",
       "    // Note - this is a bit hacky, but it is done because the \"notebook_saving.Notebook\"\n",
       "    // IPython event is triggered only after the cells have been serialised, which for\n",
       "    // our purposes (turning an active figure into a static one), is too late.\n",
       "    var cells = IPython.notebook.get_cells();\n",
       "    var ncells = cells.length;\n",
       "    for (var i = 0; i < ncells; i++) {\n",
       "        var cell = cells[i];\n",
       "        if (cell.cell_type === 'code') {\n",
       "            for (var j = 0; j < cell.output_area.outputs.length; j++) {\n",
       "                var data = cell.output_area.outputs[j];\n",
       "                if (data.data) {\n",
       "                    // IPython >= 3 moved mimebundle to data attribute of output\n",
       "                    data = data.data;\n",
       "                }\n",
       "                if (data['text/html'] === html_output) {\n",
       "                    return [cell, data, j];\n",
       "                }\n",
       "            }\n",
       "        }\n",
       "    }\n",
       "};\n",
       "\n",
       "// Register the function which deals with the matplotlib target/channel.\n",
       "// The kernel may be null if the page has been refreshed.\n",
       "if (IPython.notebook.kernel !== null) {\n",
       "    IPython.notebook.kernel.comm_manager.register_target(\n",
       "        'matplotlib',\n",
       "        mpl.mpl_figure_comm\n",
       "    );\n",
       "}\n"
      ],
      "text/plain": [
       "<IPython.core.display.Javascript object>"
      ]
     },
     "metadata": {},
     "output_type": "display_data"
    },
    {
     "data": {
      "text/html": [
       "<img src=\"data:image/png;base64,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\" width=\"900\">"
      ],
      "text/plain": [
       "<IPython.core.display.HTML object>"
      ]
     },
     "metadata": {},
     "output_type": "display_data"
    }
   ],
   "source": [
    "ds_mode = 'TEST'\n",
    "# list_plot_models = [ \"Model_fixed_nl\"]\n",
    "# list_plot_models = [ \"Model_fixed_1\", \"Model_fixed_2\"]\n",
    "# list_plot_models = [ \"Model_vary_1\", \"Model_vary_2\"]\n",
    "list_plot_models = [ \"Model_fixed_illustris\", \"Model_fixed_eagle\"]\n",
    "# list_plot_models = [ \"Model_vary_all\"]\n",
    "\n",
    "fig, axs = mpl.pyplot.subplots(2,1,figsize=(9,9), gridspec_kw={'height_ratios': [1.5, 1]})\n",
    "axs[0].set_ylabel(r'$P(k) \\left[ \\left(h^{-1} \\mathrm{Mpc}\\right)^{3} \\right]$')\n",
    "axs[1].set_ylabel(r'$P_{Model}(k) / P_{nl}(k)$')\n",
    "axs[1].set_xlabel(r'$\\mathrm{Wavenumber}\\, k \\left[ h\\, \\mathrm{Mpc}^{-1} \\right]$')\n",
    "axs[0].set_title(ds_mode, fontsize=22)\n",
    "\n",
    "N_plot_cosmo = 5\n",
    "indexes_cosmo = np.random.choice(XX[ds_mode][model_name].shape[0], N_plot_cosmo, replace=False)\n",
    "# print(\"indexes_cosmo\", indexes_cosmo)\n",
    "\n",
    "colors = cl_inference.plot_utils.get_N_colors(N_plot_cosmo, mpl.colormaps['prism'])\n",
    "linestyles = cl_inference.plot_utils.get_N_linestyles(len(list_plot_models))\n",
    "custom_lines_cosmo = []\n",
    "custom_names_cosmo = []\n",
    "custom_lines_augs = []\n",
    "custom_names_augs = []\n",
    "for ii_cosmo, index_cosmo in enumerate(indexes_cosmo):\n",
    "    custom_lines_cosmo.append(mpl.lines.Line2D([0], [0], color=colors[ii_cosmo], ls='-', lw=10, marker=None, markersize=8))\n",
    "    custom_names_cosmo.append('Cosmo # '+str(ii_cosmo))\n",
    "    for ii_model, model_name in enumerate(list_plot_models):\n",
    "        axs[0].plot(\n",
    "            np.array(kk), 10**XX[ds_mode][model_name][ii_cosmo,:].T,\n",
    "            c=colors[ii_cosmo], linestyle=linestyles[ii_model], lw=1, marker=None, ms=2\n",
    "        )\n",
    "        axs[1].plot(\n",
    "            np.array(kk),\n",
    "            10**(XX[ds_mode][model_name][ii_cosmo,:].T)/10**(XX[ds_mode]['Model_fixed_nl'][ii_cosmo,:].T),\n",
    "            c=colors[ii_cosmo], linestyle=linestyles[ii_model], lw=1, marker=None, ms=2\n",
    "         )\n",
    "        if ii_cosmo == 0:\n",
    "            custom_lines_augs.append(mpl.lines.Line2D([0], [0], color='grey', ls=linestyles[ii_model], lw=1, marker=None, markersize=8))\n",
    "            custom_names_augs.append('Aug - '+model_name)\n",
    "\n",
    "axs[0].axvline(10**kmax, c='k', ls=':', lw=1)\n",
    "axs[1].axvline(10**kmax, c='k', ls=':', lw=1)\n",
    "            \n",
    "axs[0].set_xscale('log')\n",
    "axs[1].set_xscale('log')\n",
    "axs[0].set_yscale('log')\n",
    "legend = axs[0].legend(custom_lines_cosmo, custom_names_cosmo, loc='lower left', fancybox=True, shadow=True, ncol=1,fontsize=16)\n",
    "axs[0].add_artist(legend)\n",
    "legend = axs[1].legend(custom_lines_augs, custom_names_augs, loc='upper left', fancybox=True, shadow=True, ncol=1,fontsize=12)\n",
    "axs[1].add_artist(legend)\n",
    "axs[0].set_xlim([0.01, 4.5])\n",
    "axs[1].set_xlim([0.01, 4.5])\n",
    "axs[0].set_ylim([40., 50000])\n",
    "axs[1].set_ylim([0.78, 1.2])\n",
    "axs[0].set_xticklabels([])\n",
    "plt.tight_layout()\n",
    "plt.show()"
   ]
  },
  {
   "cell_type": "code",
   "execution_count": 48,
   "id": "08b570a5",
   "metadata": {},
   "outputs": [
    {
     "data": {
      "text/plain": [
       "(278,)"
      ]
     },
     "execution_count": 48,
     "metadata": {},
     "output_type": "execute_result"
    }
   ],
   "source": [
    "kk.shape"
   ]
  },
  {
   "cell_type": "code",
   "execution_count": null,
   "id": "3e323864",
   "metadata": {},
   "outputs": [],
   "source": []
  }
 ],
 "metadata": {
  "kernelspec": {
   "display_name": "Python 3 (ipykernel)",
   "language": "python",
   "name": "python3"
  },
  "language_info": {
   "codemirror_mode": {
    "name": "ipython",
    "version": 3
   },
   "file_extension": ".py",
   "mimetype": "text/x-python",
   "name": "python",
   "nbconvert_exporter": "python",
   "pygments_lexer": "ipython3",
   "version": "3.9.18"
  }
 },
 "nbformat": 4,
 "nbformat_minor": 5
}
