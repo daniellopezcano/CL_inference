{
 "cells": [
  {
   "cell_type": "markdown",
   "id": "267f9ad9",
   "metadata": {},
   "source": [
    "# IMPORTS"
   ]
  },
  {
   "cell_type": "code",
   "execution_count": 1,
   "id": "c1cfbc04",
   "metadata": {},
   "outputs": [],
   "source": [
    "%load_ext autoreload\n",
    "import os, sys\n",
    "import numpy as np\n",
    "import CL_inference as cl_inference\n",
    "\n",
    "%matplotlib notebook\n",
    "import matplotlib as mpl\n",
    "import matplotlib.pyplot as plt\n",
    "plt.style.use('default')\n",
    "plt.close('all')\n",
    "\n",
    "font, rcnew = cl_inference.plot_utils.matplotlib_default_config()\n",
    "mpl.rc('font', **font)\n",
    "plt.rcParams.update(rcnew)\n",
    "plt.style.use('tableau-colorblind10')\n",
    "%config InlineBackend.figure_format = 'retina'"
   ]
  },
  {
   "cell_type": "markdown",
   "id": "c1a91e7f",
   "metadata": {},
   "source": [
    "# GENERATE DATASETS"
   ]
  },
  {
   "cell_type": "code",
   "execution_count": 2,
   "id": "a6f5a5c6",
   "metadata": {},
   "outputs": [],
   "source": [
    "COSMOS = {}\n",
    "XX = {}\n",
    "AUG_PARAMS = {}"
   ]
  },
  {
   "cell_type": "code",
   "execution_count": 3,
   "id": "91622d45",
   "metadata": {},
   "outputs": [],
   "source": [
    "kmax = 0.6\n",
    "path_save_root = os.path.join(\"/cosmos_storage/dlopez/Projects/CL_inference/DATASETS\", \"DATASET_kmax_\"+str(kmax))"
   ]
  },
  {
   "cell_type": "markdown",
   "id": "a955cb69",
   "metadata": {},
   "source": [
    "### TRAIN"
   ]
  },
  {
   "cell_type": "code",
   "execution_count": null,
   "id": "fed19ade",
   "metadata": {},
   "outputs": [
    {
     "name": "stderr",
     "output_type": "stream",
     "text": [
      "2024-04-25 15:27:35.158383: I external/local_tsl/tsl/cuda/cudart_stub.cc:31] Could not find cuda drivers on your machine, GPU will not be used.\n",
      "2024-04-25 15:27:35.360873: E external/local_xla/xla/stream_executor/cuda/cuda_dnn.cc:9261] Unable to register cuDNN factory: Attempting to register factory for plugin cuDNN when one has already been registered\n",
      "2024-04-25 15:27:35.360938: E external/local_xla/xla/stream_executor/cuda/cuda_fft.cc:607] Unable to register cuFFT factory: Attempting to register factory for plugin cuFFT when one has already been registered\n",
      "2024-04-25 15:27:35.390119: E external/local_xla/xla/stream_executor/cuda/cuda_blas.cc:1515] Unable to register cuBLAS factory: Attempting to register factory for plugin cuBLAS when one has already been registered\n",
      "2024-04-25 15:27:35.475687: I tensorflow/core/platform/cpu_feature_guard.cc:182] This TensorFlow binary is optimized to use available CPU instructions in performance-critical operations.\n",
      "To enable the following instructions: AVX2 AVX512F FMA, in other operations, rebuild TensorFlow with the appropriate compiler flags.\n",
      "2024-04-25 15:27:49.727022: W tensorflow/compiler/tf2tensorrt/utils/py_utils.cc:38] TF-TRT Warning: Could not find TensorRT\n",
      "2024-04-25 15:28:12.127564: W tensorflow/core/common_runtime/gpu/gpu_device.cc:2256] Cannot dlopen some GPU libraries. Please make sure the missing libraries mentioned above are installed properly if you would like to use GPU. Follow the guide at https://www.tensorflow.org/install/gpu for how to download and setup the required libraries for your platform.\n",
      "Skipping registering GPU devices...\n"
     ]
    },
    {
     "name": "stdout",
     "output_type": "stream",
     "text": [
      "Loading sigma8 emulator...\n",
      "Sigma8 emulator loaded in memory.\n",
      "Loading linear emulator...\n"
     ]
    },
    {
     "name": "stderr",
     "output_type": "stream",
     "text": [
      "/dipc/dlopez/.conda/envs/VE_torch/lib/python3.9/site-packages/sklearn/base.py:348: InconsistentVersionWarning: Trying to unpickle estimator PCA from version 1.0 when using version 1.3.2. This might lead to breaking code or invalid results. Use at your own risk. For more info please refer to:\n",
      "https://scikit-learn.org/stable/model_persistence.html#security-maintainability-limitations\n",
      "  warnings.warn(\n",
      "/dipc/dlopez/.conda/envs/VE_torch/lib/python3.9/site-packages/sklearn/base.py:348: InconsistentVersionWarning: Trying to unpickle estimator StandardScaler from version 1.0 when using version 1.3.2. This might lead to breaking code or invalid results. Use at your own risk. For more info please refer to:\n",
      "https://scikit-learn.org/stable/model_persistence.html#security-maintainability-limitations\n",
      "  warnings.warn(\n",
      "/dipc/dlopez/.conda/envs/VE_torch/lib/python3.9/site-packages/sklearn/base.py:348: InconsistentVersionWarning: Trying to unpickle estimator PCA from version 1.0 when using version 1.3.2. This might lead to breaking code or invalid results. Use at your own risk. For more info please refer to:\n",
      "https://scikit-learn.org/stable/model_persistence.html#security-maintainability-limitations\n",
      "  warnings.warn(\n",
      "/dipc/dlopez/.conda/envs/VE_torch/lib/python3.9/site-packages/sklearn/base.py:348: InconsistentVersionWarning: Trying to unpickle estimator StandardScaler from version 1.0 when using version 1.3.2. This might lead to breaking code or invalid results. Use at your own risk. For more info please refer to:\n",
      "https://scikit-learn.org/stable/model_persistence.html#security-maintainability-limitations\n",
      "  warnings.warn(\n"
     ]
    },
    {
     "name": "stdout",
     "output_type": "stream",
     "text": [
      "Linear emulator loaded in memory.\n",
      "Loading no-wiggles emulator...\n"
     ]
    },
    {
     "name": "stderr",
     "output_type": "stream",
     "text": [
      "/dipc/dlopez/.conda/envs/VE_torch/lib/python3.9/site-packages/sklearn/base.py:348: InconsistentVersionWarning: Trying to unpickle estimator StandardScaler from version 1.0.2 when using version 1.3.2. This might lead to breaking code or invalid results. Use at your own risk. For more info please refer to:\n",
      "https://scikit-learn.org/stable/model_persistence.html#security-maintainability-limitations\n",
      "  warnings.warn(\n"
     ]
    },
    {
     "name": "stdout",
     "output_type": "stream",
     "text": [
      "No-wiggles emulator loaded in memory.\n",
      "Loading non-linear emulator...\n"
     ]
    },
    {
     "name": "stderr",
     "output_type": "stream",
     "text": [
      "/dipc/dlopez/.conda/envs/VE_torch/lib/python3.9/site-packages/sklearn/base.py:348: InconsistentVersionWarning: Trying to unpickle estimator StandardScaler from version 0.22.1 when using version 1.3.2. This might lead to breaking code or invalid results. Use at your own risk. For more info please refer to:\n",
      "https://scikit-learn.org/stable/model_persistence.html#security-maintainability-limitations\n",
      "  warnings.warn(\n",
      "/dipc/dlopez/.conda/envs/VE_torch/lib/python3.9/site-packages/sklearn/base.py:348: InconsistentVersionWarning: Trying to unpickle estimator PCA from version 0.22.1 when using version 1.3.2. This might lead to breaking code or invalid results. Use at your own risk. For more info please refer to:\n",
      "https://scikit-learn.org/stable/model_persistence.html#security-maintainability-limitations\n",
      "  warnings.warn(\n",
      "/dipc/dlopez/.conda/envs/VE_torch/lib/python3.9/site-packages/sklearn/base.py:348: InconsistentVersionWarning: Trying to unpickle estimator StandardScaler from version 0.23.2 when using version 1.3.2. This might lead to breaking code or invalid results. Use at your own risk. For more info please refer to:\n",
      "https://scikit-learn.org/stable/model_persistence.html#security-maintainability-limitations\n",
      "  warnings.warn(\n",
      "/dipc/dlopez/.conda/envs/VE_torch/lib/python3.9/site-packages/sklearn/base.py:348: InconsistentVersionWarning: Trying to unpickle estimator PCA from version 0.23.2 when using version 1.3.2. This might lead to breaking code or invalid results. Use at your own risk. For more info please refer to:\n",
      "https://scikit-learn.org/stable/model_persistence.html#security-maintainability-limitations\n",
      "  warnings.warn(\n"
     ]
    },
    {
     "name": "stdout",
     "output_type": "stream",
     "text": [
      "Nonlinear emulator loaded in memory.\n",
      "Loading Baryonic Emulator...\n",
      "Baryonic Emulator loaded in memory.\n",
      "Loading sigma8 emulator...\n",
      "Sigma8 emulator loaded in memory.\n",
      "Loading linear emulator...\n"
     ]
    },
    {
     "name": "stderr",
     "output_type": "stream",
     "text": [
      "/dipc/dlopez/.conda/envs/VE_torch/lib/python3.9/site-packages/sklearn/base.py:348: InconsistentVersionWarning: Trying to unpickle estimator PCA from version 1.0 when using version 1.3.2. This might lead to breaking code or invalid results. Use at your own risk. For more info please refer to:\n",
      "https://scikit-learn.org/stable/model_persistence.html#security-maintainability-limitations\n",
      "  warnings.warn(\n",
      "/dipc/dlopez/.conda/envs/VE_torch/lib/python3.9/site-packages/sklearn/base.py:348: InconsistentVersionWarning: Trying to unpickle estimator StandardScaler from version 1.0 when using version 1.3.2. This might lead to breaking code or invalid results. Use at your own risk. For more info please refer to:\n",
      "https://scikit-learn.org/stable/model_persistence.html#security-maintainability-limitations\n",
      "  warnings.warn(\n",
      "/dipc/dlopez/.conda/envs/VE_torch/lib/python3.9/site-packages/sklearn/base.py:348: InconsistentVersionWarning: Trying to unpickle estimator PCA from version 1.0 when using version 1.3.2. This might lead to breaking code or invalid results. Use at your own risk. For more info please refer to:\n",
      "https://scikit-learn.org/stable/model_persistence.html#security-maintainability-limitations\n",
      "  warnings.warn(\n",
      "/dipc/dlopez/.conda/envs/VE_torch/lib/python3.9/site-packages/sklearn/base.py:348: InconsistentVersionWarning: Trying to unpickle estimator StandardScaler from version 1.0 when using version 1.3.2. This might lead to breaking code or invalid results. Use at your own risk. For more info please refer to:\n",
      "https://scikit-learn.org/stable/model_persistence.html#security-maintainability-limitations\n",
      "  warnings.warn(\n"
     ]
    },
    {
     "name": "stdout",
     "output_type": "stream",
     "text": [
      "Linear emulator loaded in memory.\n",
      "Loading no-wiggles emulator...\n",
      "No-wiggles emulator loaded in memory.\n",
      "Loading non-linear emulator...\n"
     ]
    },
    {
     "name": "stderr",
     "output_type": "stream",
     "text": [
      "/dipc/dlopez/.conda/envs/VE_torch/lib/python3.9/site-packages/sklearn/base.py:348: InconsistentVersionWarning: Trying to unpickle estimator StandardScaler from version 1.0.2 when using version 1.3.2. This might lead to breaking code or invalid results. Use at your own risk. For more info please refer to:\n",
      "https://scikit-learn.org/stable/model_persistence.html#security-maintainability-limitations\n",
      "  warnings.warn(\n",
      "/dipc/dlopez/.conda/envs/VE_torch/lib/python3.9/site-packages/sklearn/base.py:348: InconsistentVersionWarning: Trying to unpickle estimator StandardScaler from version 0.22.1 when using version 1.3.2. This might lead to breaking code or invalid results. Use at your own risk. For more info please refer to:\n",
      "https://scikit-learn.org/stable/model_persistence.html#security-maintainability-limitations\n",
      "  warnings.warn(\n",
      "/dipc/dlopez/.conda/envs/VE_torch/lib/python3.9/site-packages/sklearn/base.py:348: InconsistentVersionWarning: Trying to unpickle estimator PCA from version 0.22.1 when using version 1.3.2. This might lead to breaking code or invalid results. Use at your own risk. For more info please refer to:\n",
      "https://scikit-learn.org/stable/model_persistence.html#security-maintainability-limitations\n",
      "  warnings.warn(\n"
     ]
    },
    {
     "name": "stdout",
     "output_type": "stream",
     "text": [
      "Nonlinear emulator loaded in memory.\n",
      "Loading Baryonic Emulator...\n",
      "Baryonic Emulator loaded in memory.\n"
     ]
    },
    {
     "name": "stderr",
     "output_type": "stream",
     "text": [
      "/dipc/dlopez/.conda/envs/VE_torch/lib/python3.9/site-packages/sklearn/base.py:348: InconsistentVersionWarning: Trying to unpickle estimator StandardScaler from version 0.23.2 when using version 1.3.2. This might lead to breaking code or invalid results. Use at your own risk. For more info please refer to:\n",
      "https://scikit-learn.org/stable/model_persistence.html#security-maintainability-limitations\n",
      "  warnings.warn(\n",
      "/dipc/dlopez/.conda/envs/VE_torch/lib/python3.9/site-packages/sklearn/base.py:348: InconsistentVersionWarning: Trying to unpickle estimator PCA from version 0.23.2 when using version 1.3.2. This might lead to breaking code or invalid results. Use at your own risk. For more info please refer to:\n",
      "https://scikit-learn.org/stable/model_persistence.html#security-maintainability-limitations\n",
      "  warnings.warn(\n"
     ]
    },
    {
     "name": "stdout",
     "output_type": "stream",
     "text": [
      "Loading sigma8 emulator...\n",
      "Sigma8 emulator loaded in memory.\n",
      "Loading linear emulator...\n"
     ]
    },
    {
     "name": "stderr",
     "output_type": "stream",
     "text": [
      "/dipc/dlopez/.conda/envs/VE_torch/lib/python3.9/site-packages/sklearn/base.py:348: InconsistentVersionWarning: Trying to unpickle estimator PCA from version 1.0 when using version 1.3.2. This might lead to breaking code or invalid results. Use at your own risk. For more info please refer to:\n",
      "https://scikit-learn.org/stable/model_persistence.html#security-maintainability-limitations\n",
      "  warnings.warn(\n",
      "/dipc/dlopez/.conda/envs/VE_torch/lib/python3.9/site-packages/sklearn/base.py:348: InconsistentVersionWarning: Trying to unpickle estimator StandardScaler from version 1.0 when using version 1.3.2. This might lead to breaking code or invalid results. Use at your own risk. For more info please refer to:\n",
      "https://scikit-learn.org/stable/model_persistence.html#security-maintainability-limitations\n",
      "  warnings.warn(\n",
      "/dipc/dlopez/.conda/envs/VE_torch/lib/python3.9/site-packages/sklearn/base.py:348: InconsistentVersionWarning: Trying to unpickle estimator PCA from version 1.0 when using version 1.3.2. This might lead to breaking code or invalid results. Use at your own risk. For more info please refer to:\n",
      "https://scikit-learn.org/stable/model_persistence.html#security-maintainability-limitations\n",
      "  warnings.warn(\n",
      "/dipc/dlopez/.conda/envs/VE_torch/lib/python3.9/site-packages/sklearn/base.py:348: InconsistentVersionWarning: Trying to unpickle estimator StandardScaler from version 1.0 when using version 1.3.2. This might lead to breaking code or invalid results. Use at your own risk. For more info please refer to:\n",
      "https://scikit-learn.org/stable/model_persistence.html#security-maintainability-limitations\n",
      "  warnings.warn(\n"
     ]
    },
    {
     "name": "stdout",
     "output_type": "stream",
     "text": [
      "Linear emulator loaded in memory.\n",
      "Loading no-wiggles emulator...\n",
      "No-wiggles emulator loaded in memory.\n",
      "Loading non-linear emulator...\n"
     ]
    },
    {
     "name": "stderr",
     "output_type": "stream",
     "text": [
      "/dipc/dlopez/.conda/envs/VE_torch/lib/python3.9/site-packages/sklearn/base.py:348: InconsistentVersionWarning: Trying to unpickle estimator StandardScaler from version 1.0.2 when using version 1.3.2. This might lead to breaking code or invalid results. Use at your own risk. For more info please refer to:\n",
      "https://scikit-learn.org/stable/model_persistence.html#security-maintainability-limitations\n",
      "  warnings.warn(\n",
      "/dipc/dlopez/.conda/envs/VE_torch/lib/python3.9/site-packages/sklearn/base.py:348: InconsistentVersionWarning: Trying to unpickle estimator StandardScaler from version 0.22.1 when using version 1.3.2. This might lead to breaking code or invalid results. Use at your own risk. For more info please refer to:\n",
      "https://scikit-learn.org/stable/model_persistence.html#security-maintainability-limitations\n",
      "  warnings.warn(\n",
      "/dipc/dlopez/.conda/envs/VE_torch/lib/python3.9/site-packages/sklearn/base.py:348: InconsistentVersionWarning: Trying to unpickle estimator PCA from version 0.22.1 when using version 1.3.2. This might lead to breaking code or invalid results. Use at your own risk. For more info please refer to:\n",
      "https://scikit-learn.org/stable/model_persistence.html#security-maintainability-limitations\n",
      "  warnings.warn(\n"
     ]
    },
    {
     "name": "stdout",
     "output_type": "stream",
     "text": [
      "Nonlinear emulator loaded in memory.\n",
      "Loading Baryonic Emulator...\n"
     ]
    },
    {
     "name": "stderr",
     "output_type": "stream",
     "text": [
      "/dipc/dlopez/.conda/envs/VE_torch/lib/python3.9/site-packages/sklearn/base.py:348: InconsistentVersionWarning: Trying to unpickle estimator StandardScaler from version 0.23.2 when using version 1.3.2. This might lead to breaking code or invalid results. Use at your own risk. For more info please refer to:\n",
      "https://scikit-learn.org/stable/model_persistence.html#security-maintainability-limitations\n",
      "  warnings.warn(\n",
      "/dipc/dlopez/.conda/envs/VE_torch/lib/python3.9/site-packages/sklearn/base.py:348: InconsistentVersionWarning: Trying to unpickle estimator PCA from version 0.23.2 when using version 1.3.2. This might lead to breaking code or invalid results. Use at your own risk. For more info please refer to:\n",
      "https://scikit-learn.org/stable/model_persistence.html#security-maintainability-limitations\n",
      "  warnings.warn(\n"
     ]
    },
    {
     "name": "stdout",
     "output_type": "stream",
     "text": [
      "Baryonic Emulator loaded in memory.\n",
      "Loading sigma8 emulator...\n",
      "Sigma8 emulator loaded in memory.\n",
      "Loading linear emulator...\n"
     ]
    },
    {
     "name": "stderr",
     "output_type": "stream",
     "text": [
      "/dipc/dlopez/.conda/envs/VE_torch/lib/python3.9/site-packages/sklearn/base.py:348: InconsistentVersionWarning: Trying to unpickle estimator PCA from version 1.0 when using version 1.3.2. This might lead to breaking code or invalid results. Use at your own risk. For more info please refer to:\n",
      "https://scikit-learn.org/stable/model_persistence.html#security-maintainability-limitations\n",
      "  warnings.warn(\n",
      "/dipc/dlopez/.conda/envs/VE_torch/lib/python3.9/site-packages/sklearn/base.py:348: InconsistentVersionWarning: Trying to unpickle estimator StandardScaler from version 1.0 when using version 1.3.2. This might lead to breaking code or invalid results. Use at your own risk. For more info please refer to:\n",
      "https://scikit-learn.org/stable/model_persistence.html#security-maintainability-limitations\n",
      "  warnings.warn(\n",
      "/dipc/dlopez/.conda/envs/VE_torch/lib/python3.9/site-packages/sklearn/base.py:348: InconsistentVersionWarning: Trying to unpickle estimator PCA from version 1.0 when using version 1.3.2. This might lead to breaking code or invalid results. Use at your own risk. For more info please refer to:\n",
      "https://scikit-learn.org/stable/model_persistence.html#security-maintainability-limitations\n",
      "  warnings.warn(\n",
      "/dipc/dlopez/.conda/envs/VE_torch/lib/python3.9/site-packages/sklearn/base.py:348: InconsistentVersionWarning: Trying to unpickle estimator StandardScaler from version 1.0 when using version 1.3.2. This might lead to breaking code or invalid results. Use at your own risk. For more info please refer to:\n",
      "https://scikit-learn.org/stable/model_persistence.html#security-maintainability-limitations\n",
      "  warnings.warn(\n"
     ]
    },
    {
     "name": "stdout",
     "output_type": "stream",
     "text": [
      "Linear emulator loaded in memory.\n",
      "Loading no-wiggles emulator...\n",
      "No-wiggles emulator loaded in memory.\n",
      "Loading non-linear emulator...\n"
     ]
    },
    {
     "name": "stderr",
     "output_type": "stream",
     "text": [
      "/dipc/dlopez/.conda/envs/VE_torch/lib/python3.9/site-packages/sklearn/base.py:348: InconsistentVersionWarning: Trying to unpickle estimator StandardScaler from version 1.0.2 when using version 1.3.2. This might lead to breaking code or invalid results. Use at your own risk. For more info please refer to:\n",
      "https://scikit-learn.org/stable/model_persistence.html#security-maintainability-limitations\n",
      "  warnings.warn(\n",
      "/dipc/dlopez/.conda/envs/VE_torch/lib/python3.9/site-packages/sklearn/base.py:348: InconsistentVersionWarning: Trying to unpickle estimator StandardScaler from version 0.22.1 when using version 1.3.2. This might lead to breaking code or invalid results. Use at your own risk. For more info please refer to:\n",
      "https://scikit-learn.org/stable/model_persistence.html#security-maintainability-limitations\n",
      "  warnings.warn(\n",
      "/dipc/dlopez/.conda/envs/VE_torch/lib/python3.9/site-packages/sklearn/base.py:348: InconsistentVersionWarning: Trying to unpickle estimator PCA from version 0.22.1 when using version 1.3.2. This might lead to breaking code or invalid results. Use at your own risk. For more info please refer to:\n",
      "https://scikit-learn.org/stable/model_persistence.html#security-maintainability-limitations\n",
      "  warnings.warn(\n"
     ]
    },
    {
     "name": "stdout",
     "output_type": "stream",
     "text": [
      "Nonlinear emulator loaded in memory.\n",
      "Loading Baryonic Emulator...\n",
      "Baryonic Emulator loaded in memory.\n"
     ]
    },
    {
     "name": "stderr",
     "output_type": "stream",
     "text": [
      "/dipc/dlopez/.conda/envs/VE_torch/lib/python3.9/site-packages/sklearn/base.py:348: InconsistentVersionWarning: Trying to unpickle estimator StandardScaler from version 0.23.2 when using version 1.3.2. This might lead to breaking code or invalid results. Use at your own risk. For more info please refer to:\n",
      "https://scikit-learn.org/stable/model_persistence.html#security-maintainability-limitations\n",
      "  warnings.warn(\n",
      "/dipc/dlopez/.conda/envs/VE_torch/lib/python3.9/site-packages/sklearn/base.py:348: InconsistentVersionWarning: Trying to unpickle estimator PCA from version 0.23.2 when using version 1.3.2. This might lead to breaking code or invalid results. Use at your own risk. For more info please refer to:\n",
      "https://scikit-learn.org/stable/model_persistence.html#security-maintainability-limitations\n",
      "  warnings.warn(\n"
     ]
    },
    {
     "name": "stdout",
     "output_type": "stream",
     "text": [
      "Loading sigma8 emulator...\n",
      "Sigma8 emulator loaded in memory.\n",
      "Loading linear emulator...\n"
     ]
    },
    {
     "name": "stderr",
     "output_type": "stream",
     "text": [
      "/dipc/dlopez/.conda/envs/VE_torch/lib/python3.9/site-packages/sklearn/base.py:348: InconsistentVersionWarning: Trying to unpickle estimator PCA from version 1.0 when using version 1.3.2. This might lead to breaking code or invalid results. Use at your own risk. For more info please refer to:\n",
      "https://scikit-learn.org/stable/model_persistence.html#security-maintainability-limitations\n",
      "  warnings.warn(\n",
      "/dipc/dlopez/.conda/envs/VE_torch/lib/python3.9/site-packages/sklearn/base.py:348: InconsistentVersionWarning: Trying to unpickle estimator StandardScaler from version 1.0 when using version 1.3.2. This might lead to breaking code or invalid results. Use at your own risk. For more info please refer to:\n",
      "https://scikit-learn.org/stable/model_persistence.html#security-maintainability-limitations\n",
      "  warnings.warn(\n",
      "/dipc/dlopez/.conda/envs/VE_torch/lib/python3.9/site-packages/sklearn/base.py:348: InconsistentVersionWarning: Trying to unpickle estimator PCA from version 1.0 when using version 1.3.2. This might lead to breaking code or invalid results. Use at your own risk. For more info please refer to:\n",
      "https://scikit-learn.org/stable/model_persistence.html#security-maintainability-limitations\n",
      "  warnings.warn(\n",
      "/dipc/dlopez/.conda/envs/VE_torch/lib/python3.9/site-packages/sklearn/base.py:348: InconsistentVersionWarning: Trying to unpickle estimator StandardScaler from version 1.0 when using version 1.3.2. This might lead to breaking code or invalid results. Use at your own risk. For more info please refer to:\n",
      "https://scikit-learn.org/stable/model_persistence.html#security-maintainability-limitations\n",
      "  warnings.warn(\n"
     ]
    },
    {
     "name": "stdout",
     "output_type": "stream",
     "text": [
      "Linear emulator loaded in memory.\n",
      "Loading no-wiggles emulator...\n",
      "No-wiggles emulator loaded in memory.\n",
      "Loading non-linear emulator...\n"
     ]
    },
    {
     "name": "stderr",
     "output_type": "stream",
     "text": [
      "/dipc/dlopez/.conda/envs/VE_torch/lib/python3.9/site-packages/sklearn/base.py:348: InconsistentVersionWarning: Trying to unpickle estimator StandardScaler from version 1.0.2 when using version 1.3.2. This might lead to breaking code or invalid results. Use at your own risk. For more info please refer to:\n",
      "https://scikit-learn.org/stable/model_persistence.html#security-maintainability-limitations\n",
      "  warnings.warn(\n",
      "/dipc/dlopez/.conda/envs/VE_torch/lib/python3.9/site-packages/sklearn/base.py:348: InconsistentVersionWarning: Trying to unpickle estimator StandardScaler from version 0.22.1 when using version 1.3.2. This might lead to breaking code or invalid results. Use at your own risk. For more info please refer to:\n",
      "https://scikit-learn.org/stable/model_persistence.html#security-maintainability-limitations\n",
      "  warnings.warn(\n",
      "/dipc/dlopez/.conda/envs/VE_torch/lib/python3.9/site-packages/sklearn/base.py:348: InconsistentVersionWarning: Trying to unpickle estimator PCA from version 0.22.1 when using version 1.3.2. This might lead to breaking code or invalid results. Use at your own risk. For more info please refer to:\n",
      "https://scikit-learn.org/stable/model_persistence.html#security-maintainability-limitations\n",
      "  warnings.warn(\n"
     ]
    },
    {
     "name": "stdout",
     "output_type": "stream",
     "text": [
      "Nonlinear emulator loaded in memory.\n",
      "Loading Baryonic Emulator...\n",
      "Baryonic Emulator loaded in memory.\n"
     ]
    },
    {
     "name": "stderr",
     "output_type": "stream",
     "text": [
      "/dipc/dlopez/.conda/envs/VE_torch/lib/python3.9/site-packages/sklearn/base.py:348: InconsistentVersionWarning: Trying to unpickle estimator StandardScaler from version 0.23.2 when using version 1.3.2. This might lead to breaking code or invalid results. Use at your own risk. For more info please refer to:\n",
      "https://scikit-learn.org/stable/model_persistence.html#security-maintainability-limitations\n",
      "  warnings.warn(\n",
      "/dipc/dlopez/.conda/envs/VE_torch/lib/python3.9/site-packages/sklearn/base.py:348: InconsistentVersionWarning: Trying to unpickle estimator PCA from version 0.23.2 when using version 1.3.2. This might lead to breaking code or invalid results. Use at your own risk. For more info please refer to:\n",
      "https://scikit-learn.org/stable/model_persistence.html#security-maintainability-limitations\n",
      "  warnings.warn(\n"
     ]
    },
    {
     "name": "stdout",
     "output_type": "stream",
     "text": [
      "Loading sigma8 emulator...\n",
      "Sigma8 emulator loaded in memory.\n",
      "Loading linear emulator...\n"
     ]
    },
    {
     "name": "stderr",
     "output_type": "stream",
     "text": [
      "/dipc/dlopez/.conda/envs/VE_torch/lib/python3.9/site-packages/sklearn/base.py:348: InconsistentVersionWarning: Trying to unpickle estimator PCA from version 1.0 when using version 1.3.2. This might lead to breaking code or invalid results. Use at your own risk. For more info please refer to:\n",
      "https://scikit-learn.org/stable/model_persistence.html#security-maintainability-limitations\n",
      "  warnings.warn(\n",
      "/dipc/dlopez/.conda/envs/VE_torch/lib/python3.9/site-packages/sklearn/base.py:348: InconsistentVersionWarning: Trying to unpickle estimator StandardScaler from version 1.0 when using version 1.3.2. This might lead to breaking code or invalid results. Use at your own risk. For more info please refer to:\n",
      "https://scikit-learn.org/stable/model_persistence.html#security-maintainability-limitations\n",
      "  warnings.warn(\n",
      "/dipc/dlopez/.conda/envs/VE_torch/lib/python3.9/site-packages/sklearn/base.py:348: InconsistentVersionWarning: Trying to unpickle estimator PCA from version 1.0 when using version 1.3.2. This might lead to breaking code or invalid results. Use at your own risk. For more info please refer to:\n",
      "https://scikit-learn.org/stable/model_persistence.html#security-maintainability-limitations\n",
      "  warnings.warn(\n",
      "/dipc/dlopez/.conda/envs/VE_torch/lib/python3.9/site-packages/sklearn/base.py:348: InconsistentVersionWarning: Trying to unpickle estimator StandardScaler from version 1.0 when using version 1.3.2. This might lead to breaking code or invalid results. Use at your own risk. For more info please refer to:\n",
      "https://scikit-learn.org/stable/model_persistence.html#security-maintainability-limitations\n",
      "  warnings.warn(\n"
     ]
    },
    {
     "name": "stdout",
     "output_type": "stream",
     "text": [
      "Linear emulator loaded in memory.\n",
      "Loading no-wiggles emulator...\n"
     ]
    },
    {
     "name": "stderr",
     "output_type": "stream",
     "text": [
      "/dipc/dlopez/.conda/envs/VE_torch/lib/python3.9/site-packages/sklearn/base.py:348: InconsistentVersionWarning: Trying to unpickle estimator StandardScaler from version 1.0.2 when using version 1.3.2. This might lead to breaking code or invalid results. Use at your own risk. For more info please refer to:\n",
      "https://scikit-learn.org/stable/model_persistence.html#security-maintainability-limitations\n",
      "  warnings.warn(\n",
      "/dipc/dlopez/.conda/envs/VE_torch/lib/python3.9/site-packages/sklearn/base.py:348: InconsistentVersionWarning: Trying to unpickle estimator StandardScaler from version 0.22.1 when using version 1.3.2. This might lead to breaking code or invalid results. Use at your own risk. For more info please refer to:\n",
      "https://scikit-learn.org/stable/model_persistence.html#security-maintainability-limitations\n",
      "  warnings.warn(\n",
      "/dipc/dlopez/.conda/envs/VE_torch/lib/python3.9/site-packages/sklearn/base.py:348: InconsistentVersionWarning: Trying to unpickle estimator PCA from version 0.22.1 when using version 1.3.2. This might lead to breaking code or invalid results. Use at your own risk. For more info please refer to:\n",
      "https://scikit-learn.org/stable/model_persistence.html#security-maintainability-limitations\n",
      "  warnings.warn(\n"
     ]
    },
    {
     "name": "stdout",
     "output_type": "stream",
     "text": [
      "No-wiggles emulator loaded in memory.\n",
      "Loading non-linear emulator...\n",
      "Nonlinear emulator loaded in memory.\n",
      "Loading Baryonic Emulator...\n"
     ]
    },
    {
     "name": "stderr",
     "output_type": "stream",
     "text": [
      "/dipc/dlopez/.conda/envs/VE_torch/lib/python3.9/site-packages/sklearn/base.py:348: InconsistentVersionWarning: Trying to unpickle estimator StandardScaler from version 0.23.2 when using version 1.3.2. This might lead to breaking code or invalid results. Use at your own risk. For more info please refer to:\n",
      "https://scikit-learn.org/stable/model_persistence.html#security-maintainability-limitations\n",
      "  warnings.warn(\n",
      "/dipc/dlopez/.conda/envs/VE_torch/lib/python3.9/site-packages/sklearn/base.py:348: InconsistentVersionWarning: Trying to unpickle estimator PCA from version 0.23.2 when using version 1.3.2. This might lead to breaking code or invalid results. Use at your own risk. For more info please refer to:\n",
      "https://scikit-learn.org/stable/model_persistence.html#security-maintainability-limitations\n",
      "  warnings.warn(\n"
     ]
    },
    {
     "name": "stdout",
     "output_type": "stream",
     "text": [
      "Baryonic Emulator loaded in memory.\n"
     ]
    }
   ],
   "source": [
    "ds_mode = 'TRAIN'\n",
    "COSMOS[ds_mode] = {}\n",
    "XX[ds_mode] = {}\n",
    "AUG_PARAMS[ds_mode] = {}\n",
    "\n",
    "NN_samples_cosmo = 8192\n",
    "seed = 0\n",
    "\n",
    "path_save = os.path.join(path_save_root, ds_mode)\n",
    "\n",
    "dict_bounds_cosmo = dict(\n",
    "    omega_cold    = [0.24, 0.39],\n",
    "    omega_baryon  = [0.041, 0.059],\n",
    "    hubble        = [0.61, 0.79],\n",
    "    ns            = [0.93, 1.0],\n",
    "    sigma8_cold   = [0.74, 0.89],\n",
    "    expfactor     = 1.,\n",
    "    neutrino_mass = 0.,\n",
    "    w0            = -1.,\n",
    "    wa            = 0.\n",
    ")\n",
    "\n",
    "model_name = \"Model_fixed_nl\"\n",
    "mode_baccoemu = \"nonlinear\"\n",
    "NN_samples_augs = 1\n",
    "COSMOS[ds_mode][model_name], XX[ds_mode][model_name], AUG_PARAMS[ds_mode][model_name] = cl_inference.preprocessing_tools.generate_baccoemu_dataset(\n",
    "    NN_samples_cosmo  = NN_samples_cosmo,\n",
    "    NN_samples_augs   = NN_samples_augs,\n",
    "    dict_bounds_cosmo = dict_bounds_cosmo,\n",
    "    seed              = seed,\n",
    "    path_save         = path_save,\n",
    "    model_name        = model_name,\n",
    "    mode_baccoemu     = mode_baccoemu\n",
    ")\n",
    "\n",
    "model_name = \"Model_vary_all\"\n",
    "NN_samples_augs = 20\n",
    "COSMOS[ds_mode][model_name], XX[ds_mode][model_name], AUG_PARAMS[ds_mode][model_name] = cl_inference.preprocessing_tools.generate_baccoemu_dataset(\n",
    "    NN_samples_cosmo  = NN_samples_cosmo,\n",
    "    NN_samples_augs   = NN_samples_augs,\n",
    "    dict_bounds_cosmo = dict_bounds_cosmo,\n",
    "    seed              = seed,\n",
    "    path_save         = path_save,\n",
    "    model_name        = model_name\n",
    ")\n",
    "\n",
    "model_name = \"Model_fixed_1\"\n",
    "NN_samples_augs = 1\n",
    "dict_bounds_augs = dict(M_c=11.5, eta=-0.6, beta=0.0, M1_z0_cen=11.5, theta_out=0., theta_inn=-1., M_inn=12.)\n",
    "COSMOS[ds_mode][model_name], XX[ds_mode][model_name], AUG_PARAMS[ds_mode][model_name] = cl_inference.preprocessing_tools.generate_baccoemu_dataset(\n",
    "    NN_samples_cosmo  = NN_samples_cosmo,\n",
    "    NN_samples_augs   = NN_samples_augs,\n",
    "    dict_bounds_cosmo = dict_bounds_cosmo,\n",
    "    dict_bounds_augs  = dict_bounds_augs,\n",
    "    seed              = seed,\n",
    "    path_save         = path_save,\n",
    "    model_name        = model_name\n",
    ")\n",
    "\n",
    "model_name = \"Model_fixed_2\"\n",
    "NN_samples_augs = 1\n",
    "dict_bounds_augs = dict(M_c=15., eta=-0.6, beta=0.0, M1_z0_cen=11.5, theta_out=0., theta_inn=-1., M_inn=12.)\n",
    "COSMOS[ds_mode][model_name], XX[ds_mode][model_name], AUG_PARAMS[ds_mode][model_name] = cl_inference.preprocessing_tools.generate_baccoemu_dataset(\n",
    "    NN_samples_cosmo  = NN_samples_cosmo,\n",
    "    NN_samples_augs   = NN_samples_augs,\n",
    "    dict_bounds_cosmo = dict_bounds_cosmo,\n",
    "    dict_bounds_augs  = dict_bounds_augs,\n",
    "    seed              = seed,\n",
    "    path_save         = path_save,\n",
    "    model_name        = model_name\n",
    ")\n",
    "\n",
    "model_name = \"Model_vary_1\"\n",
    "NN_samples_augs = 10\n",
    "dict_bounds_augs = dict(\n",
    "    M_c       = [9.0, 15.0],\n",
    "    eta       = [-0.69, 0.69],\n",
    "    beta      = 0.,\n",
    "    M1_z0_cen = 12.,\n",
    "    theta_out = 0.,\n",
    "    theta_inn = -1.,\n",
    "    M_inn     = 13.\n",
    ")\n",
    "COSMOS[ds_mode][model_name], XX[ds_mode][model_name], AUG_PARAMS[ds_mode][model_name] = cl_inference.preprocessing_tools.generate_baccoemu_dataset(\n",
    "    NN_samples_cosmo  = NN_samples_cosmo,\n",
    "    NN_samples_augs   = NN_samples_augs,\n",
    "    dict_bounds_cosmo = dict_bounds_cosmo,\n",
    "    dict_bounds_augs  = dict_bounds_augs,\n",
    "    seed              = seed,\n",
    "    path_save         = path_save,\n",
    "    model_name        = model_name\n",
    ")\n",
    "\n",
    "model_name = \"Model_vary_2\"\n",
    "NN_samples_augs = 10\n",
    "dict_bounds_augs = dict(\n",
    "    M_c       = 13.5,\n",
    "    eta       = 0.,\n",
    "    beta      = [-1.00, 0.69],\n",
    "    M1_z0_cen = [9.0, 13.0],\n",
    "    theta_out = 0.,\n",
    "    theta_inn = -1.,\n",
    "    M_inn     = 13.\n",
    ")\n",
    "COSMOS[ds_mode][model_name], XX[ds_mode][model_name], AUG_PARAMS[ds_mode][model_name] = cl_inference.preprocessing_tools.generate_baccoemu_dataset(\n",
    "    NN_samples_cosmo  = NN_samples_cosmo,\n",
    "    NN_samples_augs   = NN_samples_augs,\n",
    "    dict_bounds_cosmo = dict_bounds_cosmo,\n",
    "    dict_bounds_augs  = dict_bounds_augs,\n",
    "    seed              = seed,\n",
    "    path_save         = path_save,\n",
    "    model_name        = model_name\n",
    ")"
   ]
  },
  {
   "cell_type": "markdown",
   "id": "8ad9f064",
   "metadata": {},
   "source": [
    "### VAL"
   ]
  },
  {
   "cell_type": "code",
   "execution_count": null,
   "id": "f940b72e",
   "metadata": {},
   "outputs": [],
   "source": [
    "ds_mode = 'VAL'\n",
    "COSMOS[ds_mode] = {}\n",
    "XX[ds_mode] = {}\n",
    "AUG_PARAMS[ds_mode] = {}\n",
    "\n",
    "NN_samples_cosmo = 2048\n",
    "seed = 1\n",
    "\n",
    "path_save = os.path.join(path_save_root, ds_mode)\n",
    "\n",
    "dict_bounds_cosmo = dict(\n",
    "    omega_cold    = [0.24, 0.39],\n",
    "    omega_baryon  = [0.041, 0.059],\n",
    "    hubble        = [0.61, 0.79],\n",
    "    ns            = [0.93, 1.0],\n",
    "    sigma8_cold   = [0.74, 0.89],\n",
    "    expfactor     = 1.,\n",
    "    neutrino_mass = 0.,\n",
    "    w0            = -1.,\n",
    "    wa            = 0.\n",
    ")\n",
    "\n",
    "model_name = \"Model_fixed_nl\"\n",
    "mode_baccoemu = \"nonlinear\"\n",
    "NN_samples_augs = 1\n",
    "COSMOS[ds_mode][model_name], XX[ds_mode][model_name], AUG_PARAMS[ds_mode][model_name] = cl_inference.preprocessing_tools.generate_baccoemu_dataset(\n",
    "    NN_samples_cosmo  = NN_samples_cosmo,\n",
    "    NN_samples_augs   = NN_samples_augs,\n",
    "    dict_bounds_cosmo = dict_bounds_cosmo,\n",
    "    seed              = seed,\n",
    "    path_save         = path_save,\n",
    "    model_name        = model_name,\n",
    "    mode_baccoemu     = mode_baccoemu\n",
    ")\n",
    "\n",
    "model_name = \"Model_vary_all\"\n",
    "NN_samples_augs = 20\n",
    "COSMOS[ds_mode][model_name], XX[ds_mode][model_name], AUG_PARAMS[ds_mode][model_name] = cl_inference.preprocessing_tools.generate_baccoemu_dataset(\n",
    "    NN_samples_cosmo  = NN_samples_cosmo,\n",
    "    NN_samples_augs   = NN_samples_augs,\n",
    "    dict_bounds_cosmo = dict_bounds_cosmo,\n",
    "    seed              = seed,\n",
    "    path_save         = path_save,\n",
    "    model_name        = model_name\n",
    ")\n",
    "\n",
    "model_name = \"Model_fixed_1\"\n",
    "NN_samples_augs = 1\n",
    "dict_bounds_augs = dict(M_c=11.5, eta=-0.6, beta=0.0, M1_z0_cen=11.5, theta_out=0., theta_inn=-1., M_inn=12.)\n",
    "COSMOS[ds_mode][model_name], XX[ds_mode][model_name], AUG_PARAMS[ds_mode][model_name] = cl_inference.preprocessing_tools.generate_baccoemu_dataset(\n",
    "    NN_samples_cosmo  = NN_samples_cosmo,\n",
    "    NN_samples_augs   = NN_samples_augs,\n",
    "    dict_bounds_cosmo = dict_bounds_cosmo,\n",
    "    dict_bounds_augs  = dict_bounds_augs,\n",
    "    seed              = seed,\n",
    "    path_save         = path_save,\n",
    "    model_name        = model_name\n",
    ")\n",
    "\n",
    "model_name = \"Model_fixed_2\"\n",
    "NN_samples_augs = 1\n",
    "dict_bounds_augs = dict(M_c=15., eta=-0.6, beta=0.0, M1_z0_cen=11.5, theta_out=0., theta_inn=-1., M_inn=12.)\n",
    "COSMOS[ds_mode][model_name], XX[ds_mode][model_name], AUG_PARAMS[ds_mode][model_name] = cl_inference.preprocessing_tools.generate_baccoemu_dataset(\n",
    "    NN_samples_cosmo  = NN_samples_cosmo,\n",
    "    NN_samples_augs   = NN_samples_augs,\n",
    "    dict_bounds_cosmo = dict_bounds_cosmo,\n",
    "    dict_bounds_augs  = dict_bounds_augs,\n",
    "    seed              = seed,\n",
    "    path_save         = path_save,\n",
    "    model_name        = model_name\n",
    ")\n",
    "\n",
    "model_name = \"Model_vary_1\"\n",
    "NN_samples_augs = 10\n",
    "dict_bounds_augs = dict(\n",
    "    M_c       = [9.0, 15.0],\n",
    "    eta       = [-0.69, 0.69],\n",
    "    beta      = 0.,\n",
    "    M1_z0_cen = 12.,\n",
    "    theta_out = 0.,\n",
    "    theta_inn = -1.,\n",
    "    M_inn     = 13.\n",
    ")\n",
    "COSMOS[ds_mode][model_name], XX[ds_mode][model_name], AUG_PARAMS[ds_mode][model_name] = cl_inference.preprocessing_tools.generate_baccoemu_dataset(\n",
    "    NN_samples_cosmo  = NN_samples_cosmo,\n",
    "    NN_samples_augs   = NN_samples_augs,\n",
    "    dict_bounds_cosmo = dict_bounds_cosmo,\n",
    "    dict_bounds_augs  = dict_bounds_augs,\n",
    "    seed              = seed,\n",
    "    path_save         = path_save,\n",
    "    model_name        = model_name\n",
    ")\n",
    "\n",
    "model_name = \"Model_vary_2\"\n",
    "NN_samples_augs = 10\n",
    "dict_bounds_augs = dict(\n",
    "    M_c       = 13.5,\n",
    "    eta       = 0.,\n",
    "    beta      = [-1.00, 0.69],\n",
    "    M1_z0_cen = [9.0, 13.0],\n",
    "    theta_out = 0.,\n",
    "    theta_inn = -1.,\n",
    "    M_inn     = 13.\n",
    ")\n",
    "COSMOS[ds_mode][model_name], XX[ds_mode][model_name], AUG_PARAMS[ds_mode][model_name] = cl_inference.preprocessing_tools.generate_baccoemu_dataset(\n",
    "    NN_samples_cosmo  = NN_samples_cosmo,\n",
    "    NN_samples_augs   = NN_samples_augs,\n",
    "    dict_bounds_cosmo = dict_bounds_cosmo,\n",
    "    dict_bounds_augs  = dict_bounds_augs,\n",
    "    seed              = seed,\n",
    "    path_save         = path_save,\n",
    "    model_name        = model_name\n",
    ")"
   ]
  },
  {
   "cell_type": "markdown",
   "id": "bcb29a0d",
   "metadata": {},
   "source": [
    "### TEST"
   ]
  },
  {
   "cell_type": "code",
   "execution_count": null,
   "id": "de693c73",
   "metadata": {},
   "outputs": [],
   "source": [
    "ds_mode = 'TEST'\n",
    "COSMOS[ds_mode] = {}\n",
    "XX[ds_mode] = {}\n",
    "AUG_PARAMS[ds_mode] = {}\n",
    "\n",
    "NN_samples_cosmo = 2048\n",
    "seed = 2\n",
    "\n",
    "path_save = os.path.join(path_save_root, ds_mode)\n",
    "\n",
    "dict_bounds_cosmo = dict(\n",
    "    omega_cold    = [0.24, 0.39],\n",
    "    omega_baryon  = [0.041, 0.059],\n",
    "    hubble        = [0.61, 0.79],\n",
    "    ns            = [0.93, 1.0],\n",
    "    sigma8_cold   = [0.74, 0.89],\n",
    "    expfactor     = 1.,\n",
    "    neutrino_mass = 0.,\n",
    "    w0            = -1.,\n",
    "    wa            = 0.\n",
    ")\n",
    "\n",
    "model_name = \"Model_fixed_nl\"\n",
    "mode_baccoemu = \"nonlinear\"\n",
    "NN_samples_augs = 1\n",
    "COSMOS[ds_mode][model_name], XX[ds_mode][model_name], AUG_PARAMS[ds_mode][model_name] = cl_inference.preprocessing_tools.generate_baccoemu_dataset(\n",
    "    NN_samples_cosmo  = NN_samples_cosmo,\n",
    "    NN_samples_augs   = NN_samples_augs,\n",
    "    dict_bounds_cosmo = dict_bounds_cosmo,\n",
    "    seed              = seed,\n",
    "    path_save         = path_save,\n",
    "    model_name        = model_name,\n",
    "    mode_baccoemu     = mode_baccoemu\n",
    ")\n",
    "\n",
    "model_name = \"Model_vary_all\"\n",
    "NN_samples_augs = 20\n",
    "COSMOS[ds_mode][model_name], XX[ds_mode][model_name], AUG_PARAMS[ds_mode][model_name] = cl_inference.preprocessing_tools.generate_baccoemu_dataset(\n",
    "    NN_samples_cosmo  = NN_samples_cosmo,\n",
    "    NN_samples_augs   = NN_samples_augs,\n",
    "    dict_bounds_cosmo = dict_bounds_cosmo,\n",
    "    seed              = seed,\n",
    "    path_save         = path_save,\n",
    "    model_name        = model_name\n",
    ")\n",
    "\n",
    "model_name = \"Model_fixed_1\"\n",
    "NN_samples_augs = 1\n",
    "dict_bounds_augs = dict(M_c=11.5, eta=-0.6, beta=0.0, M1_z0_cen=11.5, theta_out=0., theta_inn=-1., M_inn=12.)\n",
    "COSMOS[ds_mode][model_name], XX[ds_mode][model_name], AUG_PARAMS[ds_mode][model_name] = cl_inference.preprocessing_tools.generate_baccoemu_dataset(\n",
    "    NN_samples_cosmo  = NN_samples_cosmo,\n",
    "    NN_samples_augs   = NN_samples_augs,\n",
    "    dict_bounds_cosmo = dict_bounds_cosmo,\n",
    "    dict_bounds_augs  = dict_bounds_augs,\n",
    "    seed              = seed,\n",
    "    path_save         = path_save,\n",
    "    model_name        = model_name\n",
    ")\n",
    "\n",
    "model_name = \"Model_fixed_2\"\n",
    "NN_samples_augs = 1\n",
    "dict_bounds_augs = dict(M_c=15., eta=-0.6, beta=0.0, M1_z0_cen=11.5, theta_out=0., theta_inn=-1., M_inn=12.)\n",
    "COSMOS[ds_mode][model_name], XX[ds_mode][model_name], AUG_PARAMS[ds_mode][model_name] = cl_inference.preprocessing_tools.generate_baccoemu_dataset(\n",
    "    NN_samples_cosmo  = NN_samples_cosmo,\n",
    "    NN_samples_augs   = NN_samples_augs,\n",
    "    dict_bounds_cosmo = dict_bounds_cosmo,\n",
    "    dict_bounds_augs  = dict_bounds_augs,\n",
    "    seed              = seed,\n",
    "    path_save         = path_save,\n",
    "    model_name        = model_name\n",
    ")\n",
    "\n",
    "model_name = \"Model_vary_1\"\n",
    "NN_samples_augs = 10\n",
    "dict_bounds_augs = dict(\n",
    "    M_c       = [9.0, 15.0],\n",
    "    eta       = [-0.69, 0.69],\n",
    "    beta      = 0.,\n",
    "    M1_z0_cen = 12.,\n",
    "    theta_out = 0.,\n",
    "    theta_inn = -1.,\n",
    "    M_inn     = 13.\n",
    ")\n",
    "COSMOS[ds_mode][model_name], XX[ds_mode][model_name], AUG_PARAMS[ds_mode][model_name] = cl_inference.preprocessing_tools.generate_baccoemu_dataset(\n",
    "    NN_samples_cosmo  = NN_samples_cosmo,\n",
    "    NN_samples_augs   = NN_samples_augs,\n",
    "    dict_bounds_cosmo = dict_bounds_cosmo,\n",
    "    dict_bounds_augs  = dict_bounds_augs,\n",
    "    seed              = seed,\n",
    "    path_save         = path_save,\n",
    "    model_name        = model_name\n",
    ")\n",
    "\n",
    "model_name = \"Model_vary_2\"\n",
    "NN_samples_augs = 10\n",
    "dict_bounds_augs = dict(\n",
    "    M_c       = 13.5,\n",
    "    eta       = 0.,\n",
    "    beta      = [-1.00, 0.69],\n",
    "    M1_z0_cen = [9.0, 13.0],\n",
    "    theta_out = 0.,\n",
    "    theta_inn = -1.,\n",
    "    M_inn     = 13.\n",
    ")\n",
    "COSMOS[ds_mode][model_name], XX[ds_mode][model_name], AUG_PARAMS[ds_mode][model_name] = cl_inference.preprocessing_tools.generate_baccoemu_dataset(\n",
    "    NN_samples_cosmo  = NN_samples_cosmo,\n",
    "    NN_samples_augs   = NN_samples_augs,\n",
    "    dict_bounds_cosmo = dict_bounds_cosmo,\n",
    "    dict_bounds_augs  = dict_bounds_augs,\n",
    "    seed              = seed,\n",
    "    path_save         = path_save,\n",
    "    model_name        = model_name\n",
    ")"
   ]
  },
  {
   "cell_type": "markdown",
   "id": "f631c87b",
   "metadata": {},
   "source": [
    "# VALIDATE DATASETS"
   ]
  },
  {
   "cell_type": "code",
   "execution_count": null,
   "id": "40ee1645",
   "metadata": {},
   "outputs": [],
   "source": [
    "ds_mode = 'TEST'\n",
    "model_name = 'Model_vary_2'\n",
    "\n",
    "cosmos = COSMOS[ds_mode][model_name]\n",
    "xx = XX[ds_mode][model_name]\n",
    "aug_params = AUG_PARAMS[ds_mode][model_name]\n",
    "\n",
    "print(cosmos.shape)\n",
    "print(np.min(cosmos, axis=0))\n",
    "print(np.max(cosmos, axis=0))\n",
    "\n",
    "print(xx.shape)\n",
    "print(xx.min())\n",
    "print(xx.max())\n",
    "\n",
    "print(aug_params.shape)\n",
    "tmp_aug_params = np.reshape(aug_params, (aug_params.shape[0]*aug_params.shape[1], aug_params.shape[-1]))\n",
    "print(tmp_aug_params.shape)\n",
    "print(np.min(tmp_aug_params, axis=0))\n",
    "print(np.max(tmp_aug_params, axis=0))"
   ]
  },
  {
   "cell_type": "code",
   "execution_count": null,
   "id": "3dbbf54f",
   "metadata": {},
   "outputs": [],
   "source": [
    "kmin=-2.3\n",
    "# N_kk=100\n",
    "N_kk = int(((kmax-kmin)/(0.6+2.3))*100)\n",
    "\n",
    "kk = np.logspace(kmin, kmax, num=N_kk)"
   ]
  },
  {
   "cell_type": "code",
   "execution_count": null,
   "id": "b4f4570b",
   "metadata": {},
   "outputs": [],
   "source": [
    "ds_mode = 'TEST'\n",
    "list_plot_models = [ \"Model_fixed_1\", \"Model_fixed_2\"]\n",
    "# list_plot_models = [ \"Model_vary_1\", \"Model_vary_2\"]\n",
    "# list_plot_models = [ \"Model_vary_all\"]\n",
    "\n",
    "fig, axs = mpl.pyplot.subplots(2,1,figsize=(9,9), gridspec_kw={'height_ratios': [1.5, 1]})\n",
    "axs[0].set_ylabel(r'$P(k) \\left[ \\left(h^{-1} \\mathrm{Mpc}\\right)^{3} \\right]$')\n",
    "axs[1].set_ylabel(r'$P_{Model}(k) / P_{nl}(k)$')\n",
    "axs[1].set_xlabel(r'$\\mathrm{Wavenumber}\\, k \\left[ h\\, \\mathrm{Mpc}^{-1} \\right]$')\n",
    "axs[0].set_title(ds_mode, fontsize=22)\n",
    "\n",
    "N_plot_cosmo = 5\n",
    "indexes_cosmo = np.random.choice(XX[ds_mode][model_name].shape[0], N_plot_cosmo, replace=False)\n",
    "# print(\"indexes_cosmo\", indexes_cosmo)\n",
    "\n",
    "colors = cl_inference.plot_utils.get_N_colors(N_plot_cosmo, mpl.colormaps['prism'])\n",
    "linestyles = cl_inference.plot_utils.get_N_linestyles(len(list_plot_models))\n",
    "custom_lines_cosmo = []\n",
    "custom_names_cosmo = []\n",
    "custom_lines_augs = []\n",
    "custom_names_augs = []\n",
    "for ii_cosmo, index_cosmo in enumerate(indexes_cosmo):\n",
    "    custom_lines_cosmo.append(mpl.lines.Line2D([0], [0], color=colors[ii_cosmo], ls='-', lw=10, marker=None, markersize=8))\n",
    "    custom_names_cosmo.append('Cosmo # '+str(ii_cosmo))\n",
    "    for ii_model, model_name in enumerate(list_plot_models):\n",
    "        axs[0].plot(\n",
    "            np.array(kk), 10**XX[ds_mode][model_name][ii_cosmo,:].T,\n",
    "            c=colors[ii_cosmo], linestyle=linestyles[ii_model], lw=1, marker=None, ms=2\n",
    "        )\n",
    "        axs[1].plot(\n",
    "            np.array(kk),\n",
    "            10**(XX[ds_mode][model_name][ii_cosmo,:].T)/10**(XX[ds_mode]['Model_fixed_nl'][ii_cosmo,:].T),\n",
    "            c=colors[ii_cosmo], linestyle=linestyles[ii_model], lw=1, marker=None, ms=2\n",
    "         )\n",
    "        if ii_cosmo == 0:\n",
    "            custom_lines_augs.append(mpl.lines.Line2D([0], [0], color='grey', ls=linestyles[ii_model], lw=1, marker=None, markersize=8))\n",
    "            custom_names_augs.append('Aug - '+model_name)\n",
    "\n",
    "axs[0].axvline(10**kmax, c='k', ls=':', lw=1)\n",
    "axs[1].axvline(10**kmax, c='k', ls=':', lw=1)\n",
    "            \n",
    "axs[0].set_xscale('log')\n",
    "axs[1].set_xscale('log')\n",
    "axs[0].set_yscale('log')\n",
    "legend = axs[0].legend(custom_lines_cosmo, custom_names_cosmo, loc='lower left', fancybox=True, shadow=True, ncol=1,fontsize=16)\n",
    "axs[0].add_artist(legend)\n",
    "legend = axs[1].legend(custom_lines_augs, custom_names_augs, loc='upper left', fancybox=True, shadow=True, ncol=1,fontsize=12)\n",
    "axs[1].add_artist(legend)\n",
    "axs[0].set_xlim([0.004, 4.5])\n",
    "axs[1].set_xlim([0.004, 4.5])\n",
    "axs[0].set_ylim([40., 50000])\n",
    "axs[1].set_ylim([0.78, 1.2])\n",
    "axs[0].set_xticklabels([])\n",
    "plt.tight_layout()\n",
    "plt.show()"
   ]
  },
  {
   "cell_type": "markdown",
   "id": "9b650919",
   "metadata": {},
   "source": [
    "# Validate dataset loaders"
   ]
  },
  {
   "cell_type": "code",
   "execution_count": null,
   "id": "59152abb",
   "metadata": {},
   "outputs": [],
   "source": [
    "path_load = os.path.join(path_save_root, \"TEST\")\n",
    "list_model_names = ['Model_vary_1', 'Model_vary_2']\n",
    "\n",
    "loaded_theta, loaded_xx = cl_inference.data_tools.load_stored_data(\n",
    "    path_load,\n",
    "    list_model_names\n",
    ")"
   ]
  },
  {
   "cell_type": "code",
   "execution_count": null,
   "id": "9e458f1f",
   "metadata": {},
   "outputs": [],
   "source": [
    "print(loaded_theta.shape)\n",
    "print(loaded_xx.shape)"
   ]
  },
  {
   "cell_type": "code",
   "execution_count": null,
   "id": "9a930b9d",
   "metadata": {},
   "outputs": [],
   "source": [
    "normalize=False\n",
    "path_save_norm = None\n",
    "path_load_norm = None\n",
    "\n",
    "NN_augs_batch = 2\n",
    "add_noise_Pk=\"cosmic_var_gauss\"\n",
    "boxsize_cosmic_variance=1000 # Mpc/h\n",
    "kmax=0.6\n",
    "\n",
    "dset = cl_inference.data_tools.data_loader(\n",
    "    loaded_theta,\n",
    "    loaded_xx,\n",
    "    normalize=normalize,\n",
    "    path_save_norm=path_save_norm,\n",
    "    path_load_norm=path_load_norm,\n",
    "    NN_augs_batch=NN_augs_batch,\n",
    "    add_noise_Pk=add_noise_Pk,\n",
    "    boxsize_cosmic_variance=boxsize_cosmic_variance, # Mpc/h\n",
    "    kmax=kmax\n",
    ")"
   ]
  },
  {
   "cell_type": "code",
   "execution_count": null,
   "id": "8f857647",
   "metadata": {},
   "outputs": [],
   "source": [
    "print(dset.xx.shape)\n",
    "print(dset.theta.shape)\n",
    "print(dset.NN_augs_batch)"
   ]
  },
  {
   "cell_type": "code",
   "execution_count": null,
   "id": "8dd01727",
   "metadata": {},
   "outputs": [],
   "source": [
    "batch_size = 3\n",
    "seed = 0\n",
    "return_indexes_sampled=True\n",
    "indexes_cosmo=None\n",
    "indexes_augs=None\n",
    "use_all_dataset_augs_ordered=False\n",
    "to_torch=False\n",
    "device=\"cpu\"\n",
    "\n",
    "theta_batch, xx_batch, indexes_cosmo, indexes_augs = dset(\n",
    "    batch_size=batch_size,\n",
    "    seed=seed,\n",
    "    return_indexes_sampled=return_indexes_sampled,\n",
    "    indexes_cosmo=indexes_cosmo,\n",
    "    indexes_augs=indexes_augs,\n",
    "    use_all_dataset_augs_ordered=use_all_dataset_augs_ordered,\n",
    "    to_torch=to_torch,\n",
    "    device=device\n",
    ")"
   ]
  },
  {
   "cell_type": "code",
   "execution_count": null,
   "id": "20418798",
   "metadata": {},
   "outputs": [],
   "source": [
    "list_corresponding_model_names = []\n",
    "list_corresponding_aug_index = []\n",
    "for ii_key, key in enumerate(list_model_names):\n",
    "    list_corresponding_model_names.extend([key]*XX[ds_mode][key].shape[1])\n",
    "    list_corresponding_aug_index.extend(np.arange(XX[ds_mode][key].shape[1]))"
   ]
  },
  {
   "cell_type": "code",
   "execution_count": null,
   "id": "4668b6bc",
   "metadata": {},
   "outputs": [],
   "source": [
    "fig, ax = mpl.pyplot.subplots(1,1,figsize=(7,6))\n",
    "ax.set_ylabel(r'$P(k) \\left[ \\left(h^{-1} \\mathrm{Mpc}\\right)^{3} \\right]$')\n",
    "ax.set_xlabel(r'$\\mathrm{Wavenumber}\\, k \\left[ h\\, \\mathrm{Mpc}^{-1} \\right]$')\n",
    "\n",
    "colors = cl_inference.plot_utils.get_N_colors(batch_size*NN_augs_batch, mpl.colormaps['jet'])\n",
    "for ii_cosmo, index_cosmo in enumerate(indexes_cosmo):\n",
    "    for ii_aug, index_aug in enumerate(indexes_augs[ii_cosmo]):\n",
    "        tmp_model_name = list_corresponding_model_names[index_aug]   \n",
    "        tmp_aug_index = list_corresponding_aug_index[index_aug]\n",
    "        ax.plot(\n",
    "            np.array(kk), 10**XX[ds_mode][tmp_model_name][index_cosmo][tmp_aug_index],\n",
    "            c=colors[ii_cosmo*NN_augs_batch+ii_aug], linestyle='-', lw=1., marker=None, ms=2\n",
    "        )\n",
    "        ax.plot(\n",
    "            np.array(kk), 10**loaded_xx[index_cosmo][index_aug],\n",
    "            c=colors[ii_cosmo*NN_augs_batch+ii_aug], linestyle=':', lw=1.5, marker=None, ms=2\n",
    "        )\n",
    "        ax.plot(\n",
    "            np.array(kk), 10**dset.xx[index_cosmo][index_aug],\n",
    "            c=colors[ii_cosmo*NN_augs_batch+ii_aug], linestyle='--', lw=2., marker=None, ms=2\n",
    "        )\n",
    "        ax.plot(\n",
    "            np.array(kk), 10**xx_batch[ii_cosmo, ii_aug],\n",
    "            c=colors[ii_cosmo*NN_augs_batch+ii_aug], linestyle=':', lw=2\n",
    "            , marker=None, ms=2\n",
    "        )\n",
    "ax.axvline(10**kmax, c='k', ls=':', lw=1)        \n",
    "ax.set_xscale('log')\n",
    "ax.set_yscale('log')\n",
    "ax.set_xlim([0.004, 4.5])\n",
    "ax.set_ylim([40., 70000])\n",
    "plt.tight_layout()\n",
    "plt.show()"
   ]
  },
  {
   "cell_type": "markdown",
   "id": "67c1d5f3",
   "metadata": {},
   "source": [
    "# Test use_all_dataset_augs_ordered mode=True and to_torch=True"
   ]
  },
  {
   "cell_type": "code",
   "execution_count": null,
   "id": "29788d83",
   "metadata": {},
   "outputs": [],
   "source": [
    "batch_size = 0\n",
    "seed = 0\n",
    "return_indexes_sampled=True\n",
    "indexes_cosmo=None\n",
    "indexes_augs=None\n",
    "use_all_dataset_augs_ordered=True\n",
    "to_torch=True\n",
    "device=\"cpu\"\n",
    "\n",
    "theta_batch, xx_batch, indexes_cosmo, indexes_augs = dset(\n",
    "    batch_size=batch_size,\n",
    "    seed=seed,\n",
    "    return_indexes_sampled=return_indexes_sampled,\n",
    "    indexes_cosmo=indexes_cosmo,\n",
    "    indexes_augs=indexes_augs,\n",
    "    use_all_dataset_augs_ordered=use_all_dataset_augs_ordered,\n",
    "    to_torch=to_torch,\n",
    "    device=device\n",
    ")\n",
    "\n",
    "print(theta_batch.shape)\n",
    "print(xx_batch.shape)"
   ]
  },
  {
   "cell_type": "code",
   "execution_count": null,
   "id": "fb4c932e",
   "metadata": {},
   "outputs": [],
   "source": []
  }
 ],
 "metadata": {
  "kernelspec": {
   "display_name": "Python 3 (ipykernel)",
   "language": "python",
   "name": "python3"
  },
  "language_info": {
   "codemirror_mode": {
    "name": "ipython",
    "version": 3
   },
   "file_extension": ".py",
   "mimetype": "text/x-python",
   "name": "python",
   "nbconvert_exporter": "python",
   "pygments_lexer": "ipython3",
   "version": "3.9.18"
  }
 },
 "nbformat": 4,
 "nbformat_minor": 5
}
