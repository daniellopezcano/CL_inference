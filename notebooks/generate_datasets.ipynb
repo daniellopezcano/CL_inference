{
 "cells": [
  {
   "cell_type": "markdown",
   "id": "5473b80a",
   "metadata": {},
   "source": [
    "# IMPORTS"
   ]
  },
  {
   "cell_type": "code",
   "execution_count": 1,
   "id": "c1cfbc04",
   "metadata": {},
   "outputs": [],
   "source": [
    "%load_ext autoreload\n",
    "import os, sys\n",
    "import numpy as np\n",
    "import CL_inference as cl_inference\n",
    "\n",
    "from bacco.baryons import emu_pars\n",
    "\n",
    "%matplotlib notebook\n",
    "import matplotlib as mpl\n",
    "import matplotlib.pyplot as plt\n",
    "plt.style.use('default')\n",
    "plt.close('all')\n",
    "\n",
    "font, rcnew = cl_inference.plot_utils.matplotlib_default_config()\n",
    "mpl.rc('font', **font)\n",
    "plt.rcParams.update(rcnew)\n",
    "plt.style.use('tableau-colorblind10')\n",
    "%config InlineBackend.figure_format = 'retina'"
   ]
  },
  {
   "cell_type": "markdown",
   "id": "1d8bc0bf",
   "metadata": {},
   "source": [
    "# SETUP TO GENERATE DATASETS"
   ]
  },
  {
   "cell_type": "markdown",
   "id": "61ce038c",
   "metadata": {},
   "source": [
    "##### Define in \"path_save_root\" the path where the datasets will be stored. Also define boxsize and kmax"
   ]
  },
  {
   "cell_type": "code",
   "execution_count": 2,
   "id": "91622d45",
   "metadata": {},
   "outputs": [],
   "source": [
    "box = 2000\n",
    "kmax = 0.6\n",
    "path_save_root = os.path.join(\"/cosmos_storage/home/dlopez/Projects/CL_inference/DATASETS\", \"DATASET_kmax_\"+str(kmax))"
   ]
  },
  {
   "cell_type": "markdown",
   "id": "0ccaa566",
   "metadata": {},
   "source": [
    "##### Define dictionaries with cosmological prior ranges for training, validation and test sets. Also number of cosmologies to sample."
   ]
  },
  {
   "cell_type": "markdown",
   "id": "4e28a0d2",
   "metadata": {},
   "source": [
    "Cosmological prior range for training"
   ]
  },
  {
   "cell_type": "code",
   "execution_count": 3,
   "id": "30886a00",
   "metadata": {},
   "outputs": [],
   "source": [
    "dict_bounds_cosmo_train = dict(\n",
    "    omega_cold    = [0.24, 0.39],\n",
    "    omega_baryon  = [0.041, 0.059],\n",
    "    hubble        = [0.61, 0.79],\n",
    "    ns            = [0.93, 1.0],\n",
    "    sigma8_cold   = [0.74, 0.89],\n",
    "    expfactor     = 1.,\n",
    "    neutrino_mass = 0.,\n",
    "    w0            = -1.,\n",
    "    wa            = 0.\n",
    ")\n",
    "NN_samples_cosmo_train = 8192\n",
    "seed_train = 0"
   ]
  },
  {
   "cell_type": "markdown",
   "id": "d62d8265",
   "metadata": {},
   "source": [
    "Cosmological prior range for validation"
   ]
  },
  {
   "cell_type": "code",
   "execution_count": 4,
   "id": "c71488fd",
   "metadata": {},
   "outputs": [],
   "source": [
    "dict_bounds_cosmo_val = dict(\n",
    "    omega_cold    = [0.24, 0.39],\n",
    "    omega_baryon  = [0.041, 0.059],\n",
    "    hubble        = [0.61, 0.79],\n",
    "    ns            = [0.93, 1.0],\n",
    "    sigma8_cold   = [0.74, 0.89],\n",
    "    expfactor     = 1.,\n",
    "    neutrino_mass = 0.,\n",
    "    w0            = -1.,\n",
    "    wa            = 0.\n",
    ")\n",
    "NN_samples_cosmo_val = 2048\n",
    "seed_val = 1"
   ]
  },
  {
   "cell_type": "markdown",
   "id": "ad866c3b",
   "metadata": {},
   "source": [
    "Cosmological prior range for test"
   ]
  },
  {
   "cell_type": "code",
   "execution_count": 5,
   "id": "8377a977",
   "metadata": {},
   "outputs": [],
   "source": [
    "dict_bounds_cosmo_test = dict(\n",
    "    omega_cold    = [0.24, 0.39],\n",
    "    omega_baryon  = [0.041, 0.059],\n",
    "    hubble        = [0.61, 0.79],\n",
    "    ns            = [0.93, 1.0],\n",
    "    sigma8_cold   = [0.74, 0.89],\n",
    "    expfactor     = 1.,\n",
    "    neutrino_mass = 0.,\n",
    "    w0            = -1.,\n",
    "    wa            = 0.\n",
    ")\n",
    "NN_samples_cosmo_test = 2048\n",
    "seed_test = 2"
   ]
  },
  {
   "cell_type": "markdown",
   "id": "e4b4d4fa",
   "metadata": {},
   "source": [
    "##### Define dictionaries with baryonic parameters"
   ]
  },
  {
   "cell_type": "markdown",
   "id": "c741c1a7",
   "metadata": {},
   "source": [
    "model_bahamas"
   ]
  },
  {
   "cell_type": "code",
   "execution_count": 6,
   "id": "b69d5ca8",
   "metadata": {},
   "outputs": [],
   "source": [
    "hydro_key = \"bahamas\"\n",
    "dict_bounds_augs_bahamas = dict(\n",
    "    M_c       = emu_pars(model=hydro_key)['z_0.0']['M_c'],\n",
    "    eta       = emu_pars(model=hydro_key)['z_0.0']['eta'],\n",
    "    beta      = emu_pars(model=hydro_key)['z_0.0']['beta'],\n",
    "    M1_z0_cen = emu_pars(model=hydro_key)['z_0.0']['M1_z0_cen'],\n",
    "    theta_out = emu_pars(model=hydro_key)['z_0.0']['theta_out'],\n",
    "    theta_inn = emu_pars(model=hydro_key)['z_0.0']['theta_inn'],\n",
    "    M_inn     = emu_pars(model=hydro_key)['z_0.0']['M_inn']\n",
    ")"
   ]
  },
  {
   "cell_type": "markdown",
   "id": "149650a6",
   "metadata": {},
   "source": [
    "model_eagle"
   ]
  },
  {
   "cell_type": "code",
   "execution_count": 7,
   "id": "edc38054",
   "metadata": {},
   "outputs": [],
   "source": [
    "hydro_key = \"eagle\"\n",
    "dict_bounds_augs_eagle = dict(\n",
    "    M_c       = emu_pars(model=hydro_key)['z_0.0']['M_c'],\n",
    "    eta       = emu_pars(model=hydro_key)['z_0.0']['eta'],\n",
    "    beta      = emu_pars(model=hydro_key)['z_0.0']['beta'],\n",
    "    M1_z0_cen = emu_pars(model=hydro_key)['z_0.0']['M1_z0_cen'],\n",
    "    theta_out = emu_pars(model=hydro_key)['z_0.0']['theta_out'],\n",
    "    theta_inn = emu_pars(model=hydro_key)['z_0.0']['theta_inn'],\n",
    "    M_inn     = emu_pars(model=hydro_key)['z_0.0']['M_inn']\n",
    ")"
   ]
  },
  {
   "cell_type": "markdown",
   "id": "a7ad5f95",
   "metadata": {},
   "source": [
    "model_illustris"
   ]
  },
  {
   "cell_type": "code",
   "execution_count": 8,
   "id": "b6914479",
   "metadata": {},
   "outputs": [],
   "source": [
    "hydro_key = \"illustris\"\n",
    "dict_bounds_augs_illustris = dict(\n",
    "    M_c       = emu_pars(model=hydro_key)['z_0.0']['M_c'],\n",
    "    eta       = emu_pars(model=hydro_key)['z_0.0']['eta'],\n",
    "    beta      = emu_pars(model=hydro_key)['z_0.0']['beta'],\n",
    "    M1_z0_cen = emu_pars(model=hydro_key)['z_0.0']['M1_z0_cen'],\n",
    "    theta_out = emu_pars(model=hydro_key)['z_0.0']['theta_out'],\n",
    "    theta_inn = emu_pars(model=hydro_key)['z_0.0']['theta_inn'],\n",
    "    M_inn     = emu_pars(model=hydro_key)['z_0.0']['M_inn']\n",
    ")"
   ]
  },
  {
   "cell_type": "markdown",
   "id": "d06e231d",
   "metadata": {},
   "source": [
    "model_vary1"
   ]
  },
  {
   "cell_type": "code",
   "execution_count": 9,
   "id": "3346eebe",
   "metadata": {},
   "outputs": [],
   "source": [
    "dict_bounds_augs_vary1 = dict(\n",
    "    M_c       = [9.0, 15.0],\n",
    "    eta       = [-0.69, 0.69],\n",
    "    beta      = 0.,\n",
    "    M1_z0_cen = 12.,\n",
    "    theta_out = 0.,\n",
    "    theta_inn = -1.,\n",
    "    M_inn     = 13.\n",
    ")"
   ]
  },
  {
   "cell_type": "markdown",
   "id": "5367713a",
   "metadata": {},
   "source": [
    "model_vary2"
   ]
  },
  {
   "cell_type": "code",
   "execution_count": 10,
   "id": "92baa1bb",
   "metadata": {},
   "outputs": [],
   "source": [
    "dict_bounds_augs_vary2 = dict(\n",
    "    M_c       = 13.5,\n",
    "    eta       = 0.,\n",
    "    beta      = [-1.00, 0.69],\n",
    "    M1_z0_cen = [9.0, 13.0],\n",
    "    theta_out = 0.,\n",
    "    theta_inn = -1.,\n",
    "    M_inn     = 13.\n",
    ")"
   ]
  },
  {
   "cell_type": "markdown",
   "id": "8a80225c",
   "metadata": {},
   "source": [
    "model_vary3"
   ]
  },
  {
   "cell_type": "code",
   "execution_count": 11,
   "id": "8f89abbd",
   "metadata": {},
   "outputs": [],
   "source": [
    "dict_bounds_augs_vary3 = dict(\n",
    "    M_c       = 13.5,\n",
    "    eta       = 0.,\n",
    "    beta      = 0.,\n",
    "    M1_z0_cen = 12.,\n",
    "    theta_out = [0., 0.47],\n",
    "    theta_inn = [-2.0, -0.523],\n",
    "    M_inn     = [9.0, 13.5]\n",
    ")"
   ]
  },
  {
   "cell_type": "markdown",
   "id": "fa9bb5ff",
   "metadata": {},
   "source": [
    "model_fixed"
   ]
  },
  {
   "cell_type": "code",
   "execution_count": 12,
   "id": "0b709f45",
   "metadata": {},
   "outputs": [],
   "source": [
    "NN_fixed_latin = 10\n",
    "dict_bounds_augs = dict(\n",
    "    M_c       = [9.0, 15.0],\n",
    "    eta       = [-0.69, 0.69],\n",
    "    beta      = [-1.00, 0.69],\n",
    "    M1_z0_cen = [9.0, 13.0],\n",
    "    theta_out = [0., 0.47],\n",
    "    theta_inn = [-2.0, -0.523],\n",
    "    M_inn     = [9.0, 13.5]\n",
    ")\n",
    "sample_fixed_baryon_models = cl_inference.preprocessing_tools.sample_latin_hypercube(\n",
    "    dict_bounds_augs, N_points=NN_fixed_latin, seed=0\n",
    ")"
   ]
  },
  {
   "cell_type": "markdown",
   "id": "f2bfe9d0",
   "metadata": {},
   "source": [
    "##### Save the generated quantities to validate the datasets"
   ]
  },
  {
   "cell_type": "code",
   "execution_count": 13,
   "id": "eb156b63",
   "metadata": {},
   "outputs": [],
   "source": [
    "COSMOS = {}\n",
    "XX = {}\n",
    "AUG_PARAMS = {}\n",
    "EXTENDED_AUG_PARAMS = {}"
   ]
  },
  {
   "cell_type": "markdown",
   "id": "da6c608c",
   "metadata": {},
   "source": [
    "# Generate training set"
   ]
  },
  {
   "cell_type": "code",
   "execution_count": 14,
   "id": "7dde4680",
   "metadata": {
    "scrolled": true
   },
   "outputs": [],
   "source": [
    "ds_mode = 'TRAIN'\n",
    "COSMOS[ds_mode] = {}\n",
    "XX[ds_mode] = {}\n",
    "AUG_PARAMS[ds_mode] = {}\n",
    "EXTENDED_AUG_PARAMS[ds_mode] = {}\n",
    "\n",
    "path_save = os.path.join(path_save_root, ds_mode)"
   ]
  },
  {
   "cell_type": "code",
   "execution_count": 15,
   "id": "4d1f40e4",
   "metadata": {
    "scrolled": true
   },
   "outputs": [
    {
     "name": "stderr",
     "output_type": "stream",
     "text": [
      "2024-06-14 15:52:40.904301: I external/local_tsl/tsl/cuda/cudart_stub.cc:31] Could not find cuda drivers on your machine, GPU will not be used.\n",
      "2024-06-14 15:52:41.184031: E external/local_xla/xla/stream_executor/cuda/cuda_dnn.cc:9261] Unable to register cuDNN factory: Attempting to register factory for plugin cuDNN when one has already been registered\n",
      "2024-06-14 15:52:41.184152: E external/local_xla/xla/stream_executor/cuda/cuda_fft.cc:607] Unable to register cuFFT factory: Attempting to register factory for plugin cuFFT when one has already been registered\n",
      "2024-06-14 15:52:41.221519: E external/local_xla/xla/stream_executor/cuda/cuda_blas.cc:1515] Unable to register cuBLAS factory: Attempting to register factory for plugin cuBLAS when one has already been registered\n",
      "2024-06-14 15:52:41.309242: I tensorflow/core/platform/cpu_feature_guard.cc:182] This TensorFlow binary is optimized to use available CPU instructions in performance-critical operations.\n",
      "To enable the following instructions: AVX2 AVX512F FMA, in other operations, rebuild TensorFlow with the appropriate compiler flags.\n",
      "2024-06-14 15:52:44.393546: W tensorflow/compiler/tf2tensorrt/utils/py_utils.cc:38] TF-TRT Warning: Could not find TensorRT\n",
      "2024-06-14 15:52:47.630301: W tensorflow/core/common_runtime/gpu/gpu_device.cc:2256] Cannot dlopen some GPU libraries. Please make sure the missing libraries mentioned above are installed properly if you would like to use GPU. Follow the guide at https://www.tensorflow.org/install/gpu for how to download and setup the required libraries for your platform.\n",
      "Skipping registering GPU devices...\n"
     ]
    },
    {
     "name": "stdout",
     "output_type": "stream",
     "text": [
      "Loading sigma8 emulator...\n",
      "Sigma8 emulator loaded in memory.\n",
      "Loading linear emulator...\n"
     ]
    },
    {
     "name": "stderr",
     "output_type": "stream",
     "text": [
      "/dipc/dlopez/.conda/envs/VE_torch/lib/python3.9/site-packages/sklearn/base.py:348: InconsistentVersionWarning: Trying to unpickle estimator PCA from version 1.0 when using version 1.3.2. This might lead to breaking code or invalid results. Use at your own risk. For more info please refer to:\n",
      "https://scikit-learn.org/stable/model_persistence.html#security-maintainability-limitations\n",
      "  warnings.warn(\n",
      "/dipc/dlopez/.conda/envs/VE_torch/lib/python3.9/site-packages/sklearn/base.py:348: InconsistentVersionWarning: Trying to unpickle estimator StandardScaler from version 1.0 when using version 1.3.2. This might lead to breaking code or invalid results. Use at your own risk. For more info please refer to:\n",
      "https://scikit-learn.org/stable/model_persistence.html#security-maintainability-limitations\n",
      "  warnings.warn(\n",
      "/dipc/dlopez/.conda/envs/VE_torch/lib/python3.9/site-packages/sklearn/base.py:348: InconsistentVersionWarning: Trying to unpickle estimator PCA from version 1.0 when using version 1.3.2. This might lead to breaking code or invalid results. Use at your own risk. For more info please refer to:\n",
      "https://scikit-learn.org/stable/model_persistence.html#security-maintainability-limitations\n",
      "  warnings.warn(\n",
      "/dipc/dlopez/.conda/envs/VE_torch/lib/python3.9/site-packages/sklearn/base.py:348: InconsistentVersionWarning: Trying to unpickle estimator StandardScaler from version 1.0 when using version 1.3.2. This might lead to breaking code or invalid results. Use at your own risk. For more info please refer to:\n",
      "https://scikit-learn.org/stable/model_persistence.html#security-maintainability-limitations\n",
      "  warnings.warn(\n"
     ]
    },
    {
     "name": "stdout",
     "output_type": "stream",
     "text": [
      "Linear emulator loaded in memory.\n",
      "Loading no-wiggles emulator...\n"
     ]
    },
    {
     "name": "stderr",
     "output_type": "stream",
     "text": [
      "/dipc/dlopez/.conda/envs/VE_torch/lib/python3.9/site-packages/sklearn/base.py:348: InconsistentVersionWarning: Trying to unpickle estimator StandardScaler from version 1.0.2 when using version 1.3.2. This might lead to breaking code or invalid results. Use at your own risk. For more info please refer to:\n",
      "https://scikit-learn.org/stable/model_persistence.html#security-maintainability-limitations\n",
      "  warnings.warn(\n",
      "/dipc/dlopez/.conda/envs/VE_torch/lib/python3.9/site-packages/sklearn/base.py:348: InconsistentVersionWarning: Trying to unpickle estimator StandardScaler from version 0.22.1 when using version 1.3.2. This might lead to breaking code or invalid results. Use at your own risk. For more info please refer to:\n",
      "https://scikit-learn.org/stable/model_persistence.html#security-maintainability-limitations\n",
      "  warnings.warn(\n",
      "/dipc/dlopez/.conda/envs/VE_torch/lib/python3.9/site-packages/sklearn/base.py:348: InconsistentVersionWarning: Trying to unpickle estimator PCA from version 0.22.1 when using version 1.3.2. This might lead to breaking code or invalid results. Use at your own risk. For more info please refer to:\n",
      "https://scikit-learn.org/stable/model_persistence.html#security-maintainability-limitations\n",
      "  warnings.warn(\n"
     ]
    },
    {
     "name": "stdout",
     "output_type": "stream",
     "text": [
      "No-wiggles emulator loaded in memory.\n",
      "Loading non-linear emulator...\n",
      "Nonlinear emulator loaded in memory.\n",
      "Loading Baryonic Emulator...\n"
     ]
    },
    {
     "name": "stderr",
     "output_type": "stream",
     "text": [
      "/dipc/dlopez/.conda/envs/VE_torch/lib/python3.9/site-packages/sklearn/base.py:348: InconsistentVersionWarning: Trying to unpickle estimator StandardScaler from version 0.23.2 when using version 1.3.2. This might lead to breaking code or invalid results. Use at your own risk. For more info please refer to:\n",
      "https://scikit-learn.org/stable/model_persistence.html#security-maintainability-limitations\n",
      "  warnings.warn(\n",
      "/dipc/dlopez/.conda/envs/VE_torch/lib/python3.9/site-packages/sklearn/base.py:348: InconsistentVersionWarning: Trying to unpickle estimator PCA from version 0.23.2 when using version 1.3.2. This might lead to breaking code or invalid results. Use at your own risk. For more info please refer to:\n",
      "https://scikit-learn.org/stable/model_persistence.html#security-maintainability-limitations\n",
      "  warnings.warn(\n"
     ]
    },
    {
     "name": "stdout",
     "output_type": "stream",
     "text": [
      "Baryonic Emulator loaded in memory.\n"
     ]
    }
   ],
   "source": [
    "model_name = \"Model_fixed_nl\"\n",
    "mode_baccoemu = \"nonlinear\"\n",
    "NN_samples_augs = 1\n",
    "COSMOS[ds_mode][model_name], XX[ds_mode][model_name], AUG_PARAMS[ds_mode][model_name], EXTENDED_AUG_PARAMS[ds_mode][model_name] = cl_inference.preprocessing_tools.generate_baccoemu_dataset(\n",
    "    NN_samples_cosmo  = NN_samples_cosmo_train,\n",
    "    NN_samples_augs   = NN_samples_augs,\n",
    "    dict_bounds_cosmo = dict_bounds_cosmo_train,\n",
    "    seed              = seed_train,\n",
    "    path_save         = path_save,\n",
    "    model_name        = model_name,\n",
    "    mode_baccoemu     = mode_baccoemu,\n",
    "    kmax              = kmax, box=box\n",
    ")"
   ]
  },
  {
   "cell_type": "code",
   "execution_count": 16,
   "id": "aa7c9644",
   "metadata": {},
   "outputs": [
    {
     "name": "stdout",
     "output_type": "stream",
     "text": [
      "Loading sigma8 emulator...\n",
      "Sigma8 emulator loaded in memory.\n",
      "Loading linear emulator...\n"
     ]
    },
    {
     "name": "stderr",
     "output_type": "stream",
     "text": [
      "/dipc/dlopez/.conda/envs/VE_torch/lib/python3.9/site-packages/sklearn/base.py:348: InconsistentVersionWarning: Trying to unpickle estimator PCA from version 1.0 when using version 1.3.2. This might lead to breaking code or invalid results. Use at your own risk. For more info please refer to:\n",
      "https://scikit-learn.org/stable/model_persistence.html#security-maintainability-limitations\n",
      "  warnings.warn(\n",
      "/dipc/dlopez/.conda/envs/VE_torch/lib/python3.9/site-packages/sklearn/base.py:348: InconsistentVersionWarning: Trying to unpickle estimator StandardScaler from version 1.0 when using version 1.3.2. This might lead to breaking code or invalid results. Use at your own risk. For more info please refer to:\n",
      "https://scikit-learn.org/stable/model_persistence.html#security-maintainability-limitations\n",
      "  warnings.warn(\n",
      "/dipc/dlopez/.conda/envs/VE_torch/lib/python3.9/site-packages/sklearn/base.py:348: InconsistentVersionWarning: Trying to unpickle estimator PCA from version 1.0 when using version 1.3.2. This might lead to breaking code or invalid results. Use at your own risk. For more info please refer to:\n",
      "https://scikit-learn.org/stable/model_persistence.html#security-maintainability-limitations\n",
      "  warnings.warn(\n",
      "/dipc/dlopez/.conda/envs/VE_torch/lib/python3.9/site-packages/sklearn/base.py:348: InconsistentVersionWarning: Trying to unpickle estimator StandardScaler from version 1.0 when using version 1.3.2. This might lead to breaking code or invalid results. Use at your own risk. For more info please refer to:\n",
      "https://scikit-learn.org/stable/model_persistence.html#security-maintainability-limitations\n",
      "  warnings.warn(\n"
     ]
    },
    {
     "name": "stdout",
     "output_type": "stream",
     "text": [
      "Linear emulator loaded in memory.\n",
      "Loading no-wiggles emulator...\n",
      "No-wiggles emulator loaded in memory.\n",
      "Loading non-linear emulator...\n"
     ]
    },
    {
     "name": "stderr",
     "output_type": "stream",
     "text": [
      "/dipc/dlopez/.conda/envs/VE_torch/lib/python3.9/site-packages/sklearn/base.py:348: InconsistentVersionWarning: Trying to unpickle estimator StandardScaler from version 1.0.2 when using version 1.3.2. This might lead to breaking code or invalid results. Use at your own risk. For more info please refer to:\n",
      "https://scikit-learn.org/stable/model_persistence.html#security-maintainability-limitations\n",
      "  warnings.warn(\n",
      "/dipc/dlopez/.conda/envs/VE_torch/lib/python3.9/site-packages/sklearn/base.py:348: InconsistentVersionWarning: Trying to unpickle estimator StandardScaler from version 0.22.1 when using version 1.3.2. This might lead to breaking code or invalid results. Use at your own risk. For more info please refer to:\n",
      "https://scikit-learn.org/stable/model_persistence.html#security-maintainability-limitations\n",
      "  warnings.warn(\n",
      "/dipc/dlopez/.conda/envs/VE_torch/lib/python3.9/site-packages/sklearn/base.py:348: InconsistentVersionWarning: Trying to unpickle estimator PCA from version 0.22.1 when using version 1.3.2. This might lead to breaking code or invalid results. Use at your own risk. For more info please refer to:\n",
      "https://scikit-learn.org/stable/model_persistence.html#security-maintainability-limitations\n",
      "  warnings.warn(\n"
     ]
    },
    {
     "name": "stdout",
     "output_type": "stream",
     "text": [
      "Nonlinear emulator loaded in memory.\n",
      "Loading Baryonic Emulator...\n"
     ]
    },
    {
     "name": "stderr",
     "output_type": "stream",
     "text": [
      "/dipc/dlopez/.conda/envs/VE_torch/lib/python3.9/site-packages/sklearn/base.py:348: InconsistentVersionWarning: Trying to unpickle estimator StandardScaler from version 0.23.2 when using version 1.3.2. This might lead to breaking code or invalid results. Use at your own risk. For more info please refer to:\n",
      "https://scikit-learn.org/stable/model_persistence.html#security-maintainability-limitations\n",
      "  warnings.warn(\n",
      "/dipc/dlopez/.conda/envs/VE_torch/lib/python3.9/site-packages/sklearn/base.py:348: InconsistentVersionWarning: Trying to unpickle estimator PCA from version 0.23.2 when using version 1.3.2. This might lead to breaking code or invalid results. Use at your own risk. For more info please refer to:\n",
      "https://scikit-learn.org/stable/model_persistence.html#security-maintainability-limitations\n",
      "  warnings.warn(\n"
     ]
    },
    {
     "name": "stdout",
     "output_type": "stream",
     "text": [
      "Baryonic Emulator loaded in memory.\n"
     ]
    }
   ],
   "source": [
    "model_name = \"Model_vary_all\"\n",
    "NN_samples_augs = 20\n",
    "COSMOS[ds_mode][model_name], XX[ds_mode][model_name], AUG_PARAMS[ds_mode][model_name], EXTENDED_AUG_PARAMS[ds_mode][model_name] = cl_inference.preprocessing_tools.generate_baccoemu_dataset(\n",
    "    NN_samples_cosmo  = NN_samples_cosmo_train,\n",
    "    NN_samples_augs   = NN_samples_augs,\n",
    "    dict_bounds_cosmo = dict_bounds_cosmo_train,\n",
    "    seed              = seed_train,\n",
    "    path_save         = path_save,\n",
    "    model_name        = model_name,\n",
    "    kmax              = kmax, box=box\n",
    ")"
   ]
  },
  {
   "cell_type": "code",
   "execution_count": 17,
   "id": "70bf4bf4",
   "metadata": {},
   "outputs": [
    {
     "name": "stdout",
     "output_type": "stream",
     "text": [
      "Loading sigma8 emulator...\n",
      "Sigma8 emulator loaded in memory.\n",
      "Loading linear emulator...\n"
     ]
    },
    {
     "name": "stderr",
     "output_type": "stream",
     "text": [
      "/dipc/dlopez/.conda/envs/VE_torch/lib/python3.9/site-packages/sklearn/base.py:348: InconsistentVersionWarning: Trying to unpickle estimator PCA from version 1.0 when using version 1.3.2. This might lead to breaking code or invalid results. Use at your own risk. For more info please refer to:\n",
      "https://scikit-learn.org/stable/model_persistence.html#security-maintainability-limitations\n",
      "  warnings.warn(\n",
      "/dipc/dlopez/.conda/envs/VE_torch/lib/python3.9/site-packages/sklearn/base.py:348: InconsistentVersionWarning: Trying to unpickle estimator StandardScaler from version 1.0 when using version 1.3.2. This might lead to breaking code or invalid results. Use at your own risk. For more info please refer to:\n",
      "https://scikit-learn.org/stable/model_persistence.html#security-maintainability-limitations\n",
      "  warnings.warn(\n",
      "/dipc/dlopez/.conda/envs/VE_torch/lib/python3.9/site-packages/sklearn/base.py:348: InconsistentVersionWarning: Trying to unpickle estimator PCA from version 1.0 when using version 1.3.2. This might lead to breaking code or invalid results. Use at your own risk. For more info please refer to:\n",
      "https://scikit-learn.org/stable/model_persistence.html#security-maintainability-limitations\n",
      "  warnings.warn(\n",
      "/dipc/dlopez/.conda/envs/VE_torch/lib/python3.9/site-packages/sklearn/base.py:348: InconsistentVersionWarning: Trying to unpickle estimator StandardScaler from version 1.0 when using version 1.3.2. This might lead to breaking code or invalid results. Use at your own risk. For more info please refer to:\n",
      "https://scikit-learn.org/stable/model_persistence.html#security-maintainability-limitations\n",
      "  warnings.warn(\n"
     ]
    },
    {
     "name": "stdout",
     "output_type": "stream",
     "text": [
      "Linear emulator loaded in memory.\n",
      "Loading no-wiggles emulator...\n",
      "No-wiggles emulator loaded in memory.\n",
      "Loading non-linear emulator...\n"
     ]
    },
    {
     "name": "stderr",
     "output_type": "stream",
     "text": [
      "/dipc/dlopez/.conda/envs/VE_torch/lib/python3.9/site-packages/sklearn/base.py:348: InconsistentVersionWarning: Trying to unpickle estimator StandardScaler from version 1.0.2 when using version 1.3.2. This might lead to breaking code or invalid results. Use at your own risk. For more info please refer to:\n",
      "https://scikit-learn.org/stable/model_persistence.html#security-maintainability-limitations\n",
      "  warnings.warn(\n",
      "/dipc/dlopez/.conda/envs/VE_torch/lib/python3.9/site-packages/sklearn/base.py:348: InconsistentVersionWarning: Trying to unpickle estimator StandardScaler from version 0.22.1 when using version 1.3.2. This might lead to breaking code or invalid results. Use at your own risk. For more info please refer to:\n",
      "https://scikit-learn.org/stable/model_persistence.html#security-maintainability-limitations\n",
      "  warnings.warn(\n",
      "/dipc/dlopez/.conda/envs/VE_torch/lib/python3.9/site-packages/sklearn/base.py:348: InconsistentVersionWarning: Trying to unpickle estimator PCA from version 0.22.1 when using version 1.3.2. This might lead to breaking code or invalid results. Use at your own risk. For more info please refer to:\n",
      "https://scikit-learn.org/stable/model_persistence.html#security-maintainability-limitations\n",
      "  warnings.warn(\n"
     ]
    },
    {
     "name": "stdout",
     "output_type": "stream",
     "text": [
      "Nonlinear emulator loaded in memory.\n",
      "Loading Baryonic Emulator...\n",
      "Baryonic Emulator loaded in memory.\n"
     ]
    },
    {
     "name": "stderr",
     "output_type": "stream",
     "text": [
      "/dipc/dlopez/.conda/envs/VE_torch/lib/python3.9/site-packages/sklearn/base.py:348: InconsistentVersionWarning: Trying to unpickle estimator StandardScaler from version 0.23.2 when using version 1.3.2. This might lead to breaking code or invalid results. Use at your own risk. For more info please refer to:\n",
      "https://scikit-learn.org/stable/model_persistence.html#security-maintainability-limitations\n",
      "  warnings.warn(\n",
      "/dipc/dlopez/.conda/envs/VE_torch/lib/python3.9/site-packages/sklearn/base.py:348: InconsistentVersionWarning: Trying to unpickle estimator PCA from version 0.23.2 when using version 1.3.2. This might lead to breaking code or invalid results. Use at your own risk. For more info please refer to:\n",
      "https://scikit-learn.org/stable/model_persistence.html#security-maintainability-limitations\n",
      "  warnings.warn(\n"
     ]
    }
   ],
   "source": [
    "hydro_key = 'bahamas'\n",
    "model_name = \"Model_fixed_\"+hydro_key\n",
    "NN_samples_augs = 1\n",
    "COSMOS[ds_mode][model_name], XX[ds_mode][model_name], AUG_PARAMS[ds_mode][model_name], EXTENDED_AUG_PARAMS[ds_mode][model_name] = cl_inference.preprocessing_tools.generate_baccoemu_dataset(\n",
    "    NN_samples_cosmo  = NN_samples_cosmo_train,\n",
    "    NN_samples_augs   = NN_samples_augs,\n",
    "    dict_bounds_cosmo = dict_bounds_cosmo_train,\n",
    "    dict_bounds_augs  = dict_bounds_augs_bahamas,\n",
    "    seed              = seed_train,\n",
    "    path_save         = path_save,\n",
    "    model_name        = model_name,\n",
    "    kmax              = kmax, box=box\n",
    ")"
   ]
  },
  {
   "cell_type": "code",
   "execution_count": 18,
   "id": "54717144",
   "metadata": {},
   "outputs": [
    {
     "name": "stdout",
     "output_type": "stream",
     "text": [
      "Loading sigma8 emulator...\n",
      "Sigma8 emulator loaded in memory.\n",
      "Loading linear emulator...\n"
     ]
    },
    {
     "name": "stderr",
     "output_type": "stream",
     "text": [
      "/dipc/dlopez/.conda/envs/VE_torch/lib/python3.9/site-packages/sklearn/base.py:348: InconsistentVersionWarning: Trying to unpickle estimator PCA from version 1.0 when using version 1.3.2. This might lead to breaking code or invalid results. Use at your own risk. For more info please refer to:\n",
      "https://scikit-learn.org/stable/model_persistence.html#security-maintainability-limitations\n",
      "  warnings.warn(\n",
      "/dipc/dlopez/.conda/envs/VE_torch/lib/python3.9/site-packages/sklearn/base.py:348: InconsistentVersionWarning: Trying to unpickle estimator StandardScaler from version 1.0 when using version 1.3.2. This might lead to breaking code or invalid results. Use at your own risk. For more info please refer to:\n",
      "https://scikit-learn.org/stable/model_persistence.html#security-maintainability-limitations\n",
      "  warnings.warn(\n",
      "/dipc/dlopez/.conda/envs/VE_torch/lib/python3.9/site-packages/sklearn/base.py:348: InconsistentVersionWarning: Trying to unpickle estimator PCA from version 1.0 when using version 1.3.2. This might lead to breaking code or invalid results. Use at your own risk. For more info please refer to:\n",
      "https://scikit-learn.org/stable/model_persistence.html#security-maintainability-limitations\n",
      "  warnings.warn(\n",
      "/dipc/dlopez/.conda/envs/VE_torch/lib/python3.9/site-packages/sklearn/base.py:348: InconsistentVersionWarning: Trying to unpickle estimator StandardScaler from version 1.0 when using version 1.3.2. This might lead to breaking code or invalid results. Use at your own risk. For more info please refer to:\n",
      "https://scikit-learn.org/stable/model_persistence.html#security-maintainability-limitations\n",
      "  warnings.warn(\n"
     ]
    },
    {
     "name": "stdout",
     "output_type": "stream",
     "text": [
      "Linear emulator loaded in memory.\n",
      "Loading no-wiggles emulator...\n",
      "No-wiggles emulator loaded in memory.\n",
      "Loading non-linear emulator...\n"
     ]
    },
    {
     "name": "stderr",
     "output_type": "stream",
     "text": [
      "/dipc/dlopez/.conda/envs/VE_torch/lib/python3.9/site-packages/sklearn/base.py:348: InconsistentVersionWarning: Trying to unpickle estimator StandardScaler from version 1.0.2 when using version 1.3.2. This might lead to breaking code or invalid results. Use at your own risk. For more info please refer to:\n",
      "https://scikit-learn.org/stable/model_persistence.html#security-maintainability-limitations\n",
      "  warnings.warn(\n",
      "/dipc/dlopez/.conda/envs/VE_torch/lib/python3.9/site-packages/sklearn/base.py:348: InconsistentVersionWarning: Trying to unpickle estimator StandardScaler from version 0.22.1 when using version 1.3.2. This might lead to breaking code or invalid results. Use at your own risk. For more info please refer to:\n",
      "https://scikit-learn.org/stable/model_persistence.html#security-maintainability-limitations\n",
      "  warnings.warn(\n",
      "/dipc/dlopez/.conda/envs/VE_torch/lib/python3.9/site-packages/sklearn/base.py:348: InconsistentVersionWarning: Trying to unpickle estimator PCA from version 0.22.1 when using version 1.3.2. This might lead to breaking code or invalid results. Use at your own risk. For more info please refer to:\n",
      "https://scikit-learn.org/stable/model_persistence.html#security-maintainability-limitations\n",
      "  warnings.warn(\n"
     ]
    },
    {
     "name": "stdout",
     "output_type": "stream",
     "text": [
      "Nonlinear emulator loaded in memory.\n",
      "Loading Baryonic Emulator...\n",
      "Baryonic Emulator loaded in memory.\n"
     ]
    },
    {
     "name": "stderr",
     "output_type": "stream",
     "text": [
      "/dipc/dlopez/.conda/envs/VE_torch/lib/python3.9/site-packages/sklearn/base.py:348: InconsistentVersionWarning: Trying to unpickle estimator StandardScaler from version 0.23.2 when using version 1.3.2. This might lead to breaking code or invalid results. Use at your own risk. For more info please refer to:\n",
      "https://scikit-learn.org/stable/model_persistence.html#security-maintainability-limitations\n",
      "  warnings.warn(\n",
      "/dipc/dlopez/.conda/envs/VE_torch/lib/python3.9/site-packages/sklearn/base.py:348: InconsistentVersionWarning: Trying to unpickle estimator PCA from version 0.23.2 when using version 1.3.2. This might lead to breaking code or invalid results. Use at your own risk. For more info please refer to:\n",
      "https://scikit-learn.org/stable/model_persistence.html#security-maintainability-limitations\n",
      "  warnings.warn(\n"
     ]
    }
   ],
   "source": [
    "hydro_key = 'eagle'\n",
    "model_name = \"Model_fixed_\"+hydro_key\n",
    "NN_samples_augs = 1\n",
    "COSMOS[ds_mode][model_name], XX[ds_mode][model_name], AUG_PARAMS[ds_mode][model_name], EXTENDED_AUG_PARAMS[ds_mode][model_name] = cl_inference.preprocessing_tools.generate_baccoemu_dataset(\n",
    "    NN_samples_cosmo  = NN_samples_cosmo_train,\n",
    "    NN_samples_augs   = NN_samples_augs,\n",
    "    dict_bounds_cosmo = dict_bounds_cosmo_train,\n",
    "    dict_bounds_augs  = dict_bounds_augs_eagle,\n",
    "    seed              = seed_train,\n",
    "    path_save         = path_save,\n",
    "    model_name        = model_name,\n",
    "    kmax              = kmax, box=box\n",
    ")"
   ]
  },
  {
   "cell_type": "code",
   "execution_count": 19,
   "id": "221b9798",
   "metadata": {},
   "outputs": [
    {
     "name": "stdout",
     "output_type": "stream",
     "text": [
      "Loading sigma8 emulator...\n",
      "Sigma8 emulator loaded in memory.\n",
      "Loading linear emulator...\n"
     ]
    },
    {
     "name": "stderr",
     "output_type": "stream",
     "text": [
      "/dipc/dlopez/.conda/envs/VE_torch/lib/python3.9/site-packages/sklearn/base.py:348: InconsistentVersionWarning: Trying to unpickle estimator PCA from version 1.0 when using version 1.3.2. This might lead to breaking code or invalid results. Use at your own risk. For more info please refer to:\n",
      "https://scikit-learn.org/stable/model_persistence.html#security-maintainability-limitations\n",
      "  warnings.warn(\n",
      "/dipc/dlopez/.conda/envs/VE_torch/lib/python3.9/site-packages/sklearn/base.py:348: InconsistentVersionWarning: Trying to unpickle estimator StandardScaler from version 1.0 when using version 1.3.2. This might lead to breaking code or invalid results. Use at your own risk. For more info please refer to:\n",
      "https://scikit-learn.org/stable/model_persistence.html#security-maintainability-limitations\n",
      "  warnings.warn(\n",
      "/dipc/dlopez/.conda/envs/VE_torch/lib/python3.9/site-packages/sklearn/base.py:348: InconsistentVersionWarning: Trying to unpickle estimator PCA from version 1.0 when using version 1.3.2. This might lead to breaking code or invalid results. Use at your own risk. For more info please refer to:\n",
      "https://scikit-learn.org/stable/model_persistence.html#security-maintainability-limitations\n",
      "  warnings.warn(\n",
      "/dipc/dlopez/.conda/envs/VE_torch/lib/python3.9/site-packages/sklearn/base.py:348: InconsistentVersionWarning: Trying to unpickle estimator StandardScaler from version 1.0 when using version 1.3.2. This might lead to breaking code or invalid results. Use at your own risk. For more info please refer to:\n",
      "https://scikit-learn.org/stable/model_persistence.html#security-maintainability-limitations\n",
      "  warnings.warn(\n"
     ]
    },
    {
     "name": "stdout",
     "output_type": "stream",
     "text": [
      "Linear emulator loaded in memory.\n",
      "Loading no-wiggles emulator...\n"
     ]
    },
    {
     "name": "stderr",
     "output_type": "stream",
     "text": [
      "/dipc/dlopez/.conda/envs/VE_torch/lib/python3.9/site-packages/sklearn/base.py:348: InconsistentVersionWarning: Trying to unpickle estimator StandardScaler from version 1.0.2 when using version 1.3.2. This might lead to breaking code or invalid results. Use at your own risk. For more info please refer to:\n",
      "https://scikit-learn.org/stable/model_persistence.html#security-maintainability-limitations\n",
      "  warnings.warn(\n",
      "/dipc/dlopez/.conda/envs/VE_torch/lib/python3.9/site-packages/sklearn/base.py:348: InconsistentVersionWarning: Trying to unpickle estimator StandardScaler from version 0.22.1 when using version 1.3.2. This might lead to breaking code or invalid results. Use at your own risk. For more info please refer to:\n",
      "https://scikit-learn.org/stable/model_persistence.html#security-maintainability-limitations\n",
      "  warnings.warn(\n",
      "/dipc/dlopez/.conda/envs/VE_torch/lib/python3.9/site-packages/sklearn/base.py:348: InconsistentVersionWarning: Trying to unpickle estimator PCA from version 0.22.1 when using version 1.3.2. This might lead to breaking code or invalid results. Use at your own risk. For more info please refer to:\n",
      "https://scikit-learn.org/stable/model_persistence.html#security-maintainability-limitations\n",
      "  warnings.warn(\n"
     ]
    },
    {
     "name": "stdout",
     "output_type": "stream",
     "text": [
      "No-wiggles emulator loaded in memory.\n",
      "Loading non-linear emulator...\n",
      "Nonlinear emulator loaded in memory.\n",
      "Loading Baryonic Emulator...\n"
     ]
    },
    {
     "name": "stderr",
     "output_type": "stream",
     "text": [
      "/dipc/dlopez/.conda/envs/VE_torch/lib/python3.9/site-packages/sklearn/base.py:348: InconsistentVersionWarning: Trying to unpickle estimator StandardScaler from version 0.23.2 when using version 1.3.2. This might lead to breaking code or invalid results. Use at your own risk. For more info please refer to:\n",
      "https://scikit-learn.org/stable/model_persistence.html#security-maintainability-limitations\n",
      "  warnings.warn(\n",
      "/dipc/dlopez/.conda/envs/VE_torch/lib/python3.9/site-packages/sklearn/base.py:348: InconsistentVersionWarning: Trying to unpickle estimator PCA from version 0.23.2 when using version 1.3.2. This might lead to breaking code or invalid results. Use at your own risk. For more info please refer to:\n",
      "https://scikit-learn.org/stable/model_persistence.html#security-maintainability-limitations\n",
      "  warnings.warn(\n"
     ]
    },
    {
     "name": "stdout",
     "output_type": "stream",
     "text": [
      "Baryonic Emulator loaded in memory.\n"
     ]
    }
   ],
   "source": [
    "hydro_key = 'illustris'\n",
    "model_name = \"Model_fixed_\"+hydro_key\n",
    "NN_samples_augs = 1\n",
    "COSMOS[ds_mode][model_name], XX[ds_mode][model_name], AUG_PARAMS[ds_mode][model_name], EXTENDED_AUG_PARAMS[ds_mode][model_name] = cl_inference.preprocessing_tools.generate_baccoemu_dataset(\n",
    "    NN_samples_cosmo  = NN_samples_cosmo_train,\n",
    "    NN_samples_augs   = NN_samples_augs,\n",
    "    dict_bounds_cosmo = dict_bounds_cosmo_train,\n",
    "    dict_bounds_augs  = dict_bounds_augs_illustris,\n",
    "    seed              = seed_train,\n",
    "    path_save         = path_save,\n",
    "    model_name        = model_name,\n",
    "    kmax              = kmax, box=box\n",
    ")"
   ]
  },
  {
   "cell_type": "code",
   "execution_count": 20,
   "id": "8c14325b",
   "metadata": {},
   "outputs": [
    {
     "name": "stdout",
     "output_type": "stream",
     "text": [
      "Loading sigma8 emulator...\n",
      "Sigma8 emulator loaded in memory.\n",
      "Loading linear emulator...\n"
     ]
    },
    {
     "name": "stderr",
     "output_type": "stream",
     "text": [
      "/dipc/dlopez/.conda/envs/VE_torch/lib/python3.9/site-packages/sklearn/base.py:348: InconsistentVersionWarning: Trying to unpickle estimator PCA from version 1.0 when using version 1.3.2. This might lead to breaking code or invalid results. Use at your own risk. For more info please refer to:\n",
      "https://scikit-learn.org/stable/model_persistence.html#security-maintainability-limitations\n",
      "  warnings.warn(\n",
      "/dipc/dlopez/.conda/envs/VE_torch/lib/python3.9/site-packages/sklearn/base.py:348: InconsistentVersionWarning: Trying to unpickle estimator StandardScaler from version 1.0 when using version 1.3.2. This might lead to breaking code or invalid results. Use at your own risk. For more info please refer to:\n",
      "https://scikit-learn.org/stable/model_persistence.html#security-maintainability-limitations\n",
      "  warnings.warn(\n",
      "/dipc/dlopez/.conda/envs/VE_torch/lib/python3.9/site-packages/sklearn/base.py:348: InconsistentVersionWarning: Trying to unpickle estimator PCA from version 1.0 when using version 1.3.2. This might lead to breaking code or invalid results. Use at your own risk. For more info please refer to:\n",
      "https://scikit-learn.org/stable/model_persistence.html#security-maintainability-limitations\n",
      "  warnings.warn(\n",
      "/dipc/dlopez/.conda/envs/VE_torch/lib/python3.9/site-packages/sklearn/base.py:348: InconsistentVersionWarning: Trying to unpickle estimator StandardScaler from version 1.0 when using version 1.3.2. This might lead to breaking code or invalid results. Use at your own risk. For more info please refer to:\n",
      "https://scikit-learn.org/stable/model_persistence.html#security-maintainability-limitations\n",
      "  warnings.warn(\n"
     ]
    },
    {
     "name": "stdout",
     "output_type": "stream",
     "text": [
      "Linear emulator loaded in memory.\n",
      "Loading no-wiggles emulator...\n",
      "No-wiggles emulator loaded in memory.\n",
      "Loading non-linear emulator...\n"
     ]
    },
    {
     "name": "stderr",
     "output_type": "stream",
     "text": [
      "/dipc/dlopez/.conda/envs/VE_torch/lib/python3.9/site-packages/sklearn/base.py:348: InconsistentVersionWarning: Trying to unpickle estimator StandardScaler from version 1.0.2 when using version 1.3.2. This might lead to breaking code or invalid results. Use at your own risk. For more info please refer to:\n",
      "https://scikit-learn.org/stable/model_persistence.html#security-maintainability-limitations\n",
      "  warnings.warn(\n",
      "/dipc/dlopez/.conda/envs/VE_torch/lib/python3.9/site-packages/sklearn/base.py:348: InconsistentVersionWarning: Trying to unpickle estimator StandardScaler from version 0.22.1 when using version 1.3.2. This might lead to breaking code or invalid results. Use at your own risk. For more info please refer to:\n",
      "https://scikit-learn.org/stable/model_persistence.html#security-maintainability-limitations\n",
      "  warnings.warn(\n",
      "/dipc/dlopez/.conda/envs/VE_torch/lib/python3.9/site-packages/sklearn/base.py:348: InconsistentVersionWarning: Trying to unpickle estimator PCA from version 0.22.1 when using version 1.3.2. This might lead to breaking code or invalid results. Use at your own risk. For more info please refer to:\n",
      "https://scikit-learn.org/stable/model_persistence.html#security-maintainability-limitations\n",
      "  warnings.warn(\n"
     ]
    },
    {
     "name": "stdout",
     "output_type": "stream",
     "text": [
      "Nonlinear emulator loaded in memory.\n",
      "Loading Baryonic Emulator...\n",
      "Baryonic Emulator loaded in memory.\n"
     ]
    },
    {
     "name": "stderr",
     "output_type": "stream",
     "text": [
      "/dipc/dlopez/.conda/envs/VE_torch/lib/python3.9/site-packages/sklearn/base.py:348: InconsistentVersionWarning: Trying to unpickle estimator StandardScaler from version 0.23.2 when using version 1.3.2. This might lead to breaking code or invalid results. Use at your own risk. For more info please refer to:\n",
      "https://scikit-learn.org/stable/model_persistence.html#security-maintainability-limitations\n",
      "  warnings.warn(\n",
      "/dipc/dlopez/.conda/envs/VE_torch/lib/python3.9/site-packages/sklearn/base.py:348: InconsistentVersionWarning: Trying to unpickle estimator PCA from version 0.23.2 when using version 1.3.2. This might lead to breaking code or invalid results. Use at your own risk. For more info please refer to:\n",
      "https://scikit-learn.org/stable/model_persistence.html#security-maintainability-limitations\n",
      "  warnings.warn(\n"
     ]
    }
   ],
   "source": [
    "model_name = \"Model_vary_1\"\n",
    "NN_samples_augs = 10\n",
    "COSMOS[ds_mode][model_name], XX[ds_mode][model_name], AUG_PARAMS[ds_mode][model_name], EXTENDED_AUG_PARAMS[ds_mode][model_name] = cl_inference.preprocessing_tools.generate_baccoemu_dataset(\n",
    "    NN_samples_cosmo  = NN_samples_cosmo_train,\n",
    "    NN_samples_augs   = NN_samples_augs,\n",
    "    dict_bounds_cosmo = dict_bounds_cosmo_train,\n",
    "    dict_bounds_augs  = dict_bounds_augs_vary1,\n",
    "    seed              = seed_train,\n",
    "    path_save         = path_save,\n",
    "    model_name        = model_name,\n",
    "    kmax              = kmax, box=box\n",
    ")"
   ]
  },
  {
   "cell_type": "code",
   "execution_count": 21,
   "id": "c3b9dfe0",
   "metadata": {},
   "outputs": [
    {
     "name": "stdout",
     "output_type": "stream",
     "text": [
      "Loading sigma8 emulator...\n",
      "Sigma8 emulator loaded in memory.\n",
      "Loading linear emulator...\n"
     ]
    },
    {
     "name": "stderr",
     "output_type": "stream",
     "text": [
      "/dipc/dlopez/.conda/envs/VE_torch/lib/python3.9/site-packages/sklearn/base.py:348: InconsistentVersionWarning: Trying to unpickle estimator PCA from version 1.0 when using version 1.3.2. This might lead to breaking code or invalid results. Use at your own risk. For more info please refer to:\n",
      "https://scikit-learn.org/stable/model_persistence.html#security-maintainability-limitations\n",
      "  warnings.warn(\n",
      "/dipc/dlopez/.conda/envs/VE_torch/lib/python3.9/site-packages/sklearn/base.py:348: InconsistentVersionWarning: Trying to unpickle estimator StandardScaler from version 1.0 when using version 1.3.2. This might lead to breaking code or invalid results. Use at your own risk. For more info please refer to:\n",
      "https://scikit-learn.org/stable/model_persistence.html#security-maintainability-limitations\n",
      "  warnings.warn(\n",
      "/dipc/dlopez/.conda/envs/VE_torch/lib/python3.9/site-packages/sklearn/base.py:348: InconsistentVersionWarning: Trying to unpickle estimator PCA from version 1.0 when using version 1.3.2. This might lead to breaking code or invalid results. Use at your own risk. For more info please refer to:\n",
      "https://scikit-learn.org/stable/model_persistence.html#security-maintainability-limitations\n",
      "  warnings.warn(\n",
      "/dipc/dlopez/.conda/envs/VE_torch/lib/python3.9/site-packages/sklearn/base.py:348: InconsistentVersionWarning: Trying to unpickle estimator StandardScaler from version 1.0 when using version 1.3.2. This might lead to breaking code or invalid results. Use at your own risk. For more info please refer to:\n",
      "https://scikit-learn.org/stable/model_persistence.html#security-maintainability-limitations\n",
      "  warnings.warn(\n"
     ]
    },
    {
     "name": "stdout",
     "output_type": "stream",
     "text": [
      "Linear emulator loaded in memory.\n",
      "Loading no-wiggles emulator...\n",
      "No-wiggles emulator loaded in memory.\n",
      "Loading non-linear emulator...\n"
     ]
    },
    {
     "name": "stderr",
     "output_type": "stream",
     "text": [
      "/dipc/dlopez/.conda/envs/VE_torch/lib/python3.9/site-packages/sklearn/base.py:348: InconsistentVersionWarning: Trying to unpickle estimator StandardScaler from version 1.0.2 when using version 1.3.2. This might lead to breaking code or invalid results. Use at your own risk. For more info please refer to:\n",
      "https://scikit-learn.org/stable/model_persistence.html#security-maintainability-limitations\n",
      "  warnings.warn(\n",
      "/dipc/dlopez/.conda/envs/VE_torch/lib/python3.9/site-packages/sklearn/base.py:348: InconsistentVersionWarning: Trying to unpickle estimator StandardScaler from version 0.22.1 when using version 1.3.2. This might lead to breaking code or invalid results. Use at your own risk. For more info please refer to:\n",
      "https://scikit-learn.org/stable/model_persistence.html#security-maintainability-limitations\n",
      "  warnings.warn(\n",
      "/dipc/dlopez/.conda/envs/VE_torch/lib/python3.9/site-packages/sklearn/base.py:348: InconsistentVersionWarning: Trying to unpickle estimator PCA from version 0.22.1 when using version 1.3.2. This might lead to breaking code or invalid results. Use at your own risk. For more info please refer to:\n",
      "https://scikit-learn.org/stable/model_persistence.html#security-maintainability-limitations\n",
      "  warnings.warn(\n"
     ]
    },
    {
     "name": "stdout",
     "output_type": "stream",
     "text": [
      "Nonlinear emulator loaded in memory.\n",
      "Loading Baryonic Emulator...\n",
      "Baryonic Emulator loaded in memory.\n"
     ]
    },
    {
     "name": "stderr",
     "output_type": "stream",
     "text": [
      "/dipc/dlopez/.conda/envs/VE_torch/lib/python3.9/site-packages/sklearn/base.py:348: InconsistentVersionWarning: Trying to unpickle estimator StandardScaler from version 0.23.2 when using version 1.3.2. This might lead to breaking code or invalid results. Use at your own risk. For more info please refer to:\n",
      "https://scikit-learn.org/stable/model_persistence.html#security-maintainability-limitations\n",
      "  warnings.warn(\n",
      "/dipc/dlopez/.conda/envs/VE_torch/lib/python3.9/site-packages/sklearn/base.py:348: InconsistentVersionWarning: Trying to unpickle estimator PCA from version 0.23.2 when using version 1.3.2. This might lead to breaking code or invalid results. Use at your own risk. For more info please refer to:\n",
      "https://scikit-learn.org/stable/model_persistence.html#security-maintainability-limitations\n",
      "  warnings.warn(\n"
     ]
    }
   ],
   "source": [
    "model_name = \"Model_vary_2\"\n",
    "NN_samples_augs = 10\n",
    "COSMOS[ds_mode][model_name], XX[ds_mode][model_name], AUG_PARAMS[ds_mode][model_name], EXTENDED_AUG_PARAMS[ds_mode][model_name] = cl_inference.preprocessing_tools.generate_baccoemu_dataset(\n",
    "    NN_samples_cosmo  = NN_samples_cosmo_train,\n",
    "    NN_samples_augs   = NN_samples_augs,\n",
    "    dict_bounds_cosmo = dict_bounds_cosmo_train,\n",
    "    dict_bounds_augs  = dict_bounds_augs_vary2,\n",
    "    seed              = seed_train,\n",
    "    path_save         = path_save,\n",
    "    model_name        = model_name,\n",
    "    kmax              = kmax, box=box\n",
    ")"
   ]
  },
  {
   "cell_type": "code",
   "execution_count": 22,
   "id": "3105de53",
   "metadata": {},
   "outputs": [
    {
     "name": "stdout",
     "output_type": "stream",
     "text": [
      "Loading sigma8 emulator...\n",
      "Sigma8 emulator loaded in memory.\n",
      "Loading linear emulator...\n"
     ]
    },
    {
     "name": "stderr",
     "output_type": "stream",
     "text": [
      "/dipc/dlopez/.conda/envs/VE_torch/lib/python3.9/site-packages/sklearn/base.py:348: InconsistentVersionWarning: Trying to unpickle estimator PCA from version 1.0 when using version 1.3.2. This might lead to breaking code or invalid results. Use at your own risk. For more info please refer to:\n",
      "https://scikit-learn.org/stable/model_persistence.html#security-maintainability-limitations\n",
      "  warnings.warn(\n",
      "/dipc/dlopez/.conda/envs/VE_torch/lib/python3.9/site-packages/sklearn/base.py:348: InconsistentVersionWarning: Trying to unpickle estimator StandardScaler from version 1.0 when using version 1.3.2. This might lead to breaking code or invalid results. Use at your own risk. For more info please refer to:\n",
      "https://scikit-learn.org/stable/model_persistence.html#security-maintainability-limitations\n",
      "  warnings.warn(\n",
      "/dipc/dlopez/.conda/envs/VE_torch/lib/python3.9/site-packages/sklearn/base.py:348: InconsistentVersionWarning: Trying to unpickle estimator PCA from version 1.0 when using version 1.3.2. This might lead to breaking code or invalid results. Use at your own risk. For more info please refer to:\n",
      "https://scikit-learn.org/stable/model_persistence.html#security-maintainability-limitations\n",
      "  warnings.warn(\n",
      "/dipc/dlopez/.conda/envs/VE_torch/lib/python3.9/site-packages/sklearn/base.py:348: InconsistentVersionWarning: Trying to unpickle estimator StandardScaler from version 1.0 when using version 1.3.2. This might lead to breaking code or invalid results. Use at your own risk. For more info please refer to:\n",
      "https://scikit-learn.org/stable/model_persistence.html#security-maintainability-limitations\n",
      "  warnings.warn(\n"
     ]
    },
    {
     "name": "stdout",
     "output_type": "stream",
     "text": [
      "Linear emulator loaded in memory.\n",
      "Loading no-wiggles emulator...\n",
      "No-wiggles emulator loaded in memory.\n",
      "Loading non-linear emulator...\n"
     ]
    },
    {
     "name": "stderr",
     "output_type": "stream",
     "text": [
      "/dipc/dlopez/.conda/envs/VE_torch/lib/python3.9/site-packages/sklearn/base.py:348: InconsistentVersionWarning: Trying to unpickle estimator StandardScaler from version 1.0.2 when using version 1.3.2. This might lead to breaking code or invalid results. Use at your own risk. For more info please refer to:\n",
      "https://scikit-learn.org/stable/model_persistence.html#security-maintainability-limitations\n",
      "  warnings.warn(\n",
      "/dipc/dlopez/.conda/envs/VE_torch/lib/python3.9/site-packages/sklearn/base.py:348: InconsistentVersionWarning: Trying to unpickle estimator StandardScaler from version 0.22.1 when using version 1.3.2. This might lead to breaking code or invalid results. Use at your own risk. For more info please refer to:\n",
      "https://scikit-learn.org/stable/model_persistence.html#security-maintainability-limitations\n",
      "  warnings.warn(\n",
      "/dipc/dlopez/.conda/envs/VE_torch/lib/python3.9/site-packages/sklearn/base.py:348: InconsistentVersionWarning: Trying to unpickle estimator PCA from version 0.22.1 when using version 1.3.2. This might lead to breaking code or invalid results. Use at your own risk. For more info please refer to:\n",
      "https://scikit-learn.org/stable/model_persistence.html#security-maintainability-limitations\n",
      "  warnings.warn(\n"
     ]
    },
    {
     "name": "stdout",
     "output_type": "stream",
     "text": [
      "Nonlinear emulator loaded in memory.\n",
      "Loading Baryonic Emulator...\n",
      "Baryonic Emulator loaded in memory.\n"
     ]
    },
    {
     "name": "stderr",
     "output_type": "stream",
     "text": [
      "/dipc/dlopez/.conda/envs/VE_torch/lib/python3.9/site-packages/sklearn/base.py:348: InconsistentVersionWarning: Trying to unpickle estimator StandardScaler from version 0.23.2 when using version 1.3.2. This might lead to breaking code or invalid results. Use at your own risk. For more info please refer to:\n",
      "https://scikit-learn.org/stable/model_persistence.html#security-maintainability-limitations\n",
      "  warnings.warn(\n",
      "/dipc/dlopez/.conda/envs/VE_torch/lib/python3.9/site-packages/sklearn/base.py:348: InconsistentVersionWarning: Trying to unpickle estimator PCA from version 0.23.2 when using version 1.3.2. This might lead to breaking code or invalid results. Use at your own risk. For more info please refer to:\n",
      "https://scikit-learn.org/stable/model_persistence.html#security-maintainability-limitations\n",
      "  warnings.warn(\n"
     ]
    }
   ],
   "source": [
    "model_name = \"Model_vary_3\"\n",
    "NN_samples_augs = 10\n",
    "COSMOS[ds_mode][model_name], XX[ds_mode][model_name], AUG_PARAMS[ds_mode][model_name], EXTENDED_AUG_PARAMS[ds_mode][model_name] = cl_inference.preprocessing_tools.generate_baccoemu_dataset(\n",
    "    NN_samples_cosmo  = NN_samples_cosmo_train,\n",
    "    NN_samples_augs   = NN_samples_augs,\n",
    "    dict_bounds_cosmo = dict_bounds_cosmo_train,\n",
    "    dict_bounds_augs  = dict_bounds_augs_vary3,\n",
    "    seed              = seed_train,\n",
    "    path_save         = path_save,\n",
    "    model_name        = model_name,\n",
    "    kmax              = kmax, box=box\n",
    ")"
   ]
  },
  {
   "cell_type": "code",
   "execution_count": 23,
   "id": "de6c0b50",
   "metadata": {},
   "outputs": [
    {
     "name": "stdout",
     "output_type": "stream",
     "text": [
      "Loading sigma8 emulator...\n",
      "Sigma8 emulator loaded in memory.\n",
      "Loading linear emulator...\n"
     ]
    },
    {
     "name": "stderr",
     "output_type": "stream",
     "text": [
      "/dipc/dlopez/.conda/envs/VE_torch/lib/python3.9/site-packages/sklearn/base.py:348: InconsistentVersionWarning: Trying to unpickle estimator PCA from version 1.0 when using version 1.3.2. This might lead to breaking code or invalid results. Use at your own risk. For more info please refer to:\n",
      "https://scikit-learn.org/stable/model_persistence.html#security-maintainability-limitations\n",
      "  warnings.warn(\n",
      "/dipc/dlopez/.conda/envs/VE_torch/lib/python3.9/site-packages/sklearn/base.py:348: InconsistentVersionWarning: Trying to unpickle estimator StandardScaler from version 1.0 when using version 1.3.2. This might lead to breaking code or invalid results. Use at your own risk. For more info please refer to:\n",
      "https://scikit-learn.org/stable/model_persistence.html#security-maintainability-limitations\n",
      "  warnings.warn(\n",
      "/dipc/dlopez/.conda/envs/VE_torch/lib/python3.9/site-packages/sklearn/base.py:348: InconsistentVersionWarning: Trying to unpickle estimator PCA from version 1.0 when using version 1.3.2. This might lead to breaking code or invalid results. Use at your own risk. For more info please refer to:\n",
      "https://scikit-learn.org/stable/model_persistence.html#security-maintainability-limitations\n",
      "  warnings.warn(\n",
      "/dipc/dlopez/.conda/envs/VE_torch/lib/python3.9/site-packages/sklearn/base.py:348: InconsistentVersionWarning: Trying to unpickle estimator StandardScaler from version 1.0 when using version 1.3.2. This might lead to breaking code or invalid results. Use at your own risk. For more info please refer to:\n",
      "https://scikit-learn.org/stable/model_persistence.html#security-maintainability-limitations\n",
      "  warnings.warn(\n"
     ]
    },
    {
     "name": "stdout",
     "output_type": "stream",
     "text": [
      "Linear emulator loaded in memory.\n",
      "Loading no-wiggles emulator...\n",
      "No-wiggles emulator loaded in memory.\n",
      "Loading non-linear emulator...\n"
     ]
    },
    {
     "name": "stderr",
     "output_type": "stream",
     "text": [
      "/dipc/dlopez/.conda/envs/VE_torch/lib/python3.9/site-packages/sklearn/base.py:348: InconsistentVersionWarning: Trying to unpickle estimator StandardScaler from version 1.0.2 when using version 1.3.2. This might lead to breaking code or invalid results. Use at your own risk. For more info please refer to:\n",
      "https://scikit-learn.org/stable/model_persistence.html#security-maintainability-limitations\n",
      "  warnings.warn(\n",
      "/dipc/dlopez/.conda/envs/VE_torch/lib/python3.9/site-packages/sklearn/base.py:348: InconsistentVersionWarning: Trying to unpickle estimator StandardScaler from version 0.22.1 when using version 1.3.2. This might lead to breaking code or invalid results. Use at your own risk. For more info please refer to:\n",
      "https://scikit-learn.org/stable/model_persistence.html#security-maintainability-limitations\n",
      "  warnings.warn(\n",
      "/dipc/dlopez/.conda/envs/VE_torch/lib/python3.9/site-packages/sklearn/base.py:348: InconsistentVersionWarning: Trying to unpickle estimator PCA from version 0.22.1 when using version 1.3.2. This might lead to breaking code or invalid results. Use at your own risk. For more info please refer to:\n",
      "https://scikit-learn.org/stable/model_persistence.html#security-maintainability-limitations\n",
      "  warnings.warn(\n"
     ]
    },
    {
     "name": "stdout",
     "output_type": "stream",
     "text": [
      "Nonlinear emulator loaded in memory.\n",
      "Loading Baryonic Emulator...\n",
      "Baryonic Emulator loaded in memory.\n"
     ]
    },
    {
     "name": "stderr",
     "output_type": "stream",
     "text": [
      "/dipc/dlopez/.conda/envs/VE_torch/lib/python3.9/site-packages/sklearn/base.py:348: InconsistentVersionWarning: Trying to unpickle estimator StandardScaler from version 0.23.2 when using version 1.3.2. This might lead to breaking code or invalid results. Use at your own risk. For more info please refer to:\n",
      "https://scikit-learn.org/stable/model_persistence.html#security-maintainability-limitations\n",
      "  warnings.warn(\n",
      "/dipc/dlopez/.conda/envs/VE_torch/lib/python3.9/site-packages/sklearn/base.py:348: InconsistentVersionWarning: Trying to unpickle estimator PCA from version 0.23.2 when using version 1.3.2. This might lead to breaking code or invalid results. Use at your own risk. For more info please refer to:\n",
      "https://scikit-learn.org/stable/model_persistence.html#security-maintainability-limitations\n",
      "  warnings.warn(\n"
     ]
    },
    {
     "name": "stdout",
     "output_type": "stream",
     "text": [
      "Loading sigma8 emulator...\n",
      "Sigma8 emulator loaded in memory.\n",
      "Loading linear emulator...\n"
     ]
    },
    {
     "name": "stderr",
     "output_type": "stream",
     "text": [
      "/dipc/dlopez/.conda/envs/VE_torch/lib/python3.9/site-packages/sklearn/base.py:348: InconsistentVersionWarning: Trying to unpickle estimator PCA from version 1.0 when using version 1.3.2. This might lead to breaking code or invalid results. Use at your own risk. For more info please refer to:\n",
      "https://scikit-learn.org/stable/model_persistence.html#security-maintainability-limitations\n",
      "  warnings.warn(\n",
      "/dipc/dlopez/.conda/envs/VE_torch/lib/python3.9/site-packages/sklearn/base.py:348: InconsistentVersionWarning: Trying to unpickle estimator StandardScaler from version 1.0 when using version 1.3.2. This might lead to breaking code or invalid results. Use at your own risk. For more info please refer to:\n",
      "https://scikit-learn.org/stable/model_persistence.html#security-maintainability-limitations\n",
      "  warnings.warn(\n",
      "/dipc/dlopez/.conda/envs/VE_torch/lib/python3.9/site-packages/sklearn/base.py:348: InconsistentVersionWarning: Trying to unpickle estimator PCA from version 1.0 when using version 1.3.2. This might lead to breaking code or invalid results. Use at your own risk. For more info please refer to:\n",
      "https://scikit-learn.org/stable/model_persistence.html#security-maintainability-limitations\n",
      "  warnings.warn(\n",
      "/dipc/dlopez/.conda/envs/VE_torch/lib/python3.9/site-packages/sklearn/base.py:348: InconsistentVersionWarning: Trying to unpickle estimator StandardScaler from version 1.0 when using version 1.3.2. This might lead to breaking code or invalid results. Use at your own risk. For more info please refer to:\n",
      "https://scikit-learn.org/stable/model_persistence.html#security-maintainability-limitations\n",
      "  warnings.warn(\n"
     ]
    },
    {
     "name": "stdout",
     "output_type": "stream",
     "text": [
      "Linear emulator loaded in memory.\n",
      "Loading no-wiggles emulator...\n"
     ]
    },
    {
     "name": "stderr",
     "output_type": "stream",
     "text": [
      "/dipc/dlopez/.conda/envs/VE_torch/lib/python3.9/site-packages/sklearn/base.py:348: InconsistentVersionWarning: Trying to unpickle estimator StandardScaler from version 1.0.2 when using version 1.3.2. This might lead to breaking code or invalid results. Use at your own risk. For more info please refer to:\n",
      "https://scikit-learn.org/stable/model_persistence.html#security-maintainability-limitations\n",
      "  warnings.warn(\n",
      "/dipc/dlopez/.conda/envs/VE_torch/lib/python3.9/site-packages/sklearn/base.py:348: InconsistentVersionWarning: Trying to unpickle estimator StandardScaler from version 0.22.1 when using version 1.3.2. This might lead to breaking code or invalid results. Use at your own risk. For more info please refer to:\n",
      "https://scikit-learn.org/stable/model_persistence.html#security-maintainability-limitations\n",
      "  warnings.warn(\n",
      "/dipc/dlopez/.conda/envs/VE_torch/lib/python3.9/site-packages/sklearn/base.py:348: InconsistentVersionWarning: Trying to unpickle estimator PCA from version 0.22.1 when using version 1.3.2. This might lead to breaking code or invalid results. Use at your own risk. For more info please refer to:\n",
      "https://scikit-learn.org/stable/model_persistence.html#security-maintainability-limitations\n",
      "  warnings.warn(\n"
     ]
    },
    {
     "name": "stdout",
     "output_type": "stream",
     "text": [
      "No-wiggles emulator loaded in memory.\n",
      "Loading non-linear emulator...\n",
      "Nonlinear emulator loaded in memory.\n",
      "Loading Baryonic Emulator...\n"
     ]
    },
    {
     "name": "stderr",
     "output_type": "stream",
     "text": [
      "/dipc/dlopez/.conda/envs/VE_torch/lib/python3.9/site-packages/sklearn/base.py:348: InconsistentVersionWarning: Trying to unpickle estimator StandardScaler from version 0.23.2 when using version 1.3.2. This might lead to breaking code or invalid results. Use at your own risk. For more info please refer to:\n",
      "https://scikit-learn.org/stable/model_persistence.html#security-maintainability-limitations\n",
      "  warnings.warn(\n",
      "/dipc/dlopez/.conda/envs/VE_torch/lib/python3.9/site-packages/sklearn/base.py:348: InconsistentVersionWarning: Trying to unpickle estimator PCA from version 0.23.2 when using version 1.3.2. This might lead to breaking code or invalid results. Use at your own risk. For more info please refer to:\n",
      "https://scikit-learn.org/stable/model_persistence.html#security-maintainability-limitations\n",
      "  warnings.warn(\n"
     ]
    },
    {
     "name": "stdout",
     "output_type": "stream",
     "text": [
      "Baryonic Emulator loaded in memory.\n",
      "Loading sigma8 emulator...\n",
      "Sigma8 emulator loaded in memory.\n",
      "Loading linear emulator...\n"
     ]
    },
    {
     "name": "stderr",
     "output_type": "stream",
     "text": [
      "/dipc/dlopez/.conda/envs/VE_torch/lib/python3.9/site-packages/sklearn/base.py:348: InconsistentVersionWarning: Trying to unpickle estimator PCA from version 1.0 when using version 1.3.2. This might lead to breaking code or invalid results. Use at your own risk. For more info please refer to:\n",
      "https://scikit-learn.org/stable/model_persistence.html#security-maintainability-limitations\n",
      "  warnings.warn(\n",
      "/dipc/dlopez/.conda/envs/VE_torch/lib/python3.9/site-packages/sklearn/base.py:348: InconsistentVersionWarning: Trying to unpickle estimator StandardScaler from version 1.0 when using version 1.3.2. This might lead to breaking code or invalid results. Use at your own risk. For more info please refer to:\n",
      "https://scikit-learn.org/stable/model_persistence.html#security-maintainability-limitations\n",
      "  warnings.warn(\n",
      "/dipc/dlopez/.conda/envs/VE_torch/lib/python3.9/site-packages/sklearn/base.py:348: InconsistentVersionWarning: Trying to unpickle estimator PCA from version 1.0 when using version 1.3.2. This might lead to breaking code or invalid results. Use at your own risk. For more info please refer to:\n",
      "https://scikit-learn.org/stable/model_persistence.html#security-maintainability-limitations\n",
      "  warnings.warn(\n",
      "/dipc/dlopez/.conda/envs/VE_torch/lib/python3.9/site-packages/sklearn/base.py:348: InconsistentVersionWarning: Trying to unpickle estimator StandardScaler from version 1.0 when using version 1.3.2. This might lead to breaking code or invalid results. Use at your own risk. For more info please refer to:\n",
      "https://scikit-learn.org/stable/model_persistence.html#security-maintainability-limitations\n",
      "  warnings.warn(\n"
     ]
    },
    {
     "name": "stdout",
     "output_type": "stream",
     "text": [
      "Linear emulator loaded in memory.\n",
      "Loading no-wiggles emulator...\n",
      "No-wiggles emulator loaded in memory.\n",
      "Loading non-linear emulator...\n"
     ]
    },
    {
     "name": "stderr",
     "output_type": "stream",
     "text": [
      "/dipc/dlopez/.conda/envs/VE_torch/lib/python3.9/site-packages/sklearn/base.py:348: InconsistentVersionWarning: Trying to unpickle estimator StandardScaler from version 1.0.2 when using version 1.3.2. This might lead to breaking code or invalid results. Use at your own risk. For more info please refer to:\n",
      "https://scikit-learn.org/stable/model_persistence.html#security-maintainability-limitations\n",
      "  warnings.warn(\n",
      "/dipc/dlopez/.conda/envs/VE_torch/lib/python3.9/site-packages/sklearn/base.py:348: InconsistentVersionWarning: Trying to unpickle estimator StandardScaler from version 0.22.1 when using version 1.3.2. This might lead to breaking code or invalid results. Use at your own risk. For more info please refer to:\n",
      "https://scikit-learn.org/stable/model_persistence.html#security-maintainability-limitations\n",
      "  warnings.warn(\n",
      "/dipc/dlopez/.conda/envs/VE_torch/lib/python3.9/site-packages/sklearn/base.py:348: InconsistentVersionWarning: Trying to unpickle estimator PCA from version 0.22.1 when using version 1.3.2. This might lead to breaking code or invalid results. Use at your own risk. For more info please refer to:\n",
      "https://scikit-learn.org/stable/model_persistence.html#security-maintainability-limitations\n",
      "  warnings.warn(\n"
     ]
    },
    {
     "name": "stdout",
     "output_type": "stream",
     "text": [
      "Nonlinear emulator loaded in memory.\n",
      "Loading Baryonic Emulator...\n",
      "Baryonic Emulator loaded in memory.\n"
     ]
    },
    {
     "name": "stderr",
     "output_type": "stream",
     "text": [
      "/dipc/dlopez/.conda/envs/VE_torch/lib/python3.9/site-packages/sklearn/base.py:348: InconsistentVersionWarning: Trying to unpickle estimator StandardScaler from version 0.23.2 when using version 1.3.2. This might lead to breaking code or invalid results. Use at your own risk. For more info please refer to:\n",
      "https://scikit-learn.org/stable/model_persistence.html#security-maintainability-limitations\n",
      "  warnings.warn(\n",
      "/dipc/dlopez/.conda/envs/VE_torch/lib/python3.9/site-packages/sklearn/base.py:348: InconsistentVersionWarning: Trying to unpickle estimator PCA from version 0.23.2 when using version 1.3.2. This might lead to breaking code or invalid results. Use at your own risk. For more info please refer to:\n",
      "https://scikit-learn.org/stable/model_persistence.html#security-maintainability-limitations\n",
      "  warnings.warn(\n"
     ]
    },
    {
     "name": "stdout",
     "output_type": "stream",
     "text": [
      "Loading sigma8 emulator...\n",
      "Sigma8 emulator loaded in memory.\n",
      "Loading linear emulator...\n"
     ]
    },
    {
     "name": "stderr",
     "output_type": "stream",
     "text": [
      "/dipc/dlopez/.conda/envs/VE_torch/lib/python3.9/site-packages/sklearn/base.py:348: InconsistentVersionWarning: Trying to unpickle estimator PCA from version 1.0 when using version 1.3.2. This might lead to breaking code or invalid results. Use at your own risk. For more info please refer to:\n",
      "https://scikit-learn.org/stable/model_persistence.html#security-maintainability-limitations\n",
      "  warnings.warn(\n",
      "/dipc/dlopez/.conda/envs/VE_torch/lib/python3.9/site-packages/sklearn/base.py:348: InconsistentVersionWarning: Trying to unpickle estimator StandardScaler from version 1.0 when using version 1.3.2. This might lead to breaking code or invalid results. Use at your own risk. For more info please refer to:\n",
      "https://scikit-learn.org/stable/model_persistence.html#security-maintainability-limitations\n",
      "  warnings.warn(\n",
      "/dipc/dlopez/.conda/envs/VE_torch/lib/python3.9/site-packages/sklearn/base.py:348: InconsistentVersionWarning: Trying to unpickle estimator PCA from version 1.0 when using version 1.3.2. This might lead to breaking code or invalid results. Use at your own risk. For more info please refer to:\n",
      "https://scikit-learn.org/stable/model_persistence.html#security-maintainability-limitations\n",
      "  warnings.warn(\n",
      "/dipc/dlopez/.conda/envs/VE_torch/lib/python3.9/site-packages/sklearn/base.py:348: InconsistentVersionWarning: Trying to unpickle estimator StandardScaler from version 1.0 when using version 1.3.2. This might lead to breaking code or invalid results. Use at your own risk. For more info please refer to:\n",
      "https://scikit-learn.org/stable/model_persistence.html#security-maintainability-limitations\n",
      "  warnings.warn(\n"
     ]
    },
    {
     "name": "stdout",
     "output_type": "stream",
     "text": [
      "Linear emulator loaded in memory.\n",
      "Loading no-wiggles emulator...\n",
      "No-wiggles emulator loaded in memory.\n",
      "Loading non-linear emulator...\n"
     ]
    },
    {
     "name": "stderr",
     "output_type": "stream",
     "text": [
      "/dipc/dlopez/.conda/envs/VE_torch/lib/python3.9/site-packages/sklearn/base.py:348: InconsistentVersionWarning: Trying to unpickle estimator StandardScaler from version 1.0.2 when using version 1.3.2. This might lead to breaking code or invalid results. Use at your own risk. For more info please refer to:\n",
      "https://scikit-learn.org/stable/model_persistence.html#security-maintainability-limitations\n",
      "  warnings.warn(\n",
      "/dipc/dlopez/.conda/envs/VE_torch/lib/python3.9/site-packages/sklearn/base.py:348: InconsistentVersionWarning: Trying to unpickle estimator StandardScaler from version 0.22.1 when using version 1.3.2. This might lead to breaking code or invalid results. Use at your own risk. For more info please refer to:\n",
      "https://scikit-learn.org/stable/model_persistence.html#security-maintainability-limitations\n",
      "  warnings.warn(\n",
      "/dipc/dlopez/.conda/envs/VE_torch/lib/python3.9/site-packages/sklearn/base.py:348: InconsistentVersionWarning: Trying to unpickle estimator PCA from version 0.22.1 when using version 1.3.2. This might lead to breaking code or invalid results. Use at your own risk. For more info please refer to:\n",
      "https://scikit-learn.org/stable/model_persistence.html#security-maintainability-limitations\n",
      "  warnings.warn(\n"
     ]
    },
    {
     "name": "stdout",
     "output_type": "stream",
     "text": [
      "Nonlinear emulator loaded in memory.\n",
      "Loading Baryonic Emulator...\n",
      "Baryonic Emulator loaded in memory.\n"
     ]
    },
    {
     "name": "stderr",
     "output_type": "stream",
     "text": [
      "/dipc/dlopez/.conda/envs/VE_torch/lib/python3.9/site-packages/sklearn/base.py:348: InconsistentVersionWarning: Trying to unpickle estimator StandardScaler from version 0.23.2 when using version 1.3.2. This might lead to breaking code or invalid results. Use at your own risk. For more info please refer to:\n",
      "https://scikit-learn.org/stable/model_persistence.html#security-maintainability-limitations\n",
      "  warnings.warn(\n",
      "/dipc/dlopez/.conda/envs/VE_torch/lib/python3.9/site-packages/sklearn/base.py:348: InconsistentVersionWarning: Trying to unpickle estimator PCA from version 0.23.2 when using version 1.3.2. This might lead to breaking code or invalid results. Use at your own risk. For more info please refer to:\n",
      "https://scikit-learn.org/stable/model_persistence.html#security-maintainability-limitations\n",
      "  warnings.warn(\n"
     ]
    },
    {
     "name": "stdout",
     "output_type": "stream",
     "text": [
      "Loading sigma8 emulator...\n",
      "Sigma8 emulator loaded in memory.\n",
      "Loading linear emulator...\n"
     ]
    },
    {
     "name": "stderr",
     "output_type": "stream",
     "text": [
      "/dipc/dlopez/.conda/envs/VE_torch/lib/python3.9/site-packages/sklearn/base.py:348: InconsistentVersionWarning: Trying to unpickle estimator PCA from version 1.0 when using version 1.3.2. This might lead to breaking code or invalid results. Use at your own risk. For more info please refer to:\n",
      "https://scikit-learn.org/stable/model_persistence.html#security-maintainability-limitations\n",
      "  warnings.warn(\n",
      "/dipc/dlopez/.conda/envs/VE_torch/lib/python3.9/site-packages/sklearn/base.py:348: InconsistentVersionWarning: Trying to unpickle estimator StandardScaler from version 1.0 when using version 1.3.2. This might lead to breaking code or invalid results. Use at your own risk. For more info please refer to:\n",
      "https://scikit-learn.org/stable/model_persistence.html#security-maintainability-limitations\n",
      "  warnings.warn(\n",
      "/dipc/dlopez/.conda/envs/VE_torch/lib/python3.9/site-packages/sklearn/base.py:348: InconsistentVersionWarning: Trying to unpickle estimator PCA from version 1.0 when using version 1.3.2. This might lead to breaking code or invalid results. Use at your own risk. For more info please refer to:\n",
      "https://scikit-learn.org/stable/model_persistence.html#security-maintainability-limitations\n",
      "  warnings.warn(\n",
      "/dipc/dlopez/.conda/envs/VE_torch/lib/python3.9/site-packages/sklearn/base.py:348: InconsistentVersionWarning: Trying to unpickle estimator StandardScaler from version 1.0 when using version 1.3.2. This might lead to breaking code or invalid results. Use at your own risk. For more info please refer to:\n",
      "https://scikit-learn.org/stable/model_persistence.html#security-maintainability-limitations\n",
      "  warnings.warn(\n"
     ]
    },
    {
     "name": "stdout",
     "output_type": "stream",
     "text": [
      "Linear emulator loaded in memory.\n",
      "Loading no-wiggles emulator...\n",
      "No-wiggles emulator loaded in memory.\n",
      "Loading non-linear emulator...\n"
     ]
    },
    {
     "name": "stderr",
     "output_type": "stream",
     "text": [
      "/dipc/dlopez/.conda/envs/VE_torch/lib/python3.9/site-packages/sklearn/base.py:348: InconsistentVersionWarning: Trying to unpickle estimator StandardScaler from version 1.0.2 when using version 1.3.2. This might lead to breaking code or invalid results. Use at your own risk. For more info please refer to:\n",
      "https://scikit-learn.org/stable/model_persistence.html#security-maintainability-limitations\n",
      "  warnings.warn(\n",
      "/dipc/dlopez/.conda/envs/VE_torch/lib/python3.9/site-packages/sklearn/base.py:348: InconsistentVersionWarning: Trying to unpickle estimator StandardScaler from version 0.22.1 when using version 1.3.2. This might lead to breaking code or invalid results. Use at your own risk. For more info please refer to:\n",
      "https://scikit-learn.org/stable/model_persistence.html#security-maintainability-limitations\n",
      "  warnings.warn(\n",
      "/dipc/dlopez/.conda/envs/VE_torch/lib/python3.9/site-packages/sklearn/base.py:348: InconsistentVersionWarning: Trying to unpickle estimator PCA from version 0.22.1 when using version 1.3.2. This might lead to breaking code or invalid results. Use at your own risk. For more info please refer to:\n",
      "https://scikit-learn.org/stable/model_persistence.html#security-maintainability-limitations\n",
      "  warnings.warn(\n"
     ]
    },
    {
     "name": "stdout",
     "output_type": "stream",
     "text": [
      "Nonlinear emulator loaded in memory.\n",
      "Loading Baryonic Emulator...\n",
      "Baryonic Emulator loaded in memory.\n"
     ]
    },
    {
     "name": "stderr",
     "output_type": "stream",
     "text": [
      "/dipc/dlopez/.conda/envs/VE_torch/lib/python3.9/site-packages/sklearn/base.py:348: InconsistentVersionWarning: Trying to unpickle estimator StandardScaler from version 0.23.2 when using version 1.3.2. This might lead to breaking code or invalid results. Use at your own risk. For more info please refer to:\n",
      "https://scikit-learn.org/stable/model_persistence.html#security-maintainability-limitations\n",
      "  warnings.warn(\n",
      "/dipc/dlopez/.conda/envs/VE_torch/lib/python3.9/site-packages/sklearn/base.py:348: InconsistentVersionWarning: Trying to unpickle estimator PCA from version 0.23.2 when using version 1.3.2. This might lead to breaking code or invalid results. Use at your own risk. For more info please refer to:\n",
      "https://scikit-learn.org/stable/model_persistence.html#security-maintainability-limitations\n",
      "  warnings.warn(\n"
     ]
    },
    {
     "name": "stdout",
     "output_type": "stream",
     "text": [
      "Loading sigma8 emulator...\n",
      "Sigma8 emulator loaded in memory.\n",
      "Loading linear emulator...\n"
     ]
    },
    {
     "name": "stderr",
     "output_type": "stream",
     "text": [
      "/dipc/dlopez/.conda/envs/VE_torch/lib/python3.9/site-packages/sklearn/base.py:348: InconsistentVersionWarning: Trying to unpickle estimator PCA from version 1.0 when using version 1.3.2. This might lead to breaking code or invalid results. Use at your own risk. For more info please refer to:\n",
      "https://scikit-learn.org/stable/model_persistence.html#security-maintainability-limitations\n",
      "  warnings.warn(\n",
      "/dipc/dlopez/.conda/envs/VE_torch/lib/python3.9/site-packages/sklearn/base.py:348: InconsistentVersionWarning: Trying to unpickle estimator StandardScaler from version 1.0 when using version 1.3.2. This might lead to breaking code or invalid results. Use at your own risk. For more info please refer to:\n",
      "https://scikit-learn.org/stable/model_persistence.html#security-maintainability-limitations\n",
      "  warnings.warn(\n",
      "/dipc/dlopez/.conda/envs/VE_torch/lib/python3.9/site-packages/sklearn/base.py:348: InconsistentVersionWarning: Trying to unpickle estimator PCA from version 1.0 when using version 1.3.2. This might lead to breaking code or invalid results. Use at your own risk. For more info please refer to:\n",
      "https://scikit-learn.org/stable/model_persistence.html#security-maintainability-limitations\n",
      "  warnings.warn(\n",
      "/dipc/dlopez/.conda/envs/VE_torch/lib/python3.9/site-packages/sklearn/base.py:348: InconsistentVersionWarning: Trying to unpickle estimator StandardScaler from version 1.0 when using version 1.3.2. This might lead to breaking code or invalid results. Use at your own risk. For more info please refer to:\n",
      "https://scikit-learn.org/stable/model_persistence.html#security-maintainability-limitations\n",
      "  warnings.warn(\n"
     ]
    },
    {
     "name": "stdout",
     "output_type": "stream",
     "text": [
      "Linear emulator loaded in memory.\n",
      "Loading no-wiggles emulator...\n",
      "No-wiggles emulator loaded in memory.\n",
      "Loading non-linear emulator...\n"
     ]
    },
    {
     "name": "stderr",
     "output_type": "stream",
     "text": [
      "/dipc/dlopez/.conda/envs/VE_torch/lib/python3.9/site-packages/sklearn/base.py:348: InconsistentVersionWarning: Trying to unpickle estimator StandardScaler from version 1.0.2 when using version 1.3.2. This might lead to breaking code or invalid results. Use at your own risk. For more info please refer to:\n",
      "https://scikit-learn.org/stable/model_persistence.html#security-maintainability-limitations\n",
      "  warnings.warn(\n",
      "/dipc/dlopez/.conda/envs/VE_torch/lib/python3.9/site-packages/sklearn/base.py:348: InconsistentVersionWarning: Trying to unpickle estimator StandardScaler from version 0.22.1 when using version 1.3.2. This might lead to breaking code or invalid results. Use at your own risk. For more info please refer to:\n",
      "https://scikit-learn.org/stable/model_persistence.html#security-maintainability-limitations\n",
      "  warnings.warn(\n",
      "/dipc/dlopez/.conda/envs/VE_torch/lib/python3.9/site-packages/sklearn/base.py:348: InconsistentVersionWarning: Trying to unpickle estimator PCA from version 0.22.1 when using version 1.3.2. This might lead to breaking code or invalid results. Use at your own risk. For more info please refer to:\n",
      "https://scikit-learn.org/stable/model_persistence.html#security-maintainability-limitations\n",
      "  warnings.warn(\n"
     ]
    },
    {
     "name": "stdout",
     "output_type": "stream",
     "text": [
      "Nonlinear emulator loaded in memory.\n",
      "Loading Baryonic Emulator...\n",
      "Baryonic Emulator loaded in memory.\n"
     ]
    },
    {
     "name": "stderr",
     "output_type": "stream",
     "text": [
      "/dipc/dlopez/.conda/envs/VE_torch/lib/python3.9/site-packages/sklearn/base.py:348: InconsistentVersionWarning: Trying to unpickle estimator StandardScaler from version 0.23.2 when using version 1.3.2. This might lead to breaking code or invalid results. Use at your own risk. For more info please refer to:\n",
      "https://scikit-learn.org/stable/model_persistence.html#security-maintainability-limitations\n",
      "  warnings.warn(\n",
      "/dipc/dlopez/.conda/envs/VE_torch/lib/python3.9/site-packages/sklearn/base.py:348: InconsistentVersionWarning: Trying to unpickle estimator PCA from version 0.23.2 when using version 1.3.2. This might lead to breaking code or invalid results. Use at your own risk. For more info please refer to:\n",
      "https://scikit-learn.org/stable/model_persistence.html#security-maintainability-limitations\n",
      "  warnings.warn(\n"
     ]
    },
    {
     "name": "stdout",
     "output_type": "stream",
     "text": [
      "Loading sigma8 emulator...\n",
      "Sigma8 emulator loaded in memory.\n",
      "Loading linear emulator...\n"
     ]
    },
    {
     "name": "stderr",
     "output_type": "stream",
     "text": [
      "/dipc/dlopez/.conda/envs/VE_torch/lib/python3.9/site-packages/sklearn/base.py:348: InconsistentVersionWarning: Trying to unpickle estimator PCA from version 1.0 when using version 1.3.2. This might lead to breaking code or invalid results. Use at your own risk. For more info please refer to:\n",
      "https://scikit-learn.org/stable/model_persistence.html#security-maintainability-limitations\n",
      "  warnings.warn(\n",
      "/dipc/dlopez/.conda/envs/VE_torch/lib/python3.9/site-packages/sklearn/base.py:348: InconsistentVersionWarning: Trying to unpickle estimator StandardScaler from version 1.0 when using version 1.3.2. This might lead to breaking code or invalid results. Use at your own risk. For more info please refer to:\n",
      "https://scikit-learn.org/stable/model_persistence.html#security-maintainability-limitations\n",
      "  warnings.warn(\n",
      "/dipc/dlopez/.conda/envs/VE_torch/lib/python3.9/site-packages/sklearn/base.py:348: InconsistentVersionWarning: Trying to unpickle estimator PCA from version 1.0 when using version 1.3.2. This might lead to breaking code or invalid results. Use at your own risk. For more info please refer to:\n",
      "https://scikit-learn.org/stable/model_persistence.html#security-maintainability-limitations\n",
      "  warnings.warn(\n",
      "/dipc/dlopez/.conda/envs/VE_torch/lib/python3.9/site-packages/sklearn/base.py:348: InconsistentVersionWarning: Trying to unpickle estimator StandardScaler from version 1.0 when using version 1.3.2. This might lead to breaking code or invalid results. Use at your own risk. For more info please refer to:\n",
      "https://scikit-learn.org/stable/model_persistence.html#security-maintainability-limitations\n",
      "  warnings.warn(\n"
     ]
    },
    {
     "name": "stdout",
     "output_type": "stream",
     "text": [
      "Linear emulator loaded in memory.\n",
      "Loading no-wiggles emulator...\n"
     ]
    },
    {
     "name": "stderr",
     "output_type": "stream",
     "text": [
      "/dipc/dlopez/.conda/envs/VE_torch/lib/python3.9/site-packages/sklearn/base.py:348: InconsistentVersionWarning: Trying to unpickle estimator StandardScaler from version 1.0.2 when using version 1.3.2. This might lead to breaking code or invalid results. Use at your own risk. For more info please refer to:\n",
      "https://scikit-learn.org/stable/model_persistence.html#security-maintainability-limitations\n",
      "  warnings.warn(\n",
      "/dipc/dlopez/.conda/envs/VE_torch/lib/python3.9/site-packages/sklearn/base.py:348: InconsistentVersionWarning: Trying to unpickle estimator StandardScaler from version 0.22.1 when using version 1.3.2. This might lead to breaking code or invalid results. Use at your own risk. For more info please refer to:\n",
      "https://scikit-learn.org/stable/model_persistence.html#security-maintainability-limitations\n",
      "  warnings.warn(\n",
      "/dipc/dlopez/.conda/envs/VE_torch/lib/python3.9/site-packages/sklearn/base.py:348: InconsistentVersionWarning: Trying to unpickle estimator PCA from version 0.22.1 when using version 1.3.2. This might lead to breaking code or invalid results. Use at your own risk. For more info please refer to:\n",
      "https://scikit-learn.org/stable/model_persistence.html#security-maintainability-limitations\n",
      "  warnings.warn(\n"
     ]
    },
    {
     "name": "stdout",
     "output_type": "stream",
     "text": [
      "No-wiggles emulator loaded in memory.\n",
      "Loading non-linear emulator...\n",
      "Nonlinear emulator loaded in memory.\n",
      "Loading Baryonic Emulator...\n"
     ]
    },
    {
     "name": "stderr",
     "output_type": "stream",
     "text": [
      "/dipc/dlopez/.conda/envs/VE_torch/lib/python3.9/site-packages/sklearn/base.py:348: InconsistentVersionWarning: Trying to unpickle estimator StandardScaler from version 0.23.2 when using version 1.3.2. This might lead to breaking code or invalid results. Use at your own risk. For more info please refer to:\n",
      "https://scikit-learn.org/stable/model_persistence.html#security-maintainability-limitations\n",
      "  warnings.warn(\n",
      "/dipc/dlopez/.conda/envs/VE_torch/lib/python3.9/site-packages/sklearn/base.py:348: InconsistentVersionWarning: Trying to unpickle estimator PCA from version 0.23.2 when using version 1.3.2. This might lead to breaking code or invalid results. Use at your own risk. For more info please refer to:\n",
      "https://scikit-learn.org/stable/model_persistence.html#security-maintainability-limitations\n",
      "  warnings.warn(\n"
     ]
    },
    {
     "name": "stdout",
     "output_type": "stream",
     "text": [
      "Baryonic Emulator loaded in memory.\n",
      "Loading sigma8 emulator...\n",
      "Sigma8 emulator loaded in memory.\n",
      "Loading linear emulator...\n"
     ]
    },
    {
     "name": "stderr",
     "output_type": "stream",
     "text": [
      "/dipc/dlopez/.conda/envs/VE_torch/lib/python3.9/site-packages/sklearn/base.py:348: InconsistentVersionWarning: Trying to unpickle estimator PCA from version 1.0 when using version 1.3.2. This might lead to breaking code or invalid results. Use at your own risk. For more info please refer to:\n",
      "https://scikit-learn.org/stable/model_persistence.html#security-maintainability-limitations\n",
      "  warnings.warn(\n",
      "/dipc/dlopez/.conda/envs/VE_torch/lib/python3.9/site-packages/sklearn/base.py:348: InconsistentVersionWarning: Trying to unpickle estimator StandardScaler from version 1.0 when using version 1.3.2. This might lead to breaking code or invalid results. Use at your own risk. For more info please refer to:\n",
      "https://scikit-learn.org/stable/model_persistence.html#security-maintainability-limitations\n",
      "  warnings.warn(\n",
      "/dipc/dlopez/.conda/envs/VE_torch/lib/python3.9/site-packages/sklearn/base.py:348: InconsistentVersionWarning: Trying to unpickle estimator PCA from version 1.0 when using version 1.3.2. This might lead to breaking code or invalid results. Use at your own risk. For more info please refer to:\n",
      "https://scikit-learn.org/stable/model_persistence.html#security-maintainability-limitations\n",
      "  warnings.warn(\n",
      "/dipc/dlopez/.conda/envs/VE_torch/lib/python3.9/site-packages/sklearn/base.py:348: InconsistentVersionWarning: Trying to unpickle estimator StandardScaler from version 1.0 when using version 1.3.2. This might lead to breaking code or invalid results. Use at your own risk. For more info please refer to:\n",
      "https://scikit-learn.org/stable/model_persistence.html#security-maintainability-limitations\n",
      "  warnings.warn(\n"
     ]
    },
    {
     "name": "stdout",
     "output_type": "stream",
     "text": [
      "Linear emulator loaded in memory.\n",
      "Loading no-wiggles emulator...\n",
      "No-wiggles emulator loaded in memory.\n",
      "Loading non-linear emulator...\n"
     ]
    },
    {
     "name": "stderr",
     "output_type": "stream",
     "text": [
      "/dipc/dlopez/.conda/envs/VE_torch/lib/python3.9/site-packages/sklearn/base.py:348: InconsistentVersionWarning: Trying to unpickle estimator StandardScaler from version 1.0.2 when using version 1.3.2. This might lead to breaking code or invalid results. Use at your own risk. For more info please refer to:\n",
      "https://scikit-learn.org/stable/model_persistence.html#security-maintainability-limitations\n",
      "  warnings.warn(\n",
      "/dipc/dlopez/.conda/envs/VE_torch/lib/python3.9/site-packages/sklearn/base.py:348: InconsistentVersionWarning: Trying to unpickle estimator StandardScaler from version 0.22.1 when using version 1.3.2. This might lead to breaking code or invalid results. Use at your own risk. For more info please refer to:\n",
      "https://scikit-learn.org/stable/model_persistence.html#security-maintainability-limitations\n",
      "  warnings.warn(\n",
      "/dipc/dlopez/.conda/envs/VE_torch/lib/python3.9/site-packages/sklearn/base.py:348: InconsistentVersionWarning: Trying to unpickle estimator PCA from version 0.22.1 when using version 1.3.2. This might lead to breaking code or invalid results. Use at your own risk. For more info please refer to:\n",
      "https://scikit-learn.org/stable/model_persistence.html#security-maintainability-limitations\n",
      "  warnings.warn(\n"
     ]
    },
    {
     "name": "stdout",
     "output_type": "stream",
     "text": [
      "Nonlinear emulator loaded in memory.\n",
      "Loading Baryonic Emulator...\n",
      "Baryonic Emulator loaded in memory.\n"
     ]
    },
    {
     "name": "stderr",
     "output_type": "stream",
     "text": [
      "/dipc/dlopez/.conda/envs/VE_torch/lib/python3.9/site-packages/sklearn/base.py:348: InconsistentVersionWarning: Trying to unpickle estimator StandardScaler from version 0.23.2 when using version 1.3.2. This might lead to breaking code or invalid results. Use at your own risk. For more info please refer to:\n",
      "https://scikit-learn.org/stable/model_persistence.html#security-maintainability-limitations\n",
      "  warnings.warn(\n",
      "/dipc/dlopez/.conda/envs/VE_torch/lib/python3.9/site-packages/sklearn/base.py:348: InconsistentVersionWarning: Trying to unpickle estimator PCA from version 0.23.2 when using version 1.3.2. This might lead to breaking code or invalid results. Use at your own risk. For more info please refer to:\n",
      "https://scikit-learn.org/stable/model_persistence.html#security-maintainability-limitations\n",
      "  warnings.warn(\n"
     ]
    },
    {
     "name": "stdout",
     "output_type": "stream",
     "text": [
      "Loading sigma8 emulator...\n",
      "Sigma8 emulator loaded in memory.\n",
      "Loading linear emulator...\n"
     ]
    },
    {
     "name": "stderr",
     "output_type": "stream",
     "text": [
      "/dipc/dlopez/.conda/envs/VE_torch/lib/python3.9/site-packages/sklearn/base.py:348: InconsistentVersionWarning: Trying to unpickle estimator PCA from version 1.0 when using version 1.3.2. This might lead to breaking code or invalid results. Use at your own risk. For more info please refer to:\n",
      "https://scikit-learn.org/stable/model_persistence.html#security-maintainability-limitations\n",
      "  warnings.warn(\n",
      "/dipc/dlopez/.conda/envs/VE_torch/lib/python3.9/site-packages/sklearn/base.py:348: InconsistentVersionWarning: Trying to unpickle estimator StandardScaler from version 1.0 when using version 1.3.2. This might lead to breaking code or invalid results. Use at your own risk. For more info please refer to:\n",
      "https://scikit-learn.org/stable/model_persistence.html#security-maintainability-limitations\n",
      "  warnings.warn(\n",
      "/dipc/dlopez/.conda/envs/VE_torch/lib/python3.9/site-packages/sklearn/base.py:348: InconsistentVersionWarning: Trying to unpickle estimator PCA from version 1.0 when using version 1.3.2. This might lead to breaking code or invalid results. Use at your own risk. For more info please refer to:\n",
      "https://scikit-learn.org/stable/model_persistence.html#security-maintainability-limitations\n",
      "  warnings.warn(\n",
      "/dipc/dlopez/.conda/envs/VE_torch/lib/python3.9/site-packages/sklearn/base.py:348: InconsistentVersionWarning: Trying to unpickle estimator StandardScaler from version 1.0 when using version 1.3.2. This might lead to breaking code or invalid results. Use at your own risk. For more info please refer to:\n",
      "https://scikit-learn.org/stable/model_persistence.html#security-maintainability-limitations\n",
      "  warnings.warn(\n"
     ]
    },
    {
     "name": "stdout",
     "output_type": "stream",
     "text": [
      "Linear emulator loaded in memory.\n",
      "Loading no-wiggles emulator...\n",
      "No-wiggles emulator loaded in memory.\n",
      "Loading non-linear emulator...\n"
     ]
    },
    {
     "name": "stderr",
     "output_type": "stream",
     "text": [
      "/dipc/dlopez/.conda/envs/VE_torch/lib/python3.9/site-packages/sklearn/base.py:348: InconsistentVersionWarning: Trying to unpickle estimator StandardScaler from version 1.0.2 when using version 1.3.2. This might lead to breaking code or invalid results. Use at your own risk. For more info please refer to:\n",
      "https://scikit-learn.org/stable/model_persistence.html#security-maintainability-limitations\n",
      "  warnings.warn(\n",
      "/dipc/dlopez/.conda/envs/VE_torch/lib/python3.9/site-packages/sklearn/base.py:348: InconsistentVersionWarning: Trying to unpickle estimator StandardScaler from version 0.22.1 when using version 1.3.2. This might lead to breaking code or invalid results. Use at your own risk. For more info please refer to:\n",
      "https://scikit-learn.org/stable/model_persistence.html#security-maintainability-limitations\n",
      "  warnings.warn(\n",
      "/dipc/dlopez/.conda/envs/VE_torch/lib/python3.9/site-packages/sklearn/base.py:348: InconsistentVersionWarning: Trying to unpickle estimator PCA from version 0.22.1 when using version 1.3.2. This might lead to breaking code or invalid results. Use at your own risk. For more info please refer to:\n",
      "https://scikit-learn.org/stable/model_persistence.html#security-maintainability-limitations\n",
      "  warnings.warn(\n"
     ]
    },
    {
     "name": "stdout",
     "output_type": "stream",
     "text": [
      "Nonlinear emulator loaded in memory.\n",
      "Loading Baryonic Emulator...\n",
      "Baryonic Emulator loaded in memory.\n"
     ]
    },
    {
     "name": "stderr",
     "output_type": "stream",
     "text": [
      "/dipc/dlopez/.conda/envs/VE_torch/lib/python3.9/site-packages/sklearn/base.py:348: InconsistentVersionWarning: Trying to unpickle estimator StandardScaler from version 0.23.2 when using version 1.3.2. This might lead to breaking code or invalid results. Use at your own risk. For more info please refer to:\n",
      "https://scikit-learn.org/stable/model_persistence.html#security-maintainability-limitations\n",
      "  warnings.warn(\n",
      "/dipc/dlopez/.conda/envs/VE_torch/lib/python3.9/site-packages/sklearn/base.py:348: InconsistentVersionWarning: Trying to unpickle estimator PCA from version 0.23.2 when using version 1.3.2. This might lead to breaking code or invalid results. Use at your own risk. For more info please refer to:\n",
      "https://scikit-learn.org/stable/model_persistence.html#security-maintainability-limitations\n",
      "  warnings.warn(\n"
     ]
    },
    {
     "name": "stdout",
     "output_type": "stream",
     "text": [
      "Loading sigma8 emulator...\n",
      "Sigma8 emulator loaded in memory.\n",
      "Loading linear emulator...\n"
     ]
    },
    {
     "name": "stderr",
     "output_type": "stream",
     "text": [
      "/dipc/dlopez/.conda/envs/VE_torch/lib/python3.9/site-packages/sklearn/base.py:348: InconsistentVersionWarning: Trying to unpickle estimator PCA from version 1.0 when using version 1.3.2. This might lead to breaking code or invalid results. Use at your own risk. For more info please refer to:\n",
      "https://scikit-learn.org/stable/model_persistence.html#security-maintainability-limitations\n",
      "  warnings.warn(\n",
      "/dipc/dlopez/.conda/envs/VE_torch/lib/python3.9/site-packages/sklearn/base.py:348: InconsistentVersionWarning: Trying to unpickle estimator StandardScaler from version 1.0 when using version 1.3.2. This might lead to breaking code or invalid results. Use at your own risk. For more info please refer to:\n",
      "https://scikit-learn.org/stable/model_persistence.html#security-maintainability-limitations\n",
      "  warnings.warn(\n",
      "/dipc/dlopez/.conda/envs/VE_torch/lib/python3.9/site-packages/sklearn/base.py:348: InconsistentVersionWarning: Trying to unpickle estimator PCA from version 1.0 when using version 1.3.2. This might lead to breaking code or invalid results. Use at your own risk. For more info please refer to:\n",
      "https://scikit-learn.org/stable/model_persistence.html#security-maintainability-limitations\n",
      "  warnings.warn(\n",
      "/dipc/dlopez/.conda/envs/VE_torch/lib/python3.9/site-packages/sklearn/base.py:348: InconsistentVersionWarning: Trying to unpickle estimator StandardScaler from version 1.0 when using version 1.3.2. This might lead to breaking code or invalid results. Use at your own risk. For more info please refer to:\n",
      "https://scikit-learn.org/stable/model_persistence.html#security-maintainability-limitations\n",
      "  warnings.warn(\n"
     ]
    },
    {
     "name": "stdout",
     "output_type": "stream",
     "text": [
      "Linear emulator loaded in memory.\n",
      "Loading no-wiggles emulator...\n",
      "No-wiggles emulator loaded in memory.\n",
      "Loading non-linear emulator...\n"
     ]
    },
    {
     "name": "stderr",
     "output_type": "stream",
     "text": [
      "/dipc/dlopez/.conda/envs/VE_torch/lib/python3.9/site-packages/sklearn/base.py:348: InconsistentVersionWarning: Trying to unpickle estimator StandardScaler from version 1.0.2 when using version 1.3.2. This might lead to breaking code or invalid results. Use at your own risk. For more info please refer to:\n",
      "https://scikit-learn.org/stable/model_persistence.html#security-maintainability-limitations\n",
      "  warnings.warn(\n",
      "/dipc/dlopez/.conda/envs/VE_torch/lib/python3.9/site-packages/sklearn/base.py:348: InconsistentVersionWarning: Trying to unpickle estimator StandardScaler from version 0.22.1 when using version 1.3.2. This might lead to breaking code or invalid results. Use at your own risk. For more info please refer to:\n",
      "https://scikit-learn.org/stable/model_persistence.html#security-maintainability-limitations\n",
      "  warnings.warn(\n",
      "/dipc/dlopez/.conda/envs/VE_torch/lib/python3.9/site-packages/sklearn/base.py:348: InconsistentVersionWarning: Trying to unpickle estimator PCA from version 0.22.1 when using version 1.3.2. This might lead to breaking code or invalid results. Use at your own risk. For more info please refer to:\n",
      "https://scikit-learn.org/stable/model_persistence.html#security-maintainability-limitations\n",
      "  warnings.warn(\n"
     ]
    },
    {
     "name": "stdout",
     "output_type": "stream",
     "text": [
      "Nonlinear emulator loaded in memory.\n",
      "Loading Baryonic Emulator...\n",
      "Baryonic Emulator loaded in memory.\n"
     ]
    },
    {
     "name": "stderr",
     "output_type": "stream",
     "text": [
      "/dipc/dlopez/.conda/envs/VE_torch/lib/python3.9/site-packages/sklearn/base.py:348: InconsistentVersionWarning: Trying to unpickle estimator StandardScaler from version 0.23.2 when using version 1.3.2. This might lead to breaking code or invalid results. Use at your own risk. For more info please refer to:\n",
      "https://scikit-learn.org/stable/model_persistence.html#security-maintainability-limitations\n",
      "  warnings.warn(\n",
      "/dipc/dlopez/.conda/envs/VE_torch/lib/python3.9/site-packages/sklearn/base.py:348: InconsistentVersionWarning: Trying to unpickle estimator PCA from version 0.23.2 when using version 1.3.2. This might lead to breaking code or invalid results. Use at your own risk. For more info please refer to:\n",
      "https://scikit-learn.org/stable/model_persistence.html#security-maintainability-limitations\n",
      "  warnings.warn(\n"
     ]
    }
   ],
   "source": [
    "for ii in range(sample_fixed_baryon_models.shape[0]):\n",
    "    model_name = \"Model_fixed_\" + str(ii)\n",
    "    NN_samples_augs = 1\n",
    "    dict_bounds_augs = dict(\n",
    "        M_c       = sample_fixed_baryon_models[ii,0],\n",
    "        eta       = sample_fixed_baryon_models[ii,1],\n",
    "        beta      = sample_fixed_baryon_models[ii,2],\n",
    "        M1_z0_cen = sample_fixed_baryon_models[ii,3],\n",
    "        theta_out = sample_fixed_baryon_models[ii,4],\n",
    "        theta_inn = sample_fixed_baryon_models[ii,5],\n",
    "        M_inn     = sample_fixed_baryon_models[ii,6],\n",
    "    )\n",
    "    COSMOS[ds_mode][model_name], XX[ds_mode][model_name], AUG_PARAMS[ds_mode][model_name], EXTENDED_AUG_PARAMS[ds_mode][model_name] = cl_inference.preprocessing_tools.generate_baccoemu_dataset(\n",
    "        NN_samples_cosmo  = NN_samples_cosmo_train,\n",
    "        NN_samples_augs   = NN_samples_augs,\n",
    "        dict_bounds_cosmo = dict_bounds_cosmo_train,\n",
    "        dict_bounds_augs  = dict_bounds_augs,\n",
    "        seed              = seed_train,\n",
    "        path_save         = path_save,\n",
    "        model_name        = model_name,\n",
    "        kmax              = kmax, box=box\n",
    "    )"
   ]
  },
  {
   "cell_type": "markdown",
   "id": "df8ab5aa",
   "metadata": {},
   "source": [
    "# Generate validation set"
   ]
  },
  {
   "cell_type": "code",
   "execution_count": 24,
   "id": "1846ad7a",
   "metadata": {
    "scrolled": true
   },
   "outputs": [],
   "source": [
    "ds_mode = 'VAL'\n",
    "COSMOS[ds_mode] = {}\n",
    "XX[ds_mode] = {}\n",
    "AUG_PARAMS[ds_mode] = {}\n",
    "EXTENDED_AUG_PARAMS[ds_mode] = {}\n",
    "\n",
    "path_save = os.path.join(path_save_root, ds_mode)"
   ]
  },
  {
   "cell_type": "code",
   "execution_count": 25,
   "id": "50dbc263",
   "metadata": {},
   "outputs": [
    {
     "name": "stdout",
     "output_type": "stream",
     "text": [
      "Loading sigma8 emulator...\n",
      "Sigma8 emulator loaded in memory.\n",
      "Loading linear emulator...\n"
     ]
    },
    {
     "name": "stderr",
     "output_type": "stream",
     "text": [
      "/dipc/dlopez/.conda/envs/VE_torch/lib/python3.9/site-packages/sklearn/base.py:348: InconsistentVersionWarning: Trying to unpickle estimator PCA from version 1.0 when using version 1.3.2. This might lead to breaking code or invalid results. Use at your own risk. For more info please refer to:\n",
      "https://scikit-learn.org/stable/model_persistence.html#security-maintainability-limitations\n",
      "  warnings.warn(\n",
      "/dipc/dlopez/.conda/envs/VE_torch/lib/python3.9/site-packages/sklearn/base.py:348: InconsistentVersionWarning: Trying to unpickle estimator StandardScaler from version 1.0 when using version 1.3.2. This might lead to breaking code or invalid results. Use at your own risk. For more info please refer to:\n",
      "https://scikit-learn.org/stable/model_persistence.html#security-maintainability-limitations\n",
      "  warnings.warn(\n",
      "/dipc/dlopez/.conda/envs/VE_torch/lib/python3.9/site-packages/sklearn/base.py:348: InconsistentVersionWarning: Trying to unpickle estimator PCA from version 1.0 when using version 1.3.2. This might lead to breaking code or invalid results. Use at your own risk. For more info please refer to:\n",
      "https://scikit-learn.org/stable/model_persistence.html#security-maintainability-limitations\n",
      "  warnings.warn(\n",
      "/dipc/dlopez/.conda/envs/VE_torch/lib/python3.9/site-packages/sklearn/base.py:348: InconsistentVersionWarning: Trying to unpickle estimator StandardScaler from version 1.0 when using version 1.3.2. This might lead to breaking code or invalid results. Use at your own risk. For more info please refer to:\n",
      "https://scikit-learn.org/stable/model_persistence.html#security-maintainability-limitations\n",
      "  warnings.warn(\n"
     ]
    },
    {
     "name": "stdout",
     "output_type": "stream",
     "text": [
      "Linear emulator loaded in memory.\n",
      "Loading no-wiggles emulator...\n",
      "No-wiggles emulator loaded in memory.\n",
      "Loading non-linear emulator...\n"
     ]
    },
    {
     "name": "stderr",
     "output_type": "stream",
     "text": [
      "/dipc/dlopez/.conda/envs/VE_torch/lib/python3.9/site-packages/sklearn/base.py:348: InconsistentVersionWarning: Trying to unpickle estimator StandardScaler from version 1.0.2 when using version 1.3.2. This might lead to breaking code or invalid results. Use at your own risk. For more info please refer to:\n",
      "https://scikit-learn.org/stable/model_persistence.html#security-maintainability-limitations\n",
      "  warnings.warn(\n",
      "/dipc/dlopez/.conda/envs/VE_torch/lib/python3.9/site-packages/sklearn/base.py:348: InconsistentVersionWarning: Trying to unpickle estimator StandardScaler from version 0.22.1 when using version 1.3.2. This might lead to breaking code or invalid results. Use at your own risk. For more info please refer to:\n",
      "https://scikit-learn.org/stable/model_persistence.html#security-maintainability-limitations\n",
      "  warnings.warn(\n",
      "/dipc/dlopez/.conda/envs/VE_torch/lib/python3.9/site-packages/sklearn/base.py:348: InconsistentVersionWarning: Trying to unpickle estimator PCA from version 0.22.1 when using version 1.3.2. This might lead to breaking code or invalid results. Use at your own risk. For more info please refer to:\n",
      "https://scikit-learn.org/stable/model_persistence.html#security-maintainability-limitations\n",
      "  warnings.warn(\n"
     ]
    },
    {
     "name": "stdout",
     "output_type": "stream",
     "text": [
      "Nonlinear emulator loaded in memory.\n",
      "Loading Baryonic Emulator...\n",
      "Baryonic Emulator loaded in memory.\n"
     ]
    },
    {
     "name": "stderr",
     "output_type": "stream",
     "text": [
      "/dipc/dlopez/.conda/envs/VE_torch/lib/python3.9/site-packages/sklearn/base.py:348: InconsistentVersionWarning: Trying to unpickle estimator StandardScaler from version 0.23.2 when using version 1.3.2. This might lead to breaking code or invalid results. Use at your own risk. For more info please refer to:\n",
      "https://scikit-learn.org/stable/model_persistence.html#security-maintainability-limitations\n",
      "  warnings.warn(\n",
      "/dipc/dlopez/.conda/envs/VE_torch/lib/python3.9/site-packages/sklearn/base.py:348: InconsistentVersionWarning: Trying to unpickle estimator PCA from version 0.23.2 when using version 1.3.2. This might lead to breaking code or invalid results. Use at your own risk. For more info please refer to:\n",
      "https://scikit-learn.org/stable/model_persistence.html#security-maintainability-limitations\n",
      "  warnings.warn(\n"
     ]
    }
   ],
   "source": [
    "model_name = \"Model_fixed_nl\"\n",
    "mode_baccoemu = \"nonlinear\"\n",
    "NN_samples_augs = 1\n",
    "COSMOS[ds_mode][model_name], XX[ds_mode][model_name], AUG_PARAMS[ds_mode][model_name], EXTENDED_AUG_PARAMS[ds_mode][model_name] = cl_inference.preprocessing_tools.generate_baccoemu_dataset(\n",
    "    NN_samples_cosmo  = NN_samples_cosmo_val,\n",
    "    NN_samples_augs   = NN_samples_augs,\n",
    "    dict_bounds_cosmo = dict_bounds_cosmo_val,\n",
    "    seed              = seed_val,\n",
    "    path_save         = path_save,\n",
    "    model_name        = model_name,\n",
    "    mode_baccoemu     = mode_baccoemu,\n",
    "    kmax              = kmax, box=box\n",
    ")"
   ]
  },
  {
   "cell_type": "code",
   "execution_count": 26,
   "id": "7767620c",
   "metadata": {},
   "outputs": [
    {
     "name": "stdout",
     "output_type": "stream",
     "text": [
      "Loading sigma8 emulator...\n",
      "Sigma8 emulator loaded in memory.\n",
      "Loading linear emulator...\n"
     ]
    },
    {
     "name": "stderr",
     "output_type": "stream",
     "text": [
      "/dipc/dlopez/.conda/envs/VE_torch/lib/python3.9/site-packages/sklearn/base.py:348: InconsistentVersionWarning: Trying to unpickle estimator PCA from version 1.0 when using version 1.3.2. This might lead to breaking code or invalid results. Use at your own risk. For more info please refer to:\n",
      "https://scikit-learn.org/stable/model_persistence.html#security-maintainability-limitations\n",
      "  warnings.warn(\n",
      "/dipc/dlopez/.conda/envs/VE_torch/lib/python3.9/site-packages/sklearn/base.py:348: InconsistentVersionWarning: Trying to unpickle estimator StandardScaler from version 1.0 when using version 1.3.2. This might lead to breaking code or invalid results. Use at your own risk. For more info please refer to:\n",
      "https://scikit-learn.org/stable/model_persistence.html#security-maintainability-limitations\n",
      "  warnings.warn(\n",
      "/dipc/dlopez/.conda/envs/VE_torch/lib/python3.9/site-packages/sklearn/base.py:348: InconsistentVersionWarning: Trying to unpickle estimator PCA from version 1.0 when using version 1.3.2. This might lead to breaking code or invalid results. Use at your own risk. For more info please refer to:\n",
      "https://scikit-learn.org/stable/model_persistence.html#security-maintainability-limitations\n",
      "  warnings.warn(\n",
      "/dipc/dlopez/.conda/envs/VE_torch/lib/python3.9/site-packages/sklearn/base.py:348: InconsistentVersionWarning: Trying to unpickle estimator StandardScaler from version 1.0 when using version 1.3.2. This might lead to breaking code or invalid results. Use at your own risk. For more info please refer to:\n",
      "https://scikit-learn.org/stable/model_persistence.html#security-maintainability-limitations\n",
      "  warnings.warn(\n"
     ]
    },
    {
     "name": "stdout",
     "output_type": "stream",
     "text": [
      "Linear emulator loaded in memory.\n",
      "Loading no-wiggles emulator...\n",
      "No-wiggles emulator loaded in memory.\n",
      "Loading non-linear emulator...\n"
     ]
    },
    {
     "name": "stderr",
     "output_type": "stream",
     "text": [
      "/dipc/dlopez/.conda/envs/VE_torch/lib/python3.9/site-packages/sklearn/base.py:348: InconsistentVersionWarning: Trying to unpickle estimator StandardScaler from version 1.0.2 when using version 1.3.2. This might lead to breaking code or invalid results. Use at your own risk. For more info please refer to:\n",
      "https://scikit-learn.org/stable/model_persistence.html#security-maintainability-limitations\n",
      "  warnings.warn(\n",
      "/dipc/dlopez/.conda/envs/VE_torch/lib/python3.9/site-packages/sklearn/base.py:348: InconsistentVersionWarning: Trying to unpickle estimator StandardScaler from version 0.22.1 when using version 1.3.2. This might lead to breaking code or invalid results. Use at your own risk. For more info please refer to:\n",
      "https://scikit-learn.org/stable/model_persistence.html#security-maintainability-limitations\n",
      "  warnings.warn(\n",
      "/dipc/dlopez/.conda/envs/VE_torch/lib/python3.9/site-packages/sklearn/base.py:348: InconsistentVersionWarning: Trying to unpickle estimator PCA from version 0.22.1 when using version 1.3.2. This might lead to breaking code or invalid results. Use at your own risk. For more info please refer to:\n",
      "https://scikit-learn.org/stable/model_persistence.html#security-maintainability-limitations\n",
      "  warnings.warn(\n",
      "/dipc/dlopez/.conda/envs/VE_torch/lib/python3.9/site-packages/sklearn/base.py:348: InconsistentVersionWarning: Trying to unpickle estimator StandardScaler from version 0.23.2 when using version 1.3.2. This might lead to breaking code or invalid results. Use at your own risk. For more info please refer to:\n",
      "https://scikit-learn.org/stable/model_persistence.html#security-maintainability-limitations\n",
      "  warnings.warn(\n",
      "/dipc/dlopez/.conda/envs/VE_torch/lib/python3.9/site-packages/sklearn/base.py:348: InconsistentVersionWarning: Trying to unpickle estimator PCA from version 0.23.2 when using version 1.3.2. This might lead to breaking code or invalid results. Use at your own risk. For more info please refer to:\n",
      "https://scikit-learn.org/stable/model_persistence.html#security-maintainability-limitations\n",
      "  warnings.warn(\n"
     ]
    },
    {
     "name": "stdout",
     "output_type": "stream",
     "text": [
      "Nonlinear emulator loaded in memory.\n",
      "Loading Baryonic Emulator...\n",
      "Baryonic Emulator loaded in memory.\n"
     ]
    }
   ],
   "source": [
    "model_name = \"Model_vary_all\"\n",
    "NN_samples_augs = 20\n",
    "COSMOS[ds_mode][model_name], XX[ds_mode][model_name], AUG_PARAMS[ds_mode][model_name], EXTENDED_AUG_PARAMS[ds_mode][model_name] = cl_inference.preprocessing_tools.generate_baccoemu_dataset(\n",
    "    NN_samples_cosmo  = NN_samples_cosmo_val,\n",
    "    NN_samples_augs   = NN_samples_augs,\n",
    "    dict_bounds_cosmo = dict_bounds_cosmo_val,\n",
    "    seed              = seed_val,\n",
    "    path_save         = path_save,\n",
    "    model_name        = model_name,\n",
    "    kmax              = kmax, box=box\n",
    ")"
   ]
  },
  {
   "cell_type": "code",
   "execution_count": 27,
   "id": "bfeca45f",
   "metadata": {},
   "outputs": [
    {
     "name": "stdout",
     "output_type": "stream",
     "text": [
      "Loading sigma8 emulator...\n",
      "Sigma8 emulator loaded in memory.\n",
      "Loading linear emulator...\n"
     ]
    },
    {
     "name": "stderr",
     "output_type": "stream",
     "text": [
      "/dipc/dlopez/.conda/envs/VE_torch/lib/python3.9/site-packages/sklearn/base.py:348: InconsistentVersionWarning: Trying to unpickle estimator PCA from version 1.0 when using version 1.3.2. This might lead to breaking code or invalid results. Use at your own risk. For more info please refer to:\n",
      "https://scikit-learn.org/stable/model_persistence.html#security-maintainability-limitations\n",
      "  warnings.warn(\n",
      "/dipc/dlopez/.conda/envs/VE_torch/lib/python3.9/site-packages/sklearn/base.py:348: InconsistentVersionWarning: Trying to unpickle estimator StandardScaler from version 1.0 when using version 1.3.2. This might lead to breaking code or invalid results. Use at your own risk. For more info please refer to:\n",
      "https://scikit-learn.org/stable/model_persistence.html#security-maintainability-limitations\n",
      "  warnings.warn(\n",
      "/dipc/dlopez/.conda/envs/VE_torch/lib/python3.9/site-packages/sklearn/base.py:348: InconsistentVersionWarning: Trying to unpickle estimator PCA from version 1.0 when using version 1.3.2. This might lead to breaking code or invalid results. Use at your own risk. For more info please refer to:\n",
      "https://scikit-learn.org/stable/model_persistence.html#security-maintainability-limitations\n",
      "  warnings.warn(\n",
      "/dipc/dlopez/.conda/envs/VE_torch/lib/python3.9/site-packages/sklearn/base.py:348: InconsistentVersionWarning: Trying to unpickle estimator StandardScaler from version 1.0 when using version 1.3.2. This might lead to breaking code or invalid results. Use at your own risk. For more info please refer to:\n",
      "https://scikit-learn.org/stable/model_persistence.html#security-maintainability-limitations\n",
      "  warnings.warn(\n"
     ]
    },
    {
     "name": "stdout",
     "output_type": "stream",
     "text": [
      "Linear emulator loaded in memory.\n",
      "Loading no-wiggles emulator...\n",
      "No-wiggles emulator loaded in memory.\n",
      "Loading non-linear emulator...\n"
     ]
    },
    {
     "name": "stderr",
     "output_type": "stream",
     "text": [
      "/dipc/dlopez/.conda/envs/VE_torch/lib/python3.9/site-packages/sklearn/base.py:348: InconsistentVersionWarning: Trying to unpickle estimator StandardScaler from version 1.0.2 when using version 1.3.2. This might lead to breaking code or invalid results. Use at your own risk. For more info please refer to:\n",
      "https://scikit-learn.org/stable/model_persistence.html#security-maintainability-limitations\n",
      "  warnings.warn(\n",
      "/dipc/dlopez/.conda/envs/VE_torch/lib/python3.9/site-packages/sklearn/base.py:348: InconsistentVersionWarning: Trying to unpickle estimator StandardScaler from version 0.22.1 when using version 1.3.2. This might lead to breaking code or invalid results. Use at your own risk. For more info please refer to:\n",
      "https://scikit-learn.org/stable/model_persistence.html#security-maintainability-limitations\n",
      "  warnings.warn(\n",
      "/dipc/dlopez/.conda/envs/VE_torch/lib/python3.9/site-packages/sklearn/base.py:348: InconsistentVersionWarning: Trying to unpickle estimator PCA from version 0.22.1 when using version 1.3.2. This might lead to breaking code or invalid results. Use at your own risk. For more info please refer to:\n",
      "https://scikit-learn.org/stable/model_persistence.html#security-maintainability-limitations\n",
      "  warnings.warn(\n"
     ]
    },
    {
     "name": "stdout",
     "output_type": "stream",
     "text": [
      "Nonlinear emulator loaded in memory.\n",
      "Loading Baryonic Emulator...\n",
      "Baryonic Emulator loaded in memory.\n"
     ]
    },
    {
     "name": "stderr",
     "output_type": "stream",
     "text": [
      "/dipc/dlopez/.conda/envs/VE_torch/lib/python3.9/site-packages/sklearn/base.py:348: InconsistentVersionWarning: Trying to unpickle estimator StandardScaler from version 0.23.2 when using version 1.3.2. This might lead to breaking code or invalid results. Use at your own risk. For more info please refer to:\n",
      "https://scikit-learn.org/stable/model_persistence.html#security-maintainability-limitations\n",
      "  warnings.warn(\n",
      "/dipc/dlopez/.conda/envs/VE_torch/lib/python3.9/site-packages/sklearn/base.py:348: InconsistentVersionWarning: Trying to unpickle estimator PCA from version 0.23.2 when using version 1.3.2. This might lead to breaking code or invalid results. Use at your own risk. For more info please refer to:\n",
      "https://scikit-learn.org/stable/model_persistence.html#security-maintainability-limitations\n",
      "  warnings.warn(\n"
     ]
    }
   ],
   "source": [
    "hydro_key = 'bahamas'\n",
    "model_name = \"Model_fixed_\"+hydro_key\n",
    "NN_samples_augs = 1\n",
    "COSMOS[ds_mode][model_name], XX[ds_mode][model_name], AUG_PARAMS[ds_mode][model_name], EXTENDED_AUG_PARAMS[ds_mode][model_name] = cl_inference.preprocessing_tools.generate_baccoemu_dataset(\n",
    "    NN_samples_cosmo  = NN_samples_cosmo_val,\n",
    "    NN_samples_augs   = NN_samples_augs,\n",
    "    dict_bounds_cosmo = dict_bounds_cosmo_val,\n",
    "    dict_bounds_augs  = dict_bounds_augs_bahamas,\n",
    "    seed              = seed_val,\n",
    "    path_save         = path_save,\n",
    "    model_name        = model_name,\n",
    "    kmax              = kmax, box=box\n",
    ")"
   ]
  },
  {
   "cell_type": "code",
   "execution_count": 28,
   "id": "836cd60c",
   "metadata": {},
   "outputs": [
    {
     "name": "stdout",
     "output_type": "stream",
     "text": [
      "Loading sigma8 emulator...\n",
      "Sigma8 emulator loaded in memory.\n",
      "Loading linear emulator...\n"
     ]
    },
    {
     "name": "stderr",
     "output_type": "stream",
     "text": [
      "/dipc/dlopez/.conda/envs/VE_torch/lib/python3.9/site-packages/sklearn/base.py:348: InconsistentVersionWarning: Trying to unpickle estimator PCA from version 1.0 when using version 1.3.2. This might lead to breaking code or invalid results. Use at your own risk. For more info please refer to:\n",
      "https://scikit-learn.org/stable/model_persistence.html#security-maintainability-limitations\n",
      "  warnings.warn(\n",
      "/dipc/dlopez/.conda/envs/VE_torch/lib/python3.9/site-packages/sklearn/base.py:348: InconsistentVersionWarning: Trying to unpickle estimator StandardScaler from version 1.0 when using version 1.3.2. This might lead to breaking code or invalid results. Use at your own risk. For more info please refer to:\n",
      "https://scikit-learn.org/stable/model_persistence.html#security-maintainability-limitations\n",
      "  warnings.warn(\n",
      "/dipc/dlopez/.conda/envs/VE_torch/lib/python3.9/site-packages/sklearn/base.py:348: InconsistentVersionWarning: Trying to unpickle estimator PCA from version 1.0 when using version 1.3.2. This might lead to breaking code or invalid results. Use at your own risk. For more info please refer to:\n",
      "https://scikit-learn.org/stable/model_persistence.html#security-maintainability-limitations\n",
      "  warnings.warn(\n",
      "/dipc/dlopez/.conda/envs/VE_torch/lib/python3.9/site-packages/sklearn/base.py:348: InconsistentVersionWarning: Trying to unpickle estimator StandardScaler from version 1.0 when using version 1.3.2. This might lead to breaking code or invalid results. Use at your own risk. For more info please refer to:\n",
      "https://scikit-learn.org/stable/model_persistence.html#security-maintainability-limitations\n",
      "  warnings.warn(\n"
     ]
    },
    {
     "name": "stdout",
     "output_type": "stream",
     "text": [
      "Linear emulator loaded in memory.\n",
      "Loading no-wiggles emulator...\n",
      "No-wiggles emulator loaded in memory.\n",
      "Loading non-linear emulator...\n"
     ]
    },
    {
     "name": "stderr",
     "output_type": "stream",
     "text": [
      "/dipc/dlopez/.conda/envs/VE_torch/lib/python3.9/site-packages/sklearn/base.py:348: InconsistentVersionWarning: Trying to unpickle estimator StandardScaler from version 1.0.2 when using version 1.3.2. This might lead to breaking code or invalid results. Use at your own risk. For more info please refer to:\n",
      "https://scikit-learn.org/stable/model_persistence.html#security-maintainability-limitations\n",
      "  warnings.warn(\n",
      "/dipc/dlopez/.conda/envs/VE_torch/lib/python3.9/site-packages/sklearn/base.py:348: InconsistentVersionWarning: Trying to unpickle estimator StandardScaler from version 0.22.1 when using version 1.3.2. This might lead to breaking code or invalid results. Use at your own risk. For more info please refer to:\n",
      "https://scikit-learn.org/stable/model_persistence.html#security-maintainability-limitations\n",
      "  warnings.warn(\n",
      "/dipc/dlopez/.conda/envs/VE_torch/lib/python3.9/site-packages/sklearn/base.py:348: InconsistentVersionWarning: Trying to unpickle estimator PCA from version 0.22.1 when using version 1.3.2. This might lead to breaking code or invalid results. Use at your own risk. For more info please refer to:\n",
      "https://scikit-learn.org/stable/model_persistence.html#security-maintainability-limitations\n",
      "  warnings.warn(\n"
     ]
    },
    {
     "name": "stdout",
     "output_type": "stream",
     "text": [
      "Nonlinear emulator loaded in memory.\n",
      "Loading Baryonic Emulator...\n",
      "Baryonic Emulator loaded in memory.\n"
     ]
    },
    {
     "name": "stderr",
     "output_type": "stream",
     "text": [
      "/dipc/dlopez/.conda/envs/VE_torch/lib/python3.9/site-packages/sklearn/base.py:348: InconsistentVersionWarning: Trying to unpickle estimator StandardScaler from version 0.23.2 when using version 1.3.2. This might lead to breaking code or invalid results. Use at your own risk. For more info please refer to:\n",
      "https://scikit-learn.org/stable/model_persistence.html#security-maintainability-limitations\n",
      "  warnings.warn(\n",
      "/dipc/dlopez/.conda/envs/VE_torch/lib/python3.9/site-packages/sklearn/base.py:348: InconsistentVersionWarning: Trying to unpickle estimator PCA from version 0.23.2 when using version 1.3.2. This might lead to breaking code or invalid results. Use at your own risk. For more info please refer to:\n",
      "https://scikit-learn.org/stable/model_persistence.html#security-maintainability-limitations\n",
      "  warnings.warn(\n"
     ]
    }
   ],
   "source": [
    "hydro_key = 'eagle'\n",
    "model_name = \"Model_fixed_\"+hydro_key\n",
    "NN_samples_augs = 1\n",
    "COSMOS[ds_mode][model_name], XX[ds_mode][model_name], AUG_PARAMS[ds_mode][model_name], EXTENDED_AUG_PARAMS[ds_mode][model_name] = cl_inference.preprocessing_tools.generate_baccoemu_dataset(\n",
    "    NN_samples_cosmo  = NN_samples_cosmo_val,\n",
    "    NN_samples_augs   = NN_samples_augs,\n",
    "    dict_bounds_cosmo = dict_bounds_cosmo_val,\n",
    "    dict_bounds_augs  = dict_bounds_augs_eagle,\n",
    "    seed              = seed_val,\n",
    "    path_save         = path_save,\n",
    "    model_name        = model_name,\n",
    "    kmax              = kmax, box=box\n",
    ")"
   ]
  },
  {
   "cell_type": "code",
   "execution_count": 29,
   "id": "86dd96e1",
   "metadata": {},
   "outputs": [
    {
     "name": "stdout",
     "output_type": "stream",
     "text": [
      "Loading sigma8 emulator...\n",
      "Sigma8 emulator loaded in memory.\n",
      "Loading linear emulator...\n"
     ]
    },
    {
     "name": "stderr",
     "output_type": "stream",
     "text": [
      "/dipc/dlopez/.conda/envs/VE_torch/lib/python3.9/site-packages/sklearn/base.py:348: InconsistentVersionWarning: Trying to unpickle estimator PCA from version 1.0 when using version 1.3.2. This might lead to breaking code or invalid results. Use at your own risk. For more info please refer to:\n",
      "https://scikit-learn.org/stable/model_persistence.html#security-maintainability-limitations\n",
      "  warnings.warn(\n",
      "/dipc/dlopez/.conda/envs/VE_torch/lib/python3.9/site-packages/sklearn/base.py:348: InconsistentVersionWarning: Trying to unpickle estimator StandardScaler from version 1.0 when using version 1.3.2. This might lead to breaking code or invalid results. Use at your own risk. For more info please refer to:\n",
      "https://scikit-learn.org/stable/model_persistence.html#security-maintainability-limitations\n",
      "  warnings.warn(\n",
      "/dipc/dlopez/.conda/envs/VE_torch/lib/python3.9/site-packages/sklearn/base.py:348: InconsistentVersionWarning: Trying to unpickle estimator PCA from version 1.0 when using version 1.3.2. This might lead to breaking code or invalid results. Use at your own risk. For more info please refer to:\n",
      "https://scikit-learn.org/stable/model_persistence.html#security-maintainability-limitations\n",
      "  warnings.warn(\n",
      "/dipc/dlopez/.conda/envs/VE_torch/lib/python3.9/site-packages/sklearn/base.py:348: InconsistentVersionWarning: Trying to unpickle estimator StandardScaler from version 1.0 when using version 1.3.2. This might lead to breaking code or invalid results. Use at your own risk. For more info please refer to:\n",
      "https://scikit-learn.org/stable/model_persistence.html#security-maintainability-limitations\n",
      "  warnings.warn(\n",
      "/dipc/dlopez/.conda/envs/VE_torch/lib/python3.9/site-packages/sklearn/base.py:348: InconsistentVersionWarning: Trying to unpickle estimator StandardScaler from version 1.0.2 when using version 1.3.2. This might lead to breaking code or invalid results. Use at your own risk. For more info please refer to:\n",
      "https://scikit-learn.org/stable/model_persistence.html#security-maintainability-limitations\n",
      "  warnings.warn(\n"
     ]
    },
    {
     "name": "stdout",
     "output_type": "stream",
     "text": [
      "Linear emulator loaded in memory.\n",
      "Loading no-wiggles emulator...\n",
      "No-wiggles emulator loaded in memory.\n",
      "Loading non-linear emulator...\n"
     ]
    },
    {
     "name": "stderr",
     "output_type": "stream",
     "text": [
      "/dipc/dlopez/.conda/envs/VE_torch/lib/python3.9/site-packages/sklearn/base.py:348: InconsistentVersionWarning: Trying to unpickle estimator StandardScaler from version 0.22.1 when using version 1.3.2. This might lead to breaking code or invalid results. Use at your own risk. For more info please refer to:\n",
      "https://scikit-learn.org/stable/model_persistence.html#security-maintainability-limitations\n",
      "  warnings.warn(\n",
      "/dipc/dlopez/.conda/envs/VE_torch/lib/python3.9/site-packages/sklearn/base.py:348: InconsistentVersionWarning: Trying to unpickle estimator PCA from version 0.22.1 when using version 1.3.2. This might lead to breaking code or invalid results. Use at your own risk. For more info please refer to:\n",
      "https://scikit-learn.org/stable/model_persistence.html#security-maintainability-limitations\n",
      "  warnings.warn(\n",
      "/dipc/dlopez/.conda/envs/VE_torch/lib/python3.9/site-packages/sklearn/base.py:348: InconsistentVersionWarning: Trying to unpickle estimator StandardScaler from version 0.23.2 when using version 1.3.2. This might lead to breaking code or invalid results. Use at your own risk. For more info please refer to:\n",
      "https://scikit-learn.org/stable/model_persistence.html#security-maintainability-limitations\n",
      "  warnings.warn(\n",
      "/dipc/dlopez/.conda/envs/VE_torch/lib/python3.9/site-packages/sklearn/base.py:348: InconsistentVersionWarning: Trying to unpickle estimator PCA from version 0.23.2 when using version 1.3.2. This might lead to breaking code or invalid results. Use at your own risk. For more info please refer to:\n",
      "https://scikit-learn.org/stable/model_persistence.html#security-maintainability-limitations\n",
      "  warnings.warn(\n"
     ]
    },
    {
     "name": "stdout",
     "output_type": "stream",
     "text": [
      "Nonlinear emulator loaded in memory.\n",
      "Loading Baryonic Emulator...\n",
      "Baryonic Emulator loaded in memory.\n"
     ]
    }
   ],
   "source": [
    "hydro_key = 'illustris'\n",
    "model_name = \"Model_fixed_\"+hydro_key\n",
    "NN_samples_augs = 1\n",
    "COSMOS[ds_mode][model_name], XX[ds_mode][model_name], AUG_PARAMS[ds_mode][model_name], EXTENDED_AUG_PARAMS[ds_mode][model_name] = cl_inference.preprocessing_tools.generate_baccoemu_dataset(\n",
    "    NN_samples_cosmo  = NN_samples_cosmo_val,\n",
    "    NN_samples_augs   = NN_samples_augs,\n",
    "    dict_bounds_cosmo = dict_bounds_cosmo_val,\n",
    "    dict_bounds_augs  = dict_bounds_augs,\n",
    "    seed              = seed_val,\n",
    "    path_save         = path_save,\n",
    "    model_name        = model_name,\n",
    "    kmax              = kmax, box=box\n",
    ")"
   ]
  },
  {
   "cell_type": "code",
   "execution_count": 30,
   "id": "df979389",
   "metadata": {},
   "outputs": [
    {
     "name": "stdout",
     "output_type": "stream",
     "text": [
      "Loading sigma8 emulator...\n",
      "Sigma8 emulator loaded in memory.\n",
      "Loading linear emulator...\n"
     ]
    },
    {
     "name": "stderr",
     "output_type": "stream",
     "text": [
      "/dipc/dlopez/.conda/envs/VE_torch/lib/python3.9/site-packages/sklearn/base.py:348: InconsistentVersionWarning: Trying to unpickle estimator PCA from version 1.0 when using version 1.3.2. This might lead to breaking code or invalid results. Use at your own risk. For more info please refer to:\n",
      "https://scikit-learn.org/stable/model_persistence.html#security-maintainability-limitations\n",
      "  warnings.warn(\n",
      "/dipc/dlopez/.conda/envs/VE_torch/lib/python3.9/site-packages/sklearn/base.py:348: InconsistentVersionWarning: Trying to unpickle estimator StandardScaler from version 1.0 when using version 1.3.2. This might lead to breaking code or invalid results. Use at your own risk. For more info please refer to:\n",
      "https://scikit-learn.org/stable/model_persistence.html#security-maintainability-limitations\n",
      "  warnings.warn(\n",
      "/dipc/dlopez/.conda/envs/VE_torch/lib/python3.9/site-packages/sklearn/base.py:348: InconsistentVersionWarning: Trying to unpickle estimator PCA from version 1.0 when using version 1.3.2. This might lead to breaking code or invalid results. Use at your own risk. For more info please refer to:\n",
      "https://scikit-learn.org/stable/model_persistence.html#security-maintainability-limitations\n",
      "  warnings.warn(\n",
      "/dipc/dlopez/.conda/envs/VE_torch/lib/python3.9/site-packages/sklearn/base.py:348: InconsistentVersionWarning: Trying to unpickle estimator StandardScaler from version 1.0 when using version 1.3.2. This might lead to breaking code or invalid results. Use at your own risk. For more info please refer to:\n",
      "https://scikit-learn.org/stable/model_persistence.html#security-maintainability-limitations\n",
      "  warnings.warn(\n"
     ]
    },
    {
     "name": "stdout",
     "output_type": "stream",
     "text": [
      "Linear emulator loaded in memory.\n",
      "Loading no-wiggles emulator...\n",
      "No-wiggles emulator loaded in memory.\n",
      "Loading non-linear emulator...\n"
     ]
    },
    {
     "name": "stderr",
     "output_type": "stream",
     "text": [
      "/dipc/dlopez/.conda/envs/VE_torch/lib/python3.9/site-packages/sklearn/base.py:348: InconsistentVersionWarning: Trying to unpickle estimator StandardScaler from version 1.0.2 when using version 1.3.2. This might lead to breaking code or invalid results. Use at your own risk. For more info please refer to:\n",
      "https://scikit-learn.org/stable/model_persistence.html#security-maintainability-limitations\n",
      "  warnings.warn(\n",
      "/dipc/dlopez/.conda/envs/VE_torch/lib/python3.9/site-packages/sklearn/base.py:348: InconsistentVersionWarning: Trying to unpickle estimator StandardScaler from version 0.22.1 when using version 1.3.2. This might lead to breaking code or invalid results. Use at your own risk. For more info please refer to:\n",
      "https://scikit-learn.org/stable/model_persistence.html#security-maintainability-limitations\n",
      "  warnings.warn(\n",
      "/dipc/dlopez/.conda/envs/VE_torch/lib/python3.9/site-packages/sklearn/base.py:348: InconsistentVersionWarning: Trying to unpickle estimator PCA from version 0.22.1 when using version 1.3.2. This might lead to breaking code or invalid results. Use at your own risk. For more info please refer to:\n",
      "https://scikit-learn.org/stable/model_persistence.html#security-maintainability-limitations\n",
      "  warnings.warn(\n"
     ]
    },
    {
     "name": "stdout",
     "output_type": "stream",
     "text": [
      "Nonlinear emulator loaded in memory.\n",
      "Loading Baryonic Emulator...\n",
      "Baryonic Emulator loaded in memory.\n"
     ]
    },
    {
     "name": "stderr",
     "output_type": "stream",
     "text": [
      "/dipc/dlopez/.conda/envs/VE_torch/lib/python3.9/site-packages/sklearn/base.py:348: InconsistentVersionWarning: Trying to unpickle estimator StandardScaler from version 0.23.2 when using version 1.3.2. This might lead to breaking code or invalid results. Use at your own risk. For more info please refer to:\n",
      "https://scikit-learn.org/stable/model_persistence.html#security-maintainability-limitations\n",
      "  warnings.warn(\n",
      "/dipc/dlopez/.conda/envs/VE_torch/lib/python3.9/site-packages/sklearn/base.py:348: InconsistentVersionWarning: Trying to unpickle estimator PCA from version 0.23.2 when using version 1.3.2. This might lead to breaking code or invalid results. Use at your own risk. For more info please refer to:\n",
      "https://scikit-learn.org/stable/model_persistence.html#security-maintainability-limitations\n",
      "  warnings.warn(\n"
     ]
    }
   ],
   "source": [
    "model_name = \"Model_vary_1\"\n",
    "NN_samples_augs = 10\n",
    "COSMOS[ds_mode][model_name], XX[ds_mode][model_name], AUG_PARAMS[ds_mode][model_name], EXTENDED_AUG_PARAMS[ds_mode][model_name] = cl_inference.preprocessing_tools.generate_baccoemu_dataset(\n",
    "    NN_samples_cosmo  = NN_samples_cosmo_val,\n",
    "    NN_samples_augs   = NN_samples_augs,\n",
    "    dict_bounds_cosmo = dict_bounds_cosmo_val,\n",
    "    dict_bounds_augs  = dict_bounds_augs_vary1,\n",
    "    seed              = seed_val,\n",
    "    path_save         = path_save,\n",
    "    model_name        = model_name,\n",
    "    kmax              = kmax, box=box\n",
    ")"
   ]
  },
  {
   "cell_type": "code",
   "execution_count": 31,
   "id": "2679156d",
   "metadata": {},
   "outputs": [
    {
     "name": "stdout",
     "output_type": "stream",
     "text": [
      "Loading sigma8 emulator...\n",
      "Sigma8 emulator loaded in memory.\n",
      "Loading linear emulator...\n"
     ]
    },
    {
     "name": "stderr",
     "output_type": "stream",
     "text": [
      "/dipc/dlopez/.conda/envs/VE_torch/lib/python3.9/site-packages/sklearn/base.py:348: InconsistentVersionWarning: Trying to unpickle estimator PCA from version 1.0 when using version 1.3.2. This might lead to breaking code or invalid results. Use at your own risk. For more info please refer to:\n",
      "https://scikit-learn.org/stable/model_persistence.html#security-maintainability-limitations\n",
      "  warnings.warn(\n",
      "/dipc/dlopez/.conda/envs/VE_torch/lib/python3.9/site-packages/sklearn/base.py:348: InconsistentVersionWarning: Trying to unpickle estimator StandardScaler from version 1.0 when using version 1.3.2. This might lead to breaking code or invalid results. Use at your own risk. For more info please refer to:\n",
      "https://scikit-learn.org/stable/model_persistence.html#security-maintainability-limitations\n",
      "  warnings.warn(\n",
      "/dipc/dlopez/.conda/envs/VE_torch/lib/python3.9/site-packages/sklearn/base.py:348: InconsistentVersionWarning: Trying to unpickle estimator PCA from version 1.0 when using version 1.3.2. This might lead to breaking code or invalid results. Use at your own risk. For more info please refer to:\n",
      "https://scikit-learn.org/stable/model_persistence.html#security-maintainability-limitations\n",
      "  warnings.warn(\n",
      "/dipc/dlopez/.conda/envs/VE_torch/lib/python3.9/site-packages/sklearn/base.py:348: InconsistentVersionWarning: Trying to unpickle estimator StandardScaler from version 1.0 when using version 1.3.2. This might lead to breaking code or invalid results. Use at your own risk. For more info please refer to:\n",
      "https://scikit-learn.org/stable/model_persistence.html#security-maintainability-limitations\n",
      "  warnings.warn(\n"
     ]
    },
    {
     "name": "stdout",
     "output_type": "stream",
     "text": [
      "Linear emulator loaded in memory.\n",
      "Loading no-wiggles emulator...\n",
      "No-wiggles emulator loaded in memory.\n",
      "Loading non-linear emulator...\n"
     ]
    },
    {
     "name": "stderr",
     "output_type": "stream",
     "text": [
      "/dipc/dlopez/.conda/envs/VE_torch/lib/python3.9/site-packages/sklearn/base.py:348: InconsistentVersionWarning: Trying to unpickle estimator StandardScaler from version 1.0.2 when using version 1.3.2. This might lead to breaking code or invalid results. Use at your own risk. For more info please refer to:\n",
      "https://scikit-learn.org/stable/model_persistence.html#security-maintainability-limitations\n",
      "  warnings.warn(\n",
      "/dipc/dlopez/.conda/envs/VE_torch/lib/python3.9/site-packages/sklearn/base.py:348: InconsistentVersionWarning: Trying to unpickle estimator StandardScaler from version 0.22.1 when using version 1.3.2. This might lead to breaking code or invalid results. Use at your own risk. For more info please refer to:\n",
      "https://scikit-learn.org/stable/model_persistence.html#security-maintainability-limitations\n",
      "  warnings.warn(\n",
      "/dipc/dlopez/.conda/envs/VE_torch/lib/python3.9/site-packages/sklearn/base.py:348: InconsistentVersionWarning: Trying to unpickle estimator PCA from version 0.22.1 when using version 1.3.2. This might lead to breaking code or invalid results. Use at your own risk. For more info please refer to:\n",
      "https://scikit-learn.org/stable/model_persistence.html#security-maintainability-limitations\n",
      "  warnings.warn(\n"
     ]
    },
    {
     "name": "stdout",
     "output_type": "stream",
     "text": [
      "Nonlinear emulator loaded in memory.\n",
      "Loading Baryonic Emulator...\n"
     ]
    },
    {
     "name": "stderr",
     "output_type": "stream",
     "text": [
      "/dipc/dlopez/.conda/envs/VE_torch/lib/python3.9/site-packages/sklearn/base.py:348: InconsistentVersionWarning: Trying to unpickle estimator StandardScaler from version 0.23.2 when using version 1.3.2. This might lead to breaking code or invalid results. Use at your own risk. For more info please refer to:\n",
      "https://scikit-learn.org/stable/model_persistence.html#security-maintainability-limitations\n",
      "  warnings.warn(\n",
      "/dipc/dlopez/.conda/envs/VE_torch/lib/python3.9/site-packages/sklearn/base.py:348: InconsistentVersionWarning: Trying to unpickle estimator PCA from version 0.23.2 when using version 1.3.2. This might lead to breaking code or invalid results. Use at your own risk. For more info please refer to:\n",
      "https://scikit-learn.org/stable/model_persistence.html#security-maintainability-limitations\n",
      "  warnings.warn(\n"
     ]
    },
    {
     "name": "stdout",
     "output_type": "stream",
     "text": [
      "Baryonic Emulator loaded in memory.\n"
     ]
    }
   ],
   "source": [
    "model_name = \"Model_vary_2\"\n",
    "NN_samples_augs = 10\n",
    "COSMOS[ds_mode][model_name], XX[ds_mode][model_name], AUG_PARAMS[ds_mode][model_name], EXTENDED_AUG_PARAMS[ds_mode][model_name] = cl_inference.preprocessing_tools.generate_baccoemu_dataset(\n",
    "    NN_samples_cosmo  = NN_samples_cosmo_val,\n",
    "    NN_samples_augs   = NN_samples_augs,\n",
    "    dict_bounds_cosmo = dict_bounds_cosmo_val,\n",
    "    dict_bounds_augs  = dict_bounds_augs_vary2,\n",
    "    seed              = seed_val,\n",
    "    path_save         = path_save,\n",
    "    model_name        = model_name,\n",
    "    kmax              = kmax, box=box\n",
    ")"
   ]
  },
  {
   "cell_type": "code",
   "execution_count": 32,
   "id": "83e96a49",
   "metadata": {},
   "outputs": [
    {
     "name": "stdout",
     "output_type": "stream",
     "text": [
      "Loading sigma8 emulator...\n",
      "Sigma8 emulator loaded in memory.\n",
      "Loading linear emulator...\n"
     ]
    },
    {
     "name": "stderr",
     "output_type": "stream",
     "text": [
      "/dipc/dlopez/.conda/envs/VE_torch/lib/python3.9/site-packages/sklearn/base.py:348: InconsistentVersionWarning: Trying to unpickle estimator PCA from version 1.0 when using version 1.3.2. This might lead to breaking code or invalid results. Use at your own risk. For more info please refer to:\n",
      "https://scikit-learn.org/stable/model_persistence.html#security-maintainability-limitations\n",
      "  warnings.warn(\n",
      "/dipc/dlopez/.conda/envs/VE_torch/lib/python3.9/site-packages/sklearn/base.py:348: InconsistentVersionWarning: Trying to unpickle estimator StandardScaler from version 1.0 when using version 1.3.2. This might lead to breaking code or invalid results. Use at your own risk. For more info please refer to:\n",
      "https://scikit-learn.org/stable/model_persistence.html#security-maintainability-limitations\n",
      "  warnings.warn(\n",
      "/dipc/dlopez/.conda/envs/VE_torch/lib/python3.9/site-packages/sklearn/base.py:348: InconsistentVersionWarning: Trying to unpickle estimator PCA from version 1.0 when using version 1.3.2. This might lead to breaking code or invalid results. Use at your own risk. For more info please refer to:\n",
      "https://scikit-learn.org/stable/model_persistence.html#security-maintainability-limitations\n",
      "  warnings.warn(\n",
      "/dipc/dlopez/.conda/envs/VE_torch/lib/python3.9/site-packages/sklearn/base.py:348: InconsistentVersionWarning: Trying to unpickle estimator StandardScaler from version 1.0 when using version 1.3.2. This might lead to breaking code or invalid results. Use at your own risk. For more info please refer to:\n",
      "https://scikit-learn.org/stable/model_persistence.html#security-maintainability-limitations\n",
      "  warnings.warn(\n"
     ]
    },
    {
     "name": "stdout",
     "output_type": "stream",
     "text": [
      "Linear emulator loaded in memory.\n",
      "Loading no-wiggles emulator...\n",
      "No-wiggles emulator loaded in memory.\n",
      "Loading non-linear emulator...\n"
     ]
    },
    {
     "name": "stderr",
     "output_type": "stream",
     "text": [
      "/dipc/dlopez/.conda/envs/VE_torch/lib/python3.9/site-packages/sklearn/base.py:348: InconsistentVersionWarning: Trying to unpickle estimator StandardScaler from version 1.0.2 when using version 1.3.2. This might lead to breaking code or invalid results. Use at your own risk. For more info please refer to:\n",
      "https://scikit-learn.org/stable/model_persistence.html#security-maintainability-limitations\n",
      "  warnings.warn(\n",
      "/dipc/dlopez/.conda/envs/VE_torch/lib/python3.9/site-packages/sklearn/base.py:348: InconsistentVersionWarning: Trying to unpickle estimator StandardScaler from version 0.22.1 when using version 1.3.2. This might lead to breaking code or invalid results. Use at your own risk. For more info please refer to:\n",
      "https://scikit-learn.org/stable/model_persistence.html#security-maintainability-limitations\n",
      "  warnings.warn(\n",
      "/dipc/dlopez/.conda/envs/VE_torch/lib/python3.9/site-packages/sklearn/base.py:348: InconsistentVersionWarning: Trying to unpickle estimator PCA from version 0.22.1 when using version 1.3.2. This might lead to breaking code or invalid results. Use at your own risk. For more info please refer to:\n",
      "https://scikit-learn.org/stable/model_persistence.html#security-maintainability-limitations\n",
      "  warnings.warn(\n"
     ]
    },
    {
     "name": "stdout",
     "output_type": "stream",
     "text": [
      "Nonlinear emulator loaded in memory.\n",
      "Loading Baryonic Emulator...\n",
      "Baryonic Emulator loaded in memory.\n"
     ]
    },
    {
     "name": "stderr",
     "output_type": "stream",
     "text": [
      "/dipc/dlopez/.conda/envs/VE_torch/lib/python3.9/site-packages/sklearn/base.py:348: InconsistentVersionWarning: Trying to unpickle estimator StandardScaler from version 0.23.2 when using version 1.3.2. This might lead to breaking code or invalid results. Use at your own risk. For more info please refer to:\n",
      "https://scikit-learn.org/stable/model_persistence.html#security-maintainability-limitations\n",
      "  warnings.warn(\n",
      "/dipc/dlopez/.conda/envs/VE_torch/lib/python3.9/site-packages/sklearn/base.py:348: InconsistentVersionWarning: Trying to unpickle estimator PCA from version 0.23.2 when using version 1.3.2. This might lead to breaking code or invalid results. Use at your own risk. For more info please refer to:\n",
      "https://scikit-learn.org/stable/model_persistence.html#security-maintainability-limitations\n",
      "  warnings.warn(\n"
     ]
    }
   ],
   "source": [
    "model_name = \"Model_vary_3\"\n",
    "NN_samples_augs = 10\n",
    "COSMOS[ds_mode][model_name], XX[ds_mode][model_name], AUG_PARAMS[ds_mode][model_name], EXTENDED_AUG_PARAMS[ds_mode][model_name] = cl_inference.preprocessing_tools.generate_baccoemu_dataset(\n",
    "    NN_samples_cosmo  = NN_samples_cosmo_val,\n",
    "    NN_samples_augs   = NN_samples_augs,\n",
    "    dict_bounds_cosmo = dict_bounds_cosmo_val,\n",
    "    dict_bounds_augs  = dict_bounds_augs_vary3,\n",
    "    seed              = seed_val,\n",
    "    path_save         = path_save,\n",
    "    model_name        = model_name,\n",
    "    kmax              = kmax, box=box\n",
    ")"
   ]
  },
  {
   "cell_type": "code",
   "execution_count": 33,
   "id": "aa6a7327",
   "metadata": {},
   "outputs": [
    {
     "name": "stdout",
     "output_type": "stream",
     "text": [
      "Loading sigma8 emulator...\n",
      "Sigma8 emulator loaded in memory.\n",
      "Loading linear emulator...\n"
     ]
    },
    {
     "name": "stderr",
     "output_type": "stream",
     "text": [
      "/dipc/dlopez/.conda/envs/VE_torch/lib/python3.9/site-packages/sklearn/base.py:348: InconsistentVersionWarning: Trying to unpickle estimator PCA from version 1.0 when using version 1.3.2. This might lead to breaking code or invalid results. Use at your own risk. For more info please refer to:\n",
      "https://scikit-learn.org/stable/model_persistence.html#security-maintainability-limitations\n",
      "  warnings.warn(\n",
      "/dipc/dlopez/.conda/envs/VE_torch/lib/python3.9/site-packages/sklearn/base.py:348: InconsistentVersionWarning: Trying to unpickle estimator StandardScaler from version 1.0 when using version 1.3.2. This might lead to breaking code or invalid results. Use at your own risk. For more info please refer to:\n",
      "https://scikit-learn.org/stable/model_persistence.html#security-maintainability-limitations\n",
      "  warnings.warn(\n",
      "/dipc/dlopez/.conda/envs/VE_torch/lib/python3.9/site-packages/sklearn/base.py:348: InconsistentVersionWarning: Trying to unpickle estimator PCA from version 1.0 when using version 1.3.2. This might lead to breaking code or invalid results. Use at your own risk. For more info please refer to:\n",
      "https://scikit-learn.org/stable/model_persistence.html#security-maintainability-limitations\n",
      "  warnings.warn(\n",
      "/dipc/dlopez/.conda/envs/VE_torch/lib/python3.9/site-packages/sklearn/base.py:348: InconsistentVersionWarning: Trying to unpickle estimator StandardScaler from version 1.0 when using version 1.3.2. This might lead to breaking code or invalid results. Use at your own risk. For more info please refer to:\n",
      "https://scikit-learn.org/stable/model_persistence.html#security-maintainability-limitations\n",
      "  warnings.warn(\n"
     ]
    },
    {
     "name": "stdout",
     "output_type": "stream",
     "text": [
      "Linear emulator loaded in memory.\n",
      "Loading no-wiggles emulator...\n",
      "No-wiggles emulator loaded in memory.\n",
      "Loading non-linear emulator...\n"
     ]
    },
    {
     "name": "stderr",
     "output_type": "stream",
     "text": [
      "/dipc/dlopez/.conda/envs/VE_torch/lib/python3.9/site-packages/sklearn/base.py:348: InconsistentVersionWarning: Trying to unpickle estimator StandardScaler from version 1.0.2 when using version 1.3.2. This might lead to breaking code or invalid results. Use at your own risk. For more info please refer to:\n",
      "https://scikit-learn.org/stable/model_persistence.html#security-maintainability-limitations\n",
      "  warnings.warn(\n",
      "/dipc/dlopez/.conda/envs/VE_torch/lib/python3.9/site-packages/sklearn/base.py:348: InconsistentVersionWarning: Trying to unpickle estimator StandardScaler from version 0.22.1 when using version 1.3.2. This might lead to breaking code or invalid results. Use at your own risk. For more info please refer to:\n",
      "https://scikit-learn.org/stable/model_persistence.html#security-maintainability-limitations\n",
      "  warnings.warn(\n",
      "/dipc/dlopez/.conda/envs/VE_torch/lib/python3.9/site-packages/sklearn/base.py:348: InconsistentVersionWarning: Trying to unpickle estimator PCA from version 0.22.1 when using version 1.3.2. This might lead to breaking code or invalid results. Use at your own risk. For more info please refer to:\n",
      "https://scikit-learn.org/stable/model_persistence.html#security-maintainability-limitations\n",
      "  warnings.warn(\n"
     ]
    },
    {
     "name": "stdout",
     "output_type": "stream",
     "text": [
      "Nonlinear emulator loaded in memory.\n",
      "Loading Baryonic Emulator...\n",
      "Baryonic Emulator loaded in memory.\n"
     ]
    },
    {
     "name": "stderr",
     "output_type": "stream",
     "text": [
      "/dipc/dlopez/.conda/envs/VE_torch/lib/python3.9/site-packages/sklearn/base.py:348: InconsistentVersionWarning: Trying to unpickle estimator StandardScaler from version 0.23.2 when using version 1.3.2. This might lead to breaking code or invalid results. Use at your own risk. For more info please refer to:\n",
      "https://scikit-learn.org/stable/model_persistence.html#security-maintainability-limitations\n",
      "  warnings.warn(\n",
      "/dipc/dlopez/.conda/envs/VE_torch/lib/python3.9/site-packages/sklearn/base.py:348: InconsistentVersionWarning: Trying to unpickle estimator PCA from version 0.23.2 when using version 1.3.2. This might lead to breaking code or invalid results. Use at your own risk. For more info please refer to:\n",
      "https://scikit-learn.org/stable/model_persistence.html#security-maintainability-limitations\n",
      "  warnings.warn(\n"
     ]
    },
    {
     "name": "stdout",
     "output_type": "stream",
     "text": [
      "Loading sigma8 emulator...\n",
      "Sigma8 emulator loaded in memory.\n",
      "Loading linear emulator...\n"
     ]
    },
    {
     "name": "stderr",
     "output_type": "stream",
     "text": [
      "/dipc/dlopez/.conda/envs/VE_torch/lib/python3.9/site-packages/sklearn/base.py:348: InconsistentVersionWarning: Trying to unpickle estimator PCA from version 1.0 when using version 1.3.2. This might lead to breaking code or invalid results. Use at your own risk. For more info please refer to:\n",
      "https://scikit-learn.org/stable/model_persistence.html#security-maintainability-limitations\n",
      "  warnings.warn(\n",
      "/dipc/dlopez/.conda/envs/VE_torch/lib/python3.9/site-packages/sklearn/base.py:348: InconsistentVersionWarning: Trying to unpickle estimator StandardScaler from version 1.0 when using version 1.3.2. This might lead to breaking code or invalid results. Use at your own risk. For more info please refer to:\n",
      "https://scikit-learn.org/stable/model_persistence.html#security-maintainability-limitations\n",
      "  warnings.warn(\n",
      "/dipc/dlopez/.conda/envs/VE_torch/lib/python3.9/site-packages/sklearn/base.py:348: InconsistentVersionWarning: Trying to unpickle estimator PCA from version 1.0 when using version 1.3.2. This might lead to breaking code or invalid results. Use at your own risk. For more info please refer to:\n",
      "https://scikit-learn.org/stable/model_persistence.html#security-maintainability-limitations\n",
      "  warnings.warn(\n",
      "/dipc/dlopez/.conda/envs/VE_torch/lib/python3.9/site-packages/sklearn/base.py:348: InconsistentVersionWarning: Trying to unpickle estimator StandardScaler from version 1.0 when using version 1.3.2. This might lead to breaking code or invalid results. Use at your own risk. For more info please refer to:\n",
      "https://scikit-learn.org/stable/model_persistence.html#security-maintainability-limitations\n",
      "  warnings.warn(\n"
     ]
    },
    {
     "name": "stdout",
     "output_type": "stream",
     "text": [
      "Linear emulator loaded in memory.\n",
      "Loading no-wiggles emulator...\n"
     ]
    },
    {
     "name": "stderr",
     "output_type": "stream",
     "text": [
      "/dipc/dlopez/.conda/envs/VE_torch/lib/python3.9/site-packages/sklearn/base.py:348: InconsistentVersionWarning: Trying to unpickle estimator StandardScaler from version 1.0.2 when using version 1.3.2. This might lead to breaking code or invalid results. Use at your own risk. For more info please refer to:\n",
      "https://scikit-learn.org/stable/model_persistence.html#security-maintainability-limitations\n",
      "  warnings.warn(\n",
      "/dipc/dlopez/.conda/envs/VE_torch/lib/python3.9/site-packages/sklearn/base.py:348: InconsistentVersionWarning: Trying to unpickle estimator StandardScaler from version 0.22.1 when using version 1.3.2. This might lead to breaking code or invalid results. Use at your own risk. For more info please refer to:\n",
      "https://scikit-learn.org/stable/model_persistence.html#security-maintainability-limitations\n",
      "  warnings.warn(\n",
      "/dipc/dlopez/.conda/envs/VE_torch/lib/python3.9/site-packages/sklearn/base.py:348: InconsistentVersionWarning: Trying to unpickle estimator PCA from version 0.22.1 when using version 1.3.2. This might lead to breaking code or invalid results. Use at your own risk. For more info please refer to:\n",
      "https://scikit-learn.org/stable/model_persistence.html#security-maintainability-limitations\n",
      "  warnings.warn(\n"
     ]
    },
    {
     "name": "stdout",
     "output_type": "stream",
     "text": [
      "No-wiggles emulator loaded in memory.\n",
      "Loading non-linear emulator...\n",
      "Nonlinear emulator loaded in memory.\n",
      "Loading Baryonic Emulator...\n"
     ]
    },
    {
     "name": "stderr",
     "output_type": "stream",
     "text": [
      "/dipc/dlopez/.conda/envs/VE_torch/lib/python3.9/site-packages/sklearn/base.py:348: InconsistentVersionWarning: Trying to unpickle estimator StandardScaler from version 0.23.2 when using version 1.3.2. This might lead to breaking code or invalid results. Use at your own risk. For more info please refer to:\n",
      "https://scikit-learn.org/stable/model_persistence.html#security-maintainability-limitations\n",
      "  warnings.warn(\n",
      "/dipc/dlopez/.conda/envs/VE_torch/lib/python3.9/site-packages/sklearn/base.py:348: InconsistentVersionWarning: Trying to unpickle estimator PCA from version 0.23.2 when using version 1.3.2. This might lead to breaking code or invalid results. Use at your own risk. For more info please refer to:\n",
      "https://scikit-learn.org/stable/model_persistence.html#security-maintainability-limitations\n",
      "  warnings.warn(\n"
     ]
    },
    {
     "name": "stdout",
     "output_type": "stream",
     "text": [
      "Baryonic Emulator loaded in memory.\n",
      "Loading sigma8 emulator...\n",
      "Sigma8 emulator loaded in memory.\n",
      "Loading linear emulator...\n"
     ]
    },
    {
     "name": "stderr",
     "output_type": "stream",
     "text": [
      "/dipc/dlopez/.conda/envs/VE_torch/lib/python3.9/site-packages/sklearn/base.py:348: InconsistentVersionWarning: Trying to unpickle estimator PCA from version 1.0 when using version 1.3.2. This might lead to breaking code or invalid results. Use at your own risk. For more info please refer to:\n",
      "https://scikit-learn.org/stable/model_persistence.html#security-maintainability-limitations\n",
      "  warnings.warn(\n",
      "/dipc/dlopez/.conda/envs/VE_torch/lib/python3.9/site-packages/sklearn/base.py:348: InconsistentVersionWarning: Trying to unpickle estimator StandardScaler from version 1.0 when using version 1.3.2. This might lead to breaking code or invalid results. Use at your own risk. For more info please refer to:\n",
      "https://scikit-learn.org/stable/model_persistence.html#security-maintainability-limitations\n",
      "  warnings.warn(\n",
      "/dipc/dlopez/.conda/envs/VE_torch/lib/python3.9/site-packages/sklearn/base.py:348: InconsistentVersionWarning: Trying to unpickle estimator PCA from version 1.0 when using version 1.3.2. This might lead to breaking code or invalid results. Use at your own risk. For more info please refer to:\n",
      "https://scikit-learn.org/stable/model_persistence.html#security-maintainability-limitations\n",
      "  warnings.warn(\n",
      "/dipc/dlopez/.conda/envs/VE_torch/lib/python3.9/site-packages/sklearn/base.py:348: InconsistentVersionWarning: Trying to unpickle estimator StandardScaler from version 1.0 when using version 1.3.2. This might lead to breaking code or invalid results. Use at your own risk. For more info please refer to:\n",
      "https://scikit-learn.org/stable/model_persistence.html#security-maintainability-limitations\n",
      "  warnings.warn(\n"
     ]
    },
    {
     "name": "stdout",
     "output_type": "stream",
     "text": [
      "Linear emulator loaded in memory.\n",
      "Loading no-wiggles emulator...\n",
      "No-wiggles emulator loaded in memory.\n",
      "Loading non-linear emulator...\n"
     ]
    },
    {
     "name": "stderr",
     "output_type": "stream",
     "text": [
      "/dipc/dlopez/.conda/envs/VE_torch/lib/python3.9/site-packages/sklearn/base.py:348: InconsistentVersionWarning: Trying to unpickle estimator StandardScaler from version 1.0.2 when using version 1.3.2. This might lead to breaking code or invalid results. Use at your own risk. For more info please refer to:\n",
      "https://scikit-learn.org/stable/model_persistence.html#security-maintainability-limitations\n",
      "  warnings.warn(\n",
      "/dipc/dlopez/.conda/envs/VE_torch/lib/python3.9/site-packages/sklearn/base.py:348: InconsistentVersionWarning: Trying to unpickle estimator StandardScaler from version 0.22.1 when using version 1.3.2. This might lead to breaking code or invalid results. Use at your own risk. For more info please refer to:\n",
      "https://scikit-learn.org/stable/model_persistence.html#security-maintainability-limitations\n",
      "  warnings.warn(\n",
      "/dipc/dlopez/.conda/envs/VE_torch/lib/python3.9/site-packages/sklearn/base.py:348: InconsistentVersionWarning: Trying to unpickle estimator PCA from version 0.22.1 when using version 1.3.2. This might lead to breaking code or invalid results. Use at your own risk. For more info please refer to:\n",
      "https://scikit-learn.org/stable/model_persistence.html#security-maintainability-limitations\n",
      "  warnings.warn(\n"
     ]
    },
    {
     "name": "stdout",
     "output_type": "stream",
     "text": [
      "Nonlinear emulator loaded in memory.\n",
      "Loading Baryonic Emulator...\n",
      "Baryonic Emulator loaded in memory.\n"
     ]
    },
    {
     "name": "stderr",
     "output_type": "stream",
     "text": [
      "/dipc/dlopez/.conda/envs/VE_torch/lib/python3.9/site-packages/sklearn/base.py:348: InconsistentVersionWarning: Trying to unpickle estimator StandardScaler from version 0.23.2 when using version 1.3.2. This might lead to breaking code or invalid results. Use at your own risk. For more info please refer to:\n",
      "https://scikit-learn.org/stable/model_persistence.html#security-maintainability-limitations\n",
      "  warnings.warn(\n",
      "/dipc/dlopez/.conda/envs/VE_torch/lib/python3.9/site-packages/sklearn/base.py:348: InconsistentVersionWarning: Trying to unpickle estimator PCA from version 0.23.2 when using version 1.3.2. This might lead to breaking code or invalid results. Use at your own risk. For more info please refer to:\n",
      "https://scikit-learn.org/stable/model_persistence.html#security-maintainability-limitations\n",
      "  warnings.warn(\n"
     ]
    },
    {
     "name": "stdout",
     "output_type": "stream",
     "text": [
      "Loading sigma8 emulator...\n",
      "Sigma8 emulator loaded in memory.\n",
      "Loading linear emulator...\n"
     ]
    },
    {
     "name": "stderr",
     "output_type": "stream",
     "text": [
      "/dipc/dlopez/.conda/envs/VE_torch/lib/python3.9/site-packages/sklearn/base.py:348: InconsistentVersionWarning: Trying to unpickle estimator PCA from version 1.0 when using version 1.3.2. This might lead to breaking code or invalid results. Use at your own risk. For more info please refer to:\n",
      "https://scikit-learn.org/stable/model_persistence.html#security-maintainability-limitations\n",
      "  warnings.warn(\n",
      "/dipc/dlopez/.conda/envs/VE_torch/lib/python3.9/site-packages/sklearn/base.py:348: InconsistentVersionWarning: Trying to unpickle estimator StandardScaler from version 1.0 when using version 1.3.2. This might lead to breaking code or invalid results. Use at your own risk. For more info please refer to:\n",
      "https://scikit-learn.org/stable/model_persistence.html#security-maintainability-limitations\n",
      "  warnings.warn(\n",
      "/dipc/dlopez/.conda/envs/VE_torch/lib/python3.9/site-packages/sklearn/base.py:348: InconsistentVersionWarning: Trying to unpickle estimator PCA from version 1.0 when using version 1.3.2. This might lead to breaking code or invalid results. Use at your own risk. For more info please refer to:\n",
      "https://scikit-learn.org/stable/model_persistence.html#security-maintainability-limitations\n",
      "  warnings.warn(\n",
      "/dipc/dlopez/.conda/envs/VE_torch/lib/python3.9/site-packages/sklearn/base.py:348: InconsistentVersionWarning: Trying to unpickle estimator StandardScaler from version 1.0 when using version 1.3.2. This might lead to breaking code or invalid results. Use at your own risk. For more info please refer to:\n",
      "https://scikit-learn.org/stable/model_persistence.html#security-maintainability-limitations\n",
      "  warnings.warn(\n"
     ]
    },
    {
     "name": "stdout",
     "output_type": "stream",
     "text": [
      "Linear emulator loaded in memory.\n",
      "Loading no-wiggles emulator...\n",
      "No-wiggles emulator loaded in memory.\n",
      "Loading non-linear emulator...\n"
     ]
    },
    {
     "name": "stderr",
     "output_type": "stream",
     "text": [
      "/dipc/dlopez/.conda/envs/VE_torch/lib/python3.9/site-packages/sklearn/base.py:348: InconsistentVersionWarning: Trying to unpickle estimator StandardScaler from version 1.0.2 when using version 1.3.2. This might lead to breaking code or invalid results. Use at your own risk. For more info please refer to:\n",
      "https://scikit-learn.org/stable/model_persistence.html#security-maintainability-limitations\n",
      "  warnings.warn(\n",
      "/dipc/dlopez/.conda/envs/VE_torch/lib/python3.9/site-packages/sklearn/base.py:348: InconsistentVersionWarning: Trying to unpickle estimator StandardScaler from version 0.22.1 when using version 1.3.2. This might lead to breaking code or invalid results. Use at your own risk. For more info please refer to:\n",
      "https://scikit-learn.org/stable/model_persistence.html#security-maintainability-limitations\n",
      "  warnings.warn(\n",
      "/dipc/dlopez/.conda/envs/VE_torch/lib/python3.9/site-packages/sklearn/base.py:348: InconsistentVersionWarning: Trying to unpickle estimator PCA from version 0.22.1 when using version 1.3.2. This might lead to breaking code or invalid results. Use at your own risk. For more info please refer to:\n",
      "https://scikit-learn.org/stable/model_persistence.html#security-maintainability-limitations\n",
      "  warnings.warn(\n"
     ]
    },
    {
     "name": "stdout",
     "output_type": "stream",
     "text": [
      "Nonlinear emulator loaded in memory.\n",
      "Loading Baryonic Emulator...\n",
      "Baryonic Emulator loaded in memory.\n"
     ]
    },
    {
     "name": "stderr",
     "output_type": "stream",
     "text": [
      "/dipc/dlopez/.conda/envs/VE_torch/lib/python3.9/site-packages/sklearn/base.py:348: InconsistentVersionWarning: Trying to unpickle estimator StandardScaler from version 0.23.2 when using version 1.3.2. This might lead to breaking code or invalid results. Use at your own risk. For more info please refer to:\n",
      "https://scikit-learn.org/stable/model_persistence.html#security-maintainability-limitations\n",
      "  warnings.warn(\n",
      "/dipc/dlopez/.conda/envs/VE_torch/lib/python3.9/site-packages/sklearn/base.py:348: InconsistentVersionWarning: Trying to unpickle estimator PCA from version 0.23.2 when using version 1.3.2. This might lead to breaking code or invalid results. Use at your own risk. For more info please refer to:\n",
      "https://scikit-learn.org/stable/model_persistence.html#security-maintainability-limitations\n",
      "  warnings.warn(\n"
     ]
    },
    {
     "name": "stdout",
     "output_type": "stream",
     "text": [
      "Loading sigma8 emulator...\n",
      "Sigma8 emulator loaded in memory.\n",
      "Loading linear emulator...\n"
     ]
    },
    {
     "name": "stderr",
     "output_type": "stream",
     "text": [
      "/dipc/dlopez/.conda/envs/VE_torch/lib/python3.9/site-packages/sklearn/base.py:348: InconsistentVersionWarning: Trying to unpickle estimator PCA from version 1.0 when using version 1.3.2. This might lead to breaking code or invalid results. Use at your own risk. For more info please refer to:\n",
      "https://scikit-learn.org/stable/model_persistence.html#security-maintainability-limitations\n",
      "  warnings.warn(\n",
      "/dipc/dlopez/.conda/envs/VE_torch/lib/python3.9/site-packages/sklearn/base.py:348: InconsistentVersionWarning: Trying to unpickle estimator StandardScaler from version 1.0 when using version 1.3.2. This might lead to breaking code or invalid results. Use at your own risk. For more info please refer to:\n",
      "https://scikit-learn.org/stable/model_persistence.html#security-maintainability-limitations\n",
      "  warnings.warn(\n",
      "/dipc/dlopez/.conda/envs/VE_torch/lib/python3.9/site-packages/sklearn/base.py:348: InconsistentVersionWarning: Trying to unpickle estimator PCA from version 1.0 when using version 1.3.2. This might lead to breaking code or invalid results. Use at your own risk. For more info please refer to:\n",
      "https://scikit-learn.org/stable/model_persistence.html#security-maintainability-limitations\n",
      "  warnings.warn(\n",
      "/dipc/dlopez/.conda/envs/VE_torch/lib/python3.9/site-packages/sklearn/base.py:348: InconsistentVersionWarning: Trying to unpickle estimator StandardScaler from version 1.0 when using version 1.3.2. This might lead to breaking code or invalid results. Use at your own risk. For more info please refer to:\n",
      "https://scikit-learn.org/stable/model_persistence.html#security-maintainability-limitations\n",
      "  warnings.warn(\n"
     ]
    },
    {
     "name": "stdout",
     "output_type": "stream",
     "text": [
      "Linear emulator loaded in memory.\n",
      "Loading no-wiggles emulator...\n",
      "No-wiggles emulator loaded in memory.\n",
      "Loading non-linear emulator...\n"
     ]
    },
    {
     "name": "stderr",
     "output_type": "stream",
     "text": [
      "/dipc/dlopez/.conda/envs/VE_torch/lib/python3.9/site-packages/sklearn/base.py:348: InconsistentVersionWarning: Trying to unpickle estimator StandardScaler from version 1.0.2 when using version 1.3.2. This might lead to breaking code or invalid results. Use at your own risk. For more info please refer to:\n",
      "https://scikit-learn.org/stable/model_persistence.html#security-maintainability-limitations\n",
      "  warnings.warn(\n",
      "/dipc/dlopez/.conda/envs/VE_torch/lib/python3.9/site-packages/sklearn/base.py:348: InconsistentVersionWarning: Trying to unpickle estimator StandardScaler from version 0.22.1 when using version 1.3.2. This might lead to breaking code or invalid results. Use at your own risk. For more info please refer to:\n",
      "https://scikit-learn.org/stable/model_persistence.html#security-maintainability-limitations\n",
      "  warnings.warn(\n",
      "/dipc/dlopez/.conda/envs/VE_torch/lib/python3.9/site-packages/sklearn/base.py:348: InconsistentVersionWarning: Trying to unpickle estimator PCA from version 0.22.1 when using version 1.3.2. This might lead to breaking code or invalid results. Use at your own risk. For more info please refer to:\n",
      "https://scikit-learn.org/stable/model_persistence.html#security-maintainability-limitations\n",
      "  warnings.warn(\n"
     ]
    },
    {
     "name": "stdout",
     "output_type": "stream",
     "text": [
      "Nonlinear emulator loaded in memory.\n",
      "Loading Baryonic Emulator...\n",
      "Baryonic Emulator loaded in memory.\n"
     ]
    },
    {
     "name": "stderr",
     "output_type": "stream",
     "text": [
      "/dipc/dlopez/.conda/envs/VE_torch/lib/python3.9/site-packages/sklearn/base.py:348: InconsistentVersionWarning: Trying to unpickle estimator StandardScaler from version 0.23.2 when using version 1.3.2. This might lead to breaking code or invalid results. Use at your own risk. For more info please refer to:\n",
      "https://scikit-learn.org/stable/model_persistence.html#security-maintainability-limitations\n",
      "  warnings.warn(\n",
      "/dipc/dlopez/.conda/envs/VE_torch/lib/python3.9/site-packages/sklearn/base.py:348: InconsistentVersionWarning: Trying to unpickle estimator PCA from version 0.23.2 when using version 1.3.2. This might lead to breaking code or invalid results. Use at your own risk. For more info please refer to:\n",
      "https://scikit-learn.org/stable/model_persistence.html#security-maintainability-limitations\n",
      "  warnings.warn(\n"
     ]
    },
    {
     "name": "stdout",
     "output_type": "stream",
     "text": [
      "Loading sigma8 emulator...\n",
      "Sigma8 emulator loaded in memory.\n",
      "Loading linear emulator...\n"
     ]
    },
    {
     "name": "stderr",
     "output_type": "stream",
     "text": [
      "/dipc/dlopez/.conda/envs/VE_torch/lib/python3.9/site-packages/sklearn/base.py:348: InconsistentVersionWarning: Trying to unpickle estimator PCA from version 1.0 when using version 1.3.2. This might lead to breaking code or invalid results. Use at your own risk. For more info please refer to:\n",
      "https://scikit-learn.org/stable/model_persistence.html#security-maintainability-limitations\n",
      "  warnings.warn(\n",
      "/dipc/dlopez/.conda/envs/VE_torch/lib/python3.9/site-packages/sklearn/base.py:348: InconsistentVersionWarning: Trying to unpickle estimator StandardScaler from version 1.0 when using version 1.3.2. This might lead to breaking code or invalid results. Use at your own risk. For more info please refer to:\n",
      "https://scikit-learn.org/stable/model_persistence.html#security-maintainability-limitations\n",
      "  warnings.warn(\n",
      "/dipc/dlopez/.conda/envs/VE_torch/lib/python3.9/site-packages/sklearn/base.py:348: InconsistentVersionWarning: Trying to unpickle estimator PCA from version 1.0 when using version 1.3.2. This might lead to breaking code or invalid results. Use at your own risk. For more info please refer to:\n",
      "https://scikit-learn.org/stable/model_persistence.html#security-maintainability-limitations\n",
      "  warnings.warn(\n",
      "/dipc/dlopez/.conda/envs/VE_torch/lib/python3.9/site-packages/sklearn/base.py:348: InconsistentVersionWarning: Trying to unpickle estimator StandardScaler from version 1.0 when using version 1.3.2. This might lead to breaking code or invalid results. Use at your own risk. For more info please refer to:\n",
      "https://scikit-learn.org/stable/model_persistence.html#security-maintainability-limitations\n",
      "  warnings.warn(\n"
     ]
    },
    {
     "name": "stdout",
     "output_type": "stream",
     "text": [
      "Linear emulator loaded in memory.\n",
      "Loading no-wiggles emulator...\n",
      "No-wiggles emulator loaded in memory.\n",
      "Loading non-linear emulator...\n"
     ]
    },
    {
     "name": "stderr",
     "output_type": "stream",
     "text": [
      "/dipc/dlopez/.conda/envs/VE_torch/lib/python3.9/site-packages/sklearn/base.py:348: InconsistentVersionWarning: Trying to unpickle estimator StandardScaler from version 1.0.2 when using version 1.3.2. This might lead to breaking code or invalid results. Use at your own risk. For more info please refer to:\n",
      "https://scikit-learn.org/stable/model_persistence.html#security-maintainability-limitations\n",
      "  warnings.warn(\n",
      "/dipc/dlopez/.conda/envs/VE_torch/lib/python3.9/site-packages/sklearn/base.py:348: InconsistentVersionWarning: Trying to unpickle estimator StandardScaler from version 0.22.1 when using version 1.3.2. This might lead to breaking code or invalid results. Use at your own risk. For more info please refer to:\n",
      "https://scikit-learn.org/stable/model_persistence.html#security-maintainability-limitations\n",
      "  warnings.warn(\n",
      "/dipc/dlopez/.conda/envs/VE_torch/lib/python3.9/site-packages/sklearn/base.py:348: InconsistentVersionWarning: Trying to unpickle estimator PCA from version 0.22.1 when using version 1.3.2. This might lead to breaking code or invalid results. Use at your own risk. For more info please refer to:\n",
      "https://scikit-learn.org/stable/model_persistence.html#security-maintainability-limitations\n",
      "  warnings.warn(\n"
     ]
    },
    {
     "name": "stdout",
     "output_type": "stream",
     "text": [
      "Nonlinear emulator loaded in memory.\n",
      "Loading Baryonic Emulator...\n",
      "Baryonic Emulator loaded in memory.\n"
     ]
    },
    {
     "name": "stderr",
     "output_type": "stream",
     "text": [
      "/dipc/dlopez/.conda/envs/VE_torch/lib/python3.9/site-packages/sklearn/base.py:348: InconsistentVersionWarning: Trying to unpickle estimator StandardScaler from version 0.23.2 when using version 1.3.2. This might lead to breaking code or invalid results. Use at your own risk. For more info please refer to:\n",
      "https://scikit-learn.org/stable/model_persistence.html#security-maintainability-limitations\n",
      "  warnings.warn(\n",
      "/dipc/dlopez/.conda/envs/VE_torch/lib/python3.9/site-packages/sklearn/base.py:348: InconsistentVersionWarning: Trying to unpickle estimator PCA from version 0.23.2 when using version 1.3.2. This might lead to breaking code or invalid results. Use at your own risk. For more info please refer to:\n",
      "https://scikit-learn.org/stable/model_persistence.html#security-maintainability-limitations\n",
      "  warnings.warn(\n"
     ]
    },
    {
     "name": "stdout",
     "output_type": "stream",
     "text": [
      "Loading sigma8 emulator...\n",
      "Sigma8 emulator loaded in memory.\n",
      "Loading linear emulator...\n"
     ]
    },
    {
     "name": "stderr",
     "output_type": "stream",
     "text": [
      "/dipc/dlopez/.conda/envs/VE_torch/lib/python3.9/site-packages/sklearn/base.py:348: InconsistentVersionWarning: Trying to unpickle estimator PCA from version 1.0 when using version 1.3.2. This might lead to breaking code or invalid results. Use at your own risk. For more info please refer to:\n",
      "https://scikit-learn.org/stable/model_persistence.html#security-maintainability-limitations\n",
      "  warnings.warn(\n",
      "/dipc/dlopez/.conda/envs/VE_torch/lib/python3.9/site-packages/sklearn/base.py:348: InconsistentVersionWarning: Trying to unpickle estimator StandardScaler from version 1.0 when using version 1.3.2. This might lead to breaking code or invalid results. Use at your own risk. For more info please refer to:\n",
      "https://scikit-learn.org/stable/model_persistence.html#security-maintainability-limitations\n",
      "  warnings.warn(\n",
      "/dipc/dlopez/.conda/envs/VE_torch/lib/python3.9/site-packages/sklearn/base.py:348: InconsistentVersionWarning: Trying to unpickle estimator PCA from version 1.0 when using version 1.3.2. This might lead to breaking code or invalid results. Use at your own risk. For more info please refer to:\n",
      "https://scikit-learn.org/stable/model_persistence.html#security-maintainability-limitations\n",
      "  warnings.warn(\n",
      "/dipc/dlopez/.conda/envs/VE_torch/lib/python3.9/site-packages/sklearn/base.py:348: InconsistentVersionWarning: Trying to unpickle estimator StandardScaler from version 1.0 when using version 1.3.2. This might lead to breaking code or invalid results. Use at your own risk. For more info please refer to:\n",
      "https://scikit-learn.org/stable/model_persistence.html#security-maintainability-limitations\n",
      "  warnings.warn(\n"
     ]
    },
    {
     "name": "stdout",
     "output_type": "stream",
     "text": [
      "Linear emulator loaded in memory.\n",
      "Loading no-wiggles emulator...\n"
     ]
    },
    {
     "name": "stderr",
     "output_type": "stream",
     "text": [
      "/dipc/dlopez/.conda/envs/VE_torch/lib/python3.9/site-packages/sklearn/base.py:348: InconsistentVersionWarning: Trying to unpickle estimator StandardScaler from version 1.0.2 when using version 1.3.2. This might lead to breaking code or invalid results. Use at your own risk. For more info please refer to:\n",
      "https://scikit-learn.org/stable/model_persistence.html#security-maintainability-limitations\n",
      "  warnings.warn(\n",
      "/dipc/dlopez/.conda/envs/VE_torch/lib/python3.9/site-packages/sklearn/base.py:348: InconsistentVersionWarning: Trying to unpickle estimator StandardScaler from version 0.22.1 when using version 1.3.2. This might lead to breaking code or invalid results. Use at your own risk. For more info please refer to:\n",
      "https://scikit-learn.org/stable/model_persistence.html#security-maintainability-limitations\n",
      "  warnings.warn(\n",
      "/dipc/dlopez/.conda/envs/VE_torch/lib/python3.9/site-packages/sklearn/base.py:348: InconsistentVersionWarning: Trying to unpickle estimator PCA from version 0.22.1 when using version 1.3.2. This might lead to breaking code or invalid results. Use at your own risk. For more info please refer to:\n",
      "https://scikit-learn.org/stable/model_persistence.html#security-maintainability-limitations\n",
      "  warnings.warn(\n"
     ]
    },
    {
     "name": "stdout",
     "output_type": "stream",
     "text": [
      "No-wiggles emulator loaded in memory.\n",
      "Loading non-linear emulator...\n",
      "Nonlinear emulator loaded in memory.\n",
      "Loading Baryonic Emulator...\n"
     ]
    },
    {
     "name": "stderr",
     "output_type": "stream",
     "text": [
      "/dipc/dlopez/.conda/envs/VE_torch/lib/python3.9/site-packages/sklearn/base.py:348: InconsistentVersionWarning: Trying to unpickle estimator StandardScaler from version 0.23.2 when using version 1.3.2. This might lead to breaking code or invalid results. Use at your own risk. For more info please refer to:\n",
      "https://scikit-learn.org/stable/model_persistence.html#security-maintainability-limitations\n",
      "  warnings.warn(\n",
      "/dipc/dlopez/.conda/envs/VE_torch/lib/python3.9/site-packages/sklearn/base.py:348: InconsistentVersionWarning: Trying to unpickle estimator PCA from version 0.23.2 when using version 1.3.2. This might lead to breaking code or invalid results. Use at your own risk. For more info please refer to:\n",
      "https://scikit-learn.org/stable/model_persistence.html#security-maintainability-limitations\n",
      "  warnings.warn(\n"
     ]
    },
    {
     "name": "stdout",
     "output_type": "stream",
     "text": [
      "Baryonic Emulator loaded in memory.\n",
      "Loading sigma8 emulator...\n",
      "Sigma8 emulator loaded in memory.\n",
      "Loading linear emulator...\n"
     ]
    },
    {
     "name": "stderr",
     "output_type": "stream",
     "text": [
      "/dipc/dlopez/.conda/envs/VE_torch/lib/python3.9/site-packages/sklearn/base.py:348: InconsistentVersionWarning: Trying to unpickle estimator PCA from version 1.0 when using version 1.3.2. This might lead to breaking code or invalid results. Use at your own risk. For more info please refer to:\n",
      "https://scikit-learn.org/stable/model_persistence.html#security-maintainability-limitations\n",
      "  warnings.warn(\n",
      "/dipc/dlopez/.conda/envs/VE_torch/lib/python3.9/site-packages/sklearn/base.py:348: InconsistentVersionWarning: Trying to unpickle estimator StandardScaler from version 1.0 when using version 1.3.2. This might lead to breaking code or invalid results. Use at your own risk. For more info please refer to:\n",
      "https://scikit-learn.org/stable/model_persistence.html#security-maintainability-limitations\n",
      "  warnings.warn(\n",
      "/dipc/dlopez/.conda/envs/VE_torch/lib/python3.9/site-packages/sklearn/base.py:348: InconsistentVersionWarning: Trying to unpickle estimator PCA from version 1.0 when using version 1.3.2. This might lead to breaking code or invalid results. Use at your own risk. For more info please refer to:\n",
      "https://scikit-learn.org/stable/model_persistence.html#security-maintainability-limitations\n",
      "  warnings.warn(\n",
      "/dipc/dlopez/.conda/envs/VE_torch/lib/python3.9/site-packages/sklearn/base.py:348: InconsistentVersionWarning: Trying to unpickle estimator StandardScaler from version 1.0 when using version 1.3.2. This might lead to breaking code or invalid results. Use at your own risk. For more info please refer to:\n",
      "https://scikit-learn.org/stable/model_persistence.html#security-maintainability-limitations\n",
      "  warnings.warn(\n"
     ]
    },
    {
     "name": "stdout",
     "output_type": "stream",
     "text": [
      "Linear emulator loaded in memory.\n",
      "Loading no-wiggles emulator...\n",
      "No-wiggles emulator loaded in memory.\n",
      "Loading non-linear emulator...\n"
     ]
    },
    {
     "name": "stderr",
     "output_type": "stream",
     "text": [
      "/dipc/dlopez/.conda/envs/VE_torch/lib/python3.9/site-packages/sklearn/base.py:348: InconsistentVersionWarning: Trying to unpickle estimator StandardScaler from version 1.0.2 when using version 1.3.2. This might lead to breaking code or invalid results. Use at your own risk. For more info please refer to:\n",
      "https://scikit-learn.org/stable/model_persistence.html#security-maintainability-limitations\n",
      "  warnings.warn(\n",
      "/dipc/dlopez/.conda/envs/VE_torch/lib/python3.9/site-packages/sklearn/base.py:348: InconsistentVersionWarning: Trying to unpickle estimator StandardScaler from version 0.22.1 when using version 1.3.2. This might lead to breaking code or invalid results. Use at your own risk. For more info please refer to:\n",
      "https://scikit-learn.org/stable/model_persistence.html#security-maintainability-limitations\n",
      "  warnings.warn(\n",
      "/dipc/dlopez/.conda/envs/VE_torch/lib/python3.9/site-packages/sklearn/base.py:348: InconsistentVersionWarning: Trying to unpickle estimator PCA from version 0.22.1 when using version 1.3.2. This might lead to breaking code or invalid results. Use at your own risk. For more info please refer to:\n",
      "https://scikit-learn.org/stable/model_persistence.html#security-maintainability-limitations\n",
      "  warnings.warn(\n"
     ]
    },
    {
     "name": "stdout",
     "output_type": "stream",
     "text": [
      "Nonlinear emulator loaded in memory.\n",
      "Loading Baryonic Emulator...\n",
      "Baryonic Emulator loaded in memory.\n"
     ]
    },
    {
     "name": "stderr",
     "output_type": "stream",
     "text": [
      "/dipc/dlopez/.conda/envs/VE_torch/lib/python3.9/site-packages/sklearn/base.py:348: InconsistentVersionWarning: Trying to unpickle estimator StandardScaler from version 0.23.2 when using version 1.3.2. This might lead to breaking code or invalid results. Use at your own risk. For more info please refer to:\n",
      "https://scikit-learn.org/stable/model_persistence.html#security-maintainability-limitations\n",
      "  warnings.warn(\n",
      "/dipc/dlopez/.conda/envs/VE_torch/lib/python3.9/site-packages/sklearn/base.py:348: InconsistentVersionWarning: Trying to unpickle estimator PCA from version 0.23.2 when using version 1.3.2. This might lead to breaking code or invalid results. Use at your own risk. For more info please refer to:\n",
      "https://scikit-learn.org/stable/model_persistence.html#security-maintainability-limitations\n",
      "  warnings.warn(\n"
     ]
    },
    {
     "name": "stdout",
     "output_type": "stream",
     "text": [
      "Loading sigma8 emulator...\n",
      "Sigma8 emulator loaded in memory.\n",
      "Loading linear emulator...\n"
     ]
    },
    {
     "name": "stderr",
     "output_type": "stream",
     "text": [
      "/dipc/dlopez/.conda/envs/VE_torch/lib/python3.9/site-packages/sklearn/base.py:348: InconsistentVersionWarning: Trying to unpickle estimator PCA from version 1.0 when using version 1.3.2. This might lead to breaking code or invalid results. Use at your own risk. For more info please refer to:\n",
      "https://scikit-learn.org/stable/model_persistence.html#security-maintainability-limitations\n",
      "  warnings.warn(\n",
      "/dipc/dlopez/.conda/envs/VE_torch/lib/python3.9/site-packages/sklearn/base.py:348: InconsistentVersionWarning: Trying to unpickle estimator StandardScaler from version 1.0 when using version 1.3.2. This might lead to breaking code or invalid results. Use at your own risk. For more info please refer to:\n",
      "https://scikit-learn.org/stable/model_persistence.html#security-maintainability-limitations\n",
      "  warnings.warn(\n",
      "/dipc/dlopez/.conda/envs/VE_torch/lib/python3.9/site-packages/sklearn/base.py:348: InconsistentVersionWarning: Trying to unpickle estimator PCA from version 1.0 when using version 1.3.2. This might lead to breaking code or invalid results. Use at your own risk. For more info please refer to:\n",
      "https://scikit-learn.org/stable/model_persistence.html#security-maintainability-limitations\n",
      "  warnings.warn(\n",
      "/dipc/dlopez/.conda/envs/VE_torch/lib/python3.9/site-packages/sklearn/base.py:348: InconsistentVersionWarning: Trying to unpickle estimator StandardScaler from version 1.0 when using version 1.3.2. This might lead to breaking code or invalid results. Use at your own risk. For more info please refer to:\n",
      "https://scikit-learn.org/stable/model_persistence.html#security-maintainability-limitations\n",
      "  warnings.warn(\n"
     ]
    },
    {
     "name": "stdout",
     "output_type": "stream",
     "text": [
      "Linear emulator loaded in memory.\n",
      "Loading no-wiggles emulator...\n",
      "No-wiggles emulator loaded in memory.\n",
      "Loading non-linear emulator...\n"
     ]
    },
    {
     "name": "stderr",
     "output_type": "stream",
     "text": [
      "/dipc/dlopez/.conda/envs/VE_torch/lib/python3.9/site-packages/sklearn/base.py:348: InconsistentVersionWarning: Trying to unpickle estimator StandardScaler from version 1.0.2 when using version 1.3.2. This might lead to breaking code or invalid results. Use at your own risk. For more info please refer to:\n",
      "https://scikit-learn.org/stable/model_persistence.html#security-maintainability-limitations\n",
      "  warnings.warn(\n",
      "/dipc/dlopez/.conda/envs/VE_torch/lib/python3.9/site-packages/sklearn/base.py:348: InconsistentVersionWarning: Trying to unpickle estimator StandardScaler from version 0.22.1 when using version 1.3.2. This might lead to breaking code or invalid results. Use at your own risk. For more info please refer to:\n",
      "https://scikit-learn.org/stable/model_persistence.html#security-maintainability-limitations\n",
      "  warnings.warn(\n",
      "/dipc/dlopez/.conda/envs/VE_torch/lib/python3.9/site-packages/sklearn/base.py:348: InconsistentVersionWarning: Trying to unpickle estimator PCA from version 0.22.1 when using version 1.3.2. This might lead to breaking code or invalid results. Use at your own risk. For more info please refer to:\n",
      "https://scikit-learn.org/stable/model_persistence.html#security-maintainability-limitations\n",
      "  warnings.warn(\n"
     ]
    },
    {
     "name": "stdout",
     "output_type": "stream",
     "text": [
      "Nonlinear emulator loaded in memory.\n",
      "Loading Baryonic Emulator...\n",
      "Baryonic Emulator loaded in memory.\n"
     ]
    },
    {
     "name": "stderr",
     "output_type": "stream",
     "text": [
      "/dipc/dlopez/.conda/envs/VE_torch/lib/python3.9/site-packages/sklearn/base.py:348: InconsistentVersionWarning: Trying to unpickle estimator StandardScaler from version 0.23.2 when using version 1.3.2. This might lead to breaking code or invalid results. Use at your own risk. For more info please refer to:\n",
      "https://scikit-learn.org/stable/model_persistence.html#security-maintainability-limitations\n",
      "  warnings.warn(\n",
      "/dipc/dlopez/.conda/envs/VE_torch/lib/python3.9/site-packages/sklearn/base.py:348: InconsistentVersionWarning: Trying to unpickle estimator PCA from version 0.23.2 when using version 1.3.2. This might lead to breaking code or invalid results. Use at your own risk. For more info please refer to:\n",
      "https://scikit-learn.org/stable/model_persistence.html#security-maintainability-limitations\n",
      "  warnings.warn(\n"
     ]
    },
    {
     "name": "stdout",
     "output_type": "stream",
     "text": [
      "Loading sigma8 emulator...\n",
      "Sigma8 emulator loaded in memory.\n",
      "Loading linear emulator...\n"
     ]
    },
    {
     "name": "stderr",
     "output_type": "stream",
     "text": [
      "/dipc/dlopez/.conda/envs/VE_torch/lib/python3.9/site-packages/sklearn/base.py:348: InconsistentVersionWarning: Trying to unpickle estimator PCA from version 1.0 when using version 1.3.2. This might lead to breaking code or invalid results. Use at your own risk. For more info please refer to:\n",
      "https://scikit-learn.org/stable/model_persistence.html#security-maintainability-limitations\n",
      "  warnings.warn(\n",
      "/dipc/dlopez/.conda/envs/VE_torch/lib/python3.9/site-packages/sklearn/base.py:348: InconsistentVersionWarning: Trying to unpickle estimator StandardScaler from version 1.0 when using version 1.3.2. This might lead to breaking code or invalid results. Use at your own risk. For more info please refer to:\n",
      "https://scikit-learn.org/stable/model_persistence.html#security-maintainability-limitations\n",
      "  warnings.warn(\n",
      "/dipc/dlopez/.conda/envs/VE_torch/lib/python3.9/site-packages/sklearn/base.py:348: InconsistentVersionWarning: Trying to unpickle estimator PCA from version 1.0 when using version 1.3.2. This might lead to breaking code or invalid results. Use at your own risk. For more info please refer to:\n",
      "https://scikit-learn.org/stable/model_persistence.html#security-maintainability-limitations\n",
      "  warnings.warn(\n",
      "/dipc/dlopez/.conda/envs/VE_torch/lib/python3.9/site-packages/sklearn/base.py:348: InconsistentVersionWarning: Trying to unpickle estimator StandardScaler from version 1.0 when using version 1.3.2. This might lead to breaking code or invalid results. Use at your own risk. For more info please refer to:\n",
      "https://scikit-learn.org/stable/model_persistence.html#security-maintainability-limitations\n",
      "  warnings.warn(\n"
     ]
    },
    {
     "name": "stdout",
     "output_type": "stream",
     "text": [
      "Linear emulator loaded in memory.\n",
      "Loading no-wiggles emulator...\n",
      "No-wiggles emulator loaded in memory.\n",
      "Loading non-linear emulator...\n"
     ]
    },
    {
     "name": "stderr",
     "output_type": "stream",
     "text": [
      "/dipc/dlopez/.conda/envs/VE_torch/lib/python3.9/site-packages/sklearn/base.py:348: InconsistentVersionWarning: Trying to unpickle estimator StandardScaler from version 1.0.2 when using version 1.3.2. This might lead to breaking code or invalid results. Use at your own risk. For more info please refer to:\n",
      "https://scikit-learn.org/stable/model_persistence.html#security-maintainability-limitations\n",
      "  warnings.warn(\n",
      "/dipc/dlopez/.conda/envs/VE_torch/lib/python3.9/site-packages/sklearn/base.py:348: InconsistentVersionWarning: Trying to unpickle estimator StandardScaler from version 0.22.1 when using version 1.3.2. This might lead to breaking code or invalid results. Use at your own risk. For more info please refer to:\n",
      "https://scikit-learn.org/stable/model_persistence.html#security-maintainability-limitations\n",
      "  warnings.warn(\n",
      "/dipc/dlopez/.conda/envs/VE_torch/lib/python3.9/site-packages/sklearn/base.py:348: InconsistentVersionWarning: Trying to unpickle estimator PCA from version 0.22.1 when using version 1.3.2. This might lead to breaking code or invalid results. Use at your own risk. For more info please refer to:\n",
      "https://scikit-learn.org/stable/model_persistence.html#security-maintainability-limitations\n",
      "  warnings.warn(\n"
     ]
    },
    {
     "name": "stdout",
     "output_type": "stream",
     "text": [
      "Nonlinear emulator loaded in memory.\n",
      "Loading Baryonic Emulator...\n",
      "Baryonic Emulator loaded in memory.\n"
     ]
    },
    {
     "name": "stderr",
     "output_type": "stream",
     "text": [
      "/dipc/dlopez/.conda/envs/VE_torch/lib/python3.9/site-packages/sklearn/base.py:348: InconsistentVersionWarning: Trying to unpickle estimator StandardScaler from version 0.23.2 when using version 1.3.2. This might lead to breaking code or invalid results. Use at your own risk. For more info please refer to:\n",
      "https://scikit-learn.org/stable/model_persistence.html#security-maintainability-limitations\n",
      "  warnings.warn(\n",
      "/dipc/dlopez/.conda/envs/VE_torch/lib/python3.9/site-packages/sklearn/base.py:348: InconsistentVersionWarning: Trying to unpickle estimator PCA from version 0.23.2 when using version 1.3.2. This might lead to breaking code or invalid results. Use at your own risk. For more info please refer to:\n",
      "https://scikit-learn.org/stable/model_persistence.html#security-maintainability-limitations\n",
      "  warnings.warn(\n"
     ]
    }
   ],
   "source": [
    "for ii in range(sample_fixed_baryon_models.shape[0]):\n",
    "    model_name = \"Model_fixed_\" + str(ii)\n",
    "    NN_samples_augs = 1\n",
    "    dict_bounds_augs = dict(\n",
    "        M_c       = sample_fixed_baryon_models[ii,0],\n",
    "        eta       = sample_fixed_baryon_models[ii,1],\n",
    "        beta      = sample_fixed_baryon_models[ii,2],\n",
    "        M1_z0_cen = sample_fixed_baryon_models[ii,3],\n",
    "        theta_out = sample_fixed_baryon_models[ii,4],\n",
    "        theta_inn = sample_fixed_baryon_models[ii,5],\n",
    "        M_inn     = sample_fixed_baryon_models[ii,6],\n",
    "    )\n",
    "    COSMOS[ds_mode][model_name], XX[ds_mode][model_name], AUG_PARAMS[ds_mode][model_name], EXTENDED_AUG_PARAMS[ds_mode][model_name] = cl_inference.preprocessing_tools.generate_baccoemu_dataset(\n",
    "        NN_samples_cosmo  = NN_samples_cosmo_val,\n",
    "        NN_samples_augs   = NN_samples_augs,\n",
    "        dict_bounds_cosmo = dict_bounds_cosmo_val,\n",
    "        dict_bounds_augs  = dict_bounds_augs,\n",
    "        seed              = seed_val,\n",
    "        path_save         = path_save,\n",
    "        model_name        = model_name,\n",
    "        kmax              = kmax, box=box\n",
    "    )"
   ]
  },
  {
   "cell_type": "markdown",
   "id": "26f6ea2e",
   "metadata": {},
   "source": [
    "# Generate test set"
   ]
  },
  {
   "cell_type": "code",
   "execution_count": 34,
   "id": "a9fce12b",
   "metadata": {},
   "outputs": [],
   "source": [
    "ds_mode = 'TEST'\n",
    "COSMOS[ds_mode] = {}\n",
    "XX[ds_mode] = {}\n",
    "AUG_PARAMS[ds_mode] = {}\n",
    "EXTENDED_AUG_PARAMS[ds_mode] = {}\n",
    "\n",
    "path_save = os.path.join(path_save_root, ds_mode)"
   ]
  },
  {
   "cell_type": "code",
   "execution_count": 35,
   "id": "c49ae5af",
   "metadata": {},
   "outputs": [
    {
     "name": "stdout",
     "output_type": "stream",
     "text": [
      "Loading sigma8 emulator...\n",
      "Sigma8 emulator loaded in memory.\n",
      "Loading linear emulator...\n"
     ]
    },
    {
     "name": "stderr",
     "output_type": "stream",
     "text": [
      "/dipc/dlopez/.conda/envs/VE_torch/lib/python3.9/site-packages/sklearn/base.py:348: InconsistentVersionWarning: Trying to unpickle estimator PCA from version 1.0 when using version 1.3.2. This might lead to breaking code or invalid results. Use at your own risk. For more info please refer to:\n",
      "https://scikit-learn.org/stable/model_persistence.html#security-maintainability-limitations\n",
      "  warnings.warn(\n",
      "/dipc/dlopez/.conda/envs/VE_torch/lib/python3.9/site-packages/sklearn/base.py:348: InconsistentVersionWarning: Trying to unpickle estimator StandardScaler from version 1.0 when using version 1.3.2. This might lead to breaking code or invalid results. Use at your own risk. For more info please refer to:\n",
      "https://scikit-learn.org/stable/model_persistence.html#security-maintainability-limitations\n",
      "  warnings.warn(\n",
      "/dipc/dlopez/.conda/envs/VE_torch/lib/python3.9/site-packages/sklearn/base.py:348: InconsistentVersionWarning: Trying to unpickle estimator PCA from version 1.0 when using version 1.3.2. This might lead to breaking code or invalid results. Use at your own risk. For more info please refer to:\n",
      "https://scikit-learn.org/stable/model_persistence.html#security-maintainability-limitations\n",
      "  warnings.warn(\n",
      "/dipc/dlopez/.conda/envs/VE_torch/lib/python3.9/site-packages/sklearn/base.py:348: InconsistentVersionWarning: Trying to unpickle estimator StandardScaler from version 1.0 when using version 1.3.2. This might lead to breaking code or invalid results. Use at your own risk. For more info please refer to:\n",
      "https://scikit-learn.org/stable/model_persistence.html#security-maintainability-limitations\n",
      "  warnings.warn(\n"
     ]
    },
    {
     "name": "stdout",
     "output_type": "stream",
     "text": [
      "Linear emulator loaded in memory.\n",
      "Loading no-wiggles emulator...\n",
      "No-wiggles emulator loaded in memory.\n",
      "Loading non-linear emulator...\n"
     ]
    },
    {
     "name": "stderr",
     "output_type": "stream",
     "text": [
      "/dipc/dlopez/.conda/envs/VE_torch/lib/python3.9/site-packages/sklearn/base.py:348: InconsistentVersionWarning: Trying to unpickle estimator StandardScaler from version 1.0.2 when using version 1.3.2. This might lead to breaking code or invalid results. Use at your own risk. For more info please refer to:\n",
      "https://scikit-learn.org/stable/model_persistence.html#security-maintainability-limitations\n",
      "  warnings.warn(\n",
      "/dipc/dlopez/.conda/envs/VE_torch/lib/python3.9/site-packages/sklearn/base.py:348: InconsistentVersionWarning: Trying to unpickle estimator StandardScaler from version 0.22.1 when using version 1.3.2. This might lead to breaking code or invalid results. Use at your own risk. For more info please refer to:\n",
      "https://scikit-learn.org/stable/model_persistence.html#security-maintainability-limitations\n",
      "  warnings.warn(\n",
      "/dipc/dlopez/.conda/envs/VE_torch/lib/python3.9/site-packages/sklearn/base.py:348: InconsistentVersionWarning: Trying to unpickle estimator PCA from version 0.22.1 when using version 1.3.2. This might lead to breaking code or invalid results. Use at your own risk. For more info please refer to:\n",
      "https://scikit-learn.org/stable/model_persistence.html#security-maintainability-limitations\n",
      "  warnings.warn(\n"
     ]
    },
    {
     "name": "stdout",
     "output_type": "stream",
     "text": [
      "Nonlinear emulator loaded in memory.\n",
      "Loading Baryonic Emulator...\n",
      "Baryonic Emulator loaded in memory.\n"
     ]
    },
    {
     "name": "stderr",
     "output_type": "stream",
     "text": [
      "/dipc/dlopez/.conda/envs/VE_torch/lib/python3.9/site-packages/sklearn/base.py:348: InconsistentVersionWarning: Trying to unpickle estimator StandardScaler from version 0.23.2 when using version 1.3.2. This might lead to breaking code or invalid results. Use at your own risk. For more info please refer to:\n",
      "https://scikit-learn.org/stable/model_persistence.html#security-maintainability-limitations\n",
      "  warnings.warn(\n",
      "/dipc/dlopez/.conda/envs/VE_torch/lib/python3.9/site-packages/sklearn/base.py:348: InconsistentVersionWarning: Trying to unpickle estimator PCA from version 0.23.2 when using version 1.3.2. This might lead to breaking code or invalid results. Use at your own risk. For more info please refer to:\n",
      "https://scikit-learn.org/stable/model_persistence.html#security-maintainability-limitations\n",
      "  warnings.warn(\n"
     ]
    }
   ],
   "source": [
    "model_name = \"Model_fixed_nl\"\n",
    "mode_baccoemu = \"nonlinear\"\n",
    "NN_samples_augs = 1\n",
    "COSMOS[ds_mode][model_name], XX[ds_mode][model_name], AUG_PARAMS[ds_mode][model_name], EXTENDED_AUG_PARAMS[ds_mode][model_name] = cl_inference.preprocessing_tools.generate_baccoemu_dataset(\n",
    "    NN_samples_cosmo  = NN_samples_cosmo_test,\n",
    "    NN_samples_augs   = NN_samples_augs,\n",
    "    dict_bounds_cosmo = dict_bounds_cosmo_test,\n",
    "    seed              = seed_test,\n",
    "    path_save         = path_save,\n",
    "    model_name        = model_name,\n",
    "    mode_baccoemu     = mode_baccoemu,\n",
    "    kmax              = kmax, box=box\n",
    ")"
   ]
  },
  {
   "cell_type": "code",
   "execution_count": 36,
   "id": "1ed5df6a",
   "metadata": {},
   "outputs": [
    {
     "name": "stdout",
     "output_type": "stream",
     "text": [
      "Loading sigma8 emulator...\n",
      "Sigma8 emulator loaded in memory.\n",
      "Loading linear emulator...\n"
     ]
    },
    {
     "name": "stderr",
     "output_type": "stream",
     "text": [
      "/dipc/dlopez/.conda/envs/VE_torch/lib/python3.9/site-packages/sklearn/base.py:348: InconsistentVersionWarning: Trying to unpickle estimator PCA from version 1.0 when using version 1.3.2. This might lead to breaking code or invalid results. Use at your own risk. For more info please refer to:\n",
      "https://scikit-learn.org/stable/model_persistence.html#security-maintainability-limitations\n",
      "  warnings.warn(\n",
      "/dipc/dlopez/.conda/envs/VE_torch/lib/python3.9/site-packages/sklearn/base.py:348: InconsistentVersionWarning: Trying to unpickle estimator StandardScaler from version 1.0 when using version 1.3.2. This might lead to breaking code or invalid results. Use at your own risk. For more info please refer to:\n",
      "https://scikit-learn.org/stable/model_persistence.html#security-maintainability-limitations\n",
      "  warnings.warn(\n",
      "/dipc/dlopez/.conda/envs/VE_torch/lib/python3.9/site-packages/sklearn/base.py:348: InconsistentVersionWarning: Trying to unpickle estimator PCA from version 1.0 when using version 1.3.2. This might lead to breaking code or invalid results. Use at your own risk. For more info please refer to:\n",
      "https://scikit-learn.org/stable/model_persistence.html#security-maintainability-limitations\n",
      "  warnings.warn(\n",
      "/dipc/dlopez/.conda/envs/VE_torch/lib/python3.9/site-packages/sklearn/base.py:348: InconsistentVersionWarning: Trying to unpickle estimator StandardScaler from version 1.0 when using version 1.3.2. This might lead to breaking code or invalid results. Use at your own risk. For more info please refer to:\n",
      "https://scikit-learn.org/stable/model_persistence.html#security-maintainability-limitations\n",
      "  warnings.warn(\n"
     ]
    },
    {
     "name": "stdout",
     "output_type": "stream",
     "text": [
      "Linear emulator loaded in memory.\n",
      "Loading no-wiggles emulator...\n"
     ]
    },
    {
     "name": "stderr",
     "output_type": "stream",
     "text": [
      "/dipc/dlopez/.conda/envs/VE_torch/lib/python3.9/site-packages/sklearn/base.py:348: InconsistentVersionWarning: Trying to unpickle estimator StandardScaler from version 1.0.2 when using version 1.3.2. This might lead to breaking code or invalid results. Use at your own risk. For more info please refer to:\n",
      "https://scikit-learn.org/stable/model_persistence.html#security-maintainability-limitations\n",
      "  warnings.warn(\n",
      "/dipc/dlopez/.conda/envs/VE_torch/lib/python3.9/site-packages/sklearn/base.py:348: InconsistentVersionWarning: Trying to unpickle estimator StandardScaler from version 0.22.1 when using version 1.3.2. This might lead to breaking code or invalid results. Use at your own risk. For more info please refer to:\n",
      "https://scikit-learn.org/stable/model_persistence.html#security-maintainability-limitations\n",
      "  warnings.warn(\n",
      "/dipc/dlopez/.conda/envs/VE_torch/lib/python3.9/site-packages/sklearn/base.py:348: InconsistentVersionWarning: Trying to unpickle estimator PCA from version 0.22.1 when using version 1.3.2. This might lead to breaking code or invalid results. Use at your own risk. For more info please refer to:\n",
      "https://scikit-learn.org/stable/model_persistence.html#security-maintainability-limitations\n",
      "  warnings.warn(\n"
     ]
    },
    {
     "name": "stdout",
     "output_type": "stream",
     "text": [
      "No-wiggles emulator loaded in memory.\n",
      "Loading non-linear emulator...\n",
      "Nonlinear emulator loaded in memory.\n",
      "Loading Baryonic Emulator...\n"
     ]
    },
    {
     "name": "stderr",
     "output_type": "stream",
     "text": [
      "/dipc/dlopez/.conda/envs/VE_torch/lib/python3.9/site-packages/sklearn/base.py:348: InconsistentVersionWarning: Trying to unpickle estimator StandardScaler from version 0.23.2 when using version 1.3.2. This might lead to breaking code or invalid results. Use at your own risk. For more info please refer to:\n",
      "https://scikit-learn.org/stable/model_persistence.html#security-maintainability-limitations\n",
      "  warnings.warn(\n",
      "/dipc/dlopez/.conda/envs/VE_torch/lib/python3.9/site-packages/sklearn/base.py:348: InconsistentVersionWarning: Trying to unpickle estimator PCA from version 0.23.2 when using version 1.3.2. This might lead to breaking code or invalid results. Use at your own risk. For more info please refer to:\n",
      "https://scikit-learn.org/stable/model_persistence.html#security-maintainability-limitations\n",
      "  warnings.warn(\n"
     ]
    },
    {
     "name": "stdout",
     "output_type": "stream",
     "text": [
      "Baryonic Emulator loaded in memory.\n"
     ]
    }
   ],
   "source": [
    "model_name = \"Model_vary_all\"\n",
    "NN_samples_augs = 20\n",
    "COSMOS[ds_mode][model_name], XX[ds_mode][model_name], AUG_PARAMS[ds_mode][model_name], EXTENDED_AUG_PARAMS[ds_mode][model_name] = cl_inference.preprocessing_tools.generate_baccoemu_dataset(\n",
    "    NN_samples_cosmo  = NN_samples_cosmo_test,\n",
    "    NN_samples_augs   = NN_samples_augs,\n",
    "    dict_bounds_cosmo = dict_bounds_cosmo_test,\n",
    "    seed              = seed_test,\n",
    "    path_save         = path_save,\n",
    "    model_name        = model_name,\n",
    "    kmax              = kmax, box=box\n",
    ")"
   ]
  },
  {
   "cell_type": "code",
   "execution_count": 37,
   "id": "2963a306",
   "metadata": {},
   "outputs": [
    {
     "name": "stdout",
     "output_type": "stream",
     "text": [
      "Loading sigma8 emulator...\n",
      "Sigma8 emulator loaded in memory.\n",
      "Loading linear emulator...\n"
     ]
    },
    {
     "name": "stderr",
     "output_type": "stream",
     "text": [
      "/dipc/dlopez/.conda/envs/VE_torch/lib/python3.9/site-packages/sklearn/base.py:348: InconsistentVersionWarning: Trying to unpickle estimator PCA from version 1.0 when using version 1.3.2. This might lead to breaking code or invalid results. Use at your own risk. For more info please refer to:\n",
      "https://scikit-learn.org/stable/model_persistence.html#security-maintainability-limitations\n",
      "  warnings.warn(\n",
      "/dipc/dlopez/.conda/envs/VE_torch/lib/python3.9/site-packages/sklearn/base.py:348: InconsistentVersionWarning: Trying to unpickle estimator StandardScaler from version 1.0 when using version 1.3.2. This might lead to breaking code or invalid results. Use at your own risk. For more info please refer to:\n",
      "https://scikit-learn.org/stable/model_persistence.html#security-maintainability-limitations\n",
      "  warnings.warn(\n",
      "/dipc/dlopez/.conda/envs/VE_torch/lib/python3.9/site-packages/sklearn/base.py:348: InconsistentVersionWarning: Trying to unpickle estimator PCA from version 1.0 when using version 1.3.2. This might lead to breaking code or invalid results. Use at your own risk. For more info please refer to:\n",
      "https://scikit-learn.org/stable/model_persistence.html#security-maintainability-limitations\n",
      "  warnings.warn(\n",
      "/dipc/dlopez/.conda/envs/VE_torch/lib/python3.9/site-packages/sklearn/base.py:348: InconsistentVersionWarning: Trying to unpickle estimator StandardScaler from version 1.0 when using version 1.3.2. This might lead to breaking code or invalid results. Use at your own risk. For more info please refer to:\n",
      "https://scikit-learn.org/stable/model_persistence.html#security-maintainability-limitations\n",
      "  warnings.warn(\n"
     ]
    },
    {
     "name": "stdout",
     "output_type": "stream",
     "text": [
      "Linear emulator loaded in memory.\n",
      "Loading no-wiggles emulator...\n"
     ]
    },
    {
     "name": "stderr",
     "output_type": "stream",
     "text": [
      "/dipc/dlopez/.conda/envs/VE_torch/lib/python3.9/site-packages/sklearn/base.py:348: InconsistentVersionWarning: Trying to unpickle estimator StandardScaler from version 1.0.2 when using version 1.3.2. This might lead to breaking code or invalid results. Use at your own risk. For more info please refer to:\n",
      "https://scikit-learn.org/stable/model_persistence.html#security-maintainability-limitations\n",
      "  warnings.warn(\n",
      "/dipc/dlopez/.conda/envs/VE_torch/lib/python3.9/site-packages/sklearn/base.py:348: InconsistentVersionWarning: Trying to unpickle estimator StandardScaler from version 0.22.1 when using version 1.3.2. This might lead to breaking code or invalid results. Use at your own risk. For more info please refer to:\n",
      "https://scikit-learn.org/stable/model_persistence.html#security-maintainability-limitations\n",
      "  warnings.warn(\n",
      "/dipc/dlopez/.conda/envs/VE_torch/lib/python3.9/site-packages/sklearn/base.py:348: InconsistentVersionWarning: Trying to unpickle estimator PCA from version 0.22.1 when using version 1.3.2. This might lead to breaking code or invalid results. Use at your own risk. For more info please refer to:\n",
      "https://scikit-learn.org/stable/model_persistence.html#security-maintainability-limitations\n",
      "  warnings.warn(\n"
     ]
    },
    {
     "name": "stdout",
     "output_type": "stream",
     "text": [
      "No-wiggles emulator loaded in memory.\n",
      "Loading non-linear emulator...\n",
      "Nonlinear emulator loaded in memory.\n",
      "Loading Baryonic Emulator...\n"
     ]
    },
    {
     "name": "stderr",
     "output_type": "stream",
     "text": [
      "/dipc/dlopez/.conda/envs/VE_torch/lib/python3.9/site-packages/sklearn/base.py:348: InconsistentVersionWarning: Trying to unpickle estimator StandardScaler from version 0.23.2 when using version 1.3.2. This might lead to breaking code or invalid results. Use at your own risk. For more info please refer to:\n",
      "https://scikit-learn.org/stable/model_persistence.html#security-maintainability-limitations\n",
      "  warnings.warn(\n",
      "/dipc/dlopez/.conda/envs/VE_torch/lib/python3.9/site-packages/sklearn/base.py:348: InconsistentVersionWarning: Trying to unpickle estimator PCA from version 0.23.2 when using version 1.3.2. This might lead to breaking code or invalid results. Use at your own risk. For more info please refer to:\n",
      "https://scikit-learn.org/stable/model_persistence.html#security-maintainability-limitations\n",
      "  warnings.warn(\n"
     ]
    },
    {
     "name": "stdout",
     "output_type": "stream",
     "text": [
      "Baryonic Emulator loaded in memory.\n"
     ]
    }
   ],
   "source": [
    "hydro_key = 'bahamas'\n",
    "model_name = \"Model_fixed_\"+hydro_key\n",
    "NN_samples_augs = 1\n",
    "COSMOS[ds_mode][model_name], XX[ds_mode][model_name], AUG_PARAMS[ds_mode][model_name], EXTENDED_AUG_PARAMS[ds_mode][model_name] = cl_inference.preprocessing_tools.generate_baccoemu_dataset(\n",
    "    NN_samples_cosmo  = NN_samples_cosmo_test,\n",
    "    NN_samples_augs   = NN_samples_augs,\n",
    "    dict_bounds_cosmo = dict_bounds_cosmo_test,\n",
    "    dict_bounds_augs  = dict_bounds_augs_bahamas,\n",
    "    seed              = seed_test,\n",
    "    path_save         = path_save,\n",
    "    model_name        = model_name,\n",
    "    kmax              = kmax, box=box\n",
    ")"
   ]
  },
  {
   "cell_type": "code",
   "execution_count": 38,
   "id": "52b26471",
   "metadata": {},
   "outputs": [
    {
     "name": "stdout",
     "output_type": "stream",
     "text": [
      "Loading sigma8 emulator...\n",
      "Sigma8 emulator loaded in memory.\n",
      "Loading linear emulator...\n"
     ]
    },
    {
     "name": "stderr",
     "output_type": "stream",
     "text": [
      "/dipc/dlopez/.conda/envs/VE_torch/lib/python3.9/site-packages/sklearn/base.py:348: InconsistentVersionWarning: Trying to unpickle estimator PCA from version 1.0 when using version 1.3.2. This might lead to breaking code or invalid results. Use at your own risk. For more info please refer to:\n",
      "https://scikit-learn.org/stable/model_persistence.html#security-maintainability-limitations\n",
      "  warnings.warn(\n",
      "/dipc/dlopez/.conda/envs/VE_torch/lib/python3.9/site-packages/sklearn/base.py:348: InconsistentVersionWarning: Trying to unpickle estimator StandardScaler from version 1.0 when using version 1.3.2. This might lead to breaking code or invalid results. Use at your own risk. For more info please refer to:\n",
      "https://scikit-learn.org/stable/model_persistence.html#security-maintainability-limitations\n",
      "  warnings.warn(\n",
      "/dipc/dlopez/.conda/envs/VE_torch/lib/python3.9/site-packages/sklearn/base.py:348: InconsistentVersionWarning: Trying to unpickle estimator PCA from version 1.0 when using version 1.3.2. This might lead to breaking code or invalid results. Use at your own risk. For more info please refer to:\n",
      "https://scikit-learn.org/stable/model_persistence.html#security-maintainability-limitations\n",
      "  warnings.warn(\n",
      "/dipc/dlopez/.conda/envs/VE_torch/lib/python3.9/site-packages/sklearn/base.py:348: InconsistentVersionWarning: Trying to unpickle estimator StandardScaler from version 1.0 when using version 1.3.2. This might lead to breaking code or invalid results. Use at your own risk. For more info please refer to:\n",
      "https://scikit-learn.org/stable/model_persistence.html#security-maintainability-limitations\n",
      "  warnings.warn(\n"
     ]
    },
    {
     "name": "stdout",
     "output_type": "stream",
     "text": [
      "Linear emulator loaded in memory.\n",
      "Loading no-wiggles emulator...\n",
      "No-wiggles emulator loaded in memory.\n",
      "Loading non-linear emulator...\n"
     ]
    },
    {
     "name": "stderr",
     "output_type": "stream",
     "text": [
      "/dipc/dlopez/.conda/envs/VE_torch/lib/python3.9/site-packages/sklearn/base.py:348: InconsistentVersionWarning: Trying to unpickle estimator StandardScaler from version 1.0.2 when using version 1.3.2. This might lead to breaking code or invalid results. Use at your own risk. For more info please refer to:\n",
      "https://scikit-learn.org/stable/model_persistence.html#security-maintainability-limitations\n",
      "  warnings.warn(\n",
      "/dipc/dlopez/.conda/envs/VE_torch/lib/python3.9/site-packages/sklearn/base.py:348: InconsistentVersionWarning: Trying to unpickle estimator StandardScaler from version 0.22.1 when using version 1.3.2. This might lead to breaking code or invalid results. Use at your own risk. For more info please refer to:\n",
      "https://scikit-learn.org/stable/model_persistence.html#security-maintainability-limitations\n",
      "  warnings.warn(\n",
      "/dipc/dlopez/.conda/envs/VE_torch/lib/python3.9/site-packages/sklearn/base.py:348: InconsistentVersionWarning: Trying to unpickle estimator PCA from version 0.22.1 when using version 1.3.2. This might lead to breaking code or invalid results. Use at your own risk. For more info please refer to:\n",
      "https://scikit-learn.org/stable/model_persistence.html#security-maintainability-limitations\n",
      "  warnings.warn(\n"
     ]
    },
    {
     "name": "stdout",
     "output_type": "stream",
     "text": [
      "Nonlinear emulator loaded in memory.\n",
      "Loading Baryonic Emulator...\n",
      "Baryonic Emulator loaded in memory.\n"
     ]
    },
    {
     "name": "stderr",
     "output_type": "stream",
     "text": [
      "/dipc/dlopez/.conda/envs/VE_torch/lib/python3.9/site-packages/sklearn/base.py:348: InconsistentVersionWarning: Trying to unpickle estimator StandardScaler from version 0.23.2 when using version 1.3.2. This might lead to breaking code or invalid results. Use at your own risk. For more info please refer to:\n",
      "https://scikit-learn.org/stable/model_persistence.html#security-maintainability-limitations\n",
      "  warnings.warn(\n",
      "/dipc/dlopez/.conda/envs/VE_torch/lib/python3.9/site-packages/sklearn/base.py:348: InconsistentVersionWarning: Trying to unpickle estimator PCA from version 0.23.2 when using version 1.3.2. This might lead to breaking code or invalid results. Use at your own risk. For more info please refer to:\n",
      "https://scikit-learn.org/stable/model_persistence.html#security-maintainability-limitations\n",
      "  warnings.warn(\n"
     ]
    }
   ],
   "source": [
    "hydro_key = 'eagle'\n",
    "model_name = \"Model_fixed_\"+hydro_key\n",
    "NN_samples_augs = 1\n",
    "COSMOS[ds_mode][model_name], XX[ds_mode][model_name], AUG_PARAMS[ds_mode][model_name], EXTENDED_AUG_PARAMS[ds_mode][model_name] = cl_inference.preprocessing_tools.generate_baccoemu_dataset(\n",
    "    NN_samples_cosmo  = NN_samples_cosmo_test,\n",
    "    NN_samples_augs   = NN_samples_augs,\n",
    "    dict_bounds_cosmo = dict_bounds_cosmo_test,\n",
    "    dict_bounds_augs  = dict_bounds_augs_eagle,\n",
    "    seed              = seed_test,\n",
    "    path_save         = path_save,\n",
    "    model_name        = model_name,\n",
    "    kmax              = kmax, box=box\n",
    ")"
   ]
  },
  {
   "cell_type": "code",
   "execution_count": 39,
   "id": "1a628c90",
   "metadata": {},
   "outputs": [
    {
     "name": "stdout",
     "output_type": "stream",
     "text": [
      "Loading sigma8 emulator...\n",
      "Sigma8 emulator loaded in memory.\n",
      "Loading linear emulator...\n"
     ]
    },
    {
     "name": "stderr",
     "output_type": "stream",
     "text": [
      "/dipc/dlopez/.conda/envs/VE_torch/lib/python3.9/site-packages/sklearn/base.py:348: InconsistentVersionWarning: Trying to unpickle estimator PCA from version 1.0 when using version 1.3.2. This might lead to breaking code or invalid results. Use at your own risk. For more info please refer to:\n",
      "https://scikit-learn.org/stable/model_persistence.html#security-maintainability-limitations\n",
      "  warnings.warn(\n",
      "/dipc/dlopez/.conda/envs/VE_torch/lib/python3.9/site-packages/sklearn/base.py:348: InconsistentVersionWarning: Trying to unpickle estimator StandardScaler from version 1.0 when using version 1.3.2. This might lead to breaking code or invalid results. Use at your own risk. For more info please refer to:\n",
      "https://scikit-learn.org/stable/model_persistence.html#security-maintainability-limitations\n",
      "  warnings.warn(\n",
      "/dipc/dlopez/.conda/envs/VE_torch/lib/python3.9/site-packages/sklearn/base.py:348: InconsistentVersionWarning: Trying to unpickle estimator PCA from version 1.0 when using version 1.3.2. This might lead to breaking code or invalid results. Use at your own risk. For more info please refer to:\n",
      "https://scikit-learn.org/stable/model_persistence.html#security-maintainability-limitations\n",
      "  warnings.warn(\n",
      "/dipc/dlopez/.conda/envs/VE_torch/lib/python3.9/site-packages/sklearn/base.py:348: InconsistentVersionWarning: Trying to unpickle estimator StandardScaler from version 1.0 when using version 1.3.2. This might lead to breaking code or invalid results. Use at your own risk. For more info please refer to:\n",
      "https://scikit-learn.org/stable/model_persistence.html#security-maintainability-limitations\n",
      "  warnings.warn(\n"
     ]
    },
    {
     "name": "stdout",
     "output_type": "stream",
     "text": [
      "Linear emulator loaded in memory.\n",
      "Loading no-wiggles emulator...\n",
      "No-wiggles emulator loaded in memory.\n",
      "Loading non-linear emulator...\n"
     ]
    },
    {
     "name": "stderr",
     "output_type": "stream",
     "text": [
      "/dipc/dlopez/.conda/envs/VE_torch/lib/python3.9/site-packages/sklearn/base.py:348: InconsistentVersionWarning: Trying to unpickle estimator StandardScaler from version 1.0.2 when using version 1.3.2. This might lead to breaking code or invalid results. Use at your own risk. For more info please refer to:\n",
      "https://scikit-learn.org/stable/model_persistence.html#security-maintainability-limitations\n",
      "  warnings.warn(\n",
      "/dipc/dlopez/.conda/envs/VE_torch/lib/python3.9/site-packages/sklearn/base.py:348: InconsistentVersionWarning: Trying to unpickle estimator StandardScaler from version 0.22.1 when using version 1.3.2. This might lead to breaking code or invalid results. Use at your own risk. For more info please refer to:\n",
      "https://scikit-learn.org/stable/model_persistence.html#security-maintainability-limitations\n",
      "  warnings.warn(\n",
      "/dipc/dlopez/.conda/envs/VE_torch/lib/python3.9/site-packages/sklearn/base.py:348: InconsistentVersionWarning: Trying to unpickle estimator PCA from version 0.22.1 when using version 1.3.2. This might lead to breaking code or invalid results. Use at your own risk. For more info please refer to:\n",
      "https://scikit-learn.org/stable/model_persistence.html#security-maintainability-limitations\n",
      "  warnings.warn(\n"
     ]
    },
    {
     "name": "stdout",
     "output_type": "stream",
     "text": [
      "Nonlinear emulator loaded in memory.\n",
      "Loading Baryonic Emulator...\n",
      "Baryonic Emulator loaded in memory.\n"
     ]
    },
    {
     "name": "stderr",
     "output_type": "stream",
     "text": [
      "/dipc/dlopez/.conda/envs/VE_torch/lib/python3.9/site-packages/sklearn/base.py:348: InconsistentVersionWarning: Trying to unpickle estimator StandardScaler from version 0.23.2 when using version 1.3.2. This might lead to breaking code or invalid results. Use at your own risk. For more info please refer to:\n",
      "https://scikit-learn.org/stable/model_persistence.html#security-maintainability-limitations\n",
      "  warnings.warn(\n",
      "/dipc/dlopez/.conda/envs/VE_torch/lib/python3.9/site-packages/sklearn/base.py:348: InconsistentVersionWarning: Trying to unpickle estimator PCA from version 0.23.2 when using version 1.3.2. This might lead to breaking code or invalid results. Use at your own risk. For more info please refer to:\n",
      "https://scikit-learn.org/stable/model_persistence.html#security-maintainability-limitations\n",
      "  warnings.warn(\n"
     ]
    }
   ],
   "source": [
    "hydro_key = 'illustris'\n",
    "model_name = \"Model_fixed_\"+hydro_key\n",
    "NN_samples_augs = 1\n",
    "COSMOS[ds_mode][model_name], XX[ds_mode][model_name], AUG_PARAMS[ds_mode][model_name], EXTENDED_AUG_PARAMS[ds_mode][model_name] = cl_inference.preprocessing_tools.generate_baccoemu_dataset(\n",
    "    NN_samples_cosmo  = NN_samples_cosmo_test,\n",
    "    NN_samples_augs   = NN_samples_augs,\n",
    "    dict_bounds_cosmo = dict_bounds_cosmo_test,\n",
    "    dict_bounds_augs  = dict_bounds_augs,\n",
    "    seed              = seed_test,\n",
    "    path_save         = path_save,\n",
    "    model_name        = model_name,\n",
    "    kmax              = kmax, box=box\n",
    ")"
   ]
  },
  {
   "cell_type": "code",
   "execution_count": 40,
   "id": "3a80a90b",
   "metadata": {},
   "outputs": [
    {
     "name": "stdout",
     "output_type": "stream",
     "text": [
      "Loading sigma8 emulator...\n",
      "Sigma8 emulator loaded in memory.\n",
      "Loading linear emulator...\n"
     ]
    },
    {
     "name": "stderr",
     "output_type": "stream",
     "text": [
      "/dipc/dlopez/.conda/envs/VE_torch/lib/python3.9/site-packages/sklearn/base.py:348: InconsistentVersionWarning: Trying to unpickle estimator PCA from version 1.0 when using version 1.3.2. This might lead to breaking code or invalid results. Use at your own risk. For more info please refer to:\n",
      "https://scikit-learn.org/stable/model_persistence.html#security-maintainability-limitations\n",
      "  warnings.warn(\n",
      "/dipc/dlopez/.conda/envs/VE_torch/lib/python3.9/site-packages/sklearn/base.py:348: InconsistentVersionWarning: Trying to unpickle estimator StandardScaler from version 1.0 when using version 1.3.2. This might lead to breaking code or invalid results. Use at your own risk. For more info please refer to:\n",
      "https://scikit-learn.org/stable/model_persistence.html#security-maintainability-limitations\n",
      "  warnings.warn(\n",
      "/dipc/dlopez/.conda/envs/VE_torch/lib/python3.9/site-packages/sklearn/base.py:348: InconsistentVersionWarning: Trying to unpickle estimator PCA from version 1.0 when using version 1.3.2. This might lead to breaking code or invalid results. Use at your own risk. For more info please refer to:\n",
      "https://scikit-learn.org/stable/model_persistence.html#security-maintainability-limitations\n",
      "  warnings.warn(\n",
      "/dipc/dlopez/.conda/envs/VE_torch/lib/python3.9/site-packages/sklearn/base.py:348: InconsistentVersionWarning: Trying to unpickle estimator StandardScaler from version 1.0 when using version 1.3.2. This might lead to breaking code or invalid results. Use at your own risk. For more info please refer to:\n",
      "https://scikit-learn.org/stable/model_persistence.html#security-maintainability-limitations\n",
      "  warnings.warn(\n"
     ]
    },
    {
     "name": "stdout",
     "output_type": "stream",
     "text": [
      "Linear emulator loaded in memory.\n",
      "Loading no-wiggles emulator...\n",
      "No-wiggles emulator loaded in memory.\n",
      "Loading non-linear emulator...\n"
     ]
    },
    {
     "name": "stderr",
     "output_type": "stream",
     "text": [
      "/dipc/dlopez/.conda/envs/VE_torch/lib/python3.9/site-packages/sklearn/base.py:348: InconsistentVersionWarning: Trying to unpickle estimator StandardScaler from version 1.0.2 when using version 1.3.2. This might lead to breaking code or invalid results. Use at your own risk. For more info please refer to:\n",
      "https://scikit-learn.org/stable/model_persistence.html#security-maintainability-limitations\n",
      "  warnings.warn(\n",
      "/dipc/dlopez/.conda/envs/VE_torch/lib/python3.9/site-packages/sklearn/base.py:348: InconsistentVersionWarning: Trying to unpickle estimator StandardScaler from version 0.22.1 when using version 1.3.2. This might lead to breaking code or invalid results. Use at your own risk. For more info please refer to:\n",
      "https://scikit-learn.org/stable/model_persistence.html#security-maintainability-limitations\n",
      "  warnings.warn(\n",
      "/dipc/dlopez/.conda/envs/VE_torch/lib/python3.9/site-packages/sklearn/base.py:348: InconsistentVersionWarning: Trying to unpickle estimator PCA from version 0.22.1 when using version 1.3.2. This might lead to breaking code or invalid results. Use at your own risk. For more info please refer to:\n",
      "https://scikit-learn.org/stable/model_persistence.html#security-maintainability-limitations\n",
      "  warnings.warn(\n"
     ]
    },
    {
     "name": "stdout",
     "output_type": "stream",
     "text": [
      "Nonlinear emulator loaded in memory.\n",
      "Loading Baryonic Emulator...\n",
      "Baryonic Emulator loaded in memory.\n"
     ]
    },
    {
     "name": "stderr",
     "output_type": "stream",
     "text": [
      "/dipc/dlopez/.conda/envs/VE_torch/lib/python3.9/site-packages/sklearn/base.py:348: InconsistentVersionWarning: Trying to unpickle estimator StandardScaler from version 0.23.2 when using version 1.3.2. This might lead to breaking code or invalid results. Use at your own risk. For more info please refer to:\n",
      "https://scikit-learn.org/stable/model_persistence.html#security-maintainability-limitations\n",
      "  warnings.warn(\n",
      "/dipc/dlopez/.conda/envs/VE_torch/lib/python3.9/site-packages/sklearn/base.py:348: InconsistentVersionWarning: Trying to unpickle estimator PCA from version 0.23.2 when using version 1.3.2. This might lead to breaking code or invalid results. Use at your own risk. For more info please refer to:\n",
      "https://scikit-learn.org/stable/model_persistence.html#security-maintainability-limitations\n",
      "  warnings.warn(\n"
     ]
    }
   ],
   "source": [
    "model_name = \"Model_vary_1\"\n",
    "NN_samples_augs = 10\n",
    "COSMOS[ds_mode][model_name], XX[ds_mode][model_name], AUG_PARAMS[ds_mode][model_name], EXTENDED_AUG_PARAMS[ds_mode][model_name] = cl_inference.preprocessing_tools.generate_baccoemu_dataset(\n",
    "    NN_samples_cosmo  = NN_samples_cosmo_test,\n",
    "    NN_samples_augs   = NN_samples_augs,\n",
    "    dict_bounds_cosmo = dict_bounds_cosmo_test,\n",
    "    dict_bounds_augs  = dict_bounds_augs_vary1,\n",
    "    seed              = seed_test,\n",
    "    path_save         = path_save,\n",
    "    model_name        = model_name,\n",
    "    kmax              = kmax, box=box\n",
    ")"
   ]
  },
  {
   "cell_type": "code",
   "execution_count": 41,
   "id": "05070f26",
   "metadata": {},
   "outputs": [
    {
     "name": "stdout",
     "output_type": "stream",
     "text": [
      "Loading sigma8 emulator...\n",
      "Sigma8 emulator loaded in memory.\n",
      "Loading linear emulator...\n"
     ]
    },
    {
     "name": "stderr",
     "output_type": "stream",
     "text": [
      "/dipc/dlopez/.conda/envs/VE_torch/lib/python3.9/site-packages/sklearn/base.py:348: InconsistentVersionWarning: Trying to unpickle estimator PCA from version 1.0 when using version 1.3.2. This might lead to breaking code or invalid results. Use at your own risk. For more info please refer to:\n",
      "https://scikit-learn.org/stable/model_persistence.html#security-maintainability-limitations\n",
      "  warnings.warn(\n",
      "/dipc/dlopez/.conda/envs/VE_torch/lib/python3.9/site-packages/sklearn/base.py:348: InconsistentVersionWarning: Trying to unpickle estimator StandardScaler from version 1.0 when using version 1.3.2. This might lead to breaking code or invalid results. Use at your own risk. For more info please refer to:\n",
      "https://scikit-learn.org/stable/model_persistence.html#security-maintainability-limitations\n",
      "  warnings.warn(\n",
      "/dipc/dlopez/.conda/envs/VE_torch/lib/python3.9/site-packages/sklearn/base.py:348: InconsistentVersionWarning: Trying to unpickle estimator PCA from version 1.0 when using version 1.3.2. This might lead to breaking code or invalid results. Use at your own risk. For more info please refer to:\n",
      "https://scikit-learn.org/stable/model_persistence.html#security-maintainability-limitations\n",
      "  warnings.warn(\n",
      "/dipc/dlopez/.conda/envs/VE_torch/lib/python3.9/site-packages/sklearn/base.py:348: InconsistentVersionWarning: Trying to unpickle estimator StandardScaler from version 1.0 when using version 1.3.2. This might lead to breaking code or invalid results. Use at your own risk. For more info please refer to:\n",
      "https://scikit-learn.org/stable/model_persistence.html#security-maintainability-limitations\n",
      "  warnings.warn(\n"
     ]
    },
    {
     "name": "stdout",
     "output_type": "stream",
     "text": [
      "Linear emulator loaded in memory.\n",
      "Loading no-wiggles emulator...\n"
     ]
    },
    {
     "name": "stderr",
     "output_type": "stream",
     "text": [
      "/dipc/dlopez/.conda/envs/VE_torch/lib/python3.9/site-packages/sklearn/base.py:348: InconsistentVersionWarning: Trying to unpickle estimator StandardScaler from version 1.0.2 when using version 1.3.2. This might lead to breaking code or invalid results. Use at your own risk. For more info please refer to:\n",
      "https://scikit-learn.org/stable/model_persistence.html#security-maintainability-limitations\n",
      "  warnings.warn(\n",
      "/dipc/dlopez/.conda/envs/VE_torch/lib/python3.9/site-packages/sklearn/base.py:348: InconsistentVersionWarning: Trying to unpickle estimator StandardScaler from version 0.22.1 when using version 1.3.2. This might lead to breaking code or invalid results. Use at your own risk. For more info please refer to:\n",
      "https://scikit-learn.org/stable/model_persistence.html#security-maintainability-limitations\n",
      "  warnings.warn(\n",
      "/dipc/dlopez/.conda/envs/VE_torch/lib/python3.9/site-packages/sklearn/base.py:348: InconsistentVersionWarning: Trying to unpickle estimator PCA from version 0.22.1 when using version 1.3.2. This might lead to breaking code or invalid results. Use at your own risk. For more info please refer to:\n",
      "https://scikit-learn.org/stable/model_persistence.html#security-maintainability-limitations\n",
      "  warnings.warn(\n"
     ]
    },
    {
     "name": "stdout",
     "output_type": "stream",
     "text": [
      "No-wiggles emulator loaded in memory.\n",
      "Loading non-linear emulator...\n",
      "Nonlinear emulator loaded in memory.\n",
      "Loading Baryonic Emulator...\n"
     ]
    },
    {
     "name": "stderr",
     "output_type": "stream",
     "text": [
      "/dipc/dlopez/.conda/envs/VE_torch/lib/python3.9/site-packages/sklearn/base.py:348: InconsistentVersionWarning: Trying to unpickle estimator StandardScaler from version 0.23.2 when using version 1.3.2. This might lead to breaking code or invalid results. Use at your own risk. For more info please refer to:\n",
      "https://scikit-learn.org/stable/model_persistence.html#security-maintainability-limitations\n",
      "  warnings.warn(\n",
      "/dipc/dlopez/.conda/envs/VE_torch/lib/python3.9/site-packages/sklearn/base.py:348: InconsistentVersionWarning: Trying to unpickle estimator PCA from version 0.23.2 when using version 1.3.2. This might lead to breaking code or invalid results. Use at your own risk. For more info please refer to:\n",
      "https://scikit-learn.org/stable/model_persistence.html#security-maintainability-limitations\n",
      "  warnings.warn(\n"
     ]
    },
    {
     "name": "stdout",
     "output_type": "stream",
     "text": [
      "Baryonic Emulator loaded in memory.\n"
     ]
    }
   ],
   "source": [
    "model_name = \"Model_vary_2\"\n",
    "NN_samples_augs = 10\n",
    "COSMOS[ds_mode][model_name], XX[ds_mode][model_name], AUG_PARAMS[ds_mode][model_name], EXTENDED_AUG_PARAMS[ds_mode][model_name] = cl_inference.preprocessing_tools.generate_baccoemu_dataset(\n",
    "    NN_samples_cosmo  = NN_samples_cosmo_test,\n",
    "    NN_samples_augs   = NN_samples_augs,\n",
    "    dict_bounds_cosmo = dict_bounds_cosmo_test,\n",
    "    dict_bounds_augs  = dict_bounds_augs_vary2,\n",
    "    seed              = seed_test,\n",
    "    path_save         = path_save,\n",
    "    model_name        = model_name,\n",
    "    kmax              = kmax, box=box\n",
    ")"
   ]
  },
  {
   "cell_type": "code",
   "execution_count": 42,
   "id": "bf3abe6f",
   "metadata": {},
   "outputs": [
    {
     "name": "stdout",
     "output_type": "stream",
     "text": [
      "Loading sigma8 emulator...\n",
      "Sigma8 emulator loaded in memory.\n",
      "Loading linear emulator...\n"
     ]
    },
    {
     "name": "stderr",
     "output_type": "stream",
     "text": [
      "/dipc/dlopez/.conda/envs/VE_torch/lib/python3.9/site-packages/sklearn/base.py:348: InconsistentVersionWarning: Trying to unpickle estimator PCA from version 1.0 when using version 1.3.2. This might lead to breaking code or invalid results. Use at your own risk. For more info please refer to:\n",
      "https://scikit-learn.org/stable/model_persistence.html#security-maintainability-limitations\n",
      "  warnings.warn(\n",
      "/dipc/dlopez/.conda/envs/VE_torch/lib/python3.9/site-packages/sklearn/base.py:348: InconsistentVersionWarning: Trying to unpickle estimator StandardScaler from version 1.0 when using version 1.3.2. This might lead to breaking code or invalid results. Use at your own risk. For more info please refer to:\n",
      "https://scikit-learn.org/stable/model_persistence.html#security-maintainability-limitations\n",
      "  warnings.warn(\n",
      "/dipc/dlopez/.conda/envs/VE_torch/lib/python3.9/site-packages/sklearn/base.py:348: InconsistentVersionWarning: Trying to unpickle estimator PCA from version 1.0 when using version 1.3.2. This might lead to breaking code or invalid results. Use at your own risk. For more info please refer to:\n",
      "https://scikit-learn.org/stable/model_persistence.html#security-maintainability-limitations\n",
      "  warnings.warn(\n",
      "/dipc/dlopez/.conda/envs/VE_torch/lib/python3.9/site-packages/sklearn/base.py:348: InconsistentVersionWarning: Trying to unpickle estimator StandardScaler from version 1.0 when using version 1.3.2. This might lead to breaking code or invalid results. Use at your own risk. For more info please refer to:\n",
      "https://scikit-learn.org/stable/model_persistence.html#security-maintainability-limitations\n",
      "  warnings.warn(\n"
     ]
    },
    {
     "name": "stdout",
     "output_type": "stream",
     "text": [
      "Linear emulator loaded in memory.\n",
      "Loading no-wiggles emulator...\n",
      "No-wiggles emulator loaded in memory.\n",
      "Loading non-linear emulator...\n"
     ]
    },
    {
     "name": "stderr",
     "output_type": "stream",
     "text": [
      "/dipc/dlopez/.conda/envs/VE_torch/lib/python3.9/site-packages/sklearn/base.py:348: InconsistentVersionWarning: Trying to unpickle estimator StandardScaler from version 1.0.2 when using version 1.3.2. This might lead to breaking code or invalid results. Use at your own risk. For more info please refer to:\n",
      "https://scikit-learn.org/stable/model_persistence.html#security-maintainability-limitations\n",
      "  warnings.warn(\n",
      "/dipc/dlopez/.conda/envs/VE_torch/lib/python3.9/site-packages/sklearn/base.py:348: InconsistentVersionWarning: Trying to unpickle estimator StandardScaler from version 0.22.1 when using version 1.3.2. This might lead to breaking code or invalid results. Use at your own risk. For more info please refer to:\n",
      "https://scikit-learn.org/stable/model_persistence.html#security-maintainability-limitations\n",
      "  warnings.warn(\n",
      "/dipc/dlopez/.conda/envs/VE_torch/lib/python3.9/site-packages/sklearn/base.py:348: InconsistentVersionWarning: Trying to unpickle estimator PCA from version 0.22.1 when using version 1.3.2. This might lead to breaking code or invalid results. Use at your own risk. For more info please refer to:\n",
      "https://scikit-learn.org/stable/model_persistence.html#security-maintainability-limitations\n",
      "  warnings.warn(\n"
     ]
    },
    {
     "name": "stdout",
     "output_type": "stream",
     "text": [
      "Nonlinear emulator loaded in memory.\n",
      "Loading Baryonic Emulator...\n",
      "Baryonic Emulator loaded in memory.\n"
     ]
    },
    {
     "name": "stderr",
     "output_type": "stream",
     "text": [
      "/dipc/dlopez/.conda/envs/VE_torch/lib/python3.9/site-packages/sklearn/base.py:348: InconsistentVersionWarning: Trying to unpickle estimator StandardScaler from version 0.23.2 when using version 1.3.2. This might lead to breaking code or invalid results. Use at your own risk. For more info please refer to:\n",
      "https://scikit-learn.org/stable/model_persistence.html#security-maintainability-limitations\n",
      "  warnings.warn(\n",
      "/dipc/dlopez/.conda/envs/VE_torch/lib/python3.9/site-packages/sklearn/base.py:348: InconsistentVersionWarning: Trying to unpickle estimator PCA from version 0.23.2 when using version 1.3.2. This might lead to breaking code or invalid results. Use at your own risk. For more info please refer to:\n",
      "https://scikit-learn.org/stable/model_persistence.html#security-maintainability-limitations\n",
      "  warnings.warn(\n"
     ]
    }
   ],
   "source": [
    "model_name = \"Model_vary_3\"\n",
    "NN_samples_augs = 10\n",
    "COSMOS[ds_mode][model_name], XX[ds_mode][model_name], AUG_PARAMS[ds_mode][model_name], EXTENDED_AUG_PARAMS[ds_mode][model_name] = cl_inference.preprocessing_tools.generate_baccoemu_dataset(\n",
    "    NN_samples_cosmo  = NN_samples_cosmo_test,\n",
    "    NN_samples_augs   = NN_samples_augs,\n",
    "    dict_bounds_cosmo = dict_bounds_cosmo_test,\n",
    "    dict_bounds_augs  = dict_bounds_augs_vary3,\n",
    "    seed              = seed_test,\n",
    "    path_save         = path_save,\n",
    "    model_name        = model_name,\n",
    "    kmax              = kmax, box=box\n",
    ")"
   ]
  },
  {
   "cell_type": "code",
   "execution_count": 43,
   "id": "78e9a6d2",
   "metadata": {},
   "outputs": [
    {
     "name": "stdout",
     "output_type": "stream",
     "text": [
      "Loading sigma8 emulator...\n",
      "Sigma8 emulator loaded in memory.\n",
      "Loading linear emulator...\n"
     ]
    },
    {
     "name": "stderr",
     "output_type": "stream",
     "text": [
      "/dipc/dlopez/.conda/envs/VE_torch/lib/python3.9/site-packages/sklearn/base.py:348: InconsistentVersionWarning: Trying to unpickle estimator PCA from version 1.0 when using version 1.3.2. This might lead to breaking code or invalid results. Use at your own risk. For more info please refer to:\n",
      "https://scikit-learn.org/stable/model_persistence.html#security-maintainability-limitations\n",
      "  warnings.warn(\n",
      "/dipc/dlopez/.conda/envs/VE_torch/lib/python3.9/site-packages/sklearn/base.py:348: InconsistentVersionWarning: Trying to unpickle estimator StandardScaler from version 1.0 when using version 1.3.2. This might lead to breaking code or invalid results. Use at your own risk. For more info please refer to:\n",
      "https://scikit-learn.org/stable/model_persistence.html#security-maintainability-limitations\n",
      "  warnings.warn(\n",
      "/dipc/dlopez/.conda/envs/VE_torch/lib/python3.9/site-packages/sklearn/base.py:348: InconsistentVersionWarning: Trying to unpickle estimator PCA from version 1.0 when using version 1.3.2. This might lead to breaking code or invalid results. Use at your own risk. For more info please refer to:\n",
      "https://scikit-learn.org/stable/model_persistence.html#security-maintainability-limitations\n",
      "  warnings.warn(\n",
      "/dipc/dlopez/.conda/envs/VE_torch/lib/python3.9/site-packages/sklearn/base.py:348: InconsistentVersionWarning: Trying to unpickle estimator StandardScaler from version 1.0 when using version 1.3.2. This might lead to breaking code or invalid results. Use at your own risk. For more info please refer to:\n",
      "https://scikit-learn.org/stable/model_persistence.html#security-maintainability-limitations\n",
      "  warnings.warn(\n"
     ]
    },
    {
     "name": "stdout",
     "output_type": "stream",
     "text": [
      "Linear emulator loaded in memory.\n",
      "Loading no-wiggles emulator...\n",
      "No-wiggles emulator loaded in memory.\n",
      "Loading non-linear emulator...\n"
     ]
    },
    {
     "name": "stderr",
     "output_type": "stream",
     "text": [
      "/dipc/dlopez/.conda/envs/VE_torch/lib/python3.9/site-packages/sklearn/base.py:348: InconsistentVersionWarning: Trying to unpickle estimator StandardScaler from version 1.0.2 when using version 1.3.2. This might lead to breaking code or invalid results. Use at your own risk. For more info please refer to:\n",
      "https://scikit-learn.org/stable/model_persistence.html#security-maintainability-limitations\n",
      "  warnings.warn(\n",
      "/dipc/dlopez/.conda/envs/VE_torch/lib/python3.9/site-packages/sklearn/base.py:348: InconsistentVersionWarning: Trying to unpickle estimator StandardScaler from version 0.22.1 when using version 1.3.2. This might lead to breaking code or invalid results. Use at your own risk. For more info please refer to:\n",
      "https://scikit-learn.org/stable/model_persistence.html#security-maintainability-limitations\n",
      "  warnings.warn(\n",
      "/dipc/dlopez/.conda/envs/VE_torch/lib/python3.9/site-packages/sklearn/base.py:348: InconsistentVersionWarning: Trying to unpickle estimator PCA from version 0.22.1 when using version 1.3.2. This might lead to breaking code or invalid results. Use at your own risk. For more info please refer to:\n",
      "https://scikit-learn.org/stable/model_persistence.html#security-maintainability-limitations\n",
      "  warnings.warn(\n"
     ]
    },
    {
     "name": "stdout",
     "output_type": "stream",
     "text": [
      "Nonlinear emulator loaded in memory.\n",
      "Loading Baryonic Emulator...\n",
      "Baryonic Emulator loaded in memory.\n"
     ]
    },
    {
     "name": "stderr",
     "output_type": "stream",
     "text": [
      "/dipc/dlopez/.conda/envs/VE_torch/lib/python3.9/site-packages/sklearn/base.py:348: InconsistentVersionWarning: Trying to unpickle estimator StandardScaler from version 0.23.2 when using version 1.3.2. This might lead to breaking code or invalid results. Use at your own risk. For more info please refer to:\n",
      "https://scikit-learn.org/stable/model_persistence.html#security-maintainability-limitations\n",
      "  warnings.warn(\n",
      "/dipc/dlopez/.conda/envs/VE_torch/lib/python3.9/site-packages/sklearn/base.py:348: InconsistentVersionWarning: Trying to unpickle estimator PCA from version 0.23.2 when using version 1.3.2. This might lead to breaking code or invalid results. Use at your own risk. For more info please refer to:\n",
      "https://scikit-learn.org/stable/model_persistence.html#security-maintainability-limitations\n",
      "  warnings.warn(\n"
     ]
    },
    {
     "name": "stdout",
     "output_type": "stream",
     "text": [
      "Loading sigma8 emulator...\n",
      "Sigma8 emulator loaded in memory.\n",
      "Loading linear emulator...\n"
     ]
    },
    {
     "name": "stderr",
     "output_type": "stream",
     "text": [
      "/dipc/dlopez/.conda/envs/VE_torch/lib/python3.9/site-packages/sklearn/base.py:348: InconsistentVersionWarning: Trying to unpickle estimator PCA from version 1.0 when using version 1.3.2. This might lead to breaking code or invalid results. Use at your own risk. For more info please refer to:\n",
      "https://scikit-learn.org/stable/model_persistence.html#security-maintainability-limitations\n",
      "  warnings.warn(\n",
      "/dipc/dlopez/.conda/envs/VE_torch/lib/python3.9/site-packages/sklearn/base.py:348: InconsistentVersionWarning: Trying to unpickle estimator StandardScaler from version 1.0 when using version 1.3.2. This might lead to breaking code or invalid results. Use at your own risk. For more info please refer to:\n",
      "https://scikit-learn.org/stable/model_persistence.html#security-maintainability-limitations\n",
      "  warnings.warn(\n",
      "/dipc/dlopez/.conda/envs/VE_torch/lib/python3.9/site-packages/sklearn/base.py:348: InconsistentVersionWarning: Trying to unpickle estimator PCA from version 1.0 when using version 1.3.2. This might lead to breaking code or invalid results. Use at your own risk. For more info please refer to:\n",
      "https://scikit-learn.org/stable/model_persistence.html#security-maintainability-limitations\n",
      "  warnings.warn(\n",
      "/dipc/dlopez/.conda/envs/VE_torch/lib/python3.9/site-packages/sklearn/base.py:348: InconsistentVersionWarning: Trying to unpickle estimator StandardScaler from version 1.0 when using version 1.3.2. This might lead to breaking code or invalid results. Use at your own risk. For more info please refer to:\n",
      "https://scikit-learn.org/stable/model_persistence.html#security-maintainability-limitations\n",
      "  warnings.warn(\n"
     ]
    },
    {
     "name": "stdout",
     "output_type": "stream",
     "text": [
      "Linear emulator loaded in memory.\n",
      "Loading no-wiggles emulator...\n",
      "No-wiggles emulator loaded in memory.\n",
      "Loading non-linear emulator...\n"
     ]
    },
    {
     "name": "stderr",
     "output_type": "stream",
     "text": [
      "/dipc/dlopez/.conda/envs/VE_torch/lib/python3.9/site-packages/sklearn/base.py:348: InconsistentVersionWarning: Trying to unpickle estimator StandardScaler from version 1.0.2 when using version 1.3.2. This might lead to breaking code or invalid results. Use at your own risk. For more info please refer to:\n",
      "https://scikit-learn.org/stable/model_persistence.html#security-maintainability-limitations\n",
      "  warnings.warn(\n",
      "/dipc/dlopez/.conda/envs/VE_torch/lib/python3.9/site-packages/sklearn/base.py:348: InconsistentVersionWarning: Trying to unpickle estimator StandardScaler from version 0.22.1 when using version 1.3.2. This might lead to breaking code or invalid results. Use at your own risk. For more info please refer to:\n",
      "https://scikit-learn.org/stable/model_persistence.html#security-maintainability-limitations\n",
      "  warnings.warn(\n",
      "/dipc/dlopez/.conda/envs/VE_torch/lib/python3.9/site-packages/sklearn/base.py:348: InconsistentVersionWarning: Trying to unpickle estimator PCA from version 0.22.1 when using version 1.3.2. This might lead to breaking code or invalid results. Use at your own risk. For more info please refer to:\n",
      "https://scikit-learn.org/stable/model_persistence.html#security-maintainability-limitations\n",
      "  warnings.warn(\n"
     ]
    },
    {
     "name": "stdout",
     "output_type": "stream",
     "text": [
      "Nonlinear emulator loaded in memory.\n",
      "Loading Baryonic Emulator...\n",
      "Baryonic Emulator loaded in memory.\n"
     ]
    },
    {
     "name": "stderr",
     "output_type": "stream",
     "text": [
      "/dipc/dlopez/.conda/envs/VE_torch/lib/python3.9/site-packages/sklearn/base.py:348: InconsistentVersionWarning: Trying to unpickle estimator StandardScaler from version 0.23.2 when using version 1.3.2. This might lead to breaking code or invalid results. Use at your own risk. For more info please refer to:\n",
      "https://scikit-learn.org/stable/model_persistence.html#security-maintainability-limitations\n",
      "  warnings.warn(\n",
      "/dipc/dlopez/.conda/envs/VE_torch/lib/python3.9/site-packages/sklearn/base.py:348: InconsistentVersionWarning: Trying to unpickle estimator PCA from version 0.23.2 when using version 1.3.2. This might lead to breaking code or invalid results. Use at your own risk. For more info please refer to:\n",
      "https://scikit-learn.org/stable/model_persistence.html#security-maintainability-limitations\n",
      "  warnings.warn(\n"
     ]
    },
    {
     "name": "stdout",
     "output_type": "stream",
     "text": [
      "Loading sigma8 emulator...\n",
      "Sigma8 emulator loaded in memory.\n",
      "Loading linear emulator...\n"
     ]
    },
    {
     "name": "stderr",
     "output_type": "stream",
     "text": [
      "/dipc/dlopez/.conda/envs/VE_torch/lib/python3.9/site-packages/sklearn/base.py:348: InconsistentVersionWarning: Trying to unpickle estimator PCA from version 1.0 when using version 1.3.2. This might lead to breaking code or invalid results. Use at your own risk. For more info please refer to:\n",
      "https://scikit-learn.org/stable/model_persistence.html#security-maintainability-limitations\n",
      "  warnings.warn(\n",
      "/dipc/dlopez/.conda/envs/VE_torch/lib/python3.9/site-packages/sklearn/base.py:348: InconsistentVersionWarning: Trying to unpickle estimator StandardScaler from version 1.0 when using version 1.3.2. This might lead to breaking code or invalid results. Use at your own risk. For more info please refer to:\n",
      "https://scikit-learn.org/stable/model_persistence.html#security-maintainability-limitations\n",
      "  warnings.warn(\n",
      "/dipc/dlopez/.conda/envs/VE_torch/lib/python3.9/site-packages/sklearn/base.py:348: InconsistentVersionWarning: Trying to unpickle estimator PCA from version 1.0 when using version 1.3.2. This might lead to breaking code or invalid results. Use at your own risk. For more info please refer to:\n",
      "https://scikit-learn.org/stable/model_persistence.html#security-maintainability-limitations\n",
      "  warnings.warn(\n",
      "/dipc/dlopez/.conda/envs/VE_torch/lib/python3.9/site-packages/sklearn/base.py:348: InconsistentVersionWarning: Trying to unpickle estimator StandardScaler from version 1.0 when using version 1.3.2. This might lead to breaking code or invalid results. Use at your own risk. For more info please refer to:\n",
      "https://scikit-learn.org/stable/model_persistence.html#security-maintainability-limitations\n",
      "  warnings.warn(\n"
     ]
    },
    {
     "name": "stdout",
     "output_type": "stream",
     "text": [
      "Linear emulator loaded in memory.\n",
      "Loading no-wiggles emulator...\n",
      "No-wiggles emulator loaded in memory.\n",
      "Loading non-linear emulator...\n"
     ]
    },
    {
     "name": "stderr",
     "output_type": "stream",
     "text": [
      "/dipc/dlopez/.conda/envs/VE_torch/lib/python3.9/site-packages/sklearn/base.py:348: InconsistentVersionWarning: Trying to unpickle estimator StandardScaler from version 1.0.2 when using version 1.3.2. This might lead to breaking code or invalid results. Use at your own risk. For more info please refer to:\n",
      "https://scikit-learn.org/stable/model_persistence.html#security-maintainability-limitations\n",
      "  warnings.warn(\n",
      "/dipc/dlopez/.conda/envs/VE_torch/lib/python3.9/site-packages/sklearn/base.py:348: InconsistentVersionWarning: Trying to unpickle estimator StandardScaler from version 0.22.1 when using version 1.3.2. This might lead to breaking code or invalid results. Use at your own risk. For more info please refer to:\n",
      "https://scikit-learn.org/stable/model_persistence.html#security-maintainability-limitations\n",
      "  warnings.warn(\n",
      "/dipc/dlopez/.conda/envs/VE_torch/lib/python3.9/site-packages/sklearn/base.py:348: InconsistentVersionWarning: Trying to unpickle estimator PCA from version 0.22.1 when using version 1.3.2. This might lead to breaking code or invalid results. Use at your own risk. For more info please refer to:\n",
      "https://scikit-learn.org/stable/model_persistence.html#security-maintainability-limitations\n",
      "  warnings.warn(\n"
     ]
    },
    {
     "name": "stdout",
     "output_type": "stream",
     "text": [
      "Nonlinear emulator loaded in memory.\n",
      "Loading Baryonic Emulator...\n",
      "Baryonic Emulator loaded in memory.\n"
     ]
    },
    {
     "name": "stderr",
     "output_type": "stream",
     "text": [
      "/dipc/dlopez/.conda/envs/VE_torch/lib/python3.9/site-packages/sklearn/base.py:348: InconsistentVersionWarning: Trying to unpickle estimator StandardScaler from version 0.23.2 when using version 1.3.2. This might lead to breaking code or invalid results. Use at your own risk. For more info please refer to:\n",
      "https://scikit-learn.org/stable/model_persistence.html#security-maintainability-limitations\n",
      "  warnings.warn(\n",
      "/dipc/dlopez/.conda/envs/VE_torch/lib/python3.9/site-packages/sklearn/base.py:348: InconsistentVersionWarning: Trying to unpickle estimator PCA from version 0.23.2 when using version 1.3.2. This might lead to breaking code or invalid results. Use at your own risk. For more info please refer to:\n",
      "https://scikit-learn.org/stable/model_persistence.html#security-maintainability-limitations\n",
      "  warnings.warn(\n"
     ]
    },
    {
     "name": "stdout",
     "output_type": "stream",
     "text": [
      "Loading sigma8 emulator...\n",
      "Sigma8 emulator loaded in memory.\n",
      "Loading linear emulator...\n"
     ]
    },
    {
     "name": "stderr",
     "output_type": "stream",
     "text": [
      "/dipc/dlopez/.conda/envs/VE_torch/lib/python3.9/site-packages/sklearn/base.py:348: InconsistentVersionWarning: Trying to unpickle estimator PCA from version 1.0 when using version 1.3.2. This might lead to breaking code or invalid results. Use at your own risk. For more info please refer to:\n",
      "https://scikit-learn.org/stable/model_persistence.html#security-maintainability-limitations\n",
      "  warnings.warn(\n",
      "/dipc/dlopez/.conda/envs/VE_torch/lib/python3.9/site-packages/sklearn/base.py:348: InconsistentVersionWarning: Trying to unpickle estimator StandardScaler from version 1.0 when using version 1.3.2. This might lead to breaking code or invalid results. Use at your own risk. For more info please refer to:\n",
      "https://scikit-learn.org/stable/model_persistence.html#security-maintainability-limitations\n",
      "  warnings.warn(\n",
      "/dipc/dlopez/.conda/envs/VE_torch/lib/python3.9/site-packages/sklearn/base.py:348: InconsistentVersionWarning: Trying to unpickle estimator PCA from version 1.0 when using version 1.3.2. This might lead to breaking code or invalid results. Use at your own risk. For more info please refer to:\n",
      "https://scikit-learn.org/stable/model_persistence.html#security-maintainability-limitations\n",
      "  warnings.warn(\n",
      "/dipc/dlopez/.conda/envs/VE_torch/lib/python3.9/site-packages/sklearn/base.py:348: InconsistentVersionWarning: Trying to unpickle estimator StandardScaler from version 1.0 when using version 1.3.2. This might lead to breaking code or invalid results. Use at your own risk. For more info please refer to:\n",
      "https://scikit-learn.org/stable/model_persistence.html#security-maintainability-limitations\n",
      "  warnings.warn(\n"
     ]
    },
    {
     "name": "stdout",
     "output_type": "stream",
     "text": [
      "Linear emulator loaded in memory.\n",
      "Loading no-wiggles emulator...\n",
      "No-wiggles emulator loaded in memory.\n",
      "Loading non-linear emulator...\n"
     ]
    },
    {
     "name": "stderr",
     "output_type": "stream",
     "text": [
      "/dipc/dlopez/.conda/envs/VE_torch/lib/python3.9/site-packages/sklearn/base.py:348: InconsistentVersionWarning: Trying to unpickle estimator StandardScaler from version 1.0.2 when using version 1.3.2. This might lead to breaking code or invalid results. Use at your own risk. For more info please refer to:\n",
      "https://scikit-learn.org/stable/model_persistence.html#security-maintainability-limitations\n",
      "  warnings.warn(\n",
      "/dipc/dlopez/.conda/envs/VE_torch/lib/python3.9/site-packages/sklearn/base.py:348: InconsistentVersionWarning: Trying to unpickle estimator StandardScaler from version 0.22.1 when using version 1.3.2. This might lead to breaking code or invalid results. Use at your own risk. For more info please refer to:\n",
      "https://scikit-learn.org/stable/model_persistence.html#security-maintainability-limitations\n",
      "  warnings.warn(\n",
      "/dipc/dlopez/.conda/envs/VE_torch/lib/python3.9/site-packages/sklearn/base.py:348: InconsistentVersionWarning: Trying to unpickle estimator PCA from version 0.22.1 when using version 1.3.2. This might lead to breaking code or invalid results. Use at your own risk. For more info please refer to:\n",
      "https://scikit-learn.org/stable/model_persistence.html#security-maintainability-limitations\n",
      "  warnings.warn(\n",
      "/dipc/dlopez/.conda/envs/VE_torch/lib/python3.9/site-packages/sklearn/base.py:348: InconsistentVersionWarning: Trying to unpickle estimator StandardScaler from version 0.23.2 when using version 1.3.2. This might lead to breaking code or invalid results. Use at your own risk. For more info please refer to:\n",
      "https://scikit-learn.org/stable/model_persistence.html#security-maintainability-limitations\n",
      "  warnings.warn(\n",
      "/dipc/dlopez/.conda/envs/VE_torch/lib/python3.9/site-packages/sklearn/base.py:348: InconsistentVersionWarning: Trying to unpickle estimator PCA from version 0.23.2 when using version 1.3.2. This might lead to breaking code or invalid results. Use at your own risk. For more info please refer to:\n",
      "https://scikit-learn.org/stable/model_persistence.html#security-maintainability-limitations\n",
      "  warnings.warn(\n"
     ]
    },
    {
     "name": "stdout",
     "output_type": "stream",
     "text": [
      "Nonlinear emulator loaded in memory.\n",
      "Loading Baryonic Emulator...\n",
      "Baryonic Emulator loaded in memory.\n",
      "Loading sigma8 emulator...\n",
      "Sigma8 emulator loaded in memory.\n",
      "Loading linear emulator...\n"
     ]
    },
    {
     "name": "stderr",
     "output_type": "stream",
     "text": [
      "/dipc/dlopez/.conda/envs/VE_torch/lib/python3.9/site-packages/sklearn/base.py:348: InconsistentVersionWarning: Trying to unpickle estimator PCA from version 1.0 when using version 1.3.2. This might lead to breaking code or invalid results. Use at your own risk. For more info please refer to:\n",
      "https://scikit-learn.org/stable/model_persistence.html#security-maintainability-limitations\n",
      "  warnings.warn(\n",
      "/dipc/dlopez/.conda/envs/VE_torch/lib/python3.9/site-packages/sklearn/base.py:348: InconsistentVersionWarning: Trying to unpickle estimator StandardScaler from version 1.0 when using version 1.3.2. This might lead to breaking code or invalid results. Use at your own risk. For more info please refer to:\n",
      "https://scikit-learn.org/stable/model_persistence.html#security-maintainability-limitations\n",
      "  warnings.warn(\n",
      "/dipc/dlopez/.conda/envs/VE_torch/lib/python3.9/site-packages/sklearn/base.py:348: InconsistentVersionWarning: Trying to unpickle estimator PCA from version 1.0 when using version 1.3.2. This might lead to breaking code or invalid results. Use at your own risk. For more info please refer to:\n",
      "https://scikit-learn.org/stable/model_persistence.html#security-maintainability-limitations\n",
      "  warnings.warn(\n",
      "/dipc/dlopez/.conda/envs/VE_torch/lib/python3.9/site-packages/sklearn/base.py:348: InconsistentVersionWarning: Trying to unpickle estimator StandardScaler from version 1.0 when using version 1.3.2. This might lead to breaking code or invalid results. Use at your own risk. For more info please refer to:\n",
      "https://scikit-learn.org/stable/model_persistence.html#security-maintainability-limitations\n",
      "  warnings.warn(\n"
     ]
    },
    {
     "name": "stdout",
     "output_type": "stream",
     "text": [
      "Linear emulator loaded in memory.\n",
      "Loading no-wiggles emulator...\n",
      "No-wiggles emulator loaded in memory.\n",
      "Loading non-linear emulator...\n"
     ]
    },
    {
     "name": "stderr",
     "output_type": "stream",
     "text": [
      "/dipc/dlopez/.conda/envs/VE_torch/lib/python3.9/site-packages/sklearn/base.py:348: InconsistentVersionWarning: Trying to unpickle estimator StandardScaler from version 1.0.2 when using version 1.3.2. This might lead to breaking code or invalid results. Use at your own risk. For more info please refer to:\n",
      "https://scikit-learn.org/stable/model_persistence.html#security-maintainability-limitations\n",
      "  warnings.warn(\n",
      "/dipc/dlopez/.conda/envs/VE_torch/lib/python3.9/site-packages/sklearn/base.py:348: InconsistentVersionWarning: Trying to unpickle estimator StandardScaler from version 0.22.1 when using version 1.3.2. This might lead to breaking code or invalid results. Use at your own risk. For more info please refer to:\n",
      "https://scikit-learn.org/stable/model_persistence.html#security-maintainability-limitations\n",
      "  warnings.warn(\n",
      "/dipc/dlopez/.conda/envs/VE_torch/lib/python3.9/site-packages/sklearn/base.py:348: InconsistentVersionWarning: Trying to unpickle estimator PCA from version 0.22.1 when using version 1.3.2. This might lead to breaking code or invalid results. Use at your own risk. For more info please refer to:\n",
      "https://scikit-learn.org/stable/model_persistence.html#security-maintainability-limitations\n",
      "  warnings.warn(\n"
     ]
    },
    {
     "name": "stdout",
     "output_type": "stream",
     "text": [
      "Nonlinear emulator loaded in memory.\n",
      "Loading Baryonic Emulator...\n",
      "Baryonic Emulator loaded in memory.\n"
     ]
    },
    {
     "name": "stderr",
     "output_type": "stream",
     "text": [
      "/dipc/dlopez/.conda/envs/VE_torch/lib/python3.9/site-packages/sklearn/base.py:348: InconsistentVersionWarning: Trying to unpickle estimator StandardScaler from version 0.23.2 when using version 1.3.2. This might lead to breaking code or invalid results. Use at your own risk. For more info please refer to:\n",
      "https://scikit-learn.org/stable/model_persistence.html#security-maintainability-limitations\n",
      "  warnings.warn(\n",
      "/dipc/dlopez/.conda/envs/VE_torch/lib/python3.9/site-packages/sklearn/base.py:348: InconsistentVersionWarning: Trying to unpickle estimator PCA from version 0.23.2 when using version 1.3.2. This might lead to breaking code or invalid results. Use at your own risk. For more info please refer to:\n",
      "https://scikit-learn.org/stable/model_persistence.html#security-maintainability-limitations\n",
      "  warnings.warn(\n"
     ]
    },
    {
     "name": "stdout",
     "output_type": "stream",
     "text": [
      "Loading sigma8 emulator...\n",
      "Sigma8 emulator loaded in memory.\n",
      "Loading linear emulator...\n"
     ]
    },
    {
     "name": "stderr",
     "output_type": "stream",
     "text": [
      "/dipc/dlopez/.conda/envs/VE_torch/lib/python3.9/site-packages/sklearn/base.py:348: InconsistentVersionWarning: Trying to unpickle estimator PCA from version 1.0 when using version 1.3.2. This might lead to breaking code or invalid results. Use at your own risk. For more info please refer to:\n",
      "https://scikit-learn.org/stable/model_persistence.html#security-maintainability-limitations\n",
      "  warnings.warn(\n",
      "/dipc/dlopez/.conda/envs/VE_torch/lib/python3.9/site-packages/sklearn/base.py:348: InconsistentVersionWarning: Trying to unpickle estimator StandardScaler from version 1.0 when using version 1.3.2. This might lead to breaking code or invalid results. Use at your own risk. For more info please refer to:\n",
      "https://scikit-learn.org/stable/model_persistence.html#security-maintainability-limitations\n",
      "  warnings.warn(\n",
      "/dipc/dlopez/.conda/envs/VE_torch/lib/python3.9/site-packages/sklearn/base.py:348: InconsistentVersionWarning: Trying to unpickle estimator PCA from version 1.0 when using version 1.3.2. This might lead to breaking code or invalid results. Use at your own risk. For more info please refer to:\n",
      "https://scikit-learn.org/stable/model_persistence.html#security-maintainability-limitations\n",
      "  warnings.warn(\n",
      "/dipc/dlopez/.conda/envs/VE_torch/lib/python3.9/site-packages/sklearn/base.py:348: InconsistentVersionWarning: Trying to unpickle estimator StandardScaler from version 1.0 when using version 1.3.2. This might lead to breaking code or invalid results. Use at your own risk. For more info please refer to:\n",
      "https://scikit-learn.org/stable/model_persistence.html#security-maintainability-limitations\n",
      "  warnings.warn(\n"
     ]
    },
    {
     "name": "stdout",
     "output_type": "stream",
     "text": [
      "Linear emulator loaded in memory.\n",
      "Loading no-wiggles emulator...\n",
      "No-wiggles emulator loaded in memory.\n",
      "Loading non-linear emulator...\n"
     ]
    },
    {
     "name": "stderr",
     "output_type": "stream",
     "text": [
      "/dipc/dlopez/.conda/envs/VE_torch/lib/python3.9/site-packages/sklearn/base.py:348: InconsistentVersionWarning: Trying to unpickle estimator StandardScaler from version 1.0.2 when using version 1.3.2. This might lead to breaking code or invalid results. Use at your own risk. For more info please refer to:\n",
      "https://scikit-learn.org/stable/model_persistence.html#security-maintainability-limitations\n",
      "  warnings.warn(\n",
      "/dipc/dlopez/.conda/envs/VE_torch/lib/python3.9/site-packages/sklearn/base.py:348: InconsistentVersionWarning: Trying to unpickle estimator StandardScaler from version 0.22.1 when using version 1.3.2. This might lead to breaking code or invalid results. Use at your own risk. For more info please refer to:\n",
      "https://scikit-learn.org/stable/model_persistence.html#security-maintainability-limitations\n",
      "  warnings.warn(\n",
      "/dipc/dlopez/.conda/envs/VE_torch/lib/python3.9/site-packages/sklearn/base.py:348: InconsistentVersionWarning: Trying to unpickle estimator PCA from version 0.22.1 when using version 1.3.2. This might lead to breaking code or invalid results. Use at your own risk. For more info please refer to:\n",
      "https://scikit-learn.org/stable/model_persistence.html#security-maintainability-limitations\n",
      "  warnings.warn(\n"
     ]
    },
    {
     "name": "stdout",
     "output_type": "stream",
     "text": [
      "Nonlinear emulator loaded in memory.\n",
      "Loading Baryonic Emulator...\n",
      "Baryonic Emulator loaded in memory.\n"
     ]
    },
    {
     "name": "stderr",
     "output_type": "stream",
     "text": [
      "/dipc/dlopez/.conda/envs/VE_torch/lib/python3.9/site-packages/sklearn/base.py:348: InconsistentVersionWarning: Trying to unpickle estimator StandardScaler from version 0.23.2 when using version 1.3.2. This might lead to breaking code or invalid results. Use at your own risk. For more info please refer to:\n",
      "https://scikit-learn.org/stable/model_persistence.html#security-maintainability-limitations\n",
      "  warnings.warn(\n",
      "/dipc/dlopez/.conda/envs/VE_torch/lib/python3.9/site-packages/sklearn/base.py:348: InconsistentVersionWarning: Trying to unpickle estimator PCA from version 0.23.2 when using version 1.3.2. This might lead to breaking code or invalid results. Use at your own risk. For more info please refer to:\n",
      "https://scikit-learn.org/stable/model_persistence.html#security-maintainability-limitations\n",
      "  warnings.warn(\n"
     ]
    },
    {
     "name": "stdout",
     "output_type": "stream",
     "text": [
      "Loading sigma8 emulator...\n",
      "Sigma8 emulator loaded in memory.\n",
      "Loading linear emulator...\n"
     ]
    },
    {
     "name": "stderr",
     "output_type": "stream",
     "text": [
      "/dipc/dlopez/.conda/envs/VE_torch/lib/python3.9/site-packages/sklearn/base.py:348: InconsistentVersionWarning: Trying to unpickle estimator PCA from version 1.0 when using version 1.3.2. This might lead to breaking code or invalid results. Use at your own risk. For more info please refer to:\n",
      "https://scikit-learn.org/stable/model_persistence.html#security-maintainability-limitations\n",
      "  warnings.warn(\n",
      "/dipc/dlopez/.conda/envs/VE_torch/lib/python3.9/site-packages/sklearn/base.py:348: InconsistentVersionWarning: Trying to unpickle estimator StandardScaler from version 1.0 when using version 1.3.2. This might lead to breaking code or invalid results. Use at your own risk. For more info please refer to:\n",
      "https://scikit-learn.org/stable/model_persistence.html#security-maintainability-limitations\n",
      "  warnings.warn(\n",
      "/dipc/dlopez/.conda/envs/VE_torch/lib/python3.9/site-packages/sklearn/base.py:348: InconsistentVersionWarning: Trying to unpickle estimator PCA from version 1.0 when using version 1.3.2. This might lead to breaking code or invalid results. Use at your own risk. For more info please refer to:\n",
      "https://scikit-learn.org/stable/model_persistence.html#security-maintainability-limitations\n",
      "  warnings.warn(\n",
      "/dipc/dlopez/.conda/envs/VE_torch/lib/python3.9/site-packages/sklearn/base.py:348: InconsistentVersionWarning: Trying to unpickle estimator StandardScaler from version 1.0 when using version 1.3.2. This might lead to breaking code or invalid results. Use at your own risk. For more info please refer to:\n",
      "https://scikit-learn.org/stable/model_persistence.html#security-maintainability-limitations\n",
      "  warnings.warn(\n",
      "/dipc/dlopez/.conda/envs/VE_torch/lib/python3.9/site-packages/sklearn/base.py:348: InconsistentVersionWarning: Trying to unpickle estimator StandardScaler from version 1.0.2 when using version 1.3.2. This might lead to breaking code or invalid results. Use at your own risk. For more info please refer to:\n",
      "https://scikit-learn.org/stable/model_persistence.html#security-maintainability-limitations\n",
      "  warnings.warn(\n"
     ]
    },
    {
     "name": "stdout",
     "output_type": "stream",
     "text": [
      "Linear emulator loaded in memory.\n",
      "Loading no-wiggles emulator...\n",
      "No-wiggles emulator loaded in memory.\n",
      "Loading non-linear emulator...\n"
     ]
    },
    {
     "name": "stderr",
     "output_type": "stream",
     "text": [
      "/dipc/dlopez/.conda/envs/VE_torch/lib/python3.9/site-packages/sklearn/base.py:348: InconsistentVersionWarning: Trying to unpickle estimator StandardScaler from version 0.22.1 when using version 1.3.2. This might lead to breaking code or invalid results. Use at your own risk. For more info please refer to:\n",
      "https://scikit-learn.org/stable/model_persistence.html#security-maintainability-limitations\n",
      "  warnings.warn(\n",
      "/dipc/dlopez/.conda/envs/VE_torch/lib/python3.9/site-packages/sklearn/base.py:348: InconsistentVersionWarning: Trying to unpickle estimator PCA from version 0.22.1 when using version 1.3.2. This might lead to breaking code or invalid results. Use at your own risk. For more info please refer to:\n",
      "https://scikit-learn.org/stable/model_persistence.html#security-maintainability-limitations\n",
      "  warnings.warn(\n",
      "/dipc/dlopez/.conda/envs/VE_torch/lib/python3.9/site-packages/sklearn/base.py:348: InconsistentVersionWarning: Trying to unpickle estimator StandardScaler from version 0.23.2 when using version 1.3.2. This might lead to breaking code or invalid results. Use at your own risk. For more info please refer to:\n",
      "https://scikit-learn.org/stable/model_persistence.html#security-maintainability-limitations\n",
      "  warnings.warn(\n",
      "/dipc/dlopez/.conda/envs/VE_torch/lib/python3.9/site-packages/sklearn/base.py:348: InconsistentVersionWarning: Trying to unpickle estimator PCA from version 0.23.2 when using version 1.3.2. This might lead to breaking code or invalid results. Use at your own risk. For more info please refer to:\n",
      "https://scikit-learn.org/stable/model_persistence.html#security-maintainability-limitations\n",
      "  warnings.warn(\n"
     ]
    },
    {
     "name": "stdout",
     "output_type": "stream",
     "text": [
      "Nonlinear emulator loaded in memory.\n",
      "Loading Baryonic Emulator...\n",
      "Baryonic Emulator loaded in memory.\n",
      "Loading sigma8 emulator...\n",
      "Sigma8 emulator loaded in memory.\n",
      "Loading linear emulator...\n"
     ]
    },
    {
     "name": "stderr",
     "output_type": "stream",
     "text": [
      "/dipc/dlopez/.conda/envs/VE_torch/lib/python3.9/site-packages/sklearn/base.py:348: InconsistentVersionWarning: Trying to unpickle estimator PCA from version 1.0 when using version 1.3.2. This might lead to breaking code or invalid results. Use at your own risk. For more info please refer to:\n",
      "https://scikit-learn.org/stable/model_persistence.html#security-maintainability-limitations\n",
      "  warnings.warn(\n",
      "/dipc/dlopez/.conda/envs/VE_torch/lib/python3.9/site-packages/sklearn/base.py:348: InconsistentVersionWarning: Trying to unpickle estimator StandardScaler from version 1.0 when using version 1.3.2. This might lead to breaking code or invalid results. Use at your own risk. For more info please refer to:\n",
      "https://scikit-learn.org/stable/model_persistence.html#security-maintainability-limitations\n",
      "  warnings.warn(\n",
      "/dipc/dlopez/.conda/envs/VE_torch/lib/python3.9/site-packages/sklearn/base.py:348: InconsistentVersionWarning: Trying to unpickle estimator PCA from version 1.0 when using version 1.3.2. This might lead to breaking code or invalid results. Use at your own risk. For more info please refer to:\n",
      "https://scikit-learn.org/stable/model_persistence.html#security-maintainability-limitations\n",
      "  warnings.warn(\n",
      "/dipc/dlopez/.conda/envs/VE_torch/lib/python3.9/site-packages/sklearn/base.py:348: InconsistentVersionWarning: Trying to unpickle estimator StandardScaler from version 1.0 when using version 1.3.2. This might lead to breaking code or invalid results. Use at your own risk. For more info please refer to:\n",
      "https://scikit-learn.org/stable/model_persistence.html#security-maintainability-limitations\n",
      "  warnings.warn(\n"
     ]
    },
    {
     "name": "stdout",
     "output_type": "stream",
     "text": [
      "Linear emulator loaded in memory.\n",
      "Loading no-wiggles emulator...\n",
      "No-wiggles emulator loaded in memory.\n",
      "Loading non-linear emulator...\n"
     ]
    },
    {
     "name": "stderr",
     "output_type": "stream",
     "text": [
      "/dipc/dlopez/.conda/envs/VE_torch/lib/python3.9/site-packages/sklearn/base.py:348: InconsistentVersionWarning: Trying to unpickle estimator StandardScaler from version 1.0.2 when using version 1.3.2. This might lead to breaking code or invalid results. Use at your own risk. For more info please refer to:\n",
      "https://scikit-learn.org/stable/model_persistence.html#security-maintainability-limitations\n",
      "  warnings.warn(\n",
      "/dipc/dlopez/.conda/envs/VE_torch/lib/python3.9/site-packages/sklearn/base.py:348: InconsistentVersionWarning: Trying to unpickle estimator StandardScaler from version 0.22.1 when using version 1.3.2. This might lead to breaking code or invalid results. Use at your own risk. For more info please refer to:\n",
      "https://scikit-learn.org/stable/model_persistence.html#security-maintainability-limitations\n",
      "  warnings.warn(\n",
      "/dipc/dlopez/.conda/envs/VE_torch/lib/python3.9/site-packages/sklearn/base.py:348: InconsistentVersionWarning: Trying to unpickle estimator PCA from version 0.22.1 when using version 1.3.2. This might lead to breaking code or invalid results. Use at your own risk. For more info please refer to:\n",
      "https://scikit-learn.org/stable/model_persistence.html#security-maintainability-limitations\n",
      "  warnings.warn(\n"
     ]
    },
    {
     "name": "stdout",
     "output_type": "stream",
     "text": [
      "Nonlinear emulator loaded in memory.\n",
      "Loading Baryonic Emulator...\n",
      "Baryonic Emulator loaded in memory.\n"
     ]
    },
    {
     "name": "stderr",
     "output_type": "stream",
     "text": [
      "/dipc/dlopez/.conda/envs/VE_torch/lib/python3.9/site-packages/sklearn/base.py:348: InconsistentVersionWarning: Trying to unpickle estimator StandardScaler from version 0.23.2 when using version 1.3.2. This might lead to breaking code or invalid results. Use at your own risk. For more info please refer to:\n",
      "https://scikit-learn.org/stable/model_persistence.html#security-maintainability-limitations\n",
      "  warnings.warn(\n",
      "/dipc/dlopez/.conda/envs/VE_torch/lib/python3.9/site-packages/sklearn/base.py:348: InconsistentVersionWarning: Trying to unpickle estimator PCA from version 0.23.2 when using version 1.3.2. This might lead to breaking code or invalid results. Use at your own risk. For more info please refer to:\n",
      "https://scikit-learn.org/stable/model_persistence.html#security-maintainability-limitations\n",
      "  warnings.warn(\n"
     ]
    },
    {
     "name": "stdout",
     "output_type": "stream",
     "text": [
      "Loading sigma8 emulator...\n",
      "Sigma8 emulator loaded in memory.\n",
      "Loading linear emulator...\n"
     ]
    },
    {
     "name": "stderr",
     "output_type": "stream",
     "text": [
      "/dipc/dlopez/.conda/envs/VE_torch/lib/python3.9/site-packages/sklearn/base.py:348: InconsistentVersionWarning: Trying to unpickle estimator PCA from version 1.0 when using version 1.3.2. This might lead to breaking code or invalid results. Use at your own risk. For more info please refer to:\n",
      "https://scikit-learn.org/stable/model_persistence.html#security-maintainability-limitations\n",
      "  warnings.warn(\n",
      "/dipc/dlopez/.conda/envs/VE_torch/lib/python3.9/site-packages/sklearn/base.py:348: InconsistentVersionWarning: Trying to unpickle estimator StandardScaler from version 1.0 when using version 1.3.2. This might lead to breaking code or invalid results. Use at your own risk. For more info please refer to:\n",
      "https://scikit-learn.org/stable/model_persistence.html#security-maintainability-limitations\n",
      "  warnings.warn(\n",
      "/dipc/dlopez/.conda/envs/VE_torch/lib/python3.9/site-packages/sklearn/base.py:348: InconsistentVersionWarning: Trying to unpickle estimator PCA from version 1.0 when using version 1.3.2. This might lead to breaking code or invalid results. Use at your own risk. For more info please refer to:\n",
      "https://scikit-learn.org/stable/model_persistence.html#security-maintainability-limitations\n",
      "  warnings.warn(\n",
      "/dipc/dlopez/.conda/envs/VE_torch/lib/python3.9/site-packages/sklearn/base.py:348: InconsistentVersionWarning: Trying to unpickle estimator StandardScaler from version 1.0 when using version 1.3.2. This might lead to breaking code or invalid results. Use at your own risk. For more info please refer to:\n",
      "https://scikit-learn.org/stable/model_persistence.html#security-maintainability-limitations\n",
      "  warnings.warn(\n"
     ]
    },
    {
     "name": "stdout",
     "output_type": "stream",
     "text": [
      "Linear emulator loaded in memory.\n",
      "Loading no-wiggles emulator...\n",
      "No-wiggles emulator loaded in memory.\n",
      "Loading non-linear emulator...\n"
     ]
    },
    {
     "name": "stderr",
     "output_type": "stream",
     "text": [
      "/dipc/dlopez/.conda/envs/VE_torch/lib/python3.9/site-packages/sklearn/base.py:348: InconsistentVersionWarning: Trying to unpickle estimator StandardScaler from version 1.0.2 when using version 1.3.2. This might lead to breaking code or invalid results. Use at your own risk. For more info please refer to:\n",
      "https://scikit-learn.org/stable/model_persistence.html#security-maintainability-limitations\n",
      "  warnings.warn(\n",
      "/dipc/dlopez/.conda/envs/VE_torch/lib/python3.9/site-packages/sklearn/base.py:348: InconsistentVersionWarning: Trying to unpickle estimator StandardScaler from version 0.22.1 when using version 1.3.2. This might lead to breaking code or invalid results. Use at your own risk. For more info please refer to:\n",
      "https://scikit-learn.org/stable/model_persistence.html#security-maintainability-limitations\n",
      "  warnings.warn(\n",
      "/dipc/dlopez/.conda/envs/VE_torch/lib/python3.9/site-packages/sklearn/base.py:348: InconsistentVersionWarning: Trying to unpickle estimator PCA from version 0.22.1 when using version 1.3.2. This might lead to breaking code or invalid results. Use at your own risk. For more info please refer to:\n",
      "https://scikit-learn.org/stable/model_persistence.html#security-maintainability-limitations\n",
      "  warnings.warn(\n"
     ]
    },
    {
     "name": "stdout",
     "output_type": "stream",
     "text": [
      "Nonlinear emulator loaded in memory.\n",
      "Loading Baryonic Emulator...\n"
     ]
    },
    {
     "name": "stderr",
     "output_type": "stream",
     "text": [
      "/dipc/dlopez/.conda/envs/VE_torch/lib/python3.9/site-packages/sklearn/base.py:348: InconsistentVersionWarning: Trying to unpickle estimator StandardScaler from version 0.23.2 when using version 1.3.2. This might lead to breaking code or invalid results. Use at your own risk. For more info please refer to:\n",
      "https://scikit-learn.org/stable/model_persistence.html#security-maintainability-limitations\n",
      "  warnings.warn(\n",
      "/dipc/dlopez/.conda/envs/VE_torch/lib/python3.9/site-packages/sklearn/base.py:348: InconsistentVersionWarning: Trying to unpickle estimator PCA from version 0.23.2 when using version 1.3.2. This might lead to breaking code or invalid results. Use at your own risk. For more info please refer to:\n",
      "https://scikit-learn.org/stable/model_persistence.html#security-maintainability-limitations\n",
      "  warnings.warn(\n"
     ]
    },
    {
     "name": "stdout",
     "output_type": "stream",
     "text": [
      "Baryonic Emulator loaded in memory.\n",
      "Loading sigma8 emulator...\n",
      "Sigma8 emulator loaded in memory.\n",
      "Loading linear emulator...\n"
     ]
    },
    {
     "name": "stderr",
     "output_type": "stream",
     "text": [
      "/dipc/dlopez/.conda/envs/VE_torch/lib/python3.9/site-packages/sklearn/base.py:348: InconsistentVersionWarning: Trying to unpickle estimator PCA from version 1.0 when using version 1.3.2. This might lead to breaking code or invalid results. Use at your own risk. For more info please refer to:\n",
      "https://scikit-learn.org/stable/model_persistence.html#security-maintainability-limitations\n",
      "  warnings.warn(\n",
      "/dipc/dlopez/.conda/envs/VE_torch/lib/python3.9/site-packages/sklearn/base.py:348: InconsistentVersionWarning: Trying to unpickle estimator StandardScaler from version 1.0 when using version 1.3.2. This might lead to breaking code or invalid results. Use at your own risk. For more info please refer to:\n",
      "https://scikit-learn.org/stable/model_persistence.html#security-maintainability-limitations\n",
      "  warnings.warn(\n",
      "/dipc/dlopez/.conda/envs/VE_torch/lib/python3.9/site-packages/sklearn/base.py:348: InconsistentVersionWarning: Trying to unpickle estimator PCA from version 1.0 when using version 1.3.2. This might lead to breaking code or invalid results. Use at your own risk. For more info please refer to:\n",
      "https://scikit-learn.org/stable/model_persistence.html#security-maintainability-limitations\n",
      "  warnings.warn(\n",
      "/dipc/dlopez/.conda/envs/VE_torch/lib/python3.9/site-packages/sklearn/base.py:348: InconsistentVersionWarning: Trying to unpickle estimator StandardScaler from version 1.0 when using version 1.3.2. This might lead to breaking code or invalid results. Use at your own risk. For more info please refer to:\n",
      "https://scikit-learn.org/stable/model_persistence.html#security-maintainability-limitations\n",
      "  warnings.warn(\n"
     ]
    },
    {
     "name": "stdout",
     "output_type": "stream",
     "text": [
      "Linear emulator loaded in memory.\n",
      "Loading no-wiggles emulator...\n",
      "No-wiggles emulator loaded in memory.\n",
      "Loading non-linear emulator...\n"
     ]
    },
    {
     "name": "stderr",
     "output_type": "stream",
     "text": [
      "/dipc/dlopez/.conda/envs/VE_torch/lib/python3.9/site-packages/sklearn/base.py:348: InconsistentVersionWarning: Trying to unpickle estimator StandardScaler from version 1.0.2 when using version 1.3.2. This might lead to breaking code or invalid results. Use at your own risk. For more info please refer to:\n",
      "https://scikit-learn.org/stable/model_persistence.html#security-maintainability-limitations\n",
      "  warnings.warn(\n",
      "/dipc/dlopez/.conda/envs/VE_torch/lib/python3.9/site-packages/sklearn/base.py:348: InconsistentVersionWarning: Trying to unpickle estimator StandardScaler from version 0.22.1 when using version 1.3.2. This might lead to breaking code or invalid results. Use at your own risk. For more info please refer to:\n",
      "https://scikit-learn.org/stable/model_persistence.html#security-maintainability-limitations\n",
      "  warnings.warn(\n",
      "/dipc/dlopez/.conda/envs/VE_torch/lib/python3.9/site-packages/sklearn/base.py:348: InconsistentVersionWarning: Trying to unpickle estimator PCA from version 0.22.1 when using version 1.3.2. This might lead to breaking code or invalid results. Use at your own risk. For more info please refer to:\n",
      "https://scikit-learn.org/stable/model_persistence.html#security-maintainability-limitations\n",
      "  warnings.warn(\n"
     ]
    },
    {
     "name": "stdout",
     "output_type": "stream",
     "text": [
      "Nonlinear emulator loaded in memory.\n",
      "Loading Baryonic Emulator...\n",
      "Baryonic Emulator loaded in memory.\n"
     ]
    },
    {
     "name": "stderr",
     "output_type": "stream",
     "text": [
      "/dipc/dlopez/.conda/envs/VE_torch/lib/python3.9/site-packages/sklearn/base.py:348: InconsistentVersionWarning: Trying to unpickle estimator StandardScaler from version 0.23.2 when using version 1.3.2. This might lead to breaking code or invalid results. Use at your own risk. For more info please refer to:\n",
      "https://scikit-learn.org/stable/model_persistence.html#security-maintainability-limitations\n",
      "  warnings.warn(\n",
      "/dipc/dlopez/.conda/envs/VE_torch/lib/python3.9/site-packages/sklearn/base.py:348: InconsistentVersionWarning: Trying to unpickle estimator PCA from version 0.23.2 when using version 1.3.2. This might lead to breaking code or invalid results. Use at your own risk. For more info please refer to:\n",
      "https://scikit-learn.org/stable/model_persistence.html#security-maintainability-limitations\n",
      "  warnings.warn(\n"
     ]
    }
   ],
   "source": [
    "for ii in range(sample_fixed_baryon_models.shape[0]):\n",
    "    model_name = \"Model_fixed_\" + str(ii)\n",
    "    NN_samples_augs = 1\n",
    "    dict_bounds_augs = dict(\n",
    "        M_c       = sample_fixed_baryon_models[ii,0],\n",
    "        eta       = sample_fixed_baryon_models[ii,1],\n",
    "        beta      = sample_fixed_baryon_models[ii,2],\n",
    "        M1_z0_cen = sample_fixed_baryon_models[ii,3],\n",
    "        theta_out = sample_fixed_baryon_models[ii,4],\n",
    "        theta_inn = sample_fixed_baryon_models[ii,5],\n",
    "        M_inn     = sample_fixed_baryon_models[ii,6],\n",
    "    )\n",
    "    COSMOS[ds_mode][model_name], XX[ds_mode][model_name], AUG_PARAMS[ds_mode][model_name], EXTENDED_AUG_PARAMS[ds_mode][model_name] = cl_inference.preprocessing_tools.generate_baccoemu_dataset(\n",
    "        NN_samples_cosmo  = NN_samples_cosmo_test,\n",
    "        NN_samples_augs   = NN_samples_augs,\n",
    "        dict_bounds_cosmo = dict_bounds_cosmo_test,\n",
    "        dict_bounds_augs  = dict_bounds_augs,\n",
    "        seed              = seed_test,\n",
    "        path_save         = path_save,\n",
    "        model_name        = model_name,\n",
    "        kmax              = kmax, box=box\n",
    "    )"
   ]
  },
  {
   "cell_type": "markdown",
   "id": "9c9de55f",
   "metadata": {},
   "source": [
    "# VALIDATE DATASETS"
   ]
  },
  {
   "cell_type": "code",
   "execution_count": 44,
   "id": "76248fea",
   "metadata": {},
   "outputs": [],
   "source": [
    "kf = 2.0 * np.pi / box\n",
    "kmin=np.log10(4*kf)\n",
    "N_kk = int((kmax - kmin) / (8*kf))\n",
    "kk = np.logspace(kmin, kmax, num=N_kk)"
   ]
  },
  {
   "cell_type": "code",
   "execution_count": 45,
   "id": "90b3dc7a",
   "metadata": {},
   "outputs": [
    {
     "name": "stdout",
     "output_type": "stream",
     "text": [
      "(2048, 5)\n",
      "[0.24000642 0.04100643 0.61004414 0.93000435 0.74001409]\n",
      "[0.38995125 0.05899252 0.78999431 0.99998963 0.88994846]\n",
      "(2048, 1, 99)\n",
      "1.5893383733205\n",
      "4.774357818575226\n",
      "(2048, 1, 0)\n",
      "(2048, 0)\n",
      "[]\n",
      "[]\n",
      "(2048, 1, 7)\n"
     ]
    }
   ],
   "source": [
    "ds_mode = 'TEST'\n",
    "model_name = 'Model_fixed_illustris'\n",
    "\n",
    "cosmos = COSMOS[ds_mode][model_name]\n",
    "xx = XX[ds_mode][model_name]\n",
    "aug_params = AUG_PARAMS[ds_mode][model_name]\n",
    "extended_aug_params = EXTENDED_AUG_PARAMS[ds_mode][model_name]\n",
    "\n",
    "print(cosmos.shape)\n",
    "print(np.min(cosmos, axis=0))\n",
    "print(np.max(cosmos, axis=0))\n",
    "\n",
    "print(xx.shape)\n",
    "print(xx.min())\n",
    "print(xx.max())\n",
    "\n",
    "print(aug_params.shape)\n",
    "tmp_aug_params = np.reshape(aug_params, (aug_params.shape[0]*aug_params.shape[1], aug_params.shape[-1]))\n",
    "print(tmp_aug_params.shape)\n",
    "print(np.min(tmp_aug_params, axis=0))\n",
    "print(np.max(tmp_aug_params, axis=0))\n",
    "\n",
    "print(extended_aug_params.shape)"
   ]
  },
  {
   "cell_type": "code",
   "execution_count": 46,
   "id": "2d35ae49",
   "metadata": {
    "scrolled": false
   },
   "outputs": [
    {
     "data": {
      "application/javascript": [
       "/* Put everything inside the global mpl namespace */\n",
       "/* global mpl */\n",
       "window.mpl = {};\n",
       "\n",
       "mpl.get_websocket_type = function () {\n",
       "    if (typeof WebSocket !== 'undefined') {\n",
       "        return WebSocket;\n",
       "    } else if (typeof MozWebSocket !== 'undefined') {\n",
       "        return MozWebSocket;\n",
       "    } else {\n",
       "        alert(\n",
       "            'Your browser does not have WebSocket support. ' +\n",
       "                'Please try Chrome, Safari or Firefox ≥ 6. ' +\n",
       "                'Firefox 4 and 5 are also supported but you ' +\n",
       "                'have to enable WebSockets in about:config.'\n",
       "        );\n",
       "    }\n",
       "};\n",
       "\n",
       "mpl.figure = function (figure_id, websocket, ondownload, parent_element) {\n",
       "    this.id = figure_id;\n",
       "\n",
       "    this.ws = websocket;\n",
       "\n",
       "    this.supports_binary = this.ws.binaryType !== undefined;\n",
       "\n",
       "    if (!this.supports_binary) {\n",
       "        var warnings = document.getElementById('mpl-warnings');\n",
       "        if (warnings) {\n",
       "            warnings.style.display = 'block';\n",
       "            warnings.textContent =\n",
       "                'This browser does not support binary websocket messages. ' +\n",
       "                'Performance may be slow.';\n",
       "        }\n",
       "    }\n",
       "\n",
       "    this.imageObj = new Image();\n",
       "\n",
       "    this.context = undefined;\n",
       "    this.message = undefined;\n",
       "    this.canvas = undefined;\n",
       "    this.rubberband_canvas = undefined;\n",
       "    this.rubberband_context = undefined;\n",
       "    this.format_dropdown = undefined;\n",
       "\n",
       "    this.image_mode = 'full';\n",
       "\n",
       "    this.root = document.createElement('div');\n",
       "    this.root.setAttribute('style', 'display: inline-block');\n",
       "    this._root_extra_style(this.root);\n",
       "\n",
       "    parent_element.appendChild(this.root);\n",
       "\n",
       "    this._init_header(this);\n",
       "    this._init_canvas(this);\n",
       "    this._init_toolbar(this);\n",
       "\n",
       "    var fig = this;\n",
       "\n",
       "    this.waiting = false;\n",
       "\n",
       "    this.ws.onopen = function () {\n",
       "        fig.send_message('supports_binary', { value: fig.supports_binary });\n",
       "        fig.send_message('send_image_mode', {});\n",
       "        if (fig.ratio !== 1) {\n",
       "            fig.send_message('set_device_pixel_ratio', {\n",
       "                device_pixel_ratio: fig.ratio,\n",
       "            });\n",
       "        }\n",
       "        fig.send_message('refresh', {});\n",
       "    };\n",
       "\n",
       "    this.imageObj.onload = function () {\n",
       "        if (fig.image_mode === 'full') {\n",
       "            // Full images could contain transparency (where diff images\n",
       "            // almost always do), so we need to clear the canvas so that\n",
       "            // there is no ghosting.\n",
       "            fig.context.clearRect(0, 0, fig.canvas.width, fig.canvas.height);\n",
       "        }\n",
       "        fig.context.drawImage(fig.imageObj, 0, 0);\n",
       "    };\n",
       "\n",
       "    this.imageObj.onunload = function () {\n",
       "        fig.ws.close();\n",
       "    };\n",
       "\n",
       "    this.ws.onmessage = this._make_on_message_function(this);\n",
       "\n",
       "    this.ondownload = ondownload;\n",
       "};\n",
       "\n",
       "mpl.figure.prototype._init_header = function () {\n",
       "    var titlebar = document.createElement('div');\n",
       "    titlebar.classList =\n",
       "        'ui-dialog-titlebar ui-widget-header ui-corner-all ui-helper-clearfix';\n",
       "    var titletext = document.createElement('div');\n",
       "    titletext.classList = 'ui-dialog-title';\n",
       "    titletext.setAttribute(\n",
       "        'style',\n",
       "        'width: 100%; text-align: center; padding: 3px;'\n",
       "    );\n",
       "    titlebar.appendChild(titletext);\n",
       "    this.root.appendChild(titlebar);\n",
       "    this.header = titletext;\n",
       "};\n",
       "\n",
       "mpl.figure.prototype._canvas_extra_style = function (_canvas_div) {};\n",
       "\n",
       "mpl.figure.prototype._root_extra_style = function (_canvas_div) {};\n",
       "\n",
       "mpl.figure.prototype._init_canvas = function () {\n",
       "    var fig = this;\n",
       "\n",
       "    var canvas_div = (this.canvas_div = document.createElement('div'));\n",
       "    canvas_div.setAttribute('tabindex', '0');\n",
       "    canvas_div.setAttribute(\n",
       "        'style',\n",
       "        'border: 1px solid #ddd;' +\n",
       "            'box-sizing: content-box;' +\n",
       "            'clear: both;' +\n",
       "            'min-height: 1px;' +\n",
       "            'min-width: 1px;' +\n",
       "            'outline: 0;' +\n",
       "            'overflow: hidden;' +\n",
       "            'position: relative;' +\n",
       "            'resize: both;' +\n",
       "            'z-index: 2;'\n",
       "    );\n",
       "\n",
       "    function on_keyboard_event_closure(name) {\n",
       "        return function (event) {\n",
       "            return fig.key_event(event, name);\n",
       "        };\n",
       "    }\n",
       "\n",
       "    canvas_div.addEventListener(\n",
       "        'keydown',\n",
       "        on_keyboard_event_closure('key_press')\n",
       "    );\n",
       "    canvas_div.addEventListener(\n",
       "        'keyup',\n",
       "        on_keyboard_event_closure('key_release')\n",
       "    );\n",
       "\n",
       "    this._canvas_extra_style(canvas_div);\n",
       "    this.root.appendChild(canvas_div);\n",
       "\n",
       "    var canvas = (this.canvas = document.createElement('canvas'));\n",
       "    canvas.classList.add('mpl-canvas');\n",
       "    canvas.setAttribute(\n",
       "        'style',\n",
       "        'box-sizing: content-box;' +\n",
       "            'pointer-events: none;' +\n",
       "            'position: relative;' +\n",
       "            'z-index: 0;'\n",
       "    );\n",
       "\n",
       "    this.context = canvas.getContext('2d');\n",
       "\n",
       "    var backingStore =\n",
       "        this.context.backingStorePixelRatio ||\n",
       "        this.context.webkitBackingStorePixelRatio ||\n",
       "        this.context.mozBackingStorePixelRatio ||\n",
       "        this.context.msBackingStorePixelRatio ||\n",
       "        this.context.oBackingStorePixelRatio ||\n",
       "        this.context.backingStorePixelRatio ||\n",
       "        1;\n",
       "\n",
       "    this.ratio = (window.devicePixelRatio || 1) / backingStore;\n",
       "\n",
       "    var rubberband_canvas = (this.rubberband_canvas = document.createElement(\n",
       "        'canvas'\n",
       "    ));\n",
       "    rubberband_canvas.setAttribute(\n",
       "        'style',\n",
       "        'box-sizing: content-box;' +\n",
       "            'left: 0;' +\n",
       "            'pointer-events: none;' +\n",
       "            'position: absolute;' +\n",
       "            'top: 0;' +\n",
       "            'z-index: 1;'\n",
       "    );\n",
       "\n",
       "    // Apply a ponyfill if ResizeObserver is not implemented by browser.\n",
       "    if (this.ResizeObserver === undefined) {\n",
       "        if (window.ResizeObserver !== undefined) {\n",
       "            this.ResizeObserver = window.ResizeObserver;\n",
       "        } else {\n",
       "            var obs = _JSXTOOLS_RESIZE_OBSERVER({});\n",
       "            this.ResizeObserver = obs.ResizeObserver;\n",
       "        }\n",
       "    }\n",
       "\n",
       "    this.resizeObserverInstance = new this.ResizeObserver(function (entries) {\n",
       "        var nentries = entries.length;\n",
       "        for (var i = 0; i < nentries; i++) {\n",
       "            var entry = entries[i];\n",
       "            var width, height;\n",
       "            if (entry.contentBoxSize) {\n",
       "                if (entry.contentBoxSize instanceof Array) {\n",
       "                    // Chrome 84 implements new version of spec.\n",
       "                    width = entry.contentBoxSize[0].inlineSize;\n",
       "                    height = entry.contentBoxSize[0].blockSize;\n",
       "                } else {\n",
       "                    // Firefox implements old version of spec.\n",
       "                    width = entry.contentBoxSize.inlineSize;\n",
       "                    height = entry.contentBoxSize.blockSize;\n",
       "                }\n",
       "            } else {\n",
       "                // Chrome <84 implements even older version of spec.\n",
       "                width = entry.contentRect.width;\n",
       "                height = entry.contentRect.height;\n",
       "            }\n",
       "\n",
       "            // Keep the size of the canvas and rubber band canvas in sync with\n",
       "            // the canvas container.\n",
       "            if (entry.devicePixelContentBoxSize) {\n",
       "                // Chrome 84 implements new version of spec.\n",
       "                canvas.setAttribute(\n",
       "                    'width',\n",
       "                    entry.devicePixelContentBoxSize[0].inlineSize\n",
       "                );\n",
       "                canvas.setAttribute(\n",
       "                    'height',\n",
       "                    entry.devicePixelContentBoxSize[0].blockSize\n",
       "                );\n",
       "            } else {\n",
       "                canvas.setAttribute('width', width * fig.ratio);\n",
       "                canvas.setAttribute('height', height * fig.ratio);\n",
       "            }\n",
       "            /* This rescales the canvas back to display pixels, so that it\n",
       "             * appears correct on HiDPI screens. */\n",
       "            canvas.style.width = width + 'px';\n",
       "            canvas.style.height = height + 'px';\n",
       "\n",
       "            rubberband_canvas.setAttribute('width', width);\n",
       "            rubberband_canvas.setAttribute('height', height);\n",
       "\n",
       "            // And update the size in Python. We ignore the initial 0/0 size\n",
       "            // that occurs as the element is placed into the DOM, which should\n",
       "            // otherwise not happen due to the minimum size styling.\n",
       "            if (fig.ws.readyState == 1 && width != 0 && height != 0) {\n",
       "                fig.request_resize(width, height);\n",
       "            }\n",
       "        }\n",
       "    });\n",
       "    this.resizeObserverInstance.observe(canvas_div);\n",
       "\n",
       "    function on_mouse_event_closure(name) {\n",
       "        /* User Agent sniffing is bad, but WebKit is busted:\n",
       "         * https://bugs.webkit.org/show_bug.cgi?id=144526\n",
       "         * https://bugs.webkit.org/show_bug.cgi?id=181818\n",
       "         * The worst that happens here is that they get an extra browser\n",
       "         * selection when dragging, if this check fails to catch them.\n",
       "         */\n",
       "        var UA = navigator.userAgent;\n",
       "        var isWebKit = /AppleWebKit/.test(UA) && !/Chrome/.test(UA);\n",
       "        if(isWebKit) {\n",
       "            return function (event) {\n",
       "                /* This prevents the web browser from automatically changing to\n",
       "                 * the text insertion cursor when the button is pressed. We\n",
       "                 * want to control all of the cursor setting manually through\n",
       "                 * the 'cursor' event from matplotlib */\n",
       "                event.preventDefault()\n",
       "                return fig.mouse_event(event, name);\n",
       "            };\n",
       "        } else {\n",
       "            return function (event) {\n",
       "                return fig.mouse_event(event, name);\n",
       "            };\n",
       "        }\n",
       "    }\n",
       "\n",
       "    canvas_div.addEventListener(\n",
       "        'mousedown',\n",
       "        on_mouse_event_closure('button_press')\n",
       "    );\n",
       "    canvas_div.addEventListener(\n",
       "        'mouseup',\n",
       "        on_mouse_event_closure('button_release')\n",
       "    );\n",
       "    canvas_div.addEventListener(\n",
       "        'dblclick',\n",
       "        on_mouse_event_closure('dblclick')\n",
       "    );\n",
       "    // Throttle sequential mouse events to 1 every 20ms.\n",
       "    canvas_div.addEventListener(\n",
       "        'mousemove',\n",
       "        on_mouse_event_closure('motion_notify')\n",
       "    );\n",
       "\n",
       "    canvas_div.addEventListener(\n",
       "        'mouseenter',\n",
       "        on_mouse_event_closure('figure_enter')\n",
       "    );\n",
       "    canvas_div.addEventListener(\n",
       "        'mouseleave',\n",
       "        on_mouse_event_closure('figure_leave')\n",
       "    );\n",
       "\n",
       "    canvas_div.addEventListener('wheel', function (event) {\n",
       "        if (event.deltaY < 0) {\n",
       "            event.step = 1;\n",
       "        } else {\n",
       "            event.step = -1;\n",
       "        }\n",
       "        on_mouse_event_closure('scroll')(event);\n",
       "    });\n",
       "\n",
       "    canvas_div.appendChild(canvas);\n",
       "    canvas_div.appendChild(rubberband_canvas);\n",
       "\n",
       "    this.rubberband_context = rubberband_canvas.getContext('2d');\n",
       "    this.rubberband_context.strokeStyle = '#000000';\n",
       "\n",
       "    this._resize_canvas = function (width, height, forward) {\n",
       "        if (forward) {\n",
       "            canvas_div.style.width = width + 'px';\n",
       "            canvas_div.style.height = height + 'px';\n",
       "        }\n",
       "    };\n",
       "\n",
       "    // Disable right mouse context menu.\n",
       "    canvas_div.addEventListener('contextmenu', function (_e) {\n",
       "        event.preventDefault();\n",
       "        return false;\n",
       "    });\n",
       "\n",
       "    function set_focus() {\n",
       "        canvas.focus();\n",
       "        canvas_div.focus();\n",
       "    }\n",
       "\n",
       "    window.setTimeout(set_focus, 100);\n",
       "};\n",
       "\n",
       "mpl.figure.prototype._init_toolbar = function () {\n",
       "    var fig = this;\n",
       "\n",
       "    var toolbar = document.createElement('div');\n",
       "    toolbar.classList = 'mpl-toolbar';\n",
       "    this.root.appendChild(toolbar);\n",
       "\n",
       "    function on_click_closure(name) {\n",
       "        return function (_event) {\n",
       "            return fig.toolbar_button_onclick(name);\n",
       "        };\n",
       "    }\n",
       "\n",
       "    function on_mouseover_closure(tooltip) {\n",
       "        return function (event) {\n",
       "            if (!event.currentTarget.disabled) {\n",
       "                return fig.toolbar_button_onmouseover(tooltip);\n",
       "            }\n",
       "        };\n",
       "    }\n",
       "\n",
       "    fig.buttons = {};\n",
       "    var buttonGroup = document.createElement('div');\n",
       "    buttonGroup.classList = 'mpl-button-group';\n",
       "    for (var toolbar_ind in mpl.toolbar_items) {\n",
       "        var name = mpl.toolbar_items[toolbar_ind][0];\n",
       "        var tooltip = mpl.toolbar_items[toolbar_ind][1];\n",
       "        var image = mpl.toolbar_items[toolbar_ind][2];\n",
       "        var method_name = mpl.toolbar_items[toolbar_ind][3];\n",
       "\n",
       "        if (!name) {\n",
       "            /* Instead of a spacer, we start a new button group. */\n",
       "            if (buttonGroup.hasChildNodes()) {\n",
       "                toolbar.appendChild(buttonGroup);\n",
       "            }\n",
       "            buttonGroup = document.createElement('div');\n",
       "            buttonGroup.classList = 'mpl-button-group';\n",
       "            continue;\n",
       "        }\n",
       "\n",
       "        var button = (fig.buttons[name] = document.createElement('button'));\n",
       "        button.classList = 'mpl-widget';\n",
       "        button.setAttribute('role', 'button');\n",
       "        button.setAttribute('aria-disabled', 'false');\n",
       "        button.addEventListener('click', on_click_closure(method_name));\n",
       "        button.addEventListener('mouseover', on_mouseover_closure(tooltip));\n",
       "\n",
       "        var icon_img = document.createElement('img');\n",
       "        icon_img.src = '_images/' + image + '.png';\n",
       "        icon_img.srcset = '_images/' + image + '_large.png 2x';\n",
       "        icon_img.alt = tooltip;\n",
       "        button.appendChild(icon_img);\n",
       "\n",
       "        buttonGroup.appendChild(button);\n",
       "    }\n",
       "\n",
       "    if (buttonGroup.hasChildNodes()) {\n",
       "        toolbar.appendChild(buttonGroup);\n",
       "    }\n",
       "\n",
       "    var fmt_picker = document.createElement('select');\n",
       "    fmt_picker.classList = 'mpl-widget';\n",
       "    toolbar.appendChild(fmt_picker);\n",
       "    this.format_dropdown = fmt_picker;\n",
       "\n",
       "    for (var ind in mpl.extensions) {\n",
       "        var fmt = mpl.extensions[ind];\n",
       "        var option = document.createElement('option');\n",
       "        option.selected = fmt === mpl.default_extension;\n",
       "        option.innerHTML = fmt;\n",
       "        fmt_picker.appendChild(option);\n",
       "    }\n",
       "\n",
       "    var status_bar = document.createElement('span');\n",
       "    status_bar.classList = 'mpl-message';\n",
       "    toolbar.appendChild(status_bar);\n",
       "    this.message = status_bar;\n",
       "};\n",
       "\n",
       "mpl.figure.prototype.request_resize = function (x_pixels, y_pixels) {\n",
       "    // Request matplotlib to resize the figure. Matplotlib will then trigger a resize in the client,\n",
       "    // which will in turn request a refresh of the image.\n",
       "    this.send_message('resize', { width: x_pixels, height: y_pixels });\n",
       "};\n",
       "\n",
       "mpl.figure.prototype.send_message = function (type, properties) {\n",
       "    properties['type'] = type;\n",
       "    properties['figure_id'] = this.id;\n",
       "    this.ws.send(JSON.stringify(properties));\n",
       "};\n",
       "\n",
       "mpl.figure.prototype.send_draw_message = function () {\n",
       "    if (!this.waiting) {\n",
       "        this.waiting = true;\n",
       "        this.ws.send(JSON.stringify({ type: 'draw', figure_id: this.id }));\n",
       "    }\n",
       "};\n",
       "\n",
       "mpl.figure.prototype.handle_save = function (fig, _msg) {\n",
       "    var format_dropdown = fig.format_dropdown;\n",
       "    var format = format_dropdown.options[format_dropdown.selectedIndex].value;\n",
       "    fig.ondownload(fig, format);\n",
       "};\n",
       "\n",
       "mpl.figure.prototype.handle_resize = function (fig, msg) {\n",
       "    var size = msg['size'];\n",
       "    if (size[0] !== fig.canvas.width || size[1] !== fig.canvas.height) {\n",
       "        fig._resize_canvas(size[0], size[1], msg['forward']);\n",
       "        fig.send_message('refresh', {});\n",
       "    }\n",
       "};\n",
       "\n",
       "mpl.figure.prototype.handle_rubberband = function (fig, msg) {\n",
       "    var x0 = msg['x0'] / fig.ratio;\n",
       "    var y0 = (fig.canvas.height - msg['y0']) / fig.ratio;\n",
       "    var x1 = msg['x1'] / fig.ratio;\n",
       "    var y1 = (fig.canvas.height - msg['y1']) / fig.ratio;\n",
       "    x0 = Math.floor(x0) + 0.5;\n",
       "    y0 = Math.floor(y0) + 0.5;\n",
       "    x1 = Math.floor(x1) + 0.5;\n",
       "    y1 = Math.floor(y1) + 0.5;\n",
       "    var min_x = Math.min(x0, x1);\n",
       "    var min_y = Math.min(y0, y1);\n",
       "    var width = Math.abs(x1 - x0);\n",
       "    var height = Math.abs(y1 - y0);\n",
       "\n",
       "    fig.rubberband_context.clearRect(\n",
       "        0,\n",
       "        0,\n",
       "        fig.canvas.width / fig.ratio,\n",
       "        fig.canvas.height / fig.ratio\n",
       "    );\n",
       "\n",
       "    fig.rubberband_context.strokeRect(min_x, min_y, width, height);\n",
       "};\n",
       "\n",
       "mpl.figure.prototype.handle_figure_label = function (fig, msg) {\n",
       "    // Updates the figure title.\n",
       "    fig.header.textContent = msg['label'];\n",
       "};\n",
       "\n",
       "mpl.figure.prototype.handle_cursor = function (fig, msg) {\n",
       "    fig.canvas_div.style.cursor = msg['cursor'];\n",
       "};\n",
       "\n",
       "mpl.figure.prototype.handle_message = function (fig, msg) {\n",
       "    fig.message.textContent = msg['message'];\n",
       "};\n",
       "\n",
       "mpl.figure.prototype.handle_draw = function (fig, _msg) {\n",
       "    // Request the server to send over a new figure.\n",
       "    fig.send_draw_message();\n",
       "};\n",
       "\n",
       "mpl.figure.prototype.handle_image_mode = function (fig, msg) {\n",
       "    fig.image_mode = msg['mode'];\n",
       "};\n",
       "\n",
       "mpl.figure.prototype.handle_history_buttons = function (fig, msg) {\n",
       "    for (var key in msg) {\n",
       "        if (!(key in fig.buttons)) {\n",
       "            continue;\n",
       "        }\n",
       "        fig.buttons[key].disabled = !msg[key];\n",
       "        fig.buttons[key].setAttribute('aria-disabled', !msg[key]);\n",
       "    }\n",
       "};\n",
       "\n",
       "mpl.figure.prototype.handle_navigate_mode = function (fig, msg) {\n",
       "    if (msg['mode'] === 'PAN') {\n",
       "        fig.buttons['Pan'].classList.add('active');\n",
       "        fig.buttons['Zoom'].classList.remove('active');\n",
       "    } else if (msg['mode'] === 'ZOOM') {\n",
       "        fig.buttons['Pan'].classList.remove('active');\n",
       "        fig.buttons['Zoom'].classList.add('active');\n",
       "    } else {\n",
       "        fig.buttons['Pan'].classList.remove('active');\n",
       "        fig.buttons['Zoom'].classList.remove('active');\n",
       "    }\n",
       "};\n",
       "\n",
       "mpl.figure.prototype.updated_canvas_event = function () {\n",
       "    // Called whenever the canvas gets updated.\n",
       "    this.send_message('ack', {});\n",
       "};\n",
       "\n",
       "// A function to construct a web socket function for onmessage handling.\n",
       "// Called in the figure constructor.\n",
       "mpl.figure.prototype._make_on_message_function = function (fig) {\n",
       "    return function socket_on_message(evt) {\n",
       "        if (evt.data instanceof Blob) {\n",
       "            var img = evt.data;\n",
       "            if (img.type !== 'image/png') {\n",
       "                /* FIXME: We get \"Resource interpreted as Image but\n",
       "                 * transferred with MIME type text/plain:\" errors on\n",
       "                 * Chrome.  But how to set the MIME type?  It doesn't seem\n",
       "                 * to be part of the websocket stream */\n",
       "                img.type = 'image/png';\n",
       "            }\n",
       "\n",
       "            /* Free the memory for the previous frames */\n",
       "            if (fig.imageObj.src) {\n",
       "                (window.URL || window.webkitURL).revokeObjectURL(\n",
       "                    fig.imageObj.src\n",
       "                );\n",
       "            }\n",
       "\n",
       "            fig.imageObj.src = (window.URL || window.webkitURL).createObjectURL(\n",
       "                img\n",
       "            );\n",
       "            fig.updated_canvas_event();\n",
       "            fig.waiting = false;\n",
       "            return;\n",
       "        } else if (\n",
       "            typeof evt.data === 'string' &&\n",
       "            evt.data.slice(0, 21) === 'data:image/png;base64'\n",
       "        ) {\n",
       "            fig.imageObj.src = evt.data;\n",
       "            fig.updated_canvas_event();\n",
       "            fig.waiting = false;\n",
       "            return;\n",
       "        }\n",
       "\n",
       "        var msg = JSON.parse(evt.data);\n",
       "        var msg_type = msg['type'];\n",
       "\n",
       "        // Call the  \"handle_{type}\" callback, which takes\n",
       "        // the figure and JSON message as its only arguments.\n",
       "        try {\n",
       "            var callback = fig['handle_' + msg_type];\n",
       "        } catch (e) {\n",
       "            console.log(\n",
       "                \"No handler for the '\" + msg_type + \"' message type: \",\n",
       "                msg\n",
       "            );\n",
       "            return;\n",
       "        }\n",
       "\n",
       "        if (callback) {\n",
       "            try {\n",
       "                // console.log(\"Handling '\" + msg_type + \"' message: \", msg);\n",
       "                callback(fig, msg);\n",
       "            } catch (e) {\n",
       "                console.log(\n",
       "                    \"Exception inside the 'handler_\" + msg_type + \"' callback:\",\n",
       "                    e,\n",
       "                    e.stack,\n",
       "                    msg\n",
       "                );\n",
       "            }\n",
       "        }\n",
       "    };\n",
       "};\n",
       "\n",
       "function getModifiers(event) {\n",
       "    var mods = [];\n",
       "    if (event.ctrlKey) {\n",
       "        mods.push('ctrl');\n",
       "    }\n",
       "    if (event.altKey) {\n",
       "        mods.push('alt');\n",
       "    }\n",
       "    if (event.shiftKey) {\n",
       "        mods.push('shift');\n",
       "    }\n",
       "    if (event.metaKey) {\n",
       "        mods.push('meta');\n",
       "    }\n",
       "    return mods;\n",
       "}\n",
       "\n",
       "/*\n",
       " * return a copy of an object with only non-object keys\n",
       " * we need this to avoid circular references\n",
       " * https://stackoverflow.com/a/24161582/3208463\n",
       " */\n",
       "function simpleKeys(original) {\n",
       "    return Object.keys(original).reduce(function (obj, key) {\n",
       "        if (typeof original[key] !== 'object') {\n",
       "            obj[key] = original[key];\n",
       "        }\n",
       "        return obj;\n",
       "    }, {});\n",
       "}\n",
       "\n",
       "mpl.figure.prototype.mouse_event = function (event, name) {\n",
       "    if (name === 'button_press') {\n",
       "        this.canvas.focus();\n",
       "        this.canvas_div.focus();\n",
       "    }\n",
       "\n",
       "    // from https://stackoverflow.com/q/1114465\n",
       "    var boundingRect = this.canvas.getBoundingClientRect();\n",
       "    var x = (event.clientX - boundingRect.left) * this.ratio;\n",
       "    var y = (event.clientY - boundingRect.top) * this.ratio;\n",
       "\n",
       "    this.send_message(name, {\n",
       "        x: x,\n",
       "        y: y,\n",
       "        button: event.button,\n",
       "        step: event.step,\n",
       "        modifiers: getModifiers(event),\n",
       "        guiEvent: simpleKeys(event),\n",
       "    });\n",
       "\n",
       "    return false;\n",
       "};\n",
       "\n",
       "mpl.figure.prototype._key_event_extra = function (_event, _name) {\n",
       "    // Handle any extra behaviour associated with a key event\n",
       "};\n",
       "\n",
       "mpl.figure.prototype.key_event = function (event, name) {\n",
       "    // Prevent repeat events\n",
       "    if (name === 'key_press') {\n",
       "        if (event.key === this._key) {\n",
       "            return;\n",
       "        } else {\n",
       "            this._key = event.key;\n",
       "        }\n",
       "    }\n",
       "    if (name === 'key_release') {\n",
       "        this._key = null;\n",
       "    }\n",
       "\n",
       "    var value = '';\n",
       "    if (event.ctrlKey && event.key !== 'Control') {\n",
       "        value += 'ctrl+';\n",
       "    }\n",
       "    else if (event.altKey && event.key !== 'Alt') {\n",
       "        value += 'alt+';\n",
       "    }\n",
       "    else if (event.shiftKey && event.key !== 'Shift') {\n",
       "        value += 'shift+';\n",
       "    }\n",
       "\n",
       "    value += 'k' + event.key;\n",
       "\n",
       "    this._key_event_extra(event, name);\n",
       "\n",
       "    this.send_message(name, { key: value, guiEvent: simpleKeys(event) });\n",
       "    return false;\n",
       "};\n",
       "\n",
       "mpl.figure.prototype.toolbar_button_onclick = function (name) {\n",
       "    if (name === 'download') {\n",
       "        this.handle_save(this, null);\n",
       "    } else {\n",
       "        this.send_message('toolbar_button', { name: name });\n",
       "    }\n",
       "};\n",
       "\n",
       "mpl.figure.prototype.toolbar_button_onmouseover = function (tooltip) {\n",
       "    this.message.textContent = tooltip;\n",
       "};\n",
       "\n",
       "///////////////// REMAINING CONTENT GENERATED BY embed_js.py /////////////////\n",
       "// prettier-ignore\n",
       "var _JSXTOOLS_RESIZE_OBSERVER=function(A){var t,i=new WeakMap,n=new WeakMap,a=new WeakMap,r=new WeakMap,o=new Set;function s(e){if(!(this instanceof s))throw new TypeError(\"Constructor requires 'new' operator\");i.set(this,e)}function h(){throw new TypeError(\"Function is not a constructor\")}function c(e,t,i,n){e=0 in arguments?Number(arguments[0]):0,t=1 in arguments?Number(arguments[1]):0,i=2 in arguments?Number(arguments[2]):0,n=3 in arguments?Number(arguments[3]):0,this.right=(this.x=this.left=e)+(this.width=i),this.bottom=(this.y=this.top=t)+(this.height=n),Object.freeze(this)}function d(){t=requestAnimationFrame(d);var s=new WeakMap,p=new Set;o.forEach((function(t){r.get(t).forEach((function(i){var r=t instanceof window.SVGElement,o=a.get(t),d=r?0:parseFloat(o.paddingTop),f=r?0:parseFloat(o.paddingRight),l=r?0:parseFloat(o.paddingBottom),u=r?0:parseFloat(o.paddingLeft),g=r?0:parseFloat(o.borderTopWidth),m=r?0:parseFloat(o.borderRightWidth),w=r?0:parseFloat(o.borderBottomWidth),b=u+f,F=d+l,v=(r?0:parseFloat(o.borderLeftWidth))+m,W=g+w,y=r?0:t.offsetHeight-W-t.clientHeight,E=r?0:t.offsetWidth-v-t.clientWidth,R=b+v,z=F+W,M=r?t.width:parseFloat(o.width)-R-E,O=r?t.height:parseFloat(o.height)-z-y;if(n.has(t)){var k=n.get(t);if(k[0]===M&&k[1]===O)return}n.set(t,[M,O]);var S=Object.create(h.prototype);S.target=t,S.contentRect=new c(u,d,M,O),s.has(i)||(s.set(i,[]),p.add(i)),s.get(i).push(S)}))})),p.forEach((function(e){i.get(e).call(e,s.get(e),e)}))}return s.prototype.observe=function(i){if(i instanceof window.Element){r.has(i)||(r.set(i,new Set),o.add(i),a.set(i,window.getComputedStyle(i)));var n=r.get(i);n.has(this)||n.add(this),cancelAnimationFrame(t),t=requestAnimationFrame(d)}},s.prototype.unobserve=function(i){if(i instanceof window.Element&&r.has(i)){var n=r.get(i);n.has(this)&&(n.delete(this),n.size||(r.delete(i),o.delete(i))),n.size||r.delete(i),o.size||cancelAnimationFrame(t)}},A.DOMRectReadOnly=c,A.ResizeObserver=s,A.ResizeObserverEntry=h,A}; // eslint-disable-line\n",
       "mpl.toolbar_items = [[\"Home\", \"Reset original view\", \"fa fa-home\", \"home\"], [\"Back\", \"Back to previous view\", \"fa fa-arrow-left\", \"back\"], [\"Forward\", \"Forward to next view\", \"fa fa-arrow-right\", \"forward\"], [\"\", \"\", \"\", \"\"], [\"Pan\", \"Left button pans, Right button zooms\\nx/y fixes axis, CTRL fixes aspect\", \"fa fa-arrows\", \"pan\"], [\"Zoom\", \"Zoom to rectangle\\nx/y fixes axis\", \"fa fa-square-o\", \"zoom\"], [\"\", \"\", \"\", \"\"], [\"Download\", \"Download plot\", \"fa fa-floppy-o\", \"download\"]];\n",
       "\n",
       "mpl.extensions = [\"eps\", \"jpeg\", \"pgf\", \"pdf\", \"png\", \"ps\", \"raw\", \"svg\", \"tif\", \"webp\"];\n",
       "\n",
       "mpl.default_extension = \"png\";/* global mpl */\n",
       "\n",
       "var comm_websocket_adapter = function (comm) {\n",
       "    // Create a \"websocket\"-like object which calls the given IPython comm\n",
       "    // object with the appropriate methods. Currently this is a non binary\n",
       "    // socket, so there is still some room for performance tuning.\n",
       "    var ws = {};\n",
       "\n",
       "    ws.binaryType = comm.kernel.ws.binaryType;\n",
       "    ws.readyState = comm.kernel.ws.readyState;\n",
       "    function updateReadyState(_event) {\n",
       "        if (comm.kernel.ws) {\n",
       "            ws.readyState = comm.kernel.ws.readyState;\n",
       "        } else {\n",
       "            ws.readyState = 3; // Closed state.\n",
       "        }\n",
       "    }\n",
       "    comm.kernel.ws.addEventListener('open', updateReadyState);\n",
       "    comm.kernel.ws.addEventListener('close', updateReadyState);\n",
       "    comm.kernel.ws.addEventListener('error', updateReadyState);\n",
       "\n",
       "    ws.close = function () {\n",
       "        comm.close();\n",
       "    };\n",
       "    ws.send = function (m) {\n",
       "        //console.log('sending', m);\n",
       "        comm.send(m);\n",
       "    };\n",
       "    // Register the callback with on_msg.\n",
       "    comm.on_msg(function (msg) {\n",
       "        //console.log('receiving', msg['content']['data'], msg);\n",
       "        var data = msg['content']['data'];\n",
       "        if (data['blob'] !== undefined) {\n",
       "            data = {\n",
       "                data: new Blob(msg['buffers'], { type: data['blob'] }),\n",
       "            };\n",
       "        }\n",
       "        // Pass the mpl event to the overridden (by mpl) onmessage function.\n",
       "        ws.onmessage(data);\n",
       "    });\n",
       "    return ws;\n",
       "};\n",
       "\n",
       "mpl.mpl_figure_comm = function (comm, msg) {\n",
       "    // This is the function which gets called when the mpl process\n",
       "    // starts-up an IPython Comm through the \"matplotlib\" channel.\n",
       "\n",
       "    var id = msg.content.data.id;\n",
       "    // Get hold of the div created by the display call when the Comm\n",
       "    // socket was opened in Python.\n",
       "    var element = document.getElementById(id);\n",
       "    var ws_proxy = comm_websocket_adapter(comm);\n",
       "\n",
       "    function ondownload(figure, _format) {\n",
       "        window.open(figure.canvas.toDataURL());\n",
       "    }\n",
       "\n",
       "    var fig = new mpl.figure(id, ws_proxy, ondownload, element);\n",
       "\n",
       "    // Call onopen now - mpl needs it, as it is assuming we've passed it a real\n",
       "    // web socket which is closed, not our websocket->open comm proxy.\n",
       "    ws_proxy.onopen();\n",
       "\n",
       "    fig.parent_element = element;\n",
       "    fig.cell_info = mpl.find_output_cell(\"<div id='\" + id + \"'></div>\");\n",
       "    if (!fig.cell_info) {\n",
       "        console.error('Failed to find cell for figure', id, fig);\n",
       "        return;\n",
       "    }\n",
       "    fig.cell_info[0].output_area.element.on(\n",
       "        'cleared',\n",
       "        { fig: fig },\n",
       "        fig._remove_fig_handler\n",
       "    );\n",
       "};\n",
       "\n",
       "mpl.figure.prototype.handle_close = function (fig, msg) {\n",
       "    var width = fig.canvas.width / fig.ratio;\n",
       "    fig.cell_info[0].output_area.element.off(\n",
       "        'cleared',\n",
       "        fig._remove_fig_handler\n",
       "    );\n",
       "    fig.resizeObserverInstance.unobserve(fig.canvas_div);\n",
       "\n",
       "    // Update the output cell to use the data from the current canvas.\n",
       "    fig.push_to_output();\n",
       "    var dataURL = fig.canvas.toDataURL();\n",
       "    // Re-enable the keyboard manager in IPython - without this line, in FF,\n",
       "    // the notebook keyboard shortcuts fail.\n",
       "    IPython.keyboard_manager.enable();\n",
       "    fig.parent_element.innerHTML =\n",
       "        '<img src=\"' + dataURL + '\" width=\"' + width + '\">';\n",
       "    fig.close_ws(fig, msg);\n",
       "};\n",
       "\n",
       "mpl.figure.prototype.close_ws = function (fig, msg) {\n",
       "    fig.send_message('closing', msg);\n",
       "    // fig.ws.close()\n",
       "};\n",
       "\n",
       "mpl.figure.prototype.push_to_output = function (_remove_interactive) {\n",
       "    // Turn the data on the canvas into data in the output cell.\n",
       "    var width = this.canvas.width / this.ratio;\n",
       "    var dataURL = this.canvas.toDataURL();\n",
       "    this.cell_info[1]['text/html'] =\n",
       "        '<img src=\"' + dataURL + '\" width=\"' + width + '\">';\n",
       "};\n",
       "\n",
       "mpl.figure.prototype.updated_canvas_event = function () {\n",
       "    // Tell IPython that the notebook contents must change.\n",
       "    IPython.notebook.set_dirty(true);\n",
       "    this.send_message('ack', {});\n",
       "    var fig = this;\n",
       "    // Wait a second, then push the new image to the DOM so\n",
       "    // that it is saved nicely (might be nice to debounce this).\n",
       "    setTimeout(function () {\n",
       "        fig.push_to_output();\n",
       "    }, 1000);\n",
       "};\n",
       "\n",
       "mpl.figure.prototype._init_toolbar = function () {\n",
       "    var fig = this;\n",
       "\n",
       "    var toolbar = document.createElement('div');\n",
       "    toolbar.classList = 'btn-toolbar';\n",
       "    this.root.appendChild(toolbar);\n",
       "\n",
       "    function on_click_closure(name) {\n",
       "        return function (_event) {\n",
       "            return fig.toolbar_button_onclick(name);\n",
       "        };\n",
       "    }\n",
       "\n",
       "    function on_mouseover_closure(tooltip) {\n",
       "        return function (event) {\n",
       "            if (!event.currentTarget.disabled) {\n",
       "                return fig.toolbar_button_onmouseover(tooltip);\n",
       "            }\n",
       "        };\n",
       "    }\n",
       "\n",
       "    fig.buttons = {};\n",
       "    var buttonGroup = document.createElement('div');\n",
       "    buttonGroup.classList = 'btn-group';\n",
       "    var button;\n",
       "    for (var toolbar_ind in mpl.toolbar_items) {\n",
       "        var name = mpl.toolbar_items[toolbar_ind][0];\n",
       "        var tooltip = mpl.toolbar_items[toolbar_ind][1];\n",
       "        var image = mpl.toolbar_items[toolbar_ind][2];\n",
       "        var method_name = mpl.toolbar_items[toolbar_ind][3];\n",
       "\n",
       "        if (!name) {\n",
       "            /* Instead of a spacer, we start a new button group. */\n",
       "            if (buttonGroup.hasChildNodes()) {\n",
       "                toolbar.appendChild(buttonGroup);\n",
       "            }\n",
       "            buttonGroup = document.createElement('div');\n",
       "            buttonGroup.classList = 'btn-group';\n",
       "            continue;\n",
       "        }\n",
       "\n",
       "        button = fig.buttons[name] = document.createElement('button');\n",
       "        button.classList = 'btn btn-default';\n",
       "        button.href = '#';\n",
       "        button.title = name;\n",
       "        button.innerHTML = '<i class=\"fa ' + image + ' fa-lg\"></i>';\n",
       "        button.addEventListener('click', on_click_closure(method_name));\n",
       "        button.addEventListener('mouseover', on_mouseover_closure(tooltip));\n",
       "        buttonGroup.appendChild(button);\n",
       "    }\n",
       "\n",
       "    if (buttonGroup.hasChildNodes()) {\n",
       "        toolbar.appendChild(buttonGroup);\n",
       "    }\n",
       "\n",
       "    // Add the status bar.\n",
       "    var status_bar = document.createElement('span');\n",
       "    status_bar.classList = 'mpl-message pull-right';\n",
       "    toolbar.appendChild(status_bar);\n",
       "    this.message = status_bar;\n",
       "\n",
       "    // Add the close button to the window.\n",
       "    var buttongrp = document.createElement('div');\n",
       "    buttongrp.classList = 'btn-group inline pull-right';\n",
       "    button = document.createElement('button');\n",
       "    button.classList = 'btn btn-mini btn-primary';\n",
       "    button.href = '#';\n",
       "    button.title = 'Stop Interaction';\n",
       "    button.innerHTML = '<i class=\"fa fa-power-off icon-remove icon-large\"></i>';\n",
       "    button.addEventListener('click', function (_evt) {\n",
       "        fig.handle_close(fig, {});\n",
       "    });\n",
       "    button.addEventListener(\n",
       "        'mouseover',\n",
       "        on_mouseover_closure('Stop Interaction')\n",
       "    );\n",
       "    buttongrp.appendChild(button);\n",
       "    var titlebar = this.root.querySelector('.ui-dialog-titlebar');\n",
       "    titlebar.insertBefore(buttongrp, titlebar.firstChild);\n",
       "};\n",
       "\n",
       "mpl.figure.prototype._remove_fig_handler = function (event) {\n",
       "    var fig = event.data.fig;\n",
       "    if (event.target !== this) {\n",
       "        // Ignore bubbled events from children.\n",
       "        return;\n",
       "    }\n",
       "    fig.close_ws(fig, {});\n",
       "};\n",
       "\n",
       "mpl.figure.prototype._root_extra_style = function (el) {\n",
       "    el.style.boxSizing = 'content-box'; // override notebook setting of border-box.\n",
       "};\n",
       "\n",
       "mpl.figure.prototype._canvas_extra_style = function (el) {\n",
       "    // this is important to make the div 'focusable\n",
       "    el.setAttribute('tabindex', 0);\n",
       "    // reach out to IPython and tell the keyboard manager to turn it's self\n",
       "    // off when our div gets focus\n",
       "\n",
       "    // location in version 3\n",
       "    if (IPython.notebook.keyboard_manager) {\n",
       "        IPython.notebook.keyboard_manager.register_events(el);\n",
       "    } else {\n",
       "        // location in version 2\n",
       "        IPython.keyboard_manager.register_events(el);\n",
       "    }\n",
       "};\n",
       "\n",
       "mpl.figure.prototype._key_event_extra = function (event, _name) {\n",
       "    // Check for shift+enter\n",
       "    if (event.shiftKey && event.which === 13) {\n",
       "        this.canvas_div.blur();\n",
       "        // select the cell after this one\n",
       "        var index = IPython.notebook.find_cell_index(this.cell_info[0]);\n",
       "        IPython.notebook.select(index + 1);\n",
       "    }\n",
       "};\n",
       "\n",
       "mpl.figure.prototype.handle_save = function (fig, _msg) {\n",
       "    fig.ondownload(fig, null);\n",
       "};\n",
       "\n",
       "mpl.find_output_cell = function (html_output) {\n",
       "    // Return the cell and output element which can be found *uniquely* in the notebook.\n",
       "    // Note - this is a bit hacky, but it is done because the \"notebook_saving.Notebook\"\n",
       "    // IPython event is triggered only after the cells have been serialised, which for\n",
       "    // our purposes (turning an active figure into a static one), is too late.\n",
       "    var cells = IPython.notebook.get_cells();\n",
       "    var ncells = cells.length;\n",
       "    for (var i = 0; i < ncells; i++) {\n",
       "        var cell = cells[i];\n",
       "        if (cell.cell_type === 'code') {\n",
       "            for (var j = 0; j < cell.output_area.outputs.length; j++) {\n",
       "                var data = cell.output_area.outputs[j];\n",
       "                if (data.data) {\n",
       "                    // IPython >= 3 moved mimebundle to data attribute of output\n",
       "                    data = data.data;\n",
       "                }\n",
       "                if (data['text/html'] === html_output) {\n",
       "                    return [cell, data, j];\n",
       "                }\n",
       "            }\n",
       "        }\n",
       "    }\n",
       "};\n",
       "\n",
       "// Register the function which deals with the matplotlib target/channel.\n",
       "// The kernel may be null if the page has been refreshed.\n",
       "if (IPython.notebook.kernel !== null) {\n",
       "    IPython.notebook.kernel.comm_manager.register_target(\n",
       "        'matplotlib',\n",
       "        mpl.mpl_figure_comm\n",
       "    );\n",
       "}\n"
      ],
      "text/plain": [
       "<IPython.core.display.Javascript object>"
      ]
     },
     "metadata": {},
     "output_type": "display_data"
    },
    {
     "data": {
      "text/html": [
       "<img src=\"data:image/png;base64,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\" width=\"900\">"
      ],
      "text/plain": [
       "<IPython.core.display.HTML object>"
      ]
     },
     "metadata": {},
     "output_type": "display_data"
    }
   ],
   "source": [
    "ds_mode = 'TEST'\n",
    "# list_plot_models = [ \"Model_fixed_nl\"]\n",
    "# list_plot_models = [ \"Model_fixed_1\", \"Model_fixed_2\"]\n",
    "# list_plot_models = [ \"Model_vary_1\", \"Model_vary_2\"]\n",
    "list_plot_models = [ \"Model_fixed_illustris\", \"Model_fixed_eagle\"]\n",
    "# list_plot_models = [ \"Model_vary_all\"]\n",
    "\n",
    "fig, axs = mpl.pyplot.subplots(2,1,figsize=(9,9), gridspec_kw={'height_ratios': [1.5, 1]})\n",
    "axs[0].set_ylabel(r'$P(k) \\left[ \\left(h^{-1} \\mathrm{Mpc}\\right)^{3} \\right]$')\n",
    "axs[1].set_ylabel(r'$P_{Model}(k) / P_{nl}(k)$')\n",
    "axs[1].set_xlabel(r'$\\mathrm{Wavenumber}\\, k \\left[ h\\, \\mathrm{Mpc}^{-1} \\right]$')\n",
    "axs[0].set_title(ds_mode, fontsize=22)\n",
    "\n",
    "N_plot_cosmo = 5\n",
    "indexes_cosmo = np.random.choice(XX[ds_mode][model_name].shape[0], N_plot_cosmo, replace=False)\n",
    "# print(\"indexes_cosmo\", indexes_cosmo)\n",
    "\n",
    "colors = cl_inference.plot_utils.get_N_colors(N_plot_cosmo, mpl.colormaps['prism'])\n",
    "linestyles = cl_inference.plot_utils.get_N_linestyles(len(list_plot_models))\n",
    "custom_lines_cosmo = []\n",
    "custom_names_cosmo = []\n",
    "custom_lines_augs = []\n",
    "custom_names_augs = []\n",
    "for ii_cosmo, index_cosmo in enumerate(indexes_cosmo):\n",
    "    custom_lines_cosmo.append(mpl.lines.Line2D([0], [0], color=colors[ii_cosmo], ls='-', lw=10, marker=None, markersize=8))\n",
    "    custom_names_cosmo.append('Cosmo # '+str(ii_cosmo))\n",
    "    for ii_model, model_name in enumerate(list_plot_models):\n",
    "        axs[0].plot(\n",
    "            np.array(kk), 10**XX[ds_mode][model_name][ii_cosmo,:].T,\n",
    "            c=colors[ii_cosmo], linestyle=linestyles[ii_model], lw=1, marker=None, ms=2\n",
    "        )\n",
    "        axs[1].plot(\n",
    "            np.array(kk),\n",
    "            10**(XX[ds_mode][model_name][ii_cosmo,:].T)/10**(XX[ds_mode]['Model_fixed_nl'][ii_cosmo,:].T),\n",
    "            c=colors[ii_cosmo], linestyle=linestyles[ii_model], lw=1, marker=None, ms=2\n",
    "         )\n",
    "        if ii_cosmo == 0:\n",
    "            custom_lines_augs.append(mpl.lines.Line2D([0], [0], color='grey', ls=linestyles[ii_model], lw=1, marker=None, markersize=8))\n",
    "            custom_names_augs.append('Aug - '+model_name)\n",
    "\n",
    "axs[0].axvline(10**kmax, c='k', ls=':', lw=1)\n",
    "axs[1].axvline(10**kmax, c='k', ls=':', lw=1)\n",
    "            \n",
    "axs[0].set_xscale('log')\n",
    "axs[1].set_xscale('log')\n",
    "axs[0].set_yscale('log')\n",
    "legend = axs[0].legend(custom_lines_cosmo, custom_names_cosmo, loc='lower left', fancybox=True, shadow=True, ncol=1,fontsize=16)\n",
    "axs[0].add_artist(legend)\n",
    "legend = axs[1].legend(custom_lines_augs, custom_names_augs, loc='upper left', fancybox=True, shadow=True, ncol=1,fontsize=12)\n",
    "axs[1].add_artist(legend)\n",
    "axs[0].set_xlim([0.01, 4.5])\n",
    "axs[1].set_xlim([0.01, 4.5])\n",
    "axs[0].set_ylim([40., 50000])\n",
    "axs[1].set_ylim([0.78, 1.2])\n",
    "axs[0].set_xticklabels([])\n",
    "plt.tight_layout()\n",
    "plt.show()"
   ]
  },
  {
   "cell_type": "code",
   "execution_count": null,
   "id": "08b570a5",
   "metadata": {},
   "outputs": [],
   "source": []
  }
 ],
 "metadata": {
  "kernelspec": {
   "display_name": "Python 3 (ipykernel)",
   "language": "python",
   "name": "python3"
  },
  "language_info": {
   "codemirror_mode": {
    "name": "ipython",
    "version": 3
   },
   "file_extension": ".py",
   "mimetype": "text/x-python",
   "name": "python",
   "nbconvert_exporter": "python",
   "pygments_lexer": "ipython3",
   "version": "3.9.18"
  }
 },
 "nbformat": 4,
 "nbformat_minor": 5
}
